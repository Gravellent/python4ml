{
 "cells": [
  {
   "cell_type": "markdown",
   "metadata": {},
   "source": [
    "# Attentional RNN for Sentiment Analysis\n",
    "### Then we highlight the key information with attentional mask"
   ]
  },
  {
   "cell_type": "markdown",
   "metadata": {},
   "source": [
    "Get the dataset for [IMDB comment](http://ai.stanford.edu/~amaas/data/sentiment/aclImdb_v1.tar.gz)"
   ]
  },
  {
   "cell_type": "code",
   "execution_count": 1,
   "metadata": {},
   "outputs": [],
   "source": [
    "SEQ_LEN = 300\n",
    "HIDDEN_SIZE = 50\n",
    "VOCAB_SIZE = 5000"
   ]
  },
  {
   "cell_type": "code",
   "execution_count": 2,
   "metadata": {},
   "outputs": [],
   "source": [
    "import os\n",
    "from glob import glob\n",
    "import pandas as pd\n",
    "import numpy as np"
   ]
  },
  {
   "cell_type": "code",
   "execution_count": 3,
   "metadata": {},
   "outputs": [],
   "source": [
    "train_pos = glob(\"/data/aclImdb/train/pos/*\")\n",
    "train_neg = glob(\"/data/aclImdb/train/neg/*\")\n",
    "\n",
    "test_pos = glob(\"/data/aclImdb/test/pos/*\")\n",
    "test_neg = glob(\"/data/aclImdb/test/neg/*\")"
   ]
  },
  {
   "cell_type": "code",
   "execution_count": 4,
   "metadata": {},
   "outputs": [
    {
     "name": "stdout",
     "output_type": "stream",
     "text": [
      "12500\n",
      "12500\n",
      "12500\n",
      "12500\n"
     ]
    }
   ],
   "source": [
    "print(len(train_pos))\n",
    "print(len(train_neg))\n",
    "\n",
    "print(len(test_pos))\n",
    "print(len(test_neg))"
   ]
  },
  {
   "cell_type": "code",
   "execution_count": 5,
   "metadata": {},
   "outputs": [],
   "source": [
    "def read_file(path):\n",
    "    \"\"\" a function to read the file path and return the text string contained\"\"\"\n",
    "    f = open(path,errors=\"ignore\")\n",
    "    txt = f.read()\n",
    "    f.close()\n",
    "    return txt"
   ]
  },
  {
   "cell_type": "code",
   "execution_count": 6,
   "metadata": {},
   "outputs": [],
   "source": [
    "train_df_1 = pd.DataFrame({\"path\":train_pos})\n",
    "train_df_2 = pd.DataFrame({\"path\":train_neg})\n",
    "train_df_1[\"label\"] = 1\n",
    "train_df_2[\"label\"] = 0\n",
    "train_df = pd.concat([train_df_1,train_df_2])"
   ]
  },
  {
   "cell_type": "code",
   "execution_count": 7,
   "metadata": {},
   "outputs": [],
   "source": [
    "train_df[\"text\"] = train_df.path.apply(read_file)"
   ]
  },
  {
   "cell_type": "code",
   "execution_count": 8,
   "metadata": {},
   "outputs": [
    {
     "data": {
      "text/html": [
       "<div>\n",
       "<style scoped>\n",
       "    .dataframe tbody tr th:only-of-type {\n",
       "        vertical-align: middle;\n",
       "    }\n",
       "\n",
       "    .dataframe tbody tr th {\n",
       "        vertical-align: top;\n",
       "    }\n",
       "\n",
       "    .dataframe thead th {\n",
       "        text-align: right;\n",
       "    }\n",
       "</style>\n",
       "<table border=\"1\" class=\"dataframe\">\n",
       "  <thead>\n",
       "    <tr style=\"text-align: right;\">\n",
       "      <th></th>\n",
       "      <th>path</th>\n",
       "      <th>label</th>\n",
       "      <th>text</th>\n",
       "    </tr>\n",
       "  </thead>\n",
       "  <tbody>\n",
       "    <tr>\n",
       "      <th>1597</th>\n",
       "      <td>/data/aclImdb/train/neg/11000_1.txt</td>\n",
       "      <td>0</td>\n",
       "      <td>Words cannot describe how utterly abysmal this...</td>\n",
       "    </tr>\n",
       "    <tr>\n",
       "      <th>4302</th>\n",
       "      <td>/data/aclImdb/train/neg/12141_3.txt</td>\n",
       "      <td>0</td>\n",
       "      <td>...because 99 out of 100 times, the producers ...</td>\n",
       "    </tr>\n",
       "    <tr>\n",
       "      <th>2134</th>\n",
       "      <td>/data/aclImdb/train/pos/4838_10.txt</td>\n",
       "      <td>1</td>\n",
       "      <td>This movie reminded me that some old Black &amp; W...</td>\n",
       "    </tr>\n",
       "    <tr>\n",
       "      <th>12063</th>\n",
       "      <td>/data/aclImdb/train/pos/9420_8.txt</td>\n",
       "      <td>1</td>\n",
       "      <td>The Man in the White Suit is one of those deli...</td>\n",
       "    </tr>\n",
       "    <tr>\n",
       "      <th>902</th>\n",
       "      <td>/data/aclImdb/train/neg/1183_2.txt</td>\n",
       "      <td>0</td>\n",
       "      <td>This, and Immoral Tales, both left a bad taste...</td>\n",
       "    </tr>\n",
       "    <tr>\n",
       "      <th>9545</th>\n",
       "      <td>/data/aclImdb/train/pos/9615_9.txt</td>\n",
       "      <td>1</td>\n",
       "      <td>This is a great movie! Most of us have seen Ju...</td>\n",
       "    </tr>\n",
       "    <tr>\n",
       "      <th>6913</th>\n",
       "      <td>/data/aclImdb/train/neg/2830_3.txt</td>\n",
       "      <td>0</td>\n",
       "      <td>If Ashanti had been a serious attempt at a fil...</td>\n",
       "    </tr>\n",
       "    <tr>\n",
       "      <th>3584</th>\n",
       "      <td>/data/aclImdb/train/pos/6621_8.txt</td>\n",
       "      <td>1</td>\n",
       "      <td>I just came back from a pre-release viewing of...</td>\n",
       "    </tr>\n",
       "    <tr>\n",
       "      <th>4181</th>\n",
       "      <td>/data/aclImdb/train/pos/3364_10.txt</td>\n",
       "      <td>1</td>\n",
       "      <td>I too was quite astonished to see how few peop...</td>\n",
       "    </tr>\n",
       "    <tr>\n",
       "      <th>11603</th>\n",
       "      <td>/data/aclImdb/train/neg/9076_1.txt</td>\n",
       "      <td>0</td>\n",
       "      <td>This was surely the stupidest, crudest, most r...</td>\n",
       "    </tr>\n",
       "    <tr>\n",
       "      <th>4697</th>\n",
       "      <td>/data/aclImdb/train/neg/5039_3.txt</td>\n",
       "      <td>0</td>\n",
       "      <td>Rex Reed once said of a movie (\"Julia and Juli...</td>\n",
       "    </tr>\n",
       "    <tr>\n",
       "      <th>3820</th>\n",
       "      <td>/data/aclImdb/train/neg/6334_1.txt</td>\n",
       "      <td>0</td>\n",
       "      <td>I saw this movie in 1979, I was 17 or 18, when...</td>\n",
       "    </tr>\n",
       "    <tr>\n",
       "      <th>8191</th>\n",
       "      <td>/data/aclImdb/train/neg/3466_3.txt</td>\n",
       "      <td>0</td>\n",
       "      <td>A slasher flick, made in the early 80's, has a...</td>\n",
       "    </tr>\n",
       "    <tr>\n",
       "      <th>6451</th>\n",
       "      <td>/data/aclImdb/train/pos/4378_9.txt</td>\n",
       "      <td>1</td>\n",
       "      <td>This is the moving tale of Scotland's legendar...</td>\n",
       "    </tr>\n",
       "    <tr>\n",
       "      <th>9380</th>\n",
       "      <td>/data/aclImdb/train/pos/8289_8.txt</td>\n",
       "      <td>1</td>\n",
       "      <td>Pleasant, diverting and charming. The best par...</td>\n",
       "    </tr>\n",
       "    <tr>\n",
       "      <th>5101</th>\n",
       "      <td>/data/aclImdb/train/pos/293_7.txt</td>\n",
       "      <td>1</td>\n",
       "      <td>What could be more schlocky than the idea of p...</td>\n",
       "    </tr>\n",
       "    <tr>\n",
       "      <th>9750</th>\n",
       "      <td>/data/aclImdb/train/neg/3409_1.txt</td>\n",
       "      <td>0</td>\n",
       "      <td>Rumor has it that when the NASA Technical Advi...</td>\n",
       "    </tr>\n",
       "    <tr>\n",
       "      <th>6887</th>\n",
       "      <td>/data/aclImdb/train/pos/10243_10.txt</td>\n",
       "      <td>1</td>\n",
       "      <td>its great i loved it ha cause i love dinosaurs...</td>\n",
       "    </tr>\n",
       "    <tr>\n",
       "      <th>1056</th>\n",
       "      <td>/data/aclImdb/train/pos/1551_8.txt</td>\n",
       "      <td>1</td>\n",
       "      <td>It seems more than passing strange that such u...</td>\n",
       "    </tr>\n",
       "    <tr>\n",
       "      <th>5552</th>\n",
       "      <td>/data/aclImdb/train/neg/2865_1.txt</td>\n",
       "      <td>0</td>\n",
       "      <td>Generally I don't do minus's and if this site ...</td>\n",
       "    </tr>\n",
       "  </tbody>\n",
       "</table>\n",
       "</div>"
      ],
      "text/plain": [
       "                                       path  label  \\\n",
       "1597    /data/aclImdb/train/neg/11000_1.txt      0   \n",
       "4302    /data/aclImdb/train/neg/12141_3.txt      0   \n",
       "2134    /data/aclImdb/train/pos/4838_10.txt      1   \n",
       "12063    /data/aclImdb/train/pos/9420_8.txt      1   \n",
       "902      /data/aclImdb/train/neg/1183_2.txt      0   \n",
       "9545     /data/aclImdb/train/pos/9615_9.txt      1   \n",
       "6913     /data/aclImdb/train/neg/2830_3.txt      0   \n",
       "3584     /data/aclImdb/train/pos/6621_8.txt      1   \n",
       "4181    /data/aclImdb/train/pos/3364_10.txt      1   \n",
       "11603    /data/aclImdb/train/neg/9076_1.txt      0   \n",
       "4697     /data/aclImdb/train/neg/5039_3.txt      0   \n",
       "3820     /data/aclImdb/train/neg/6334_1.txt      0   \n",
       "8191     /data/aclImdb/train/neg/3466_3.txt      0   \n",
       "6451     /data/aclImdb/train/pos/4378_9.txt      1   \n",
       "9380     /data/aclImdb/train/pos/8289_8.txt      1   \n",
       "5101      /data/aclImdb/train/pos/293_7.txt      1   \n",
       "9750     /data/aclImdb/train/neg/3409_1.txt      0   \n",
       "6887   /data/aclImdb/train/pos/10243_10.txt      1   \n",
       "1056     /data/aclImdb/train/pos/1551_8.txt      1   \n",
       "5552     /data/aclImdb/train/neg/2865_1.txt      0   \n",
       "\n",
       "                                                    text  \n",
       "1597   Words cannot describe how utterly abysmal this...  \n",
       "4302   ...because 99 out of 100 times, the producers ...  \n",
       "2134   This movie reminded me that some old Black & W...  \n",
       "12063  The Man in the White Suit is one of those deli...  \n",
       "902    This, and Immoral Tales, both left a bad taste...  \n",
       "9545   This is a great movie! Most of us have seen Ju...  \n",
       "6913   If Ashanti had been a serious attempt at a fil...  \n",
       "3584   I just came back from a pre-release viewing of...  \n",
       "4181   I too was quite astonished to see how few peop...  \n",
       "11603  This was surely the stupidest, crudest, most r...  \n",
       "4697   Rex Reed once said of a movie (\"Julia and Juli...  \n",
       "3820   I saw this movie in 1979, I was 17 or 18, when...  \n",
       "8191   A slasher flick, made in the early 80's, has a...  \n",
       "6451   This is the moving tale of Scotland's legendar...  \n",
       "9380   Pleasant, diverting and charming. The best par...  \n",
       "5101   What could be more schlocky than the idea of p...  \n",
       "9750   Rumor has it that when the NASA Technical Advi...  \n",
       "6887   its great i loved it ha cause i love dinosaurs...  \n",
       "1056   It seems more than passing strange that such u...  \n",
       "5552   Generally I don't do minus's and if this site ...  "
      ]
     },
     "execution_count": 8,
     "metadata": {},
     "output_type": "execute_result"
    }
   ],
   "source": [
    "train_df.sample(20)"
   ]
  },
  {
   "cell_type": "code",
   "execution_count": 9,
   "metadata": {},
   "outputs": [],
   "source": [
    "test_df_1 = pd.DataFrame({\"path\":test_pos})\n",
    "test_df_2 = pd.DataFrame({\"path\":test_neg})\n",
    "test_df_1[\"label\"] = 1\n",
    "test_df_2[\"label\"] = 0\n",
    "test_df = pd.concat([test_df_1,test_df_2])"
   ]
  },
  {
   "cell_type": "code",
   "execution_count": 10,
   "metadata": {},
   "outputs": [],
   "source": [
    "test_df[\"text\"] = test_df.path.apply(read_file)"
   ]
  },
  {
   "cell_type": "code",
   "execution_count": 11,
   "metadata": {},
   "outputs": [
    {
     "data": {
      "text/html": [
       "<div>\n",
       "<style scoped>\n",
       "    .dataframe tbody tr th:only-of-type {\n",
       "        vertical-align: middle;\n",
       "    }\n",
       "\n",
       "    .dataframe tbody tr th {\n",
       "        vertical-align: top;\n",
       "    }\n",
       "\n",
       "    .dataframe thead th {\n",
       "        text-align: right;\n",
       "    }\n",
       "</style>\n",
       "<table border=\"1\" class=\"dataframe\">\n",
       "  <thead>\n",
       "    <tr style=\"text-align: right;\">\n",
       "      <th></th>\n",
       "      <th>path</th>\n",
       "      <th>label</th>\n",
       "      <th>text</th>\n",
       "    </tr>\n",
       "  </thead>\n",
       "  <tbody>\n",
       "    <tr>\n",
       "      <th>9854</th>\n",
       "      <td>/data/aclImdb/test/neg/6803_1.txt</td>\n",
       "      <td>0</td>\n",
       "      <td>What were they thinking when they made this tr...</td>\n",
       "    </tr>\n",
       "    <tr>\n",
       "      <th>9851</th>\n",
       "      <td>/data/aclImdb/test/pos/7891_10.txt</td>\n",
       "      <td>1</td>\n",
       "      <td>I finally have seen the real reason why Peter ...</td>\n",
       "    </tr>\n",
       "    <tr>\n",
       "      <th>6859</th>\n",
       "      <td>/data/aclImdb/test/pos/7050_8.txt</td>\n",
       "      <td>1</td>\n",
       "      <td>Luckily for Bill Murray this is such a light-w...</td>\n",
       "    </tr>\n",
       "    <tr>\n",
       "      <th>3880</th>\n",
       "      <td>/data/aclImdb/test/pos/5596_9.txt</td>\n",
       "      <td>1</td>\n",
       "      <td>Race Against Fear has to be one of the most mo...</td>\n",
       "    </tr>\n",
       "    <tr>\n",
       "      <th>3579</th>\n",
       "      <td>/data/aclImdb/test/pos/3701_10.txt</td>\n",
       "      <td>1</td>\n",
       "      <td>It's 3:30am.&lt;br /&gt;&lt;br /&gt;I just saw this movie ...</td>\n",
       "    </tr>\n",
       "    <tr>\n",
       "      <th>10171</th>\n",
       "      <td>/data/aclImdb/test/pos/5278_8.txt</td>\n",
       "      <td>1</td>\n",
       "      <td>Rendered in beautiful water colors, Ponyo At T...</td>\n",
       "    </tr>\n",
       "    <tr>\n",
       "      <th>299</th>\n",
       "      <td>/data/aclImdb/test/neg/7919_2.txt</td>\n",
       "      <td>0</td>\n",
       "      <td>I think that this is a disappointing sequel. I...</td>\n",
       "    </tr>\n",
       "    <tr>\n",
       "      <th>599</th>\n",
       "      <td>/data/aclImdb/test/neg/3327_1.txt</td>\n",
       "      <td>0</td>\n",
       "      <td>My daughter liked it but I was aghast, that a ...</td>\n",
       "    </tr>\n",
       "    <tr>\n",
       "      <th>2423</th>\n",
       "      <td>/data/aclImdb/test/neg/3375_3.txt</td>\n",
       "      <td>0</td>\n",
       "      <td>Yes, in this movie you are treated to multiple...</td>\n",
       "    </tr>\n",
       "    <tr>\n",
       "      <th>3630</th>\n",
       "      <td>/data/aclImdb/test/pos/7100_7.txt</td>\n",
       "      <td>1</td>\n",
       "      <td>This film marked the end of the \"serious\" Univ...</td>\n",
       "    </tr>\n",
       "    <tr>\n",
       "      <th>12353</th>\n",
       "      <td>/data/aclImdb/test/neg/322_1.txt</td>\n",
       "      <td>0</td>\n",
       "      <td>Wow! What a movie if you want to blow your bud...</td>\n",
       "    </tr>\n",
       "    <tr>\n",
       "      <th>4164</th>\n",
       "      <td>/data/aclImdb/test/neg/5327_1.txt</td>\n",
       "      <td>0</td>\n",
       "      <td>I thought I had seen this film before as the p...</td>\n",
       "    </tr>\n",
       "    <tr>\n",
       "      <th>11019</th>\n",
       "      <td>/data/aclImdb/test/pos/2550_10.txt</td>\n",
       "      <td>1</td>\n",
       "      <td>For the very reason that I love movies such as...</td>\n",
       "    </tr>\n",
       "    <tr>\n",
       "      <th>461</th>\n",
       "      <td>/data/aclImdb/test/neg/132_1.txt</td>\n",
       "      <td>0</td>\n",
       "      <td>Let me first start out by saying 1 out of 10 i...</td>\n",
       "    </tr>\n",
       "    <tr>\n",
       "      <th>1961</th>\n",
       "      <td>/data/aclImdb/test/pos/9385_10.txt</td>\n",
       "      <td>1</td>\n",
       "      <td>This is seriously one of the best low budget, ...</td>\n",
       "    </tr>\n",
       "    <tr>\n",
       "      <th>6797</th>\n",
       "      <td>/data/aclImdb/test/pos/2749_8.txt</td>\n",
       "      <td>1</td>\n",
       "      <td>Central Airport is the story of a pilot named ...</td>\n",
       "    </tr>\n",
       "    <tr>\n",
       "      <th>8552</th>\n",
       "      <td>/data/aclImdb/test/pos/9735_7.txt</td>\n",
       "      <td>1</td>\n",
       "      <td>I don't understand all these bad reviews. I be...</td>\n",
       "    </tr>\n",
       "    <tr>\n",
       "      <th>9264</th>\n",
       "      <td>/data/aclImdb/test/neg/6425_1.txt</td>\n",
       "      <td>0</td>\n",
       "      <td>Bad plot, bad acting, bad direction.&lt;br /&gt;&lt;br ...</td>\n",
       "    </tr>\n",
       "    <tr>\n",
       "      <th>8900</th>\n",
       "      <td>/data/aclImdb/test/pos/10728_8.txt</td>\n",
       "      <td>1</td>\n",
       "      <td>I thought this film was quite good and quite e...</td>\n",
       "    </tr>\n",
       "    <tr>\n",
       "      <th>833</th>\n",
       "      <td>/data/aclImdb/test/pos/7207_9.txt</td>\n",
       "      <td>1</td>\n",
       "      <td>For those not in the know, the Asterix books a...</td>\n",
       "    </tr>\n",
       "  </tbody>\n",
       "</table>\n",
       "</div>"
      ],
      "text/plain": [
       "                                     path  label  \\\n",
       "9854    /data/aclImdb/test/neg/6803_1.txt      0   \n",
       "9851   /data/aclImdb/test/pos/7891_10.txt      1   \n",
       "6859    /data/aclImdb/test/pos/7050_8.txt      1   \n",
       "3880    /data/aclImdb/test/pos/5596_9.txt      1   \n",
       "3579   /data/aclImdb/test/pos/3701_10.txt      1   \n",
       "10171   /data/aclImdb/test/pos/5278_8.txt      1   \n",
       "299     /data/aclImdb/test/neg/7919_2.txt      0   \n",
       "599     /data/aclImdb/test/neg/3327_1.txt      0   \n",
       "2423    /data/aclImdb/test/neg/3375_3.txt      0   \n",
       "3630    /data/aclImdb/test/pos/7100_7.txt      1   \n",
       "12353    /data/aclImdb/test/neg/322_1.txt      0   \n",
       "4164    /data/aclImdb/test/neg/5327_1.txt      0   \n",
       "11019  /data/aclImdb/test/pos/2550_10.txt      1   \n",
       "461      /data/aclImdb/test/neg/132_1.txt      0   \n",
       "1961   /data/aclImdb/test/pos/9385_10.txt      1   \n",
       "6797    /data/aclImdb/test/pos/2749_8.txt      1   \n",
       "8552    /data/aclImdb/test/pos/9735_7.txt      1   \n",
       "9264    /data/aclImdb/test/neg/6425_1.txt      0   \n",
       "8900   /data/aclImdb/test/pos/10728_8.txt      1   \n",
       "833     /data/aclImdb/test/pos/7207_9.txt      1   \n",
       "\n",
       "                                                    text  \n",
       "9854   What were they thinking when they made this tr...  \n",
       "9851   I finally have seen the real reason why Peter ...  \n",
       "6859   Luckily for Bill Murray this is such a light-w...  \n",
       "3880   Race Against Fear has to be one of the most mo...  \n",
       "3579   It's 3:30am.<br /><br />I just saw this movie ...  \n",
       "10171  Rendered in beautiful water colors, Ponyo At T...  \n",
       "299    I think that this is a disappointing sequel. I...  \n",
       "599    My daughter liked it but I was aghast, that a ...  \n",
       "2423   Yes, in this movie you are treated to multiple...  \n",
       "3630   This film marked the end of the \"serious\" Univ...  \n",
       "12353  Wow! What a movie if you want to blow your bud...  \n",
       "4164   I thought I had seen this film before as the p...  \n",
       "11019  For the very reason that I love movies such as...  \n",
       "461    Let me first start out by saying 1 out of 10 i...  \n",
       "1961   This is seriously one of the best low budget, ...  \n",
       "6797   Central Airport is the story of a pilot named ...  \n",
       "8552   I don't understand all these bad reviews. I be...  \n",
       "9264   Bad plot, bad acting, bad direction.<br /><br ...  \n",
       "8900   I thought this film was quite good and quite e...  \n",
       "833    For those not in the know, the Asterix books a...  "
      ]
     },
     "execution_count": 11,
     "metadata": {},
     "output_type": "execute_result"
    }
   ],
   "source": [
    "test_df.sample(20)"
   ]
  },
  {
   "cell_type": "markdown",
   "metadata": {},
   "source": [
    "Shuffle the data"
   ]
  },
  {
   "cell_type": "code",
   "execution_count": 12,
   "metadata": {},
   "outputs": [],
   "source": [
    "train_df = train_df.sample(frac = 1.).reset_index()\n",
    "test_df = test_df.sample(frac = 1.).reset_index()"
   ]
  },
  {
   "cell_type": "markdown",
   "metadata": {},
   "source": [
    "### Data Batchly Feeder"
   ]
  },
  {
   "cell_type": "code",
   "execution_count": 13,
   "metadata": {},
   "outputs": [],
   "source": [
    "import torch\n",
    "from torch import nn\n",
    "from torch.utils.data import Dataset,DataLoader"
   ]
  },
  {
   "cell_type": "code",
   "execution_count": 14,
   "metadata": {},
   "outputs": [
    {
     "data": {
      "text/plain": [
       "True"
      ]
     },
     "execution_count": 14,
     "metadata": {},
     "output_type": "execute_result"
    }
   ],
   "source": [
    "CUDA = torch.cuda.is_available()\n",
    "CUDA"
   ]
  },
  {
   "cell_type": "code",
   "execution_count": 15,
   "metadata": {},
   "outputs": [
    {
     "name": "stderr",
     "output_type": "stream",
     "text": [
      "/home/paperspace/anaconda3/envs/fastai/lib/python3.6/site-packages/h5py/__init__.py:36: FutureWarning: Conversion of the second argument of issubdtype from `float` to `np.floating` is deprecated. In future, it will be treated as `np.float64 == np.dtype(float).type`.\n",
      "  from ._conv import register_converters as _register_converters\n",
      "Using Theano backend.\n",
      "WARNING (theano.configdefaults): install mkl with `conda install mkl-service`: No module named 'mkl'\n",
      "WARNING (theano.tensor.blas): Using NumPy C-API based implementation for BLAS functions.\n"
     ]
    }
   ],
   "source": [
    "from keras.preprocessing.sequence import pad_sequences"
   ]
  },
  {
   "cell_type": "code",
   "execution_count": 16,
   "metadata": {},
   "outputs": [],
   "source": [
    "from collections import Counter\n",
    "class seq_data(Dataset):\n",
    "    def __init__(self,df, vocab_path, seq_addr, vocab_size, build_vocab = False,):\n",
    "        \"\"\"\n",
    "        vocab_in,vocab_out are csv file addresses\n",
    "        \"\"\"\n",
    "        self.df = df\n",
    "        self.vocab_path = vocab_path\n",
    "        self.seq_addr = seq_addr\n",
    "        self.vocab_size = vocab_size\n",
    "        \n",
    "        print(\"[Loading the sequence data]\")\n",
    "        \n",
    "        self.seq = list(df[\"text\"])\n",
    "        \n",
    "        self.N = len(self.seq)\n",
    "        print(\"Length of sequence:\\t\",self.N)\n",
    "        \n",
    "        if build_vocab:\n",
    "            self.vocab = self.build_vocab(self.seq)\n",
    "            self.vocab.to_csv(self.vocab_path, index = False)\n",
    "        else:\n",
    "            self.vocab = pd.read_csv(self.vocab_path).fillna(\"\")\n",
    "            \n",
    "        self.print_vocab_info()\n",
    "        \n",
    "        print(\"building mapping dicts\")\n",
    "        self.char2idx,self.idx2char = self.get_mapping(self.vocab)\n",
    "        \n",
    "    def __len__(self):\n",
    "        return self.N\n",
    "    \n",
    "    def __getitem__(self,idx):\n",
    "        return self.seq2idx(self.seq[idx],self.mapfunc),idx\n",
    "    \n",
    "    def get_full_token(self,list_of_tokens):\n",
    "        \"\"\"\n",
    "        From a list of list of tokens, to a long list of tokens, duplicate tokens included\n",
    "        \"\"\"\n",
    "        return (\" \".join(list_of_tokens)).split(\" \")\n",
    "    \n",
    "    def get_mapping(self,vocab_df):\n",
    "        char2idx=dict(zip(vocab_df[\"token\"],vocab_df[\"idx\"]))\n",
    "        idx2char=dict(zip(vocab_df[\"idx\"],vocab_df[\"token\"]))\n",
    "        return char2idx,idx2char\n",
    "    \n",
    "    def seq2idx(self,x,mapfunc):\n",
    "        return np.vectorize(mapfunc)(x.split(\" \")).tolist()\n",
    "    \n",
    "    def mapfunc(self,x):\n",
    "        try:\n",
    "            return self.char2idx[x]\n",
    "        except:\n",
    "            return 1\n",
    "        \n",
    "    def get_token_count_dict(self,full_token):\n",
    "        \"\"\"count the token to a list\"\"\"\n",
    "        return Counter(full_token)\n",
    "    \n",
    "    def build_vocab(self,seq_list):\n",
    "        ct_dict = self.get_token_count_dict(self.get_full_token(seq_list))\n",
    "        ct_dict[\"SOS_TOKEN\"] = 9e9\n",
    "        ct_dict[\"EOS_TOKEN\"] = 8e9\n",
    "        ct_dict[\" \"] = 7e9\n",
    "        tk,ct = list(ct_dict.keys()),list(ct_dict.values())\n",
    "        \n",
    "        token_df=pd.DataFrame({\"token\":tk,\"count\":ct}).sort_values(by=\"count\",ascending=False)\n",
    "        return token_df.reset_index().drop(\"index\",axis=1).reset_index().rename(columns={\"index\":\"idx\"}).fillna(\"\")[:self.vocab_size]\n",
    "    \n",
    "    def print_vocab_info(self):\n",
    "        self.vocab_size = len(self.vocab)\n",
    "        \n",
    "        print(\"[seq vocab]: %s,\\t%s total lines\"%(self.vocab,self.vocab_size))\n",
    "            \n",
    "        print(\"Sequence vocab samples:\")\n",
    "        print(self.vocab.sample(5))\n",
    "\n",
    "# We have to self difine a collate function\n",
    "# becuz we take the longest sequence lengnth with in a batch as the seq length for the entire batch\n",
    "def pad_collate(batch):\n",
    "    nlp,label_idx = zip(*batch)\n",
    "    nlp_arr = pad_sequences(nlp, maxlen = SEQ_LEN,padding=\"post\",)\n",
    "    \n",
    "    return torch.LongTensor(nlp_arr),torch.FloatTensor(label_arr[np.array(label_idx)])\n",
    "\n",
    "def pad_collate_valid(batch):\n",
    "    nlp,label_idx = zip(*batch)\n",
    "    nlp_arr = pad_sequences(nlp, maxlen = SEQ_LEN,padding=\"post\",)\n",
    "    \n",
    "    return torch.LongTensor(nlp_arr),torch.FloatTensor(label_arr_valid[np.array(label_idx)])"
   ]
  },
  {
   "cell_type": "markdown",
   "metadata": {},
   "source": [
    "### Prepare the dataset, setting up the mapping dictionary,  save the vocabulary..."
   ]
  },
  {
   "cell_type": "code",
   "execution_count": 17,
   "metadata": {},
   "outputs": [
    {
     "name": "stdout",
     "output_type": "stream",
     "text": [
      "[Loading the sequence data]\n",
      "Length of sequence:\t 25000\n",
      "[seq vocab]:        idx         count        token\n",
      "0        0  9.000000e+09    SOS_TOKEN\n",
      "1        1  8.000000e+09    EOS_TOKEN\n",
      "2        2  7.000000e+09             \n",
      "3        3  2.870290e+05          the\n",
      "4        4  1.550960e+05            a\n",
      "5        5  1.526530e+05          and\n",
      "6        6  1.429710e+05           of\n",
      "7        7  1.325680e+05           to\n",
      "8        8  1.032280e+05           is\n",
      "9        9  8.557600e+04           in\n",
      "10      10  6.597200e+04            I\n",
      "11      11  6.455800e+04         that\n",
      "12      12  5.719800e+04         this\n",
      "13      13  5.443200e+04           it\n",
      "14      14  5.093500e+04        /><br\n",
      "15      15  4.669700e+04          was\n",
      "16      16  4.251000e+04           as\n",
      "17      17  4.172000e+04         with\n",
      "18      18  4.106800e+04          for\n",
      "19      19  3.378400e+04          but\n",
      "20      20  3.376200e+04          The\n",
      "21      21  3.076600e+04           on\n",
      "22      22  3.050400e+04        movie\n",
      "23      23  2.849800e+04          are\n",
      "24      24  2.768700e+04          his\n",
      "25      25  2.740100e+04         film\n",
      "26      26  2.712500e+04         have\n",
      "27      27  2.626100e+04          not\n",
      "28      28  2.551200e+04           be\n",
      "29      29  2.511700e+04          you\n",
      "...    ...           ...          ...\n",
      "4970  4970  8.600000e+01    sexuality\n",
      "4971  4971  8.600000e+01        India\n",
      "4972  4972  8.600000e+01          bag\n",
      "4973  4973  8.600000e+01        vivid\n",
      "4974  4974  8.600000e+01   Throughout\n",
      "4975  4975  8.600000e+01        next.\n",
      "4976  4976  8.600000e+01        less.\n",
      "4977  4977  8.600000e+01       weapon\n",
      "4978  4978  8.600000e+01       taught\n",
      "4979  4979  8.600000e+01     timeless\n",
      "4980  4980  8.600000e+01    alongside\n",
      "4981  4981  8.600000e+01    costumes,\n",
      "4982  4982  8.600000e+01      liberal\n",
      "4983  4983  8.600000e+01      Matthew\n",
      "4984  4984  8.600000e+01     cheating\n",
      "4985  4985  8.600000e+01       admit,\n",
      "4986  4986  8.600000e+01  potentially\n",
      "4987  4987  8.600000e+01         thru\n",
      "4988  4988  8.600000e+01   brilliance\n",
      "4989  4989  8.600000e+01          ABC\n",
      "4990  4990  8.600000e+01         far.\n",
      "4991  4991  8.600000e+01       agrees\n",
      "4992  4992  8.600000e+01       Except\n",
      "4993  4993  8.600000e+01         1/10\n",
      "4994  4994  8.600000e+01     secretly\n",
      "4995  4995  8.600000e+01        bears\n",
      "4996  4996  8.600000e+01       earned\n",
      "4997  4997  8.600000e+01        trite\n",
      "4998  4998  8.600000e+01        react\n",
      "4999  4999  8.600000e+01       stunts\n",
      "\n",
      "[5000 rows x 3 columns],\t5000 total lines\n",
      "Sequence vocab samples:\n",
      "       idx  count         token\n",
      "2659  2659  178.0        source\n",
      "2569  2569  184.0          are.\n",
      "4667  4667   93.0  photographed\n",
      "1677  1677  296.0       family.\n",
      "3140  3140  146.0        adding\n",
      "building mapping dicts\n"
     ]
    }
   ],
   "source": [
    "train_ds = seq_data(train_df,\n",
    "              \"/data/review_vocab.csv\",\n",
    "              \"/data/review_seq_0.0.1.npy\",\n",
    "              5000,\n",
    "              build_vocab=True)"
   ]
  },
  {
   "cell_type": "code",
   "execution_count": 18,
   "metadata": {},
   "outputs": [
    {
     "name": "stdout",
     "output_type": "stream",
     "text": [
      "[Loading the sequence data]\n",
      "Length of sequence:\t 25000\n",
      "[seq vocab]:        idx         count        token\n",
      "0        0  9.000000e+09    SOS_TOKEN\n",
      "1        1  8.000000e+09    EOS_TOKEN\n",
      "2        2  7.000000e+09             \n",
      "3        3  2.870290e+05          the\n",
      "4        4  1.550960e+05            a\n",
      "5        5  1.526530e+05          and\n",
      "6        6  1.429710e+05           of\n",
      "7        7  1.325680e+05           to\n",
      "8        8  1.032280e+05           is\n",
      "9        9  8.557600e+04           in\n",
      "10      10  6.597200e+04            I\n",
      "11      11  6.455800e+04         that\n",
      "12      12  5.719800e+04         this\n",
      "13      13  5.443200e+04           it\n",
      "14      14  5.093500e+04        /><br\n",
      "15      15  4.669700e+04          was\n",
      "16      16  4.251000e+04           as\n",
      "17      17  4.172000e+04         with\n",
      "18      18  4.106800e+04          for\n",
      "19      19  3.378400e+04          but\n",
      "20      20  3.376200e+04          The\n",
      "21      21  3.076600e+04           on\n",
      "22      22  3.050400e+04        movie\n",
      "23      23  2.849800e+04          are\n",
      "24      24  2.768700e+04          his\n",
      "25      25  2.740100e+04         film\n",
      "26      26  2.712500e+04         have\n",
      "27      27  2.626100e+04          not\n",
      "28      28  2.551200e+04           be\n",
      "29      29  2.511700e+04          you\n",
      "...    ...           ...          ...\n",
      "4970  4970  8.600000e+01    sexuality\n",
      "4971  4971  8.600000e+01        India\n",
      "4972  4972  8.600000e+01          bag\n",
      "4973  4973  8.600000e+01        vivid\n",
      "4974  4974  8.600000e+01   Throughout\n",
      "4975  4975  8.600000e+01        next.\n",
      "4976  4976  8.600000e+01        less.\n",
      "4977  4977  8.600000e+01       weapon\n",
      "4978  4978  8.600000e+01       taught\n",
      "4979  4979  8.600000e+01     timeless\n",
      "4980  4980  8.600000e+01    alongside\n",
      "4981  4981  8.600000e+01    costumes,\n",
      "4982  4982  8.600000e+01      liberal\n",
      "4983  4983  8.600000e+01      Matthew\n",
      "4984  4984  8.600000e+01     cheating\n",
      "4985  4985  8.600000e+01       admit,\n",
      "4986  4986  8.600000e+01  potentially\n",
      "4987  4987  8.600000e+01         thru\n",
      "4988  4988  8.600000e+01   brilliance\n",
      "4989  4989  8.600000e+01          ABC\n",
      "4990  4990  8.600000e+01         far.\n",
      "4991  4991  8.600000e+01       agrees\n",
      "4992  4992  8.600000e+01       Except\n",
      "4993  4993  8.600000e+01         1/10\n",
      "4994  4994  8.600000e+01     secretly\n",
      "4995  4995  8.600000e+01        bears\n",
      "4996  4996  8.600000e+01       earned\n",
      "4997  4997  8.600000e+01        trite\n",
      "4998  4998  8.600000e+01        react\n",
      "4999  4999  8.600000e+01       stunts\n",
      "\n",
      "[5000 rows x 3 columns],\t5000 total lines\n",
      "Sequence vocab samples:\n",
      "       idx  count     token\n",
      "2442  2442  195.0     Jones\n",
      "3036  3036  153.0     floor\n",
      "2783  2783  169.0  baseball\n",
      "4702  4702   92.0    notion\n",
      "4703  4703   92.0    School\n",
      "building mapping dicts\n"
     ]
    }
   ],
   "source": [
    "\n",
    "valid_ds = seq_data(test_df,\n",
    "              \"/data/review_vocab.csv\",\n",
    "              \"/data/review_seq_0.0.2.npy\",\n",
    "              5000,\n",
    "              build_vocab=False)"
   ]
  },
  {
   "cell_type": "code",
   "execution_count": 19,
   "metadata": {},
   "outputs": [],
   "source": [
    "label_arr = train_df[\"label\"].as_matrix().reshape(-1,1)\n",
    "label_arr_valid = test_df[\"label\"].as_matrix().reshape(-1,1)"
   ]
  },
  {
   "cell_type": "code",
   "execution_count": 20,
   "metadata": {},
   "outputs": [],
   "source": [
    "dl = DataLoader(train_ds, batch_size=4, shuffle = True,collate_fn=pad_collate)\n",
    "gen = iter(dl)\n",
    "test_nlp, test_y = next(gen)"
   ]
  },
  {
   "cell_type": "code",
   "execution_count": 21,
   "metadata": {},
   "outputs": [
    {
     "data": {
      "text/plain": [
       "(torch.Size([4, 300]), torch.Size([4, 1]))"
      ]
     },
     "execution_count": 21,
     "metadata": {},
     "output_type": "execute_result"
    }
   ],
   "source": [
    "test_nlp.size(), test_y.size()"
   ]
  },
  {
   "cell_type": "markdown",
   "metadata": {},
   "source": [
    "## Model"
   ]
  },
  {
   "cell_type": "code",
   "execution_count": 22,
   "metadata": {},
   "outputs": [],
   "source": [
    "from torch.nn import functional as F"
   ]
  },
  {
   "cell_type": "code",
   "execution_count": 23,
   "metadata": {},
   "outputs": [],
   "source": [
    "class attn_lstm(nn.Module):\n",
    "    def __init__(self,seq_len,vocab_size,hidden_size,num_layers = 1):\n",
    "        \"\"\"\n",
    "        seq_len: sequence length\n",
    "        \"\"\"\n",
    "        super(attn_lstm,self).__init__()\n",
    "        self.hidden_size = hidden_size\n",
    "        self.num_layers = num_layers\n",
    "        self.emb = nn.Embedding(vocab_size,hidden_size,)\n",
    "        self.lstm = nn.LSTM(hidden_size,hidden_size,batch_first = True,num_layers = num_layers)\n",
    "        self.attn = nn.Linear(hidden_size,1,bias = False)\n",
    "        \n",
    "    def forward(self,x_input):\n",
    "        embedded = self.emb(x_input)\n",
    "        attn_mask = self.attn(embedded)\n",
    "        output,(h,c) = self.lstm(embedded)\n",
    "        output = output.permute(0,2,1)\n",
    "        output_hidden = output.bmm(attn_mask).squeeze(-1)\n",
    "        return output_hidden, attn_mask\n",
    "        "
   ]
  },
  {
   "cell_type": "code",
   "execution_count": 24,
   "metadata": {},
   "outputs": [],
   "source": [
    "class attn_net(nn.Module):\n",
    "    def __init__(self, seq_len = SEQ_LEN, hidden_size = HIDDEN_SIZE, vocab_size = VOCAB_SIZE):\n",
    "        super(attn_net,self).__init__()\n",
    "        self.attn_lstm = attn_lstm(seq_len, vocab_size, hidden_size)\n",
    "        self.mlp = nn.Sequential(*[\n",
    "            nn.Dropout(.2),\n",
    "            nn.Linear(hidden_size, 256,bias = False),\n",
    "            nn.BatchNorm1d(256),\n",
    "            nn.ReLU(),\n",
    "            nn.Linear(256,1,bias = False)\n",
    "        ])\n",
    "    \n",
    "    def forward(self, x):\n",
    "        output, attn_mask = self.attn_lstm(x)\n",
    "        return self.mlp(output),attn_mask\n",
    "        "
   ]
  },
  {
   "cell_type": "code",
   "execution_count": 25,
   "metadata": {},
   "outputs": [],
   "source": [
    "def accuracy(y_pred, y_true):\n",
    "    return (y_pred>.5).long().eq(y_true.long()).float().mean()"
   ]
  },
  {
   "cell_type": "code",
   "execution_count": 26,
   "metadata": {},
   "outputs": [],
   "source": [
    "def action(*args, **kwargs):\n",
    "    x, y = args[0]\n",
    "    if CUDA:\n",
    "        x,y = x.cuda(),y.cuda()\n",
    "    opt.zero_grad()\n",
    "    y_,attn_mask = attn_model(x)\n",
    "    loss = loss_func(y_,y)\n",
    "    acc = accuracy(y_,y)\n",
    "    loss.backward()\n",
    "    \n",
    "    opt.step()\n",
    "    if kwargs[\"ite\"] == 10:\n",
    "        torch.save(attn_model.state_dict(),\"/data/review_nlp_analysis_0.0.1.npy\")\n",
    "    return {\"loss\":loss.item(),\"acc\":acc.item()}\n",
    "\n",
    "def val_action(*args, **kwargs):\n",
    "    x, y = args[0]\n",
    "    if CUDA:\n",
    "        x,y = x.cuda(),y.cuda()\n",
    "    y_,attn_mask = attn_model(x)\n",
    "    loss = loss_func(y_,y)\n",
    "    acc = accuracy(y_,y)\n",
    "    return {\"loss\":loss.item(),\"acc\":acc.item()}"
   ]
  },
  {
   "cell_type": "code",
   "execution_count": 27,
   "metadata": {},
   "outputs": [],
   "source": [
    "attn_model = attn_net()\n",
    "# attn_model.load_state_dict(torch.load(\"/data/review_nlp_analysis_0.0.2.npy\"))\n",
    "if CUDA:\n",
    "    torch.cuda.empty_cache()\n",
    "    attn_model.cuda()\n",
    "from torch.optim import Adam\n",
    "\n",
    "opt = Adam(attn_model.parameters())\n",
    "loss_func = nn.BCEWithLogitsLoss()\n",
    "# loss_func = nn.MSELoss()"
   ]
  },
  {
   "cell_type": "code",
   "execution_count": 28,
   "metadata": {},
   "outputs": [
    {
     "name": "stderr",
     "output_type": "stream",
     "text": [
      "⭐[ep_0_i_1561]\tacc\t0.688✨\tloss\t0.490: 100%|██████████| 1563/1563 [00:43<00:00, 36.19it/s]\n",
      "😎[val_ep_0_i_1562]\tacc\t0.805😂\tloss\t0.403: 100%|██████████| 1563/1563 [00:24<00:00, 63.10it/s]\n"
     ]
    }
   ],
   "source": [
    "from ray.matchbox import Trainer\n",
    "trainer = Trainer(train_ds,val_dataset=valid_ds,batch_size=16,print_on=2)\n",
    "trainer.train_data.collate_fn = pad_collate\n",
    "trainer.val_data.collate_fn = pad_collate_valid\n",
    "trainer.action = action\n",
    "trainer.val_action = val_action\n",
    "trainer.train(1)"
   ]
  },
  {
   "cell_type": "code",
   "execution_count": 29,
   "metadata": {},
   "outputs": [
    {
     "name": "stderr",
     "output_type": "stream",
     "text": [
      "⭐[ep_0_i_1561]\tacc\t0.750✨\tloss\t0.417: 100%|██████████| 1563/1563 [00:43<00:00, 36.35it/s]\n",
      "😎[val_ep_0_i_1562]\tacc\t0.838😂\tloss\t0.354: 100%|██████████| 1563/1563 [00:24<00:00, 62.94it/s]\n"
     ]
    }
   ],
   "source": [
    "trainer.train(1)"
   ]
  },
  {
   "cell_type": "markdown",
   "metadata": {},
   "source": [
    "## Visualize Using The Attentional Mask"
   ]
  },
  {
   "cell_type": "code",
   "execution_count": 30,
   "metadata": {},
   "outputs": [],
   "source": [
    "from IPython.core.display import display, HTML"
   ]
  },
  {
   "cell_type": "code",
   "execution_count": 31,
   "metadata": {},
   "outputs": [],
   "source": [
    "dl = DataLoader(train_ds,batch_size = 256, shuffle=False, collate_fn=pad_collate)\n",
    "gen = iter(dl)\n",
    "seq = train_ds.seq[:256]\n",
    "x,y = next(gen)\n",
    "if CUDA:\n",
    "    x,y = x.cuda(),y.cuda()"
   ]
  },
  {
   "cell_type": "code",
   "execution_count": 32,
   "metadata": {},
   "outputs": [
    {
     "data": {
      "text/plain": [
       "torch.Size([256, 300])"
      ]
     },
     "execution_count": 32,
     "metadata": {},
     "output_type": "execute_result"
    }
   ],
   "source": [
    "x.size()"
   ]
  },
  {
   "cell_type": "code",
   "execution_count": 33,
   "metadata": {},
   "outputs": [],
   "source": [
    "y_, mask = attn_model(x)"
   ]
  },
  {
   "cell_type": "code",
   "execution_count": 34,
   "metadata": {},
   "outputs": [],
   "source": [
    "if CUDA:\n",
    "    y_,mask = y.cpu(),mask.cpu()"
   ]
  },
  {
   "cell_type": "code",
   "execution_count": 35,
   "metadata": {},
   "outputs": [
    {
     "data": {
      "text/plain": [
       "tensor([[[-2.8670e-01],\n",
       "         [ 5.2415e-02],\n",
       "         [ 2.7802e-01],\n",
       "         ...,\n",
       "         [-6.5229e-03],\n",
       "         [-6.5229e-03],\n",
       "         [-6.5229e-03]],\n",
       "\n",
       "        [[ 2.9653e-02],\n",
       "         [ 6.0128e-01],\n",
       "         [ 2.7703e-01],\n",
       "         ...,\n",
       "         [ 2.9653e-02],\n",
       "         [-2.9299e-01],\n",
       "         [ 2.9653e-02]],\n",
       "\n",
       "        [[ 2.9653e-02],\n",
       "         [ 2.9653e-02],\n",
       "         [ 8.9614e-01],\n",
       "         ...,\n",
       "         [-6.5229e-03],\n",
       "         [-6.5229e-03],\n",
       "         [-6.5229e-03]],\n",
       "\n",
       "        ...,\n",
       "\n",
       "        [[ 2.4202e-02],\n",
       "         [-6.2384e-02],\n",
       "         [-1.9808e-01],\n",
       "         ...,\n",
       "         [-1.2462e+00],\n",
       "         [-1.9824e-01],\n",
       "         [ 2.9653e-02]],\n",
       "\n",
       "        [[-3.7494e-01],\n",
       "         [ 8.2393e-01],\n",
       "         [ 8.2571e-01],\n",
       "         ...,\n",
       "         [-6.5229e-03],\n",
       "         [-6.5229e-03],\n",
       "         [-6.5229e-03]],\n",
       "\n",
       "        [[-2.8670e-01],\n",
       "         [ 1.8085e-01],\n",
       "         [ 1.6467e-01],\n",
       "         ...,\n",
       "         [-6.5229e-03],\n",
       "         [-6.5229e-03],\n",
       "         [-6.5229e-03]]])"
      ]
     },
     "execution_count": 35,
     "metadata": {},
     "output_type": "execute_result"
    }
   ],
   "source": [
    "mask"
   ]
  },
  {
   "cell_type": "code",
   "execution_count": 36,
   "metadata": {},
   "outputs": [],
   "source": [
    "def paint_comment(seq_line, mask,y,y_):\n",
    "    seq_line = seq_line.split(\" \")\n",
    "    seq_line = seq_line[:20]\n",
    "    mask = mask[:20]\n",
    "    if len(seq_line) > 10:\n",
    "        mask_p = F.softmax(torch.clamp(mask[:len(seq_line)],0,10).squeeze(),dim=0).data.numpy()\n",
    "        mask_n = F.softmax((torch.clamp(mask[:len(seq_line)],-10,0)*(-1)).squeeze(),dim=0).data.numpy()\n",
    "        p = \"\".join(list(\"<span style = 'color:rgba(253,10,253,%s)'>_%s</span>\"%(hl*0.8+0.2, word) for word,hl in zip(seq_line, mask_p)))\n",
    "        n = \"\".join(list(\"<span style = 'color:rgba(253,10,10,%s)'>_%s</span>\"%(hl*0.8+0.2, word) for word,hl in zip(seq_line, mask_n)))\n",
    "        print(\"label:%s\\t guess:%s\"%(y.item(),y_.item()))\n",
    "        display(HTML(p))\n",
    "        display(HTML(n))"
   ]
  },
  {
   "cell_type": "code",
   "execution_count": 37,
   "metadata": {},
   "outputs": [
    {
     "name": "stdout",
     "output_type": "stream",
     "text": [
      "label:1.0\t guess:1.0\n"
     ]
    },
    {
     "data": {
      "text/html": [
       "<span style = 'color:rgba(253,10,253,0.22821272015571595)'>_I</span><span style = 'color:rgba(253,10,253,0.22973093688488008)'>_found</span><span style = 'color:rgba(253,10,253,0.2372554212808609)'>_this</span><span style = 'color:rgba(253,10,253,0.22821272015571595)'>_movie</span><span style = 'color:rgba(253,10,253,0.23326301276683808)'>_to</span><span style = 'color:rgba(253,10,253,0.23306531310081482)'>_be</span><span style = 'color:rgba(253,10,253,0.22821272015571595)'>_very</span><span style = 'color:rgba(253,10,253,0.22821272015571595)'>_funny,</span><span style = 'color:rgba(253,10,253,0.22821272015571595)'>_I</span><span style = 'color:rgba(253,10,253,0.3959045767784119)'>_loved</span><span style = 'color:rgba(253,10,253,0.22821272015571595)'>_how</span><span style = 'color:rgba(253,10,253,0.22821272015571595)'>_it</span><span style = 'color:rgba(253,10,253,0.23119455575942993)'>_made</span><span style = 'color:rgba(253,10,253,0.22821272015571595)'>_of</span><span style = 'color:rgba(253,10,253,0.22821272015571595)'>_the</span><span style = 'color:rgba(253,10,253,0.23728931546211243)'>_politics</span><span style = 'color:rgba(253,10,253,0.22821272015571595)'>_of</span><span style = 'color:rgba(253,10,253,0.22821272015571595)'>_modern</span><span style = 'color:rgba(253,10,253,0.2628951072692871)'>_day</span><span style = 'color:rgba(253,10,253,0.22906183302402497)'>_sports.</span>"
      ],
      "text/plain": [
       "<IPython.core.display.HTML object>"
      ]
     },
     "metadata": {},
     "output_type": "display_data"
    },
    {
     "data": {
      "text/html": [
       "<span style = 'color:rgba(253,10,10,0.2342433899641037)'>_I</span><span style = 'color:rgba(253,10,10,0.22570777237415315)'>_found</span><span style = 'color:rgba(253,10,10,0.22570777237415315)'>_this</span><span style = 'color:rgba(253,10,10,0.24229711890220643)'>_movie</span><span style = 'color:rgba(253,10,10,0.22570777237415315)'>_to</span><span style = 'color:rgba(253,10,10,0.22570777237415315)'>_be</span><span style = 'color:rgba(253,10,10,0.2655734479427338)'>_very</span><span style = 'color:rgba(253,10,10,0.24387383162975312)'>_funny,</span><span style = 'color:rgba(253,10,10,0.2342433899641037)'>_I</span><span style = 'color:rgba(253,10,10,0.22570777237415315)'>_loved</span><span style = 'color:rgba(253,10,10,0.2554726839065552)'>_how</span><span style = 'color:rgba(253,10,10,0.2389510840177536)'>_it</span><span style = 'color:rgba(253,10,10,0.22570777237415315)'>_made</span><span style = 'color:rgba(253,10,10,0.28939191699028016)'>_of</span><span style = 'color:rgba(253,10,10,0.23134430050849916)'>_the</span><span style = 'color:rgba(253,10,10,0.22570777237415315)'>_politics</span><span style = 'color:rgba(253,10,10,0.28939191699028016)'>_of</span><span style = 'color:rgba(253,10,10,0.2438469707965851)'>_modern</span><span style = 'color:rgba(253,10,10,0.22570777237415315)'>_day</span><span style = 'color:rgba(253,10,10,0.22570777237415315)'>_sports.</span>"
      ],
      "text/plain": [
       "<IPython.core.display.HTML object>"
      ]
     },
     "metadata": {},
     "output_type": "display_data"
    },
    {
     "name": "stdout",
     "output_type": "stream",
     "text": [
      "label:0.0\t guess:0.0\n"
     ]
    },
    {
     "data": {
      "text/html": [
       "<span style = 'color:rgba(253,10,253,0.225239497423172)'>_Seriously,</span><span style = 'color:rgba(253,10,253,0.2447029858827591)'>_I</span><span style = 'color:rgba(253,10,253,0.2323232173919678)'>_can</span><span style = 'color:rgba(253,10,253,0.23549846410751343)'>_easily</span><span style = 'color:rgba(253,10,253,0.225239497423172)'>_stomach</span><span style = 'color:rgba(253,10,253,0.2245020642876625)'>_a</span><span style = 'color:rgba(253,10,253,0.2245020642876625)'>_lot</span><span style = 'color:rgba(253,10,253,0.2245020642876625)'>_of</span><span style = 'color:rgba(253,10,253,0.225239497423172)'>_on</span><span style = 'color:rgba(253,10,253,0.23135834336280825)'>_screen</span><span style = 'color:rgba(253,10,253,0.2535365164279938)'>_blood,</span><span style = 'color:rgba(253,10,253,0.2245020642876625)'>_gore</span><span style = 'color:rgba(253,10,253,0.24228695333004)'>_and</span><span style = 'color:rgba(253,10,253,0.2245020642876625)'>_repulsiveness,</span><span style = 'color:rgba(253,10,253,0.40961139202117924)'>_but</span><span style = 'color:rgba(253,10,253,0.2366601288318634)'>_what</span><span style = 'color:rgba(253,10,253,0.2245020642876625)'>_really</span><span style = 'color:rgba(253,10,253,0.2245020642876625)'>_makes</span><span style = 'color:rgba(253,10,253,0.24228695333004)'>_this</span><span style = 'color:rgba(253,10,253,0.2245020642876625)'>_film</span>"
      ],
      "text/plain": [
       "<IPython.core.display.HTML object>"
      ]
     },
     "metadata": {},
     "output_type": "display_data"
    },
    {
     "data": {
      "text/html": [
       "<span style = 'color:rgba(253,10,10,0.23147232234478)'>_Seriously,</span><span style = 'color:rgba(253,10,10,0.23147232234478)'>_I</span><span style = 'color:rgba(253,10,10,0.23147232234478)'>_can</span><span style = 'color:rgba(253,10,10,0.23147232234478)'>_easily</span><span style = 'color:rgba(253,10,10,0.23147232234478)'>_stomach</span><span style = 'color:rgba(253,10,10,0.26088178157806396)'>_a</span><span style = 'color:rgba(253,10,10,0.2460213214159012)'>_lot</span><span style = 'color:rgba(253,10,10,0.23471746742725375)'>_of</span><span style = 'color:rgba(253,10,10,0.23147232234478)'>_on</span><span style = 'color:rgba(253,10,10,0.23147232234478)'>_screen</span><span style = 'color:rgba(253,10,10,0.23147232234478)'>_blood,</span><span style = 'color:rgba(253,10,10,0.2420944154262543)'>_gore</span><span style = 'color:rgba(253,10,10,0.23147232234478)'>_and</span><span style = 'color:rgba(253,10,10,0.25203024148941044)'>_repulsiveness,</span><span style = 'color:rgba(253,10,10,0.23147232234478)'>_but</span><span style = 'color:rgba(253,10,10,0.23147232234478)'>_what</span><span style = 'color:rgba(253,10,10,0.25862444639205934)'>_really</span><span style = 'color:rgba(253,10,10,0.24768522381782532)'>_makes</span><span style = 'color:rgba(253,10,10,0.23147232234478)'>_this</span><span style = 'color:rgba(253,10,10,0.2802772164344788)'>_film</span>"
      ],
      "text/plain": [
       "<IPython.core.display.HTML object>"
      ]
     },
     "metadata": {},
     "output_type": "display_data"
    },
    {
     "name": "stdout",
     "output_type": "stream",
     "text": [
      "label:1.0\t guess:1.0\n"
     ]
    },
    {
     "data": {
      "text/html": [
       "<span style = 'color:rgba(253,10,253,0.23443829715251924)'>_ERROL</span><span style = 'color:rgba(253,10,253,0.23443829715251924)'>_FLYNN</span><span style = 'color:rgba(253,10,253,0.28191252350807194)'>_had</span><span style = 'color:rgba(253,10,253,0.23418779075145724)'>_one</span><span style = 'color:rgba(253,10,253,0.23343209326267245)'>_of</span><span style = 'color:rgba(253,10,253,0.23343209326267245)'>_his</span><span style = 'color:rgba(253,10,253,0.23343209326267245)'>_favorite</span><span style = 'color:rgba(253,10,253,0.23343209326267245)'>_roles</span><span style = 'color:rgba(253,10,253,0.23343209326267245)'>_as</span><span style = 'color:rgba(253,10,253,0.23343209326267245)'>_the</span><span style = 'color:rgba(253,10,253,0.23443829715251924)'>_brash</span><span style = 'color:rgba(253,10,253,0.23443829715251924)'>_braggart</span><span style = 'color:rgba(253,10,253,0.2715562582015991)'>_from</span><span style = 'color:rgba(253,10,253,0.23856884241104126)'>_a</span><span style = 'color:rgba(253,10,253,0.26165118217468264)'>_fighting</span><span style = 'color:rgba(253,10,253,0.23343209326267245)'>_Irish</span><span style = 'color:rgba(253,10,253,0.23343209326267245)'>_family</span><span style = 'color:rgba(253,10,253,0.23343209326267245)'>_who</span><span style = 'color:rgba(253,10,253,0.2400492787361145)'>_went</span><span style = 'color:rgba(253,10,253,0.23343209326267245)'>_on</span>"
      ],
      "text/plain": [
       "<IPython.core.display.HTML object>"
      ]
     },
     "metadata": {},
     "output_type": "display_data"
    },
    {
     "data": {
      "text/html": [
       "<span style = 'color:rgba(253,10,10,0.2263894647359848)'>_ERROL</span><span style = 'color:rgba(253,10,10,0.2263894647359848)'>_FLYNN</span><span style = 'color:rgba(253,10,10,0.2263894647359848)'>_had</span><span style = 'color:rgba(253,10,10,0.2263894647359848)'>_one</span><span style = 'color:rgba(253,10,10,0.2917623102664948)'>_of</span><span style = 'color:rgba(253,10,10,0.2315748304128647)'>_his</span><span style = 'color:rgba(253,10,10,0.31052216291427615)'>_favorite</span><span style = 'color:rgba(253,10,10,0.2651984393596649)'>_roles</span><span style = 'color:rgba(253,10,10,0.2530264496803284)'>_as</span><span style = 'color:rgba(253,10,10,0.2321754515171051)'>_the</span><span style = 'color:rgba(253,10,10,0.2263894647359848)'>_brash</span><span style = 'color:rgba(253,10,10,0.2263894647359848)'>_braggart</span><span style = 'color:rgba(253,10,10,0.2263894647359848)'>_from</span><span style = 'color:rgba(253,10,10,0.2263894647359848)'>_a</span><span style = 'color:rgba(253,10,10,0.2263894647359848)'>_fighting</span><span style = 'color:rgba(253,10,10,0.2526641964912415)'>_Irish</span><span style = 'color:rgba(253,10,10,0.23989740312099458)'>_family</span><span style = 'color:rgba(253,10,10,0.23282091021537782)'>_who</span><span style = 'color:rgba(253,10,10,0.2263894647359848)'>_went</span><span style = 'color:rgba(253,10,10,0.22646321058273317)'>_on</span>"
      ],
      "text/plain": [
       "<IPython.core.display.HTML object>"
      ]
     },
     "metadata": {},
     "output_type": "display_data"
    },
    {
     "name": "stdout",
     "output_type": "stream",
     "text": [
      "label:0.0\t guess:0.0\n"
     ]
    },
    {
     "data": {
      "text/html": [
       "<span style = 'color:rgba(253,10,253,0.2321432322263718)'>_102</span><span style = 'color:rgba(253,10,253,0.2321432322263718)'>_DALMATIANS</span><span style = 'color:rgba(253,10,253,0.2321432322263718)'>_[Walt</span><span style = 'color:rgba(253,10,253,0.2321432322263718)'>_Disney]:</span><span style = 'color:rgba(253,10,253,0.23120408654212954)'>_I</span><span style = 'color:rgba(253,10,253,0.2615893304347992)'>_wasn't</span><span style = 'color:rgba(253,10,253,0.23599850833415986)'>_a</span><span style = 'color:rgba(253,10,253,0.28344070315361025)'>_fan</span><span style = 'color:rgba(253,10,253,0.23120408654212954)'>_of</span><span style = 'color:rgba(253,10,253,0.23120408654212954)'>_the</span><span style = 'color:rgba(253,10,253,0.2376070708036423)'>_previous</span><span style = 'color:rgba(253,10,253,0.2321432322263718)'>_installment</span><span style = 'color:rgba(253,10,253,0.23120408654212954)'>_and</span><span style = 'color:rgba(253,10,253,0.24120557606220247)'>_this</span><span style = 'color:rgba(253,10,253,0.27024251818656925)'>_effort</span><span style = 'color:rgba(253,10,253,0.23120408654212954)'>_has</span><span style = 'color:rgba(253,10,253,0.2586282849311829)'>_all</span><span style = 'color:rgba(253,10,253,0.23120408654212954)'>_the</span><span style = 'color:rgba(253,10,253,0.2321432322263718)'>_weaknesses</span><span style = 'color:rgba(253,10,253,0.23120408654212954)'>_of</span>"
      ],
      "text/plain": [
       "<IPython.core.display.HTML object>"
      ]
     },
     "metadata": {},
     "output_type": "display_data"
    },
    {
     "data": {
      "text/html": [
       "<span style = 'color:rgba(253,10,10,0.229336416721344)'>_102</span><span style = 'color:rgba(253,10,10,0.229336416721344)'>_DALMATIANS</span><span style = 'color:rgba(253,10,10,0.229336416721344)'>_[Walt</span><span style = 'color:rgba(253,10,10,0.229336416721344)'>_Disney]:</span><span style = 'color:rgba(253,10,10,0.2390768349170685)'>_I</span><span style = 'color:rgba(253,10,10,0.229336416721344)'>_wasn't</span><span style = 'color:rgba(253,10,10,0.229336416721344)'>_a</span><span style = 'color:rgba(253,10,10,0.229336416721344)'>_fan</span><span style = 'color:rgba(253,10,10,0.3020095586776734)'>_of</span><span style = 'color:rgba(253,10,10,0.2357685387134552)'>_the</span><span style = 'color:rgba(253,10,10,0.229336416721344)'>_previous</span><span style = 'color:rgba(253,10,10,0.229336416721344)'>_installment</span><span style = 'color:rgba(253,10,10,0.26578140854835514)'>_and</span><span style = 'color:rgba(253,10,10,0.229336416721344)'>_this</span><span style = 'color:rgba(253,10,10,0.229336416721344)'>_effort</span><span style = 'color:rgba(253,10,10,0.2382121652364731)'>_has</span><span style = 'color:rgba(253,10,10,0.229336416721344)'>_all</span><span style = 'color:rgba(253,10,10,0.2357685387134552)'>_the</span><span style = 'color:rgba(253,10,10,0.229336416721344)'>_weaknesses</span><span style = 'color:rgba(253,10,10,0.3020095586776734)'>_of</span>"
      ],
      "text/plain": [
       "<IPython.core.display.HTML object>"
      ]
     },
     "metadata": {},
     "output_type": "display_data"
    },
    {
     "name": "stdout",
     "output_type": "stream",
     "text": [
      "label:0.0\t guess:0.0\n"
     ]
    },
    {
     "data": {
      "text/html": [
       "<span style = 'color:rgba(253,10,253,0.23168140947818758)'>_As</span><span style = 'color:rgba(253,10,253,0.23168140947818758)'>_other</span><span style = 'color:rgba(253,10,253,0.23178047835826876)'>_reviewers</span><span style = 'color:rgba(253,10,253,0.2379616141319275)'>_have</span><span style = 'color:rgba(253,10,253,0.23168140947818758)'>_noted</span><span style = 'color:rgba(253,10,253,0.23168140947818758)'>_the</span><span style = 'color:rgba(253,10,253,0.23866616785526276)'>_film</span><span style = 'color:rgba(253,10,253,0.23168140947818758)'>_dies</span><span style = 'color:rgba(253,10,253,0.24150838851928713)'>_in</span><span style = 'color:rgba(253,10,253,0.23168140947818758)'>_the</span><span style = 'color:rgba(253,10,253,0.2577102959156037)'>_last</span><span style = 'color:rgba(253,10,253,0.23168140947818758)'>_1/2</span><span style = 'color:rgba(253,10,253,0.23263492286205292)'>_hour.</span><span style = 'color:rgba(253,10,253,0.25230368971824646)'>_However</span><span style = 'color:rgba(253,10,253,0.23168140947818758)'>_before</span><span style = 'color:rgba(253,10,253,0.24012515842914584)'>_that</span><span style = 'color:rgba(253,10,253,0.23168140947818758)'>_it</span><span style = 'color:rgba(253,10,253,0.2817325055599213)'>_suffers</span><span style = 'color:rgba(253,10,253,0.2678091883659363)'>_from</span><span style = 'color:rgba(253,10,253,0.23263492286205292)'>_predictability</span>"
      ],
      "text/plain": [
       "<IPython.core.display.HTML object>"
      ]
     },
     "metadata": {},
     "output_type": "display_data"
    },
    {
     "data": {
      "text/html": [
       "<span style = 'color:rgba(253,10,10,0.2328500360250473)'>_As</span><span style = 'color:rgba(253,10,10,0.2539420008659363)'>_other</span><span style = 'color:rgba(253,10,10,0.22731150686740875)'>_reviewers</span><span style = 'color:rgba(253,10,10,0.22731150686740875)'>_have</span><span style = 'color:rgba(253,10,10,0.2582127273082733)'>_noted</span><span style = 'color:rgba(253,10,10,0.23329965770244598)'>_the</span><span style = 'color:rgba(253,10,10,0.22731150686740875)'>_film</span><span style = 'color:rgba(253,10,10,0.2824971139431)'>_dies</span><span style = 'color:rgba(253,10,10,0.22731150686740875)'>_in</span><span style = 'color:rgba(253,10,10,0.23329965770244598)'>_the</span><span style = 'color:rgba(253,10,10,0.22731150686740875)'>_last</span><span style = 'color:rgba(253,10,10,0.3353970289230347)'>_1/2</span><span style = 'color:rgba(253,10,10,0.22731150686740875)'>_hour.</span><span style = 'color:rgba(253,10,10,0.22731150686740875)'>_However</span><span style = 'color:rgba(253,10,10,0.22869420647621155)'>_before</span><span style = 'color:rgba(253,10,10,0.22731150686740875)'>_that</span><span style = 'color:rgba(253,10,10,0.24138097763061525)'>_it</span><span style = 'color:rgba(253,10,10,0.22731150686740875)'>_suffers</span><span style = 'color:rgba(253,10,10,0.22731150686740875)'>_from</span><span style = 'color:rgba(253,10,10,0.22731150686740875)'>_predictability</span>"
      ],
      "text/plain": [
       "<IPython.core.display.HTML object>"
      ]
     },
     "metadata": {},
     "output_type": "display_data"
    },
    {
     "name": "stdout",
     "output_type": "stream",
     "text": [
      "label:0.0\t guess:0.0\n"
     ]
    },
    {
     "data": {
      "text/html": [
       "<span style = 'color:rgba(253,10,253,0.22043740451335908)'>_Considering</span><span style = 'color:rgba(253,10,253,0.22043740451335908)'>_the</span><span style = 'color:rgba(253,10,253,0.2509549558162689)'>_potential</span><span style = 'color:rgba(253,10,253,0.22698797285556793)'>_this</span><span style = 'color:rgba(253,10,253,0.27006989121437075)'>_move</span><span style = 'color:rgba(253,10,253,0.22105250507593155)'>_had,</span><span style = 'color:rgba(253,10,253,0.22043740451335908)'>_the</span><span style = 'color:rgba(253,10,253,0.2890677273273468)'>_reality</span><span style = 'color:rgba(253,10,253,0.24096139669418337)'>_was</span><span style = 'color:rgba(253,10,253,0.28390937447547915)'>_disappointing.</span><span style = 'color:rgba(253,10,253,0.24044018387794497)'>_While</span><span style = 'color:rgba(253,10,253,0.23522164821624758)'>_it's</span><span style = 'color:rgba(253,10,253,0.22043740451335908)'>_always</span><span style = 'color:rgba(253,10,253,0.22043740451335908)'>_nice</span><span style = 'color:rgba(253,10,253,0.22409585416316988)'>_to</span><span style = 'color:rgba(253,10,253,0.2598740935325623)'>_see</span><span style = 'color:rgba(253,10,253,0.28377058506011965)'>_Jennifer</span><span style = 'color:rgba(253,10,253,0.22105250507593155)'>_Aniston</span><span style = 'color:rgba(253,10,253,0.22677670717239382)'>_in</span><span style = 'color:rgba(253,10,253,0.2235775575041771)'>_a</span>"
      ],
      "text/plain": [
       "<IPython.core.display.HTML object>"
      ]
     },
     "metadata": {},
     "output_type": "display_data"
    },
    {
     "data": {
      "text/html": [
       "<span style = 'color:rgba(253,10,10,0.23264912962913514)'>_Considering</span><span style = 'color:rgba(253,10,10,0.23791156113147738)'>_the</span><span style = 'color:rgba(253,10,10,0.23109407126903536)'>_potential</span><span style = 'color:rgba(253,10,10,0.23109407126903536)'>_this</span><span style = 'color:rgba(253,10,10,0.23109407126903536)'>_move</span><span style = 'color:rgba(253,10,10,0.23109407126903536)'>_had,</span><span style = 'color:rgba(253,10,10,0.23791156113147738)'>_the</span><span style = 'color:rgba(253,10,10,0.23109407126903536)'>_reality</span><span style = 'color:rgba(253,10,10,0.23109407126903536)'>_was</span><span style = 'color:rgba(253,10,10,0.23109407126903536)'>_disappointing.</span><span style = 'color:rgba(253,10,10,0.23109407126903536)'>_While</span><span style = 'color:rgba(253,10,10,0.23109407126903536)'>_it's</span><span style = 'color:rgba(253,10,10,0.3706958174705506)'>_always</span><span style = 'color:rgba(253,10,10,0.25442087054252627)'>_nice</span><span style = 'color:rgba(253,10,10,0.23109407126903536)'>_to</span><span style = 'color:rgba(253,10,10,0.23109407126903536)'>_see</span><span style = 'color:rgba(253,10,10,0.23109407126903536)'>_Jennifer</span><span style = 'color:rgba(253,10,10,0.23109407126903536)'>_Aniston</span><span style = 'color:rgba(253,10,10,0.23109407126903536)'>_in</span><span style = 'color:rgba(253,10,10,0.23109407126903536)'>_a</span>"
      ],
      "text/plain": [
       "<IPython.core.display.HTML object>"
      ]
     },
     "metadata": {},
     "output_type": "display_data"
    },
    {
     "name": "stdout",
     "output_type": "stream",
     "text": [
      "label:1.0\t guess:1.0\n"
     ]
    },
    {
     "data": {
      "text/html": [
       "<span style = 'color:rgba(253,10,253,0.2311481088399887)'>_I</span><span style = 'color:rgba(253,10,253,0.26242818832397463)'>_was</span><span style = 'color:rgba(253,10,253,0.2311481088399887)'>_very</span><span style = 'color:rgba(253,10,253,0.3249687194824219)'>_moved</span><span style = 'color:rgba(253,10,253,0.2311481088399887)'>_by</span><span style = 'color:rgba(253,10,253,0.2311481088399887)'>_the</span><span style = 'color:rgba(253,10,253,0.2311481088399887)'>_story</span><span style = 'color:rgba(253,10,253,0.2311481088399887)'>_and</span><span style = 'color:rgba(253,10,253,0.2311481088399887)'>_because</span><span style = 'color:rgba(253,10,253,0.2311481088399887)'>_I</span><span style = 'color:rgba(253,10,253,0.2311481088399887)'>_am</span><span style = 'color:rgba(253,10,253,0.2311481088399887)'>_going</span><span style = 'color:rgba(253,10,253,0.2311481088399887)'>_through</span><span style = 'color:rgba(253,10,253,0.2464866042137146)'>_something</span><span style = 'color:rgba(253,10,253,0.2311481088399887)'>_similar</span><span style = 'color:rgba(253,10,253,0.2311481088399887)'>_with</span><span style = 'color:rgba(253,10,253,0.2311481088399887)'>_my</span><span style = 'color:rgba(253,10,253,0.2677467048168183)'>_own</span><span style = 'color:rgba(253,10,253,0.2311481088399887)'>_parents,</span><span style = 'color:rgba(253,10,253,0.2311481088399887)'>_I</span>"
      ],
      "text/plain": [
       "<IPython.core.display.HTML object>"
      ]
     },
     "metadata": {},
     "output_type": "display_data"
    },
    {
     "data": {
      "text/html": [
       "<span style = 'color:rgba(253,10,10,0.23596071302890778)'>_I</span><span style = 'color:rgba(253,10,10,0.22699702978134156)'>_was</span><span style = 'color:rgba(253,10,10,0.26886198520660404)'>_very</span><span style = 'color:rgba(253,10,10,0.22699702978134156)'>_moved</span><span style = 'color:rgba(253,10,10,0.22930492460727692)'>_by</span><span style = 'color:rgba(253,10,10,0.23291622996330263)'>_the</span><span style = 'color:rgba(253,10,10,0.24204997122287752)'>_story</span><span style = 'color:rgba(253,10,10,0.26053577065467837)'>_and</span><span style = 'color:rgba(253,10,10,0.23347712457180025)'>_because</span><span style = 'color:rgba(253,10,10,0.23596071302890778)'>_I</span><span style = 'color:rgba(253,10,10,0.24147225618362428)'>_am</span><span style = 'color:rgba(253,10,10,0.2334007352590561)'>_going</span><span style = 'color:rgba(253,10,10,0.23615304827690126)'>_through</span><span style = 'color:rgba(253,10,10,0.22699702978134156)'>_something</span><span style = 'color:rgba(253,10,10,0.23333847224712373)'>_similar</span><span style = 'color:rgba(253,10,10,0.2367352843284607)'>_with</span><span style = 'color:rgba(253,10,10,0.2505619764328003)'>_my</span><span style = 'color:rgba(253,10,10,0.22699702978134156)'>_own</span><span style = 'color:rgba(253,10,10,0.285321980714798)'>_parents,</span><span style = 'color:rgba(253,10,10,0.23596071302890778)'>_I</span>"
      ],
      "text/plain": [
       "<IPython.core.display.HTML object>"
      ]
     },
     "metadata": {},
     "output_type": "display_data"
    },
    {
     "name": "stdout",
     "output_type": "stream",
     "text": [
      "label:1.0\t guess:1.0\n"
     ]
    },
    {
     "data": {
      "text/html": [
       "<span style = 'color:rgba(253,10,253,0.2310753494501114)'>_Just</span><span style = 'color:rgba(253,10,253,0.3638435482978821)'>_watched</span><span style = 'color:rgba(253,10,253,0.24103557765483857)'>_this</span><span style = 'color:rgba(253,10,253,0.244666388630867)'>_early</span><span style = 'color:rgba(253,10,253,0.232010617852211)'>_Bugs</span><span style = 'color:rgba(253,10,253,0.232010617852211)'>_Bunny</span><span style = 'color:rgba(253,10,253,0.232010617852211)'>_(first</span><span style = 'color:rgba(253,10,253,0.23166404366493226)'>_time</span><span style = 'color:rgba(253,10,253,0.2310753494501114)'>_he's</span><span style = 'color:rgba(253,10,253,0.2310753494501114)'>_named</span><span style = 'color:rgba(253,10,253,0.232010617852211)'>_here)</span><span style = 'color:rgba(253,10,253,0.2310753494501114)'>_and</span><span style = 'color:rgba(253,10,253,0.232010617852211)'>_Elmer</span><span style = 'color:rgba(253,10,253,0.232010617852211)'>_Fudd</span><span style = 'color:rgba(253,10,253,0.24517806470394135)'>_cartoon</span><span style = 'color:rgba(253,10,253,0.2310753494501114)'>_on</span><span style = 'color:rgba(253,10,253,0.2310753494501114)'>_the</span><span style = 'color:rgba(253,10,253,0.232010617852211)'>_ThadBlog</span><span style = 'color:rgba(253,10,253,0.2310753494501114)'>_as</span><span style = 'color:rgba(253,10,253,0.232010617852211)'>_linked</span>"
      ],
      "text/plain": [
       "<IPython.core.display.HTML object>"
      ]
     },
     "metadata": {},
     "output_type": "display_data"
    },
    {
     "data": {
      "text/html": [
       "<span style = 'color:rgba(253,10,10,0.252920937538147)'>_Just</span><span style = 'color:rgba(253,10,10,0.2317746490240097)'>_watched</span><span style = 'color:rgba(253,10,10,0.2317746490240097)'>_this</span><span style = 'color:rgba(253,10,10,0.2317746490240097)'>_early</span><span style = 'color:rgba(253,10,10,0.2317746490240097)'>_Bugs</span><span style = 'color:rgba(253,10,10,0.2317746490240097)'>_Bunny</span><span style = 'color:rgba(253,10,10,0.2317746490240097)'>_(first</span><span style = 'color:rgba(253,10,10,0.2317746490240097)'>_time</span><span style = 'color:rgba(253,10,10,0.2599768221378327)'>_he's</span><span style = 'color:rgba(253,10,10,0.2683309674263001)'>_named</span><span style = 'color:rgba(253,10,10,0.2317746490240097)'>_here)</span><span style = 'color:rgba(253,10,10,0.2712486803531647)'>_and</span><span style = 'color:rgba(253,10,10,0.2317746490240097)'>_Elmer</span><span style = 'color:rgba(253,10,10,0.2317746490240097)'>_Fudd</span><span style = 'color:rgba(253,10,10,0.2317746490240097)'>_cartoon</span><span style = 'color:rgba(253,10,10,0.23186344504356385)'>_on</span><span style = 'color:rgba(253,10,10,0.23874135911464692)'>_the</span><span style = 'color:rgba(253,10,10,0.2317746490240097)'>_ThadBlog</span><span style = 'color:rgba(253,10,10,0.2638473272323609)'>_as</span><span style = 'color:rgba(253,10,10,0.2317746490240097)'>_linked</span>"
      ],
      "text/plain": [
       "<IPython.core.display.HTML object>"
      ]
     },
     "metadata": {},
     "output_type": "display_data"
    },
    {
     "name": "stdout",
     "output_type": "stream",
     "text": [
      "label:0.0\t guess:0.0\n"
     ]
    },
    {
     "data": {
      "text/html": [
       "<span style = 'color:rgba(253,10,253,0.2262597233057022)'>_Uh</span><span style = 'color:rgba(253,10,253,0.2262597233057022)'>_oh!</span><span style = 'color:rgba(253,10,253,0.23197096288204194)'>_Another</span><span style = 'color:rgba(253,10,253,0.24819526970386507)'>_gay</span><span style = 'color:rgba(253,10,253,0.3300966739654541)'>_film.</span><span style = 'color:rgba(253,10,253,0.2254924774169922)'>_This</span><span style = 'color:rgba(253,10,253,0.22597541213035585)'>_time</span><span style = 'color:rgba(253,10,253,0.2439335197210312)'>_it's</span><span style = 'color:rgba(253,10,253,0.2254924774169922)'>_showing</span><span style = 'color:rgba(253,10,253,0.2254924774169922)'>_the</span><span style = 'color:rgba(253,10,253,0.24448116719722748)'>_black</span><span style = 'color:rgba(253,10,253,0.2262597233057022)'>_side.</span><span style = 'color:rgba(253,10,253,0.2262597233057022)'>_Bet</span><span style = 'color:rgba(253,10,253,0.22981900274753572)'>_your</span><span style = 'color:rgba(253,10,253,0.24643664360046388)'>_last</span><span style = 'color:rgba(253,10,253,0.27046279907226567)'>_dollar</span><span style = 'color:rgba(253,10,253,0.2439335197210312)'>_it's</span><span style = 'color:rgba(253,10,253,0.24714037179946902)'>_gonna</span><span style = 'color:rgba(253,10,253,0.23054585456848145)'>_have</span><span style = 'color:rgba(253,10,253,0.2254924774169922)'>_an</span>"
      ],
      "text/plain": [
       "<IPython.core.display.HTML object>"
      ]
     },
     "metadata": {},
     "output_type": "display_data"
    },
    {
     "data": {
      "text/html": [
       "<span style = 'color:rgba(253,10,10,0.23645621836185457)'>_Uh</span><span style = 'color:rgba(253,10,10,0.23645621836185457)'>_oh!</span><span style = 'color:rgba(253,10,10,0.23645621836185457)'>_Another</span><span style = 'color:rgba(253,10,10,0.23645621836185457)'>_gay</span><span style = 'color:rgba(253,10,10,0.23645621836185457)'>_film.</span><span style = 'color:rgba(253,10,10,0.2449893057346344)'>_This</span><span style = 'color:rgba(253,10,10,0.23645621836185457)'>_time</span><span style = 'color:rgba(253,10,10,0.23645621836185457)'>_it's</span><span style = 'color:rgba(253,10,10,0.27395268678665163)'>_showing</span><span style = 'color:rgba(253,10,10,0.24444937705993652)'>_the</span><span style = 'color:rgba(253,10,10,0.23645621836185457)'>_black</span><span style = 'color:rgba(253,10,10,0.23645621836185457)'>_side.</span><span style = 'color:rgba(253,10,10,0.23645621836185457)'>_Bet</span><span style = 'color:rgba(253,10,10,0.23645621836185457)'>_your</span><span style = 'color:rgba(253,10,10,0.23645621836185457)'>_last</span><span style = 'color:rgba(253,10,10,0.23645621836185457)'>_dollar</span><span style = 'color:rgba(253,10,10,0.23645621836185457)'>_it's</span><span style = 'color:rgba(253,10,10,0.23645621836185457)'>_gonna</span><span style = 'color:rgba(253,10,10,0.23645621836185457)'>_have</span><span style = 'color:rgba(253,10,10,0.25330916643142704)'>_an</span>"
      ],
      "text/plain": [
       "<IPython.core.display.HTML object>"
      ]
     },
     "metadata": {},
     "output_type": "display_data"
    },
    {
     "name": "stdout",
     "output_type": "stream",
     "text": [
      "label:0.0\t guess:0.0\n"
     ]
    },
    {
     "data": {
      "text/html": [
       "<span style = 'color:rgba(253,10,253,0.23417374193668367)'>_Heavenly</span><span style = 'color:rgba(253,10,253,0.23417374193668367)'>_Days</span><span style = 'color:rgba(253,10,253,0.23417374193668367)'>_commits</span><span style = 'color:rgba(253,10,253,0.23827255666255953)'>_a</span><span style = 'color:rgba(253,10,253,0.23317526876926423)'>_serious</span><span style = 'color:rgba(253,10,253,0.23317526876926423)'>_comedy</span><span style = 'color:rgba(253,10,253,0.23417374193668367)'>_faux</span><span style = 'color:rgba(253,10,253,0.23417374193668367)'>_pas:</span><span style = 'color:rgba(253,10,253,0.2571739733219147)'>_it's</span><span style = 'color:rgba(253,10,253,0.3152243494987488)'>_desperate</span><span style = 'color:rgba(253,10,253,0.2391138941049576)'>_to</span><span style = 'color:rgba(253,10,253,0.23317526876926423)'>_teach</span><span style = 'color:rgba(253,10,253,0.23317526876926423)'>_us</span><span style = 'color:rgba(253,10,253,0.23827255666255953)'>_a</span><span style = 'color:rgba(253,10,253,0.23417374193668367)'>_civics</span><span style = 'color:rgba(253,10,253,0.23417374193668367)'>_lesson,</span><span style = 'color:rgba(253,10,253,0.23317526876926423)'>_and</span><span style = 'color:rgba(253,10,253,0.23317526876926423)'>_it</span><span style = 'color:rgba(253,10,253,0.2404995769262314)'>_won't</span><span style = 'color:rgba(253,10,253,0.23317526876926423)'>_stop</span>"
      ],
      "text/plain": [
       "<IPython.core.display.HTML object>"
      ]
     },
     "metadata": {},
     "output_type": "display_data"
    },
    {
     "data": {
      "text/html": [
       "<span style = 'color:rgba(253,10,10,0.22845678925514223)'>_Heavenly</span><span style = 'color:rgba(253,10,10,0.22845678925514223)'>_Days</span><span style = 'color:rgba(253,10,10,0.22845678925514223)'>_commits</span><span style = 'color:rgba(253,10,10,0.22845678925514223)'>_a</span><span style = 'color:rgba(253,10,10,0.3038495421409607)'>_serious</span><span style = 'color:rgba(253,10,10,0.25677571892738343)'>_comedy</span><span style = 'color:rgba(253,10,10,0.22845678925514223)'>_faux</span><span style = 'color:rgba(253,10,10,0.22845678925514223)'>_pas:</span><span style = 'color:rgba(253,10,10,0.22845678925514223)'>_it's</span><span style = 'color:rgba(253,10,10,0.22845678925514223)'>_desperate</span><span style = 'color:rgba(253,10,10,0.22845678925514223)'>_to</span><span style = 'color:rgba(253,10,10,0.24831307828426363)'>_teach</span><span style = 'color:rgba(253,10,10,0.26534247994422916)'>_us</span><span style = 'color:rgba(253,10,10,0.22845678925514223)'>_a</span><span style = 'color:rgba(253,10,10,0.22845678925514223)'>_civics</span><span style = 'color:rgba(253,10,10,0.22845678925514223)'>_lesson,</span><span style = 'color:rgba(253,10,10,0.2638090014457703)'>_and</span><span style = 'color:rgba(253,10,10,0.24311625063419343)'>_it</span><span style = 'color:rgba(253,10,10,0.22845678925514223)'>_won't</span><span style = 'color:rgba(253,10,10,0.2488556891679764)'>_stop</span>"
      ],
      "text/plain": [
       "<IPython.core.display.HTML object>"
      ]
     },
     "metadata": {},
     "output_type": "display_data"
    },
    {
     "name": "stdout",
     "output_type": "stream",
     "text": [
      "label:1.0\t guess:1.0\n"
     ]
    },
    {
     "data": {
      "text/html": [
       "<span style = 'color:rgba(253,10,253,0.23514550924301147)'>_What</span><span style = 'color:rgba(253,10,253,0.2655585825443268)'>_if</span><span style = 'color:rgba(253,10,253,0.2341186434030533)'>_a</span><span style = 'color:rgba(253,10,253,0.23514550924301147)'>_platoon</span><span style = 'color:rgba(253,10,253,0.2341186434030533)'>_of</span><span style = 'color:rgba(253,10,253,0.23514550924301147)'>_G.I.'s</span><span style = 'color:rgba(253,10,253,0.2341186434030533)'>_from</span><span style = 'color:rgba(253,10,253,0.2341186434030533)'>_the</span><span style = 'color:rgba(253,10,253,0.23488985896110537)'>_Japanese</span><span style = 'color:rgba(253,10,253,0.2707248032093048)'>_army</span><span style = 'color:rgba(253,10,253,0.23514550924301147)'>_were</span><span style = 'color:rgba(253,10,253,0.23514550924301147)'>_to</span><span style = 'color:rgba(253,10,253,0.24470160901546478)'>_be</span><span style = 'color:rgba(253,10,253,0.2341186434030533)'>_send</span><span style = 'color:rgba(253,10,253,0.23514550924301147)'>_back</span><span style = 'color:rgba(253,10,253,0.23514550924301147)'>_in</span><span style = 'color:rgba(253,10,253,0.2631036639213562)'>_time</span><span style = 'color:rgba(253,10,253,0.2341186434030533)'>_400</span><span style = 'color:rgba(253,10,253,0.23514550924301147)'>_years</span><span style = 'color:rgba(253,10,253,0.23514550924301147)'>_right</span>"
      ],
      "text/plain": [
       "<IPython.core.display.HTML object>"
      ]
     },
     "metadata": {},
     "output_type": "display_data"
    },
    {
     "data": {
      "text/html": [
       "<span style = 'color:rgba(253,10,10,0.22988108694553377)'>_What</span><span style = 'color:rgba(253,10,10,0.22988108694553377)'>_if</span><span style = 'color:rgba(253,10,10,0.2389619439840317)'>_a</span><span style = 'color:rgba(253,10,10,0.22988108694553377)'>_platoon</span><span style = 'color:rgba(253,10,10,0.3039034962654114)'>_of</span><span style = 'color:rgba(253,10,10,0.22988108694553377)'>_G.I.'s</span><span style = 'color:rgba(253,10,10,0.257803612947464)'>_from</span><span style = 'color:rgba(253,10,10,0.24065966308116915)'>_the</span><span style = 'color:rgba(253,10,10,0.22988108694553377)'>_Japanese</span><span style = 'color:rgba(253,10,10,0.22988108694553377)'>_army</span><span style = 'color:rgba(253,10,10,0.22988108694553377)'>_were</span><span style = 'color:rgba(253,10,10,0.22988108694553377)'>_to</span><span style = 'color:rgba(253,10,10,0.22988108694553377)'>_be</span><span style = 'color:rgba(253,10,10,0.23643262684345245)'>_send</span><span style = 'color:rgba(253,10,10,0.22988108694553377)'>_back</span><span style = 'color:rgba(253,10,10,0.22988108694553377)'>_in</span><span style = 'color:rgba(253,10,10,0.22988108694553377)'>_time</span><span style = 'color:rgba(253,10,10,0.3039034962654114)'>_400</span><span style = 'color:rgba(253,10,10,0.22988108694553377)'>_years</span><span style = 'color:rgba(253,10,10,0.22988108694553377)'>_right</span>"
      ],
      "text/plain": [
       "<IPython.core.display.HTML object>"
      ]
     },
     "metadata": {},
     "output_type": "display_data"
    },
    {
     "name": "stdout",
     "output_type": "stream",
     "text": [
      "label:0.0\t guess:0.0\n"
     ]
    },
    {
     "data": {
      "text/html": [
       "<span style = 'color:rgba(253,10,253,0.22291717082262041)'>_Let's</span><span style = 'color:rgba(253,10,253,0.26439537405967717)'>_see</span><span style = 'color:rgba(253,10,253,0.2219806969165802)'>_where</span><span style = 'color:rgba(253,10,253,0.22591540813446045)'>_to</span><span style = 'color:rgba(253,10,253,0.22264224588871004)'>_begin...</span><span style = 'color:rgba(253,10,253,0.40515048503875734)'>_bad</span><span style = 'color:rgba(253,10,253,0.22264224588871004)'>_acting;</span><span style = 'color:rgba(253,10,253,0.23293294906616213)'>_I'm</span><span style = 'color:rgba(253,10,253,0.2337408483028412)'>_not</span><span style = 'color:rgba(253,10,253,0.2232602894306183)'>_sure</span><span style = 'color:rgba(253,10,253,0.2219806969165802)'>_if</span><span style = 'color:rgba(253,10,253,0.22533238828182223)'>_I'd</span><span style = 'color:rgba(253,10,253,0.25552670955657963)'>_even</span><span style = 'color:rgba(253,10,253,0.2590185821056366)'>_call</span><span style = 'color:rgba(253,10,253,0.2219806969165802)'>_it</span><span style = 'color:rgba(253,10,253,0.2219806969165802)'>_that,</span><span style = 'color:rgba(253,10,253,0.2219806969165802)'>_as</span><span style = 'color:rgba(253,10,253,0.2219806969165802)'>_it</span><span style = 'color:rgba(253,10,253,0.2219806969165802)'>_more</span><span style = 'color:rgba(253,10,253,0.25266047120094304)'>_along</span>"
      ],
      "text/plain": [
       "<IPython.core.display.HTML object>"
      ]
     },
     "metadata": {},
     "output_type": "display_data"
    },
    {
     "data": {
      "text/html": [
       "<span style = 'color:rgba(253,10,10,0.23317438066005708)'>_Let's</span><span style = 'color:rgba(253,10,10,0.23317438066005708)'>_see</span><span style = 'color:rgba(253,10,10,0.23588020503520968)'>_where</span><span style = 'color:rgba(253,10,10,0.23317438066005708)'>_to</span><span style = 'color:rgba(253,10,10,0.23317438066005708)'>_begin...</span><span style = 'color:rgba(253,10,10,0.23317438066005708)'>_bad</span><span style = 'color:rgba(253,10,10,0.23317438066005708)'>_acting;</span><span style = 'color:rgba(253,10,10,0.23317438066005708)'>_I'm</span><span style = 'color:rgba(253,10,10,0.23317438066005708)'>_not</span><span style = 'color:rgba(253,10,10,0.23317438066005708)'>_sure</span><span style = 'color:rgba(253,10,10,0.24757699370384217)'>_if</span><span style = 'color:rgba(253,10,10,0.23317438066005708)'>_I'd</span><span style = 'color:rgba(253,10,10,0.23317438066005708)'>_even</span><span style = 'color:rgba(253,10,10,0.23317438066005708)'>_call</span><span style = 'color:rgba(253,10,10,0.2502641022205353)'>_it</span><span style = 'color:rgba(253,10,10,0.23829999566078186)'>_that,</span><span style = 'color:rgba(253,10,10,0.2666599214076996)'>_as</span><span style = 'color:rgba(253,10,10,0.2502641022205353)'>_it</span><span style = 'color:rgba(253,10,10,0.27978772521018985)'>_more</span><span style = 'color:rgba(253,10,10,0.23317438066005708)'>_along</span>"
      ],
      "text/plain": [
       "<IPython.core.display.HTML object>"
      ]
     },
     "metadata": {},
     "output_type": "display_data"
    },
    {
     "name": "stdout",
     "output_type": "stream",
     "text": [
      "label:1.0\t guess:1.0\n"
     ]
    },
    {
     "data": {
      "text/html": [
       "<span style = 'color:rgba(253,10,253,0.22567817568778992)'>_....Rather</span><span style = 'color:rgba(253,10,253,0.22492792606353762)'>_well</span><span style = 'color:rgba(253,10,253,0.2249660149216652)'>_done,</span><span style = 'color:rgba(253,10,253,0.22567817568778992)'>_actually--attack</span><span style = 'color:rgba(253,10,253,0.22492792606353762)'>_the</span><span style = 'color:rgba(253,10,253,0.22492792606353762)'>_evil</span><span style = 'color:rgba(253,10,253,0.22492792606353762)'>_villains</span><span style = 'color:rgba(253,10,253,0.23266009986400604)'>_in</span><span style = 'color:rgba(253,10,253,0.23520695865154267)'>_their</span><span style = 'color:rgba(253,10,253,0.22567817568778992)'>_lair,</span><span style = 'color:rgba(253,10,253,0.22492792606353762)'>_stop</span><span style = 'color:rgba(253,10,253,0.22875803112983706)'>_a</span><span style = 'color:rgba(253,10,253,0.27140694856643677)'>_Little</span><span style = 'color:rgba(253,10,253,0.22492792606353762)'>_Big</span><span style = 'color:rgba(253,10,253,0.22567817568778992)'>_Horn</span><span style = 'color:rgba(253,10,253,0.2714119374752045)'>_style</span><span style = 'color:rgba(253,10,253,0.22567817568778992)'>_ambush,</span><span style = 'color:rgba(253,10,253,0.3771314024925232)'>_save</span><span style = 'color:rgba(253,10,253,0.22492792606353762)'>_the</span><span style = 'color:rgba(253,10,253,0.25557225942611694)'>_day</span>"
      ],
      "text/plain": [
       "<IPython.core.display.HTML object>"
      ]
     },
     "metadata": {},
     "output_type": "display_data"
    },
    {
     "data": {
      "text/html": [
       "<span style = 'color:rgba(253,10,10,0.226269069314003)'>_....Rather</span><span style = 'color:rgba(253,10,10,0.40045871734619143)'>_well</span><span style = 'color:rgba(253,10,10,0.226269069314003)'>_done,</span><span style = 'color:rgba(253,10,10,0.226269069314003)'>_actually--attack</span><span style = 'color:rgba(253,10,10,0.23202866315841675)'>_the</span><span style = 'color:rgba(253,10,10,0.2570807933807373)'>_evil</span><span style = 'color:rgba(253,10,10,0.2605531692504883)'>_villains</span><span style = 'color:rgba(253,10,10,0.226269069314003)'>_in</span><span style = 'color:rgba(253,10,10,0.226269069314003)'>_their</span><span style = 'color:rgba(253,10,10,0.226269069314003)'>_lair,</span><span style = 'color:rgba(253,10,10,0.24509973227977755)'>_stop</span><span style = 'color:rgba(253,10,10,0.226269069314003)'>_a</span><span style = 'color:rgba(253,10,10,0.226269069314003)'>_Little</span><span style = 'color:rgba(253,10,10,0.23125238418579103)'>_Big</span><span style = 'color:rgba(253,10,10,0.226269069314003)'>_Horn</span><span style = 'color:rgba(253,10,10,0.226269069314003)'>_style</span><span style = 'color:rgba(253,10,10,0.226269069314003)'>_ambush,</span><span style = 'color:rgba(253,10,10,0.226269069314003)'>_save</span><span style = 'color:rgba(253,10,10,0.23202866315841675)'>_the</span><span style = 'color:rgba(253,10,10,0.226269069314003)'>_day</span>"
      ],
      "text/plain": [
       "<IPython.core.display.HTML object>"
      ]
     },
     "metadata": {},
     "output_type": "display_data"
    },
    {
     "name": "stdout",
     "output_type": "stream",
     "text": [
      "label:1.0\t guess:1.0\n"
     ]
    },
    {
     "data": {
      "text/html": [
       "<span style = 'color:rgba(253,10,253,0.2348117232322693)'>_Madhur</span><span style = 'color:rgba(253,10,253,0.2348117232322693)'>_Bhandarkar</span><span style = 'color:rgba(253,10,253,0.2860094785690308)'>_goes</span><span style = 'color:rgba(253,10,253,0.26349552869796755)'>_all</span><span style = 'color:rgba(253,10,253,0.23668584525585176)'>_out</span><span style = 'color:rgba(253,10,253,0.2398441016674042)'>_to</span><span style = 'color:rgba(253,10,253,0.23379460871219637)'>_touch</span><span style = 'color:rgba(253,10,253,0.23782677948474884)'>_upon</span><span style = 'color:rgba(253,10,253,0.2348117232322693)'>_taboo</span><span style = 'color:rgba(253,10,253,0.2599624037742615)'>_issues</span><span style = 'color:rgba(253,10,253,0.23379460871219637)'>_and</span><span style = 'color:rgba(253,10,253,0.23379460871219637)'>_gives</span><span style = 'color:rgba(253,10,253,0.23379460871219637)'>_the</span><span style = 'color:rgba(253,10,253,0.23379460871219637)'>_most</span><span style = 'color:rgba(253,10,253,0.23379460871219637)'>_realistic</span><span style = 'color:rgba(253,10,253,0.23379460871219637)'>_picture</span><span style = 'color:rgba(253,10,253,0.23379460871219637)'>_of</span><span style = 'color:rgba(253,10,253,0.23379460871219637)'>_the</span><span style = 'color:rgba(253,10,253,0.23379460871219637)'>_modern</span><span style = 'color:rgba(253,10,253,0.23379460871219637)'>_society.</span>"
      ],
      "text/plain": [
       "<IPython.core.display.HTML object>"
      ]
     },
     "metadata": {},
     "output_type": "display_data"
    },
    {
     "data": {
      "text/html": [
       "<span style = 'color:rgba(253,10,10,0.21965723782777788)'>_Madhur</span><span style = 'color:rgba(253,10,10,0.21965723782777788)'>_Bhandarkar</span><span style = 'color:rgba(253,10,10,0.21965723782777788)'>_goes</span><span style = 'color:rgba(253,10,10,0.21965723782777788)'>_all</span><span style = 'color:rgba(253,10,10,0.21965723782777788)'>_out</span><span style = 'color:rgba(253,10,10,0.21965723782777788)'>_to</span><span style = 'color:rgba(253,10,10,0.23289543986320496)'>_touch</span><span style = 'color:rgba(253,10,10,0.21965723782777788)'>_upon</span><span style = 'color:rgba(253,10,10,0.21965723782777788)'>_taboo</span><span style = 'color:rgba(253,10,10,0.21965723782777788)'>_issues</span><span style = 'color:rgba(253,10,10,0.24407765865325928)'>_and</span><span style = 'color:rgba(253,10,10,0.23632838726043703)'>_gives</span><span style = 'color:rgba(253,10,10,0.22396716177463533)'>_the</span><span style = 'color:rgba(253,10,10,0.23040914237499238)'>_most</span><span style = 'color:rgba(253,10,10,0.2577395558357239)'>_realistic</span><span style = 'color:rgba(253,10,10,0.442420506477356)'>_picture</span><span style = 'color:rgba(253,10,10,0.26835279464721684)'>_of</span><span style = 'color:rgba(253,10,10,0.22396716177463533)'>_the</span><span style = 'color:rgba(253,10,10,0.2335272252559662)'>_modern</span><span style = 'color:rgba(253,10,10,0.22939978241920472)'>_society.</span>"
      ],
      "text/plain": [
       "<IPython.core.display.HTML object>"
      ]
     },
     "metadata": {},
     "output_type": "display_data"
    },
    {
     "name": "stdout",
     "output_type": "stream",
     "text": [
      "label:0.0\t guess:0.0\n"
     ]
    },
    {
     "data": {
      "text/html": [
       "<span style = 'color:rgba(253,10,253,0.22767690122127535)'>_I</span><span style = 'color:rgba(253,10,253,0.22767690122127535)'>_think</span><span style = 'color:rgba(253,10,253,0.22767690122127535)'>_I've</span><span style = 'color:rgba(253,10,253,0.22767690122127535)'>_seen</span><span style = 'color:rgba(253,10,253,0.31369053125381474)'>_worse</span><span style = 'color:rgba(253,10,253,0.22767690122127535)'>_films,</span><span style = 'color:rgba(253,10,253,0.22767690122127535)'>_so</span><span style = 'color:rgba(253,10,253,0.2414673775434494)'>_I'm</span><span style = 'color:rgba(253,10,253,0.22767690122127535)'>_giving</span><span style = 'color:rgba(253,10,253,0.23654786348342896)'>_this</span><span style = 'color:rgba(253,10,253,0.23192938268184662)'>_a</span><span style = 'color:rgba(253,10,253,0.22850988805294037)'>_3,</span><span style = 'color:rgba(253,10,253,0.22767690122127535)'>_but</span><span style = 'color:rgba(253,10,253,0.24769813418388367)'>_it's</span><span style = 'color:rgba(253,10,253,0.23192938268184662)'>_a</span><span style = 'color:rgba(253,10,253,0.23268280029296876)'>_struggle</span><span style = 'color:rgba(253,10,253,0.23263127505779269)'>_to</span><span style = 'color:rgba(253,10,253,0.291686087846756)'>_remember</span><span style = 'color:rgba(253,10,253,0.24032792747020723)'>_what</span><span style = 'color:rgba(253,10,253,0.24948417544364931)'>_they</span>"
      ],
      "text/plain": [
       "<IPython.core.display.HTML object>"
      ]
     },
     "metadata": {},
     "output_type": "display_data"
    },
    {
     "data": {
      "text/html": [
       "<span style = 'color:rgba(253,10,10,0.24147946536540987)'>_I</span><span style = 'color:rgba(253,10,10,0.29696327447891235)'>_think</span><span style = 'color:rgba(253,10,10,0.2418941855430603)'>_I've</span><span style = 'color:rgba(253,10,10,0.27597867846488955)'>_seen</span><span style = 'color:rgba(253,10,10,0.23114016056060793)'>_worse</span><span style = 'color:rgba(253,10,10,0.23553088307380676)'>_films,</span><span style = 'color:rgba(253,10,10,0.23575524389743807)'>_so</span><span style = 'color:rgba(253,10,10,0.23114016056060793)'>_I'm</span><span style = 'color:rgba(253,10,10,0.2514606833457947)'>_giving</span><span style = 'color:rgba(253,10,10,0.23114016056060793)'>_this</span><span style = 'color:rgba(253,10,10,0.23114016056060793)'>_a</span><span style = 'color:rgba(253,10,10,0.23114016056060793)'>_3,</span><span style = 'color:rgba(253,10,10,0.24725565910339356)'>_but</span><span style = 'color:rgba(253,10,10,0.23114016056060793)'>_it's</span><span style = 'color:rgba(253,10,10,0.23114016056060793)'>_a</span><span style = 'color:rgba(253,10,10,0.23114016056060793)'>_struggle</span><span style = 'color:rgba(253,10,10,0.23114016056060793)'>_to</span><span style = 'color:rgba(253,10,10,0.23114016056060793)'>_remember</span><span style = 'color:rgba(253,10,10,0.23114016056060793)'>_what</span><span style = 'color:rgba(253,10,10,0.23114016056060793)'>_they</span>"
      ],
      "text/plain": [
       "<IPython.core.display.HTML object>"
      ]
     },
     "metadata": {},
     "output_type": "display_data"
    },
    {
     "name": "stdout",
     "output_type": "stream",
     "text": [
      "label:0.0\t guess:0.0\n"
     ]
    },
    {
     "data": {
      "text/html": [
       "<span style = 'color:rgba(253,10,253,0.222171787917614)'>_I</span><span style = 'color:rgba(253,10,253,0.27344913482666017)'>_remember</span><span style = 'color:rgba(253,10,253,0.23077243864536287)'>_watching</span><span style = 'color:rgba(253,10,253,0.22927826046943667)'>_this</span><span style = 'color:rgba(253,10,253,0.22705997228622438)'>_film</span><span style = 'color:rgba(253,10,253,0.222171787917614)'>_back</span><span style = 'color:rgba(253,10,253,0.2290490597486496)'>_in</span><span style = 'color:rgba(253,10,253,0.22283908873796465)'>_86'</span><span style = 'color:rgba(253,10,253,0.222171787917614)'>_when</span><span style = 'color:rgba(253,10,253,0.222171787917614)'>_it</span><span style = 'color:rgba(253,10,253,0.222171787917614)'>_first</span><span style = 'color:rgba(253,10,253,0.222171787917614)'>_came</span><span style = 'color:rgba(253,10,253,0.22406865507364274)'>_out</span><span style = 'color:rgba(253,10,253,0.222171787917614)'>_&</span><span style = 'color:rgba(253,10,253,0.23230644166469575)'>_what</span><span style = 'color:rgba(253,10,253,0.222171787917614)'>_an</span><span style = 'color:rgba(253,10,253,0.38967623710632326)'>_awful</span><span style = 'color:rgba(253,10,253,0.31315007209777834)'>_film.</span><span style = 'color:rgba(253,10,253,0.2288045346736908)'>_The</span><span style = 'color:rgba(253,10,253,0.222171787917614)'>_acting</span>"
      ],
      "text/plain": [
       "<IPython.core.display.HTML object>"
      ]
     },
     "metadata": {},
     "output_type": "display_data"
    },
    {
     "data": {
      "text/html": [
       "<span style = 'color:rgba(253,10,10,0.23703159093856813)'>_I</span><span style = 'color:rgba(253,10,10,0.22780097723007203)'>_remember</span><span style = 'color:rgba(253,10,10,0.22780097723007203)'>_watching</span><span style = 'color:rgba(253,10,10,0.22780097723007203)'>_this</span><span style = 'color:rgba(253,10,10,0.22780097723007203)'>_film</span><span style = 'color:rgba(253,10,10,0.24413340091705324)'>_back</span><span style = 'color:rgba(253,10,10,0.22780097723007203)'>_in</span><span style = 'color:rgba(253,10,10,0.22780097723007203)'>_86'</span><span style = 'color:rgba(253,10,10,0.24914418160915375)'>_when</span><span style = 'color:rgba(253,10,10,0.24212259650230408)'>_it</span><span style = 'color:rgba(253,10,10,0.26775358915328984)'>_first</span><span style = 'color:rgba(253,10,10,0.25838229656219486)'>_came</span><span style = 'color:rgba(253,10,10,0.22780097723007203)'>_out</span><span style = 'color:rgba(253,10,10,0.2782127141952515)'>_&</span><span style = 'color:rgba(253,10,10,0.22780097723007203)'>_what</span><span style = 'color:rgba(253,10,10,0.2406527936458588)'>_an</span><span style = 'color:rgba(253,10,10,0.22780097723007203)'>_awful</span><span style = 'color:rgba(253,10,10,0.22780097723007203)'>_film.</span><span style = 'color:rgba(253,10,10,0.22780097723007203)'>_The</span><span style = 'color:rgba(253,10,10,0.27675610184669497)'>_acting</span>"
      ],
      "text/plain": [
       "<IPython.core.display.HTML object>"
      ]
     },
     "metadata": {},
     "output_type": "display_data"
    },
    {
     "name": "stdout",
     "output_type": "stream",
     "text": [
      "label:1.0\t guess:1.0\n"
     ]
    },
    {
     "data": {
      "text/html": [
       "<span style = 'color:rgba(253,10,253,0.22977332770824432)'>_All</span><span style = 'color:rgba(253,10,253,0.22977332770824432)'>_I</span><span style = 'color:rgba(253,10,253,0.22977332770824432)'>_can</span><span style = 'color:rgba(253,10,253,0.22977332770824432)'>_say</span><span style = 'color:rgba(253,10,253,0.22977332770824432)'>_is,</span><span style = 'color:rgba(253,10,253,0.22977332770824432)'>_if</span><span style = 'color:rgba(253,10,253,0.22977332770824432)'>_you</span><span style = 'color:rgba(253,10,253,0.2995215237140656)'>_don't</span><span style = 'color:rgba(253,10,253,0.27396739125251773)'>_fall</span><span style = 'color:rgba(253,10,253,0.23900845646858215)'>_in</span><span style = 'color:rgba(253,10,253,0.22977332770824432)'>_love</span><span style = 'color:rgba(253,10,253,0.22977332770824432)'>_with</span><span style = 'color:rgba(253,10,253,0.22977332770824432)'>_Big</span><span style = 'color:rgba(253,10,253,0.22977332770824432)'>_and</span><span style = 'color:rgba(253,10,253,0.2852867841720581)'>_Little</span><span style = 'color:rgba(253,10,253,0.2306694120168686)'>_Edie</span><span style = 'color:rgba(253,10,253,0.23362759351730347)'>_after</span><span style = 'color:rgba(253,10,253,0.2413226902484894)'>_watching</span><span style = 'color:rgba(253,10,253,0.23931623101234437)'>_this</span><span style = 'color:rgba(253,10,253,0.22977332770824432)'>_movie,</span>"
      ],
      "text/plain": [
       "<IPython.core.display.HTML object>"
      ]
     },
     "metadata": {},
     "output_type": "display_data"
    },
    {
     "data": {
      "text/html": [
       "<span style = 'color:rgba(253,10,10,0.24498232305049897)'>_All</span><span style = 'color:rgba(253,10,10,0.234870183467865)'>_I</span><span style = 'color:rgba(253,10,10,0.23424732983112337)'>_can</span><span style = 'color:rgba(253,10,10,0.23541316688060762)'>_say</span><span style = 'color:rgba(253,10,10,0.22880062758922579)'>_is,</span><span style = 'color:rgba(253,10,10,0.23754361867904664)'>_if</span><span style = 'color:rgba(253,10,10,0.24979789555072784)'>_you</span><span style = 'color:rgba(253,10,10,0.22617833018302919)'>_don't</span><span style = 'color:rgba(253,10,10,0.22617833018302919)'>_fall</span><span style = 'color:rgba(253,10,10,0.22617833018302919)'>_in</span><span style = 'color:rgba(253,10,10,0.37076442241668706)'>_love</span><span style = 'color:rgba(253,10,10,0.23562126457691193)'>_with</span><span style = 'color:rgba(253,10,10,0.23114443123340608)'>_Big</span><span style = 'color:rgba(253,10,10,0.2586999833583832)'>_and</span><span style = 'color:rgba(253,10,10,0.22617833018302919)'>_Little</span><span style = 'color:rgba(253,10,10,0.22617833018302919)'>_Edie</span><span style = 'color:rgba(253,10,10,0.22617833018302919)'>_after</span><span style = 'color:rgba(253,10,10,0.22617833018302919)'>_watching</span><span style = 'color:rgba(253,10,10,0.22617833018302919)'>_this</span><span style = 'color:rgba(253,10,10,0.22868808507919314)'>_movie,</span>"
      ],
      "text/plain": [
       "<IPython.core.display.HTML object>"
      ]
     },
     "metadata": {},
     "output_type": "display_data"
    },
    {
     "name": "stdout",
     "output_type": "stream",
     "text": [
      "label:1.0\t guess:1.0\n"
     ]
    },
    {
     "data": {
      "text/html": [
       "<span style = 'color:rgba(253,10,253,0.22442405968904497)'>_If</span><span style = 'color:rgba(253,10,253,0.24009676277637482)'>_you're</span><span style = 'color:rgba(253,10,253,0.228176748752594)'>_a</span><span style = 'color:rgba(253,10,253,0.228176748752594)'>_a</span><span style = 'color:rgba(253,10,253,0.2653106987476349)'>_fan</span><span style = 'color:rgba(253,10,253,0.22442405968904497)'>_of</span><span style = 'color:rgba(253,10,253,0.3157925009727478)'>_either</span><span style = 'color:rgba(253,10,253,0.2678161382675171)'>_or</span><span style = 'color:rgba(253,10,253,0.22442405968904497)'>_both</span><span style = 'color:rgba(253,10,253,0.2888762712478638)'>_Chuck</span><span style = 'color:rgba(253,10,253,0.22515914738178255)'>_Norris</span><span style = 'color:rgba(253,10,253,0.22442405968904497)'>_&</span><span style = 'color:rgba(253,10,253,0.22515914738178255)'>_Judson</span><span style = 'color:rgba(253,10,253,0.22515914738178255)'>_Mills</span><span style = 'color:rgba(253,10,253,0.25825968384742737)'>_then</span><span style = 'color:rgba(253,10,253,0.23225242495536805)'>_this</span><span style = 'color:rgba(253,10,253,0.22442405968904497)'>_is</span><span style = 'color:rgba(253,10,253,0.22442405968904497)'>_the</span><span style = 'color:rgba(253,10,253,0.22442405968904497)'>_movie</span><span style = 'color:rgba(253,10,253,0.22879615128040315)'>_to</span>"
      ],
      "text/plain": [
       "<IPython.core.display.HTML object>"
      ]
     },
     "metadata": {},
     "output_type": "display_data"
    },
    {
     "data": {
      "text/html": [
       "<span style = 'color:rgba(253,10,10,0.23755106329917908)'>_If</span><span style = 'color:rgba(253,10,10,0.22798859775066377)'>_you're</span><span style = 'color:rgba(253,10,10,0.22798859775066377)'>_a</span><span style = 'color:rgba(253,10,10,0.22798859775066377)'>_a</span><span style = 'color:rgba(253,10,10,0.22798859775066377)'>_fan</span><span style = 'color:rgba(253,10,10,0.2973228693008423)'>_of</span><span style = 'color:rgba(253,10,10,0.22798859775066377)'>_either</span><span style = 'color:rgba(253,10,10,0.22798859775066377)'>_or</span><span style = 'color:rgba(253,10,10,0.28821613192558293)'>_both</span><span style = 'color:rgba(253,10,10,0.22798859775066377)'>_Chuck</span><span style = 'color:rgba(253,10,10,0.22798859775066377)'>_Norris</span><span style = 'color:rgba(253,10,10,0.27874054312706)'>_&</span><span style = 'color:rgba(253,10,10,0.22798859775066377)'>_Judson</span><span style = 'color:rgba(253,10,10,0.22798859775066377)'>_Mills</span><span style = 'color:rgba(253,10,10,0.22798859775066377)'>_then</span><span style = 'color:rgba(253,10,10,0.22798859775066377)'>_this</span><span style = 'color:rgba(253,10,10,0.2541426777839661)'>_is</span><span style = 'color:rgba(253,10,10,0.2341251999139786)'>_the</span><span style = 'color:rgba(253,10,10,0.24604976773262024)'>_movie</span><span style = 'color:rgba(253,10,10,0.22798859775066377)'>_to</span>"
      ],
      "text/plain": [
       "<IPython.core.display.HTML object>"
      ]
     },
     "metadata": {},
     "output_type": "display_data"
    },
    {
     "name": "stdout",
     "output_type": "stream",
     "text": [
      "label:0.0\t guess:0.0\n"
     ]
    },
    {
     "data": {
      "text/html": [
       "<span style = 'color:rgba(253,10,253,0.2247785419225693)'>_And,</span><span style = 'color:rgba(253,10,253,0.23272052705287935)'>_finally,</span><span style = 'color:rgba(253,10,253,0.2341441661119461)'>_old,</span><span style = 'color:rgba(253,10,253,0.2247785419225693)'>_old</span><span style = 'color:rgba(253,10,253,0.2247785419225693)'>_Michael</span><span style = 'color:rgba(253,10,253,0.22552429735660554)'>_Corleone</span><span style = 'color:rgba(253,10,253,0.2463851034641266)'>_falls</span><span style = 'color:rgba(253,10,253,0.24270312786102297)'>_over</span><span style = 'color:rgba(253,10,253,0.23803559839725497)'>_and</span><span style = 'color:rgba(253,10,253,0.2465555489063263)'>_goes</span><span style = 'color:rgba(253,10,253,0.38131814002990727)'>_'THUMP!'</span><span style = 'color:rgba(253,10,253,0.23219110667705536)'>_Who</span><span style = 'color:rgba(253,10,253,0.22552429735660554)'>_REALLY</span><span style = 'color:rgba(253,10,253,0.22488392144441605)'>_did</span><span style = 'color:rgba(253,10,253,0.23246437907218934)'>_the</span><span style = 'color:rgba(253,10,253,0.2247785419225693)'>_writing</span><span style = 'color:rgba(253,10,253,0.2626084625720978)'>_for</span><span style = 'color:rgba(253,10,253,0.22552429735660554)'>_this</span><span style = 'color:rgba(253,10,253,0.2247785419225693)'>_last</span><span style = 'color:rgba(253,10,253,0.22552429735660554)'>_installment</span>"
      ],
      "text/plain": [
       "<IPython.core.display.HTML object>"
      ]
     },
     "metadata": {},
     "output_type": "display_data"
    },
    {
     "data": {
      "text/html": [
       "<span style = 'color:rgba(253,10,10,0.25023070573806766)'>_And,</span><span style = 'color:rgba(253,10,10,0.2350247532129288)'>_finally,</span><span style = 'color:rgba(253,10,10,0.2350247532129288)'>_old,</span><span style = 'color:rgba(253,10,10,0.24270406365394592)'>_old</span><span style = 'color:rgba(253,10,10,0.27123605608940127)'>_Michael</span><span style = 'color:rgba(253,10,10,0.2350247532129288)'>_Corleone</span><span style = 'color:rgba(253,10,10,0.2350247532129288)'>_falls</span><span style = 'color:rgba(253,10,10,0.2350247532129288)'>_over</span><span style = 'color:rgba(253,10,10,0.2350247532129288)'>_and</span><span style = 'color:rgba(253,10,10,0.2350247532129288)'>_goes</span><span style = 'color:rgba(253,10,10,0.2350247532129288)'>_'THUMP!'</span><span style = 'color:rgba(253,10,10,0.2350247532129288)'>_Who</span><span style = 'color:rgba(253,10,10,0.2350247532129288)'>_REALLY</span><span style = 'color:rgba(253,10,10,0.2350247532129288)'>_did</span><span style = 'color:rgba(253,10,10,0.2350247532129288)'>_the</span><span style = 'color:rgba(253,10,10,0.24270406365394592)'>_writing</span><span style = 'color:rgba(253,10,10,0.2350247532129288)'>_for</span><span style = 'color:rgba(253,10,10,0.2350247532129288)'>_this</span><span style = 'color:rgba(253,10,10,0.267753803730011)'>_last</span><span style = 'color:rgba(253,10,10,0.2350247532129288)'>_installment</span>"
      ],
      "text/plain": [
       "<IPython.core.display.HTML object>"
      ]
     },
     "metadata": {},
     "output_type": "display_data"
    },
    {
     "name": "stdout",
     "output_type": "stream",
     "text": [
      "label:0.0\t guess:0.0\n"
     ]
    },
    {
     "data": {
      "text/html": [
       "<span style = 'color:rgba(253,10,253,0.27723929882049564)'>_What</span><span style = 'color:rgba(253,10,253,0.23607654869556427)'>_a</span><span style = 'color:rgba(253,10,253,0.3254153966903687)'>_dreadful</span><span style = 'color:rgba(253,10,253,0.23127173483371735)'>_movie!</span><span style = 'color:rgba(253,10,253,0.23127173483371735)'>_For</span><span style = 'color:rgba(253,10,253,0.23127173483371735)'>_some</span><span style = 'color:rgba(253,10,253,0.24332889616489412)'>_reason,</span><span style = 'color:rgba(253,10,253,0.23127173483371735)'>_scientific</span><span style = 'color:rgba(253,10,253,0.23221291601657867)'>_laboratories</span><span style = 'color:rgba(253,10,253,0.23127173483371735)'>_and</span><span style = 'color:rgba(253,10,253,0.23221291601657867)'>_outposts</span><span style = 'color:rgba(253,10,253,0.23127173483371735)'>_always</span><span style = 'color:rgba(253,10,253,0.2374707341194153)'>_have</span><span style = 'color:rgba(253,10,253,0.23607654869556427)'>_a</span><span style = 'color:rgba(253,10,253,0.23221291601657867)'>_staff</span><span style = 'color:rgba(253,10,253,0.23127173483371735)'>_of</span><span style = 'color:rgba(253,10,253,0.23221291601657867)'>_grubby,</span><span style = 'color:rgba(253,10,253,0.23221291601657867)'>_dirty,</span><span style = 'color:rgba(253,10,253,0.23221291601657867)'>_mean-spirited,</span><span style = 'color:rgba(253,10,253,0.23221291601657867)'>_misanthropes</span>"
      ],
      "text/plain": [
       "<IPython.core.display.HTML object>"
      ]
     },
     "metadata": {},
     "output_type": "display_data"
    },
    {
     "data": {
      "text/html": [
       "<span style = 'color:rgba(253,10,10,0.22488277554512026)'>_What</span><span style = 'color:rgba(253,10,10,0.22488277554512026)'>_a</span><span style = 'color:rgba(253,10,10,0.22488277554512026)'>_dreadful</span><span style = 'color:rgba(253,10,10,0.2546346724033356)'>_movie!</span><span style = 'color:rgba(253,10,10,0.23474277555942535)'>_For</span><span style = 'color:rgba(253,10,10,0.23563009798526766)'>_some</span><span style = 'color:rgba(253,10,10,0.22488277554512026)'>_reason,</span><span style = 'color:rgba(253,10,10,0.272600257396698)'>_scientific</span><span style = 'color:rgba(253,10,10,0.22488277554512026)'>_laboratories</span><span style = 'color:rgba(253,10,10,0.2557949483394623)'>_and</span><span style = 'color:rgba(253,10,10,0.22488277554512026)'>_outposts</span><span style = 'color:rgba(253,10,10,0.3365979313850403)'>_always</span><span style = 'color:rgba(253,10,10,0.22488277554512026)'>_have</span><span style = 'color:rgba(253,10,10,0.22488277554512026)'>_a</span><span style = 'color:rgba(253,10,10,0.22488277554512026)'>_staff</span><span style = 'color:rgba(253,10,10,0.2865232110023499)'>_of</span><span style = 'color:rgba(253,10,10,0.22488277554512026)'>_grubby,</span><span style = 'color:rgba(253,10,10,0.22488277554512026)'>_dirty,</span><span style = 'color:rgba(253,10,10,0.22488277554512026)'>_mean-spirited,</span><span style = 'color:rgba(253,10,10,0.22488277554512026)'>_misanthropes</span>"
      ],
      "text/plain": [
       "<IPython.core.display.HTML object>"
      ]
     },
     "metadata": {},
     "output_type": "display_data"
    },
    {
     "name": "stdout",
     "output_type": "stream",
     "text": [
      "label:1.0\t guess:1.0\n"
     ]
    },
    {
     "data": {
      "text/html": [
       "<span style = 'color:rgba(253,10,253,0.23158384561538697)'>_This</span><span style = 'color:rgba(253,10,253,0.22601028084754946)'>_first-rate</span><span style = 'color:rgba(253,10,253,0.22525032460689545)'>_western</span><span style = 'color:rgba(253,10,253,0.2538351655006409)'>_tale</span><span style = 'color:rgba(253,10,253,0.22525032460689545)'>_of</span><span style = 'color:rgba(253,10,253,0.22525032460689545)'>_the</span><span style = 'color:rgba(253,10,253,0.289604914188385)'>_gold</span><span style = 'color:rgba(253,10,253,0.2297703266143799)'>_rush</span><span style = 'color:rgba(253,10,253,0.228562530875206)'>_brings</span><span style = 'color:rgba(253,10,253,0.22777831554412842)'>_great</span><span style = 'color:rgba(253,10,253,0.2297703266143799)'>_excitement,</span><span style = 'color:rgba(253,10,253,0.2258210837841034)'>_romance,</span><span style = 'color:rgba(253,10,253,0.22525032460689545)'>_and</span><span style = 'color:rgba(253,10,253,0.22601028084754946)'>_James</span><span style = 'color:rgba(253,10,253,0.32970489263534547)'>_Stewart</span><span style = 'color:rgba(253,10,253,0.22912997007369995)'>_to</span><span style = 'color:rgba(253,10,253,0.2592796623706818)'>_the</span><span style = 'color:rgba(253,10,253,0.2542668163776398)'>_screen.</span><span style = 'color:rgba(253,10,253,0.22601028084754946)'>_\"The</span><span style = 'color:rgba(253,10,253,0.23186000287532807)'>_Far</span>"
      ],
      "text/plain": [
       "<IPython.core.display.HTML object>"
      ]
     },
     "metadata": {},
     "output_type": "display_data"
    },
    {
     "data": {
      "text/html": [
       "<span style = 'color:rgba(253,10,10,0.23301777839660645)'>_This</span><span style = 'color:rgba(253,10,10,0.23301777839660645)'>_first-rate</span><span style = 'color:rgba(253,10,10,0.2638714015483856)'>_western</span><span style = 'color:rgba(253,10,10,0.23301777839660645)'>_tale</span><span style = 'color:rgba(253,10,10,0.24094303250312807)'>_of</span><span style = 'color:rgba(253,10,10,0.2520906329154968)'>_the</span><span style = 'color:rgba(253,10,10,0.23301777839660645)'>_gold</span><span style = 'color:rgba(253,10,10,0.23301777839660645)'>_rush</span><span style = 'color:rgba(253,10,10,0.23301777839660645)'>_brings</span><span style = 'color:rgba(253,10,10,0.23301777839660645)'>_great</span><span style = 'color:rgba(253,10,10,0.23301777839660645)'>_excitement,</span><span style = 'color:rgba(253,10,10,0.23301777839660645)'>_romance,</span><span style = 'color:rgba(253,10,10,0.31481050252914433)'>_and</span><span style = 'color:rgba(253,10,10,0.23301777839660645)'>_James</span><span style = 'color:rgba(253,10,10,0.23301777839660645)'>_Stewart</span><span style = 'color:rgba(253,10,10,0.23301777839660645)'>_to</span><span style = 'color:rgba(253,10,10,0.23301777839660645)'>_the</span><span style = 'color:rgba(253,10,10,0.23301777839660645)'>_screen.</span><span style = 'color:rgba(253,10,10,0.23301777839660645)'>_\"The</span><span style = 'color:rgba(253,10,10,0.23301777839660645)'>_Far</span>"
      ],
      "text/plain": [
       "<IPython.core.display.HTML object>"
      ]
     },
     "metadata": {},
     "output_type": "display_data"
    },
    {
     "name": "stdout",
     "output_type": "stream",
     "text": [
      "label:1.0\t guess:1.0\n"
     ]
    },
    {
     "data": {
      "text/html": [
       "<span style = 'color:rgba(253,10,253,0.2577955722808838)'>_John</span><span style = 'color:rgba(253,10,253,0.2333916425704956)'>_Thaw,</span><span style = 'color:rgba(253,10,253,0.234396630525589)'>_of</span><span style = 'color:rgba(253,10,253,0.234396630525589)'>_Inspector</span><span style = 'color:rgba(253,10,253,0.26416165828704835)'>_Morse</span><span style = 'color:rgba(253,10,253,0.234396630525589)'>_fame,</span><span style = 'color:rgba(253,10,253,0.2440942853689194)'>_plays</span><span style = 'color:rgba(253,10,253,0.2333916425704956)'>_old</span><span style = 'color:rgba(253,10,253,0.2333916425704956)'>_Tom</span><span style = 'color:rgba(253,10,253,0.234396630525589)'>_Oakley</span><span style = 'color:rgba(253,10,253,0.2333916425704956)'>_in</span><span style = 'color:rgba(253,10,253,0.24735423624515535)'>_this</span><span style = 'color:rgba(253,10,253,0.23936900198459626)'>_movie.</span><span style = 'color:rgba(253,10,253,0.234396630525589)'>_Tom</span><span style = 'color:rgba(253,10,253,0.24172230362892153)'>_lives</span><span style = 'color:rgba(253,10,253,0.2509227871894837)'>_in</span><span style = 'color:rgba(253,10,253,0.23648803532123566)'>_a</span><span style = 'color:rgba(253,10,253,0.234396630525589)'>_tiny</span><span style = 'color:rgba(253,10,253,0.2437491059303284)'>_English</span><span style = 'color:rgba(253,10,253,0.234396630525589)'>_village</span>"
      ],
      "text/plain": [
       "<IPython.core.display.HTML object>"
      ]
     },
     "metadata": {},
     "output_type": "display_data"
    },
    {
     "data": {
      "text/html": [
       "<span style = 'color:rgba(253,10,10,0.23096626102924347)'>_John</span><span style = 'color:rgba(253,10,10,0.24314885735511782)'>_Thaw,</span><span style = 'color:rgba(253,10,10,0.23096626102924347)'>_of</span><span style = 'color:rgba(253,10,10,0.23096626102924347)'>_Inspector</span><span style = 'color:rgba(253,10,10,0.23096626102924347)'>_Morse</span><span style = 'color:rgba(253,10,10,0.23096626102924347)'>_fame,</span><span style = 'color:rgba(253,10,10,0.23096626102924347)'>_plays</span><span style = 'color:rgba(253,10,10,0.29381123185157776)'>_old</span><span style = 'color:rgba(253,10,10,0.30767689943313603)'>_Tom</span><span style = 'color:rgba(253,10,10,0.23096626102924347)'>_Oakley</span><span style = 'color:rgba(253,10,10,0.25990283489227295)'>_in</span><span style = 'color:rgba(253,10,10,0.23096626102924347)'>_this</span><span style = 'color:rgba(253,10,10,0.23096626102924347)'>_movie.</span><span style = 'color:rgba(253,10,10,0.23096626102924347)'>_Tom</span><span style = 'color:rgba(253,10,10,0.23096626102924347)'>_lives</span><span style = 'color:rgba(253,10,10,0.23096626102924347)'>_in</span><span style = 'color:rgba(253,10,10,0.23096626102924347)'>_a</span><span style = 'color:rgba(253,10,10,0.23096626102924347)'>_tiny</span><span style = 'color:rgba(253,10,10,0.23096626102924347)'>_English</span><span style = 'color:rgba(253,10,10,0.23096626102924347)'>_village</span>"
      ],
      "text/plain": [
       "<IPython.core.display.HTML object>"
      ]
     },
     "metadata": {},
     "output_type": "display_data"
    },
    {
     "name": "stdout",
     "output_type": "stream",
     "text": [
      "label:0.0\t guess:0.0\n"
     ]
    },
    {
     "data": {
      "text/html": [
       "<span style = 'color:rgba(253,10,253,0.2218338653445244)'>_Disjointed,</span><span style = 'color:rgba(253,10,253,0.2218338653445244)'>_unclear,</span><span style = 'color:rgba(253,10,253,0.3978261470794678)'>_bad</span><span style = 'color:rgba(253,10,253,0.2218338653445244)'>_screenplay,</span><span style = 'color:rgba(253,10,253,0.3440109610557556)'>_poor</span><span style = 'color:rgba(253,10,253,0.24003298282623292)'>_photography</span><span style = 'color:rgba(253,10,253,0.22119593620300293)'>_and</span><span style = 'color:rgba(253,10,253,0.2218338653445244)'>_direction...all</span><span style = 'color:rgba(253,10,253,0.22777051627635958)'>_in</span><span style = 'color:rgba(253,10,253,0.23982431292533876)'>_all</span><span style = 'color:rgba(253,10,253,0.22119593620300293)'>_very</span><span style = 'color:rgba(253,10,253,0.22119593620300293)'>_obviously</span><span style = 'color:rgba(253,10,253,0.22119593620300293)'>_an</span><span style = 'color:rgba(253,10,253,0.2218338653445244)'>_ill-conceived</span><span style = 'color:rgba(253,10,253,0.22119593620300293)'>_first</span><span style = 'color:rgba(253,10,253,0.2477134943008423)'>_effort</span><span style = 'color:rgba(253,10,253,0.22119593620300293)'>_at</span><span style = 'color:rgba(253,10,253,0.22119593620300293)'>_commercial</span><span style = 'color:rgba(253,10,253,0.22408475130796435)'>_film-making</span><span style = 'color:rgba(253,10,253,0.22119593620300293)'>_by</span>"
      ],
      "text/plain": [
       "<IPython.core.display.HTML object>"
      ]
     },
     "metadata": {},
     "output_type": "display_data"
    },
    {
     "data": {
      "text/html": [
       "<span style = 'color:rgba(253,10,10,0.2306721180677414)'>_Disjointed,</span><span style = 'color:rgba(253,10,10,0.2306721180677414)'>_unclear,</span><span style = 'color:rgba(253,10,10,0.2306721180677414)'>_bad</span><span style = 'color:rgba(253,10,10,0.2306721180677414)'>_screenplay,</span><span style = 'color:rgba(253,10,10,0.2306721180677414)'>_poor</span><span style = 'color:rgba(253,10,10,0.2306721180677414)'>_photography</span><span style = 'color:rgba(253,10,10,0.2687764585018158)'>_and</span><span style = 'color:rgba(253,10,10,0.2306721180677414)'>_direction...all</span><span style = 'color:rgba(253,10,10,0.2306721180677414)'>_in</span><span style = 'color:rgba(253,10,10,0.2306721180677414)'>_all</span><span style = 'color:rgba(253,10,10,0.2782361149787903)'>_very</span><span style = 'color:rgba(253,10,10,0.2612475097179413)'>_obviously</span><span style = 'color:rgba(253,10,10,0.2448511987924576)'>_an</span><span style = 'color:rgba(253,10,10,0.2306721180677414)'>_ill-conceived</span><span style = 'color:rgba(253,10,10,0.27475081682205205)'>_first</span><span style = 'color:rgba(253,10,10,0.2306721180677414)'>_effort</span><span style = 'color:rgba(253,10,10,0.23351485431194308)'>_at</span><span style = 'color:rgba(253,10,10,0.23726347088813782)'>_commercial</span><span style = 'color:rgba(253,10,10,0.2306721180677414)'>_film-making</span><span style = 'color:rgba(253,10,10,0.23329418003559113)'>_by</span>"
      ],
      "text/plain": [
       "<IPython.core.display.HTML object>"
      ]
     },
     "metadata": {},
     "output_type": "display_data"
    },
    {
     "name": "stdout",
     "output_type": "stream",
     "text": [
      "label:0.0\t guess:0.0\n"
     ]
    },
    {
     "data": {
      "text/html": [
       "<span style = 'color:rgba(253,10,253,0.24852704703807832)'>_The</span><span style = 'color:rgba(253,10,253,0.23735284209251406)'>_movie</span><span style = 'color:rgba(253,10,253,0.23735284209251406)'>_is</span><span style = 'color:rgba(253,10,253,0.2529717981815338)'>_about</span><span style = 'color:rgba(253,10,253,0.23735284209251406)'>_two</span><span style = 'color:rgba(253,10,253,0.23847704827785493)'>_stories:</span><span style = 'color:rgba(253,10,253,0.23819716572761537)'>_one</span><span style = 'color:rgba(253,10,253,0.23735284209251406)'>_is</span><span style = 'color:rgba(253,10,253,0.2430920034646988)'>_a</span><span style = 'color:rgba(253,10,253,0.23735284209251406)'>_political</span><span style = 'color:rgba(253,10,253,0.24668339490890503)'>_murder</span><span style = 'color:rgba(253,10,253,0.23735284209251406)'>_of</span><span style = 'color:rgba(253,10,253,0.2430920034646988)'>_a</span><span style = 'color:rgba(253,10,253,0.23847704827785493)'>_call-girl,</span><span style = 'color:rgba(253,10,253,0.23735284209251406)'>_the</span><span style = 'color:rgba(253,10,253,0.23735284209251406)'>_other</span><span style = 'color:rgba(253,10,253,0.23735284209251406)'>_an</span><span style = 'color:rgba(253,10,253,0.23847704827785493)'>_upper-class</span><span style = 'color:rgba(253,10,253,0.23735284209251406)'>_political</span><span style = 'color:rgba(253,10,253,0.23847704827785493)'>_party.</span>"
      ],
      "text/plain": [
       "<IPython.core.display.HTML object>"
      ]
     },
     "metadata": {},
     "output_type": "display_data"
    },
    {
     "data": {
      "text/html": [
       "<span style = 'color:rgba(253,10,10,0.2298815667629242)'>_The</span><span style = 'color:rgba(253,10,10,0.2491642773151398)'>_movie</span><span style = 'color:rgba(253,10,10,0.2578045427799225)'>_is</span><span style = 'color:rgba(253,10,10,0.2298815667629242)'>_about</span><span style = 'color:rgba(253,10,10,0.2331718444824219)'>_two</span><span style = 'color:rgba(253,10,10,0.2298815667629242)'>_stories:</span><span style = 'color:rgba(253,10,10,0.2298815667629242)'>_one</span><span style = 'color:rgba(253,10,10,0.2578045427799225)'>_is</span><span style = 'color:rgba(253,10,10,0.2298815667629242)'>_a</span><span style = 'color:rgba(253,10,10,0.23009377121925356)'>_political</span><span style = 'color:rgba(253,10,10,0.2298815667629242)'>_murder</span><span style = 'color:rgba(253,10,10,0.3039051651954651)'>_of</span><span style = 'color:rgba(253,10,10,0.2298815667629242)'>_a</span><span style = 'color:rgba(253,10,10,0.2298815667629242)'>_call-girl,</span><span style = 'color:rgba(253,10,10,0.23643321096897127)'>_the</span><span style = 'color:rgba(253,10,10,0.2590180277824402)'>_other</span><span style = 'color:rgba(253,10,10,0.24369519352912905)'>_an</span><span style = 'color:rgba(253,10,10,0.2298815667629242)'>_upper-class</span><span style = 'color:rgba(253,10,10,0.23009377121925356)'>_political</span><span style = 'color:rgba(253,10,10,0.2298815667629242)'>_party.</span>"
      ],
      "text/plain": [
       "<IPython.core.display.HTML object>"
      ]
     },
     "metadata": {},
     "output_type": "display_data"
    },
    {
     "name": "stdout",
     "output_type": "stream",
     "text": [
      "label:1.0\t guess:1.0\n"
     ]
    },
    {
     "data": {
      "text/html": [
       "<span style = 'color:rgba(253,10,253,0.22798060476779938)'>_I</span><span style = 'color:rgba(253,10,253,0.22798060476779938)'>_very</span><span style = 'color:rgba(253,10,253,0.2316428065299988)'>_much</span><span style = 'color:rgba(253,10,253,0.22798060476779938)'>_enjoyed</span><span style = 'color:rgba(253,10,253,0.23847634196281434)'>_\"The</span><span style = 'color:rgba(253,10,253,0.22882273197174074)'>_Revolution</span><span style = 'color:rgba(253,10,253,0.22798060476779938)'>_Will</span><span style = 'color:rgba(253,10,253,0.29478003382682805)'>_Not</span><span style = 'color:rgba(253,10,253,0.22900129556655885)'>_Be</span><span style = 'color:rgba(253,10,253,0.22882273197174074)'>_Televised\".</span><span style = 'color:rgba(253,10,253,0.22798060476779938)'>_It</span><span style = 'color:rgba(253,10,253,0.2344427227973938)'>_gave</span><span style = 'color:rgba(253,10,253,0.22798060476779938)'>_me,</span><span style = 'color:rgba(253,10,253,0.2578202486038208)'>_once</span><span style = 'color:rgba(253,10,253,0.22798060476779938)'>_again,</span><span style = 'color:rgba(253,10,253,0.23227974474430085)'>_a</span><span style = 'color:rgba(253,10,253,0.22798060476779938)'>_positive</span><span style = 'color:rgba(253,10,253,0.33240532875061035)'>_feeling</span><span style = 'color:rgba(253,10,253,0.23968058824539185)'>_about</span><span style = 'color:rgba(253,10,253,0.22798060476779938)'>_the</span>"
      ],
      "text/plain": [
       "<IPython.core.display.HTML object>"
      ]
     },
     "metadata": {},
     "output_type": "display_data"
    },
    {
     "data": {
      "text/html": [
       "<span style = 'color:rgba(253,10,10,0.23117876648902894)'>_I</span><span style = 'color:rgba(253,10,10,0.25970493555068974)'>_very</span><span style = 'color:rgba(253,10,10,0.22340704947710038)'>_much</span><span style = 'color:rgba(253,10,10,0.40550549030303956)'>_enjoyed</span><span style = 'color:rgba(253,10,10,0.22340704947710038)'>_\"The</span><span style = 'color:rgba(253,10,10,0.22340704947710038)'>_Revolution</span><span style = 'color:rgba(253,10,10,0.26404779553413393)'>_Will</span><span style = 'color:rgba(253,10,10,0.22340704947710038)'>_Not</span><span style = 'color:rgba(253,10,10,0.22340704947710038)'>_Be</span><span style = 'color:rgba(253,10,10,0.22340704947710038)'>_Televised\".</span><span style = 'color:rgba(253,10,10,0.23130706250667574)'>_It</span><span style = 'color:rgba(253,10,10,0.22340704947710038)'>_gave</span><span style = 'color:rgba(253,10,10,0.24619101583957673)'>_me,</span><span style = 'color:rgba(253,10,10,0.22340704947710038)'>_once</span><span style = 'color:rgba(253,10,10,0.22388303428888323)'>_again,</span><span style = 'color:rgba(253,10,10,0.22340704947710038)'>_a</span><span style = 'color:rgba(253,10,10,0.2521652162075043)'>_positive</span><span style = 'color:rgba(253,10,10,0.22340704947710038)'>_feeling</span><span style = 'color:rgba(253,10,10,0.22340704947710038)'>_about</span><span style = 'color:rgba(253,10,10,0.22853913307189944)'>_the</span>"
      ],
      "text/plain": [
       "<IPython.core.display.HTML object>"
      ]
     },
     "metadata": {},
     "output_type": "display_data"
    },
    {
     "name": "stdout",
     "output_type": "stream",
     "text": [
      "label:0.0\t guess:0.0\n"
     ]
    },
    {
     "data": {
      "text/html": [
       "<span style = 'color:rgba(253,10,253,0.22253613770008088)'>_Freddy's</span><span style = 'color:rgba(253,10,253,0.2232144042849541)'>_Dead:</span><span style = 'color:rgba(253,10,253,0.2232144042849541)'>_The</span><span style = 'color:rgba(253,10,253,0.22253613770008088)'>_Final</span><span style = 'color:rgba(253,10,253,0.22253613770008088)'>_Nightmare,</span><span style = 'color:rgba(253,10,253,0.25353168249130253)'>_the</span><span style = 'color:rgba(253,10,253,0.22253613770008088)'>_sixth</span><span style = 'color:rgba(253,10,253,0.2232144042849541)'>_installment</span><span style = 'color:rgba(253,10,253,0.22253613770008088)'>_of</span><span style = 'color:rgba(253,10,253,0.25143855810165405)'>_the</span><span style = 'color:rgba(253,10,253,0.22253613770008088)'>_Nightmare</span><span style = 'color:rgba(253,10,253,0.24656958281993868)'>_on</span><span style = 'color:rgba(253,10,253,0.24777481853961947)'>_Elm</span><span style = 'color:rgba(253,10,253,0.24409532248973848)'>_Street</span><span style = 'color:rgba(253,10,253,0.41033453941345216)'>_series</span><span style = 'color:rgba(253,10,253,0.24402762651443483)'>_and</span><span style = 'color:rgba(253,10,253,0.22253613770008088)'>_once</span><span style = 'color:rgba(253,10,253,0.22253613770008088)'>_again</span><span style = 'color:rgba(253,10,253,0.22975938916206362)'>_another</span><span style = 'color:rgba(253,10,253,0.22253613770008088)'>_bad</span>"
      ],
      "text/plain": [
       "<IPython.core.display.HTML object>"
      ]
     },
     "metadata": {},
     "output_type": "display_data"
    },
    {
     "data": {
      "text/html": [
       "<span style = 'color:rgba(253,10,10,0.23459781408309938)'>_Freddy's</span><span style = 'color:rgba(253,10,10,0.22837622165679933)'>_Dead:</span><span style = 'color:rgba(253,10,10,0.22837622165679933)'>_The</span><span style = 'color:rgba(253,10,10,0.2986707329750061)'>_Final</span><span style = 'color:rgba(253,10,10,0.23459781408309938)'>_Nightmare,</span><span style = 'color:rgba(253,10,10,0.22837622165679933)'>_the</span><span style = 'color:rgba(253,10,10,0.22845552265644076)'>_sixth</span><span style = 'color:rgba(253,10,10,0.22837622165679933)'>_installment</span><span style = 'color:rgba(253,10,10,0.24686397910118105)'>_of</span><span style = 'color:rgba(253,10,10,0.22837622165679933)'>_the</span><span style = 'color:rgba(253,10,10,0.26362834572792054)'>_Nightmare</span><span style = 'color:rgba(253,10,10,0.22837622165679933)'>_on</span><span style = 'color:rgba(253,10,10,0.22837622165679933)'>_Elm</span><span style = 'color:rgba(253,10,10,0.22837622165679933)'>_Street</span><span style = 'color:rgba(253,10,10,0.22837622165679933)'>_series</span><span style = 'color:rgba(253,10,10,0.22837622165679933)'>_and</span><span style = 'color:rgba(253,10,10,0.23779782950878145)'>_once</span><span style = 'color:rgba(253,10,10,0.288357013463974)'>_again</span><span style = 'color:rgba(253,10,10,0.22837622165679933)'>_another</span><span style = 'color:rgba(253,10,10,0.25489252209663393)'>_bad</span>"
      ],
      "text/plain": [
       "<IPython.core.display.HTML object>"
      ]
     },
     "metadata": {},
     "output_type": "display_data"
    },
    {
     "name": "stdout",
     "output_type": "stream",
     "text": [
      "label:0.0\t guess:0.0\n"
     ]
    },
    {
     "data": {
      "text/html": [
       "<span style = 'color:rgba(253,10,253,0.22987724840641022)'>_Depending</span><span style = 'color:rgba(253,10,253,0.2414669245481491)'>_entirely</span><span style = 'color:rgba(253,10,253,0.24280777871608736)'>_on</span><span style = 'color:rgba(253,10,253,0.23077645897865295)'>_your</span><span style = 'color:rgba(253,10,253,0.23077645897865295)'>_own</span><span style = 'color:rgba(253,10,253,0.22987724840641022)'>_personal</span><span style = 'color:rgba(253,10,253,0.3416456341743469)'>_state</span><span style = 'color:rgba(253,10,253,0.23844357132911684)'>_of</span><span style = 'color:rgba(253,10,253,0.23243334591388704)'>_mind</span><span style = 'color:rgba(253,10,253,0.23522550463676453)'>_when</span><span style = 'color:rgba(253,10,253,0.22987724840641022)'>_watching</span><span style = 'color:rgba(253,10,253,0.22987724840641022)'>_this,</span><span style = 'color:rgba(253,10,253,0.27530079483985903)'>_\"Christmas</span><span style = 'color:rgba(253,10,253,0.22987724840641022)'>_Evil\"</span><span style = 'color:rgba(253,10,253,0.23077645897865295)'>_can</span><span style = 'color:rgba(253,10,253,0.22987724840641022)'>_either</span><span style = 'color:rgba(253,10,253,0.22987724840641022)'>_turn</span><span style = 'color:rgba(253,10,253,0.23077645897865295)'>_out</span><span style = 'color:rgba(253,10,253,0.23055258989334107)'>_to</span><span style = 'color:rgba(253,10,253,0.22987724840641022)'>_become</span>"
      ],
      "text/plain": [
       "<IPython.core.display.HTML object>"
      ]
     },
     "metadata": {},
     "output_type": "display_data"
    },
    {
     "data": {
      "text/html": [
       "<span style = 'color:rgba(253,10,10,0.2518975675106049)'>_Depending</span><span style = 'color:rgba(253,10,10,0.22935857474803925)'>_entirely</span><span style = 'color:rgba(253,10,10,0.22935857474803925)'>_on</span><span style = 'color:rgba(253,10,10,0.22935857474803925)'>_your</span><span style = 'color:rgba(253,10,10,0.22935857474803925)'>_own</span><span style = 'color:rgba(253,10,10,0.2384078323841095)'>_personal</span><span style = 'color:rgba(253,10,10,0.22935857474803925)'>_state</span><span style = 'color:rgba(253,10,10,0.22935857474803925)'>_of</span><span style = 'color:rgba(253,10,10,0.22935857474803925)'>_mind</span><span style = 'color:rgba(253,10,10,0.22935857474803925)'>_when</span><span style = 'color:rgba(253,10,10,0.24007185101509096)'>_watching</span><span style = 'color:rgba(253,10,10,0.2429304361343384)'>_this,</span><span style = 'color:rgba(253,10,10,0.22935857474803925)'>_\"Christmas</span><span style = 'color:rgba(253,10,10,0.2658310890197754)'>_Evil\"</span><span style = 'color:rgba(253,10,10,0.22935857474803925)'>_can</span><span style = 'color:rgba(253,10,10,0.24998431205749513)'>_either</span><span style = 'color:rgba(253,10,10,0.2564874529838562)'>_turn</span><span style = 'color:rgba(253,10,10,0.22935857474803925)'>_out</span><span style = 'color:rgba(253,10,10,0.22935857474803925)'>_to</span><span style = 'color:rgba(253,10,10,0.30208660364151)'>_become</span>"
      ],
      "text/plain": [
       "<IPython.core.display.HTML object>"
      ]
     },
     "metadata": {},
     "output_type": "display_data"
    },
    {
     "name": "stdout",
     "output_type": "stream",
     "text": [
      "label:1.0\t guess:1.0\n"
     ]
    },
    {
     "data": {
      "text/html": [
       "<span style = 'color:rgba(253,10,253,0.23796268701553347)'>_This</span><span style = 'color:rgba(253,10,253,0.24633227586746217)'>_film</span><span style = 'color:rgba(253,10,253,0.23796268701553347)'>_has</span><span style = 'color:rgba(253,10,253,0.24379555284976961)'>_a</span><span style = 'color:rgba(253,10,253,0.23796268701553347)'>_lot</span><span style = 'color:rgba(253,10,253,0.23796268701553347)'>_of</span><span style = 'color:rgba(253,10,253,0.23796268701553347)'>_strong</span><span style = 'color:rgba(253,10,253,0.24247382879257204)'>_points.</span><span style = 'color:rgba(253,10,253,0.23796268701553347)'>_It</span><span style = 'color:rgba(253,10,253,0.23796268701553347)'>_has</span><span style = 'color:rgba(253,10,253,0.2388207942247391)'>_one</span><span style = 'color:rgba(253,10,253,0.23796268701553347)'>_of</span><span style = 'color:rgba(253,10,253,0.23796268701553347)'>_the</span><span style = 'color:rgba(253,10,253,0.23796268701553347)'>_best</span><span style = 'color:rgba(253,10,253,0.24858557879924775)'>_horror</span><span style = 'color:rgba(253,10,253,0.23910524845123293)'>_casts</span><span style = 'color:rgba(253,10,253,0.24622922837734224)'>_outside</span><span style = 'color:rgba(253,10,253,0.23796268701553347)'>_of</span><span style = 'color:rgba(253,10,253,0.23796268701553347)'>_the</span><span style = 'color:rgba(253,10,253,0.23910524845123293)'>_Lugosi-Karloff-Chaney</span>"
      ],
      "text/plain": [
       "<IPython.core.display.HTML object>"
      ]
     },
     "metadata": {},
     "output_type": "display_data"
    },
    {
     "data": {
      "text/html": [
       "<span style = 'color:rgba(253,10,10,0.22741751968860627)'>_This</span><span style = 'color:rgba(253,10,10,0.2222172573208809)'>_film</span><span style = 'color:rgba(253,10,10,0.22893909811973573)'>_has</span><span style = 'color:rgba(253,10,10,0.2222172573208809)'>_a</span><span style = 'color:rgba(253,10,10,0.22998996973037722)'>_lot</span><span style = 'color:rgba(253,10,10,0.27725457549095156)'>_of</span><span style = 'color:rgba(253,10,10,0.26511173844337466)'>_strong</span><span style = 'color:rgba(253,10,10,0.2222172573208809)'>_points.</span><span style = 'color:rgba(253,10,10,0.22971571385860445)'>_It</span><span style = 'color:rgba(253,10,10,0.22893909811973573)'>_has</span><span style = 'color:rgba(253,10,10,0.2222172573208809)'>_one</span><span style = 'color:rgba(253,10,10,0.27725457549095156)'>_of</span><span style = 'color:rgba(253,10,10,0.22708847224712372)'>_the</span><span style = 'color:rgba(253,10,10,0.3262081027030945)'>_best</span><span style = 'color:rgba(253,10,10,0.2222172573208809)'>_horror</span><span style = 'color:rgba(253,10,10,0.2222172573208809)'>_casts</span><span style = 'color:rgba(253,10,10,0.2222172573208809)'>_outside</span><span style = 'color:rgba(253,10,10,0.27725457549095156)'>_of</span><span style = 'color:rgba(253,10,10,0.22708847224712372)'>_the</span><span style = 'color:rgba(253,10,10,0.2222172573208809)'>_Lugosi-Karloff-Chaney</span>"
      ],
      "text/plain": [
       "<IPython.core.display.HTML object>"
      ]
     },
     "metadata": {},
     "output_type": "display_data"
    },
    {
     "name": "stdout",
     "output_type": "stream",
     "text": [
      "label:1.0\t guess:1.0\n"
     ]
    },
    {
     "data": {
      "text/html": [
       "<span style = 'color:rgba(253,10,253,0.2900846064090729)'>_Well,</span><span style = 'color:rgba(253,10,253,0.2633935570716858)'>_was</span><span style = 'color:rgba(253,10,253,0.23162977397441864)'>_Morgan</span><span style = 'color:rgba(253,10,253,0.23534625172615053)'>_Freeman</span><span style = 'color:rgba(253,10,253,0.23162977397441864)'>_any</span><span style = 'color:rgba(253,10,253,0.23162977397441864)'>_more</span><span style = 'color:rgba(253,10,253,0.23162977397441864)'>_unusual</span><span style = 'color:rgba(253,10,253,0.23162977397441864)'>_as</span><span style = 'color:rgba(253,10,253,0.23162977397441864)'>_God</span><span style = 'color:rgba(253,10,253,0.23162977397441864)'>_than</span><span style = 'color:rgba(253,10,253,0.23391566276550294)'>_George</span><span style = 'color:rgba(253,10,253,0.23258173167705537)'>_Burns?</span><span style = 'color:rgba(253,10,253,0.23162977397441864)'>_This</span><span style = 'color:rgba(253,10,253,0.23860314786434175)'>_film</span><span style = 'color:rgba(253,10,253,0.23347108066082)'>_sure</span><span style = 'color:rgba(253,10,253,0.2633935570716858)'>_was</span><span style = 'color:rgba(253,10,253,0.2519009590148926)'>_better</span><span style = 'color:rgba(253,10,253,0.23162977397441864)'>_than</span><span style = 'color:rgba(253,10,253,0.24005976021289827)'>_that</span><span style = 'color:rgba(253,10,253,0.23258173167705537)'>_bore,</span>"
      ],
      "text/plain": [
       "<IPython.core.display.HTML object>"
      ]
     },
     "metadata": {},
     "output_type": "display_data"
    },
    {
     "data": {
      "text/html": [
       "<span style = 'color:rgba(253,10,10,0.2278270184993744)'>_Well,</span><span style = 'color:rgba(253,10,10,0.2278270184993744)'>_was</span><span style = 'color:rgba(253,10,10,0.23676719069480898)'>_Morgan</span><span style = 'color:rgba(253,10,10,0.2278270184993744)'>_Freeman</span><span style = 'color:rgba(253,10,10,0.2624007344245911)'>_any</span><span style = 'color:rgba(253,10,10,0.266926783323288)'>_more</span><span style = 'color:rgba(253,10,10,0.2896471202373505)'>_unusual</span><span style = 'color:rgba(253,10,10,0.2559150457382202)'>_as</span><span style = 'color:rgba(253,10,10,0.28169210553169255)'>_God</span><span style = 'color:rgba(253,10,10,0.23310673236846924)'>_than</span><span style = 'color:rgba(253,10,10,0.2278270184993744)'>_George</span><span style = 'color:rgba(253,10,10,0.2278270184993744)'>_Burns?</span><span style = 'color:rgba(253,10,10,0.23434032499790192)'>_This</span><span style = 'color:rgba(253,10,10,0.2278270184993744)'>_film</span><span style = 'color:rgba(253,10,10,0.2278270184993744)'>_sure</span><span style = 'color:rgba(253,10,10,0.2278270184993744)'>_was</span><span style = 'color:rgba(253,10,10,0.2278270184993744)'>_better</span><span style = 'color:rgba(253,10,10,0.23310673236846924)'>_than</span><span style = 'color:rgba(253,10,10,0.2278270184993744)'>_that</span><span style = 'color:rgba(253,10,10,0.2278270184993744)'>_bore,</span>"
      ],
      "text/plain": [
       "<IPython.core.display.HTML object>"
      ]
     },
     "metadata": {},
     "output_type": "display_data"
    },
    {
     "name": "stdout",
     "output_type": "stream",
     "text": [
      "label:0.0\t guess:0.0\n"
     ]
    },
    {
     "data": {
      "text/html": [
       "<span style = 'color:rgba(253,10,253,0.23211145997047425)'>_This</span><span style = 'color:rgba(253,10,253,0.23211145997047425)'>_is</span><span style = 'color:rgba(253,10,253,0.2492917835712433)'>_not</span><span style = 'color:rgba(253,10,253,0.23211145997047425)'>_an</span><span style = 'color:rgba(253,10,253,0.23307791352272034)'>_all-around</span><span style = 'color:rgba(253,10,253,0.3557646751403809)'>_terrible</span><span style = 'color:rgba(253,10,253,0.23211145997047425)'>_comedy,</span><span style = 'color:rgba(253,10,253,0.23211145997047425)'>_but</span><span style = 'color:rgba(253,10,253,0.23211145997047425)'>_it</span><span style = 'color:rgba(253,10,253,0.23211145997047425)'>_is</span><span style = 'color:rgba(253,10,253,0.23211145997047425)'>_very</span><span style = 'color:rgba(253,10,253,0.23307791352272034)'>_DULL.</span><span style = 'color:rgba(253,10,253,0.23211145997047425)'>_It</span><span style = 'color:rgba(253,10,253,0.23211145997047425)'>_has</span><span style = 'color:rgba(253,10,253,0.23211145997047425)'>_barely</span><span style = 'color:rgba(253,10,253,0.23211145997047425)'>_any</span><span style = 'color:rgba(253,10,253,0.24614938199520112)'>_laughs,</span><span style = 'color:rgba(253,10,253,0.23211145997047425)'>_and</span><span style = 'color:rgba(253,10,253,0.23211145997047425)'>_it</span><span style = 'color:rgba(253,10,253,0.23307791352272034)'>_wastes</span>"
      ],
      "text/plain": [
       "<IPython.core.display.HTML object>"
      ]
     },
     "metadata": {},
     "output_type": "display_data"
    },
    {
     "data": {
      "text/html": [
       "<span style = 'color:rgba(253,10,10,0.23315875828266144)'>_This</span><span style = 'color:rgba(253,10,10,0.25197795033454895)'>_is</span><span style = 'color:rgba(253,10,10,0.2268695592880249)'>_not</span><span style = 'color:rgba(253,10,10,0.23929079771041872)'>_an</span><span style = 'color:rgba(253,10,10,0.2268695592880249)'>_all-around</span><span style = 'color:rgba(253,10,10,0.2268695592880249)'>_terrible</span><span style = 'color:rgba(253,10,10,0.234399351477623)'>_comedy,</span><span style = 'color:rgba(253,10,10,0.24077496230602266)'>_but</span><span style = 'color:rgba(253,10,10,0.24071136116981506)'>_it</span><span style = 'color:rgba(253,10,10,0.25197795033454895)'>_is</span><span style = 'color:rgba(253,10,10,0.2685368418693543)'>_very</span><span style = 'color:rgba(253,10,10,0.2268695592880249)'>_DULL.</span><span style = 'color:rgba(253,10,10,0.23593819439411165)'>_It</span><span style = 'color:rgba(253,10,10,0.23499895334243776)'>_has</span><span style = 'color:rgba(253,10,10,0.24580251276493073)'>_barely</span><span style = 'color:rgba(253,10,10,0.26025367975234986)'>_any</span><span style = 'color:rgba(253,10,10,0.2268695592880249)'>_laughs,</span><span style = 'color:rgba(253,10,10,0.260249936580658)'>_and</span><span style = 'color:rgba(253,10,10,0.24071136116981506)'>_it</span><span style = 'color:rgba(253,10,10,0.2268695592880249)'>_wastes</span>"
      ],
      "text/plain": [
       "<IPython.core.display.HTML object>"
      ]
     },
     "metadata": {},
     "output_type": "display_data"
    },
    {
     "name": "stdout",
     "output_type": "stream",
     "text": [
      "label:0.0\t guess:0.0\n"
     ]
    },
    {
     "data": {
      "text/html": [
       "<span style = 'color:rgba(253,10,253,0.225056990981102)'>_This</span><span style = 'color:rgba(253,10,253,0.225056990981102)'>_is</span><span style = 'color:rgba(253,10,253,0.22562337517738343)'>_one</span><span style = 'color:rgba(253,10,253,0.225056990981102)'>_really</span><span style = 'color:rgba(253,10,253,0.4338621854782105)'>_bad</span><span style = 'color:rgba(253,10,253,0.225056990981102)'>_movie.</span><span style = 'color:rgba(253,10,253,0.225056990981102)'>_I've</span><span style = 'color:rgba(253,10,253,0.22581112682819368)'>_racked</span><span style = 'color:rgba(253,10,253,0.225056990981102)'>_my</span><span style = 'color:rgba(253,10,253,0.2708739936351776)'>_brain</span><span style = 'color:rgba(253,10,253,0.225056990981102)'>_and</span><span style = 'color:rgba(253,10,253,0.225056990981102)'>_I</span><span style = 'color:rgba(253,10,253,0.2571865260601044)'>_cannot</span><span style = 'color:rgba(253,10,253,0.225056990981102)'>_come</span><span style = 'color:rgba(253,10,253,0.2275656282901764)'>_up</span><span style = 'color:rgba(253,10,253,0.225056990981102)'>_with</span><span style = 'color:rgba(253,10,253,0.22562337517738343)'>_one</span><span style = 'color:rgba(253,10,253,0.225056990981102)'>_positive</span><span style = 'color:rgba(253,10,253,0.2282844752073288)'>_comment</span><span style = 'color:rgba(253,10,253,0.22954238057136536)'>_to</span>"
      ],
      "text/plain": [
       "<IPython.core.display.HTML object>"
      ]
     },
     "metadata": {},
     "output_type": "display_data"
    },
    {
     "data": {
      "text/html": [
       "<span style = 'color:rgba(253,10,10,0.2339436113834381)'>_This</span><span style = 'color:rgba(253,10,10,0.25320824384689333)'>_is</span><span style = 'color:rgba(253,10,10,0.22750554978847504)'>_one</span><span style = 'color:rgba(253,10,10,0.2613897740840912)'>_really</span><span style = 'color:rgba(253,10,10,0.22750554978847504)'>_bad</span><span style = 'color:rgba(253,10,10,0.2848023056983948)'>_movie.</span><span style = 'color:rgba(253,10,10,0.23700438737869264)'>_I've</span><span style = 'color:rgba(253,10,10,0.22750554978847504)'>_racked</span><span style = 'color:rgba(253,10,10,0.2515143692493439)'>_my</span><span style = 'color:rgba(253,10,10,0.22750554978847504)'>_brain</span><span style = 'color:rgba(253,10,10,0.261676025390625)'>_and</span><span style = 'color:rgba(253,10,10,0.2366380721330643)'>_I</span><span style = 'color:rgba(253,10,10,0.22750554978847504)'>_cannot</span><span style = 'color:rgba(253,10,10,0.23354683220386507)'>_come</span><span style = 'color:rgba(253,10,10,0.22750554978847504)'>_up</span><span style = 'color:rgba(253,10,10,0.2374272346496582)'>_with</span><span style = 'color:rgba(253,10,10,0.22750554978847504)'>_one</span><span style = 'color:rgba(253,10,10,0.2612991750240326)'>_positive</span><span style = 'color:rgba(253,10,10,0.22750554978847504)'>_comment</span><span style = 'color:rgba(253,10,10,0.22750554978847504)'>_to</span>"
      ],
      "text/plain": [
       "<IPython.core.display.HTML object>"
      ]
     },
     "metadata": {},
     "output_type": "display_data"
    },
    {
     "name": "stdout",
     "output_type": "stream",
     "text": [
      "label:1.0\t guess:1.0\n"
     ]
    },
    {
     "data": {
      "text/html": [
       "<span style = 'color:rgba(253,10,253,0.23491090536117554)'>_In</span><span style = 'color:rgba(253,10,253,0.2384060859680176)'>_2054</span><span style = 'color:rgba(253,10,253,0.24027486741542817)'>_Paris,</span><span style = 'color:rgba(253,10,253,0.23491090536117554)'>_Avalon,</span><span style = 'color:rgba(253,10,253,0.23491090536117554)'>_a</span><span style = 'color:rgba(253,10,253,0.23491090536117554)'>_computer</span><span style = 'color:rgba(253,10,253,0.2461005002260208)'>_generated</span><span style = 'color:rgba(253,10,253,0.2364746004343033)'>_system,</span><span style = 'color:rgba(253,10,253,0.23491090536117554)'>_controls</span><span style = 'color:rgba(253,10,253,0.23596161901950838)'>_the</span><span style = 'color:rgba(253,10,253,0.23596161901950838)'>_city</span><span style = 'color:rgba(253,10,253,0.23491090536117554)'>_and</span><span style = 'color:rgba(253,10,253,0.24260766804218292)'>_when</span><span style = 'color:rgba(253,10,253,0.23596161901950838)'>_a</span><span style = 'color:rgba(253,10,253,0.2670809030532837)'>_young</span><span style = 'color:rgba(253,10,253,0.23596161901950838)'>_woman</span><span style = 'color:rgba(253,10,253,0.23491090536117554)'>_is</span><span style = 'color:rgba(253,10,253,0.2656468033790589)'>_kidnapped,</span><span style = 'color:rgba(253,10,253,0.23491090536117554)'>_detective</span><span style = 'color:rgba(253,10,253,0.24027486741542817)'>_Karas</span>"
      ],
      "text/plain": [
       "<IPython.core.display.HTML object>"
      ]
     },
     "metadata": {},
     "output_type": "display_data"
    },
    {
     "data": {
      "text/html": [
       "<span style = 'color:rgba(253,10,10,0.23514791727066042)'>_In</span><span style = 'color:rgba(253,10,10,0.2203918516635895)'>_2054</span><span style = 'color:rgba(253,10,10,0.2203918516635895)'>_Paris,</span><span style = 'color:rgba(253,10,10,0.22518177330493927)'>_Avalon,</span><span style = 'color:rgba(253,10,10,0.250502210855484)'>_a</span><span style = 'color:rgba(253,10,10,0.2277475118637085)'>_computer</span><span style = 'color:rgba(253,10,10,0.2203918516635895)'>_generated</span><span style = 'color:rgba(253,10,10,0.2203918516635895)'>_system,</span><span style = 'color:rgba(253,10,10,0.2548840403556824)'>_controls</span><span style = 'color:rgba(253,10,10,0.2203918516635895)'>_the</span><span style = 'color:rgba(253,10,10,0.2203918516635895)'>_city</span><span style = 'color:rgba(253,10,10,0.27090721726417544)'>_and</span><span style = 'color:rgba(253,10,10,0.2203918516635895)'>_when</span><span style = 'color:rgba(253,10,10,0.2203918516635895)'>_a</span><span style = 'color:rgba(253,10,10,0.2203918516635895)'>_young</span><span style = 'color:rgba(253,10,10,0.2203918516635895)'>_woman</span><span style = 'color:rgba(253,10,10,0.45148003101348877)'>_is</span><span style = 'color:rgba(253,10,10,0.2203918516635895)'>_kidnapped,</span><span style = 'color:rgba(253,10,10,0.2394471138715744)'>_detective</span><span style = 'color:rgba(253,10,10,0.2203918516635895)'>_Karas</span>"
      ],
      "text/plain": [
       "<IPython.core.display.HTML object>"
      ]
     },
     "metadata": {},
     "output_type": "display_data"
    },
    {
     "name": "stdout",
     "output_type": "stream",
     "text": [
      "label:1.0\t guess:1.0\n"
     ]
    },
    {
     "data": {
      "text/html": [
       "<span style = 'color:rgba(253,10,253,0.3179224133491516)'>_When</span><span style = 'color:rgba(253,10,253,0.22500022649765017)'>_I</span><span style = 'color:rgba(253,10,253,0.22500022649765017)'>_first</span><span style = 'color:rgba(253,10,253,0.22500022649765017)'>_heard</span><span style = 'color:rgba(253,10,253,0.23166330754756928)'>_that</span><span style = 'color:rgba(253,10,253,0.22575265765190125)'>_Hal</span><span style = 'color:rgba(253,10,253,0.22575265765190125)'>_Hartley</span><span style = 'color:rgba(253,10,253,0.25010637640953065)'>_was</span><span style = 'color:rgba(253,10,253,0.23149745464324953)'>_doing</span><span style = 'color:rgba(253,10,253,0.22884144186973573)'>_a</span><span style = 'color:rgba(253,10,253,0.30841244459152223)'>_sequel</span><span style = 'color:rgba(253,10,253,0.2294754594564438)'>_to</span><span style = 'color:rgba(253,10,253,0.2564367473125458)'>_Henry</span><span style = 'color:rgba(253,10,253,0.22575265765190125)'>_Fool,</span><span style = 'color:rgba(253,10,253,0.22500022649765017)'>_I</span><span style = 'color:rgba(253,10,253,0.25010637640953065)'>_was</span><span style = 'color:rgba(253,10,253,0.22500022649765017)'>_excited</span><span style = 'color:rgba(253,10,253,0.22575265765190125)'>_(it's</span><span style = 'color:rgba(253,10,253,0.23868480324745178)'>_been</span><span style = 'color:rgba(253,10,253,0.22884144186973573)'>_a</span>"
      ],
      "text/plain": [
       "<IPython.core.display.HTML object>"
      ]
     },
     "metadata": {},
     "output_type": "display_data"
    },
    {
     "data": {
      "text/html": [
       "<span style = 'color:rgba(253,10,10,0.23111900687217712)'>_When</span><span style = 'color:rgba(253,10,10,0.24145128428936005)'>_I</span><span style = 'color:rgba(253,10,10,0.2758399248123169)'>_first</span><span style = 'color:rgba(253,10,10,0.26856314539909365)'>_heard</span><span style = 'color:rgba(253,10,10,0.23111900687217712)'>_that</span><span style = 'color:rgba(253,10,10,0.23111900687217712)'>_Hal</span><span style = 'color:rgba(253,10,10,0.23111900687217712)'>_Hartley</span><span style = 'color:rgba(253,10,10,0.23111900687217712)'>_was</span><span style = 'color:rgba(253,10,10,0.23111900687217712)'>_doing</span><span style = 'color:rgba(253,10,10,0.23111900687217712)'>_a</span><span style = 'color:rgba(253,10,10,0.23111900687217712)'>_sequel</span><span style = 'color:rgba(253,10,10,0.23111900687217712)'>_to</span><span style = 'color:rgba(253,10,10,0.23111900687217712)'>_Henry</span><span style = 'color:rgba(253,10,10,0.23111900687217712)'>_Fool,</span><span style = 'color:rgba(253,10,10,0.24145128428936005)'>_I</span><span style = 'color:rgba(253,10,10,0.23111900687217712)'>_was</span><span style = 'color:rgba(253,10,10,0.3059092521667481)'>_excited</span><span style = 'color:rgba(253,10,10,0.23111900687217712)'>_(it's</span><span style = 'color:rgba(253,10,10,0.23111900687217712)'>_been</span><span style = 'color:rgba(253,10,10,0.23111900687217712)'>_a</span>"
      ],
      "text/plain": [
       "<IPython.core.display.HTML object>"
      ]
     },
     "metadata": {},
     "output_type": "display_data"
    },
    {
     "name": "stdout",
     "output_type": "stream",
     "text": [
      "label:1.0\t guess:1.0\n"
     ]
    },
    {
     "data": {
      "text/html": [
       "<span style = 'color:rgba(253,10,253,0.2350584089756012)'>_Deaf</span><span style = 'color:rgba(253,10,253,0.2350584089756012)'>_secretary</span><span style = 'color:rgba(253,10,253,0.2350584089756012)'>_Carla</span><span style = 'color:rgba(253,10,253,0.2350584089756012)'>_(Emmanuelle</span><span style = 'color:rgba(253,10,253,0.2350584089756012)'>_Devos)</span><span style = 'color:rgba(253,10,253,0.2340340852737427)'>_is</span><span style = 'color:rgba(253,10,253,0.2350584089756012)'>_bullied</span><span style = 'color:rgba(253,10,253,0.2340340852737427)'>_by</span><span style = 'color:rgba(253,10,253,0.2340340852737427)'>_her</span><span style = 'color:rgba(253,10,253,0.2605622708797455)'>_mean</span><span style = 'color:rgba(253,10,253,0.2350584089756012)'>_spirited</span><span style = 'color:rgba(253,10,253,0.2340340852737427)'>_male</span><span style = 'color:rgba(253,10,253,0.2350584089756012)'>_colleagues.<br</span><span style = 'color:rgba(253,10,253,0.2653961062431336)'>_/><br</span><span style = 'color:rgba(253,10,253,0.2340340852737427)'>_/>When</span><span style = 'color:rgba(253,10,253,0.2608503341674805)'>_they</span><span style = 'color:rgba(253,10,253,0.23799677193164825)'>_suggest</span><span style = 'color:rgba(253,10,253,0.2340340852737427)'>_she</span><span style = 'color:rgba(253,10,253,0.25648864507675173)'>_needs</span><span style = 'color:rgba(253,10,253,0.2340340852737427)'>_an</span>"
      ],
      "text/plain": [
       "<IPython.core.display.HTML object>"
      ]
     },
     "metadata": {},
     "output_type": "display_data"
    },
    {
     "data": {
      "text/html": [
       "<span style = 'color:rgba(253,10,10,0.23410651087760925)'>_Deaf</span><span style = 'color:rgba(253,10,10,0.23410651087760925)'>_secretary</span><span style = 'color:rgba(253,10,10,0.23410651087760925)'>_Carla</span><span style = 'color:rgba(253,10,10,0.23410651087760925)'>_(Emmanuelle</span><span style = 'color:rgba(253,10,10,0.23410651087760925)'>_Devos)</span><span style = 'color:rgba(253,10,10,0.26597750186920166)'>_is</span><span style = 'color:rgba(253,10,10,0.23410651087760925)'>_bullied</span><span style = 'color:rgba(253,10,10,0.2370221704244614)'>_by</span><span style = 'color:rgba(253,10,10,0.2435929536819458)'>_her</span><span style = 'color:rgba(253,10,10,0.23410651087760925)'>_mean</span><span style = 'color:rgba(253,10,10,0.23410651087760925)'>_spirited</span><span style = 'color:rgba(253,10,10,0.23874630928039553)'>_male</span><span style = 'color:rgba(253,10,10,0.23410651087760925)'>_colleagues.<br</span><span style = 'color:rgba(253,10,10,0.23410651087760925)'>_/><br</span><span style = 'color:rgba(253,10,10,0.2862136006355286)'>_/>When</span><span style = 'color:rgba(253,10,10,0.23410651087760925)'>_they</span><span style = 'color:rgba(253,10,10,0.23410651087760925)'>_suggest</span><span style = 'color:rgba(253,10,10,0.23518960773944855)'>_she</span><span style = 'color:rgba(253,10,10,0.23410651087760925)'>_needs</span><span style = 'color:rgba(253,10,10,0.2498732388019562)'>_an</span>"
      ],
      "text/plain": [
       "<IPython.core.display.HTML object>"
      ]
     },
     "metadata": {},
     "output_type": "display_data"
    },
    {
     "name": "stdout",
     "output_type": "stream",
     "text": [
      "label:1.0\t guess:1.0\n"
     ]
    },
    {
     "data": {
      "text/html": [
       "<span style = 'color:rgba(253,10,253,0.2359384298324585)'>_There's</span><span style = 'color:rgba(253,10,253,0.2556103348731995)'>_been</span><span style = 'color:rgba(253,10,253,0.24146026968955994)'>_a</span><span style = 'color:rgba(253,10,253,0.23702006340026857)'>_spate</span><span style = 'color:rgba(253,10,253,0.2359384298324585)'>_of</span><span style = 'color:rgba(253,10,253,0.2359384298324585)'>_recent</span><span style = 'color:rgba(253,10,253,0.23702006340026857)'>_surfing</span><span style = 'color:rgba(253,10,253,0.2359384298324585)'>_movies</span><span style = 'color:rgba(253,10,253,0.2455167591571808)'>_that</span><span style = 'color:rgba(253,10,253,0.2359384298324585)'>_I</span><span style = 'color:rgba(253,10,253,0.24998673200607302)'>_seem</span><span style = 'color:rgba(253,10,253,0.2423716813325882)'>_to</span><span style = 'color:rgba(253,10,253,0.23702006340026857)'>_haphazardly</span><span style = 'color:rgba(253,10,253,0.2359384298324585)'>_run</span><span style = 'color:rgba(253,10,253,0.25650807023048405)'>_across</span><span style = 'color:rgba(253,10,253,0.2359384298324585)'>_without</span><span style = 'color:rgba(253,10,253,0.23702006340026857)'>_advance</span><span style = 'color:rgba(253,10,253,0.23702006340026857)'>_warning.</span><span style = 'color:rgba(253,10,253,0.2359384298324585)'>_I</span><span style = 'color:rgba(253,10,253,0.2359384298324585)'>_caught</span>"
      ],
      "text/plain": [
       "<IPython.core.display.HTML object>"
      ]
     },
     "metadata": {},
     "output_type": "display_data"
    },
    {
     "data": {
      "text/html": [
       "<span style = 'color:rgba(253,10,10,0.23367142081260683)'>_There's</span><span style = 'color:rgba(253,10,10,0.2274053305387497)'>_been</span><span style = 'color:rgba(253,10,10,0.2274053305387497)'>_a</span><span style = 'color:rgba(253,10,10,0.2274053305387497)'>_spate</span><span style = 'color:rgba(253,10,10,0.29529471993446355)'>_of</span><span style = 'color:rgba(253,10,10,0.23366270661354066)'>_recent</span><span style = 'color:rgba(253,10,10,0.2274053305387497)'>_surfing</span><span style = 'color:rgba(253,10,10,0.24527414441108705)'>_movies</span><span style = 'color:rgba(253,10,10,0.2274053305387497)'>_that</span><span style = 'color:rgba(253,10,10,0.2365045785903931)'>_I</span><span style = 'color:rgba(253,10,10,0.2274053305387497)'>_seem</span><span style = 'color:rgba(253,10,10,0.2274053305387497)'>_to</span><span style = 'color:rgba(253,10,10,0.2274053305387497)'>_haphazardly</span><span style = 'color:rgba(253,10,10,0.26523994207382207)'>_run</span><span style = 'color:rgba(253,10,10,0.2274053305387497)'>_across</span><span style = 'color:rgba(253,10,10,0.23507798910140992)'>_without</span><span style = 'color:rgba(253,10,10,0.2274053305387497)'>_advance</span><span style = 'color:rgba(253,10,10,0.2274053305387497)'>_warning.</span><span style = 'color:rgba(253,10,10,0.2365045785903931)'>_I</span><span style = 'color:rgba(253,10,10,0.31731126308441165)'>_caught</span>"
      ],
      "text/plain": [
       "<IPython.core.display.HTML object>"
      ]
     },
     "metadata": {},
     "output_type": "display_data"
    },
    {
     "name": "stdout",
     "output_type": "stream",
     "text": [
      "label:1.0\t guess:1.0\n"
     ]
    },
    {
     "data": {
      "text/html": [
       "<span style = 'color:rgba(253,10,253,0.23479833602905276)'>_I</span><span style = 'color:rgba(253,10,253,0.23479833602905276)'>_saw</span><span style = 'color:rgba(253,10,253,0.23479833602905276)'>_this</span><span style = 'color:rgba(253,10,253,0.23378161787986756)'>_film</span><span style = 'color:rgba(253,10,253,0.23378161787986756)'>_a</span><span style = 'color:rgba(253,10,253,0.23479833602905276)'>_couple</span><span style = 'color:rgba(253,10,253,0.24278511404991152)'>_of</span><span style = 'color:rgba(253,10,253,0.24460925161838531)'>_weeks</span><span style = 'color:rgba(253,10,253,0.24122940301895143)'>_ago,</span><span style = 'color:rgba(253,10,253,0.23378161787986756)'>_and</span><span style = 'color:rgba(253,10,253,0.23479833602905276)'>_it's</span><span style = 'color:rgba(253,10,253,0.24460925161838531)'>_been</span><span style = 'color:rgba(253,10,253,0.23378161787986756)'>_stuck</span><span style = 'color:rgba(253,10,253,0.3011606574058533)'>_in</span><span style = 'color:rgba(253,10,253,0.24426003992557527)'>_my</span><span style = 'color:rgba(253,10,253,0.23378161787986756)'>_head</span><span style = 'color:rgba(253,10,253,0.23479833602905276)'>_ever</span><span style = 'color:rgba(253,10,253,0.23608494102954866)'>_since.</span><span style = 'color:rgba(253,10,253,0.23378161787986756)'>_It</span><span style = 'color:rgba(253,10,253,0.23378161787986756)'>_stars</span>"
      ],
      "text/plain": [
       "<IPython.core.display.HTML object>"
      ]
     },
     "metadata": {},
     "output_type": "display_data"
    },
    {
     "data": {
      "text/html": [
       "<span style = 'color:rgba(253,10,10,0.23187684416770937)'>_I</span><span style = 'color:rgba(253,10,10,0.23187684416770937)'>_saw</span><span style = 'color:rgba(253,10,10,0.23187684416770937)'>_this</span><span style = 'color:rgba(253,10,10,0.23483123779296877)'>_film</span><span style = 'color:rgba(253,10,10,0.23886596262454987)'>_a</span><span style = 'color:rgba(253,10,10,0.23187684416770937)'>_couple</span><span style = 'color:rgba(253,10,10,0.23187684416770937)'>_of</span><span style = 'color:rgba(253,10,10,0.23187684416770937)'>_weeks</span><span style = 'color:rgba(253,10,10,0.23187684416770937)'>_ago,</span><span style = 'color:rgba(253,10,10,0.26166431903839116)'>_and</span><span style = 'color:rgba(253,10,10,0.23187684416770937)'>_it's</span><span style = 'color:rgba(253,10,10,0.23187684416770937)'>_been</span><span style = 'color:rgba(253,10,10,0.26166431903839116)'>_stuck</span><span style = 'color:rgba(253,10,10,0.23187684416770937)'>_in</span><span style = 'color:rgba(253,10,10,0.23187684416770937)'>_my</span><span style = 'color:rgba(253,10,10,0.23886596262454987)'>_head</span><span style = 'color:rgba(253,10,10,0.23187684416770937)'>_ever</span><span style = 'color:rgba(253,10,10,0.23187684416770937)'>_since.</span><span style = 'color:rgba(253,10,10,0.31084321737289433)'>_It</span><span style = 'color:rgba(253,10,10,0.23886596262454987)'>_stars</span>"
      ],
      "text/plain": [
       "<IPython.core.display.HTML object>"
      ]
     },
     "metadata": {},
     "output_type": "display_data"
    },
    {
     "name": "stdout",
     "output_type": "stream",
     "text": [
      "label:0.0\t guess:0.0\n"
     ]
    },
    {
     "data": {
      "text/html": [
       "<span style = 'color:rgba(253,10,253,0.23194675445556642)'>_A</span><span style = 'color:rgba(253,10,253,0.2879919707775116)'>_major</span><span style = 'color:rgba(253,10,253,0.3401226162910461)'>_disappointment.</span><span style = 'color:rgba(253,10,253,0.22554045915603638)'>_This</span><span style = 'color:rgba(253,10,253,0.2511891305446625)'>_was</span><span style = 'color:rgba(253,10,253,0.22611777484416962)'>_one</span><span style = 'color:rgba(253,10,253,0.22554045915603638)'>_of</span><span style = 'color:rgba(253,10,253,0.22554045915603638)'>_the</span><span style = 'color:rgba(253,10,253,0.22554045915603638)'>_best</span><span style = 'color:rgba(253,10,253,0.22554045915603638)'>_UK</span><span style = 'color:rgba(253,10,253,0.23924522697925568)'>_crime</span><span style = 'color:rgba(253,10,253,0.22554045915603638)'>_drama</span><span style = 'color:rgba(253,10,253,0.22554045915603638)'>_/</span><span style = 'color:rgba(253,10,253,0.22554045915603638)'>_detective</span><span style = 'color:rgba(253,10,253,0.22554045915603638)'>_shows</span><span style = 'color:rgba(253,10,253,0.25466542243957524)'>_from</span><span style = 'color:rgba(253,10,253,0.22554045915603638)'>_the</span><span style = 'color:rgba(253,10,253,0.24547655880451202)'>_90's</span><span style = 'color:rgba(253,10,253,0.22653468847274782)'>_which</span><span style = 'color:rgba(253,10,253,0.24130529761314393)'>_developed</span>"
      ],
      "text/plain": [
       "<IPython.core.display.HTML object>"
      ]
     },
     "metadata": {},
     "output_type": "display_data"
    },
    {
     "data": {
      "text/html": [
       "<span style = 'color:rgba(253,10,10,0.22410169690847398)'>_A</span><span style = 'color:rgba(253,10,10,0.22410169690847398)'>_major</span><span style = 'color:rgba(253,10,10,0.22410169690847398)'>_disappointment.</span><span style = 'color:rgba(253,10,10,0.2297430366277695)'>_This</span><span style = 'color:rgba(253,10,10,0.22410169690847398)'>_was</span><span style = 'color:rgba(253,10,10,0.22410169690847398)'>_one</span><span style = 'color:rgba(253,10,10,0.2838072061538697)'>_of</span><span style = 'color:rgba(253,10,10,0.2293860822916031)'>_the</span><span style = 'color:rgba(253,10,10,0.33691290616989134)'>_best</span><span style = 'color:rgba(253,10,10,0.22805352210998536)'>_UK</span><span style = 'color:rgba(253,10,10,0.22410169690847398)'>_crime</span><span style = 'color:rgba(253,10,10,0.24054543375968934)'>_drama</span><span style = 'color:rgba(253,10,10,0.26241331696510317)'>_/</span><span style = 'color:rgba(253,10,10,0.23745708763599396)'>_detective</span><span style = 'color:rgba(253,10,10,0.2812783718109131)'>_shows</span><span style = 'color:rgba(253,10,10,0.22410169690847398)'>_from</span><span style = 'color:rgba(253,10,10,0.2293860822916031)'>_the</span><span style = 'color:rgba(253,10,10,0.22410169690847398)'>_90's</span><span style = 'color:rgba(253,10,10,0.22410169690847398)'>_which</span><span style = 'color:rgba(253,10,10,0.22410169690847398)'>_developed</span>"
      ],
      "text/plain": [
       "<IPython.core.display.HTML object>"
      ]
     },
     "metadata": {},
     "output_type": "display_data"
    },
    {
     "name": "stdout",
     "output_type": "stream",
     "text": [
      "label:0.0\t guess:0.0\n"
     ]
    },
    {
     "data": {
      "text/html": [
       "<span style = 'color:rgba(253,10,253,0.22919092178344727)'>_When</span><span style = 'color:rgba(253,10,253,0.23006947338581085)'>_the</span><span style = 'color:rgba(253,10,253,0.22919092178344727)'>_film</span><span style = 'color:rgba(253,10,253,0.2551465928554535)'>_began,</span><span style = 'color:rgba(253,10,253,0.22919092178344727)'>_I</span><span style = 'color:rgba(253,10,253,0.30358874797821045)'>_was</span><span style = 'color:rgba(253,10,253,0.23441631495952608)'>_shocked</span><span style = 'color:rgba(253,10,253,0.26305562257766724)'>_to</span><span style = 'color:rgba(253,10,253,0.23006947338581085)'>_see</span><span style = 'color:rgba(253,10,253,0.22919092178344727)'>_it</span><span style = 'color:rgba(253,10,253,0.23006947338581085)'>_was</span><span style = 'color:rgba(253,10,253,0.23006947338581085)'>_filmed</span><span style = 'color:rgba(253,10,253,0.23441631495952608)'>_using</span><span style = 'color:rgba(253,10,253,0.22919092178344727)'>_a</span><span style = 'color:rgba(253,10,253,0.26354454755783085)'>_cheap</span><span style = 'color:rgba(253,10,253,0.2546724915504456)'>_video</span><span style = 'color:rgba(253,10,253,0.23289011716842653)'>_camera!</span><span style = 'color:rgba(253,10,253,0.23189778029918673)'>_In</span><span style = 'color:rgba(253,10,253,0.23006947338581085)'>_fact,</span><span style = 'color:rgba(253,10,253,0.23006947338581085)'>_the</span>"
      ],
      "text/plain": [
       "<IPython.core.display.HTML object>"
      ]
     },
     "metadata": {},
     "output_type": "display_data"
    },
    {
     "data": {
      "text/html": [
       "<span style = 'color:rgba(253,10,10,0.25587240457534793)'>_When</span><span style = 'color:rgba(253,10,10,0.23395869731903077)'>_the</span><span style = 'color:rgba(253,10,10,0.27614600062370304)'>_film</span><span style = 'color:rgba(253,10,10,0.23395869731903077)'>_began,</span><span style = 'color:rgba(253,10,10,0.2757925927639008)'>_I</span><span style = 'color:rgba(253,10,10,0.23395869731903077)'>_was</span><span style = 'color:rgba(253,10,10,0.23395869731903077)'>_shocked</span><span style = 'color:rgba(253,10,10,0.23395869731903077)'>_to</span><span style = 'color:rgba(253,10,10,0.23395869731903077)'>_see</span><span style = 'color:rgba(253,10,10,0.24140426814556123)'>_it</span><span style = 'color:rgba(253,10,10,0.23395869731903077)'>_was</span><span style = 'color:rgba(253,10,10,0.23395869731903077)'>_filmed</span><span style = 'color:rgba(253,10,10,0.23395869731903077)'>_using</span><span style = 'color:rgba(253,10,10,0.24140426814556123)'>_a</span><span style = 'color:rgba(253,10,10,0.23395869731903077)'>_cheap</span><span style = 'color:rgba(253,10,10,0.23395869731903077)'>_video</span><span style = 'color:rgba(253,10,10,0.23395869731903077)'>_camera!</span><span style = 'color:rgba(253,10,10,0.23395869731903077)'>_In</span><span style = 'color:rgba(253,10,10,0.23395869731903077)'>_fact,</span><span style = 'color:rgba(253,10,10,0.23395869731903077)'>_the</span>"
      ],
      "text/plain": [
       "<IPython.core.display.HTML object>"
      ]
     },
     "metadata": {},
     "output_type": "display_data"
    },
    {
     "name": "stdout",
     "output_type": "stream",
     "text": [
      "label:1.0\t guess:1.0\n"
     ]
    },
    {
     "data": {
      "text/html": [
       "<span style = 'color:rgba(253,10,253,0.23747026026248932)'>_Uncompromising</span><span style = 'color:rgba(253,10,253,0.2363754689693451)'>_look</span><span style = 'color:rgba(253,10,253,0.2363754689693451)'>_at</span><span style = 'color:rgba(253,10,253,0.2419644594192505)'>_a</span><span style = 'color:rgba(253,10,253,0.23747026026248932)'>_suburb</span><span style = 'color:rgba(253,10,253,0.24765845835208894)'>_in</span><span style = 'color:rgba(253,10,253,0.23747026026248932)'>_21st</span><span style = 'color:rgba(253,10,253,0.2363754689693451)'>_century</span><span style = 'color:rgba(253,10,253,0.23747026026248932)'>_Vienna</span><span style = 'color:rgba(253,10,253,0.23747026026248932)'>_mixing</span><span style = 'color:rgba(253,10,253,0.2363754689693451)'>_the</span><span style = 'color:rgba(253,10,253,0.2363754689693451)'>_stories</span><span style = 'color:rgba(253,10,253,0.2363754689693451)'>_of</span><span style = 'color:rgba(253,10,253,0.2363754689693451)'>_six</span><span style = 'color:rgba(253,10,253,0.23747026026248932)'>_groups</span><span style = 'color:rgba(253,10,253,0.2363754689693451)'>_of</span><span style = 'color:rgba(253,10,253,0.2548060119152069)'>_characters</span><span style = 'color:rgba(253,10,253,0.2363754689693451)'>_by</span><span style = 'color:rgba(253,10,253,0.26699478030204776)'>_former</span><span style = 'color:rgba(253,10,253,0.2363754689693451)'>_documentary</span>"
      ],
      "text/plain": [
       "<IPython.core.display.HTML object>"
      ]
     },
     "metadata": {},
     "output_type": "display_data"
    },
    {
     "data": {
      "text/html": [
       "<span style = 'color:rgba(253,10,10,0.22595587670803072)'>_Uncompromising</span><span style = 'color:rgba(253,10,10,0.2675195395946503)'>_look</span><span style = 'color:rgba(253,10,10,0.2283615052700043)'>_at</span><span style = 'color:rgba(253,10,10,0.22595587670803072)'>_a</span><span style = 'color:rgba(253,10,10,0.22595587670803072)'>_suburb</span><span style = 'color:rgba(253,10,10,0.22595587670803072)'>_in</span><span style = 'color:rgba(253,10,10,0.22595587670803072)'>_21st</span><span style = 'color:rgba(253,10,10,0.227781617641449)'>_century</span><span style = 'color:rgba(253,10,10,0.22595587670803072)'>_Vienna</span><span style = 'color:rgba(253,10,10,0.22595587670803072)'>_mixing</span><span style = 'color:rgba(253,10,10,0.23164680004119875)'>_the</span><span style = 'color:rgba(253,10,10,0.24446508884429932)'>_stories</span><span style = 'color:rgba(253,10,10,0.2902546286582947)'>_of</span><span style = 'color:rgba(253,10,10,0.2817719280719757)'>_six</span><span style = 'color:rgba(253,10,10,0.22595587670803072)'>_groups</span><span style = 'color:rgba(253,10,10,0.2902546286582947)'>_of</span><span style = 'color:rgba(253,10,10,0.22595587670803072)'>_characters</span><span style = 'color:rgba(253,10,10,0.22817476689815522)'>_by</span><span style = 'color:rgba(253,10,10,0.22595587670803072)'>_former</span><span style = 'color:rgba(253,10,10,0.2502107560634613)'>_documentary</span>"
      ],
      "text/plain": [
       "<IPython.core.display.HTML object>"
      ]
     },
     "metadata": {},
     "output_type": "display_data"
    },
    {
     "name": "stdout",
     "output_type": "stream",
     "text": [
      "label:0.0\t guess:0.0\n"
     ]
    },
    {
     "data": {
      "text/html": [
       "<span style = 'color:rgba(253,10,253,0.23108183443546296)'>_I</span><span style = 'color:rgba(253,10,253,0.23108183443546296)'>_sat</span><span style = 'color:rgba(253,10,253,0.23108183443546296)'>_through</span><span style = 'color:rgba(253,10,253,0.2410441428422928)'>_this</span><span style = 'color:rgba(253,10,253,0.23108183443546296)'>_movie</span><span style = 'color:rgba(253,10,253,0.2410441428422928)'>_this</span><span style = 'color:rgba(253,10,253,0.23201729953289033)'>_evening,</span><span style = 'color:rgba(253,10,253,0.23201729953289033)'>_forcing</span><span style = 'color:rgba(253,10,253,0.23539393544197085)'>_myself</span><span style = 'color:rgba(253,10,253,0.23664571940898896)'>_to</span><span style = 'color:rgba(253,10,253,0.23108183443546296)'>_stick</span><span style = 'color:rgba(253,10,253,0.23108183443546296)'>_with</span><span style = 'color:rgba(253,10,253,0.23108183443546296)'>_it</span><span style = 'color:rgba(253,10,253,0.2785176217556)'>_even</span><span style = 'color:rgba(253,10,253,0.23108183443546296)'>_though</span><span style = 'color:rgba(253,10,253,0.23108183443546296)'>_I</span><span style = 'color:rgba(253,10,253,0.2587188541889191)'>_never</span><span style = 'color:rgba(253,10,253,0.2897040545940399)'>_cared</span><span style = 'color:rgba(253,10,253,0.24407858550548556)'>_about</span><span style = 'color:rgba(253,10,253,0.23108183443546296)'>_any</span>"
      ],
      "text/plain": [
       "<IPython.core.display.HTML object>"
      ]
     },
     "metadata": {},
     "output_type": "display_data"
    },
    {
     "data": {
      "text/html": [
       "<span style = 'color:rgba(253,10,10,0.23695960938930513)'>_I</span><span style = 'color:rgba(253,10,10,0.32925952672958375)'>_sat</span><span style = 'color:rgba(253,10,10,0.23715729117393494)'>_through</span><span style = 'color:rgba(253,10,10,0.22774693965911866)'>_this</span><span style = 'color:rgba(253,10,10,0.2456521660089493)'>_movie</span><span style = 'color:rgba(253,10,10,0.22774693965911866)'>_this</span><span style = 'color:rgba(253,10,10,0.22774693965911866)'>_evening,</span><span style = 'color:rgba(253,10,10,0.22774693965911866)'>_forcing</span><span style = 'color:rgba(253,10,10,0.22774693965911866)'>_myself</span><span style = 'color:rgba(253,10,10,0.22774693965911866)'>_to</span><span style = 'color:rgba(253,10,10,0.24551770091056824)'>_stick</span><span style = 'color:rgba(253,10,10,0.23775569498538973)'>_with</span><span style = 'color:rgba(253,10,10,0.24204072058200837)'>_it</span><span style = 'color:rgba(253,10,10,0.22774693965911866)'>_even</span><span style = 'color:rgba(253,10,10,0.24900708198547364)'>_though</span><span style = 'color:rgba(253,10,10,0.23695960938930513)'>_I</span><span style = 'color:rgba(253,10,10,0.22774693965911866)'>_never</span><span style = 'color:rgba(253,10,10,0.22774693965911866)'>_cared</span><span style = 'color:rgba(253,10,10,0.22774693965911866)'>_about</span><span style = 'color:rgba(253,10,10,0.2622211635112763)'>_any</span>"
      ],
      "text/plain": [
       "<IPython.core.display.HTML object>"
      ]
     },
     "metadata": {},
     "output_type": "display_data"
    },
    {
     "name": "stdout",
     "output_type": "stream",
     "text": [
      "label:1.0\t guess:1.0\n"
     ]
    },
    {
     "data": {
      "text/html": [
       "<span style = 'color:rgba(253,10,253,0.2619254350662232)'>_Yes</span><span style = 'color:rgba(253,10,253,0.24905576407909394)'>_its</span><span style = 'color:rgba(253,10,253,0.23384614884853364)'>_an</span><span style = 'color:rgba(253,10,253,0.23486481606960297)'>_art...</span><span style = 'color:rgba(253,10,253,0.2399048686027527)'>_to</span><span style = 'color:rgba(253,10,253,0.23384614884853364)'>_successfully</span><span style = 'color:rgba(253,10,253,0.25661324262619023)'>_make</span><span style = 'color:rgba(253,10,253,0.23904651403427124)'>_a</span><span style = 'color:rgba(253,10,253,0.23384614884853364)'>_slow</span><span style = 'color:rgba(253,10,253,0.23384614884853364)'>_paced</span><span style = 'color:rgba(253,10,253,0.23486481606960297)'>_thriller.<br</span><span style = 'color:rgba(253,10,253,0.2650349855422974)'>_/><br</span><span style = 'color:rgba(253,10,253,0.23384614884853364)'>_/>The</span><span style = 'color:rgba(253,10,253,0.23384614884853364)'>_story</span><span style = 'color:rgba(253,10,253,0.23486481606960297)'>_unfolds</span><span style = 'color:rgba(253,10,253,0.24434458911418916)'>_in</span><span style = 'color:rgba(253,10,253,0.23384614884853364)'>_nice</span><span style = 'color:rgba(253,10,253,0.23486481606960297)'>_volumes</span><span style = 'color:rgba(253,10,253,0.23384614884853364)'>_while</span><span style = 'color:rgba(253,10,253,0.23384614884853364)'>_you</span>"
      ],
      "text/plain": [
       "<IPython.core.display.HTML object>"
      ]
     },
     "metadata": {},
     "output_type": "display_data"
    },
    {
     "data": {
      "text/html": [
       "<span style = 'color:rgba(253,10,10,0.22626034915447235)'>_Yes</span><span style = 'color:rgba(253,10,10,0.22626034915447235)'>_its</span><span style = 'color:rgba(253,10,10,0.23839996457099916)'>_an</span><span style = 'color:rgba(253,10,10,0.22626034915447235)'>_art...</span><span style = 'color:rgba(253,10,10,0.22626034915447235)'>_to</span><span style = 'color:rgba(253,10,10,0.35033429861068727)'>_successfully</span><span style = 'color:rgba(253,10,10,0.22626034915447235)'>_make</span><span style = 'color:rgba(253,10,10,0.22626034915447235)'>_a</span><span style = 'color:rgba(253,10,10,0.2625960648059845)'>_slow</span><span style = 'color:rgba(253,10,10,0.24752056896686556)'>_paced</span><span style = 'color:rgba(253,10,10,0.22626034915447235)'>_thriller.<br</span><span style = 'color:rgba(253,10,10,0.22626034915447235)'>_/><br</span><span style = 'color:rgba(253,10,10,0.23294589817523959)'>_/>The</span><span style = 'color:rgba(253,10,10,0.2409025311470032)'>_story</span><span style = 'color:rgba(253,10,10,0.22626034915447235)'>_unfolds</span><span style = 'color:rgba(253,10,10,0.22626034915447235)'>_in</span><span style = 'color:rgba(253,10,10,0.24596088826656343)'>_nice</span><span style = 'color:rgba(253,10,10,0.22626034915447235)'>_volumes</span><span style = 'color:rgba(253,10,10,0.24252202510833742)'>_while</span><span style = 'color:rgba(253,10,10,0.24995391964912417)'>_you</span>"
      ],
      "text/plain": [
       "<IPython.core.display.HTML object>"
      ]
     },
     "metadata": {},
     "output_type": "display_data"
    },
    {
     "name": "stdout",
     "output_type": "stream",
     "text": [
      "label:1.0\t guess:1.0\n"
     ]
    },
    {
     "data": {
      "text/html": [
       "<span style = 'color:rgba(253,10,253,0.22374649196863175)'>_I</span><span style = 'color:rgba(253,10,253,0.22446118742227555)'>_think</span><span style = 'color:rgba(253,10,253,0.22374649196863175)'>_the</span><span style = 'color:rgba(253,10,253,0.2606083989143372)'>_deal</span><span style = 'color:rgba(253,10,253,0.3227720618247986)'>_with</span><span style = 'color:rgba(253,10,253,0.22374649196863175)'>_this</span><span style = 'color:rgba(253,10,253,0.2649218559265137)'>_movie</span><span style = 'color:rgba(253,10,253,0.22446118742227555)'>_is</span><span style = 'color:rgba(253,10,253,0.22374649196863175)'>_that</span><span style = 'color:rgba(253,10,253,0.22374649196863175)'>_it</span><span style = 'color:rgba(253,10,253,0.23607649803161623)'>_has</span><span style = 'color:rgba(253,10,253,0.22374649196863175)'>_about</span><span style = 'color:rgba(253,10,253,0.3167696237564087)'>_2</span><span style = 'color:rgba(253,10,253,0.23111221194267273)'>_minutes</span><span style = 'color:rgba(253,10,253,0.22374649196863175)'>_of</span><span style = 'color:rgba(253,10,253,0.22374649196863175)'>_really,</span><span style = 'color:rgba(253,10,253,0.22374649196863175)'>_really</span><span style = 'color:rgba(253,10,253,0.25689088702201845)'>_funny</span><span style = 'color:rgba(253,10,253,0.22374649196863175)'>_moments</span><span style = 'color:rgba(253,10,253,0.22446118742227555)'>_and</span>"
      ],
      "text/plain": [
       "<IPython.core.display.HTML object>"
      ]
     },
     "metadata": {},
     "output_type": "display_data"
    },
    {
     "data": {
      "text/html": [
       "<span style = 'color:rgba(253,10,10,0.23067151904106142)'>_I</span><span style = 'color:rgba(253,10,10,0.2251559764146805)'>_think</span><span style = 'color:rgba(253,10,10,0.28747318387031556)'>_the</span><span style = 'color:rgba(253,10,10,0.2251559764146805)'>_deal</span><span style = 'color:rgba(253,10,10,0.2251559764146805)'>_with</span><span style = 'color:rgba(253,10,10,0.22595483958721163)'>_this</span><span style = 'color:rgba(253,10,10,0.2251559764146805)'>_movie</span><span style = 'color:rgba(253,10,10,0.2251559764146805)'>_is</span><span style = 'color:rgba(253,10,10,0.25640754699707036)'>_that</span><span style = 'color:rgba(253,10,10,0.23067151904106142)'>_it</span><span style = 'color:rgba(253,10,10,0.2251559764146805)'>_has</span><span style = 'color:rgba(253,10,10,0.25255299210548404)'>_about</span><span style = 'color:rgba(253,10,10,0.2251559764146805)'>_2</span><span style = 'color:rgba(253,10,10,0.2251559764146805)'>_minutes</span><span style = 'color:rgba(253,10,10,0.36409548521041873)'>_of</span><span style = 'color:rgba(253,10,10,0.2342301309108734)'>_really,</span><span style = 'color:rgba(253,10,10,0.2321529030799866)'>_really</span><span style = 'color:rgba(253,10,10,0.2251559764146805)'>_funny</span><span style = 'color:rgba(253,10,10,0.2342301309108734)'>_moments</span><span style = 'color:rgba(253,10,10,0.2251559764146805)'>_and</span>"
      ],
      "text/plain": [
       "<IPython.core.display.HTML object>"
      ]
     },
     "metadata": {},
     "output_type": "display_data"
    },
    {
     "name": "stdout",
     "output_type": "stream",
     "text": [
      "label:1.0\t guess:1.0\n"
     ]
    },
    {
     "data": {
      "text/html": [
       "<span style = 'color:rgba(253,10,253,0.22903496623039246)'>_I</span><span style = 'color:rgba(253,10,253,0.23479056656360628)'>_have</span><span style = 'color:rgba(253,10,253,0.22903496623039246)'>_seen</span><span style = 'color:rgba(253,10,253,0.23772085011005403)'>_The</span><span style = 'color:rgba(253,10,253,0.22990882992744446)'>_Perfect</span><span style = 'color:rgba(253,10,253,0.22990882992744446)'>_Son</span><span style = 'color:rgba(253,10,253,0.2411758303642273)'>_about</span><span style = 'color:rgba(253,10,253,0.24492575824260712)'>_three</span><span style = 'color:rgba(253,10,253,0.22903496623039246)'>_times.</span><span style = 'color:rgba(253,10,253,0.22903496623039246)'>_I</span><span style = 'color:rgba(253,10,253,0.2626940906047821)'>_fail</span><span style = 'color:rgba(253,10,253,0.23423244655132294)'>_to</span><span style = 'color:rgba(253,10,253,0.2850617945194245)'>_see</span><span style = 'color:rgba(253,10,253,0.22903496623039246)'>_how</span><span style = 'color:rgba(253,10,253,0.23834121227264404)'>_this</span><span style = 'color:rgba(253,10,253,0.23543626964092257)'>_film</span><span style = 'color:rgba(253,10,253,0.22903496623039246)'>_is</span><span style = 'color:rgba(253,10,253,0.23349610865116122)'>_a</span><span style = 'color:rgba(253,10,253,0.2548925817012787)'>_gay</span><span style = 'color:rgba(253,10,253,0.26320505738258365)'>_film,</span>"
      ],
      "text/plain": [
       "<IPython.core.display.HTML object>"
      ]
     },
     "metadata": {},
     "output_type": "display_data"
    },
    {
     "data": {
      "text/html": [
       "<span style = 'color:rgba(253,10,10,0.2391773194074631)'>_I</span><span style = 'color:rgba(253,10,10,0.22941185832023622)'>_have</span><span style = 'color:rgba(253,10,10,0.27176181077957157)'>_seen</span><span style = 'color:rgba(253,10,10,0.22941185832023622)'>_The</span><span style = 'color:rgba(253,10,10,0.22941185832023622)'>_Perfect</span><span style = 'color:rgba(253,10,10,0.22941185832023622)'>_Son</span><span style = 'color:rgba(253,10,10,0.22941185832023622)'>_about</span><span style = 'color:rgba(253,10,10,0.22941185832023622)'>_three</span><span style = 'color:rgba(253,10,10,0.317756187915802)'>_times.</span><span style = 'color:rgba(253,10,10,0.2391773194074631)'>_I</span><span style = 'color:rgba(253,10,10,0.22941185832023622)'>_fail</span><span style = 'color:rgba(253,10,10,0.22941185832023622)'>_to</span><span style = 'color:rgba(253,10,10,0.22941185832023622)'>_see</span><span style = 'color:rgba(253,10,10,0.2634654223918915)'>_how</span><span style = 'color:rgba(253,10,10,0.22941185832023622)'>_this</span><span style = 'color:rgba(253,10,10,0.22941185832023622)'>_film</span><span style = 'color:rgba(253,10,10,0.256895911693573)'>_is</span><span style = 'color:rgba(253,10,10,0.22941185832023622)'>_a</span><span style = 'color:rgba(253,10,10,0.22941185832023622)'>_gay</span><span style = 'color:rgba(253,10,10,0.22941185832023622)'>_film,</span>"
      ],
      "text/plain": [
       "<IPython.core.display.HTML object>"
      ]
     },
     "metadata": {},
     "output_type": "display_data"
    },
    {
     "name": "stdout",
     "output_type": "stream",
     "text": [
      "label:1.0\t guess:1.0\n"
     ]
    },
    {
     "data": {
      "text/html": [
       "<span style = 'color:rgba(253,10,253,0.2264594525098801)'>_I</span><span style = 'color:rgba(253,10,253,0.24709954857826233)'>_LOVE</span><span style = 'color:rgba(253,10,253,0.2272558003664017)'>_Jack's</span><span style = 'color:rgba(253,10,253,0.23134774863719942)'>_jokes</span><span style = 'color:rgba(253,10,253,0.2278125286102295)'>_like</span><span style = 'color:rgba(253,10,253,0.22776068150997164)'>_'The</span><span style = 'color:rgba(253,10,253,0.321482264995575)'>_clich</span><span style = 'color:rgba(253,10,253,0.2272558003664017)'>_is...'</span><span style = 'color:rgba(253,10,253,0.2734676420688629)'>_or</span><span style = 'color:rgba(253,10,253,0.2272558003664017)'>_\"Over</span><span style = 'color:rgba(253,10,253,0.2264594525098801)'>_the</span><span style = 'color:rgba(253,10,253,0.2264594525098801)'>_top</span><span style = 'color:rgba(253,10,253,0.321482264995575)'>_clich</span><span style = 'color:rgba(253,10,253,0.2264594525098801)'>_guy,</span><span style = 'color:rgba(253,10,253,0.2272558003664017)'>_black,</span><span style = 'color:rgba(253,10,253,0.2272558003664017)'>_oily</span><span style = 'color:rgba(253,10,253,0.2272558003664017)'>_skin,</span><span style = 'color:rgba(253,10,253,0.2264594525098801)'>_kinda</span><span style = 'color:rgba(253,10,253,0.2272558003664017)'>_spooky...\".</span><span style = 'color:rgba(253,10,253,0.2264594525098801)'>_He</span>"
      ],
      "text/plain": [
       "<IPython.core.display.HTML object>"
      ]
     },
     "metadata": {},
     "output_type": "display_data"
    },
    {
     "data": {
      "text/html": [
       "<span style = 'color:rgba(253,10,10,0.24643225073814393)'>_I</span><span style = 'color:rgba(253,10,10,0.2348583996295929)'>_LOVE</span><span style = 'color:rgba(253,10,10,0.2348583996295929)'>_Jack's</span><span style = 'color:rgba(253,10,10,0.2348583996295929)'>_jokes</span><span style = 'color:rgba(253,10,10,0.2348583996295929)'>_like</span><span style = 'color:rgba(253,10,10,0.2348583996295929)'>_'The</span><span style = 'color:rgba(253,10,10,0.2348583996295929)'>_clich</span><span style = 'color:rgba(253,10,10,0.2348583996295929)'>_is...'</span><span style = 'color:rgba(253,10,10,0.2348583996295929)'>_or</span><span style = 'color:rgba(253,10,10,0.2348583996295929)'>_\"Over</span><span style = 'color:rgba(253,10,10,0.24250123500823975)'>_the</span><span style = 'color:rgba(253,10,10,0.25922070145606996)'>_top</span><span style = 'color:rgba(253,10,10,0.2348583996295929)'>_clich</span><span style = 'color:rgba(253,10,10,0.27754609584808354)'>_guy,</span><span style = 'color:rgba(253,10,10,0.2348583996295929)'>_black,</span><span style = 'color:rgba(253,10,10,0.2348583996295929)'>_oily</span><span style = 'color:rgba(253,10,10,0.2348583996295929)'>_skin,</span><span style = 'color:rgba(253,10,10,0.2399609237909317)'>_kinda</span><span style = 'color:rgba(253,10,10,0.2348583996295929)'>_spooky...\".</span><span style = 'color:rgba(253,10,10,0.24632117450237276)'>_He</span>"
      ],
      "text/plain": [
       "<IPython.core.display.HTML object>"
      ]
     },
     "metadata": {},
     "output_type": "display_data"
    },
    {
     "name": "stdout",
     "output_type": "stream",
     "text": [
      "label:0.0\t guess:0.0\n"
     ]
    },
    {
     "data": {
      "text/html": [
       "<span style = 'color:rgba(253,10,253,0.2700826168060303)'>_What</span><span style = 'color:rgba(253,10,253,0.2568686664104462)'>_was</span><span style = 'color:rgba(253,10,253,0.22837422490119935)'>_with</span><span style = 'color:rgba(253,10,253,0.2533113539218903)'>_all</span><span style = 'color:rgba(253,10,253,0.22837422490119935)'>_the</span><span style = 'color:rgba(253,10,253,0.22922820150852205)'>_Turkish</span><span style = 'color:rgba(253,10,253,0.22922820150852205)'>_actors?</span><span style = 'color:rgba(253,10,253,0.22837422490119935)'>_No</span><span style = 'color:rgba(253,10,253,0.22922820150852205)'>_offense</span><span style = 'color:rgba(253,10,253,0.22837422490119935)'>_but</span><span style = 'color:rgba(253,10,253,0.22837422490119935)'>_I</span><span style = 'color:rgba(253,10,253,0.26935601234436035)'>_thought</span><span style = 'color:rgba(253,10,253,0.22837422490119935)'>_it</span><span style = 'color:rgba(253,10,253,0.2568686664104462)'>_was</span><span style = 'color:rgba(253,10,253,0.2533113539218903)'>_all</span><span style = 'color:rgba(253,10,253,0.23610577881336214)'>_for</span><span style = 'color:rgba(253,10,253,0.22837422490119935)'>_nothing</span><span style = 'color:rgba(253,10,253,0.23610577881336214)'>_for</span><span style = 'color:rgba(253,10,253,0.2533113539218903)'>_all</span><span style = 'color:rgba(253,10,253,0.22837422490119935)'>_these</span>"
      ],
      "text/plain": [
       "<IPython.core.display.HTML object>"
      ]
     },
     "metadata": {},
     "output_type": "display_data"
    },
    {
     "data": {
      "text/html": [
       "<span style = 'color:rgba(253,10,10,0.22974972426891327)'>_What</span><span style = 'color:rgba(253,10,10,0.22974972426891327)'>_was</span><span style = 'color:rgba(253,10,10,0.24048091769218446)'>_with</span><span style = 'color:rgba(253,10,10,0.22974972426891327)'>_all</span><span style = 'color:rgba(253,10,10,0.23627246320247652)'>_the</span><span style = 'color:rgba(253,10,10,0.22974972426891327)'>_Turkish</span><span style = 'color:rgba(253,10,10,0.22974972426891327)'>_actors?</span><span style = 'color:rgba(253,10,10,0.2760721504688263)'>_No</span><span style = 'color:rgba(253,10,10,0.22974972426891327)'>_offense</span><span style = 'color:rgba(253,10,10,0.24514565467834473)'>_but</span><span style = 'color:rgba(253,10,10,0.23962737023830416)'>_I</span><span style = 'color:rgba(253,10,10,0.22974972426891327)'>_thought</span><span style = 'color:rgba(253,10,10,0.2450752377510071)'>_it</span><span style = 'color:rgba(253,10,10,0.22974972426891327)'>_was</span><span style = 'color:rgba(253,10,10,0.22974972426891327)'>_all</span><span style = 'color:rgba(253,10,10,0.22974972426891327)'>_for</span><span style = 'color:rgba(253,10,10,0.330577301979065)'>_nothing</span><span style = 'color:rgba(253,10,10,0.22974972426891327)'>_for</span><span style = 'color:rgba(253,10,10,0.22974972426891327)'>_all</span><span style = 'color:rgba(253,10,10,0.22975221872329712)'>_these</span>"
      ],
      "text/plain": [
       "<IPython.core.display.HTML object>"
      ]
     },
     "metadata": {},
     "output_type": "display_data"
    },
    {
     "name": "stdout",
     "output_type": "stream",
     "text": [
      "label:0.0\t guess:0.0\n"
     ]
    },
    {
     "data": {
      "text/html": [
       "<span style = 'color:rgba(253,10,253,0.23322037756443026)'>_I</span><span style = 'color:rgba(253,10,253,0.23322037756443026)'>_am</span><span style = 'color:rgba(253,10,253,0.23322037756443026)'>_definitely</span><span style = 'color:rgba(253,10,253,0.24352472126483918)'>_in</span><span style = 'color:rgba(253,10,253,0.23322037756443026)'>_the</span><span style = 'color:rgba(253,10,253,0.23422020971775057)'>_minority</span><span style = 'color:rgba(253,10,253,0.23322037756443026)'>_opinion</span><span style = 'color:rgba(253,10,253,0.23322037756443026)'>_on</span><span style = 'color:rgba(253,10,253,0.24386813044548036)'>_this</span><span style = 'color:rgba(253,10,253,0.27282909750938417)'>_one.</span><span style = 'color:rgba(253,10,253,0.24568159580230714)'>_\"The</span><span style = 'color:rgba(253,10,253,0.23422020971775057)'>_Hurt</span><span style = 'color:rgba(253,10,253,0.23422020971775057)'>_Locker\"</span><span style = 'color:rgba(253,10,253,0.23322037756443026)'>_has</span><span style = 'color:rgba(253,10,253,0.23322037756443026)'>_won</span><span style = 'color:rgba(253,10,253,0.23322037756443026)'>_more</span><span style = 'color:rgba(253,10,253,0.23422020971775057)'>_\"Best</span><span style = 'color:rgba(253,10,253,0.23422020971775057)'>_Picture\"</span><span style = 'color:rgba(253,10,253,0.2529088854789734)'>_awards</span><span style = 'color:rgba(253,10,253,0.2711031138896942)'>_from</span>"
      ],
      "text/plain": [
       "<IPython.core.display.HTML object>"
      ]
     },
     "metadata": {},
     "output_type": "display_data"
    },
    {
     "data": {
      "text/html": [
       "<span style = 'color:rgba(253,10,10,0.23647247552871706)'>_I</span><span style = 'color:rgba(253,10,10,0.24206245243549349)'>_am</span><span style = 'color:rgba(253,10,10,0.3384168386459351)'>_definitely</span><span style = 'color:rgba(253,10,10,0.22738122940063477)'>_in</span><span style = 'color:rgba(253,10,10,0.23338466584682466)'>_the</span><span style = 'color:rgba(253,10,10,0.22738122940063477)'>_minority</span><span style = 'color:rgba(253,10,10,0.2484332174062729)'>_opinion</span><span style = 'color:rgba(253,10,10,0.22745774686336517)'>_on</span><span style = 'color:rgba(253,10,10,0.22738122940063477)'>_this</span><span style = 'color:rgba(253,10,10,0.22738122940063477)'>_one.</span><span style = 'color:rgba(253,10,10,0.22738122940063477)'>_\"The</span><span style = 'color:rgba(253,10,10,0.22738122940063477)'>_Hurt</span><span style = 'color:rgba(253,10,10,0.22738122940063477)'>_Locker\"</span><span style = 'color:rgba(253,10,10,0.2356654316186905)'>_has</span><span style = 'color:rgba(253,10,10,0.2710590660572052)'>_won</span><span style = 'color:rgba(253,10,10,0.26585460901260377)'>_more</span><span style = 'color:rgba(253,10,10,0.22738122940063477)'>_\"Best</span><span style = 'color:rgba(253,10,10,0.22738122940063477)'>_Picture\"</span><span style = 'color:rgba(253,10,10,0.22738122940063477)'>_awards</span><span style = 'color:rgba(253,10,10,0.22738122940063477)'>_from</span>"
      ],
      "text/plain": [
       "<IPython.core.display.HTML object>"
      ]
     },
     "metadata": {},
     "output_type": "display_data"
    },
    {
     "name": "stdout",
     "output_type": "stream",
     "text": [
      "label:0.0\t guess:0.0\n"
     ]
    },
    {
     "data": {
      "text/html": [
       "<span style = 'color:rgba(253,10,253,0.224143023788929)'>_I</span><span style = 'color:rgba(253,10,253,0.22785252928733826)'>_am</span><span style = 'color:rgba(253,10,253,0.22486965209245682)'>_generally</span><span style = 'color:rgba(253,10,253,0.22486965209245682)'>_more</span><span style = 'color:rgba(253,10,253,0.25167443156242375)'>_willing</span><span style = 'color:rgba(253,10,253,0.23499229550361633)'>_to</span><span style = 'color:rgba(253,10,253,0.3849958300590515)'>_be</span><span style = 'color:rgba(253,10,253,0.224143023788929)'>_open</span><span style = 'color:rgba(253,10,253,0.224143023788929)'>_minded</span><span style = 'color:rgba(253,10,253,0.22486965209245682)'>_about</span><span style = 'color:rgba(253,10,253,0.22486965209245682)'>_rom</span><span style = 'color:rgba(253,10,253,0.24639053940773012)'>_coms</span><span style = 'color:rgba(253,10,253,0.22486965209245682)'>_than</span><span style = 'color:rgba(253,10,253,0.224143023788929)'>_many,</span><span style = 'color:rgba(253,10,253,0.224143023788929)'>_but</span><span style = 'color:rgba(253,10,253,0.224143023788929)'>_this</span><span style = 'color:rgba(253,10,253,0.24275045692920685)'>_was</span><span style = 'color:rgba(253,10,253,0.28127273321151736)'>_simply</span><span style = 'color:rgba(253,10,253,0.224143023788929)'>_not</span><span style = 'color:rgba(253,10,253,0.23672178685665132)'>_a</span>"
      ],
      "text/plain": [
       "<IPython.core.display.HTML object>"
      ]
     },
     "metadata": {},
     "output_type": "display_data"
    },
    {
     "data": {
      "text/html": [
       "<span style = 'color:rgba(253,10,10,0.26769912242889404)'>_I</span><span style = 'color:rgba(253,10,10,0.23019165992736818)'>_am</span><span style = 'color:rgba(253,10,10,0.23019165992736818)'>_generally</span><span style = 'color:rgba(253,10,10,0.23019165992736818)'>_more</span><span style = 'color:rgba(253,10,10,0.23019165992736818)'>_willing</span><span style = 'color:rgba(253,10,10,0.23019165992736818)'>_to</span><span style = 'color:rgba(253,10,10,0.23019165992736818)'>_be</span><span style = 'color:rgba(253,10,10,0.23429888784885408)'>_open</span><span style = 'color:rgba(253,10,10,0.260670280456543)'>_minded</span><span style = 'color:rgba(253,10,10,0.23019165992736818)'>_about</span><span style = 'color:rgba(253,10,10,0.23019165992736818)'>_rom</span><span style = 'color:rgba(253,10,10,0.23019165992736818)'>_coms</span><span style = 'color:rgba(253,10,10,0.23019165992736818)'>_than</span><span style = 'color:rgba(253,10,10,0.33626137971878056)'>_many,</span><span style = 'color:rgba(253,10,10,0.23495617508888245)'>_but</span><span style = 'color:rgba(253,10,10,0.23681129217147828)'>_this</span><span style = 'color:rgba(253,10,10,0.23019165992736818)'>_was</span><span style = 'color:rgba(253,10,10,0.23019165992736818)'>_simply</span><span style = 'color:rgba(253,10,10,0.23681129217147828)'>_not</span><span style = 'color:rgba(253,10,10,0.23019165992736818)'>_a</span>"
      ],
      "text/plain": [
       "<IPython.core.display.HTML object>"
      ]
     },
     "metadata": {},
     "output_type": "display_data"
    },
    {
     "name": "stdout",
     "output_type": "stream",
     "text": [
      "label:1.0\t guess:1.0\n"
     ]
    },
    {
     "data": {
      "text/html": [
       "<span style = 'color:rgba(253,10,253,0.2679769337177277)'>_Peter</span><span style = 'color:rgba(253,10,253,0.2382367938756943)'>_Weir's</span><span style = 'color:rgba(253,10,253,0.23711960911750796)'>_first</span><span style = 'color:rgba(253,10,253,0.23711960911750796)'>_international</span><span style = 'color:rgba(253,10,253,0.2382367938756943)'>_success,</span><span style = 'color:rgba(253,10,253,0.24147569835186006)'>_THE</span><span style = 'color:rgba(253,10,253,0.2382367938756943)'>_LAST</span><span style = 'color:rgba(253,10,253,0.2382367938756943)'>_WAVE</span><span style = 'color:rgba(253,10,253,0.23711960911750796)'>_is</span><span style = 'color:rgba(253,10,253,0.24282293021678925)'>_a</span><span style = 'color:rgba(253,10,253,0.23711960911750796)'>_mainly</span><span style = 'color:rgba(253,10,253,0.23711960911750796)'>_effective</span><span style = 'color:rgba(253,10,253,0.2382367938756943)'>_chiller</span><span style = 'color:rgba(253,10,253,0.23711960911750796)'>_with</span><span style = 'color:rgba(253,10,253,0.24282293021678925)'>_a</span><span style = 'color:rgba(253,10,253,0.23711960911750796)'>_fascinating</span><span style = 'color:rgba(253,10,253,0.23711960911750796)'>_back</span><span style = 'color:rgba(253,10,253,0.23711960911750796)'>_story</span><span style = 'color:rgba(253,10,253,0.24252144992351532)'>_based</span><span style = 'color:rgba(253,10,253,0.23711960911750796)'>_on</span>"
      ],
      "text/plain": [
       "<IPython.core.display.HTML object>"
      ]
     },
     "metadata": {},
     "output_type": "display_data"
    },
    {
     "data": {
      "text/html": [
       "<span style = 'color:rgba(253,10,10,0.22898711264133453)'>_Peter</span><span style = 'color:rgba(253,10,10,0.22898711264133453)'>_Weir's</span><span style = 'color:rgba(253,10,10,0.2706443011760712)'>_first</span><span style = 'color:rgba(253,10,10,0.25775876045227053)'>_international</span><span style = 'color:rgba(253,10,10,0.22898711264133453)'>_success,</span><span style = 'color:rgba(253,10,10,0.22898711264133453)'>_THE</span><span style = 'color:rgba(253,10,10,0.22898711264133453)'>_LAST</span><span style = 'color:rgba(253,10,10,0.22898711264133453)'>_WAVE</span><span style = 'color:rgba(253,10,10,0.25607426166534425)'>_is</span><span style = 'color:rgba(253,10,10,0.22898711264133453)'>_a</span><span style = 'color:rgba(253,10,10,0.23714171051979066)'>_mainly</span><span style = 'color:rgba(253,10,10,0.2745910882949829)'>_effective</span><span style = 'color:rgba(253,10,10,0.22898711264133453)'>_chiller</span><span style = 'color:rgba(253,10,10,0.2394432157278061)'>_with</span><span style = 'color:rgba(253,10,10,0.22898711264133453)'>_a</span><span style = 'color:rgba(253,10,10,0.2542413890361786)'>_fascinating</span><span style = 'color:rgba(253,10,10,0.24601635932922364)'>_back</span><span style = 'color:rgba(253,10,10,0.24514968097209933)'>_story</span><span style = 'color:rgba(253,10,10,0.22898711264133453)'>_based</span><span style = 'color:rgba(253,10,10,0.22906811833381654)'>_on</span>"
      ],
      "text/plain": [
       "<IPython.core.display.HTML object>"
      ]
     },
     "metadata": {},
     "output_type": "display_data"
    },
    {
     "name": "stdout",
     "output_type": "stream",
     "text": [
      "label:0.0\t guess:0.0\n"
     ]
    },
    {
     "data": {
      "text/html": [
       "<span style = 'color:rgba(253,10,253,0.21994584649801255)'>_Possibly</span><span style = 'color:rgba(253,10,253,0.22426302284002306)'>_not,</span><span style = 'color:rgba(253,10,253,0.21936307996511462)'>_but</span><span style = 'color:rgba(253,10,253,0.21936307996511462)'>_it</span><span style = 'color:rgba(253,10,253,0.21936307996511462)'>_is</span><span style = 'color:rgba(253,10,253,0.36591093540191655)'>_awful.</span><span style = 'color:rgba(253,10,253,0.24565759897232056)'>_Even</span><span style = 'color:rgba(253,10,253,0.21936307996511462)'>_the</span><span style = 'color:rgba(253,10,253,0.21936307996511462)'>_fantastic</span><span style = 'color:rgba(253,10,253,0.2211271807551384)'>_cast</span><span style = 'color:rgba(253,10,253,0.22463179528713229)'>_cant</span><span style = 'color:rgba(253,10,253,0.33758904933929446)'>_save</span><span style = 'color:rgba(253,10,253,0.24048735797405243)'>_it.</span><span style = 'color:rgba(253,10,253,0.21936307996511462)'>_OK,</span><span style = 'color:rgba(253,10,253,0.21936307996511462)'>_I</span><span style = 'color:rgba(253,10,253,0.3073933243751526)'>_admit</span><span style = 'color:rgba(253,10,253,0.21936307996511462)'>_it</span><span style = 'color:rgba(253,10,253,0.21936307996511462)'>_started</span><span style = 'color:rgba(253,10,253,0.21936307996511462)'>_off</span><span style = 'color:rgba(253,10,253,0.21936307996511462)'>_quite</span>"
      ],
      "text/plain": [
       "<IPython.core.display.HTML object>"
      ]
     },
     "metadata": {},
     "output_type": "display_data"
    },
    {
     "data": {
      "text/html": [
       "<span style = 'color:rgba(253,10,10,0.2235366702079773)'>_Possibly</span><span style = 'color:rgba(253,10,10,0.2235366702079773)'>_not,</span><span style = 'color:rgba(253,10,10,0.23571725189685822)'>_but</span><span style = 'color:rgba(253,10,10,0.23566153943538667)'>_it</span><span style = 'color:rgba(253,10,10,0.24553062319755556)'>_is</span><span style = 'color:rgba(253,10,10,0.2235366702079773)'>_awful.</span><span style = 'color:rgba(253,10,10,0.2235366702079773)'>_Even</span><span style = 'color:rgba(253,10,10,0.22869717180728913)'>_the</span><span style = 'color:rgba(253,10,10,0.4041531324386597)'>_fantastic</span><span style = 'color:rgba(253,10,10,0.2235366702079773)'>_cast</span><span style = 'color:rgba(253,10,10,0.2235366702079773)'>_cant</span><span style = 'color:rgba(253,10,10,0.2235366702079773)'>_save</span><span style = 'color:rgba(253,10,10,0.2235366702079773)'>_it.</span><span style = 'color:rgba(253,10,10,0.23490862250328065)'>_OK,</span><span style = 'color:rgba(253,10,10,0.23135142326354982)'>_I</span><span style = 'color:rgba(253,10,10,0.2235366702079773)'>_admit</span><span style = 'color:rgba(253,10,10,0.23566153943538667)'>_it</span><span style = 'color:rgba(253,10,10,0.23625405430793764)'>_started</span><span style = 'color:rgba(253,10,10,0.24850921034812928)'>_off</span><span style = 'color:rgba(253,10,10,0.2517254173755646)'>_quite</span>"
      ],
      "text/plain": [
       "<IPython.core.display.HTML object>"
      ]
     },
     "metadata": {},
     "output_type": "display_data"
    },
    {
     "name": "stdout",
     "output_type": "stream",
     "text": [
      "label:0.0\t guess:0.0\n"
     ]
    },
    {
     "data": {
      "text/html": [
       "<span style = 'color:rgba(253,10,253,0.2277726471424103)'>_For</span><span style = 'color:rgba(253,10,253,0.3604613780975342)'>_a</span><span style = 'color:rgba(253,10,253,0.2410494923591614)'>_fan</span><span style = 'color:rgba(253,10,253,0.22258827537298204)'>_series,</span><span style = 'color:rgba(253,10,253,0.22895673215389253)'>_I</span><span style = 'color:rgba(253,10,253,0.2500511765480042)'>_must</span><span style = 'color:rgba(253,10,253,0.2219283014535904)'>_admit</span><span style = 'color:rgba(253,10,253,0.23366042077541352)'>_that</span><span style = 'color:rgba(253,10,253,0.22569997608661652)'>_Hidden</span><span style = 'color:rgba(253,10,253,0.22511942386627198)'>_Frontier</span><span style = 'color:rgba(253,10,253,0.2219283014535904)'>_is</span><span style = 'color:rgba(253,10,253,0.23669176995754243)'>_not</span><span style = 'color:rgba(253,10,253,0.2219283014535904)'>_at</span><span style = 'color:rgba(253,10,253,0.2219283014535904)'>_all</span><span style = 'color:rgba(253,10,253,0.22529752552509308)'>_that</span><span style = 'color:rgba(253,10,253,0.2586369693279267)'>_bad.</span><span style = 'color:rgba(253,10,253,0.2500511765480042)'>_But,</span><span style = 'color:rgba(253,10,253,0.26088638901710515)'>_reviewing</span><span style = 'color:rgba(253,10,253,0.23687524497509005)'>_this</span><span style = 'color:rgba(253,10,253,0.22848820984363558)'>_series</span>"
      ],
      "text/plain": [
       "<IPython.core.display.HTML object>"
      ]
     },
     "metadata": {},
     "output_type": "display_data"
    },
    {
     "data": {
      "text/html": [
       "<span style = 'color:rgba(253,10,10,0.23676364421844484)'>_For</span><span style = 'color:rgba(253,10,10,0.23676364421844484)'>_a</span><span style = 'color:rgba(253,10,10,0.23676364421844484)'>_fan</span><span style = 'color:rgba(253,10,10,0.23676364421844484)'>_series,</span><span style = 'color:rgba(253,10,10,0.23676364421844484)'>_I</span><span style = 'color:rgba(253,10,10,0.23676364421844484)'>_must</span><span style = 'color:rgba(253,10,10,0.24809538125991823)'>_admit</span><span style = 'color:rgba(253,10,10,0.23676364421844484)'>_that</span><span style = 'color:rgba(253,10,10,0.23676364421844484)'>_Hidden</span><span style = 'color:rgba(253,10,10,0.23676364421844484)'>_Frontier</span><span style = 'color:rgba(253,10,10,0.23686638176441194)'>_is</span><span style = 'color:rgba(253,10,10,0.23676364421844484)'>_not</span><span style = 'color:rgba(253,10,10,0.2557023644447327)'>_at</span><span style = 'color:rgba(253,10,10,0.2711176097393036)'>_all</span><span style = 'color:rgba(253,10,10,0.23676364421844484)'>_that</span><span style = 'color:rgba(253,10,10,0.23676364421844484)'>_bad.</span><span style = 'color:rgba(253,10,10,0.23676364421844484)'>_But,</span><span style = 'color:rgba(253,10,10,0.23676364421844484)'>_reviewing</span><span style = 'color:rgba(253,10,10,0.23676364421844484)'>_this</span><span style = 'color:rgba(253,10,10,0.23676364421844484)'>_series</span>"
      ],
      "text/plain": [
       "<IPython.core.display.HTML object>"
      ]
     },
     "metadata": {},
     "output_type": "display_data"
    },
    {
     "name": "stdout",
     "output_type": "stream",
     "text": [
      "label:1.0\t guess:1.0\n"
     ]
    },
    {
     "data": {
      "text/html": [
       "<span style = 'color:rgba(253,10,253,0.22914059758186342)'>_I</span><span style = 'color:rgba(253,10,253,0.22914059758186342)'>_first</span><span style = 'color:rgba(253,10,253,0.24680893421173097)'>_saw</span><span style = 'color:rgba(253,10,253,0.23848070204257965)'>_this</span><span style = 'color:rgba(253,10,253,0.2462443709373474)'>_absolutely</span><span style = 'color:rgba(253,10,253,0.23001763820648194)'>_riveting</span><span style = 'color:rgba(253,10,253,0.22914059758186342)'>_documentary</span><span style = 'color:rgba(253,10,253,0.23817946910858157)'>_in</span><span style = 'color:rgba(253,10,253,0.2502206563949585)'>_it's</span><span style = 'color:rgba(253,10,253,0.22914059758186342)'>_initial</span><span style = 'color:rgba(253,10,253,0.31456995010375977)'>_release</span><span style = 'color:rgba(253,10,253,0.22914059758186342)'>_back</span><span style = 'color:rgba(253,10,253,0.23817946910858157)'>_in</span><span style = 'color:rgba(253,10,253,0.23001763820648194)'>_2001,and</span><span style = 'color:rgba(253,10,253,0.22914059758186342)'>_it</span><span style = 'color:rgba(253,10,253,0.22914059758186342)'>_really</span><span style = 'color:rgba(253,10,253,0.27139785289764407)'>_had</span><span style = 'color:rgba(253,10,253,0.2336179703474045)'>_a</span><span style = 'color:rgba(253,10,253,0.22914059758186342)'>_profound</span><span style = 'color:rgba(253,10,253,0.22914059758186342)'>_effect</span>"
      ],
      "text/plain": [
       "<IPython.core.display.HTML object>"
      ]
     },
     "metadata": {},
     "output_type": "display_data"
    },
    {
     "data": {
      "text/html": [
       "<span style = 'color:rgba(253,10,10,0.23805181086063387)'>_I</span><span style = 'color:rgba(253,10,10,0.2696202039718628)'>_first</span><span style = 'color:rgba(253,10,10,0.2285668969154358)'>_saw</span><span style = 'color:rgba(253,10,10,0.2285668969154358)'>_this</span><span style = 'color:rgba(253,10,10,0.2285668969154358)'>_absolutely</span><span style = 'color:rgba(253,10,10,0.2285668969154358)'>_riveting</span><span style = 'color:rgba(253,10,10,0.2552616834640503)'>_documentary</span><span style = 'color:rgba(253,10,10,0.2285668969154358)'>_in</span><span style = 'color:rgba(253,10,10,0.2285668969154358)'>_it's</span><span style = 'color:rgba(253,10,10,0.2290834724903107)'>_initial</span><span style = 'color:rgba(253,10,10,0.2285668969154358)'>_release</span><span style = 'color:rgba(253,10,10,0.24534927904605866)'>_back</span><span style = 'color:rgba(253,10,10,0.2285668969154358)'>_in</span><span style = 'color:rgba(253,10,10,0.2285668969154358)'>_2001,and</span><span style = 'color:rgba(253,10,10,0.24328307807445526)'>_it</span><span style = 'color:rgba(253,10,10,0.2637586057186127)'>_really</span><span style = 'color:rgba(253,10,10,0.2285668969154358)'>_had</span><span style = 'color:rgba(253,10,10,0.2285668969154358)'>_a</span><span style = 'color:rgba(253,10,10,0.27968543767929077)'>_profound</span><span style = 'color:rgba(253,10,10,0.2616705775260926)'>_effect</span>"
      ],
      "text/plain": [
       "<IPython.core.display.HTML object>"
      ]
     },
     "metadata": {},
     "output_type": "display_data"
    },
    {
     "name": "stdout",
     "output_type": "stream",
     "text": [
      "label:1.0\t guess:1.0\n"
     ]
    },
    {
     "data": {
      "text/html": [
       "<span style = 'color:rgba(253,10,253,0.2318419009447098)'>_My</span><span style = 'color:rgba(253,10,253,0.23280024230480195)'>_school's</span><span style = 'color:rgba(253,10,253,0.2318419009447098)'>_drama</span><span style = 'color:rgba(253,10,253,0.25446535348892213)'>_club</span><span style = 'color:rgba(253,10,253,0.2318419009447098)'>_will</span><span style = 'color:rgba(253,10,253,0.2373187154531479)'>_be</span><span style = 'color:rgba(253,10,253,0.2318419009447098)'>_putting</span><span style = 'color:rgba(253,10,253,0.24204782247543336)'>_this</span><span style = 'color:rgba(253,10,253,0.26718815565109255)'>_show</span><span style = 'color:rgba(253,10,253,0.24171866178512574)'>_in</span><span style = 'color:rgba(253,10,253,0.2318419009447098)'>_the</span><span style = 'color:rgba(253,10,253,0.23280024230480195)'>_spring</span><span style = 'color:rgba(253,10,253,0.2318419009447098)'>_of</span><span style = 'color:rgba(253,10,253,0.23280024230480195)'>_2002,</span><span style = 'color:rgba(253,10,253,0.2318419009447098)'>_and</span><span style = 'color:rgba(253,10,253,0.2318419009447098)'>_I</span><span style = 'color:rgba(253,10,253,0.2318419009447098)'>_can</span><span style = 'color:rgba(253,10,253,0.2318419009447098)'>_only</span><span style = 'color:rgba(253,10,253,0.3085996150970459)'>_hope</span><span style = 'color:rgba(253,10,253,0.2318419009447098)'>_we're</span>"
      ],
      "text/plain": [
       "<IPython.core.display.HTML object>"
      ]
     },
     "metadata": {},
     "output_type": "display_data"
    },
    {
     "data": {
      "text/html": [
       "<span style = 'color:rgba(253,10,10,0.2591700375080109)'>_My</span><span style = 'color:rgba(253,10,10,0.22765313982963564)'>_school's</span><span style = 'color:rgba(253,10,10,0.24651991426944733)'>_drama</span><span style = 'color:rgba(253,10,10,0.22765313982963564)'>_club</span><span style = 'color:rgba(253,10,10,0.25475840568542485)'>_will</span><span style = 'color:rgba(253,10,10,0.22765313982963564)'>_be</span><span style = 'color:rgba(253,10,10,0.25030123591423037)'>_putting</span><span style = 'color:rgba(253,10,10,0.22765313982963564)'>_this</span><span style = 'color:rgba(253,10,10,0.22765313982963564)'>_show</span><span style = 'color:rgba(253,10,10,0.22765313982963564)'>_in</span><span style = 'color:rgba(253,10,10,0.2337161958217621)'>_the</span><span style = 'color:rgba(253,10,10,0.22765313982963564)'>_spring</span><span style = 'color:rgba(253,10,10,0.2961564123630524)'>_of</span><span style = 'color:rgba(253,10,10,0.22765313982963564)'>_2002,</span><span style = 'color:rgba(253,10,10,0.2620069742202759)'>_and</span><span style = 'color:rgba(253,10,10,0.2368346691131592)'>_I</span><span style = 'color:rgba(253,10,10,0.2361767292022705)'>_can</span><span style = 'color:rgba(253,10,10,0.24286104142665865)'>_only</span><span style = 'color:rgba(253,10,10,0.22765313982963564)'>_hope</span><span style = 'color:rgba(253,10,10,0.2326201289892197)'>_we're</span>"
      ],
      "text/plain": [
       "<IPython.core.display.HTML object>"
      ]
     },
     "metadata": {},
     "output_type": "display_data"
    },
    {
     "name": "stdout",
     "output_type": "stream",
     "text": [
      "label:1.0\t guess:1.0\n"
     ]
    },
    {
     "data": {
      "text/html": [
       "<span style = 'color:rgba(253,10,253,0.2324811726808548)'>_I</span><span style = 'color:rgba(253,10,253,0.2324811726808548)'>_love</span><span style = 'color:rgba(253,10,253,0.24289199113845827)'>_this</span><span style = 'color:rgba(253,10,253,0.23345875442028047)'>_anime!</span><span style = 'color:rgba(253,10,253,0.2324811726808548)'>_I</span><span style = 'color:rgba(253,10,253,0.26509996056556706)'>_was</span><span style = 'color:rgba(253,10,253,0.2324811726808548)'>_laughing</span><span style = 'color:rgba(253,10,253,0.2324811726808548)'>_my</span><span style = 'color:rgba(253,10,253,0.26477588415145875)'>_head</span><span style = 'color:rgba(253,10,253,0.2324811726808548)'>_off</span><span style = 'color:rgba(253,10,253,0.2324811726808548)'>_with</span><span style = 'color:rgba(253,10,253,0.2610277593135834)'>_all</span><span style = 'color:rgba(253,10,253,0.2324811726808548)'>_of</span><span style = 'color:rgba(253,10,253,0.2324811726808548)'>_the</span><span style = 'color:rgba(253,10,253,0.23848196268081667)'>_jokes</span><span style = 'color:rgba(253,10,253,0.2324811726808548)'>_and</span><span style = 'color:rgba(253,10,253,0.2324811726808548)'>_the</span><span style = 'color:rgba(253,10,253,0.23399105966091158)'>_violence</span><span style = 'color:rgba(253,10,253,0.23345875442028047)'>_(mostly</span><span style = 'color:rgba(253,10,253,0.26952095627784733)'>_from</span>"
      ],
      "text/plain": [
       "<IPython.core.display.HTML object>"
      ]
     },
     "metadata": {},
     "output_type": "display_data"
    },
    {
     "data": {
      "text/html": [
       "<span style = 'color:rgba(253,10,10,0.23179190456867219)'>_I</span><span style = 'color:rgba(253,10,10,0.3556896328926087)'>_love</span><span style = 'color:rgba(253,10,10,0.22386735379695893)'>_this</span><span style = 'color:rgba(253,10,10,0.22386735379695893)'>_anime!</span><span style = 'color:rgba(253,10,10,0.23179190456867219)'>_I</span><span style = 'color:rgba(253,10,10,0.22386735379695893)'>_was</span><span style = 'color:rgba(253,10,10,0.24484137892723085)'>_laughing</span><span style = 'color:rgba(253,10,10,0.24470049142837524)'>_my</span><span style = 'color:rgba(253,10,10,0.22386735379695893)'>_head</span><span style = 'color:rgba(253,10,10,0.249190753698349)'>_off</span><span style = 'color:rgba(253,10,10,0.23247668147087097)'>_with</span><span style = 'color:rgba(253,10,10,0.22386735379695893)'>_all</span><span style = 'color:rgba(253,10,10,0.28299233317375183)'>_of</span><span style = 'color:rgba(253,10,10,0.22910035848617555)'>_the</span><span style = 'color:rgba(253,10,10,0.22386735379695893)'>_jokes</span><span style = 'color:rgba(253,10,10,0.2535180509090424)'>_and</span><span style = 'color:rgba(253,10,10,0.22910035848617555)'>_the</span><span style = 'color:rgba(253,10,10,0.22386735379695893)'>_violence</span><span style = 'color:rgba(253,10,10,0.22386735379695893)'>_(mostly</span><span style = 'color:rgba(253,10,10,0.22386735379695893)'>_from</span>"
      ],
      "text/plain": [
       "<IPython.core.display.HTML object>"
      ]
     },
     "metadata": {},
     "output_type": "display_data"
    },
    {
     "name": "stdout",
     "output_type": "stream",
     "text": [
      "label:0.0\t guess:0.0\n"
     ]
    },
    {
     "data": {
      "text/html": [
       "<span style = 'color:rgba(253,10,253,0.2404701977968216)'>_This</span><span style = 'color:rgba(253,10,253,0.23608939647674562)'>_is</span><span style = 'color:rgba(253,10,253,0.2371755748987198)'>_the</span><span style = 'color:rgba(253,10,253,0.2371755748987198)'>_type</span><span style = 'color:rgba(253,10,253,0.23608939647674562)'>_of</span><span style = 'color:rgba(253,10,253,0.2371755748987198)'>_movie</span><span style = 'color:rgba(253,10,253,0.2371755748987198)'>_where</span><span style = 'color:rgba(253,10,253,0.23608939647674562)'>_it</span><span style = 'color:rgba(253,10,253,0.2371755748987198)'>_actually</span><span style = 'color:rgba(253,10,253,0.2476567178964615)'>_hurts</span><span style = 'color:rgba(253,10,253,0.2371755748987198)'>_to</span><span style = 'color:rgba(253,10,253,0.23608939647674562)'>_acknowledge</span><span style = 'color:rgba(253,10,253,0.23608939647674562)'>_that</span><span style = 'color:rgba(253,10,253,0.2896638989448548)'>_it</span><span style = 'color:rgba(253,10,253,0.23608939647674562)'>_really,</span><span style = 'color:rgba(253,10,253,0.23608939647674562)'>_really</span><span style = 'color:rgba(253,10,253,0.2371755748987198)'>_sucks.</span><span style = 'color:rgba(253,10,253,0.23608939647674562)'>_I</span><span style = 'color:rgba(253,10,253,0.23608939647674562)'>_normally</span><span style = 'color:rgba(253,10,253,0.2371755748987198)'>_sanctify</span>"
      ],
      "text/plain": [
       "<IPython.core.display.HTML object>"
      ]
     },
     "metadata": {},
     "output_type": "display_data"
    },
    {
     "data": {
      "text/html": [
       "<span style = 'color:rgba(253,10,10,0.22780795991420746)'>_This</span><span style = 'color:rgba(253,10,10,0.2966947555541992)'>_is</span><span style = 'color:rgba(253,10,10,0.22780795991420746)'>_the</span><span style = 'color:rgba(253,10,10,0.22780795991420746)'>_type</span><span style = 'color:rgba(253,10,10,0.2439048528671265)'>_of</span><span style = 'color:rgba(253,10,10,0.22780795991420746)'>_movie</span><span style = 'color:rgba(253,10,10,0.22780795991420746)'>_where</span><span style = 'color:rgba(253,10,10,0.2431010037660599)'>_it</span><span style = 'color:rgba(253,10,10,0.22780795991420746)'>_actually</span><span style = 'color:rgba(253,10,10,0.22780795991420746)'>_hurts</span><span style = 'color:rgba(253,10,10,0.22780795991420746)'>_to</span><span style = 'color:rgba(253,10,10,0.2411881685256958)'>_acknowledge</span><span style = 'color:rgba(253,10,10,0.2549225270748139)'>_that</span><span style = 'color:rgba(253,10,10,0.22780795991420746)'>_it</span><span style = 'color:rgba(253,10,10,0.23390496075153352)'>_really,</span><span style = 'color:rgba(253,10,10,0.29265940785408023)'>_really</span><span style = 'color:rgba(253,10,10,0.22780795991420746)'>_sucks.</span><span style = 'color:rgba(253,10,10,0.23390496075153352)'>_I</span><span style = 'color:rgba(253,10,10,0.2538317859172821)'>_normally</span><span style = 'color:rgba(253,10,10,0.22780795991420746)'>_sanctify</span>"
      ],
      "text/plain": [
       "<IPython.core.display.HTML object>"
      ]
     },
     "metadata": {},
     "output_type": "display_data"
    },
    {
     "name": "stdout",
     "output_type": "stream",
     "text": [
      "label:1.0\t guess:1.0\n"
     ]
    },
    {
     "data": {
      "text/html": [
       "<span style = 'color:rgba(253,10,253,0.23286929726600647)'>_After</span><span style = 'color:rgba(253,10,253,0.2778044879436493)'>_all,</span><span style = 'color:rgba(253,10,253,0.2251357913017273)'>_you</span><span style = 'color:rgba(253,10,253,0.22989675402641296)'>_do</span><span style = 'color:rgba(253,10,253,0.23858398497104646)'>_not</span><span style = 'color:rgba(253,10,253,0.2346852868795395)'>_go</span><span style = 'color:rgba(253,10,253,0.22963529229164126)'>_to</span><span style = 'color:rgba(253,10,253,0.2251357913017273)'>_an</span><span style = 'color:rgba(253,10,253,0.2618642389774323)'>_Orson</span><span style = 'color:rgba(253,10,253,0.2251357913017273)'>_Welles</span><span style = 'color:rgba(253,10,253,0.2251357913017273)'>_movie</span><span style = 'color:rgba(253,10,253,0.22963529229164126)'>_to</span><span style = 'color:rgba(253,10,253,0.27363864183425907)'>_see</span><span style = 'color:rgba(253,10,253,0.22899783849716188)'>_a</span><span style = 'color:rgba(253,10,253,0.2251357913017273)'>_nice</span><span style = 'color:rgba(253,10,253,0.2251357913017273)'>_simple</span><span style = 'color:rgba(253,10,253,0.2974665224552155)'>_little</span><span style = 'color:rgba(253,10,253,0.2599739670753479)'>_plot</span><span style = 'color:rgba(253,10,253,0.2251357913017273)'>_and</span><span style = 'color:rgba(253,10,253,0.22899783849716188)'>_a</span>"
      ],
      "text/plain": [
       "<IPython.core.display.HTML object>"
      ]
     },
     "metadata": {},
     "output_type": "display_data"
    },
    {
     "data": {
      "text/html": [
       "<span style = 'color:rgba(253,10,10,0.23047598004341127)'>_After</span><span style = 'color:rgba(253,10,10,0.23047598004341127)'>_all,</span><span style = 'color:rgba(253,10,10,0.2579731285572052)'>_you</span><span style = 'color:rgba(253,10,10,0.23047598004341127)'>_do</span><span style = 'color:rgba(253,10,10,0.23047598004341127)'>_not</span><span style = 'color:rgba(253,10,10,0.23047598004341127)'>_go</span><span style = 'color:rgba(253,10,10,0.23047598004341127)'>_to</span><span style = 'color:rgba(253,10,10,0.24456439316272738)'>_an</span><span style = 'color:rgba(253,10,10,0.23047598004341127)'>_Orson</span><span style = 'color:rgba(253,10,10,0.247268882393837)'>_Welles</span><span style = 'color:rgba(253,10,10,0.2501422703266144)'>_movie</span><span style = 'color:rgba(253,10,10,0.23047598004341127)'>_to</span><span style = 'color:rgba(253,10,10,0.23047598004341127)'>_see</span><span style = 'color:rgba(253,10,10,0.23047598004341127)'>_a</span><span style = 'color:rgba(253,10,10,0.25333908200263977)'>_nice</span><span style = 'color:rgba(253,10,10,0.2821878254413605)'>_simple</span><span style = 'color:rgba(253,10,10,0.23047598004341127)'>_little</span><span style = 'color:rgba(253,10,10,0.23047598004341127)'>_plot</span><span style = 'color:rgba(253,10,10,0.26833665966987613)'>_and</span><span style = 'color:rgba(253,10,10,0.23047598004341127)'>_a</span>"
      ],
      "text/plain": [
       "<IPython.core.display.HTML object>"
      ]
     },
     "metadata": {},
     "output_type": "display_data"
    },
    {
     "name": "stdout",
     "output_type": "stream",
     "text": [
      "label:0.0\t guess:0.0\n"
     ]
    },
    {
     "data": {
      "text/html": [
       "<span style = 'color:rgba(253,10,253,0.22869098484516145)'>_I</span><span style = 'color:rgba(253,10,253,0.26506556868553166)'>_rented</span><span style = 'color:rgba(253,10,253,0.23788697719573976)'>_this</span><span style = 'color:rgba(253,10,253,0.22869098484516145)'>_movie</span><span style = 'color:rgba(253,10,253,0.22869098484516145)'>_because</span><span style = 'color:rgba(253,10,253,0.22869098484516145)'>_I</span><span style = 'color:rgba(253,10,253,0.25750352740287785)'>_was</span><span style = 'color:rgba(253,10,253,0.22955449223518373)'>_browsing</span><span style = 'color:rgba(253,10,253,0.22869098484516145)'>_through</span><span style = 'color:rgba(253,10,253,0.22869098484516145)'>_the</span><span style = 'color:rgba(253,10,253,0.23671942353248598)'>_horror</span><span style = 'color:rgba(253,10,253,0.22869098484516145)'>_movie</span><span style = 'color:rgba(253,10,253,0.2528550922870636)'>_section</span><span style = 'color:rgba(253,10,253,0.23650885224342347)'>_for</span><span style = 'color:rgba(253,10,253,0.22869098484516145)'>_those</span><span style = 'color:rgba(253,10,253,0.22869098484516145)'>_movies</span><span style = 'color:rgba(253,10,253,0.23633772730827332)'>_that</span><span style = 'color:rgba(253,10,253,0.3319674849510193)'>_no</span><span style = 'color:rgba(253,10,253,0.22869098484516145)'>_one's</span><span style = 'color:rgba(253,10,253,0.22869098484516145)'>_heard</span>"
      ],
      "text/plain": [
       "<IPython.core.display.HTML object>"
      ]
     },
     "metadata": {},
     "output_type": "display_data"
    },
    {
     "data": {
      "text/html": [
       "<span style = 'color:rgba(253,10,10,0.24169779717922213)'>_I</span><span style = 'color:rgba(253,10,10,0.23130407333374026)'>_rented</span><span style = 'color:rgba(253,10,10,0.23130407333374026)'>_this</span><span style = 'color:rgba(253,10,10,0.2515047311782837)'>_movie</span><span style = 'color:rgba(253,10,10,0.23881798088550568)'>_because</span><span style = 'color:rgba(253,10,10,0.24169779717922213)'>_I</span><span style = 'color:rgba(253,10,10,0.23130407333374026)'>_was</span><span style = 'color:rgba(253,10,10,0.23130407333374026)'>_browsing</span><span style = 'color:rgba(253,10,10,0.2419208198785782)'>_through</span><span style = 'color:rgba(253,10,10,0.23816760778427126)'>_the</span><span style = 'color:rgba(253,10,10,0.23130407333374026)'>_horror</span><span style = 'color:rgba(253,10,10,0.2515047311782837)'>_movie</span><span style = 'color:rgba(253,10,10,0.23130407333374026)'>_section</span><span style = 'color:rgba(253,10,10,0.23130407333374026)'>_for</span><span style = 'color:rgba(253,10,10,0.23647159636020662)'>_those</span><span style = 'color:rgba(253,10,10,0.25171494483947754)'>_movies</span><span style = 'color:rgba(253,10,10,0.23130407333374026)'>_that</span><span style = 'color:rgba(253,10,10,0.23130407333374026)'>_no</span><span style = 'color:rgba(253,10,10,0.2557944476604462)'>_one's</span><span style = 'color:rgba(253,10,10,0.26897089481353764)'>_heard</span>"
      ],
      "text/plain": [
       "<IPython.core.display.HTML object>"
      ]
     },
     "metadata": {},
     "output_type": "display_data"
    },
    {
     "name": "stdout",
     "output_type": "stream",
     "text": [
      "label:1.0\t guess:1.0\n"
     ]
    },
    {
     "data": {
      "text/html": [
       "<span style = 'color:rgba(253,10,253,0.23822252154350282)'>_Sydney</span><span style = 'color:rgba(253,10,253,0.23822252154350282)'>_Lumet,</span><span style = 'color:rgba(253,10,253,0.23710575103759768)'>_although</span><span style = 'color:rgba(253,10,253,0.2379444867372513)'>_one</span><span style = 'color:rgba(253,10,253,0.23710575103759768)'>_of</span><span style = 'color:rgba(253,10,253,0.23710575103759768)'>_the</span><span style = 'color:rgba(253,10,253,0.23822252154350282)'>_oldest</span><span style = 'color:rgba(253,10,253,0.23822252154350282)'>_active</span><span style = 'color:rgba(253,10,253,0.23822252154350282)'>_directors,</span><span style = 'color:rgba(253,10,253,0.23710575103759768)'>_still</span><span style = 'color:rgba(253,10,253,0.2642241001129151)'>_got</span><span style = 'color:rgba(253,10,253,0.23822252154350282)'>_game!</span><span style = 'color:rgba(253,10,253,0.24641296565532686)'>_A</span><span style = 'color:rgba(253,10,253,0.24678832590579988)'>_few</span><span style = 'color:rgba(253,10,253,0.23710575103759768)'>_years</span><span style = 'color:rgba(253,10,253,0.23761294782161713)'>_ago</span><span style = 'color:rgba(253,10,253,0.23710575103759768)'>_he</span><span style = 'color:rgba(253,10,253,0.2397192418575287)'>_shot</span><span style = 'color:rgba(253,10,253,0.23822252154350282)'>_\"Find</span><span style = 'color:rgba(253,10,253,0.23710575103759768)'>_me</span>"
      ],
      "text/plain": [
       "<IPython.core.display.HTML object>"
      ]
     },
     "metadata": {},
     "output_type": "display_data"
    },
    {
     "data": {
      "text/html": [
       "<span style = 'color:rgba(253,10,10,0.23011080026626587)'>_Sydney</span><span style = 'color:rgba(253,10,10,0.23011080026626587)'>_Lumet,</span><span style = 'color:rgba(253,10,10,0.2560883104801178)'>_although</span><span style = 'color:rgba(253,10,10,0.23011080026626587)'>_one</span><span style = 'color:rgba(253,10,10,0.3047022700309754)'>_of</span><span style = 'color:rgba(253,10,10,0.2367127060890198)'>_the</span><span style = 'color:rgba(253,10,10,0.23011080026626587)'>_oldest</span><span style = 'color:rgba(253,10,10,0.23011080026626587)'>_active</span><span style = 'color:rgba(253,10,10,0.23011080026626587)'>_directors,</span><span style = 'color:rgba(253,10,10,0.2694093883037567)'>_still</span><span style = 'color:rgba(253,10,10,0.23011080026626587)'>_got</span><span style = 'color:rgba(253,10,10,0.23011080026626587)'>_game!</span><span style = 'color:rgba(253,10,10,0.23011080026626587)'>_A</span><span style = 'color:rgba(253,10,10,0.23011080026626587)'>_few</span><span style = 'color:rgba(253,10,10,0.25613815784454347)'>_years</span><span style = 'color:rgba(253,10,10,0.23011080026626587)'>_ago</span><span style = 'color:rgba(253,10,10,0.24750442802906036)'>_he</span><span style = 'color:rgba(253,10,10,0.23011080026626587)'>_shot</span><span style = 'color:rgba(253,10,10,0.23011080026626587)'>_\"Find</span><span style = 'color:rgba(253,10,10,0.2380043536424637)'>_me</span>"
      ],
      "text/plain": [
       "<IPython.core.display.HTML object>"
      ]
     },
     "metadata": {},
     "output_type": "display_data"
    },
    {
     "name": "stdout",
     "output_type": "stream",
     "text": [
      "label:1.0\t guess:1.0\n"
     ]
    },
    {
     "data": {
      "text/html": [
       "<span style = 'color:rgba(253,10,253,0.2350835740566254)'>_It</span><span style = 'color:rgba(253,10,253,0.24207041263580323)'>_surprises</span><span style = 'color:rgba(253,10,253,0.26621719598770144)'>_me</span><span style = 'color:rgba(253,10,253,0.2328505724668503)'>_that</span><span style = 'color:rgba(253,10,253,0.2328505724668503)'>_I</span><span style = 'color:rgba(253,10,253,0.23189075887203217)'>_actually</span><span style = 'color:rgba(253,10,253,0.23189075887203217)'>_got</span><span style = 'color:rgba(253,10,253,0.26391662955284123)'>_the</span><span style = 'color:rgba(253,10,253,0.23189075887203217)'>_courage</span><span style = 'color:rgba(253,10,253,0.23189075887203217)'>_to</span><span style = 'color:rgba(253,10,253,0.2679929554462433)'>_watch</span><span style = 'color:rgba(253,10,253,0.23189075887203217)'>_the</span><span style = 'color:rgba(253,10,253,0.23189075887203217)'>_bio</span><span style = 'color:rgba(253,10,253,0.2328505724668503)'>_flick</span><span style = 'color:rgba(253,10,253,0.2328505724668503)'>_or</span><span style = 'color:rgba(253,10,253,0.24178267419338229)'>_flicks</span><span style = 'color:rgba(253,10,253,0.2328505724668503)'>_\"Che:</span><span style = 'color:rgba(253,10,253,0.2328505724668503)'>_Parts</span><span style = 'color:rgba(253,10,253,0.24553553760051727)'>_1</span><span style = 'color:rgba(253,10,253,0.24895300567150117)'>_&</span>"
      ],
      "text/plain": [
       "<IPython.core.display.HTML object>"
      ]
     },
     "metadata": {},
     "output_type": "display_data"
    },
    {
     "data": {
      "text/html": [
       "<span style = 'color:rgba(253,10,10,0.23441486656665803)'>_It</span><span style = 'color:rgba(253,10,10,0.23441486656665803)'>_surprises</span><span style = 'color:rgba(253,10,10,0.23441486656665803)'>_me</span><span style = 'color:rgba(253,10,10,0.23441486656665803)'>_that</span><span style = 'color:rgba(253,10,10,0.23441486656665803)'>_I</span><span style = 'color:rgba(253,10,10,0.2608356475830078)'>_actually</span><span style = 'color:rgba(253,10,10,0.254294753074646)'>_got</span><span style = 'color:rgba(253,10,10,0.23441486656665803)'>_the</span><span style = 'color:rgba(253,10,10,0.246575203537941)'>_courage</span><span style = 'color:rgba(253,10,10,0.2771688759326935)'>_to</span><span style = 'color:rgba(253,10,10,0.23441486656665803)'>_watch</span><span style = 'color:rgba(253,10,10,0.2373568892478943)'>_the</span><span style = 'color:rgba(253,10,10,0.24196045696735383)'>_bio</span><span style = 'color:rgba(253,10,10,0.23441486656665803)'>_flick</span><span style = 'color:rgba(253,10,10,0.23441486656665803)'>_or</span><span style = 'color:rgba(253,10,10,0.23441486656665803)'>_flicks</span><span style = 'color:rgba(253,10,10,0.23441486656665803)'>_\"Che:</span><span style = 'color:rgba(253,10,10,0.23441486656665803)'>_Parts</span><span style = 'color:rgba(253,10,10,0.23441486656665803)'>_1</span><span style = 'color:rgba(253,10,10,0.23441486656665803)'>_&</span>"
      ],
      "text/plain": [
       "<IPython.core.display.HTML object>"
      ]
     },
     "metadata": {},
     "output_type": "display_data"
    },
    {
     "name": "stdout",
     "output_type": "stream",
     "text": [
      "label:0.0\t guess:0.0\n"
     ]
    },
    {
     "data": {
      "text/html": [
       "<span style = 'color:rgba(253,10,253,0.21977502554655076)'>_This</span><span style = 'color:rgba(253,10,253,0.21977502554655076)'>_has</span><span style = 'color:rgba(253,10,253,0.23422739803791048)'>_got</span><span style = 'color:rgba(253,10,253,0.2233149066567421)'>_to</span><span style = 'color:rgba(253,10,253,0.22317633479833604)'>_be</span><span style = 'color:rgba(253,10,253,0.22022201865911484)'>_one</span><span style = 'color:rgba(253,10,253,0.21977502554655076)'>_of</span><span style = 'color:rgba(253,10,253,0.21977502554655076)'>_the</span><span style = 'color:rgba(253,10,253,0.5412541627883911)'>_worst</span><span style = 'color:rgba(253,10,253,0.21977502554655076)'>_movies</span><span style = 'color:rgba(253,10,253,0.21977502554655076)'>_I've</span><span style = 'color:rgba(253,10,253,0.24507613480091095)'>_ever</span><span style = 'color:rgba(253,10,253,0.22037019282579423)'>_seen!</span><span style = 'color:rgba(253,10,253,0.23320934176445007)'>_There</span><span style = 'color:rgba(253,10,253,0.22724945843219757)'>_were</span><span style = 'color:rgba(253,10,253,0.2222809985280037)'>_people</span><span style = 'color:rgba(253,10,253,0.23104867041110994)'>_leaving</span><span style = 'color:rgba(253,10,253,0.21977502554655076)'>_the</span><span style = 'color:rgba(253,10,253,0.22037019282579423)'>_theatre,</span><span style = 'color:rgba(253,10,253,0.21977502554655076)'>_others</span>"
      ],
      "text/plain": [
       "<IPython.core.display.HTML object>"
      ]
     },
     "metadata": {},
     "output_type": "display_data"
    },
    {
     "data": {
      "text/html": [
       "<span style = 'color:rgba(253,10,10,0.23778667747974397)'>_This</span><span style = 'color:rgba(253,10,10,0.23988371193408967)'>_has</span><span style = 'color:rgba(253,10,10,0.23061970472335816)'>_got</span><span style = 'color:rgba(253,10,10,0.23061970472335816)'>_to</span><span style = 'color:rgba(253,10,10,0.23061970472335816)'>_be</span><span style = 'color:rgba(253,10,10,0.23061970472335816)'>_one</span><span style = 'color:rgba(253,10,10,0.306471848487854)'>_of</span><span style = 'color:rgba(253,10,10,0.2373331904411316)'>_the</span><span style = 'color:rgba(253,10,10,0.23061970472335816)'>_worst</span><span style = 'color:rgba(253,10,10,0.2505843579769135)'>_movies</span><span style = 'color:rgba(253,10,10,0.24119399785995485)'>_I've</span><span style = 'color:rgba(253,10,10,0.23061970472335816)'>_ever</span><span style = 'color:rgba(253,10,10,0.23061970472335816)'>_seen!</span><span style = 'color:rgba(253,10,10,0.23061970472335816)'>_There</span><span style = 'color:rgba(253,10,10,0.23061970472335816)'>_were</span><span style = 'color:rgba(253,10,10,0.23061970472335816)'>_people</span><span style = 'color:rgba(253,10,10,0.23061970472335816)'>_leaving</span><span style = 'color:rgba(253,10,10,0.2373331904411316)'>_the</span><span style = 'color:rgba(253,10,10,0.23061970472335816)'>_theatre,</span><span style = 'color:rgba(253,10,10,0.2819765508174896)'>_others</span>"
      ],
      "text/plain": [
       "<IPython.core.display.HTML object>"
      ]
     },
     "metadata": {},
     "output_type": "display_data"
    },
    {
     "name": "stdout",
     "output_type": "stream",
     "text": [
      "label:0.0\t guess:0.0\n"
     ]
    },
    {
     "data": {
      "text/html": [
       "<span style = 'color:rgba(253,10,253,0.23404968082904817)'>_There's</span><span style = 'color:rgba(253,10,253,0.2522670030593872)'>_not</span><span style = 'color:rgba(253,10,253,0.2385062277317047)'>_much</span><span style = 'color:rgba(253,10,253,0.24014483690261842)'>_to</span><span style = 'color:rgba(253,10,253,0.23404968082904817)'>_say</span><span style = 'color:rgba(253,10,253,0.24828743338584902)'>_about</span><span style = 'color:rgba(253,10,253,0.24496324062347413)'>_this</span><span style = 'color:rgba(253,10,253,0.27464718222618106)'>_one.</span><span style = 'color:rgba(253,10,253,0.23507447242736818)'>_Gammera</span><span style = 'color:rgba(253,10,253,0.23404968082904817)'>_is</span><span style = 'color:rgba(253,10,253,0.23404968082904817)'>_some</span><span style = 'color:rgba(253,10,253,0.2544390201568604)'>_kind</span><span style = 'color:rgba(253,10,253,0.23404968082904817)'>_of</span><span style = 'color:rgba(253,10,253,0.23404968082904817)'>_fire</span><span style = 'color:rgba(253,10,253,0.23507447242736818)'>_breathing</span><span style = 'color:rgba(253,10,253,0.23507447242736818)'>_turtle.</span><span style = 'color:rgba(253,10,253,0.23404968082904817)'>_He</span><span style = 'color:rgba(253,10,253,0.23404968082904817)'>_is</span><span style = 'color:rgba(253,10,253,0.23507447242736818)'>_loosed</span><span style = 'color:rgba(253,10,253,0.23404968082904817)'>_by</span>"
      ],
      "text/plain": [
       "<IPython.core.display.HTML object>"
      ]
     },
     "metadata": {},
     "output_type": "display_data"
    },
    {
     "data": {
      "text/html": [
       "<span style = 'color:rgba(253,10,10,0.23160147964954378)'>_There's</span><span style = 'color:rgba(253,10,10,0.22572059333324435)'>_not</span><span style = 'color:rgba(253,10,10,0.22572059333324435)'>_much</span><span style = 'color:rgba(253,10,10,0.22572059333324435)'>_to</span><span style = 'color:rgba(253,10,10,0.23479395508766177)'>_say</span><span style = 'color:rgba(253,10,10,0.22572059333324435)'>_about</span><span style = 'color:rgba(253,10,10,0.22572059333324435)'>_this</span><span style = 'color:rgba(253,10,10,0.22572059333324435)'>_one.</span><span style = 'color:rgba(253,10,10,0.22572059333324435)'>_Gammera</span><span style = 'color:rgba(253,10,10,0.24975533187389376)'>_is</span><span style = 'color:rgba(253,10,10,0.23682979047298433)'>_some</span><span style = 'color:rgba(253,10,10,0.22572059333324435)'>_kind</span><span style = 'color:rgba(253,10,10,0.28943650126457215)'>_of</span><span style = 'color:rgba(253,10,10,0.36280320882797246)'>_fire</span><span style = 'color:rgba(253,10,10,0.22572059333324435)'>_breathing</span><span style = 'color:rgba(253,10,10,0.22572059333324435)'>_turtle.</span><span style = 'color:rgba(253,10,10,0.2341785103082657)'>_He</span><span style = 'color:rgba(253,10,10,0.24975533187389376)'>_is</span><span style = 'color:rgba(253,10,10,0.22572059333324435)'>_loosed</span><span style = 'color:rgba(253,10,10,0.22791936993598938)'>_by</span>"
      ],
      "text/plain": [
       "<IPython.core.display.HTML object>"
      ]
     },
     "metadata": {},
     "output_type": "display_data"
    },
    {
     "name": "stdout",
     "output_type": "stream",
     "text": [
      "label:1.0\t guess:1.0\n"
     ]
    },
    {
     "data": {
      "text/html": [
       "<span style = 'color:rgba(253,10,253,0.23942459225654603)'>_Police</span><span style = 'color:rgba(253,10,253,0.23942459225654603)'>_Story</span><span style = 'color:rgba(253,10,253,0.23942459225654603)'>_is</span><span style = 'color:rgba(253,10,253,0.24061115086078644)'>_arguably</span><span style = 'color:rgba(253,10,253,0.24031574428081515)'>_one</span><span style = 'color:rgba(253,10,253,0.23942459225654603)'>_of</span><span style = 'color:rgba(253,10,253,0.23942459225654603)'>_the</span><span style = 'color:rgba(253,10,253,0.23942459225654603)'>_best</span><span style = 'color:rgba(253,10,253,0.23942459225654603)'>_works</span><span style = 'color:rgba(253,10,253,0.23942459225654603)'>_by</span><span style = 'color:rgba(253,10,253,0.23942459225654603)'>_the</span><span style = 'color:rgba(253,10,253,0.23942459225654603)'>_master</span><span style = 'color:rgba(253,10,253,0.23942459225654603)'>_of</span><span style = 'color:rgba(253,10,253,0.23942459225654603)'>_action</span><span style = 'color:rgba(253,10,253,0.24061115086078644)'>_himself.Compared</span><span style = 'color:rgba(253,10,253,0.24648189544677734)'>_to</span><span style = 'color:rgba(253,10,253,0.23942459225654603)'>_other</span><span style = 'color:rgba(253,10,253,0.23942459225654603)'>_action</span><span style = 'color:rgba(253,10,253,0.24061115086078644)'>_films,Police</span><span style = 'color:rgba(253,10,253,0.23942459225654603)'>_Story</span>"
      ],
      "text/plain": [
       "<IPython.core.display.HTML object>"
      ]
     },
     "metadata": {},
     "output_type": "display_data"
    },
    {
     "data": {
      "text/html": [
       "<span style = 'color:rgba(253,10,10,0.24379704594612123)'>_Police</span><span style = 'color:rgba(253,10,10,0.22404961436986925)'>_Story</span><span style = 'color:rgba(253,10,10,0.24071791470050813)'>_is</span><span style = 'color:rgba(253,10,10,0.2210487797856331)'>_arguably</span><span style = 'color:rgba(253,10,10,0.2210487797856331)'>_one</span><span style = 'color:rgba(253,10,10,0.2731915056705475)'>_of</span><span style = 'color:rgba(253,10,10,0.22566380202770234)'>_the</span><span style = 'color:rgba(253,10,10,0.3195704102516175)'>_best</span><span style = 'color:rgba(253,10,10,0.24693620800971985)'>_works</span><span style = 'color:rgba(253,10,10,0.22284817397594453)'>_by</span><span style = 'color:rgba(253,10,10,0.22566380202770234)'>_the</span><span style = 'color:rgba(253,10,10,0.22263374626636506)'>_master</span><span style = 'color:rgba(253,10,10,0.2731915056705475)'>_of</span><span style = 'color:rgba(253,10,10,0.2554350256919861)'>_action</span><span style = 'color:rgba(253,10,10,0.2210487797856331)'>_himself.Compared</span><span style = 'color:rgba(253,10,10,0.2210487797856331)'>_to</span><span style = 'color:rgba(253,10,10,0.241572704911232)'>_other</span><span style = 'color:rgba(253,10,10,0.2554350256919861)'>_action</span><span style = 'color:rgba(253,10,10,0.2210487797856331)'>_films,Police</span><span style = 'color:rgba(253,10,10,0.22404961436986925)'>_Story</span>"
      ],
      "text/plain": [
       "<IPython.core.display.HTML object>"
      ]
     },
     "metadata": {},
     "output_type": "display_data"
    },
    {
     "name": "stdout",
     "output_type": "stream",
     "text": [
      "label:1.0\t guess:1.0\n"
     ]
    },
    {
     "data": {
      "text/html": [
       "<span style = 'color:rgba(253,10,253,0.2356114685535431)'>_Never</span><span style = 'color:rgba(253,10,253,0.2295478343963623)'>_when</span><span style = 'color:rgba(253,10,253,0.2295478343963623)'>_I</span><span style = 'color:rgba(253,10,253,0.2592208564281464)'>_was</span><span style = 'color:rgba(253,10,253,0.23408777713775636)'>_a</span><span style = 'color:rgba(253,10,253,0.2420880436897278)'>_child</span><span style = 'color:rgba(253,10,253,0.23392485678195954)'>_did</span><span style = 'color:rgba(253,10,253,0.2295478343963623)'>_I</span><span style = 'color:rgba(253,10,253,0.2295478343963623)'>_love</span><span style = 'color:rgba(253,10,253,0.2295478343963623)'>_any</span><span style = 'color:rgba(253,10,253,0.2295478343963623)'>_movie</span><span style = 'color:rgba(253,10,253,0.2295478343963623)'>_more</span><span style = 'color:rgba(253,10,253,0.2704816341400147)'>_then</span><span style = 'color:rgba(253,10,253,0.23901846408843996)'>_this</span><span style = 'color:rgba(253,10,253,0.26477777361869814)'>_one.</span><span style = 'color:rgba(253,10,253,0.2295478343963623)'>_I</span><span style = 'color:rgba(253,10,253,0.25575532317161564)'>_would</span><span style = 'color:rgba(253,10,253,0.2295478343963623)'>_love</span><span style = 'color:rgba(253,10,253,0.23483712375164034)'>_to</span><span style = 'color:rgba(253,10,253,0.26426613330841064)'>_own</span>"
      ],
      "text/plain": [
       "<IPython.core.display.HTML object>"
      ]
     },
     "metadata": {},
     "output_type": "display_data"
    },
    {
     "data": {
      "text/html": [
       "<span style = 'color:rgba(253,10,10,0.22215889245271683)'>_Never</span><span style = 'color:rgba(253,10,10,0.2391705870628357)'>_when</span><span style = 'color:rgba(253,10,10,0.2295161932706833)'>_I</span><span style = 'color:rgba(253,10,10,0.22215889245271683)'>_was</span><span style = 'color:rgba(253,10,10,0.22215889245271683)'>_a</span><span style = 'color:rgba(253,10,10,0.22215889245271683)'>_child</span><span style = 'color:rgba(253,10,10,0.22215889245271683)'>_did</span><span style = 'color:rgba(253,10,10,0.2295161932706833)'>_I</span><span style = 'color:rgba(253,10,10,0.3445451378822327)'>_love</span><span style = 'color:rgba(253,10,10,0.24969023764133455)'>_any</span><span style = 'color:rgba(253,10,10,0.2364581286907196)'>_movie</span><span style = 'color:rgba(253,10,10,0.2532943665981293)'>_more</span><span style = 'color:rgba(253,10,10,0.22215889245271683)'>_then</span><span style = 'color:rgba(253,10,10,0.22215889245271683)'>_this</span><span style = 'color:rgba(253,10,10,0.22215889245271683)'>_one.</span><span style = 'color:rgba(253,10,10,0.2295161932706833)'>_I</span><span style = 'color:rgba(253,10,10,0.22215889245271683)'>_would</span><span style = 'color:rgba(253,10,10,0.3445451378822327)'>_love</span><span style = 'color:rgba(253,10,10,0.22215889245271683)'>_to</span><span style = 'color:rgba(253,10,10,0.22215889245271683)'>_own</span>"
      ],
      "text/plain": [
       "<IPython.core.display.HTML object>"
      ]
     },
     "metadata": {},
     "output_type": "display_data"
    },
    {
     "name": "stdout",
     "output_type": "stream",
     "text": [
      "label:0.0\t guess:0.0\n"
     ]
    },
    {
     "data": {
      "text/html": [
       "<span style = 'color:rgba(253,10,253,0.23630808293819427)'>_Roommates</span><span style = 'color:rgba(253,10,253,0.23630808293819427)'>_Sugar</span><span style = 'color:rgba(253,10,253,0.2352472484111786)'>_and</span><span style = 'color:rgba(253,10,253,0.24179336726665498)'>_Bobby</span><span style = 'color:rgba(253,10,253,0.2352472484111786)'>_Lee</span><span style = 'color:rgba(253,10,253,0.23851571083068848)'>_are</span><span style = 'color:rgba(253,10,253,0.23630808293819427)'>_abducted</span><span style = 'color:rgba(253,10,253,0.2352472484111786)'>_by</span><span style = 'color:rgba(253,10,253,0.25631603598594666)'>_menacing</span><span style = 'color:rgba(253,10,253,0.23630808293819427)'>_dudes</span><span style = 'color:rgba(253,10,253,0.2352472484111786)'>_while</span><span style = 'color:rgba(253,10,253,0.23826276659965517)'>_out</span><span style = 'color:rgba(253,10,253,0.23630808293819427)'>_shopping</span><span style = 'color:rgba(253,10,253,0.23604397773742677)'>_one</span><span style = 'color:rgba(253,10,253,0.27857730984687806)'>_day</span><span style = 'color:rgba(253,10,253,0.2352472484111786)'>_and</span><span style = 'color:rgba(253,10,253,0.2352472484111786)'>_taken</span><span style = 'color:rgba(253,10,253,0.2352472484111786)'>_back</span><span style = 'color:rgba(253,10,253,0.241556778550148)'>_to</span><span style = 'color:rgba(253,10,253,0.24066289067268373)'>_a</span>"
      ],
      "text/plain": [
       "<IPython.core.display.HTML object>"
      ]
     },
     "metadata": {},
     "output_type": "display_data"
    },
    {
     "data": {
      "text/html": [
       "<span style = 'color:rgba(253,10,10,0.2308719336986542)'>_Roommates</span><span style = 'color:rgba(253,10,10,0.2308719336986542)'>_Sugar</span><span style = 'color:rgba(253,10,10,0.26922451257705693)'>_and</span><span style = 'color:rgba(253,10,10,0.2308719336986542)'>_Bobby</span><span style = 'color:rgba(253,10,10,0.2900881111621857)'>_Lee</span><span style = 'color:rgba(253,10,10,0.2308719336986542)'>_are</span><span style = 'color:rgba(253,10,10,0.2308719336986542)'>_abducted</span><span style = 'color:rgba(253,10,10,0.23351107835769655)'>_by</span><span style = 'color:rgba(253,10,10,0.2308719336986542)'>_menacing</span><span style = 'color:rgba(253,10,10,0.2308719336986542)'>_dudes</span><span style = 'color:rgba(253,10,10,0.24998932778835298)'>_while</span><span style = 'color:rgba(253,10,10,0.2308719336986542)'>_out</span><span style = 'color:rgba(253,10,10,0.2308719336986542)'>_shopping</span><span style = 'color:rgba(253,10,10,0.2308719336986542)'>_one</span><span style = 'color:rgba(253,10,10,0.2308719336986542)'>_day</span><span style = 'color:rgba(253,10,10,0.26922451257705693)'>_and</span><span style = 'color:rgba(253,10,10,0.23761885166168215)'>_taken</span><span style = 'color:rgba(253,10,10,0.24900847077369692)'>_back</span><span style = 'color:rgba(253,10,10,0.2308719336986542)'>_to</span><span style = 'color:rgba(253,10,10,0.2308719336986542)'>_a</span>"
      ],
      "text/plain": [
       "<IPython.core.display.HTML object>"
      ]
     },
     "metadata": {},
     "output_type": "display_data"
    },
    {
     "name": "stdout",
     "output_type": "stream",
     "text": [
      "label:1.0\t guess:1.0\n"
     ]
    },
    {
     "data": {
      "text/html": [
       "<span style = 'color:rgba(253,10,253,0.22971991598606112)'>_I</span><span style = 'color:rgba(253,10,253,0.22971991598606112)'>_am</span><span style = 'color:rgba(253,10,253,0.22971991598606112)'>_going</span><span style = 'color:rgba(253,10,253,0.23504000902175903)'>_to</span><span style = 'color:rgba(253,10,253,0.24101099371910095)'>_go</span><span style = 'color:rgba(253,10,253,0.23226255178451538)'>_out</span><span style = 'color:rgba(253,10,253,0.22971991598606112)'>_on</span><span style = 'color:rgba(253,10,253,0.23428630232810976)'>_a</span><span style = 'color:rgba(253,10,253,0.23061439096927644)'>_limb,</span><span style = 'color:rgba(253,10,253,0.22971991598606112)'>_and</span><span style = 'color:rgba(253,10,253,0.22971991598606112)'>_actually</span><span style = 'color:rgba(253,10,253,0.4034571409225464)'>_defend</span><span style = 'color:rgba(253,10,253,0.23061439096927644)'>_\"Shades</span><span style = 'color:rgba(253,10,253,0.22971991598606112)'>_of</span><span style = 'color:rgba(253,10,253,0.23061439096927644)'>_Grey\"</span><span style = 'color:rgba(253,10,253,0.22971991598606112)'>_as</span><span style = 'color:rgba(253,10,253,0.23428630232810976)'>_a</span><span style = 'color:rgba(253,10,253,0.22971991598606112)'>_good</span><span style = 'color:rgba(253,10,253,0.23061439096927644)'>_clip-show</span><span style = 'color:rgba(253,10,253,0.22971991598606112)'>_episode,</span>"
      ],
      "text/plain": [
       "<IPython.core.display.HTML object>"
      ]
     },
     "metadata": {},
     "output_type": "display_data"
    },
    {
     "data": {
      "text/html": [
       "<span style = 'color:rgba(253,10,10,0.2381144851446152)'>_I</span><span style = 'color:rgba(253,10,10,0.24395612776279452)'>_am</span><span style = 'color:rgba(253,10,10,0.23540118634700777)'>_going</span><span style = 'color:rgba(253,10,10,0.22861394584178926)'>_to</span><span style = 'color:rgba(253,10,10,0.22861394584178926)'>_go</span><span style = 'color:rgba(253,10,10,0.22861394584178926)'>_out</span><span style = 'color:rgba(253,10,10,0.22869391143321993)'>_on</span><span style = 'color:rgba(253,10,10,0.22861394584178926)'>_a</span><span style = 'color:rgba(253,10,10,0.22861394584178926)'>_limb,</span><span style = 'color:rgba(253,10,10,0.26416140198707583)'>_and</span><span style = 'color:rgba(253,10,10,0.23169834017753602)'>_actually</span><span style = 'color:rgba(253,10,10,0.22861394584178926)'>_defend</span><span style = 'color:rgba(253,10,10,0.22861394584178926)'>_\"Shades</span><span style = 'color:rgba(253,10,10,0.29949735999107363)'>_of</span><span style = 'color:rgba(253,10,10,0.22861394584178926)'>_Grey\"</span><span style = 'color:rgba(253,10,10,0.25749627947807313)'>_as</span><span style = 'color:rgba(253,10,10,0.22861394584178926)'>_a</span><span style = 'color:rgba(253,10,10,0.2648734271526337)'>_good</span><span style = 'color:rgba(253,10,10,0.22861394584178926)'>_clip-show</span><span style = 'color:rgba(253,10,10,0.24996799528598787)'>_episode,</span>"
      ],
      "text/plain": [
       "<IPython.core.display.HTML object>"
      ]
     },
     "metadata": {},
     "output_type": "display_data"
    },
    {
     "name": "stdout",
     "output_type": "stream",
     "text": [
      "label:0.0\t guess:0.0\n"
     ]
    },
    {
     "data": {
      "text/html": [
       "<span style = 'color:rgba(253,10,253,0.29101001620292666)'>_This</span><span style = 'color:rgba(253,10,253,0.23328877091407776)'>_movie</span><span style = 'color:rgba(253,10,253,0.23328877091407776)'>_could</span><span style = 'color:rgba(253,10,253,0.23328877091407776)'>_had</span><span style = 'color:rgba(253,10,253,0.23429065942764282)'>_been</span><span style = 'color:rgba(253,10,253,0.23328877091407776)'>_an</span><span style = 'color:rgba(253,10,253,0.23328877091407776)'>_interesting</span><span style = 'color:rgba(253,10,253,0.23429065942764282)'>_character</span><span style = 'color:rgba(253,10,253,0.23328877091407776)'>_study</span><span style = 'color:rgba(253,10,253,0.23328877091407776)'>_and</span><span style = 'color:rgba(253,10,253,0.24712551534175875)'>_could</span><span style = 'color:rgba(253,10,253,0.2439584404230118)'>_had</span><span style = 'color:rgba(253,10,253,0.23328877091407776)'>_given</span><span style = 'color:rgba(253,10,253,0.23328877091407776)'>_some</span><span style = 'color:rgba(253,10,253,0.24235946536064149)'>_insight</span><span style = 'color:rgba(253,10,253,0.23328877091407776)'>_on</span><span style = 'color:rgba(253,10,253,0.23328877091407776)'>_its</span><span style = 'color:rgba(253,10,253,0.2742112398147583)'>_subject</span><span style = 'color:rgba(253,10,253,0.23328877091407776)'>_but</span><span style = 'color:rgba(253,10,253,0.23328877091407776)'>_real</span>"
      ],
      "text/plain": [
       "<IPython.core.display.HTML object>"
      ]
     },
     "metadata": {},
     "output_type": "display_data"
    },
    {
     "data": {
      "text/html": [
       "<span style = 'color:rgba(253,10,10,0.22418239563703538)'>_This</span><span style = 'color:rgba(253,10,10,0.22948447763919833)'>_movie</span><span style = 'color:rgba(253,10,10,0.3238365530967713)'>_could</span><span style = 'color:rgba(253,10,10,0.2840878188610077)'>_had</span><span style = 'color:rgba(253,10,10,0.22418239563703538)'>_been</span><span style = 'color:rgba(253,10,10,0.22747213542461397)'>_an</span><span style = 'color:rgba(253,10,10,0.24624753296375276)'>_interesting</span><span style = 'color:rgba(253,10,10,0.22418239563703538)'>_character</span><span style = 'color:rgba(253,10,10,0.2542244791984558)'>_study</span><span style = 'color:rgba(253,10,10,0.22948447763919833)'>_and</span><span style = 'color:rgba(253,10,10,0.22418239563703538)'>_could</span><span style = 'color:rgba(253,10,10,0.22418239563703538)'>_had</span><span style = 'color:rgba(253,10,10,0.24677975475788116)'>_given</span><span style = 'color:rgba(253,10,10,0.2400512307882309)'>_some</span><span style = 'color:rgba(253,10,10,0.22418239563703538)'>_insight</span><span style = 'color:rgba(253,10,10,0.22893408834934237)'>_on</span><span style = 'color:rgba(253,10,10,0.23497024178504944)'>_its</span><span style = 'color:rgba(253,10,10,0.22418239563703538)'>_subject</span><span style = 'color:rgba(253,10,10,0.23054119646549226)'>_but</span><span style = 'color:rgba(253,10,10,0.25460923314094547)'>_real</span>"
      ],
      "text/plain": [
       "<IPython.core.display.HTML object>"
      ]
     },
     "metadata": {},
     "output_type": "display_data"
    },
    {
     "name": "stdout",
     "output_type": "stream",
     "text": [
      "label:0.0\t guess:0.0\n"
     ]
    },
    {
     "data": {
      "text/html": [
       "<span style = 'color:rgba(253,10,253,0.23535860776901246)'>_It</span><span style = 'color:rgba(253,10,253,0.23535860776901246)'>_is</span><span style = 'color:rgba(253,10,253,0.2571982920169831)'>_considered</span><span style = 'color:rgba(253,10,253,0.2489288777112961)'>_fashion</span><span style = 'color:rgba(253,10,253,0.24168806672096255)'>_to</span><span style = 'color:rgba(253,10,253,0.23535860776901246)'>_highlight</span><span style = 'color:rgba(253,10,253,0.23535860776901246)'>_every</span><span style = 'color:rgba(253,10,253,0.23535860776901246)'>_social</span><span style = 'color:rgba(253,10,253,0.23535860776901246)'>_evil</span><span style = 'color:rgba(253,10,253,0.23535860776901246)'>_as</span><span style = 'color:rgba(253,10,253,0.24079135954380038)'>_a</span><span style = 'color:rgba(253,10,253,0.23535860776901246)'>_result</span><span style = 'color:rgba(253,10,253,0.23535860776901246)'>_of</span><span style = 'color:rgba(253,10,253,0.23642279207706451)'>_patriarchy</span><span style = 'color:rgba(253,10,253,0.23535860776901246)'>_and</span><span style = 'color:rgba(253,10,253,0.23535860776901246)'>_male</span><span style = 'color:rgba(253,10,253,0.23642279207706451)'>_dominance,</span><span style = 'color:rgba(253,10,253,0.2664886593818665)'>_however</span><span style = 'color:rgba(253,10,253,0.23642279207706451)'>_moronic</span><span style = 'color:rgba(253,10,253,0.24669169783592226)'>_this</span>"
      ],
      "text/plain": [
       "<IPython.core.display.HTML object>"
      ]
     },
     "metadata": {},
     "output_type": "display_data"
    },
    {
     "data": {
      "text/html": [
       "<span style = 'color:rgba(253,10,10,0.2334535360336304)'>_It</span><span style = 'color:rgba(253,10,10,0.24838434755802155)'>_is</span><span style = 'color:rgba(253,10,10,0.2250118762254715)'>_considered</span><span style = 'color:rgba(253,10,10,0.2250118762254715)'>_fashion</span><span style = 'color:rgba(253,10,10,0.2250118762254715)'>_to</span><span style = 'color:rgba(253,10,10,0.240086629986763)'>_highlight</span><span style = 'color:rgba(253,10,10,0.23616975843906404)'>_every</span><span style = 'color:rgba(253,10,10,0.29844942688941956)'>_social</span><span style = 'color:rgba(253,10,10,0.25434900522232057)'>_evil</span><span style = 'color:rgba(253,10,10,0.2502583503723145)'>_as</span><span style = 'color:rgba(253,10,10,0.2250118762254715)'>_a</span><span style = 'color:rgba(253,10,10,0.24227102994918825)'>_result</span><span style = 'color:rgba(253,10,10,0.28697212338447575)'>_of</span><span style = 'color:rgba(253,10,10,0.2250118762254715)'>_patriarchy</span><span style = 'color:rgba(253,10,10,0.25608443021774296)'>_and</span><span style = 'color:rgba(253,10,10,0.22841445803642274)'>_male</span><span style = 'color:rgba(253,10,10,0.2250118762254715)'>_dominance,</span><span style = 'color:rgba(253,10,10,0.2250118762254715)'>_however</span><span style = 'color:rgba(253,10,10,0.2250118762254715)'>_moronic</span><span style = 'color:rgba(253,10,10,0.2250118762254715)'>_this</span>"
      ],
      "text/plain": [
       "<IPython.core.display.HTML object>"
      ]
     },
     "metadata": {},
     "output_type": "display_data"
    },
    {
     "name": "stdout",
     "output_type": "stream",
     "text": [
      "label:0.0\t guess:0.0\n"
     ]
    },
    {
     "data": {
      "text/html": [
       "<span style = 'color:rgba(253,10,253,0.2571902692317963)'>_Elvis</span><span style = 'color:rgba(253,10,253,0.2234155148267746)'>_has</span><span style = 'color:rgba(253,10,253,0.2525985896587372)'>_left</span><span style = 'color:rgba(253,10,253,0.2234155148267746)'>_the</span><span style = 'color:rgba(253,10,253,0.24324258863925935)'>_building</span><span style = 'color:rgba(253,10,253,0.2234155148267746)'>_and</span><span style = 'color:rgba(253,10,253,0.2234155148267746)'>_he's</span><span style = 'color:rgba(253,10,253,0.22403076142072678)'>_lucky</span><span style = 'color:rgba(253,10,253,0.2234155148267746)'>_because</span><span style = 'color:rgba(253,10,253,0.2234155148267746)'>_he</span><span style = 'color:rgba(253,10,253,0.24474974870681765)'>_didn't</span><span style = 'color:rgba(253,10,253,0.22805717289447786)'>_have</span><span style = 'color:rgba(253,10,253,0.22760707139968872)'>_to</span><span style = 'color:rgba(253,10,253,0.2234155148267746)'>_watch</span><span style = 'color:rgba(253,10,253,0.23092061877250672)'>_this</span><span style = 'color:rgba(253,10,253,0.42949225902557375)'>_unfunny</span><span style = 'color:rgba(253,10,253,0.22412024885416032)'>_stinker.</span><span style = 'color:rgba(253,10,253,0.22412024885416032)'>_Scene</span><span style = 'color:rgba(253,10,253,0.22644673585891725)'>_after</span><span style = 'color:rgba(253,10,253,0.22351509779691697)'>_scene</span>"
      ],
      "text/plain": [
       "<IPython.core.display.HTML object>"
      ]
     },
     "metadata": {},
     "output_type": "display_data"
    },
    {
     "data": {
      "text/html": [
       "<span style = 'color:rgba(253,10,10,0.23253229558467867)'>_Elvis</span><span style = 'color:rgba(253,10,10,0.2423749566078186)'>_has</span><span style = 'color:rgba(253,10,10,0.23253229558467867)'>_left</span><span style = 'color:rgba(253,10,10,0.2396651238203049)'>_the</span><span style = 'color:rgba(253,10,10,0.23253229558467867)'>_building</span><span style = 'color:rgba(253,10,10,0.27294756174087526)'>_and</span><span style = 'color:rgba(253,10,10,0.26140693426132205)'>_he's</span><span style = 'color:rgba(253,10,10,0.23253229558467867)'>_lucky</span><span style = 'color:rgba(253,10,10,0.2403410166501999)'>_because</span><span style = 'color:rgba(253,10,10,0.2513247072696686)'>_he</span><span style = 'color:rgba(253,10,10,0.23253229558467867)'>_didn't</span><span style = 'color:rgba(253,10,10,0.23253229558467867)'>_have</span><span style = 'color:rgba(253,10,10,0.23253229558467867)'>_to</span><span style = 'color:rgba(253,10,10,0.26901984810829166)'>_watch</span><span style = 'color:rgba(253,10,10,0.23253229558467867)'>_this</span><span style = 'color:rgba(253,10,10,0.23253229558467867)'>_unfunny</span><span style = 'color:rgba(253,10,10,0.23253229558467867)'>_stinker.</span><span style = 'color:rgba(253,10,10,0.23253229558467867)'>_Scene</span><span style = 'color:rgba(253,10,10,0.23253229558467867)'>_after</span><span style = 'color:rgba(253,10,10,0.23253229558467867)'>_scene</span>"
      ],
      "text/plain": [
       "<IPython.core.display.HTML object>"
      ]
     },
     "metadata": {},
     "output_type": "display_data"
    },
    {
     "name": "stdout",
     "output_type": "stream",
     "text": [
      "label:1.0\t guess:1.0\n"
     ]
    },
    {
     "data": {
      "text/html": [
       "<span style = 'color:rgba(253,10,253,0.22904666960239412)'>_Considering</span><span style = 'color:rgba(253,10,253,0.22904666960239412)'>_it</span><span style = 'color:rgba(253,10,253,0.258216404914856)'>_was</span><span style = 'color:rgba(253,10,253,0.23211664855480196)'>_made</span><span style = 'color:rgba(253,10,253,0.22904666960239412)'>_on</span><span style = 'color:rgba(253,10,253,0.23350960910320284)'>_a</span><span style = 'color:rgba(253,10,253,0.28280898928642273)'>_low</span><span style = 'color:rgba(253,10,253,0.22904666960239412)'>_budget,</span><span style = 'color:rgba(253,10,253,0.23245537877082825)'>_THE</span><span style = 'color:rgba(253,10,253,0.22992088198661806)'>_DAY</span><span style = 'color:rgba(253,10,253,0.22992088198661806)'>_TIME</span><span style = 'color:rgba(253,10,253,0.22992088198661806)'>_ENDED</span><span style = 'color:rgba(253,10,253,0.3138258337974549)'>_manages</span><span style = 'color:rgba(253,10,253,0.23424624204635622)'>_to</span><span style = 'color:rgba(253,10,253,0.24858532547950746)'>_make</span><span style = 'color:rgba(253,10,253,0.22904666960239412)'>_the</span><span style = 'color:rgba(253,10,253,0.22904666960239412)'>_most</span><span style = 'color:rgba(253,10,253,0.22904666960239412)'>_of</span><span style = 'color:rgba(253,10,253,0.2420995205640793)'>_its</span><span style = 'color:rgba(253,10,253,0.22904666960239412)'>_budget</span>"
      ],
      "text/plain": [
       "<IPython.core.display.HTML object>"
      ]
     },
     "metadata": {},
     "output_type": "display_data"
    },
    {
     "data": {
      "text/html": [
       "<span style = 'color:rgba(253,10,10,0.23219135701656343)'>_Considering</span><span style = 'color:rgba(253,10,10,0.24645155668258667)'>_it</span><span style = 'color:rgba(253,10,10,0.230658096075058)'>_was</span><span style = 'color:rgba(253,10,10,0.230658096075058)'>_made</span><span style = 'color:rgba(253,10,10,0.23074377179145814)'>_on</span><span style = 'color:rgba(253,10,10,0.230658096075058)'>_a</span><span style = 'color:rgba(253,10,10,0.230658096075058)'>_low</span><span style = 'color:rgba(253,10,10,0.2307966411113739)'>_budget,</span><span style = 'color:rgba(253,10,10,0.230658096075058)'>_THE</span><span style = 'color:rgba(253,10,10,0.230658096075058)'>_DAY</span><span style = 'color:rgba(253,10,10,0.230658096075058)'>_TIME</span><span style = 'color:rgba(253,10,10,0.230658096075058)'>_ENDED</span><span style = 'color:rgba(253,10,10,0.230658096075058)'>_manages</span><span style = 'color:rgba(253,10,10,0.230658096075058)'>_to</span><span style = 'color:rgba(253,10,10,0.230658096075058)'>_make</span><span style = 'color:rgba(253,10,10,0.2373799979686737)'>_the</span><span style = 'color:rgba(253,10,10,0.24742713570594788)'>_most</span><span style = 'color:rgba(253,10,10,0.30660533905029297)'>_of</span><span style = 'color:rgba(253,10,10,0.230658096075058)'>_its</span><span style = 'color:rgba(253,10,10,0.3005071043968201)'>_budget</span>"
      ],
      "text/plain": [
       "<IPython.core.display.HTML object>"
      ]
     },
     "metadata": {},
     "output_type": "display_data"
    },
    {
     "name": "stdout",
     "output_type": "stream",
     "text": [
      "label:1.0\t guess:1.0\n"
     ]
    },
    {
     "data": {
      "text/html": [
       "<span style = 'color:rgba(253,10,253,0.23082129657268524)'>_I</span><span style = 'color:rgba(253,10,253,0.22992077469825745)'>_had</span><span style = 'color:rgba(253,10,253,0.2345180153846741)'>_watched</span><span style = 'color:rgba(253,10,253,0.23082129657268524)'>_snippets</span><span style = 'color:rgba(253,10,253,0.22992077469825745)'>_from</span><span style = 'color:rgba(253,10,253,0.23082129657268524)'>_this</span><span style = 'color:rgba(253,10,253,0.23082129657268524)'>_as</span><span style = 'color:rgba(253,10,253,0.2388716518878937)'>_a</span><span style = 'color:rgba(253,10,253,0.24245047569274902)'>_kid</span><span style = 'color:rgba(253,10,253,0.22992077469825745)'>_but,</span><span style = 'color:rgba(253,10,253,0.25905639529228214)'>_while</span><span style = 'color:rgba(253,10,253,0.22992077469825745)'>_I</span><span style = 'color:rgba(253,10,253,0.36629146337509155)'>_purchased</span><span style = 'color:rgba(253,10,253,0.22992077469825745)'>_Blue</span><span style = 'color:rgba(253,10,253,0.22992077469825745)'>_Underground's</span><span style = 'color:rgba(253,10,253,0.23082129657268524)'>_set</span><span style = 'color:rgba(253,10,253,0.22992077469825745)'>_immediately</span><span style = 'color:rgba(253,10,253,0.22992077469825745)'>_due</span><span style = 'color:rgba(253,10,253,0.2345180153846741)'>_to</span><span style = 'color:rgba(253,10,253,0.23082129657268524)'>_its</span>"
      ],
      "text/plain": [
       "<IPython.core.display.HTML object>"
      ]
     },
     "metadata": {},
     "output_type": "display_data"
    },
    {
     "data": {
      "text/html": [
       "<span style = 'color:rgba(253,10,10,0.23172507584095003)'>_I</span><span style = 'color:rgba(253,10,10,0.2431688129901886)'>_had</span><span style = 'color:rgba(253,10,10,0.23172507584095003)'>_watched</span><span style = 'color:rgba(253,10,10,0.23172507584095003)'>_snippets</span><span style = 'color:rgba(253,10,10,0.24549847841262817)'>_from</span><span style = 'color:rgba(253,10,10,0.23172507584095003)'>_this</span><span style = 'color:rgba(253,10,10,0.23172507584095003)'>_as</span><span style = 'color:rgba(253,10,10,0.23172507584095003)'>_a</span><span style = 'color:rgba(253,10,10,0.23172507584095003)'>_kid</span><span style = 'color:rgba(253,10,10,0.23237021267414093)'>_but,</span><span style = 'color:rgba(253,10,10,0.23172507584095003)'>_while</span><span style = 'color:rgba(253,10,10,0.23181327879428865)'>_I</span><span style = 'color:rgba(253,10,10,0.23172507584095003)'>_purchased</span><span style = 'color:rgba(253,10,10,0.24814327955245974)'>_Blue</span><span style = 'color:rgba(253,10,10,0.2942855656147003)'>_Underground's</span><span style = 'color:rgba(253,10,10,0.23172507584095003)'>_set</span><span style = 'color:rgba(253,10,10,0.2922057151794434)'>_immediately</span><span style = 'color:rgba(253,10,10,0.23181373476982117)'>_due</span><span style = 'color:rgba(253,10,10,0.23172507584095003)'>_to</span><span style = 'color:rgba(253,10,10,0.23172507584095003)'>_its</span>"
      ],
      "text/plain": [
       "<IPython.core.display.HTML object>"
      ]
     },
     "metadata": {},
     "output_type": "display_data"
    },
    {
     "name": "stdout",
     "output_type": "stream",
     "text": [
      "label:1.0\t guess:1.0\n"
     ]
    },
    {
     "data": {
      "text/html": [
       "<span style = 'color:rgba(253,10,253,0.24869517982006073)'>_The</span><span style = 'color:rgba(253,10,253,0.2386103630065918)'>_Ramones,</span><span style = 'color:rgba(253,10,253,0.23748226165771485)'>_whom</span><span style = 'color:rgba(253,10,253,0.23748226165771485)'>_I</span><span style = 'color:rgba(253,10,253,0.23748226165771485)'>_consider</span><span style = 'color:rgba(253,10,253,0.23748226165771485)'>_the</span><span style = 'color:rgba(253,10,253,0.2386103630065918)'>_founders</span><span style = 'color:rgba(253,10,253,0.23748226165771485)'>_of</span><span style = 'color:rgba(253,10,253,0.23748226165771485)'>_modern</span><span style = 'color:rgba(253,10,253,0.2386103630065918)'>_punk</span><span style = 'color:rgba(253,10,253,0.2386103630065918)'>_rock,</span><span style = 'color:rgba(253,10,253,0.2386103630065918)'>_lend</span><span style = 'color:rgba(253,10,253,0.2529380798339844)'>_their</span><span style = 'color:rgba(253,10,253,0.2386103630065918)'>_then-unique</span><span style = 'color:rgba(253,10,253,0.2408029228448868)'>_sounds</span><span style = 'color:rgba(253,10,253,0.24419187605381013)'>_to</span><span style = 'color:rgba(253,10,253,0.2432413101196289)'>_a</span><span style = 'color:rgba(253,10,253,0.2386103630065918)'>_terrifically</span><span style = 'color:rgba(253,10,253,0.23748226165771485)'>_twisted</span><span style = 'color:rgba(253,10,253,0.23748226165771485)'>_movie</span>"
      ],
      "text/plain": [
       "<IPython.core.display.HTML object>"
      ]
     },
     "metadata": {},
     "output_type": "display_data"
    },
    {
     "data": {
      "text/html": [
       "<span style = 'color:rgba(253,10,10,0.22421381175518038)'>_The</span><span style = 'color:rgba(253,10,10,0.22421381175518038)'>_Ramones,</span><span style = 'color:rgba(253,10,10,0.29833031296730045)'>_whom</span><span style = 'color:rgba(253,10,10,0.2322533965110779)'>_I</span><span style = 'color:rgba(253,10,10,0.34675887823104856)'>_consider</span><span style = 'color:rgba(253,10,10,0.22952278256416322)'>_the</span><span style = 'color:rgba(253,10,10,0.22421381175518038)'>_founders</span><span style = 'color:rgba(253,10,10,0.28419706821441654)'>_of</span><span style = 'color:rgba(253,10,10,0.24129887819290163)'>_modern</span><span style = 'color:rgba(253,10,10,0.22421381175518038)'>_punk</span><span style = 'color:rgba(253,10,10,0.22421381175518038)'>_rock,</span><span style = 'color:rgba(253,10,10,0.22421381175518038)'>_lend</span><span style = 'color:rgba(253,10,10,0.22421381175518038)'>_their</span><span style = 'color:rgba(253,10,10,0.22421381175518038)'>_then-unique</span><span style = 'color:rgba(253,10,10,0.22421381175518038)'>_sounds</span><span style = 'color:rgba(253,10,10,0.22421381175518038)'>_to</span><span style = 'color:rgba(253,10,10,0.22421381175518038)'>_a</span><span style = 'color:rgba(253,10,10,0.22421381175518038)'>_terrifically</span><span style = 'color:rgba(253,10,10,0.23723387718200684)'>_twisted</span><span style = 'color:rgba(253,10,10,0.23983909487724306)'>_movie</span>"
      ],
      "text/plain": [
       "<IPython.core.display.HTML object>"
      ]
     },
     "metadata": {},
     "output_type": "display_data"
    },
    {
     "name": "stdout",
     "output_type": "stream",
     "text": [
      "label:0.0\t guess:0.0\n"
     ]
    },
    {
     "data": {
      "text/html": [
       "<span style = 'color:rgba(253,10,253,0.24149423241615298)'>_A</span><span style = 'color:rgba(253,10,253,0.2341717928647995)'>_meteor</span><span style = 'color:rgba(253,10,253,0.2341717928647995)'>_hit's</span><span style = 'color:rgba(253,10,253,0.2341717928647995)'>_Crater</span><span style = 'color:rgba(253,10,253,0.3201167941093445)'>_Lake</span><span style = 'color:rgba(253,10,253,0.2341717928647995)'>_(hence</span><span style = 'color:rgba(253,10,253,0.2524236917495728)'>_our</span><span style = 'color:rgba(253,10,253,0.2341717928647995)'>_title),</span><span style = 'color:rgba(253,10,253,0.2341717928647995)'>_awakening</span><span style = 'color:rgba(253,10,253,0.23827038109302523)'>_a</span><span style = 'color:rgba(253,10,253,0.2341717928647995)'>_Plesiosaur,</span><span style = 'color:rgba(253,10,253,0.23317337930202486)'>_who</span><span style = 'color:rgba(253,10,253,0.2341717928647995)'>_proceed's</span><span style = 'color:rgba(253,10,253,0.23911166787147523)'>_to</span><span style = 'color:rgba(253,10,253,0.2341717928647995)'>_snack</span><span style = 'color:rgba(253,10,253,0.23317337930202486)'>_on</span><span style = 'color:rgba(253,10,253,0.23317337930202486)'>_the</span><span style = 'color:rgba(253,10,253,0.2341717928647995)'>_hick</span><span style = 'color:rgba(253,10,253,0.2341717928647995)'>_population</span><span style = 'color:rgba(253,10,253,0.23317337930202486)'>_(in</span>"
      ],
      "text/plain": [
       "<IPython.core.display.HTML object>"
      ]
     },
     "metadata": {},
     "output_type": "display_data"
    },
    {
     "data": {
      "text/html": [
       "<span style = 'color:rgba(253,10,10,0.23636065721511842)'>_A</span><span style = 'color:rgba(253,10,10,0.23636065721511842)'>_meteor</span><span style = 'color:rgba(253,10,10,0.23636065721511842)'>_hit's</span><span style = 'color:rgba(253,10,10,0.23636065721511842)'>_Crater</span><span style = 'color:rgba(253,10,10,0.23636065721511842)'>_Lake</span><span style = 'color:rgba(253,10,10,0.23636065721511842)'>_(hence</span><span style = 'color:rgba(253,10,10,0.23636065721511842)'>_our</span><span style = 'color:rgba(253,10,10,0.23636065721511842)'>_title),</span><span style = 'color:rgba(253,10,10,0.23636065721511842)'>_awakening</span><span style = 'color:rgba(253,10,10,0.23636065721511842)'>_a</span><span style = 'color:rgba(253,10,10,0.23636065721511842)'>_Plesiosaur,</span><span style = 'color:rgba(253,10,10,0.2452222138643265)'>_who</span><span style = 'color:rgba(253,10,10,0.23636065721511842)'>_proceed's</span><span style = 'color:rgba(253,10,10,0.23636065721511842)'>_to</span><span style = 'color:rgba(253,10,10,0.23636065721511842)'>_snack</span><span style = 'color:rgba(253,10,10,0.23646226823329927)'>_on</span><span style = 'color:rgba(253,10,10,0.24433286488056183)'>_the</span><span style = 'color:rgba(253,10,10,0.23636065721511842)'>_hick</span><span style = 'color:rgba(253,10,10,0.23636065721511842)'>_population</span><span style = 'color:rgba(253,10,10,0.29221212267875674)'>_(in</span>"
      ],
      "text/plain": [
       "<IPython.core.display.HTML object>"
      ]
     },
     "metadata": {},
     "output_type": "display_data"
    },
    {
     "name": "stdout",
     "output_type": "stream",
     "text": [
      "label:1.0\t guess:1.0\n"
     ]
    },
    {
     "data": {
      "text/html": [
       "<span style = 'color:rgba(253,10,253,0.23237380087375642)'>_I</span><span style = 'color:rgba(253,10,253,0.23879125714302063)'>_have</span><span style = 'color:rgba(253,10,253,0.28850852847099306)'>_just</span><span style = 'color:rgba(253,10,253,0.25225715637207036)'>_recently</span><span style = 'color:rgba(253,10,253,0.2881715416908264)'>_read</span><span style = 'color:rgba(253,10,253,0.23237380087375642)'>_the</span><span style = 'color:rgba(253,10,253,0.23333244025707245)'>_novel</span><span style = 'color:rgba(253,10,253,0.23334815204143525)'>_\"mother</span><span style = 'color:rgba(253,10,253,0.23334815204143525)'>_night\",</span><span style = 'color:rgba(253,10,253,0.23237380087375642)'>_I've</span><span style = 'color:rgba(253,10,253,0.23334815204143525)'>_owned</span><span style = 'color:rgba(253,10,253,0.23237380087375642)'>_the</span><span style = 'color:rgba(253,10,253,0.23334815204143525)'>_dvd</span><span style = 'color:rgba(253,10,253,0.24119518101215365)'>_for</span><span style = 'color:rgba(253,10,253,0.23237380087375642)'>_some</span><span style = 'color:rgba(253,10,253,0.2329870939254761)'>_time</span><span style = 'color:rgba(253,10,253,0.23237380087375642)'>_now,</span><span style = 'color:rgba(253,10,253,0.23237380087375642)'>_and</span><span style = 'color:rgba(253,10,253,0.23237380087375642)'>_watch</span><span style = 'color:rgba(253,10,253,0.23237380087375642)'>_it</span>"
      ],
      "text/plain": [
       "<IPython.core.display.HTML object>"
      ]
     },
     "metadata": {},
     "output_type": "display_data"
    },
    {
     "data": {
      "text/html": [
       "<span style = 'color:rgba(253,10,10,0.23945581018924714)'>_I</span><span style = 'color:rgba(253,10,10,0.2296209275722504)'>_have</span><span style = 'color:rgba(253,10,10,0.2296209275722504)'>_just</span><span style = 'color:rgba(253,10,10,0.2296209275722504)'>_recently</span><span style = 'color:rgba(253,10,10,0.2296209275722504)'>_read</span><span style = 'color:rgba(253,10,10,0.23611542880535127)'>_the</span><span style = 'color:rgba(253,10,10,0.2296209275722504)'>_novel</span><span style = 'color:rgba(253,10,10,0.2296209275722504)'>_\"mother</span><span style = 'color:rgba(253,10,10,0.2296209275722504)'>_night\",</span><span style = 'color:rgba(253,10,10,0.23985030055046083)'>_I've</span><span style = 'color:rgba(253,10,10,0.2296209275722504)'>_owned</span><span style = 'color:rgba(253,10,10,0.23611542880535127)'>_the</span><span style = 'color:rgba(253,10,10,0.2296209275722504)'>_dvd</span><span style = 'color:rgba(253,10,10,0.2296209275722504)'>_for</span><span style = 'color:rgba(253,10,10,0.24241474568843843)'>_some</span><span style = 'color:rgba(253,10,10,0.2296209275722504)'>_time</span><span style = 'color:rgba(253,10,10,0.3060754656791687)'>_now,</span><span style = 'color:rgba(253,10,10,0.2664193689823151)'>_and</span><span style = 'color:rgba(253,10,10,0.2628431558609009)'>_watch</span><span style = 'color:rgba(253,10,10,0.2448800951242447)'>_it</span>"
      ],
      "text/plain": [
       "<IPython.core.display.HTML object>"
      ]
     },
     "metadata": {},
     "output_type": "display_data"
    },
    {
     "name": "stdout",
     "output_type": "stream",
     "text": [
      "label:0.0\t guess:0.0\n"
     ]
    },
    {
     "data": {
      "text/html": [
       "<span style = 'color:rgba(253,10,253,0.22511778175830843)'>_I</span><span style = 'color:rgba(253,10,253,0.22580144703388216)'>_wish</span><span style = 'color:rgba(253,10,253,0.24315463900566103)'>_Spike</span><span style = 'color:rgba(253,10,253,0.22511778175830843)'>_Lee</span><span style = 'color:rgba(253,10,253,0.2615414917469025)'>_had</span><span style = 'color:rgba(253,10,253,0.22511778175830843)'>_chosen</span><span style = 'color:rgba(253,10,253,0.22897706031799317)'>_a</span><span style = 'color:rgba(253,10,253,0.22511778175830843)'>_different</span><span style = 'color:rgba(253,10,253,0.2257385402917862)'>_title</span><span style = 'color:rgba(253,10,253,0.2319620043039322)'>_for</span><span style = 'color:rgba(253,10,253,0.22511778175830843)'>_his</span><span style = 'color:rgba(253,10,253,0.32818447351455693)'>_film.</span><span style = 'color:rgba(253,10,253,0.22587375044822694)'>_\"Summer</span><span style = 'color:rgba(253,10,253,0.2559864699840546)'>_Of</span><span style = 'color:rgba(253,10,253,0.22587375044822694)'>_Sam\"</span><span style = 'color:rgba(253,10,253,0.22587375044822694)'>_conveys</span><span style = 'color:rgba(253,10,253,0.22511778175830843)'>_the</span><span style = 'color:rgba(253,10,253,0.31339597702026367)'>_impression</span><span style = 'color:rgba(253,10,253,0.23181218802928927)'>_that</span><span style = 'color:rgba(253,10,253,0.22511778175830843)'>_the</span>"
      ],
      "text/plain": [
       "<IPython.core.display.HTML object>"
      ]
     },
     "metadata": {},
     "output_type": "display_data"
    },
    {
     "data": {
      "text/html": [
       "<span style = 'color:rgba(253,10,10,0.24073624312877656)'>_I</span><span style = 'color:rgba(253,10,10,0.23058219850063325)'>_wish</span><span style = 'color:rgba(253,10,10,0.23058219850063325)'>_Spike</span><span style = 'color:rgba(253,10,10,0.28924262523651123)'>_Lee</span><span style = 'color:rgba(253,10,10,0.23058219850063325)'>_had</span><span style = 'color:rgba(253,10,10,0.2748335003852844)'>_chosen</span><span style = 'color:rgba(253,10,10,0.23058219850063325)'>_a</span><span style = 'color:rgba(253,10,10,0.2864527463912964)'>_different</span><span style = 'color:rgba(253,10,10,0.23058219850063325)'>_title</span><span style = 'color:rgba(253,10,10,0.23058219850063325)'>_for</span><span style = 'color:rgba(253,10,10,0.23659141063690187)'>_his</span><span style = 'color:rgba(253,10,10,0.23058219850063325)'>_film.</span><span style = 'color:rgba(253,10,10,0.23058219850063325)'>_\"Summer</span><span style = 'color:rgba(253,10,10,0.23058219850063325)'>_Of</span><span style = 'color:rgba(253,10,10,0.23058219850063325)'>_Sam\"</span><span style = 'color:rgba(253,10,10,0.23058219850063325)'>_conveys</span><span style = 'color:rgba(253,10,10,0.23728745877742768)'>_the</span><span style = 'color:rgba(253,10,10,0.23058219850063325)'>_impression</span><span style = 'color:rgba(253,10,10,0.23058219850063325)'>_that</span><span style = 'color:rgba(253,10,10,0.23728745877742768)'>_the</span>"
      ],
      "text/plain": [
       "<IPython.core.display.HTML object>"
      ]
     },
     "metadata": {},
     "output_type": "display_data"
    },
    {
     "name": "stdout",
     "output_type": "stream",
     "text": [
      "label:1.0\t guess:1.0\n"
     ]
    },
    {
     "data": {
      "text/html": [
       "<span style = 'color:rgba(253,10,253,0.2261748731136322)'>_This</span><span style = 'color:rgba(253,10,253,0.2261748731136322)'>_is</span><span style = 'color:rgba(253,10,253,0.2261748731136322)'>_the</span><span style = 'color:rgba(253,10,253,0.229563307762146)'>_most</span><span style = 'color:rgba(253,10,253,0.23315101563930513)'>_compelling</span><span style = 'color:rgba(253,10,253,0.333579170703888)'>_and</span><span style = 'color:rgba(253,10,253,0.2261748731136322)'>_excellent</span><span style = 'color:rgba(253,10,253,0.31124702692031864)'>_performance</span><span style = 'color:rgba(253,10,253,0.2286020576953888)'>_that</span><span style = 'color:rgba(253,10,253,0.2261748731136322)'>_Robert</span><span style = 'color:rgba(253,10,253,0.23019657433032992)'>_Taylor</span><span style = 'color:rgba(253,10,253,0.2261748731136322)'>_ever</span><span style = 'color:rgba(253,10,253,0.23086037635803225)'>_gave.</span><span style = 'color:rgba(253,10,253,0.28389252424240113)'>_It</span><span style = 'color:rgba(253,10,253,0.2261748731136322)'>_even</span><span style = 'color:rgba(253,10,253,0.2261748731136322)'>_surpasses</span><span style = 'color:rgba(253,10,253,0.2261748731136322)'>_his</span><span style = 'color:rgba(253,10,253,0.23019657433032992)'>_wonderful</span><span style = 'color:rgba(253,10,253,0.22696265578269958)'>_performance</span><span style = 'color:rgba(253,10,253,0.2261748731136322)'>_as</span>"
      ],
      "text/plain": [
       "<IPython.core.display.HTML object>"
      ]
     },
     "metadata": {},
     "output_type": "display_data"
    },
    {
     "data": {
      "text/html": [
       "<span style = 'color:rgba(253,10,10,0.23066355884075165)'>_This</span><span style = 'color:rgba(253,10,10,0.23403716683387757)'>_is</span><span style = 'color:rgba(253,10,10,0.253096091747284)'>_the</span><span style = 'color:rgba(253,10,10,0.22847913205623627)'>_most</span><span style = 'color:rgba(253,10,10,0.22847913205623627)'>_compelling</span><span style = 'color:rgba(253,10,10,0.22847913205623627)'>_and</span><span style = 'color:rgba(253,10,10,0.24402023255825045)'>_excellent</span><span style = 'color:rgba(253,10,10,0.22847913205623627)'>_performance</span><span style = 'color:rgba(253,10,10,0.22847913205623627)'>_that</span><span style = 'color:rgba(253,10,10,0.2656481683254242)'>_Robert</span><span style = 'color:rgba(253,10,10,0.22847913205623627)'>_Taylor</span><span style = 'color:rgba(253,10,10,0.2842447638511658)'>_ever</span><span style = 'color:rgba(253,10,10,0.22847913205623627)'>_gave.</span><span style = 'color:rgba(253,10,10,0.22847913205623627)'>_It</span><span style = 'color:rgba(253,10,10,0.2432175099849701)'>_even</span><span style = 'color:rgba(253,10,10,0.24493021667003634)'>_surpasses</span><span style = 'color:rgba(253,10,10,0.23709550499916077)'>_his</span><span style = 'color:rgba(253,10,10,0.22847913205623627)'>_wonderful</span><span style = 'color:rgba(253,10,10,0.22847913205623627)'>_performance</span><span style = 'color:rgba(253,10,10,0.27825549244880676)'>_as</span>"
      ],
      "text/plain": [
       "<IPython.core.display.HTML object>"
      ]
     },
     "metadata": {},
     "output_type": "display_data"
    },
    {
     "name": "stdout",
     "output_type": "stream",
     "text": [
      "label:1.0\t guess:1.0\n"
     ]
    },
    {
     "data": {
      "text/html": [
       "<span style = 'color:rgba(253,10,253,0.2589320778846741)'>_Bill</span><span style = 'color:rgba(253,10,253,0.23058069944381715)'>_and</span><span style = 'color:rgba(253,10,253,0.23058069944381715)'>_Ted</span><span style = 'color:rgba(253,10,253,0.2334164321422577)'>_are</span><span style = 'color:rgba(253,10,253,0.28070866465568545)'>_back,</span><span style = 'color:rgba(253,10,253,0.23058069944381715)'>_only</span><span style = 'color:rgba(253,10,253,0.24038238227367403)'>_this</span><span style = 'color:rgba(253,10,253,0.23116002678871156)'>_time</span><span style = 'color:rgba(253,10,253,0.23058069944381715)'>_an</span><span style = 'color:rgba(253,10,253,0.23058069944381715)'>_evil</span><span style = 'color:rgba(253,10,253,0.26404668688774113)'>_dude</span><span style = 'color:rgba(253,10,253,0.2654532849788666)'>_from</span><span style = 'color:rgba(253,10,253,0.23058069944381715)'>_the</span><span style = 'color:rgba(253,10,253,0.23058069944381715)'>_future</span><span style = 'color:rgba(253,10,253,0.23058069944381715)'>_has</span><span style = 'color:rgba(253,10,253,0.23058069944381715)'>_sent</span><span style = 'color:rgba(253,10,253,0.23058069944381715)'>_back</span><span style = 'color:rgba(253,10,253,0.23058069944381715)'>_an</span><span style = 'color:rgba(253,10,253,0.23058069944381715)'>_evil</span><span style = 'color:rgba(253,10,253,0.2589320778846741)'>_Bill</span>"
      ],
      "text/plain": [
       "<IPython.core.display.HTML object>"
      ]
     },
     "metadata": {},
     "output_type": "display_data"
    },
    {
     "data": {
      "text/html": [
       "<span style = 'color:rgba(253,10,10,0.22578892707824708)'>_Bill</span><span style = 'color:rgba(253,10,10,0.25782682299613957)'>_and</span><span style = 'color:rgba(253,10,10,0.2823575258255005)'>_Ted</span><span style = 'color:rgba(253,10,10,0.22578892707824708)'>_are</span><span style = 'color:rgba(253,10,10,0.22578892707824708)'>_back,</span><span style = 'color:rgba(253,10,10,0.23997159898281098)'>_only</span><span style = 'color:rgba(253,10,10,0.22578892707824708)'>_this</span><span style = 'color:rgba(253,10,10,0.22578892707824708)'>_time</span><span style = 'color:rgba(253,10,10,0.23771061301231386)'>_an</span><span style = 'color:rgba(253,10,10,0.2560374796390534)'>_evil</span><span style = 'color:rgba(253,10,10,0.22578892707824708)'>_dude</span><span style = 'color:rgba(253,10,10,0.22578892707824708)'>_from</span><span style = 'color:rgba(253,10,10,0.23144324719905854)'>_the</span><span style = 'color:rgba(253,10,10,0.24914181530475618)'>_future</span><span style = 'color:rgba(253,10,10,0.2335913807153702)'>_has</span><span style = 'color:rgba(253,10,10,0.2709206759929657)'>_sent</span><span style = 'color:rgba(253,10,10,0.24093931913375854)'>_back</span><span style = 'color:rgba(253,10,10,0.23771061301231386)'>_an</span><span style = 'color:rgba(253,10,10,0.2560374796390534)'>_evil</span><span style = 'color:rgba(253,10,10,0.22578892707824708)'>_Bill</span>"
      ],
      "text/plain": [
       "<IPython.core.display.HTML object>"
      ]
     },
     "metadata": {},
     "output_type": "display_data"
    },
    {
     "name": "stdout",
     "output_type": "stream",
     "text": [
      "label:0.0\t guess:0.0\n"
     ]
    },
    {
     "data": {
      "text/html": [
       "<span style = 'color:rgba(253,10,253,0.2271310567855835)'>_The</span><span style = 'color:rgba(253,10,253,0.22151218801736833)'>_Crater</span><span style = 'color:rgba(253,10,253,0.27561718821525577)'>_Lake</span><span style = 'color:rgba(253,10,253,0.22151218801736833)'>_Monster</span><span style = 'color:rgba(253,10,253,0.22088365554809572)'>_is</span><span style = 'color:rgba(253,10,253,0.22477697134017946)'>_easily</span><span style = 'color:rgba(253,10,253,0.22135570645332336)'>_one</span><span style = 'color:rgba(253,10,253,0.22088365554809572)'>_of</span><span style = 'color:rgba(253,10,253,0.22088365554809572)'>_the</span><span style = 'color:rgba(253,10,253,0.22088365554809572)'>_most</span><span style = 'color:rgba(253,10,253,0.4559883832931519)'>_awful,</span><span style = 'color:rgba(253,10,253,0.24534030258655548)'>_amateurish</span><span style = 'color:rgba(253,10,253,0.22548784613609316)'>_film</span><span style = 'color:rgba(253,10,253,0.22088365554809572)'>_I've</span><span style = 'color:rgba(253,10,253,0.24760319888591767)'>_ever</span><span style = 'color:rgba(253,10,253,0.22088365554809572)'>_seen</span><span style = 'color:rgba(253,10,253,0.2289290338754654)'>_-</span><span style = 'color:rgba(253,10,253,0.22151218801736833)'>_ranking</span><span style = 'color:rgba(253,10,253,0.23495732545852663)'>_right</span><span style = 'color:rgba(253,10,253,0.22297446876764299)'>_up</span>"
      ],
      "text/plain": [
       "<IPython.core.display.HTML object>"
      ]
     },
     "metadata": {},
     "output_type": "display_data"
    },
    {
     "data": {
      "text/html": [
       "<span style = 'color:rgba(253,10,10,0.2308129072189331)'>_The</span><span style = 'color:rgba(253,10,10,0.2308129072189331)'>_Crater</span><span style = 'color:rgba(253,10,10,0.2308129072189331)'>_Lake</span><span style = 'color:rgba(253,10,10,0.2308129072189331)'>_Monster</span><span style = 'color:rgba(253,10,10,0.2596061766147614)'>_is</span><span style = 'color:rgba(253,10,10,0.2308129072189331)'>_easily</span><span style = 'color:rgba(253,10,10,0.2308129072189331)'>_one</span><span style = 'color:rgba(253,10,10,0.30714365243911745)'>_of</span><span style = 'color:rgba(253,10,10,0.23756875097751617)'>_the</span><span style = 'color:rgba(253,10,10,0.24766662418842317)'>_most</span><span style = 'color:rgba(253,10,10,0.2308129072189331)'>_awful,</span><span style = 'color:rgba(253,10,10,0.2308129072189331)'>_amateurish</span><span style = 'color:rgba(253,10,10,0.2308129072189331)'>_film</span><span style = 'color:rgba(253,10,10,0.24145391881465914)'>_I've</span><span style = 'color:rgba(253,10,10,0.2308129072189331)'>_ever</span><span style = 'color:rgba(253,10,10,0.27518022060394287)'>_seen</span><span style = 'color:rgba(253,10,10,0.2308129072189331)'>_-</span><span style = 'color:rgba(253,10,10,0.2308129072189331)'>_ranking</span><span style = 'color:rgba(253,10,10,0.2308129072189331)'>_right</span><span style = 'color:rgba(253,10,10,0.2308129072189331)'>_up</span>"
      ],
      "text/plain": [
       "<IPython.core.display.HTML object>"
      ]
     },
     "metadata": {},
     "output_type": "display_data"
    },
    {
     "name": "stdout",
     "output_type": "stream",
     "text": [
      "label:0.0\t guess:0.0\n"
     ]
    },
    {
     "data": {
      "text/html": [
       "<span style = 'color:rgba(253,10,253,0.2185796156525612)'>_This</span><span style = 'color:rgba(253,10,253,0.2604609072208405)'>_may</span><span style = 'color:rgba(253,10,253,0.2185796156525612)'>_actually</span><span style = 'color:rgba(253,10,253,0.2217753142118454)'>_be</span><span style = 'color:rgba(253,10,253,0.2185796156525612)'>_the</span><span style = 'color:rgba(253,10,253,0.5206251859664917)'>_worst</span><span style = 'color:rgba(253,10,253,0.2185796156525612)'>_movie</span><span style = 'color:rgba(253,10,253,0.22353146821260453)'>_that</span><span style = 'color:rgba(253,10,253,0.2185796156525612)'>_I</span><span style = 'color:rgba(253,10,253,0.22226265519857408)'>_have</span><span style = 'color:rgba(253,10,253,0.24235126078128816)'>_ever</span><span style = 'color:rgba(253,10,253,0.2185796156525612)'>_scene.</span><span style = 'color:rgba(253,10,253,0.21913880556821824)'>_Incoherent</span><span style = 'color:rgba(253,10,253,0.23505882620811464)'>_would</span><span style = 'color:rgba(253,10,253,0.2217753142118454)'>_be</span><span style = 'color:rgba(253,10,253,0.22143432199954988)'>_a</span><span style = 'color:rgba(253,10,253,0.21913880556821824)'>_compliment.</span><span style = 'color:rgba(253,10,253,0.24381021559238436)'>_Even</span><span style = 'color:rgba(253,10,253,0.2185796156525612)'>_the</span><span style = 'color:rgba(253,10,253,0.2185796156525612)'>_end</span>"
      ],
      "text/plain": [
       "<IPython.core.display.HTML object>"
      ]
     },
     "metadata": {},
     "output_type": "display_data"
    },
    {
     "data": {
      "text/html": [
       "<span style = 'color:rgba(253,10,10,0.23955352306365968)'>_This</span><span style = 'color:rgba(253,10,10,0.2320514351129532)'>_may</span><span style = 'color:rgba(253,10,10,0.23550636470317843)'>_actually</span><span style = 'color:rgba(253,10,10,0.2320514351129532)'>_be</span><span style = 'color:rgba(253,10,10,0.23907883167266847)'>_the</span><span style = 'color:rgba(253,10,10,0.2320514351129532)'>_worst</span><span style = 'color:rgba(253,10,10,0.25273436903953556)'>_movie</span><span style = 'color:rgba(253,10,10,0.2320514351129532)'>_that</span><span style = 'color:rgba(253,10,10,0.24269330203533174)'>_I</span><span style = 'color:rgba(253,10,10,0.2320514351129532)'>_have</span><span style = 'color:rgba(253,10,10,0.2320514351129532)'>_ever</span><span style = 'color:rgba(253,10,10,0.329214072227478)'>_scene.</span><span style = 'color:rgba(253,10,10,0.2320514351129532)'>_Incoherent</span><span style = 'color:rgba(253,10,10,0.2320514351129532)'>_would</span><span style = 'color:rgba(253,10,10,0.2320514351129532)'>_be</span><span style = 'color:rgba(253,10,10,0.2320514351129532)'>_a</span><span style = 'color:rgba(253,10,10,0.2320514351129532)'>_compliment.</span><span style = 'color:rgba(253,10,10,0.2320514351129532)'>_Even</span><span style = 'color:rgba(253,10,10,0.23907883167266847)'>_the</span><span style = 'color:rgba(253,10,10,0.2375235289335251)'>_end</span>"
      ],
      "text/plain": [
       "<IPython.core.display.HTML object>"
      ]
     },
     "metadata": {},
     "output_type": "display_data"
    },
    {
     "name": "stdout",
     "output_type": "stream",
     "text": [
      "label:1.0\t guess:1.0\n"
     ]
    },
    {
     "data": {
      "text/html": [
       "<span style = 'color:rgba(253,10,253,0.237628647685051)'>_\"Saving</span><span style = 'color:rgba(253,10,253,0.237628647685051)'>_Grace\"</span><span style = 'color:rgba(253,10,253,0.23652922809123994)'>_is</span><span style = 'color:rgba(253,10,253,0.26900990605354314)'>_never</span><span style = 'color:rgba(253,10,253,0.237628647685051)'>_riotously</span><span style = 'color:rgba(253,10,253,0.23652922809123994)'>_funny,</span><span style = 'color:rgba(253,10,253,0.23652922809123994)'>_but</span><span style = 'color:rgba(253,10,253,0.23652922809123994)'>_it</span><span style = 'color:rgba(253,10,253,0.23652922809123994)'>_delivers</span><span style = 'color:rgba(253,10,253,0.23652922809123994)'>_quite</span><span style = 'color:rgba(253,10,253,0.2421418458223343)'>_a</span><span style = 'color:rgba(253,10,253,0.24606136083602906)'>_few</span><span style = 'color:rgba(253,10,253,0.23652922809123994)'>_good</span><span style = 'color:rgba(253,10,253,0.2428693175315857)'>_laughs</span><span style = 'color:rgba(253,10,253,0.23652922809123994)'>_and</span><span style = 'color:rgba(253,10,253,0.23652922809123994)'>_I</span><span style = 'color:rgba(253,10,253,0.23652922809123994)'>_enjoyed</span><span style = 'color:rgba(253,10,253,0.23652922809123994)'>_it</span><span style = 'color:rgba(253,10,253,0.2430682420730591)'>_to</span><span style = 'color:rgba(253,10,253,0.2421418458223343)'>_a</span>"
      ],
      "text/plain": [
       "<IPython.core.display.HTML object>"
      ]
     },
     "metadata": {},
     "output_type": "display_data"
    },
    {
     "data": {
      "text/html": [
       "<span style = 'color:rgba(253,10,10,0.22177056223154068)'>_\"Saving</span><span style = 'color:rgba(253,10,10,0.22177056223154068)'>_Grace\"</span><span style = 'color:rgba(253,10,10,0.24211416840553285)'>_is</span><span style = 'color:rgba(253,10,10,0.22177056223154068)'>_never</span><span style = 'color:rgba(253,10,10,0.22177056223154068)'>_riotously</span><span style = 'color:rgba(253,10,10,0.23715444505214692)'>_funny,</span><span style = 'color:rgba(253,10,10,0.23303715884685516)'>_but</span><span style = 'color:rgba(253,10,10,0.23298562467098238)'>_it</span><span style = 'color:rgba(253,10,10,0.2596326231956482)'>_delivers</span><span style = 'color:rgba(253,10,10,0.24784413278102876)'>_quite</span><span style = 'color:rgba(253,10,10,0.22177056223154068)'>_a</span><span style = 'color:rgba(253,10,10,0.22177056223154068)'>_few</span><span style = 'color:rgba(253,10,10,0.24935812652111056)'>_good</span><span style = 'color:rgba(253,10,10,0.22177056223154068)'>_laughs</span><span style = 'color:rgba(253,10,10,0.24881639182567597)'>_and</span><span style = 'color:rgba(253,10,10,0.22899892628192903)'>_I</span><span style = 'color:rgba(253,10,10,0.3911377191543579)'>_enjoyed</span><span style = 'color:rgba(253,10,10,0.23298562467098238)'>_it</span><span style = 'color:rgba(253,10,10,0.22177056223154068)'>_to</span><span style = 'color:rgba(253,10,10,0.22177056223154068)'>_a</span>"
      ],
      "text/plain": [
       "<IPython.core.display.HTML object>"
      ]
     },
     "metadata": {},
     "output_type": "display_data"
    },
    {
     "name": "stdout",
     "output_type": "stream",
     "text": [
      "label:1.0\t guess:1.0\n"
     ]
    },
    {
     "data": {
      "text/html": [
       "<span style = 'color:rgba(253,10,253,0.23472723662853243)'>_Yes,</span><span style = 'color:rgba(253,10,253,0.2357724189758301)'>_it's</span><span style = 'color:rgba(253,10,253,0.23472723662853243)'>_another</span><span style = 'color:rgba(253,10,253,0.23472723662853243)'>_great</span><span style = 'color:rgba(253,10,253,0.23472723662853243)'>_magical</span><span style = 'color:rgba(253,10,253,0.2357724189758301)'>_Muppet's</span><span style = 'color:rgba(253,10,253,0.23472723662853243)'>_movie</span><span style = 'color:rgba(253,10,253,0.2357724189758301)'>_and</span><span style = 'color:rgba(253,10,253,0.23472723662853243)'>_I</span><span style = 'color:rgba(253,10,253,0.2754956781864166)'>_adore</span><span style = 'color:rgba(253,10,253,0.23472723662853243)'>_them</span><span style = 'color:rgba(253,10,253,0.25147125720977787)'>_all;</span><span style = 'color:rgba(253,10,253,0.23472723662853243)'>_the</span><span style = 'color:rgba(253,10,253,0.23994017243385315)'>_characters,</span><span style = 'color:rgba(253,10,253,0.2732763767242432)'>_the</span><span style = 'color:rgba(253,10,253,0.23472723662853243)'>_movies,</span><span style = 'color:rgba(253,10,253,0.2357724189758301)'>_the</span><span style = 'color:rgba(253,10,253,0.23472723662853243)'>_TV</span><span style = 'color:rgba(253,10,253,0.23472723662853243)'>_show</span><span style = 'color:rgba(253,10,253,0.23472723662853243)'>_episodes</span>"
      ],
      "text/plain": [
       "<IPython.core.display.HTML object>"
      ]
     },
     "metadata": {},
     "output_type": "display_data"
    },
    {
     "data": {
      "text/html": [
       "<span style = 'color:rgba(253,10,10,0.23478756546974183)'>_Yes,</span><span style = 'color:rgba(253,10,10,0.2264234870672226)'>_it's</span><span style = 'color:rgba(253,10,10,0.24347468316555024)'>_another</span><span style = 'color:rgba(253,10,10,0.2592496991157532)'>_great</span><span style = 'color:rgba(253,10,10,0.2351967364549637)'>_magical</span><span style = 'color:rgba(253,10,10,0.2264234870672226)'>_Muppet's</span><span style = 'color:rgba(253,10,10,0.23043694496154787)'>_movie</span><span style = 'color:rgba(253,10,10,0.2264234870672226)'>_and</span><span style = 'color:rgba(253,10,10,0.23221693336963656)'>_I</span><span style = 'color:rgba(253,10,10,0.2264234870672226)'>_adore</span><span style = 'color:rgba(253,10,10,0.23221693336963656)'>_them</span><span style = 'color:rgba(253,10,10,0.2264234870672226)'>_all;</span><span style = 'color:rgba(253,10,10,0.23221693336963656)'>_the</span><span style = 'color:rgba(253,10,10,0.2264234870672226)'>_characters,</span><span style = 'color:rgba(253,10,10,0.2264234870672226)'>_the</span><span style = 'color:rgba(253,10,10,0.2537776291370392)'>_movies,</span><span style = 'color:rgba(253,10,10,0.2264234870672226)'>_the</span><span style = 'color:rgba(253,10,10,0.23221693336963656)'>_TV</span><span style = 'color:rgba(253,10,10,0.3501021504402161)'>_show</span><span style = 'color:rgba(253,10,10,0.2527189671993256)'>_episodes</span>"
      ],
      "text/plain": [
       "<IPython.core.display.HTML object>"
      ]
     },
     "metadata": {},
     "output_type": "display_data"
    },
    {
     "name": "stdout",
     "output_type": "stream",
     "text": [
      "label:0.0\t guess:0.0\n"
     ]
    },
    {
     "data": {
      "text/html": [
       "<span style = 'color:rgba(253,10,253,0.28768928647041325)'>_Not</span><span style = 'color:rgba(253,10,253,0.22588730156421663)'>_worth</span><span style = 'color:rgba(253,10,253,0.22588730156421663)'>_the</span><span style = 'color:rgba(253,10,253,0.22588730156421663)'>_video</span><span style = 'color:rgba(253,10,253,0.23634465038776398)'>_rental</span><span style = 'color:rgba(253,10,253,0.2718789935112)'>_or</span><span style = 'color:rgba(253,10,253,0.22588730156421663)'>_the</span><span style = 'color:rgba(253,10,253,0.22637771368026735)'>_time</span><span style = 'color:rgba(253,10,253,0.2718789935112)'>_or</span><span style = 'color:rgba(253,10,253,0.22588730156421663)'>_the</span><span style = 'color:rgba(253,10,253,0.29535224437713625)'>_occasional</span><span style = 'color:rgba(253,10,253,0.22666642665863038)'>_efforts.<br</span><span style = 'color:rgba(253,10,253,0.24974214732646943)'>_/><br</span><span style = 'color:rgba(253,10,253,0.22666642665863038)'>_/>*Makeup</span><span style = 'color:rgba(253,10,253,0.23278679847717287)'>_that</span><span style = 'color:rgba(253,10,253,0.2298648089170456)'>_a</span><span style = 'color:rgba(253,10,253,0.23687396347522738)'>_child</span><span style = 'color:rgba(253,10,253,0.22588730156421663)'>_can</span><span style = 'color:rgba(253,10,253,0.22588730156421663)'>_do.</span><span style = 'color:rgba(253,10,253,0.22666642665863038)'>_*Acting</span>"
      ],
      "text/plain": [
       "<IPython.core.display.HTML object>"
      ]
     },
     "metadata": {},
     "output_type": "display_data"
    },
    {
     "data": {
      "text/html": [
       "<span style = 'color:rgba(253,10,10,0.2318382948637009)'>_Not</span><span style = 'color:rgba(253,10,10,0.25164104104042057)'>_worth</span><span style = 'color:rgba(253,10,10,0.23881895840168)'>_the</span><span style = 'color:rgba(253,10,10,0.23496813476085665)'>_video</span><span style = 'color:rgba(253,10,10,0.2318382948637009)'>_rental</span><span style = 'color:rgba(253,10,10,0.2318382948637009)'>_or</span><span style = 'color:rgba(253,10,10,0.23881895840168)'>_the</span><span style = 'color:rgba(253,10,10,0.2318382948637009)'>_time</span><span style = 'color:rgba(253,10,10,0.2318382948637009)'>_or</span><span style = 'color:rgba(253,10,10,0.23881895840168)'>_the</span><span style = 'color:rgba(253,10,10,0.2318382948637009)'>_occasional</span><span style = 'color:rgba(253,10,10,0.2318382948637009)'>_efforts.<br</span><span style = 'color:rgba(253,10,10,0.2318382948637009)'>_/><br</span><span style = 'color:rgba(253,10,10,0.2318382948637009)'>_/>*Makeup</span><span style = 'color:rgba(253,10,10,0.2318382948637009)'>_that</span><span style = 'color:rgba(253,10,10,0.2318382948637009)'>_a</span><span style = 'color:rgba(253,10,10,0.2318382948637009)'>_child</span><span style = 'color:rgba(253,10,10,0.2416518807411194)'>_can</span><span style = 'color:rgba(253,10,10,0.34138422012329106)'>_do.</span><span style = 'color:rgba(253,10,10,0.2318382948637009)'>_*Acting</span>"
      ],
      "text/plain": [
       "<IPython.core.display.HTML object>"
      ]
     },
     "metadata": {},
     "output_type": "display_data"
    },
    {
     "name": "stdout",
     "output_type": "stream",
     "text": [
      "label:0.0\t guess:0.0\n"
     ]
    },
    {
     "data": {
      "text/html": [
       "<span style = 'color:rgba(253,10,253,0.2371634364128113)'>_I</span><span style = 'color:rgba(253,10,253,0.22521497607231142)'>_really</span><span style = 'color:rgba(253,10,253,0.22521497607231142)'>_can't</span><span style = 'color:rgba(253,10,253,0.2604598164558411)'>_understand</span><span style = 'color:rgba(253,10,253,0.2391361176967621)'>_how</span><span style = 'color:rgba(253,10,253,0.22447825819253922)'>_could</span><span style = 'color:rgba(253,10,253,0.22521497607231142)'>_someone</span><span style = 'color:rgba(253,10,253,0.2461892753839493)'>_give</span><span style = 'color:rgba(253,10,253,0.24233224987983704)'>_this</span><span style = 'color:rgba(253,10,253,0.22447825819253922)'>_disgusting</span><span style = 'color:rgba(253,10,253,0.22573001980781557)'>_film</span><span style = 'color:rgba(253,10,253,0.23100222051143648)'>_more</span><span style = 'color:rgba(253,10,253,0.2311482220888138)'>_than</span><span style = 'color:rgba(253,10,253,0.31259056329727175)'>_1</span><span style = 'color:rgba(253,10,253,0.23391611874103546)'>_star...</span><span style = 'color:rgba(253,10,253,0.267966628074646)'>_How</span><span style = 'color:rgba(253,10,253,0.26692246794700625)'>_can</span><span style = 'color:rgba(253,10,253,0.2311482220888138)'>_you</span><span style = 'color:rgba(253,10,253,0.22521497607231142)'>_like</span><span style = 'color:rgba(253,10,253,0.22447825819253922)'>_such</span>"
      ],
      "text/plain": [
       "<IPython.core.display.HTML object>"
      ]
     },
     "metadata": {},
     "output_type": "display_data"
    },
    {
     "data": {
      "text/html": [
       "<span style = 'color:rgba(253,10,10,0.2348414659500122)'>_I</span><span style = 'color:rgba(253,10,10,0.2348414659500122)'>_really</span><span style = 'color:rgba(253,10,10,0.2348414659500122)'>_can't</span><span style = 'color:rgba(253,10,10,0.2348414659500122)'>_understand</span><span style = 'color:rgba(253,10,10,0.2348414659500122)'>_how</span><span style = 'color:rgba(253,10,10,0.32115188837051395)'>_could</span><span style = 'color:rgba(253,10,10,0.2348414659500122)'>_someone</span><span style = 'color:rgba(253,10,10,0.2348414659500122)'>_give</span><span style = 'color:rgba(253,10,10,0.2348414659500122)'>_this</span><span style = 'color:rgba(253,10,10,0.24013352990150452)'>_disgusting</span><span style = 'color:rgba(253,10,10,0.2348414659500122)'>_film</span><span style = 'color:rgba(253,10,10,0.2348414659500122)'>_more</span><span style = 'color:rgba(253,10,10,0.2348414659500122)'>_than</span><span style = 'color:rgba(253,10,10,0.2348414659500122)'>_1</span><span style = 'color:rgba(253,10,10,0.2348414659500122)'>_star...</span><span style = 'color:rgba(253,10,10,0.2348414659500122)'>_How</span><span style = 'color:rgba(253,10,10,0.2348414659500122)'>_can</span><span style = 'color:rgba(253,10,10,0.2348414659500122)'>_you</span><span style = 'color:rgba(253,10,10,0.2348414659500122)'>_like</span><span style = 'color:rgba(253,10,10,0.2464096933603287)'>_such</span>"
      ],
      "text/plain": [
       "<IPython.core.display.HTML object>"
      ]
     },
     "metadata": {},
     "output_type": "display_data"
    },
    {
     "name": "stdout",
     "output_type": "stream",
     "text": [
      "label:1.0\t guess:1.0\n"
     ]
    },
    {
     "data": {
      "text/html": [
       "<span style = 'color:rgba(253,10,253,0.2307000130414963)'>_I</span><span style = 'color:rgba(253,10,253,0.2307000130414963)'>_strongly</span><span style = 'color:rgba(253,10,253,0.2307000130414963)'>_disagree</span><span style = 'color:rgba(253,10,253,0.2307000130414963)'>_with</span><span style = 'color:rgba(253,10,253,0.23162398636341097)'>_\"ctomvelu\"</span><span style = 'color:rgba(253,10,253,0.3014097571372986)'>_regarding</span><span style = 'color:rgba(253,10,253,0.2307000130414963)'>_Jim</span><span style = 'color:rgba(253,10,253,0.23162398636341097)'>_Belushi's</span><span style = 'color:rgba(253,10,253,0.2919465899467468)'>_talent.</span><span style = 'color:rgba(253,10,253,0.2307000130414963)'>_I</span><span style = 'color:rgba(253,10,253,0.2307000130414963)'>_happen</span><span style = 'color:rgba(253,10,253,0.23619554936885834)'>_to</span><span style = 'color:rgba(253,10,253,0.2322699397802353)'>_like</span><span style = 'color:rgba(253,10,253,0.23162398636341097)'>_Belushi</span><span style = 'color:rgba(253,10,253,0.2307000130414963)'>_very</span><span style = 'color:rgba(253,10,253,0.24222797453403475)'>_much.</span><span style = 'color:rgba(253,10,253,0.23162398636341097)'>_Admittedly,</span><span style = 'color:rgba(253,10,253,0.2307000130414963)'>_I</span><span style = 'color:rgba(253,10,253,0.26153009533882143)'>_was</span><span style = 'color:rgba(253,10,253,0.23162398636341097)'>_skeptical</span>"
      ],
      "text/plain": [
       "<IPython.core.display.HTML object>"
      ]
     },
     "metadata": {},
     "output_type": "display_data"
    },
    {
     "data": {
      "text/html": [
       "<span style = 'color:rgba(253,10,10,0.23860619962215424)'>_I</span><span style = 'color:rgba(253,10,10,0.24428729712963104)'>_strongly</span><span style = 'color:rgba(253,10,10,0.27009521722793584)'>_disagree</span><span style = 'color:rgba(253,10,10,0.23943775296211245)'>_with</span><span style = 'color:rgba(253,10,10,0.22898309528827668)'>_\"ctomvelu\"</span><span style = 'color:rgba(253,10,10,0.22898309528827668)'>_regarding</span><span style = 'color:rgba(253,10,10,0.2643431663513184)'>_Jim</span><span style = 'color:rgba(253,10,10,0.22898309528827668)'>_Belushi's</span><span style = 'color:rgba(253,10,10,0.22898309528827668)'>_talent.</span><span style = 'color:rgba(253,10,10,0.23860619962215424)'>_I</span><span style = 'color:rgba(253,10,10,0.273276025056839)'>_happen</span><span style = 'color:rgba(253,10,10,0.22898309528827668)'>_to</span><span style = 'color:rgba(253,10,10,0.22898309528827668)'>_like</span><span style = 'color:rgba(253,10,10,0.22898309528827668)'>_Belushi</span><span style = 'color:rgba(253,10,10,0.2739278852939606)'>_very</span><span style = 'color:rgba(253,10,10,0.22898309528827668)'>_much.</span><span style = 'color:rgba(253,10,10,0.22898309528827668)'>_Admittedly,</span><span style = 'color:rgba(253,10,10,0.23860619962215424)'>_I</span><span style = 'color:rgba(253,10,10,0.22898309528827668)'>_was</span><span style = 'color:rgba(253,10,10,0.22898309528827668)'>_skeptical</span>"
      ],
      "text/plain": [
       "<IPython.core.display.HTML object>"
      ]
     },
     "metadata": {},
     "output_type": "display_data"
    },
    {
     "name": "stdout",
     "output_type": "stream",
     "text": [
      "label:0.0\t guess:0.0\n"
     ]
    },
    {
     "data": {
      "text/html": [
       "<span style = 'color:rgba(253,10,253,0.2517730712890625)'>_While</span><span style = 'color:rgba(253,10,253,0.22616474628448488)'>_I</span><span style = 'color:rgba(253,10,253,0.22616474628448488)'>_count</span><span style = 'color:rgba(253,10,253,0.2297946810722351)'>_myself</span><span style = 'color:rgba(253,10,253,0.22616474628448488)'>_as</span><span style = 'color:rgba(253,10,253,0.23018488585948946)'>_a</span><span style = 'color:rgba(253,10,253,0.2699653565883637)'>_fan</span><span style = 'color:rgba(253,10,253,0.22616474628448488)'>_of</span><span style = 'color:rgba(253,10,253,0.22616474628448488)'>_the</span><span style = 'color:rgba(253,10,253,0.2269522249698639)'>_Babylon</span><span style = 'color:rgba(253,10,253,0.23084779381752016)'>_5</span><span style = 'color:rgba(253,10,253,0.33355447053909304)'>_television</span><span style = 'color:rgba(253,10,253,0.22616474628448488)'>_series,</span><span style = 'color:rgba(253,10,253,0.22616474628448488)'>_the</span><span style = 'color:rgba(253,10,253,0.2696450710296631)'>_original</span><span style = 'color:rgba(253,10,253,0.22616474628448488)'>_movie</span><span style = 'color:rgba(253,10,253,0.23313819468021393)'>_that</span><span style = 'color:rgba(253,10,253,0.22894072532653809)'>_introduced</span><span style = 'color:rgba(253,10,253,0.22616474628448488)'>_the</span><span style = 'color:rgba(253,10,253,0.2597208321094513)'>_series</span>"
      ],
      "text/plain": [
       "<IPython.core.display.HTML object>"
      ]
     },
     "metadata": {},
     "output_type": "display_data"
    },
    {
     "data": {
      "text/html": [
       "<span style = 'color:rgba(253,10,10,0.22934852540493011)'>_While</span><span style = 'color:rgba(253,10,10,0.23909296393394472)'>_I</span><span style = 'color:rgba(253,10,10,0.2510944902896881)'>_count</span><span style = 'color:rgba(253,10,10,0.22934852540493011)'>_myself</span><span style = 'color:rgba(253,10,10,0.2589723289012909)'>_as</span><span style = 'color:rgba(253,10,10,0.22934852540493011)'>_a</span><span style = 'color:rgba(253,10,10,0.22934852540493011)'>_fan</span><span style = 'color:rgba(253,10,10,0.3020516633987427)'>_of</span><span style = 'color:rgba(253,10,10,0.23578329980373383)'>_the</span><span style = 'color:rgba(253,10,10,0.22934852540493011)'>_Babylon</span><span style = 'color:rgba(253,10,10,0.22934852540493011)'>_5</span><span style = 'color:rgba(253,10,10,0.22934852540493011)'>_television</span><span style = 'color:rgba(253,10,10,0.27031761407852173)'>_series,</span><span style = 'color:rgba(253,10,10,0.23578329980373383)'>_the</span><span style = 'color:rgba(253,10,10,0.22934852540493011)'>_original</span><span style = 'color:rgba(253,10,10,0.24828726649284363)'>_movie</span><span style = 'color:rgba(253,10,10,0.22934852540493011)'>_that</span><span style = 'color:rgba(253,10,10,0.22934852540493011)'>_introduced</span><span style = 'color:rgba(253,10,10,0.23578329980373383)'>_the</span><span style = 'color:rgba(253,10,10,0.22934852540493011)'>_series</span>"
      ],
      "text/plain": [
       "<IPython.core.display.HTML object>"
      ]
     },
     "metadata": {},
     "output_type": "display_data"
    },
    {
     "name": "stdout",
     "output_type": "stream",
     "text": [
      "label:0.0\t guess:0.0\n"
     ]
    },
    {
     "data": {
      "text/html": [
       "<span style = 'color:rgba(253,10,253,0.24193592369556427)'>_The</span><span style = 'color:rgba(253,10,253,0.23227944672107698)'>_movie</span><span style = 'color:rgba(253,10,253,0.23325095474720003)'>_'Gung</span><span style = 'color:rgba(253,10,253,0.23325095474720003)'>_Ho!':</span><span style = 'color:rgba(253,10,253,0.24193592369556427)'>_The</span><span style = 'color:rgba(253,10,253,0.23227944672107698)'>_Story</span><span style = 'color:rgba(253,10,253,0.23227944672107698)'>_of</span><span style = 'color:rgba(253,10,253,0.23325095474720003)'>_Carlson's</span><span style = 'color:rgba(253,10,253,0.23325095474720003)'>_Makin</span><span style = 'color:rgba(253,10,253,0.23227944672107698)'>_Island</span><span style = 'color:rgba(253,10,253,0.23325095474720003)'>_Raiders</span><span style = 'color:rgba(253,10,253,0.2646956503391266)'>_was</span><span style = 'color:rgba(253,10,253,0.23569109737873079)'>_made</span><span style = 'color:rgba(253,10,253,0.24229192435741426)'>_in</span><span style = 'color:rgba(253,10,253,0.23325095474720003)'>_1943</span><span style = 'color:rgba(253,10,253,0.23227944672107698)'>_with</span><span style = 'color:rgba(253,10,253,0.23723909258842468)'>_a</span><span style = 'color:rgba(253,10,253,0.2927068293094635)'>_view</span><span style = 'color:rgba(253,10,253,0.23805771172046664)'>_to</span><span style = 'color:rgba(253,10,253,0.2445429265499115)'>_go</span>"
      ],
      "text/plain": [
       "<IPython.core.display.HTML object>"
      ]
     },
     "metadata": {},
     "output_type": "display_data"
    },
    {
     "data": {
      "text/html": [
       "<span style = 'color:rgba(253,10,10,0.23294161558151247)'>_The</span><span style = 'color:rgba(253,10,10,0.2541989922523499)'>_movie</span><span style = 'color:rgba(253,10,10,0.23294161558151247)'>_'Gung</span><span style = 'color:rgba(253,10,10,0.23294161558151247)'>_Ho!':</span><span style = 'color:rgba(253,10,10,0.23294161558151247)'>_The</span><span style = 'color:rgba(253,10,10,0.23763795793056489)'>_Story</span><span style = 'color:rgba(253,10,10,0.3145456671714783)'>_of</span><span style = 'color:rgba(253,10,10,0.23294161558151247)'>_Carlson's</span><span style = 'color:rgba(253,10,10,0.23294161558151247)'>_Makin</span><span style = 'color:rgba(253,10,10,0.2546689569950104)'>_Island</span><span style = 'color:rgba(253,10,10,0.23294161558151247)'>_Raiders</span><span style = 'color:rgba(253,10,10,0.23294161558151247)'>_was</span><span style = 'color:rgba(253,10,10,0.23294161558151247)'>_made</span><span style = 'color:rgba(253,10,10,0.23294161558151247)'>_in</span><span style = 'color:rgba(253,10,10,0.23294161558151247)'>_1943</span><span style = 'color:rgba(253,10,10,0.24482417404651644)'>_with</span><span style = 'color:rgba(253,10,10,0.23294161558151247)'>_a</span><span style = 'color:rgba(253,10,10,0.23294161558151247)'>_view</span><span style = 'color:rgba(253,10,10,0.23294161558151247)'>_to</span><span style = 'color:rgba(253,10,10,0.23294161558151247)'>_go</span>"
      ],
      "text/plain": [
       "<IPython.core.display.HTML object>"
      ]
     },
     "metadata": {},
     "output_type": "display_data"
    },
    {
     "name": "stdout",
     "output_type": "stream",
     "text": [
      "label:0.0\t guess:0.0\n"
     ]
    },
    {
     "data": {
      "text/html": [
       "<span style = 'color:rgba(253,10,253,0.22908978164196014)'>_There</span><span style = 'color:rgba(253,10,253,0.2299652934074402)'>_can</span><span style = 'color:rgba(253,10,253,0.2299652934074402)'>_be</span><span style = 'color:rgba(253,10,253,0.2299652934074402)'>_no</span><span style = 'color:rgba(253,10,253,0.22908978164196014)'>_questions</span><span style = 'color:rgba(253,10,253,0.22908978164196014)'>_of</span><span style = 'color:rgba(253,10,253,0.22908978164196014)'>_spoilers</span><span style = 'color:rgba(253,10,253,0.22908978164196014)'>_for</span><span style = 'color:rgba(253,10,253,0.2583731412887573)'>_this</span><span style = 'color:rgba(253,10,253,0.2410849541425705)'>_movie,</span><span style = 'color:rgba(253,10,253,0.22908978164196014)'>_the</span><span style = 'color:rgba(253,10,253,0.23429707288742066)'>_director</span><span style = 'color:rgba(253,10,253,0.24865743815898897)'>_beat</span><span style = 'color:rgba(253,10,253,0.22908978164196014)'>_us</span><span style = 'color:rgba(253,10,253,0.22908978164196014)'>_all</span><span style = 'color:rgba(253,10,253,0.2448931396007538)'>_too</span><span style = 'color:rgba(253,10,253,0.2299652934074402)'>_and</span><span style = 'color:rgba(253,10,253,0.2656614124774933)'>_spoiled</span><span style = 'color:rgba(253,10,253,0.32015634775161744)'>_this</span><span style = 'color:rgba(253,10,253,0.23429707288742066)'>_movie</span>"
      ],
      "text/plain": [
       "<IPython.core.display.HTML object>"
      ]
     },
     "metadata": {},
     "output_type": "display_data"
    },
    {
     "data": {
      "text/html": [
       "<span style = 'color:rgba(253,10,10,0.23624721467494966)'>_There</span><span style = 'color:rgba(253,10,10,0.2266313970088959)'>_can</span><span style = 'color:rgba(253,10,10,0.2266313970088959)'>_be</span><span style = 'color:rgba(253,10,10,0.2266313970088959)'>_no</span><span style = 'color:rgba(253,10,10,0.23067643344402314)'>_questions</span><span style = 'color:rgba(253,10,10,0.22926022112369537)'>_of</span><span style = 'color:rgba(253,10,10,0.26361296176910404)'>_spoilers</span><span style = 'color:rgba(253,10,10,0.2597158968448639)'>_for</span><span style = 'color:rgba(253,10,10,0.2266313970088959)'>_this</span><span style = 'color:rgba(253,10,10,0.2266313970088959)'>_movie,</span><span style = 'color:rgba(253,10,10,0.3512832045555115)'>_the</span><span style = 'color:rgba(253,10,10,0.2266313970088959)'>_director</span><span style = 'color:rgba(253,10,10,0.2266313970088959)'>_beat</span><span style = 'color:rgba(253,10,10,0.2403505086898804)'>_us</span><span style = 'color:rgba(253,10,10,0.269276773929596)'>_all</span><span style = 'color:rgba(253,10,10,0.2266313970088959)'>_too</span><span style = 'color:rgba(253,10,10,0.2266313970088959)'>_and</span><span style = 'color:rgba(253,10,10,0.2266313970088959)'>_spoiled</span><span style = 'color:rgba(253,10,10,0.2266313970088959)'>_this</span><span style = 'color:rgba(253,10,10,0.2266313970088959)'>_movie</span>"
      ],
      "text/plain": [
       "<IPython.core.display.HTML object>"
      ]
     },
     "metadata": {},
     "output_type": "display_data"
    },
    {
     "name": "stdout",
     "output_type": "stream",
     "text": [
      "label:0.0\t guess:0.0\n"
     ]
    },
    {
     "data": {
      "text/html": [
       "<span style = 'color:rgba(253,10,253,0.2314789026975632)'>_This</span><span style = 'color:rgba(253,10,253,0.23841901123523712)'>_film</span><span style = 'color:rgba(253,10,253,0.2314789026975632)'>_is</span><span style = 'color:rgba(253,10,253,0.24832079112529756)'>_not</span><span style = 'color:rgba(253,10,253,0.2314789026975632)'>_funny.</span><span style = 'color:rgba(253,10,253,0.2314789026975632)'>_It</span><span style = 'color:rgba(253,10,253,0.2314789026975632)'>_is</span><span style = 'color:rgba(253,10,253,0.24832079112529756)'>_not</span><span style = 'color:rgba(253,10,253,0.2314789026975632)'>_entertaining.</span><span style = 'color:rgba(253,10,253,0.2314789026975632)'>_It</span><span style = 'color:rgba(253,10,253,0.24494745731353762)'>_does</span><span style = 'color:rgba(253,10,253,0.24832079112529756)'>_not</span><span style = 'color:rgba(253,10,253,0.2438833236694336)'>_contain</span><span style = 'color:rgba(253,10,253,0.23219044506549835)'>_one</span><span style = 'color:rgba(253,10,253,0.2605774223804474)'>_single</span><span style = 'color:rgba(253,10,253,0.2314789026975632)'>_second</span><span style = 'color:rgba(253,10,253,0.2314789026975632)'>_of</span><span style = 'color:rgba(253,10,253,0.23187881112098696)'>_originality</span><span style = 'color:rgba(253,10,253,0.28740469813346864)'>_or</span><span style = 'color:rgba(253,10,253,0.23242631852626802)'>_intelligence,</span>"
      ],
      "text/plain": [
       "<IPython.core.display.HTML object>"
      ]
     },
     "metadata": {},
     "output_type": "display_data"
    },
    {
     "data": {
      "text/html": [
       "<span style = 'color:rgba(253,10,10,0.2358261525630951)'>_This</span><span style = 'color:rgba(253,10,10,0.22903102934360506)'>_film</span><span style = 'color:rgba(253,10,10,0.2561592161655426)'>_is</span><span style = 'color:rgba(253,10,10,0.22903102934360506)'>_not</span><span style = 'color:rgba(253,10,10,0.232688182592392)'>_funny.</span><span style = 'color:rgba(253,10,10,0.23882917463779452)'>_It</span><span style = 'color:rgba(253,10,10,0.2561592161655426)'>_is</span><span style = 'color:rgba(253,10,10,0.22903102934360506)'>_not</span><span style = 'color:rgba(253,10,10,0.28929941654205327)'>_entertaining.</span><span style = 'color:rgba(253,10,10,0.23882917463779452)'>_It</span><span style = 'color:rgba(253,10,10,0.22903102934360506)'>_does</span><span style = 'color:rgba(253,10,10,0.22903102934360506)'>_not</span><span style = 'color:rgba(253,10,10,0.22903102934360506)'>_contain</span><span style = 'color:rgba(253,10,10,0.22903102934360506)'>_one</span><span style = 'color:rgba(253,10,10,0.22903102934360506)'>_single</span><span style = 'color:rgba(253,10,10,0.23192050755023957)'>_second</span><span style = 'color:rgba(253,10,10,0.300947654247284)'>_of</span><span style = 'color:rgba(253,10,10,0.22903102934360506)'>_originality</span><span style = 'color:rgba(253,10,10,0.22903102934360506)'>_or</span><span style = 'color:rgba(253,10,10,0.22903102934360506)'>_intelligence,</span>"
      ],
      "text/plain": [
       "<IPython.core.display.HTML object>"
      ]
     },
     "metadata": {},
     "output_type": "display_data"
    },
    {
     "name": "stdout",
     "output_type": "stream",
     "text": [
      "label:0.0\t guess:0.0\n"
     ]
    },
    {
     "data": {
      "text/html": [
       "<span style = 'color:rgba(253,10,253,0.22457152754068377)'>_***</span><span style = 'color:rgba(253,10,253,0.2492471605539322)'>_THIS</span><span style = 'color:rgba(253,10,253,0.22834687232971193)'>_CONTAINS</span><span style = 'color:rgba(253,10,253,0.22531105279922486)'>_MANY,</span><span style = 'color:rgba(253,10,253,0.42933125495910646)'>_MANY</span><span style = 'color:rgba(253,10,253,0.22531105279922486)'>_SPOILERS,</span><span style = 'color:rgba(253,10,253,0.22457152754068377)'>_NOT</span><span style = 'color:rgba(253,10,253,0.22457152754068377)'>_THAT</span><span style = 'color:rgba(253,10,253,0.26950085759162906)'>_IT</span><span style = 'color:rgba(253,10,253,0.22457152754068377)'>_MATTERS,</span><span style = 'color:rgba(253,10,253,0.22457152754068377)'>_SINCE</span><span style = 'color:rgba(253,10,253,0.22897001802921296)'>_EVERYTHING</span><span style = 'color:rgba(253,10,253,0.22531105279922486)'>_IS</span><span style = 'color:rgba(253,10,253,0.23004497289657594)'>_SO</span><span style = 'color:rgba(253,10,253,0.22457152754068377)'>_PATENTLY</span><span style = 'color:rgba(253,10,253,0.23244715929031373)'>_OBVIOUS</span><span style = 'color:rgba(253,10,253,0.22457152754068377)'>_***<br</span><span style = 'color:rgba(253,10,253,0.22667369842529297)'>_/><br</span><span style = 'color:rgba(253,10,253,0.23219315111637118)'>_/>Oh</span><span style = 'color:rgba(253,10,253,0.22531105279922486)'>_my</span>"
      ],
      "text/plain": [
       "<IPython.core.display.HTML object>"
      ]
     },
     "metadata": {},
     "output_type": "display_data"
    },
    {
     "data": {
      "text/html": [
       "<span style = 'color:rgba(253,10,10,0.24419155120849612)'>_***</span><span style = 'color:rgba(253,10,10,0.2288008749485016)'>_THIS</span><span style = 'color:rgba(253,10,10,0.2288008749485016)'>_CONTAINS</span><span style = 'color:rgba(253,10,10,0.2288008749485016)'>_MANY,</span><span style = 'color:rgba(253,10,10,0.2288008749485016)'>_MANY</span><span style = 'color:rgba(253,10,10,0.2288008749485016)'>_SPOILERS,</span><span style = 'color:rgba(253,10,10,0.24370576441287994)'>_NOT</span><span style = 'color:rgba(253,10,10,0.2539403557777405)'>_THAT</span><span style = 'color:rgba(253,10,10,0.2288008749485016)'>_IT</span><span style = 'color:rgba(253,10,10,0.25571399331092837)'>_MATTERS,</span><span style = 'color:rgba(253,10,10,0.2805033683776856)'>_SINCE</span><span style = 'color:rgba(253,10,10,0.2288008749485016)'>_EVERYTHING</span><span style = 'color:rgba(253,10,10,0.2288008749485016)'>_IS</span><span style = 'color:rgba(253,10,10,0.2288008749485016)'>_SO</span><span style = 'color:rgba(253,10,10,0.3001473546028137)'>_PATENTLY</span><span style = 'color:rgba(253,10,10,0.2288008749485016)'>_OBVIOUS</span><span style = 'color:rgba(253,10,10,0.24738621413707734)'>_***<br</span><span style = 'color:rgba(253,10,10,0.2288008749485016)'>_/><br</span><span style = 'color:rgba(253,10,10,0.2288008749485016)'>_/>Oh</span><span style = 'color:rgba(253,10,10,0.2288008749485016)'>_my</span>"
      ],
      "text/plain": [
       "<IPython.core.display.HTML object>"
      ]
     },
     "metadata": {},
     "output_type": "display_data"
    },
    {
     "name": "stdout",
     "output_type": "stream",
     "text": [
      "label:0.0\t guess:0.0\n"
     ]
    },
    {
     "data": {
      "text/html": [
       "<span style = 'color:rgba(253,10,253,0.22241147607564926)'>_How</span><span style = 'color:rgba(253,10,253,0.27491350173950196)'>_they</span><span style = 'color:rgba(253,10,253,0.22241147607564926)'>_got</span><span style = 'color:rgba(253,10,253,0.24106939136981964)'>_Al</span><span style = 'color:rgba(253,10,253,0.22308599054813386)'>_Pacino</span><span style = 'color:rgba(253,10,253,0.22308599054813386)'>_to</span><span style = 'color:rgba(253,10,253,0.22241147607564926)'>_play</span><span style = 'color:rgba(253,10,253,0.2612719774246216)'>_in</span><span style = 'color:rgba(253,10,253,0.2549107313156128)'>_this</span><span style = 'color:rgba(253,10,253,0.2258549362421036)'>_movie</span><span style = 'color:rgba(253,10,253,0.30871247053146367)'>_is</span><span style = 'color:rgba(253,10,253,0.22308599054813386)'>_beyond</span><span style = 'color:rgba(253,10,253,0.22241147607564926)'>_me.</span><span style = 'color:rgba(253,10,253,0.22241147607564926)'>_This</span><span style = 'color:rgba(253,10,253,0.2258549362421036)'>_movie</span><span style = 'color:rgba(253,10,253,0.25908362865448)'>_is</span><span style = 'color:rgba(253,10,253,0.2898937344551087)'>_absolutely</span><span style = 'color:rgba(253,10,253,0.22241147607564926)'>_terrible.</span><span style = 'color:rgba(253,10,253,0.22534477114677431)'>_I</span><span style = 'color:rgba(253,10,253,0.22936309576034547)'>_discovered,</span>"
      ],
      "text/plain": [
       "<IPython.core.display.HTML object>"
      ]
     },
     "metadata": {},
     "output_type": "display_data"
    },
    {
     "data": {
      "text/html": [
       "<span style = 'color:rgba(253,10,10,0.24297907650470735)'>_How</span><span style = 'color:rgba(253,10,10,0.23226597607135774)'>_they</span><span style = 'color:rgba(253,10,10,0.3004688024520874)'>_got</span><span style = 'color:rgba(253,10,10,0.23226597607135774)'>_Al</span><span style = 'color:rgba(253,10,10,0.23226597607135774)'>_Pacino</span><span style = 'color:rgba(253,10,10,0.23226597607135774)'>_to</span><span style = 'color:rgba(253,10,10,0.24297907650470735)'>_play</span><span style = 'color:rgba(253,10,10,0.23226597607135774)'>_in</span><span style = 'color:rgba(253,10,10,0.23226597607135774)'>_this</span><span style = 'color:rgba(253,10,10,0.23226597607135774)'>_movie</span><span style = 'color:rgba(253,10,10,0.23226597607135774)'>_is</span><span style = 'color:rgba(253,10,10,0.23226597607135774)'>_beyond</span><span style = 'color:rgba(253,10,10,0.24297907650470735)'>_me.</span><span style = 'color:rgba(253,10,10,0.2730682730674744)'>_This</span><span style = 'color:rgba(253,10,10,0.23226597607135774)'>_movie</span><span style = 'color:rgba(253,10,10,0.23226597607135774)'>_is</span><span style = 'color:rgba(253,10,10,0.23226597607135774)'>_absolutely</span><span style = 'color:rgba(253,10,10,0.24580205976963043)'>_terrible.</span><span style = 'color:rgba(253,10,10,0.23226597607135774)'>_I</span><span style = 'color:rgba(253,10,10,0.23226597607135774)'>_discovered,</span>"
      ],
      "text/plain": [
       "<IPython.core.display.HTML object>"
      ]
     },
     "metadata": {},
     "output_type": "display_data"
    },
    {
     "name": "stdout",
     "output_type": "stream",
     "text": [
      "label:1.0\t guess:1.0\n"
     ]
    },
    {
     "data": {
      "text/html": [
       "<span style = 'color:rgba(253,10,253,0.23200406432151796)'>_Very</span><span style = 'color:rgba(253,10,253,0.23200406432151796)'>_good</span><span style = 'color:rgba(253,10,253,0.23200406432151796)'>_drama</span><span style = 'color:rgba(253,10,253,0.24538644254207612)'>_about</span><span style = 'color:rgba(253,10,253,0.23692139685153962)'>_a</span><span style = 'color:rgba(253,10,253,0.2509772598743439)'>_young</span><span style = 'color:rgba(253,10,253,0.2559238433837891)'>_girl</span><span style = 'color:rgba(253,10,253,0.23200406432151796)'>_who</span><span style = 'color:rgba(253,10,253,0.2751859247684479)'>_attempts</span><span style = 'color:rgba(253,10,253,0.23773303329944612)'>_to</span><span style = 'color:rgba(253,10,253,0.2329672873020172)'>_unravel</span><span style = 'color:rgba(253,10,253,0.23692139685153962)'>_a</span><span style = 'color:rgba(253,10,253,0.27304902076721194)'>_series</span><span style = 'color:rgba(253,10,253,0.23200406432151796)'>_of</span><span style = 'color:rgba(253,10,253,0.23200406432151796)'>_horrible</span><span style = 'color:rgba(253,10,253,0.2329672873020172)'>_crimes.</span><span style = 'color:rgba(253,10,253,0.23200406432151796)'>_She</span><span style = 'color:rgba(253,10,253,0.2329672873020172)'>_enlists</span><span style = 'color:rgba(253,10,253,0.23200406432151796)'>_the</span><span style = 'color:rgba(253,10,253,0.2329672873020172)'>_aid</span>"
      ],
      "text/plain": [
       "<IPython.core.display.HTML object>"
      ]
     },
     "metadata": {},
     "output_type": "display_data"
    },
    {
     "data": {
      "text/html": [
       "<span style = 'color:rgba(253,10,10,0.3018797278404236)'>_Very</span><span style = 'color:rgba(253,10,10,0.2530775904655457)'>_good</span><span style = 'color:rgba(253,10,10,0.2393837034702301)'>_drama</span><span style = 'color:rgba(253,10,10,0.22341111898422242)'>_about</span><span style = 'color:rgba(253,10,10,0.22341111898422242)'>_a</span><span style = 'color:rgba(253,10,10,0.22341111898422242)'>_young</span><span style = 'color:rgba(253,10,10,0.22341111898422242)'>_girl</span><span style = 'color:rgba(253,10,10,0.2291167050600052)'>_who</span><span style = 'color:rgba(253,10,10,0.22341111898422242)'>_attempts</span><span style = 'color:rgba(253,10,10,0.22341111898422242)'>_to</span><span style = 'color:rgba(253,10,10,0.22341111898422242)'>_unravel</span><span style = 'color:rgba(253,10,10,0.22341111898422242)'>_a</span><span style = 'color:rgba(253,10,10,0.22341111898422242)'>_series</span><span style = 'color:rgba(253,10,10,0.281405907869339)'>_of</span><span style = 'color:rgba(253,10,10,0.3540247082710266)'>_horrible</span><span style = 'color:rgba(253,10,10,0.22341111898422242)'>_crimes.</span><span style = 'color:rgba(253,10,10,0.2316341131925583)'>_She</span><span style = 'color:rgba(253,10,10,0.22341111898422242)'>_enlists</span><span style = 'color:rgba(253,10,10,0.228544095158577)'>_the</span><span style = 'color:rgba(253,10,10,0.22341111898422242)'>_aid</span>"
      ],
      "text/plain": [
       "<IPython.core.display.HTML object>"
      ]
     },
     "metadata": {},
     "output_type": "display_data"
    },
    {
     "name": "stdout",
     "output_type": "stream",
     "text": [
      "label:0.0\t guess:0.0\n"
     ]
    },
    {
     "data": {
      "text/html": [
       "<span style = 'color:rgba(253,10,253,0.2366450309753418)'>_\"Three</span><span style = 'color:rgba(253,10,253,0.2366450309753418)'>_Daring</span><span style = 'color:rgba(253,10,253,0.2366450309753418)'>_Daughters\"</span><span style = 'color:rgba(253,10,253,0.23557435274124147)'>_is</span><span style = 'color:rgba(253,10,253,0.2410402536392212)'>_a</span><span style = 'color:rgba(253,10,253,0.2366450309753418)'>_sickly</span><span style = 'color:rgba(253,10,253,0.27929809093475344)'>_sweet,</span><span style = 'color:rgba(253,10,253,0.2366450309753418)'>_rose-colored</span><span style = 'color:rgba(253,10,253,0.23557435274124147)'>_look</span><span style = 'color:rgba(253,10,253,0.23557435274124147)'>_at</span><span style = 'color:rgba(253,10,253,0.2366450309753418)'>_divorce,</span><span style = 'color:rgba(253,10,253,0.2366450309753418)'>_remarriage,</span><span style = 'color:rgba(253,10,253,0.23557435274124147)'>_and</span><span style = 'color:rgba(253,10,253,0.2366450309753418)'>_single-parent</span><span style = 'color:rgba(253,10,253,0.2366450309753418)'>_living.</span><span style = 'color:rgba(253,10,253,0.2366450309753418)'>_Obviously,</span><span style = 'color:rgba(253,10,253,0.23557435274124147)'>_social</span><span style = 'color:rgba(253,10,253,0.26312023401260376)'>_issues</span><span style = 'color:rgba(253,10,253,0.23557435274124147)'>_and</span><span style = 'color:rgba(253,10,253,0.2366450309753418)'>_economic</span>"
      ],
      "text/plain": [
       "<IPython.core.display.HTML object>"
      ]
     },
     "metadata": {},
     "output_type": "display_data"
    },
    {
     "data": {
      "text/html": [
       "<span style = 'color:rgba(253,10,10,0.22852132320404053)'>_\"Three</span><span style = 'color:rgba(253,10,10,0.22852132320404053)'>_Daring</span><span style = 'color:rgba(253,10,10,0.22852132320404053)'>_Daughters\"</span><span style = 'color:rgba(253,10,10,0.25517321825027467)'>_is</span><span style = 'color:rgba(253,10,10,0.22852132320404053)'>_a</span><span style = 'color:rgba(253,10,10,0.22852132320404053)'>_sickly</span><span style = 'color:rgba(253,10,10,0.22852132320404053)'>_sweet,</span><span style = 'color:rgba(253,10,10,0.22852132320404053)'>_rose-colored</span><span style = 'color:rgba(253,10,10,0.2741930902004242)'>_look</span><span style = 'color:rgba(253,10,10,0.23116472363471985)'>_at</span><span style = 'color:rgba(253,10,10,0.22852132320404053)'>_divorce,</span><span style = 'color:rgba(253,10,10,0.22852132320404053)'>_remarriage,</span><span style = 'color:rgba(253,10,10,0.263953709602356)'>_and</span><span style = 'color:rgba(253,10,10,0.22852132320404053)'>_single-parent</span><span style = 'color:rgba(253,10,10,0.22852132320404053)'>_living.</span><span style = 'color:rgba(253,10,10,0.22852132320404053)'>_Obviously,</span><span style = 'color:rgba(253,10,10,0.31226298809051517)'>_social</span><span style = 'color:rgba(253,10,10,0.22852132320404053)'>_issues</span><span style = 'color:rgba(253,10,10,0.263953709602356)'>_and</span><span style = 'color:rgba(253,10,10,0.22852132320404053)'>_economic</span>"
      ],
      "text/plain": [
       "<IPython.core.display.HTML object>"
      ]
     },
     "metadata": {},
     "output_type": "display_data"
    },
    {
     "name": "stdout",
     "output_type": "stream",
     "text": [
      "label:0.0\t guess:0.0\n"
     ]
    },
    {
     "data": {
      "text/html": [
       "<span style = 'color:rgba(253,10,253,0.2328699678182602)'>_When</span><span style = 'color:rgba(253,10,253,0.24845284819602967)'>_I</span><span style = 'color:rgba(253,10,253,0.248981910943985)'>_was</span><span style = 'color:rgba(253,10,253,0.2319095879793167)'>_16</span><span style = 'color:rgba(253,10,253,0.2319095879793167)'>_I</span><span style = 'color:rgba(253,10,253,0.2319095879793167)'>_saw</span><span style = 'color:rgba(253,10,253,0.2328699678182602)'>_the</span><span style = 'color:rgba(253,10,253,0.2319095879793167)'>_documentary:</span><span style = 'color:rgba(253,10,253,0.2319095879793167)'>_\"A</span><span style = 'color:rgba(253,10,253,0.27298422455787663)'>_Funny</span><span style = 'color:rgba(253,10,253,0.2328699678182602)'>_Thing</span><span style = 'color:rgba(253,10,253,0.26829757094383244)'>_Happened</span><span style = 'color:rgba(253,10,253,0.2328699678182602)'>_on</span><span style = 'color:rgba(253,10,253,0.24145542681217194)'>_the</span><span style = 'color:rgba(253,10,253,0.2319095879793167)'>_Way</span><span style = 'color:rgba(253,10,253,0.2319095879793167)'>_to</span><span style = 'color:rgba(253,10,253,0.24041415154933932)'>_the</span><span style = 'color:rgba(253,10,253,0.2319095879793167)'>_Moon\".</span><span style = 'color:rgba(253,10,253,0.26074769496917727)'>_I</span><span style = 'color:rgba(253,10,253,0.2319095879793167)'>_actually</span>"
      ],
      "text/plain": [
       "<IPython.core.display.HTML object>"
      ]
     },
     "metadata": {},
     "output_type": "display_data"
    },
    {
     "data": {
      "text/html": [
       "<span style = 'color:rgba(253,10,10,0.23224742114543917)'>_When</span><span style = 'color:rgba(253,10,10,0.23224742114543917)'>_I</span><span style = 'color:rgba(253,10,10,0.23224742114543917)'>_was</span><span style = 'color:rgba(253,10,10,0.23301338553428652)'>_16</span><span style = 'color:rgba(253,10,10,0.2431841015815735)'>_I</span><span style = 'color:rgba(253,10,10,0.239317786693573)'>_saw</span><span style = 'color:rgba(253,10,10,0.23224742114543917)'>_the</span><span style = 'color:rgba(253,10,10,0.2412757158279419)'>_documentary:</span><span style = 'color:rgba(253,10,10,0.239317786693573)'>_\"A</span><span style = 'color:rgba(253,10,10,0.23224742114543917)'>_Funny</span><span style = 'color:rgba(253,10,10,0.23224742114543917)'>_Thing</span><span style = 'color:rgba(253,10,10,0.23224742114543917)'>_Happened</span><span style = 'color:rgba(253,10,10,0.23224742114543917)'>_on</span><span style = 'color:rgba(253,10,10,0.23224742114543917)'>_the</span><span style = 'color:rgba(253,10,10,0.3035796284675598)'>_Way</span><span style = 'color:rgba(253,10,10,0.2623811721801758)'>_to</span><span style = 'color:rgba(253,10,10,0.23224742114543917)'>_the</span><span style = 'color:rgba(253,10,10,0.239317786693573)'>_Moon\".</span><span style = 'color:rgba(253,10,10,0.23224742114543917)'>_I</span><span style = 'color:rgba(253,10,10,0.2438910186290741)'>_actually</span>"
      ],
      "text/plain": [
       "<IPython.core.display.HTML object>"
      ]
     },
     "metadata": {},
     "output_type": "display_data"
    },
    {
     "name": "stdout",
     "output_type": "stream",
     "text": [
      "label:0.0\t guess:0.0\n"
     ]
    },
    {
     "data": {
      "text/html": [
       "<span style = 'color:rgba(253,10,253,0.2204506039619446)'>_****</span><span style = 'color:rgba(253,10,253,0.22106610089540482)'>_WARNING:</span><span style = 'color:rgba(253,10,253,0.2204506039619446)'>_here</span><span style = 'color:rgba(253,10,253,0.2239681124687195)'>_be</span><span style = 'color:rgba(253,10,253,0.2204506039619446)'>_spoilers</span><span style = 'color:rgba(253,10,253,0.2204506039619446)'>_****</span><span style = 'color:rgba(253,10,253,0.3128944158554077)'>_Why</span><span style = 'color:rgba(253,10,253,0.22432414442300797)'>_do</span><span style = 'color:rgba(253,10,253,0.2204506039619446)'>_I</span><span style = 'color:rgba(253,10,253,0.4778911590576172)'>_waste</span><span style = 'color:rgba(253,10,253,0.2204506039619446)'>_my</span><span style = 'color:rgba(253,10,253,0.22106610089540482)'>_hastily</span><span style = 'color:rgba(253,10,253,0.22106610089540482)'>_fleeing</span><span style = 'color:rgba(253,10,253,0.2204506039619446)'>_years</span><span style = 'color:rgba(253,10,253,0.22838358879089357)'>_watching</span><span style = 'color:rgba(253,10,253,0.2204506039619446)'>_garbage</span><span style = 'color:rgba(253,10,253,0.22149640023708345)'>_like</span><span style = 'color:rgba(253,10,253,0.23882914483547213)'>_this?</span><span style = 'color:rgba(253,10,253,0.2204506039619446)'>_This</span><span style = 'color:rgba(253,10,253,0.2249593198299408)'>_film</span>"
      ],
      "text/plain": [
       "<IPython.core.display.HTML object>"
      ]
     },
     "metadata": {},
     "output_type": "display_data"
    },
    {
     "data": {
      "text/html": [
       "<span style = 'color:rgba(253,10,10,0.26244694590568546)'>_****</span><span style = 'color:rgba(253,10,10,0.22737988829612732)'>_WARNING:</span><span style = 'color:rgba(253,10,10,0.2282232314348221)'>_here</span><span style = 'color:rgba(253,10,10,0.22737988829612732)'>_be</span><span style = 'color:rgba(253,10,10,0.28094075918197636)'>_spoilers</span><span style = 'color:rgba(253,10,10,0.26244694590568546)'>_****</span><span style = 'color:rgba(253,10,10,0.22737988829612732)'>_Why</span><span style = 'color:rgba(253,10,10,0.22737988829612732)'>_do</span><span style = 'color:rgba(253,10,10,0.2364706873893738)'>_I</span><span style = 'color:rgba(253,10,10,0.22737988829612732)'>_waste</span><span style = 'color:rgba(253,10,10,0.25127902030944826)'>_my</span><span style = 'color:rgba(253,10,10,0.22737988829612732)'>_hastily</span><span style = 'color:rgba(253,10,10,0.22737988829612732)'>_fleeing</span><span style = 'color:rgba(253,10,10,0.2510466814041138)'>_years</span><span style = 'color:rgba(253,10,10,0.22737988829612732)'>_watching</span><span style = 'color:rgba(253,10,10,0.29217844605445864)'>_garbage</span><span style = 'color:rgba(253,10,10,0.22737988829612732)'>_like</span><span style = 'color:rgba(253,10,10,0.22737988829612732)'>_this?</span><span style = 'color:rgba(253,10,10,0.233788537979126)'>_This</span><span style = 'color:rgba(253,10,10,0.22737988829612732)'>_film</span>"
      ],
      "text/plain": [
       "<IPython.core.display.HTML object>"
      ]
     },
     "metadata": {},
     "output_type": "display_data"
    },
    {
     "name": "stdout",
     "output_type": "stream",
     "text": [
      "label:0.0\t guess:0.0\n"
     ]
    },
    {
     "data": {
      "text/html": [
       "<span style = 'color:rgba(253,10,253,0.23578582108020785)'>_A</span><span style = 'color:rgba(253,10,253,0.2286096751689911)'>_somewhat</span><span style = 'color:rgba(253,10,253,0.3880538582801819)'>_dull</span><span style = 'color:rgba(253,10,253,0.2316334664821625)'>_made</span><span style = 'color:rgba(253,10,253,0.23640538454055787)'>_for</span><span style = 'color:rgba(253,10,253,0.22947073578834534)'>_tv</span><span style = 'color:rgba(253,10,253,0.2286096751689911)'>_movie</span><span style = 'color:rgba(253,10,253,0.2297233819961548)'>_which</span><span style = 'color:rgba(253,10,253,0.22947073578834534)'>_premiered</span><span style = 'color:rgba(253,10,253,0.2286096751689911)'>_on</span><span style = 'color:rgba(253,10,253,0.2286096751689911)'>_the</span><span style = 'color:rgba(253,10,253,0.22947073578834534)'>_TBS</span><span style = 'color:rgba(253,10,253,0.2286096751689911)'>_cable</span><span style = 'color:rgba(253,10,253,0.22947073578834534)'>_station.</span><span style = 'color:rgba(253,10,253,0.22947073578834534)'>_Antonio</span><span style = 'color:rgba(253,10,253,0.2286096751689911)'>_and</span><span style = 'color:rgba(253,10,253,0.22947073578834534)'>_Janine</span><span style = 'color:rgba(253,10,253,0.2286096751689911)'>_run</span><span style = 'color:rgba(253,10,253,0.2286096751689911)'>_around</span><span style = 'color:rgba(253,10,253,0.2726962983608246)'>_chasing</span>"
      ],
      "text/plain": [
       "<IPython.core.display.HTML object>"
      ]
     },
     "metadata": {},
     "output_type": "display_data"
    },
    {
     "data": {
      "text/html": [
       "<span style = 'color:rgba(253,10,10,0.22867542505264282)'>_A</span><span style = 'color:rgba(253,10,10,0.2864281475543976)'>_somewhat</span><span style = 'color:rgba(253,10,10,0.22867542505264282)'>_dull</span><span style = 'color:rgba(253,10,10,0.22867542505264282)'>_made</span><span style = 'color:rgba(253,10,10,0.22867542505264282)'>_for</span><span style = 'color:rgba(253,10,10,0.22867542505264282)'>_tv</span><span style = 'color:rgba(253,10,10,0.2471798062324524)'>_movie</span><span style = 'color:rgba(253,10,10,0.22867542505264282)'>_which</span><span style = 'color:rgba(253,10,10,0.22867542505264282)'>_premiered</span><span style = 'color:rgba(253,10,10,0.2287555605173111)'>_on</span><span style = 'color:rgba(253,10,10,0.23496261835098267)'>_the</span><span style = 'color:rgba(253,10,10,0.22867542505264282)'>_TBS</span><span style = 'color:rgba(253,10,10,0.24668912887573244)'>_cable</span><span style = 'color:rgba(253,10,10,0.22867542505264282)'>_station.</span><span style = 'color:rgba(253,10,10,0.22867542505264282)'>_Antonio</span><span style = 'color:rgba(253,10,10,0.2642992496490479)'>_and</span><span style = 'color:rgba(253,10,10,0.22867542505264282)'>_Janine</span><span style = 'color:rgba(253,10,10,0.2682634770870209)'>_run</span><span style = 'color:rgba(253,10,10,0.2793168842792511)'>_around</span><span style = 'color:rgba(253,10,10,0.22867542505264282)'>_chasing</span>"
      ],
      "text/plain": [
       "<IPython.core.display.HTML object>"
      ]
     },
     "metadata": {},
     "output_type": "display_data"
    },
    {
     "name": "stdout",
     "output_type": "stream",
     "text": [
      "label:1.0\t guess:1.0\n"
     ]
    },
    {
     "data": {
      "text/html": [
       "<span style = 'color:rgba(253,10,253,0.23331509232521058)'>_I</span><span style = 'color:rgba(253,10,253,0.23431777358055117)'>_spotted</span><span style = 'color:rgba(253,10,253,0.24399319887161255)'>_this</span><span style = 'color:rgba(253,10,253,0.23331509232521058)'>_movie</span><span style = 'color:rgba(253,10,253,0.24364881217479706)'>_in</span><span style = 'color:rgba(253,10,253,0.23331509232521058)'>_the</span><span style = 'color:rgba(253,10,253,0.23331509232521058)'>_video</span><span style = 'color:rgba(253,10,253,0.25214883089065554)'>_store</span><span style = 'color:rgba(253,10,253,0.23843386173248293)'>_a</span><span style = 'color:rgba(253,10,253,0.24200851321220399)'>_few</span><span style = 'color:rgba(253,10,253,0.23331509232521058)'>_years</span><span style = 'color:rgba(253,10,253,0.23377047181129457)'>_ago</span><span style = 'color:rgba(253,10,253,0.23331509232521058)'>_and</span><span style = 'color:rgba(253,10,253,0.2755521416664124)'>_rented</span><span style = 'color:rgba(253,10,253,0.26966041326522827)'>_it.</span><span style = 'color:rgba(253,10,253,0.23331509232521058)'>_My</span><span style = 'color:rgba(253,10,253,0.23331509232521058)'>_husband</span><span style = 'color:rgba(253,10,253,0.23331509232521058)'>_and</span><span style = 'color:rgba(253,10,253,0.23331509232521058)'>_I</span><span style = 'color:rgba(253,10,253,0.23331509232521058)'>_enjoyed</span>"
      ],
      "text/plain": [
       "<IPython.core.display.HTML object>"
      ]
     },
     "metadata": {},
     "output_type": "display_data"
    },
    {
     "data": {
      "text/html": [
       "<span style = 'color:rgba(253,10,10,0.2312323421239853)'>_I</span><span style = 'color:rgba(253,10,10,0.2234472692012787)'>_spotted</span><span style = 'color:rgba(253,10,10,0.2234472692012787)'>_this</span><span style = 'color:rgba(253,10,10,0.2385778993368149)'>_movie</span><span style = 'color:rgba(253,10,10,0.2234472692012787)'>_in</span><span style = 'color:rgba(253,10,10,0.2285881727933884)'>_the</span><span style = 'color:rgba(253,10,10,0.22575223445892334)'>_video</span><span style = 'color:rgba(253,10,10,0.2234472692012787)'>_store</span><span style = 'color:rgba(253,10,10,0.2234472692012787)'>_a</span><span style = 'color:rgba(253,10,10,0.2234472692012787)'>_few</span><span style = 'color:rgba(253,10,10,0.24371475875377657)'>_years</span><span style = 'color:rgba(253,10,10,0.2234472692012787)'>_ago</span><span style = 'color:rgba(253,10,10,0.25257609486579896)'>_and</span><span style = 'color:rgba(253,10,10,0.2234472692012787)'>_rented</span><span style = 'color:rgba(253,10,10,0.2234472692012787)'>_it.</span><span style = 'color:rgba(253,10,10,0.25017063617706303)'>_My</span><span style = 'color:rgba(253,10,10,0.22869538366794587)'>_husband</span><span style = 'color:rgba(253,10,10,0.25257609486579896)'>_and</span><span style = 'color:rgba(253,10,10,0.2312323421239853)'>_I</span><span style = 'color:rgba(253,10,10,0.4058586120605469)'>_enjoyed</span>"
      ],
      "text/plain": [
       "<IPython.core.display.HTML object>"
      ]
     },
     "metadata": {},
     "output_type": "display_data"
    },
    {
     "name": "stdout",
     "output_type": "stream",
     "text": [
      "label:0.0\t guess:0.0\n"
     ]
    },
    {
     "data": {
      "text/html": [
       "<span style = 'color:rgba(253,10,253,0.24802032709121705)'>_There</span><span style = 'color:rgba(253,10,253,0.23124600648880006)'>_are</span><span style = 'color:rgba(253,10,253,0.23298791646957398)'>_a</span><span style = 'color:rgba(253,10,253,0.2285944551229477)'>_number</span><span style = 'color:rgba(253,10,253,0.2285944551229477)'>_of</span><span style = 'color:rgba(253,10,253,0.2404799669981003)'>_problems</span><span style = 'color:rgba(253,10,253,0.2285944551229477)'>_with</span><span style = 'color:rgba(253,10,253,0.23775951266288758)'>_this</span><span style = 'color:rgba(253,10,253,0.2285944551229477)'>_movie,</span><span style = 'color:rgba(253,10,253,0.2285944551229477)'>_but</span><span style = 'color:rgba(253,10,253,0.2285944551229477)'>_the</span><span style = 'color:rgba(253,10,253,0.2623913109302521)'>_bottom</span><span style = 'color:rgba(253,10,253,0.2504046857357025)'>_line</span><span style = 'color:rgba(253,10,253,0.2285944551229477)'>_is</span><span style = 'color:rgba(253,10,253,0.23621546626091006)'>_that</span><span style = 'color:rgba(253,10,253,0.2285944551229477)'>_it</span><span style = 'color:rgba(253,10,253,0.2285944551229477)'>_tried</span><span style = 'color:rgba(253,10,253,0.23371308147907258)'>_to</span><span style = 'color:rgba(253,10,253,0.23401052355766297)'>_do</span><span style = 'color:rgba(253,10,253,0.3354210734367371)'>_too</span>"
      ],
      "text/plain": [
       "<IPython.core.display.HTML object>"
      ]
     },
     "metadata": {},
     "output_type": "display_data"
    },
    {
     "data": {
      "text/html": [
       "<span style = 'color:rgba(253,10,10,0.2296200305223465)'>_There</span><span style = 'color:rgba(253,10,10,0.2296200305223465)'>_are</span><span style = 'color:rgba(253,10,10,0.2296200305223465)'>_a</span><span style = 'color:rgba(253,10,10,0.26730746626853946)'>_number</span><span style = 'color:rgba(253,10,10,0.3029957413673401)'>_of</span><span style = 'color:rgba(253,10,10,0.2296200305223465)'>_problems</span><span style = 'color:rgba(253,10,10,0.24030444025993347)'>_with</span><span style = 'color:rgba(253,10,10,0.2296200305223465)'>_this</span><span style = 'color:rgba(253,10,10,0.23245974481105805)'>_movie,</span><span style = 'color:rgba(253,10,10,0.24494884312152865)'>_but</span><span style = 'color:rgba(253,10,10,0.2361143320798874)'>_the</span><span style = 'color:rgba(253,10,10,0.2296200305223465)'>_bottom</span><span style = 'color:rgba(253,10,10,0.2296200305223465)'>_line</span><span style = 'color:rgba(253,10,10,0.2572986125946045)'>_is</span><span style = 'color:rgba(253,10,10,0.2296200305223465)'>_that</span><span style = 'color:rgba(253,10,10,0.24487873017787934)'>_it</span><span style = 'color:rgba(253,10,10,0.24787181317806245)'>_tried</span><span style = 'color:rgba(253,10,10,0.2296200305223465)'>_to</span><span style = 'color:rgba(253,10,10,0.2296200305223465)'>_do</span><span style = 'color:rgba(253,10,10,0.2296200305223465)'>_too</span>"
      ],
      "text/plain": [
       "<IPython.core.display.HTML object>"
      ]
     },
     "metadata": {},
     "output_type": "display_data"
    },
    {
     "name": "stdout",
     "output_type": "stream",
     "text": [
      "label:1.0\t guess:1.0\n"
     ]
    },
    {
     "data": {
      "text/html": [
       "<span style = 'color:rgba(253,10,253,0.2252323031425476)'>_This</span><span style = 'color:rgba(253,10,253,0.2505715072154999)'>_was</span><span style = 'color:rgba(253,10,253,0.22910917699337008)'>_a</span><span style = 'color:rgba(253,10,253,0.2252323031425476)'>_very</span><span style = 'color:rgba(253,10,253,0.2252323031425476)'>_good</span><span style = 'color:rgba(253,10,253,0.32876890897750854)'>_film.</span><span style = 'color:rgba(253,10,253,0.2252323031425476)'>_I</span><span style = 'color:rgba(253,10,253,0.2482218384742737)'>_didn't</span><span style = 'color:rgba(253,10,253,0.23481846153736116)'>_go</span><span style = 'color:rgba(253,10,253,0.22809407711029053)'>_into</span><span style = 'color:rgba(253,10,253,0.2252323031425476)'>_it</span><span style = 'color:rgba(253,10,253,0.2252323031425476)'>_with</span><span style = 'color:rgba(253,10,253,0.2252323031425476)'>_very</span><span style = 'color:rgba(253,10,253,0.2252323031425476)'>_high</span><span style = 'color:rgba(253,10,253,0.24051082134246826)'>_expectations</span><span style = 'color:rgba(253,10,253,0.2252323031425476)'>_and</span><span style = 'color:rgba(253,10,253,0.2505715072154999)'>_was</span><span style = 'color:rgba(253,10,253,0.31177834272384647)'>_pleasantly</span><span style = 'color:rgba(253,10,253,0.2252323031425476)'>_surprised</span><span style = 'color:rgba(253,10,253,0.2252323031425476)'>_by</span>"
      ],
      "text/plain": [
       "<IPython.core.display.HTML object>"
      ]
     },
     "metadata": {},
     "output_type": "display_data"
    },
    {
     "data": {
      "text/html": [
       "<span style = 'color:rgba(253,10,10,0.23125812113285066)'>_This</span><span style = 'color:rgba(253,10,10,0.22532941699028017)'>_was</span><span style = 'color:rgba(253,10,10,0.22532941699028017)'>_a</span><span style = 'color:rgba(253,10,10,0.26460835933685306)'>_very</span><span style = 'color:rgba(253,10,10,0.2574267446994782)'>_good</span><span style = 'color:rgba(253,10,10,0.22532941699028017)'>_film.</span><span style = 'color:rgba(253,10,10,0.23373940885066988)'>_I</span><span style = 'color:rgba(253,10,10,0.22532941699028017)'>_didn't</span><span style = 'color:rgba(253,10,10,0.22532941699028017)'>_go</span><span style = 'color:rgba(253,10,10,0.22532941699028017)'>_into</span><span style = 'color:rgba(253,10,10,0.23837781548500062)'>_it</span><span style = 'color:rgba(253,10,10,0.23446613252162934)'>_with</span><span style = 'color:rgba(253,10,10,0.26460835933685306)'>_very</span><span style = 'color:rgba(253,10,10,0.3048336744308472)'>_high</span><span style = 'color:rgba(253,10,10,0.22532941699028017)'>_expectations</span><span style = 'color:rgba(253,10,10,0.2567964553833008)'>_and</span><span style = 'color:rgba(253,10,10,0.22532941699028017)'>_was</span><span style = 'color:rgba(253,10,10,0.22532941699028017)'>_pleasantly</span><span style = 'color:rgba(253,10,10,0.25842541456222534)'>_surprised</span><span style = 'color:rgba(253,10,10,0.22749474942684175)'>_by</span>"
      ],
      "text/plain": [
       "<IPython.core.display.HTML object>"
      ]
     },
     "metadata": {},
     "output_type": "display_data"
    },
    {
     "name": "stdout",
     "output_type": "stream",
     "text": [
      "label:0.0\t guess:0.0\n"
     ]
    },
    {
     "data": {
      "text/html": [
       "<span style = 'color:rgba(253,10,253,0.2494896322488785)'>_If</span><span style = 'color:rgba(253,10,253,0.2328469157218933)'>_my</span><span style = 'color:rgba(253,10,253,0.233835506439209)'>_memory</span><span style = 'color:rgba(253,10,253,0.23738493025302887)'>_is</span><span style = 'color:rgba(253,10,253,0.2328469157218933)'>_correct,</span><span style = 'color:rgba(253,10,253,0.233835506439209)'>_when</span><span style = 'color:rgba(253,10,253,0.2328469157218933)'>_this</span><span style = 'color:rgba(253,10,253,0.2328469157218933)'>_movie</span><span style = 'color:rgba(253,10,253,0.2860540568828583)'>_was</span><span style = 'color:rgba(253,10,253,0.2328469157218933)'>_released</span><span style = 'color:rgba(253,10,253,0.2328469157218933)'>_it</span><span style = 'color:rgba(253,10,253,0.2328469157218933)'>_came</span><span style = 'color:rgba(253,10,253,0.24303541481494906)'>_across</span><span style = 'color:rgba(253,10,253,0.243374964594841)'>_as</span><span style = 'color:rgba(253,10,253,0.233835506439209)'>_something</span><span style = 'color:rgba(253,10,253,0.2631149709224701)'>_of</span><span style = 'color:rgba(253,10,253,0.2328469157218933)'>_a</span><span style = 'color:rgba(253,10,253,0.2328469157218933)'>_comedy</span><span style = 'color:rgba(253,10,253,0.233835506439209)'>_-</span><span style = 'color:rgba(253,10,253,0.2465817391872406)'>_a</span>"
      ],
      "text/plain": [
       "<IPython.core.display.HTML object>"
      ]
     },
     "metadata": {},
     "output_type": "display_data"
    },
    {
     "data": {
      "text/html": [
       "<span style = 'color:rgba(253,10,10,0.23170713782310487)'>_If</span><span style = 'color:rgba(253,10,10,0.23943457305431368)'>_my</span><span style = 'color:rgba(253,10,10,0.23170713782310487)'>_memory</span><span style = 'color:rgba(253,10,10,0.23170713782310487)'>_is</span><span style = 'color:rgba(253,10,10,0.23865904808044436)'>_correct,</span><span style = 'color:rgba(253,10,10,0.23170713782310487)'>_when</span><span style = 'color:rgba(253,10,10,0.31025310754776003)'>_this</span><span style = 'color:rgba(253,10,10,0.23865904808044436)'>_movie</span><span style = 'color:rgba(253,10,10,0.23170713782310487)'>_was</span><span style = 'color:rgba(253,10,10,0.23943457305431368)'>_released</span><span style = 'color:rgba(253,10,10,0.24109787344932557)'>_it</span><span style = 'color:rgba(253,10,10,0.25173595547676086)'>_came</span><span style = 'color:rgba(253,10,10,0.23170713782310487)'>_across</span><span style = 'color:rgba(253,10,10,0.23170713782310487)'>_as</span><span style = 'color:rgba(253,10,10,0.23170713782310487)'>_something</span><span style = 'color:rgba(253,10,10,0.23170713782310487)'>_of</span><span style = 'color:rgba(253,10,10,0.23977937400341034)'>_a</span><span style = 'color:rgba(253,10,10,0.25216790437698366)'>_comedy</span><span style = 'color:rgba(253,10,10,0.23170713782310487)'>_-</span><span style = 'color:rgba(253,10,10,0.23170713782310487)'>_a</span>"
      ],
      "text/plain": [
       "<IPython.core.display.HTML object>"
      ]
     },
     "metadata": {},
     "output_type": "display_data"
    },
    {
     "name": "stdout",
     "output_type": "stream",
     "text": [
      "label:1.0\t guess:1.0\n"
     ]
    },
    {
     "data": {
      "text/html": [
       "<span style = 'color:rgba(253,10,253,0.23399580121040345)'>_What</span><span style = 'color:rgba(253,10,253,0.23399580121040345)'>_do</span><span style = 'color:rgba(253,10,253,0.23399580121040345)'>_I</span><span style = 'color:rgba(253,10,253,0.23399580121040345)'>_say</span><span style = 'color:rgba(253,10,253,0.23844529390335084)'>_about</span><span style = 'color:rgba(253,10,253,0.23921916484832764)'>_such</span><span style = 'color:rgba(253,10,253,0.23399580121040345)'>_an</span><span style = 'color:rgba(253,10,253,0.23501897156238558)'>_absolutely</span><span style = 'color:rgba(253,10,253,0.23399580121040345)'>_beautiful</span><span style = 'color:rgba(253,10,253,0.28190162777900696)'>_film?</span><span style = 'color:rgba(253,10,253,0.23399580121040345)'>_I</span><span style = 'color:rgba(253,10,253,0.24459576904773714)'>_saw</span><span style = 'color:rgba(253,10,253,0.23399580121040345)'>_this</span><span style = 'color:rgba(253,10,253,0.23399580121040345)'>_at</span><span style = 'color:rgba(253,10,253,0.23534508049488068)'>_the</span><span style = 'color:rgba(253,10,253,0.2400813102722168)'>_Atlanta,</span><span style = 'color:rgba(253,10,253,0.23984308540821075)'>_Georgia</span><span style = 'color:rgba(253,10,253,0.23739936649799348)'>_Dragoncon</span><span style = 'color:rgba(253,10,253,0.2638735413551331)'>_considering</span><span style = 'color:rgba(253,10,253,0.2383145809173584)'>_that</span>"
      ],
      "text/plain": [
       "<IPython.core.display.HTML object>"
      ]
     },
     "metadata": {},
     "output_type": "display_data"
    },
    {
     "data": {
      "text/html": [
       "<span style = 'color:rgba(253,10,10,0.2818551480770111)'>_What</span><span style = 'color:rgba(253,10,10,0.23816871643066406)'>_do</span><span style = 'color:rgba(253,10,10,0.24401867091655732)'>_I</span><span style = 'color:rgba(253,10,10,0.2730901420116425)'>_say</span><span style = 'color:rgba(253,10,10,0.22865466177463534)'>_about</span><span style = 'color:rgba(253,10,10,0.22865466177463534)'>_such</span><span style = 'color:rgba(253,10,10,0.23012419342994692)'>_an</span><span style = 'color:rgba(253,10,10,0.22865466177463534)'>_absolutely</span><span style = 'color:rgba(253,10,10,0.2642526924610138)'>_beautiful</span><span style = 'color:rgba(253,10,10,0.22865466177463534)'>_film?</span><span style = 'color:rgba(253,10,10,0.2754662215709687)'>_I</span><span style = 'color:rgba(253,10,10,0.22865466177463534)'>_saw</span><span style = 'color:rgba(253,10,10,0.23965422213077547)'>_this</span><span style = 'color:rgba(253,10,10,0.23816871643066406)'>_at</span><span style = 'color:rgba(253,10,10,0.22865466177463534)'>_the</span><span style = 'color:rgba(253,10,10,0.22865466177463534)'>_Atlanta,</span><span style = 'color:rgba(253,10,10,0.22865466177463534)'>_Georgia</span><span style = 'color:rgba(253,10,10,0.22865466177463534)'>_Dragoncon</span><span style = 'color:rgba(253,10,10,0.22865466177463534)'>_considering</span><span style = 'color:rgba(253,10,10,0.22865466177463534)'>_that</span>"
      ],
      "text/plain": [
       "<IPython.core.display.HTML object>"
      ]
     },
     "metadata": {},
     "output_type": "display_data"
    },
    {
     "name": "stdout",
     "output_type": "stream",
     "text": [
      "label:1.0\t guess:1.0\n"
     ]
    },
    {
     "data": {
      "text/html": [
       "<span style = 'color:rgba(253,10,253,0.2468078970909119)'>_A</span><span style = 'color:rgba(253,10,253,0.23742148876190186)'>_great</span><span style = 'color:rgba(253,10,253,0.23742148876190186)'>_ensemble</span><span style = 'color:rgba(253,10,253,0.23854776024818422)'>_cast!</span><span style = 'color:rgba(253,10,253,0.2468078970909119)'>_A</span><span style = 'color:rgba(253,10,253,0.23742148876190186)'>_fond</span><span style = 'color:rgba(253,10,253,0.23854776024818422)'>_remembrance</span><span style = 'color:rgba(253,10,253,0.23742148876190186)'>_of</span><span style = 'color:rgba(253,10,253,0.25273449420928956)'>_younger</span><span style = 'color:rgba(253,10,253,0.23854776024818422)'>_carefree</span><span style = 'color:rgba(253,10,253,0.23742148876190186)'>_days.</span><span style = 'color:rgba(253,10,253,0.23742148876190186)'>_This</span><span style = 'color:rgba(253,10,253,0.23742148876190186)'>_movie</span><span style = 'color:rgba(253,10,253,0.23742148876190186)'>_takes</span><span style = 'color:rgba(253,10,253,0.23742148876190186)'>_me</span><span style = 'color:rgba(253,10,253,0.23742148876190186)'>_back</span><span style = 'color:rgba(253,10,253,0.24412022531032562)'>_to</span><span style = 'color:rgba(253,10,253,0.23742148876190186)'>_when</span><span style = 'color:rgba(253,10,253,0.23742148876190186)'>_I</span><span style = 'color:rgba(253,10,253,0.24482828974723816)'>_went</span>"
      ],
      "text/plain": [
       "<IPython.core.display.HTML object>"
      ]
     },
     "metadata": {},
     "output_type": "display_data"
    },
    {
     "data": {
      "text/html": [
       "<span style = 'color:rgba(253,10,10,0.22147212475538255)'>_A</span><span style = 'color:rgba(253,10,10,0.3077313542366028)'>_great</span><span style = 'color:rgba(253,10,10,0.3102778553962708)'>_ensemble</span><span style = 'color:rgba(253,10,10,0.22147212475538255)'>_cast!</span><span style = 'color:rgba(253,10,10,0.22147212475538255)'>_A</span><span style = 'color:rgba(253,10,10,0.23687499463558198)'>_fond</span><span style = 'color:rgba(253,10,10,0.22147212475538255)'>_remembrance</span><span style = 'color:rgba(253,10,10,0.2746635675430298)'>_of</span><span style = 'color:rgba(253,10,10,0.22147212475538255)'>_younger</span><span style = 'color:rgba(253,10,10,0.22147212475538255)'>_carefree</span><span style = 'color:rgba(253,10,10,0.2735720813274384)'>_days.</span><span style = 'color:rgba(253,10,10,0.2264979749917984)'>_This</span><span style = 'color:rgba(253,10,10,0.23532818257808685)'>_movie</span><span style = 'color:rgba(253,10,10,0.23553150296211245)'>_takes</span><span style = 'color:rgba(253,10,10,0.22710104286670685)'>_me</span><span style = 'color:rgba(253,10,10,0.2340864896774292)'>_back</span><span style = 'color:rgba(253,10,10,0.22147212475538255)'>_to</span><span style = 'color:rgba(253,10,10,0.23795657455921174)'>_when</span><span style = 'color:rgba(253,10,10,0.22860139906406404)'>_I</span><span style = 'color:rgba(253,10,10,0.22147212475538255)'>_went</span>"
      ],
      "text/plain": [
       "<IPython.core.display.HTML object>"
      ]
     },
     "metadata": {},
     "output_type": "display_data"
    },
    {
     "name": "stdout",
     "output_type": "stream",
     "text": [
      "label:1.0\t guess:1.0\n"
     ]
    },
    {
     "data": {
      "text/html": [
       "<span style = 'color:rgba(253,10,253,0.22931850254535677)'>_I</span><span style = 'color:rgba(253,10,253,0.27985029816627505)'>_read</span><span style = 'color:rgba(253,10,253,0.22931850254535677)'>_nothing</span><span style = 'color:rgba(253,10,253,0.22931850254535677)'>_but</span><span style = 'color:rgba(253,10,253,0.22931850254535677)'>_good</span><span style = 'color:rgba(253,10,253,0.22931850254535677)'>_things</span><span style = 'color:rgba(253,10,253,0.24157792329788208)'>_about</span><span style = 'color:rgba(253,10,253,0.2387156277894974)'>_this</span><span style = 'color:rgba(253,10,253,0.22931850254535677)'>_movie</span><span style = 'color:rgba(253,10,253,0.22931850254535677)'>_and</span><span style = 'color:rgba(253,10,253,0.22931850254535677)'>_finally</span><span style = 'color:rgba(253,10,253,0.2718337416648865)'>_had</span><span style = 'color:rgba(253,10,253,0.2338232070207596)'>_a</span><span style = 'color:rgba(253,10,253,0.2906797766685486)'>_chance</span><span style = 'color:rgba(253,10,253,0.23456673920154572)'>_to</span><span style = 'color:rgba(253,10,253,0.22931850254535677)'>_watch</span><span style = 'color:rgba(253,10,253,0.22931850254535677)'>_it</span><span style = 'color:rgba(253,10,253,0.22931850254535677)'>_late</span><span style = 'color:rgba(253,10,253,0.2534060657024384)'>_last</span><span style = 'color:rgba(253,10,253,0.23304308354854586)'>_night</span>"
      ],
      "text/plain": [
       "<IPython.core.display.HTML object>"
      ]
     },
     "metadata": {},
     "output_type": "display_data"
    },
    {
     "data": {
      "text/html": [
       "<span style = 'color:rgba(253,10,10,0.2333324044942856)'>_I</span><span style = 'color:rgba(253,10,10,0.22502386271953584)'>_read</span><span style = 'color:rgba(253,10,10,0.3098345756530762)'>_nothing</span><span style = 'color:rgba(253,10,10,0.23797408640384676)'>_but</span><span style = 'color:rgba(253,10,10,0.25673399567604066)'>_good</span><span style = 'color:rgba(253,10,10,0.27647964358329774)'>_things</span><span style = 'color:rgba(253,10,10,0.22502386271953584)'>_about</span><span style = 'color:rgba(253,10,10,0.22502386271953584)'>_this</span><span style = 'color:rgba(253,10,10,0.24117187559604647)'>_movie</span><span style = 'color:rgba(253,10,10,0.25611130595207215)'>_and</span><span style = 'color:rgba(253,10,10,0.24515849053859712)'>_finally</span><span style = 'color:rgba(253,10,10,0.22502386271953584)'>_had</span><span style = 'color:rgba(253,10,10,0.22502386271953584)'>_a</span><span style = 'color:rgba(253,10,10,0.22502386271953584)'>_chance</span><span style = 'color:rgba(253,10,10,0.22502386271953584)'>_to</span><span style = 'color:rgba(253,10,10,0.2530901074409485)'>_watch</span><span style = 'color:rgba(253,10,10,0.23791485726833345)'>_it</span><span style = 'color:rgba(253,10,10,0.22698389291763307)'>_late</span><span style = 'color:rgba(253,10,10,0.22502386271953584)'>_last</span><span style = 'color:rgba(253,10,10,0.22502386271953584)'>_night</span>"
      ],
      "text/plain": [
       "<IPython.core.display.HTML object>"
      ]
     },
     "metadata": {},
     "output_type": "display_data"
    },
    {
     "name": "stdout",
     "output_type": "stream",
     "text": [
      "label:1.0\t guess:1.0\n"
     ]
    },
    {
     "data": {
      "text/html": [
       "<span style = 'color:rgba(253,10,253,0.2272382140159607)'>_The</span><span style = 'color:rgba(253,10,253,0.228057998418808)'>_key</span><span style = 'color:rgba(253,10,253,0.2272382140159607)'>_to</span><span style = 'color:rgba(253,10,253,0.23103823065757753)'>_the</span><span style = 'color:rgba(253,10,253,0.2272382140159607)'>_joy</span><span style = 'color:rgba(253,10,253,0.228057998418808)'>_and</span><span style = 'color:rgba(253,10,253,0.2272382140159607)'>_beauty,</span><span style = 'color:rgba(253,10,253,0.2272382140159607)'>_the</span><span style = 'color:rgba(253,10,253,0.2272382140159607)'>_pain</span><span style = 'color:rgba(253,10,253,0.2430443823337555)'>_and</span><span style = 'color:rgba(253,10,253,0.3324674844741822)'>_sadness</span><span style = 'color:rgba(253,10,253,0.2321140617132187)'>_of</span><span style = 'color:rgba(253,10,253,0.2272382140159607)'>_life</span><span style = 'color:rgba(253,10,253,0.2344977617263794)'>_is</span><span style = 'color:rgba(253,10,253,0.2272382140159607)'>_our</span><span style = 'color:rgba(253,10,253,0.33141298294067384)'>_ability</span><span style = 'color:rgba(253,10,253,0.2272382140159607)'>_to</span><span style = 'color:rgba(253,10,253,0.23968871533870698)'>_accept</span><span style = 'color:rgba(253,10,253,0.2272382140159607)'>_that</span><span style = 'color:rgba(253,10,253,0.2272382140159607)'>_life</span>"
      ],
      "text/plain": [
       "<IPython.core.display.HTML object>"
      ]
     },
     "metadata": {},
     "output_type": "display_data"
    },
    {
     "data": {
      "text/html": [
       "<span style = 'color:rgba(253,10,10,0.2567556440830231)'>_The</span><span style = 'color:rgba(253,10,10,0.22531121373176577)'>_key</span><span style = 'color:rgba(253,10,10,0.23086079359054568)'>_to</span><span style = 'color:rgba(253,10,10,0.22531121373176577)'>_the</span><span style = 'color:rgba(253,10,10,0.2567556440830231)'>_joy</span><span style = 'color:rgba(253,10,10,0.22531121373176577)'>_and</span><span style = 'color:rgba(253,10,10,0.28801298737525943)'>_beauty,</span><span style = 'color:rgba(253,10,10,0.25715835690498356)'>_the</span><span style = 'color:rgba(253,10,10,0.24896340072155)'>_pain</span><span style = 'color:rgba(253,10,10,0.22531121373176577)'>_and</span><span style = 'color:rgba(253,10,10,0.22531121373176577)'>_sadness</span><span style = 'color:rgba(253,10,10,0.22531121373176577)'>_of</span><span style = 'color:rgba(253,10,10,0.2402568429708481)'>_life</span><span style = 'color:rgba(253,10,10,0.22531121373176577)'>_is</span><span style = 'color:rgba(253,10,10,0.25715835690498356)'>_our</span><span style = 'color:rgba(253,10,10,0.22531121373176577)'>_ability</span><span style = 'color:rgba(253,10,10,0.24896340072155)'>_to</span><span style = 'color:rgba(253,10,10,0.22531121373176577)'>_accept</span><span style = 'color:rgba(253,10,10,0.2383502393960953)'>_that</span><span style = 'color:rgba(253,10,10,0.24896340072155)'>_life</span>"
      ],
      "text/plain": [
       "<IPython.core.display.HTML object>"
      ]
     },
     "metadata": {},
     "output_type": "display_data"
    },
    {
     "name": "stdout",
     "output_type": "stream",
     "text": [
      "label:1.0\t guess:1.0\n"
     ]
    },
    {
     "data": {
      "text/html": [
       "<span style = 'color:rgba(253,10,253,0.2301681488752365)'>_If</span><span style = 'color:rgba(253,10,253,0.2301681488752365)'>_you</span><span style = 'color:rgba(253,10,253,0.2569258272647858)'>_would</span><span style = 'color:rgba(253,10,253,0.23171088099479675)'>_like</span><span style = 'color:rgba(253,10,253,0.23556847870349884)'>_to</span><span style = 'color:rgba(253,10,253,0.2883816063404083)'>_see</span><span style = 'color:rgba(253,10,253,0.23480340242385866)'>_a</span><span style = 'color:rgba(253,10,253,0.23681928515434267)'>_film</span><span style = 'color:rgba(253,10,253,0.2301681488752365)'>_of</span><span style = 'color:rgba(253,10,253,0.2301681488752365)'>_different</span><span style = 'color:rgba(253,10,253,0.231076118350029)'>_kind,</span><span style = 'color:rgba(253,10,253,0.2301681488752365)'>_if</span><span style = 'color:rgba(253,10,253,0.2301681488752365)'>_you</span><span style = 'color:rgba(253,10,253,0.23417899310588838)'>_feel</span><span style = 'color:rgba(253,10,253,0.2301681488752365)'>_the</span><span style = 'color:rgba(253,10,253,0.2581667482852936)'>_Love</span><span style = 'color:rgba(253,10,253,0.23952574431896212)'>_in</span><span style = 'color:rgba(253,10,253,0.23528821468353273)'>_your</span><span style = 'color:rgba(253,10,253,0.2301681488752365)'>_heart,</span><span style = 'color:rgba(253,10,253,0.2762095093727112)'>_even</span>"
      ],
      "text/plain": [
       "<IPython.core.display.HTML object>"
      ]
     },
     "metadata": {},
     "output_type": "display_data"
    },
    {
     "data": {
      "text/html": [
       "<span style = 'color:rgba(253,10,10,0.23728463053703308)'>_If</span><span style = 'color:rgba(253,10,10,0.2528637290000916)'>_you</span><span style = 'color:rgba(253,10,10,0.22779000997543336)'>_would</span><span style = 'color:rgba(253,10,10,0.22779000997543336)'>_like</span><span style = 'color:rgba(253,10,10,0.22779000997543336)'>_to</span><span style = 'color:rgba(253,10,10,0.22779000997543336)'>_see</span><span style = 'color:rgba(253,10,10,0.22779000997543336)'>_a</span><span style = 'color:rgba(253,10,10,0.22779000997543336)'>_film</span><span style = 'color:rgba(253,10,10,0.2966323375701905)'>_of</span><span style = 'color:rgba(253,10,10,0.2785595178604126)'>_different</span><span style = 'color:rgba(253,10,10,0.22779000997543336)'>_kind,</span><span style = 'color:rgba(253,10,10,0.23985500633716583)'>_if</span><span style = 'color:rgba(253,10,10,0.2528637290000916)'>_you</span><span style = 'color:rgba(253,10,10,0.22779000997543336)'>_feel</span><span style = 'color:rgba(253,10,10,0.233883073925972)'>_the</span><span style = 'color:rgba(253,10,10,0.22779000997543336)'>_Love</span><span style = 'color:rgba(253,10,10,0.22779000997543336)'>_in</span><span style = 'color:rgba(253,10,10,0.22779000997543336)'>_your</span><span style = 'color:rgba(253,10,10,0.2745778560638428)'>_heart,</span><span style = 'color:rgba(253,10,10,0.22779000997543336)'>_even</span>"
      ],
      "text/plain": [
       "<IPython.core.display.HTML object>"
      ]
     },
     "metadata": {},
     "output_type": "display_data"
    },
    {
     "name": "stdout",
     "output_type": "stream",
     "text": [
      "label:1.0\t guess:1.0\n"
     ]
    },
    {
     "data": {
      "text/html": [
       "<span style = 'color:rgba(253,10,253,0.23610365092754365)'>_I</span><span style = 'color:rgba(253,10,253,0.23610365092754365)'>_am</span><span style = 'color:rgba(253,10,253,0.23610365092754365)'>_curious</span><span style = 'color:rgba(253,10,253,0.23610365092754365)'>_of</span><span style = 'color:rgba(253,10,253,0.2526065230369568)'>_what</span><span style = 'color:rgba(253,10,253,0.23719026148319244)'>_rifle</span><span style = 'color:rgba(253,10,253,0.23719026148319244)'>_Beckett</span><span style = 'color:rgba(253,10,253,0.27236026525497437)'>_was</span><span style = 'color:rgba(253,10,253,0.23610365092754365)'>_using</span><span style = 'color:rgba(253,10,253,0.24730232656002046)'>_in</span><span style = 'color:rgba(253,10,253,0.23610365092754365)'>_the</span><span style = 'color:rgba(253,10,253,0.23610365092754365)'>_movie,</span><span style = 'color:rgba(253,10,253,0.23610365092754365)'>_and</span><span style = 'color:rgba(253,10,253,0.23610365092754365)'>_also</span><span style = 'color:rgba(253,10,253,0.23610365092754365)'>_the</span><span style = 'color:rgba(253,10,253,0.23719026148319244)'>_caliber</span><span style = 'color:rgba(253,10,253,0.23610365092754365)'>_of</span><span style = 'color:rgba(253,10,253,0.23610365092754365)'>_the</span><span style = 'color:rgba(253,10,253,0.23719026148319244)'>_bullet</span><span style = 'color:rgba(253,10,253,0.24572601914405823)'>_that</span>"
      ],
      "text/plain": [
       "<IPython.core.display.HTML object>"
      ]
     },
     "metadata": {},
     "output_type": "display_data"
    },
    {
     "data": {
      "text/html": [
       "<span style = 'color:rgba(253,10,10,0.23454295098781586)'>_I</span><span style = 'color:rgba(253,10,10,0.23983719944953918)'>_am</span><span style = 'color:rgba(253,10,10,0.2590966701507569)'>_curious</span><span style = 'color:rgba(253,10,10,0.2901739180088043)'>_of</span><span style = 'color:rgba(253,10,10,0.22593266665935519)'>_what</span><span style = 'color:rgba(253,10,10,0.22593266665935519)'>_rifle</span><span style = 'color:rgba(253,10,10,0.22593266665935519)'>_Beckett</span><span style = 'color:rgba(253,10,10,0.22593266665935519)'>_was</span><span style = 'color:rgba(253,10,10,0.2336095601320267)'>_using</span><span style = 'color:rgba(253,10,10,0.22593266665935519)'>_in</span><span style = 'color:rgba(253,10,10,0.23161849975585938)'>_the</span><span style = 'color:rgba(253,10,10,0.22841886878013612)'>_movie,</span><span style = 'color:rgba(253,10,10,0.258149129152298)'>_and</span><span style = 'color:rgba(253,10,10,0.26368094086647037)'>_also</span><span style = 'color:rgba(253,10,10,0.23161849975585938)'>_the</span><span style = 'color:rgba(253,10,10,0.22593266665935519)'>_caliber</span><span style = 'color:rgba(253,10,10,0.2901739180088043)'>_of</span><span style = 'color:rgba(253,10,10,0.23161849975585938)'>_the</span><span style = 'color:rgba(253,10,10,0.22593266665935519)'>_bullet</span><span style = 'color:rgba(253,10,10,0.22593266665935519)'>_that</span>"
      ],
      "text/plain": [
       "<IPython.core.display.HTML object>"
      ]
     },
     "metadata": {},
     "output_type": "display_data"
    },
    {
     "name": "stdout",
     "output_type": "stream",
     "text": [
      "label:1.0\t guess:1.0\n"
     ]
    },
    {
     "data": {
      "text/html": [
       "<span style = 'color:rgba(253,10,253,0.23076242208480835)'>_I</span><span style = 'color:rgba(253,10,253,0.236860454082489)'>_have</span><span style = 'color:rgba(253,10,253,0.23076242208480835)'>_only</span><span style = 'color:rgba(253,10,253,0.2859799861907959)'>_managed</span><span style = 'color:rgba(253,10,253,0.23626913130283356)'>_to</span><span style = 'color:rgba(253,10,253,0.2901226043701172)'>_see</span><span style = 'color:rgba(253,10,253,0.24062235057353976)'>_this</span><span style = 'color:rgba(253,10,253,0.23076242208480835)'>_classic</span><span style = 'color:rgba(253,10,253,0.23914472460746766)'>_for</span><span style = 'color:rgba(253,10,253,0.23076242208480835)'>_the</span><span style = 'color:rgba(253,10,253,0.23076242208480835)'>_first</span><span style = 'color:rgba(253,10,253,0.23134519159793854)'>_time</span><span style = 'color:rgba(253,10,253,0.23548898398876192)'>_a</span><span style = 'color:rgba(253,10,253,0.2387897312641144)'>_few</span><span style = 'color:rgba(253,10,253,0.23076242208480835)'>_weeks</span><span style = 'color:rgba(253,10,253,0.23076242208480835)'>_ago.</span><span style = 'color:rgba(253,10,253,0.2545012950897217)'>_Being</span><span style = 'color:rgba(253,10,253,0.2340137392282486)'>_made</span><span style = 'color:rgba(253,10,253,0.23076242208480835)'>_almost</span><span style = 'color:rgba(253,10,253,0.23076242208480835)'>_30</span>"
      ],
      "text/plain": [
       "<IPython.core.display.HTML object>"
      ]
     },
     "metadata": {},
     "output_type": "display_data"
    },
    {
     "data": {
      "text/html": [
       "<span style = 'color:rgba(253,10,10,0.2355361968278885)'>_I</span><span style = 'color:rgba(253,10,10,0.22667832970619203)'>_have</span><span style = 'color:rgba(253,10,10,0.241350132226944)'>_only</span><span style = 'color:rgba(253,10,10,0.22667832970619203)'>_managed</span><span style = 'color:rgba(253,10,10,0.22667832970619203)'>_to</span><span style = 'color:rgba(253,10,10,0.22667832970619203)'>_see</span><span style = 'color:rgba(253,10,10,0.22667832970619203)'>_this</span><span style = 'color:rgba(253,10,10,0.26108000278472904)'>_classic</span><span style = 'color:rgba(253,10,10,0.22667832970619203)'>_for</span><span style = 'color:rgba(253,10,10,0.2325276553630829)'>_the</span><span style = 'color:rgba(253,10,10,0.26501758694648747)'>_first</span><span style = 'color:rgba(253,10,10,0.22667832970619203)'>_time</span><span style = 'color:rgba(253,10,10,0.22667832970619203)'>_a</span><span style = 'color:rgba(253,10,10,0.22667832970619203)'>_few</span><span style = 'color:rgba(253,10,10,0.2586646139621735)'>_weeks</span><span style = 'color:rgba(253,10,10,0.2666190147399903)'>_ago.</span><span style = 'color:rgba(253,10,10,0.22667832970619203)'>_Being</span><span style = 'color:rgba(253,10,10,0.22667832970619203)'>_made</span><span style = 'color:rgba(253,10,10,0.23662470281124115)'>_almost</span><span style = 'color:rgba(253,10,10,0.30911843776702885)'>_30</span>"
      ],
      "text/plain": [
       "<IPython.core.display.HTML object>"
      ]
     },
     "metadata": {},
     "output_type": "display_data"
    },
    {
     "name": "stdout",
     "output_type": "stream",
     "text": [
      "label:0.0\t guess:0.0\n"
     ]
    },
    {
     "data": {
      "text/html": [
       "<span style = 'color:rgba(253,10,253,0.23371724784374237)'>_God,</span><span style = 'color:rgba(253,10,253,0.22307264953851702)'>_I</span><span style = 'color:rgba(253,10,253,0.24624305069446564)'>_was</span><span style = 'color:rgba(253,10,253,0.3202805399894715)'>_bored</span><span style = 'color:rgba(253,10,253,0.22504658997058868)'>_out</span><span style = 'color:rgba(253,10,253,0.22307264953851702)'>_of</span><span style = 'color:rgba(253,10,253,0.22307264953851702)'>_my</span><span style = 'color:rgba(253,10,253,0.24601284861564637)'>_head</span><span style = 'color:rgba(253,10,253,0.22307264953851702)'>_as</span><span style = 'color:rgba(253,10,253,0.22307264953851702)'>_I</span><span style = 'color:rgba(253,10,253,0.32164963483810427)'>_watched</span><span style = 'color:rgba(253,10,253,0.2304678648710251)'>_this</span><span style = 'color:rgba(253,10,253,0.22376706302165986)'>_pilot.</span><span style = 'color:rgba(253,10,253,0.22307264953851702)'>_I</span><span style = 'color:rgba(253,10,253,0.25653067827224735)'>_had</span><span style = 'color:rgba(253,10,253,0.23570211231708527)'>_been</span><span style = 'color:rgba(253,10,253,0.22307264953851702)'>_expecting</span><span style = 'color:rgba(253,10,253,0.2266176998615265)'>_a</span><span style = 'color:rgba(253,10,253,0.22307264953851702)'>_lot</span><span style = 'color:rgba(253,10,253,0.24938345551490784)'>_from</span>"
      ],
      "text/plain": [
       "<IPython.core.display.HTML object>"
      ]
     },
     "metadata": {},
     "output_type": "display_data"
    },
    {
     "data": {
      "text/html": [
       "<span style = 'color:rgba(253,10,10,0.2293073058128357)'>_God,</span><span style = 'color:rgba(253,10,10,0.23903805613517762)'>_I</span><span style = 'color:rgba(253,10,10,0.2293073058128357)'>_was</span><span style = 'color:rgba(253,10,10,0.2293073058128357)'>_bored</span><span style = 'color:rgba(253,10,10,0.2293073058128357)'>_out</span><span style = 'color:rgba(253,10,10,0.3019083261489868)'>_of</span><span style = 'color:rgba(253,10,10,0.25488882660865786)'>_my</span><span style = 'color:rgba(253,10,10,0.2293073058128357)'>_head</span><span style = 'color:rgba(253,10,10,0.25888949632644653)'>_as</span><span style = 'color:rgba(253,10,10,0.23903805613517762)'>_I</span><span style = 'color:rgba(253,10,10,0.2293073058128357)'>_watched</span><span style = 'color:rgba(253,10,10,0.2293073058128357)'>_this</span><span style = 'color:rgba(253,10,10,0.2293073058128357)'>_pilot.</span><span style = 'color:rgba(253,10,10,0.23903805613517762)'>_I</span><span style = 'color:rgba(253,10,10,0.2293073058128357)'>_had</span><span style = 'color:rgba(253,10,10,0.2293073058128357)'>_been</span><span style = 'color:rgba(253,10,10,0.2759510755538941)'>_expecting</span><span style = 'color:rgba(253,10,10,0.2293073058128357)'>_a</span><span style = 'color:rgba(253,10,10,0.2395604729652405)'>_lot</span><span style = 'color:rgba(253,10,10,0.2293073058128357)'>_from</span>"
      ],
      "text/plain": [
       "<IPython.core.display.HTML object>"
      ]
     },
     "metadata": {},
     "output_type": "display_data"
    },
    {
     "name": "stdout",
     "output_type": "stream",
     "text": [
      "label:0.0\t guess:0.0\n"
     ]
    },
    {
     "data": {
      "text/html": [
       "<span style = 'color:rgba(253,10,253,0.23134093880653384)'>_I</span><span style = 'color:rgba(253,10,253,0.23134093880653384)'>_bought</span><span style = 'color:rgba(253,10,253,0.2413862943649292)'>_this</span><span style = 'color:rgba(253,10,253,0.23134093880653384)'>_movie</span><span style = 'color:rgba(253,10,253,0.2570900976657868)'>_last</span><span style = 'color:rgba(253,10,253,0.23134093880653384)'>_weekend</span><span style = 'color:rgba(253,10,253,0.23134093880653384)'>_at</span><span style = 'color:rgba(253,10,253,0.23134093880653384)'>_my</span><span style = 'color:rgba(253,10,253,0.26794255375862125)'>_local</span><span style = 'color:rgba(253,10,253,0.23134093880653384)'>_Movie</span><span style = 'color:rgba(253,10,253,0.2322842061519623)'>_Gallery.</span><span style = 'color:rgba(253,10,253,0.23134093880653384)'>_It</span><span style = 'color:rgba(253,10,253,0.26281466484069826)'>_was</span><span style = 'color:rgba(253,10,253,0.23134093880653384)'>_buy</span><span style = 'color:rgba(253,10,253,0.2548682749271393)'>_2</span><span style = 'color:rgba(253,10,253,0.23134093880653384)'>_get</span><span style = 'color:rgba(253,10,253,0.2548682749271393)'>_2</span><span style = 'color:rgba(253,10,253,0.2526543378829956)'>_free</span><span style = 'color:rgba(253,10,253,0.23134093880653384)'>_and</span><span style = 'color:rgba(253,10,253,0.23134093880653384)'>_I</span>"
      ],
      "text/plain": [
       "<IPython.core.display.HTML object>"
      ]
     },
     "metadata": {},
     "output_type": "display_data"
    },
    {
     "data": {
      "text/html": [
       "<span style = 'color:rgba(253,10,10,0.23847319781780243)'>_I</span><span style = 'color:rgba(253,10,10,0.24215535223484042)'>_bought</span><span style = 'color:rgba(253,10,10,0.22888324558734896)'>_this</span><span style = 'color:rgba(253,10,10,0.24752173721790316)'>_movie</span><span style = 'color:rgba(253,10,10,0.22888324558734896)'>_last</span><span style = 'color:rgba(253,10,10,0.2701553583145142)'>_weekend</span><span style = 'color:rgba(253,10,10,0.23156018853187563)'>_at</span><span style = 'color:rgba(253,10,10,0.2540946185588837)'>_my</span><span style = 'color:rgba(253,10,10,0.22888324558734896)'>_local</span><span style = 'color:rgba(253,10,10,0.24635958671569824)'>_Movie</span><span style = 'color:rgba(253,10,10,0.22888324558734896)'>_Gallery.</span><span style = 'color:rgba(253,10,10,0.23863151371479036)'>_It</span><span style = 'color:rgba(253,10,10,0.22888324558734896)'>_was</span><span style = 'color:rgba(253,10,10,0.25930639505386355)'>_buy</span><span style = 'color:rgba(253,10,10,0.22888324558734896)'>_2</span><span style = 'color:rgba(253,10,10,0.23743762373924257)'>_get</span><span style = 'color:rgba(253,10,10,0.22888324558734896)'>_2</span><span style = 'color:rgba(253,10,10,0.22888324558734896)'>_free</span><span style = 'color:rgba(253,10,10,0.26476525068283085)'>_and</span><span style = 'color:rgba(253,10,10,0.23847319781780243)'>_I</span>"
      ],
      "text/plain": [
       "<IPython.core.display.HTML object>"
      ]
     },
     "metadata": {},
     "output_type": "display_data"
    },
    {
     "name": "stdout",
     "output_type": "stream",
     "text": [
      "label:1.0\t guess:1.0\n"
     ]
    },
    {
     "data": {
      "text/html": [
       "<span style = 'color:rgba(253,10,253,0.22729802131652832)'>_I</span><span style = 'color:rgba(253,10,253,0.2746315777301789)'>_just</span><span style = 'color:rgba(253,10,253,0.22729802131652832)'>_finished</span><span style = 'color:rgba(253,10,253,0.23788719177246095)'>_watching</span><span style = 'color:rgba(253,10,253,0.2360475450754166)'>_this</span><span style = 'color:rgba(253,10,253,0.23331638276576996)'>_film</span><span style = 'color:rgba(253,10,253,0.22729802131652832)'>_and</span><span style = 'color:rgba(253,10,253,0.22876701951026918)'>_found</span><span style = 'color:rgba(253,10,253,0.22729802131652832)'>_it</span><span style = 'color:rgba(253,10,253,0.22729802131652832)'>_very</span><span style = 'color:rgba(253,10,253,0.22729802131652832)'>_enjoyable.</span><span style = 'color:rgba(253,10,253,0.22729802131652832)'>_It</span><span style = 'color:rgba(253,10,253,0.22729802131652832)'>_is</span><span style = 'color:rgba(253,10,253,0.2314922869205475)'>_a</span><span style = 'color:rgba(253,10,253,0.22811960875988008)'>_quiet,</span><span style = 'color:rgba(253,10,253,0.3058507800102234)'>_little</span><span style = 'color:rgba(253,10,253,0.23331638276576996)'>_film</span><span style = 'color:rgba(253,10,253,0.23457350432872773)'>_that</span><span style = 'color:rgba(253,10,253,0.3094939589500427)'>_doesn't</span><span style = 'color:rgba(253,10,253,0.22811960875988008)'>_overwhelm</span>"
      ],
      "text/plain": [
       "<IPython.core.display.HTML object>"
      ]
     },
     "metadata": {},
     "output_type": "display_data"
    },
    {
     "data": {
      "text/html": [
       "<span style = 'color:rgba(253,10,10,0.23221868872642518)'>_I</span><span style = 'color:rgba(253,10,10,0.22418775558471682)'>_just</span><span style = 'color:rgba(253,10,10,0.22528052926063538)'>_finished</span><span style = 'color:rgba(253,10,10,0.22418775558471682)'>_watching</span><span style = 'color:rgba(253,10,10,0.22418775558471682)'>_this</span><span style = 'color:rgba(253,10,10,0.22418775558471682)'>_film</span><span style = 'color:rgba(253,10,10,0.25423649549484256)'>_and</span><span style = 'color:rgba(253,10,10,0.22418775558471682)'>_found</span><span style = 'color:rgba(253,10,10,0.236648029088974)'>_it</span><span style = 'color:rgba(253,10,10,0.26169629693031315)'>_very</span><span style = 'color:rgba(253,10,10,0.4205255270004273)'>_enjoyable.</span><span style = 'color:rgba(253,10,10,0.2323512613773346)'>_It</span><span style = 'color:rgba(253,10,10,0.24679012000560763)'>_is</span><span style = 'color:rgba(253,10,10,0.22418775558471682)'>_a</span><span style = 'color:rgba(253,10,10,0.22418775558471682)'>_quiet,</span><span style = 'color:rgba(253,10,10,0.22418775558471682)'>_little</span><span style = 'color:rgba(253,10,10,0.22418775558471682)'>_film</span><span style = 'color:rgba(253,10,10,0.22418775558471682)'>_that</span><span style = 'color:rgba(253,10,10,0.22418775558471682)'>_doesn't</span><span style = 'color:rgba(253,10,10,0.22418775558471682)'>_overwhelm</span>"
      ],
      "text/plain": [
       "<IPython.core.display.HTML object>"
      ]
     },
     "metadata": {},
     "output_type": "display_data"
    },
    {
     "name": "stdout",
     "output_type": "stream",
     "text": [
      "label:0.0\t guess:0.0\n"
     ]
    },
    {
     "data": {
      "text/html": [
       "<span style = 'color:rgba(253,10,253,0.21731581538915634)'>_Saw</span><span style = 'color:rgba(253,10,253,0.22219776958227158)'>_this</span><span style = 'color:rgba(253,10,253,0.21731581538915634)'>_'film'</span><span style = 'color:rgba(253,10,253,0.22713420093059541)'>_recently</span><span style = 'color:rgba(253,10,253,0.2168098896741867)'>_and</span><span style = 'color:rgba(253,10,253,0.2201421171426773)'>_have</span><span style = 'color:rgba(253,10,253,0.21981898844242098)'>_to</span><span style = 'color:rgba(253,10,253,0.2168098896741867)'>_say</span><span style = 'color:rgba(253,10,253,0.2168098896741867)'>_it</span><span style = 'color:rgba(253,10,253,0.23369100093841555)'>_was</span><span style = 'color:rgba(253,10,253,0.2168098896741867)'>_the</span><span style = 'color:rgba(253,10,253,0.49008533954620365)'>_worst</span><span style = 'color:rgba(253,10,253,0.2937091886997223)'>_attempt</span><span style = 'color:rgba(253,10,253,0.2168098896741867)'>_at</span><span style = 'color:rgba(253,10,253,0.22051594406366348)'>_film</span><span style = 'color:rgba(253,10,253,0.23756889700889589)'>_making</span><span style = 'color:rgba(253,10,253,0.2168098896741867)'>_I</span><span style = 'color:rgba(253,10,253,0.2201421171426773)'>_have</span><span style = 'color:rgba(253,10,253,0.23831726610660553)'>_ever</span><span style = 'color:rgba(253,10,253,0.24118618965148927)'>_had</span>"
      ],
      "text/plain": [
       "<IPython.core.display.HTML object>"
      ]
     },
     "metadata": {},
     "output_type": "display_data"
    },
    {
     "data": {
      "text/html": [
       "<span style = 'color:rgba(253,10,10,0.23515836596488954)'>_Saw</span><span style = 'color:rgba(253,10,10,0.23515836596488954)'>_this</span><span style = 'color:rgba(253,10,10,0.23515836596488954)'>_'film'</span><span style = 'color:rgba(253,10,10,0.23515836596488954)'>_recently</span><span style = 'color:rgba(253,10,10,0.27883602976799016)'>_and</span><span style = 'color:rgba(253,10,10,0.23515836596488954)'>_have</span><span style = 'color:rgba(253,10,10,0.23515836596488954)'>_to</span><span style = 'color:rgba(253,10,10,0.24756105542182924)'>_say</span><span style = 'color:rgba(253,10,10,0.2532701313495636)'>_it</span><span style = 'color:rgba(253,10,10,0.23515836596488954)'>_was</span><span style = 'color:rgba(253,10,10,0.24286696910858155)'>_the</span><span style = 'color:rgba(253,10,10,0.23515836596488954)'>_worst</span><span style = 'color:rgba(253,10,10,0.23515836596488954)'>_attempt</span><span style = 'color:rgba(253,10,10,0.2384168952703476)'>_at</span><span style = 'color:rgba(253,10,10,0.23515836596488954)'>_film</span><span style = 'color:rgba(253,10,10,0.23515836596488954)'>_making</span><span style = 'color:rgba(253,10,10,0.246831813454628)'>_I</span><span style = 'color:rgba(253,10,10,0.23515836596488954)'>_have</span><span style = 'color:rgba(253,10,10,0.23515836596488954)'>_ever</span><span style = 'color:rgba(253,10,10,0.23515836596488954)'>_had</span>"
      ],
      "text/plain": [
       "<IPython.core.display.HTML object>"
      ]
     },
     "metadata": {},
     "output_type": "display_data"
    },
    {
     "name": "stdout",
     "output_type": "stream",
     "text": [
      "label:0.0\t guess:0.0\n"
     ]
    },
    {
     "data": {
      "text/html": [
       "<span style = 'color:rgba(253,10,253,0.2320907235145569)'>_Hear</span><span style = 'color:rgba(253,10,253,0.2731379806995392)'>_are</span><span style = 'color:rgba(253,10,253,0.2320907235145569)'>_some</span><span style = 'color:rgba(253,10,253,0.2543582558631897)'>_of</span><span style = 'color:rgba(253,10,253,0.27167825698852544)'>_the</span><span style = 'color:rgba(253,10,253,0.25523388981819156)'>_interesting</span><span style = 'color:rgba(253,10,253,0.23115310966968539)'>_things</span><span style = 'color:rgba(253,10,253,0.23115310966968539)'>_our</span><span style = 'color:rgba(253,10,253,0.2320907235145569)'>_combat</span><span style = 'color:rgba(253,10,253,0.23115310966968539)'>_hero</span><span style = 'color:rgba(253,10,253,0.23115310966968539)'>_faith</span><span style = 'color:rgba(253,10,253,0.2320907235145569)'>_healer</span><span style = 'color:rgba(253,10,253,0.2699796497821808)'>_Pat,</span><span style = 'color:rgba(253,10,253,0.23115310966968539)'>_his</span><span style = 'color:rgba(253,10,253,0.234780353307724)'>_son</span><span style = 'color:rgba(253,10,253,0.23115310966968539)'>_Gordon</span><span style = 'color:rgba(253,10,253,0.2320907235145569)'>_(T.V.</span><span style = 'color:rgba(253,10,253,0.23115310966968539)'>_ministry</span><span style = 'color:rgba(253,10,253,0.23115310966968539)'>_seems</span><span style = 'color:rgba(253,10,253,0.23115310966968539)'>_like</span>"
      ],
      "text/plain": [
       "<IPython.core.display.HTML object>"
      ]
     },
     "metadata": {},
     "output_type": "display_data"
    },
    {
     "data": {
      "text/html": [
       "<span style = 'color:rgba(253,10,10,0.22544582188129425)'>_Hear</span><span style = 'color:rgba(253,10,10,0.22544582188129425)'>_are</span><span style = 'color:rgba(253,10,10,0.22544582188129425)'>_some</span><span style = 'color:rgba(253,10,10,0.22544582188129425)'>_of</span><span style = 'color:rgba(253,10,10,0.22544582188129425)'>_the</span><span style = 'color:rgba(253,10,10,0.22544582188129425)'>_interesting</span><span style = 'color:rgba(253,10,10,0.2315862476825714)'>_things</span><span style = 'color:rgba(253,10,10,0.23102491497993471)'>_our</span><span style = 'color:rgba(253,10,10,0.22544582188129425)'>_combat</span><span style = 'color:rgba(253,10,10,0.25782214999198916)'>_hero</span><span style = 'color:rgba(253,10,10,0.2884810507297516)'>_faith</span><span style = 'color:rgba(253,10,10,0.22544582188129425)'>_healer</span><span style = 'color:rgba(253,10,10,0.22544582188129425)'>_Pat,</span><span style = 'color:rgba(253,10,10,0.2667582452297211)'>_his</span><span style = 'color:rgba(253,10,10,0.22544582188129425)'>_son</span><span style = 'color:rgba(253,10,10,0.23102491497993471)'>_Gordon</span><span style = 'color:rgba(253,10,10,0.22544582188129425)'>_(T.V.</span><span style = 'color:rgba(253,10,10,0.2884810507297516)'>_ministry</span><span style = 'color:rgba(253,10,10,0.2364363342523575)'>_seems</span><span style = 'color:rgba(253,10,10,0.2884810507297516)'>_like</span>"
      ],
      "text/plain": [
       "<IPython.core.display.HTML object>"
      ]
     },
     "metadata": {},
     "output_type": "display_data"
    },
    {
     "name": "stdout",
     "output_type": "stream",
     "text": [
      "label:1.0\t guess:1.0\n"
     ]
    },
    {
     "data": {
      "text/html": [
       "<span style = 'color:rgba(253,10,253,0.2432776302099228)'>_WARNING:</span><span style = 'color:rgba(253,10,253,0.23364051878452302)'>_POSSIBLE</span><span style = 'color:rgba(253,10,253,0.23265762329101564)'>_SPOILERS</span><span style = 'color:rgba(253,10,253,0.2852623522281647)'>_(but</span><span style = 'color:rgba(253,10,253,0.23364051878452302)'>_not</span><span style = 'color:rgba(253,10,253,0.26043889522552494)'>_really</span><span style = 'color:rgba(253,10,253,0.2613592863082886)'>_-</span><span style = 'color:rgba(253,10,253,0.23265762329101564)'>_keep</span><span style = 'color:rgba(253,10,253,0.23364051878452302)'>_reading).</span><span style = 'color:rgba(253,10,253,0.23265762329101564)'>_Ahhh,</span><span style = 'color:rgba(253,10,253,0.23364051878452302)'>_there</span><span style = 'color:rgba(253,10,253,0.23265762329101564)'>_are</span><span style = 'color:rgba(253,10,253,0.23265762329101564)'>_so</span><span style = 'color:rgba(253,10,253,0.23265762329101564)'>_many</span><span style = 'color:rgba(253,10,253,0.24278740882873537)'>_reasons</span><span style = 'color:rgba(253,10,253,0.23364051878452302)'>_to</span><span style = 'color:rgba(253,10,253,0.24278740882873537)'>_become</span><span style = 'color:rgba(253,10,253,0.23265762329101564)'>_utterly</span><span style = 'color:rgba(253,10,253,0.23364051878452302)'>_addicted</span><span style = 'color:rgba(253,10,253,0.23364051878452302)'>_to</span>"
      ],
      "text/plain": [
       "<IPython.core.display.HTML object>"
      ]
     },
     "metadata": {},
     "output_type": "display_data"
    },
    {
     "data": {
      "text/html": [
       "<span style = 'color:rgba(253,10,10,0.2329302281141281)'>_WARNING:</span><span style = 'color:rgba(253,10,10,0.2329302281141281)'>_POSSIBLE</span><span style = 'color:rgba(253,10,10,0.23574905693531037)'>_SPOILERS</span><span style = 'color:rgba(253,10,10,0.2329302281141281)'>_(but</span><span style = 'color:rgba(253,10,10,0.2329302281141281)'>_not</span><span style = 'color:rgba(253,10,10,0.2329302281141281)'>_really</span><span style = 'color:rgba(253,10,10,0.2329302281141281)'>_-</span><span style = 'color:rgba(253,10,10,0.24015030562877657)'>_keep</span><span style = 'color:rgba(253,10,10,0.2329302281141281)'>_reading).</span><span style = 'color:rgba(253,10,10,0.27383984923362736)'>_Ahhh,</span><span style = 'color:rgba(253,10,10,0.2329302281141281)'>_there</span><span style = 'color:rgba(253,10,10,0.26370204091072086)'>_are</span><span style = 'color:rgba(253,10,10,0.24247956275939941)'>_so</span><span style = 'color:rgba(253,10,10,0.2765854179859162)'>_many</span><span style = 'color:rgba(253,10,10,0.2329302281141281)'>_reasons</span><span style = 'color:rgba(253,10,10,0.2329302281141281)'>_to</span><span style = 'color:rgba(253,10,10,0.2329302281141281)'>_become</span><span style = 'color:rgba(253,10,10,0.23940081596374513)'>_utterly</span><span style = 'color:rgba(253,10,10,0.2329302281141281)'>_addicted</span><span style = 'color:rgba(253,10,10,0.2329302281141281)'>_to</span>"
      ],
      "text/plain": [
       "<IPython.core.display.HTML object>"
      ]
     },
     "metadata": {},
     "output_type": "display_data"
    },
    {
     "name": "stdout",
     "output_type": "stream",
     "text": [
      "label:1.0\t guess:1.0\n"
     ]
    },
    {
     "data": {
      "text/html": [
       "<span style = 'color:rgba(253,10,253,0.23387193083763125)'>_It's</span><span style = 'color:rgba(253,10,253,0.2328822761774063)'>_not</span><span style = 'color:rgba(253,10,253,0.2328822761774063)'>_easy</span><span style = 'color:rgba(253,10,253,0.2328822761774063)'>_making</span><span style = 'color:rgba(253,10,253,0.2328822761774063)'>_a</span><span style = 'color:rgba(253,10,253,0.2328822761774063)'>_movie</span><span style = 'color:rgba(253,10,253,0.2328822761774063)'>_with</span><span style = 'color:rgba(253,10,253,0.2328822761774063)'>_18</span><span style = 'color:rgba(253,10,253,0.2941572666168213)'>_different</span><span style = 'color:rgba(253,10,253,0.23387193083763125)'>_stories</span><span style = 'color:rgba(253,10,253,0.2328822761774063)'>_in</span><span style = 'color:rgba(253,10,253,0.23387193083763125)'>_it.</span><span style = 'color:rgba(253,10,253,0.23387193083763125)'>_Although</span><span style = 'color:rgba(253,10,253,0.23387193083763125)'>_18</span><span style = 'color:rgba(253,10,253,0.23387193083763125)'>_different</span><span style = 'color:rgba(253,10,253,0.23387193083763125)'>_international</span><span style = 'color:rgba(253,10,253,0.2328822761774063)'>_directors</span><span style = 'color:rgba(253,10,253,0.2550010085105896)'>_took</span><span style = 'color:rgba(253,10,253,0.28392574787139896)'>_the</span><span style = 'color:rgba(253,10,253,0.23387193083763125)'>_challenge,</span>"
      ],
      "text/plain": [
       "<IPython.core.display.HTML object>"
      ]
     },
     "metadata": {},
     "output_type": "display_data"
    },
    {
     "data": {
      "text/html": [
       "<span style = 'color:rgba(253,10,10,0.22576526999473573)'>_It's</span><span style = 'color:rgba(253,10,10,0.23194970190525055)'>_not</span><span style = 'color:rgba(253,10,10,0.22658348083496094)'>_easy</span><span style = 'color:rgba(253,10,10,0.2498417466878891)'>_making</span><span style = 'color:rgba(253,10,10,0.23141439855098725)'>_a</span><span style = 'color:rgba(253,10,10,0.3680699706077576)'>_movie</span><span style = 'color:rgba(253,10,10,0.2895918309688568)'>_with</span><span style = 'color:rgba(253,10,10,0.23082798421382905)'>_18</span><span style = 'color:rgba(253,10,10,0.22576526999473573)'>_different</span><span style = 'color:rgba(253,10,10,0.22576526999473573)'>_stories</span><span style = 'color:rgba(253,10,10,0.23728284537792207)'>_in</span><span style = 'color:rgba(253,10,10,0.22576526999473573)'>_it.</span><span style = 'color:rgba(253,10,10,0.22576526999473573)'>_Although</span><span style = 'color:rgba(253,10,10,0.22576526999473573)'>_18</span><span style = 'color:rgba(253,10,10,0.22576526999473573)'>_different</span><span style = 'color:rgba(253,10,10,0.22576526999473573)'>_international</span><span style = 'color:rgba(253,10,10,0.2510200560092926)'>_directors</span><span style = 'color:rgba(253,10,10,0.22576526999473573)'>_took</span><span style = 'color:rgba(253,10,10,0.22576526999473573)'>_the</span><span style = 'color:rgba(253,10,10,0.22576526999473573)'>_challenge,</span>"
      ],
      "text/plain": [
       "<IPython.core.display.HTML object>"
      ]
     },
     "metadata": {},
     "output_type": "display_data"
    },
    {
     "name": "stdout",
     "output_type": "stream",
     "text": [
      "label:1.0\t guess:1.0\n"
     ]
    },
    {
     "data": {
      "text/html": [
       "<span style = 'color:rgba(253,10,253,0.2788467049598694)'>_An</span><span style = 'color:rgba(253,10,253,0.23053968250751497)'>_absolute</span><span style = 'color:rgba(253,10,253,0.2294279783964157)'>_classic</span><span style = 'color:rgba(253,10,253,0.2303136706352234)'>_!!</span><span style = 'color:rgba(253,10,253,0.23823143541812897)'>_The</span><span style = 'color:rgba(253,10,253,0.2294279783964157)'>_direction</span><span style = 'color:rgba(253,10,253,0.2294279783964157)'>_is</span><span style = 'color:rgba(253,10,253,0.2303136706352234)'>_flawless</span><span style = 'color:rgba(253,10,253,0.2658326029777527)'>_,</span><span style = 'color:rgba(253,10,253,0.2294279783964157)'>_the</span><span style = 'color:rgba(253,10,253,0.2294279783964157)'>_acting</span><span style = 'color:rgba(253,10,253,0.2294279783964157)'>_is</span><span style = 'color:rgba(253,10,253,0.2804547846317291)'>_just</span><span style = 'color:rgba(253,10,253,0.2303136706352234)'>_superb.</span><span style = 'color:rgba(253,10,253,0.2303136706352234)'>_Words</span><span style = 'color:rgba(253,10,253,0.27310942411422734)'>_fall</span><span style = 'color:rgba(253,10,253,0.2294279783964157)'>_short</span><span style = 'color:rgba(253,10,253,0.23744666576385498)'>_for</span><span style = 'color:rgba(253,10,253,0.23886019289493562)'>_this</span><span style = 'color:rgba(253,10,253,0.2294279783964157)'>_great</span>"
      ],
      "text/plain": [
       "<IPython.core.display.HTML object>"
      ]
     },
     "metadata": {},
     "output_type": "display_data"
    },
    {
     "data": {
      "text/html": [
       "<span style = 'color:rgba(253,10,10,0.22565985023975374)'>_An</span><span style = 'color:rgba(253,10,10,0.22565985023975374)'>_absolute</span><span style = 'color:rgba(253,10,10,0.25874819159507756)'>_classic</span><span style = 'color:rgba(253,10,10,0.22565985023975374)'>_!!</span><span style = 'color:rgba(253,10,10,0.22565985023975374)'>_The</span><span style = 'color:rgba(253,10,10,0.2270502358675003)'>_direction</span><span style = 'color:rgba(253,10,10,0.2496378242969513)'>_is</span><span style = 'color:rgba(253,10,10,0.22565985023975374)'>_flawless</span><span style = 'color:rgba(253,10,10,0.22565985023975374)'>_,</span><span style = 'color:rgba(253,10,10,0.23128587007522583)'>_the</span><span style = 'color:rgba(253,10,10,0.2708446323871613)'>_acting</span><span style = 'color:rgba(253,10,10,0.2496378242969513)'>_is</span><span style = 'color:rgba(253,10,10,0.22565985023975374)'>_just</span><span style = 'color:rgba(253,10,10,0.22565985023975374)'>_superb.</span><span style = 'color:rgba(253,10,10,0.22565985023975374)'>_Words</span><span style = 'color:rgba(253,10,10,0.22565985023975374)'>_fall</span><span style = 'color:rgba(253,10,10,0.2761348843574524)'>_short</span><span style = 'color:rgba(253,10,10,0.22565985023975374)'>_for</span><span style = 'color:rgba(253,10,10,0.22565985023975374)'>_this</span><span style = 'color:rgba(253,10,10,0.3287422895431519)'>_great</span>"
      ],
      "text/plain": [
       "<IPython.core.display.HTML object>"
      ]
     },
     "metadata": {},
     "output_type": "display_data"
    },
    {
     "name": "stdout",
     "output_type": "stream",
     "text": [
      "label:1.0\t guess:1.0\n"
     ]
    },
    {
     "data": {
      "text/html": [
       "<span style = 'color:rgba(253,10,253,0.2458353042602539)'>_You</span><span style = 'color:rgba(253,10,253,0.22722980976104737)'>_can</span><span style = 'color:rgba(253,10,253,0.23238739967346192)'>_do</span><span style = 'color:rgba(253,10,253,0.23141359090805055)'>_a</span><span style = 'color:rgba(253,10,253,0.22722980976104737)'>_lot</span><span style = 'color:rgba(253,10,253,0.22722980976104737)'>_with</span><span style = 'color:rgba(253,10,253,0.23141359090805055)'>_a</span><span style = 'color:rgba(253,10,253,0.3055862903594971)'>_little</span><span style = 'color:rgba(253,10,253,0.22804934084415437)'>_cash.</span><span style = 'color:rgba(253,10,253,0.23596116304397585)'>_Blair</span><span style = 'color:rgba(253,10,253,0.22804934084415437)'>_Witch</span><span style = 'color:rgba(253,10,253,0.22722980976104737)'>_proved</span><span style = 'color:rgba(253,10,253,0.22722980976104737)'>_that.</span><span style = 'color:rgba(253,10,253,0.22722980976104737)'>_This</span><span style = 'color:rgba(253,10,253,0.23323312997817994)'>_film</span><span style = 'color:rgba(253,10,253,0.22804934084415437)'>_supports</span><span style = 'color:rgba(253,10,253,0.2569363534450531)'>_it.</span><span style = 'color:rgba(253,10,253,0.22722980976104737)'>_It</span><span style = 'color:rgba(253,10,253,0.22722980976104737)'>_is</span><span style = 'color:rgba(253,10,253,0.3252466440200806)'>_no</span>"
      ],
      "text/plain": [
       "<IPython.core.display.HTML object>"
      ]
     },
     "metadata": {},
     "output_type": "display_data"
    },
    {
     "data": {
      "text/html": [
       "<span style = 'color:rgba(253,10,10,0.2324782133102417)'>_You</span><span style = 'color:rgba(253,10,10,0.24248904585838318)'>_can</span><span style = 'color:rgba(253,10,10,0.2324782133102417)'>_do</span><span style = 'color:rgba(253,10,10,0.2324782133102417)'>_a</span><span style = 'color:rgba(253,10,10,0.24384072422981262)'>_lot</span><span style = 'color:rgba(253,10,10,0.2441936194896698)'>_with</span><span style = 'color:rgba(253,10,10,0.2324782133102417)'>_a</span><span style = 'color:rgba(253,10,10,0.2324782133102417)'>_little</span><span style = 'color:rgba(253,10,10,0.2324782133102417)'>_cash.</span><span style = 'color:rgba(253,10,10,0.2324782133102417)'>_Blair</span><span style = 'color:rgba(253,10,10,0.2324782133102417)'>_Witch</span><span style = 'color:rgba(253,10,10,0.29652385711669926)'>_proved</span><span style = 'color:rgba(253,10,10,0.23686653077602388)'>_that.</span><span style = 'color:rgba(253,10,10,0.24008019864559174)'>_This</span><span style = 'color:rgba(253,10,10,0.2324782133102417)'>_film</span><span style = 'color:rgba(253,10,10,0.2324782133102417)'>_supports</span><span style = 'color:rgba(253,10,10,0.2324782133102417)'>_it.</span><span style = 'color:rgba(253,10,10,0.2434398025274277)'>_It</span><span style = 'color:rgba(253,10,10,0.26282764673233033)'>_is</span><span style = 'color:rgba(253,10,10,0.2324782133102417)'>_no</span>"
      ],
      "text/plain": [
       "<IPython.core.display.HTML object>"
      ]
     },
     "metadata": {},
     "output_type": "display_data"
    },
    {
     "name": "stdout",
     "output_type": "stream",
     "text": [
      "label:1.0\t guess:1.0\n"
     ]
    },
    {
     "data": {
      "text/html": [
       "<span style = 'color:rgba(253,10,253,0.26854926347732544)'>_What</span><span style = 'color:rgba(253,10,253,0.23201765418052675)'>_a</span><span style = 'color:rgba(253,10,253,0.22775341868400575)'>_stunning</span><span style = 'color:rgba(253,10,253,0.25949714183807376)'>_episode</span><span style = 'color:rgba(253,10,253,0.23531581461429596)'>_for</span><span style = 'color:rgba(253,10,253,0.23664890825748444)'>_this</span><span style = 'color:rgba(253,10,253,0.22775341868400575)'>_fine</span><span style = 'color:rgba(253,10,253,0.22775341868400575)'>_series.</span><span style = 'color:rgba(253,10,253,0.22775341868400575)'>_This</span><span style = 'color:rgba(253,10,253,0.22775341868400575)'>_is</span><span style = 'color:rgba(253,10,253,0.34166363477706907)'>_television</span><span style = 'color:rgba(253,10,253,0.22858870923519137)'>_excellence</span><span style = 'color:rgba(253,10,253,0.22775341868400575)'>_at</span><span style = 'color:rgba(253,10,253,0.24022511541843417)'>_its</span><span style = 'color:rgba(253,10,253,0.22775341868400575)'>_best.</span><span style = 'color:rgba(253,10,253,0.23605592548847198)'>_The</span><span style = 'color:rgba(253,10,253,0.22775341868400575)'>_story</span><span style = 'color:rgba(253,10,253,0.22775341868400575)'>_takes</span><span style = 'color:rgba(253,10,253,0.23529505729675293)'>_place</span><span style = 'color:rgba(253,10,253,0.23636200726032258)'>_in</span>"
      ],
      "text/plain": [
       "<IPython.core.display.HTML object>"
      ]
     },
     "metadata": {},
     "output_type": "display_data"
    },
    {
     "data": {
      "text/html": [
       "<span style = 'color:rgba(253,10,10,0.22808135449886324)'>_What</span><span style = 'color:rgba(253,10,10,0.22808135449886324)'>_a</span><span style = 'color:rgba(253,10,10,0.340069317817688)'>_stunning</span><span style = 'color:rgba(253,10,10,0.22808135449886324)'>_episode</span><span style = 'color:rgba(253,10,10,0.22808135449886324)'>_for</span><span style = 'color:rgba(253,10,10,0.22808135449886324)'>_this</span><span style = 'color:rgba(253,10,10,0.2694159328937531)'>_fine</span><span style = 'color:rgba(253,10,10,0.23977348506450655)'>_series.</span><span style = 'color:rgba(253,10,10,0.23465419113636019)'>_This</span><span style = 'color:rgba(253,10,10,0.2543221116065979)'>_is</span><span style = 'color:rgba(253,10,10,0.22808135449886324)'>_television</span><span style = 'color:rgba(253,10,10,0.22808135449886324)'>_excellence</span><span style = 'color:rgba(253,10,10,0.23068397641181948)'>_at</span><span style = 'color:rgba(253,10,10,0.22808135449886324)'>_its</span><span style = 'color:rgba(253,10,10,0.23197894096374513)'>_best.</span><span style = 'color:rgba(253,10,10,0.22808135449886324)'>_The</span><span style = 'color:rgba(253,10,10,0.24373888969421387)'>_story</span><span style = 'color:rgba(253,10,10,0.24646828174591065)'>_takes</span><span style = 'color:rgba(253,10,10,0.22808135449886324)'>_place</span><span style = 'color:rgba(253,10,10,0.22808135449886324)'>_in</span>"
      ],
      "text/plain": [
       "<IPython.core.display.HTML object>"
      ]
     },
     "metadata": {},
     "output_type": "display_data"
    },
    {
     "name": "stdout",
     "output_type": "stream",
     "text": [
      "label:0.0\t guess:0.0\n"
     ]
    },
    {
     "data": {
      "text/html": [
       "<span style = 'color:rgba(253,10,253,0.22263071537017823)'>_Non</span><span style = 'color:rgba(253,10,253,0.22263071537017823)'>_existent</span><span style = 'color:rgba(253,10,253,0.23116950690746307)'>_plot,</span><span style = 'color:rgba(253,10,253,0.2261806905269623)'>_tons</span><span style = 'color:rgba(253,10,253,0.22196950167417528)'>_of</span><span style = 'color:rgba(253,10,253,0.49486582279205327)'>_poorly</span><span style = 'color:rgba(253,10,253,0.22680896520614624)'>_directed</span><span style = 'color:rgba(253,10,253,0.22196950167417528)'>_/</span><span style = 'color:rgba(253,10,253,0.22263071537017823)'>_super-cheesy</span><span style = 'color:rgba(253,10,253,0.23440365493297577)'>_scenes</span><span style = 'color:rgba(253,10,253,0.22263071537017823)'>_(Snipers</span><span style = 'color:rgba(253,10,253,0.22196950167417528)'>_/</span><span style = 'color:rgba(253,10,253,0.22196950167417528)'>_world</span><span style = 'color:rgba(253,10,253,0.22196950167417528)'>_famous</span><span style = 'color:rgba(253,10,253,0.22263071537017823)'>_sharpshooters</span><span style = 'color:rgba(253,10,253,0.22196950167417528)'>_who</span><span style = 'color:rgba(253,10,253,0.23310422003269196)'>_can't</span><span style = 'color:rgba(253,10,253,0.25549843311309817)'>_even</span><span style = 'color:rgba(253,10,253,0.22196950167417528)'>_hit</span><span style = 'color:rgba(253,10,253,0.23102863132953644)'>_their</span>"
      ],
      "text/plain": [
       "<IPython.core.display.HTML object>"
      ]
     },
     "metadata": {},
     "output_type": "display_data"
    },
    {
     "data": {
      "text/html": [
       "<span style = 'color:rgba(253,10,10,0.2283895701169968)'>_Non</span><span style = 'color:rgba(253,10,10,0.2283895701169968)'>_existent</span><span style = 'color:rgba(253,10,10,0.2283895701169968)'>_plot,</span><span style = 'color:rgba(253,10,10,0.2283895701169968)'>_tons</span><span style = 'color:rgba(253,10,10,0.2987171530723572)'>_of</span><span style = 'color:rgba(253,10,10,0.2283895701169968)'>_poorly</span><span style = 'color:rgba(253,10,10,0.2283895701169968)'>_directed</span><span style = 'color:rgba(253,10,10,0.27351712584495547)'>_/</span><span style = 'color:rgba(253,10,10,0.2283895701169968)'>_super-cheesy</span><span style = 'color:rgba(253,10,10,0.2283895701169968)'>_scenes</span><span style = 'color:rgba(253,10,10,0.2283895701169968)'>_(Snipers</span><span style = 'color:rgba(253,10,10,0.27351712584495547)'>_/</span><span style = 'color:rgba(253,10,10,0.26632161736488347)'>_world</span><span style = 'color:rgba(253,10,10,0.24441062808036806)'>_famous</span><span style = 'color:rgba(253,10,10,0.2283895701169968)'>_sharpshooters</span><span style = 'color:rgba(253,10,10,0.23530847132205965)'>_who</span><span style = 'color:rgba(253,10,10,0.2283895701169968)'>_can't</span><span style = 'color:rgba(253,10,10,0.2283895701169968)'>_even</span><span style = 'color:rgba(253,10,10,0.23914345502853396)'>_hit</span><span style = 'color:rgba(253,10,10,0.2283895701169968)'>_their</span>"
      ],
      "text/plain": [
       "<IPython.core.display.HTML object>"
      ]
     },
     "metadata": {},
     "output_type": "display_data"
    },
    {
     "name": "stdout",
     "output_type": "stream",
     "text": [
      "label:0.0\t guess:0.0\n"
     ]
    },
    {
     "data": {
      "text/html": [
       "<span style = 'color:rgba(253,10,253,0.2374904453754425)'>_At</span><span style = 'color:rgba(253,10,253,0.2278913050889969)'>_least</span><span style = 'color:rgba(253,10,253,0.24806763231754303)'>_it's</span><span style = 'color:rgba(253,10,253,0.24281375110149384)'>_not</span><span style = 'color:rgba(253,10,253,0.2278913050889969)'>_full</span><span style = 'color:rgba(253,10,253,0.2278913050889969)'>_of</span><span style = 'color:rgba(253,10,253,0.22873074710369112)'>_sensless</span><span style = 'color:rgba(253,10,253,0.22918782830238343)'>_violence</span><span style = 'color:rgba(253,10,253,0.27744333148002626)'>_or</span><span style = 'color:rgba(253,10,253,0.22873074710369112)'>_fluff.</span><span style = 'color:rgba(253,10,253,0.26295621395111085)'>_It's</span><span style = 'color:rgba(253,10,253,0.2278913050889969)'>_also</span><span style = 'color:rgba(253,10,253,0.24281375110149384)'>_not</span><span style = 'color:rgba(253,10,253,0.2278913050889969)'>_very</span><span style = 'color:rgba(253,10,253,0.2278913050889969)'>_full</span><span style = 'color:rgba(253,10,253,0.2278913050889969)'>_of</span><span style = 'color:rgba(253,10,253,0.26817559599876406)'>_thought</span><span style = 'color:rgba(253,10,253,0.27744333148002626)'>_or</span><span style = 'color:rgba(253,10,253,0.23217672407627107)'>_a</span><span style = 'color:rgba(253,10,253,0.22873074710369112)'>_smooth</span>"
      ],
      "text/plain": [
       "<IPython.core.display.HTML object>"
      ]
     },
     "metadata": {},
     "output_type": "display_data"
    },
    {
     "data": {
      "text/html": [
       "<span style = 'color:rgba(253,10,10,0.22435057163238525)'>_At</span><span style = 'color:rgba(253,10,10,0.3397532105445862)'>_least</span><span style = 'color:rgba(253,10,10,0.22435057163238525)'>_it's</span><span style = 'color:rgba(253,10,10,0.22435057163238525)'>_not</span><span style = 'color:rgba(253,10,10,0.22621832489967347)'>_full</span><span style = 'color:rgba(253,10,10,0.28467260599136357)'>_of</span><span style = 'color:rgba(253,10,10,0.22435057163238525)'>_sensless</span><span style = 'color:rgba(253,10,10,0.22435057163238525)'>_violence</span><span style = 'color:rgba(253,10,10,0.22435057163238525)'>_or</span><span style = 'color:rgba(253,10,10,0.22435057163238525)'>_fluff.</span><span style = 'color:rgba(253,10,10,0.22435057163238525)'>_It's</span><span style = 'color:rgba(253,10,10,0.2597959041595459)'>_also</span><span style = 'color:rgba(253,10,10,0.22435057163238525)'>_not</span><span style = 'color:rgba(253,10,10,0.26211159825325014)'>_very</span><span style = 'color:rgba(253,10,10,0.22621832489967347)'>_full</span><span style = 'color:rgba(253,10,10,0.28467260599136357)'>_of</span><span style = 'color:rgba(253,10,10,0.22435057163238525)'>_thought</span><span style = 'color:rgba(253,10,10,0.22435057163238525)'>_or</span><span style = 'color:rgba(253,10,10,0.22435057163238525)'>_a</span><span style = 'color:rgba(253,10,10,0.22435057163238525)'>_smooth</span>"
      ],
      "text/plain": [
       "<IPython.core.display.HTML object>"
      ]
     },
     "metadata": {},
     "output_type": "display_data"
    },
    {
     "name": "stdout",
     "output_type": "stream",
     "text": [
      "label:0.0\t guess:0.0\n"
     ]
    },
    {
     "data": {
      "text/html": [
       "<span style = 'color:rgba(253,10,253,0.25231940746307374)'>_If</span><span style = 'color:rgba(253,10,253,0.23185308277606964)'>_the</span><span style = 'color:rgba(253,10,253,0.2646891534328461)'>_term</span><span style = 'color:rgba(253,10,253,0.2309224158525467)'>_itself</span><span style = 'color:rgba(253,10,253,0.23185308277606964)'>_were</span><span style = 'color:rgba(253,10,253,0.2309224158525467)'>_not</span><span style = 'color:rgba(253,10,253,0.2309224158525467)'>_geographically</span><span style = 'color:rgba(253,10,253,0.2309224158525467)'>_and</span><span style = 'color:rgba(253,10,253,0.2589778780937195)'>_semantically</span><span style = 'color:rgba(253,10,253,0.23645776510238647)'>_meaningless,</span><span style = 'color:rgba(253,10,253,0.2309224158525467)'>_one</span><span style = 'color:rgba(253,10,253,0.2309224158525467)'>_might</span><span style = 'color:rgba(253,10,253,0.2309224158525467)'>_well</span><span style = 'color:rgba(253,10,253,0.2309224158525467)'>_refer</span><span style = 'color:rgba(253,10,253,0.23185308277606964)'>_to</span><span style = 'color:rgba(253,10,253,0.2466151475906372)'>_\"Ned</span><span style = 'color:rgba(253,10,253,0.2309224158525467)'>_Kelly\"</span><span style = 'color:rgba(253,10,253,0.29133908748626713)'>_as</span><span style = 'color:rgba(253,10,253,0.2309224158525467)'>_an</span><span style = 'color:rgba(253,10,253,0.24481818079948425)'>_\"Australian</span>"
      ],
      "text/plain": [
       "<IPython.core.display.HTML object>"
      ]
     },
     "metadata": {},
     "output_type": "display_data"
    },
    {
     "data": {
      "text/html": [
       "<span style = 'color:rgba(253,10,10,0.22618204951286316)'>_If</span><span style = 'color:rgba(253,10,10,0.22618204951286316)'>_the</span><span style = 'color:rgba(253,10,10,0.22618204951286316)'>_term</span><span style = 'color:rgba(253,10,10,0.25870832800865173)'>_itself</span><span style = 'color:rgba(253,10,10,0.22618204951286316)'>_were</span><span style = 'color:rgba(253,10,10,0.25260967612266544)'>_not</span><span style = 'color:rgba(253,10,10,0.2396696835756302)'>_geographically</span><span style = 'color:rgba(253,10,10,0.2610574781894684)'>_and</span><span style = 'color:rgba(253,10,10,0.22618204951286316)'>_semantically</span><span style = 'color:rgba(253,10,10,0.22618204951286316)'>_meaningless,</span><span style = 'color:rgba(253,10,10,0.258711975812912)'>_one</span><span style = 'color:rgba(253,10,10,0.2594951331615448)'>_might</span><span style = 'color:rgba(253,10,10,0.29104108810424806)'>_well</span><span style = 'color:rgba(253,10,10,0.23192256391048433)'>_refer</span><span style = 'color:rgba(253,10,10,0.22618204951286316)'>_to</span><span style = 'color:rgba(253,10,10,0.22618204951286316)'>_\"Ned</span><span style = 'color:rgba(253,10,10,0.25870832800865173)'>_Kelly\"</span><span style = 'color:rgba(253,10,10,0.22618204951286316)'>_as</span><span style = 'color:rgba(253,10,10,0.2262552171945572)'>_an</span><span style = 'color:rgba(253,10,10,0.22618204951286316)'>_\"Australian</span>"
      ],
      "text/plain": [
       "<IPython.core.display.HTML object>"
      ]
     },
     "metadata": {},
     "output_type": "display_data"
    },
    {
     "name": "stdout",
     "output_type": "stream",
     "text": [
      "label:1.0\t guess:1.0\n"
     ]
    },
    {
     "data": {
      "text/html": [
       "<span style = 'color:rgba(253,10,253,0.24679991602897644)'>_Bill</span><span style = 'color:rgba(253,10,253,0.22428514659404755)'>_and</span><span style = 'color:rgba(253,10,253,0.22501605451107026)'>_Ted's</span><span style = 'color:rgba(253,10,253,0.22501605451107026)'>_Bogus</span><span style = 'color:rgba(253,10,253,0.22501605451107026)'>_Journey</span><span style = 'color:rgba(253,10,253,0.22428514659404755)'>_is</span><span style = 'color:rgba(253,10,253,0.22428514659404755)'>_the</span><span style = 'color:rgba(253,10,253,0.3053115248680115)'>_sequel</span><span style = 'color:rgba(253,10,253,0.2286323755979538)'>_to</span><span style = 'color:rgba(253,10,253,0.24679991602897644)'>_Bill</span><span style = 'color:rgba(253,10,253,0.22428514659404755)'>_and</span><span style = 'color:rgba(253,10,253,0.22501605451107026)'>_Ted's</span><span style = 'color:rgba(253,10,253,0.3692065715789795)'>_excellent</span><span style = 'color:rgba(253,10,253,0.22501605451107026)'>_adventure.</span><span style = 'color:rgba(253,10,253,0.2384447455406189)'>_Their</span><span style = 'color:rgba(253,10,253,0.22501605451107026)'>_bogus</span><span style = 'color:rgba(253,10,253,0.22482669353485107)'>_journey</span><span style = 'color:rgba(253,10,253,0.22501605451107026)'>_follower</span><span style = 'color:rgba(253,10,253,0.22428514659404755)'>_almost</span><span style = 'color:rgba(253,10,253,0.243440181016922)'>_directly</span>"
      ],
      "text/plain": [
       "<IPython.core.display.HTML object>"
      ]
     },
     "metadata": {},
     "output_type": "display_data"
    },
    {
     "data": {
      "text/html": [
       "<span style = 'color:rgba(253,10,10,0.23331784307956696)'>_Bill</span><span style = 'color:rgba(253,10,10,0.2747090041637421)'>_and</span><span style = 'color:rgba(253,10,10,0.23331784307956696)'>_Ted's</span><span style = 'color:rgba(253,10,10,0.23331784307956696)'>_Bogus</span><span style = 'color:rgba(253,10,10,0.23331784307956696)'>_Journey</span><span style = 'color:rgba(253,10,10,0.2644518673419953)'>_is</span><span style = 'color:rgba(253,10,10,0.24062290489673616)'>_the</span><span style = 'color:rgba(253,10,10,0.23331784307956696)'>_sequel</span><span style = 'color:rgba(253,10,10,0.23331784307956696)'>_to</span><span style = 'color:rgba(253,10,10,0.23331784307956696)'>_Bill</span><span style = 'color:rgba(253,10,10,0.2747090041637421)'>_and</span><span style = 'color:rgba(253,10,10,0.23331784307956696)'>_Ted's</span><span style = 'color:rgba(253,10,10,0.23331784307956696)'>_excellent</span><span style = 'color:rgba(253,10,10,0.23331784307956696)'>_adventure.</span><span style = 'color:rgba(253,10,10,0.23331784307956696)'>_Their</span><span style = 'color:rgba(253,10,10,0.23331784307956696)'>_bogus</span><span style = 'color:rgba(253,10,10,0.23331784307956696)'>_journey</span><span style = 'color:rgba(253,10,10,0.23331784307956696)'>_follower</span><span style = 'color:rgba(253,10,10,0.24573959708213808)'>_almost</span><span style = 'color:rgba(253,10,10,0.23331784307956696)'>_directly</span>"
      ],
      "text/plain": [
       "<IPython.core.display.HTML object>"
      ]
     },
     "metadata": {},
     "output_type": "display_data"
    },
    {
     "name": "stdout",
     "output_type": "stream",
     "text": [
      "label:0.0\t guess:0.0\n"
     ]
    },
    {
     "data": {
      "text/html": [
       "<span style = 'color:rgba(253,10,253,0.24169280230998993)'>_The</span><span style = 'color:rgba(253,10,253,0.23182215988636018)'>_day</span><span style = 'color:rgba(253,10,253,0.23260861337184907)'>_has</span><span style = 'color:rgba(253,10,253,0.23182215988636018)'>_finally</span><span style = 'color:rgba(253,10,253,0.23182215988636018)'>_come</span><span style = 'color:rgba(253,10,253,0.23277991116046906)'>_for</span><span style = 'color:rgba(253,10,253,0.2337914526462555)'>_me</span><span style = 'color:rgba(253,10,253,0.23182215988636018)'>_to</span><span style = 'color:rgba(253,10,253,0.23182215988636018)'>_witness</span><span style = 'color:rgba(253,10,253,0.23277991116046906)'>_the</span><span style = 'color:rgba(253,10,253,0.23182215988636018)'>_perpetuation</span><span style = 'color:rgba(253,10,253,0.23182215988636018)'>_of</span><span style = 'color:rgba(253,10,253,0.23182215988636018)'>_Azumi's</span><span style = 'color:rgba(253,10,253,0.285923707485199)'>_fate</span><span style = 'color:rgba(253,10,253,0.23182215988636018)'>_as</span><span style = 'color:rgba(253,10,253,0.23182215988636018)'>_an</span><span style = 'color:rgba(253,10,253,0.23883795440196992)'>_assassin,</span><span style = 'color:rgba(253,10,253,0.25831462740898137)'>_fruition</span><span style = 'color:rgba(253,10,253,0.29322725534439087)'>_of</span><span style = 'color:rgba(253,10,253,0.23182215988636018)'>_her</span>"
      ],
      "text/plain": [
       "<IPython.core.display.HTML object>"
      ]
     },
     "metadata": {},
     "output_type": "display_data"
    },
    {
     "data": {
      "text/html": [
       "<span style = 'color:rgba(253,10,10,0.22739948630332948)'>_The</span><span style = 'color:rgba(253,10,10,0.23340692818164827)'>_day</span><span style = 'color:rgba(253,10,10,0.22739948630332948)'>_has</span><span style = 'color:rgba(253,10,10,0.255055969953537)'>_finally</span><span style = 'color:rgba(253,10,10,0.23340692818164827)'>_come</span><span style = 'color:rgba(253,10,10,0.22739948630332948)'>_for</span><span style = 'color:rgba(253,10,10,0.22739948630332948)'>_me</span><span style = 'color:rgba(253,10,10,0.2952744007110596)'>_to</span><span style = 'color:rgba(253,10,10,0.23340692818164827)'>_witness</span><span style = 'color:rgba(253,10,10,0.22739948630332948)'>_the</span><span style = 'color:rgba(253,10,10,0.2405831515789032)'>_perpetuation</span><span style = 'color:rgba(253,10,10,0.23340692818164827)'>_of</span><span style = 'color:rgba(253,10,10,0.266775119304657)'>_Azumi's</span><span style = 'color:rgba(253,10,10,0.22739948630332948)'>_fate</span><span style = 'color:rgba(253,10,10,0.2952744007110596)'>_as</span><span style = 'color:rgba(253,10,10,0.23340692818164827)'>_an</span><span style = 'color:rgba(253,10,10,0.22739948630332948)'>_assassin,</span><span style = 'color:rgba(253,10,10,0.22739948630332948)'>_fruition</span><span style = 'color:rgba(253,10,10,0.22739948630332948)'>_of</span><span style = 'color:rgba(253,10,10,0.23340692818164827)'>_her</span>"
      ],
      "text/plain": [
       "<IPython.core.display.HTML object>"
      ]
     },
     "metadata": {},
     "output_type": "display_data"
    },
    {
     "name": "stdout",
     "output_type": "stream",
     "text": [
      "label:0.0\t guess:0.0\n"
     ]
    },
    {
     "data": {
      "text/html": [
       "<span style = 'color:rgba(253,10,253,0.2281377136707306)'>_Terminus</span><span style = 'color:rgba(253,10,253,0.2281377136707306)'>_Paradis</span><span style = 'color:rgba(253,10,253,0.2547469317913056)'>_was</span><span style = 'color:rgba(253,10,253,0.2281377136707306)'>_exceptional,</span><span style = 'color:rgba(253,10,253,0.2273155987262726)'>_but</span><span style = 'color:rgba(253,10,253,0.2281377136707306)'>_\"Niki</span><span style = 'color:rgba(253,10,253,0.2281377136707306)'>_ardelean\"</span><span style = 'color:rgba(253,10,253,0.2399404525756836)'>_comes</span><span style = 'color:rgba(253,10,253,0.3293645143508911)'>_too</span><span style = 'color:rgba(253,10,253,0.2281377136707306)'>_late.</span><span style = 'color:rgba(253,10,253,0.2273155987262726)'>_We</span><span style = 'color:rgba(253,10,253,0.2273155987262726)'>_already</span><span style = 'color:rgba(253,10,253,0.23273037374019623)'>_have</span><span style = 'color:rgba(253,10,253,0.27616677284240726)'>_enough</span><span style = 'color:rgba(253,10,253,0.2273155987262726)'>_of</span><span style = 'color:rgba(253,10,253,0.2360707610845566)'>_this</span><span style = 'color:rgba(253,10,253,0.2273155987262726)'>_and</span><span style = 'color:rgba(253,10,253,0.25005627870559693)'>_we</span><span style = 'color:rgba(253,10,253,0.23475281596183778)'>_want</span><span style = 'color:rgba(253,10,253,0.24076682031154634)'>_something</span>"
      ],
      "text/plain": [
       "<IPython.core.display.HTML object>"
      ]
     },
     "metadata": {},
     "output_type": "display_data"
    },
    {
     "data": {
      "text/html": [
       "<span style = 'color:rgba(253,10,10,0.23156034648418428)'>_Terminus</span><span style = 'color:rgba(253,10,10,0.23156034648418428)'>_Paradis</span><span style = 'color:rgba(253,10,10,0.23156034648418428)'>_was</span><span style = 'color:rgba(253,10,10,0.23156034648418428)'>_exceptional,</span><span style = 'color:rgba(253,10,10,0.2478933036327362)'>_but</span><span style = 'color:rgba(253,10,10,0.23156034648418428)'>_\"Niki</span><span style = 'color:rgba(253,10,10,0.23156034648418428)'>_ardelean\"</span><span style = 'color:rgba(253,10,10,0.23156034648418428)'>_comes</span><span style = 'color:rgba(253,10,10,0.23156034648418428)'>_too</span><span style = 'color:rgba(253,10,10,0.23156034648418428)'>_late.</span><span style = 'color:rgba(253,10,10,0.2617493629455567)'>_We</span><span style = 'color:rgba(253,10,10,0.23644134402275085)'>_already</span><span style = 'color:rgba(253,10,10,0.23156034648418428)'>_have</span><span style = 'color:rgba(253,10,10,0.23156034648418428)'>_enough</span><span style = 'color:rgba(253,10,10,0.3097426772117615)'>_of</span><span style = 'color:rgba(253,10,10,0.23156034648418428)'>_this</span><span style = 'color:rgba(253,10,10,0.2707681477069855)'>_and</span><span style = 'color:rgba(253,10,10,0.23156034648418428)'>_we</span><span style = 'color:rgba(253,10,10,0.23156034648418428)'>_want</span><span style = 'color:rgba(253,10,10,0.23156034648418428)'>_something</span>"
      ],
      "text/plain": [
       "<IPython.core.display.HTML object>"
      ]
     },
     "metadata": {},
     "output_type": "display_data"
    },
    {
     "name": "stdout",
     "output_type": "stream",
     "text": [
      "label:0.0\t guess:0.0\n"
     ]
    },
    {
     "data": {
      "text/html": [
       "<span style = 'color:rgba(253,10,253,0.23061099648475647)'>_Like</span><span style = 'color:rgba(253,10,253,0.24248529970645905)'>_watching</span><span style = 'color:rgba(253,10,253,0.23531428873538973)'>_a</span><span style = 'color:rgba(253,10,253,0.2315322905778885)'>_neighbor's</span><span style = 'color:rgba(253,10,253,0.23061099648475647)'>_summer</span><span style = 'color:rgba(253,10,253,0.23061099648475647)'>_camp</span><span style = 'color:rgba(253,10,253,0.23061099648475647)'>_home</span><span style = 'color:rgba(253,10,253,0.24537034034729005)'>_movies,</span><span style = 'color:rgba(253,10,253,0.2315322905778885)'>_\"Indian</span><span style = 'color:rgba(253,10,253,0.2315322905778885)'>_Summer\"</span><span style = 'color:rgba(253,10,253,0.23061099648475647)'>_is</span><span style = 'color:rgba(253,10,253,0.23531428873538973)'>_a</span><span style = 'color:rgba(253,10,253,0.37214195728302)'>_sleep</span><span style = 'color:rgba(253,10,253,0.2315322905778885)'>_inducing</span><span style = 'color:rgba(253,10,253,0.2315322905778885)'>_bore.</span><span style = 'color:rgba(253,10,253,0.2315322905778885)'>_Eight</span><span style = 'color:rgba(253,10,253,0.2315322905778885)'>_alumni</span><span style = 'color:rgba(253,10,253,0.2315322905778885)'>_campers</span><span style = 'color:rgba(253,10,253,0.2334495395421982)'>_are</span><span style = 'color:rgba(253,10,253,0.23061099648475647)'>_barely</span>"
      ],
      "text/plain": [
       "<IPython.core.display.HTML object>"
      ]
     },
     "metadata": {},
     "output_type": "display_data"
    },
    {
     "data": {
      "text/html": [
       "<span style = 'color:rgba(253,10,10,0.2445588767528534)'>_Like</span><span style = 'color:rgba(253,10,10,0.23337248861789706)'>_watching</span><span style = 'color:rgba(253,10,10,0.23337248861789706)'>_a</span><span style = 'color:rgba(253,10,10,0.23337248861789706)'>_neighbor's</span><span style = 'color:rgba(253,10,10,0.23416170179843904)'>_summer</span><span style = 'color:rgba(253,10,10,0.2609542727470398)'>_camp</span><span style = 'color:rgba(253,10,10,0.2716651797294617)'>_home</span><span style = 'color:rgba(253,10,10,0.23337248861789706)'>_movies,</span><span style = 'color:rgba(253,10,10,0.23337248861789706)'>_\"Indian</span><span style = 'color:rgba(253,10,10,0.23337248861789706)'>_Summer\"</span><span style = 'color:rgba(253,10,10,0.2645575702190399)'>_is</span><span style = 'color:rgba(253,10,10,0.23337248861789706)'>_a</span><span style = 'color:rgba(253,10,10,0.23337248861789706)'>_sleep</span><span style = 'color:rgba(253,10,10,0.23337248861789706)'>_inducing</span><span style = 'color:rgba(253,10,10,0.23337248861789706)'>_bore.</span><span style = 'color:rgba(253,10,10,0.23337248861789706)'>_Eight</span><span style = 'color:rgba(253,10,10,0.23337248861789706)'>_alumni</span><span style = 'color:rgba(253,10,10,0.23337248861789706)'>_campers</span><span style = 'color:rgba(253,10,10,0.23337248861789706)'>_are</span><span style = 'color:rgba(253,10,10,0.25688756108284)'>_barely</span>"
      ],
      "text/plain": [
       "<IPython.core.display.HTML object>"
      ]
     },
     "metadata": {},
     "output_type": "display_data"
    },
    {
     "name": "stdout",
     "output_type": "stream",
     "text": [
      "label:1.0\t guess:1.0\n"
     ]
    },
    {
     "data": {
      "text/html": [
       "<span style = 'color:rgba(253,10,253,0.24383478462696076)'>_The</span><span style = 'color:rgba(253,10,253,0.23374105989933014)'>_picture</span><span style = 'color:rgba(253,10,253,0.23374105989933014)'>_is</span><span style = 'color:rgba(253,10,253,0.2545677185058594)'>_developed</span><span style = 'color:rgba(253,10,253,0.244206902384758)'>_in</span><span style = 'color:rgba(253,10,253,0.23475656211376192)'>_1873</span><span style = 'color:rgba(253,10,253,0.23374105989933014)'>_and</span><span style = 'color:rgba(253,10,253,0.25540658831596375)'>_talks</span><span style = 'color:rgba(253,10,253,0.23374105989933014)'>_as</span><span style = 'color:rgba(253,10,253,0.23475656211376192)'>_Lin</span><span style = 'color:rgba(253,10,253,0.23475656211376192)'>_McAdam(James</span><span style = 'color:rgba(253,10,253,0.23475656211376192)'>_Stewart)</span><span style = 'color:rgba(253,10,253,0.23374105989933014)'>_and</span><span style = 'color:rgba(253,10,253,0.28271969556808474)'>_High</span><span style = 'color:rgba(253,10,253,0.23475656211376192)'>_Spade(Millard</span><span style = 'color:rgba(253,10,253,0.23475656211376192)'>_Michell)arrive</span><span style = 'color:rgba(253,10,253,0.2397809684276581)'>_to</span><span style = 'color:rgba(253,10,253,0.23475656211376192)'>_Dodge</span><span style = 'color:rgba(253,10,253,0.23374105989933014)'>_City</span><span style = 'color:rgba(253,10,253,0.23374105989933014)'>_looking</span>"
      ],
      "text/plain": [
       "<IPython.core.display.HTML object>"
      ]
     },
     "metadata": {},
     "output_type": "display_data"
    },
    {
     "data": {
      "text/html": [
       "<span style = 'color:rgba(253,10,10,0.22121053636074067)'>_The</span><span style = 'color:rgba(253,10,10,0.46157636642456057)'>_picture</span><span style = 'color:rgba(253,10,10,0.24103082418441774)'>_is</span><span style = 'color:rgba(253,10,10,0.22121053636074067)'>_developed</span><span style = 'color:rgba(253,10,10,0.22121053636074067)'>_in</span><span style = 'color:rgba(253,10,10,0.22121053636074067)'>_1873</span><span style = 'color:rgba(253,10,10,0.2475606381893158)'>_and</span><span style = 'color:rgba(253,10,10,0.22121053636074067)'>_talks</span><span style = 'color:rgba(253,10,10,0.2426200121641159)'>_as</span><span style = 'color:rgba(253,10,10,0.22121053636074067)'>_Lin</span><span style = 'color:rgba(253,10,10,0.22121053636074067)'>_McAdam(James</span><span style = 'color:rgba(253,10,10,0.22121053636074067)'>_Stewart)</span><span style = 'color:rgba(253,10,10,0.2475606381893158)'>_and</span><span style = 'color:rgba(253,10,10,0.22121053636074067)'>_High</span><span style = 'color:rgba(253,10,10,0.22121053636074067)'>_Spade(Millard</span><span style = 'color:rgba(253,10,10,0.22121053636074067)'>_Michell)arrive</span><span style = 'color:rgba(253,10,10,0.22121053636074067)'>_to</span><span style = 'color:rgba(253,10,10,0.22121053636074067)'>_Dodge</span><span style = 'color:rgba(253,10,10,0.23237402737140656)'>_City</span><span style = 'color:rgba(253,10,10,0.2515405237674713)'>_looking</span>"
      ],
      "text/plain": [
       "<IPython.core.display.HTML object>"
      ]
     },
     "metadata": {},
     "output_type": "display_data"
    },
    {
     "name": "stdout",
     "output_type": "stream",
     "text": [
      "label:1.0\t guess:1.0\n"
     ]
    },
    {
     "data": {
      "text/html": [
       "<span style = 'color:rgba(253,10,253,0.23455834984779358)'>_A</span><span style = 'color:rgba(253,10,253,0.22762835025787354)'>_great</span><span style = 'color:rgba(253,10,253,0.34099674224853516)'>_film.</span><span style = 'color:rgba(253,10,253,0.23589344024658204)'>_The</span><span style = 'color:rgba(253,10,253,0.22762835025787354)'>_acting</span><span style = 'color:rgba(253,10,253,0.23827210068702698)'>_-</span><span style = 'color:rgba(253,10,253,0.2591342389583588)'>_from</span><span style = 'color:rgba(253,10,253,0.22762835025787354)'>_the</span><span style = 'color:rgba(253,10,253,0.2581145703792572)'>_doctor</span><span style = 'color:rgba(253,10,253,0.23257403373718263)'>_to</span><span style = 'color:rgba(253,10,253,0.22762835025787354)'>_the</span><span style = 'color:rgba(253,10,253,0.2284598767757416)'>_pavement</span><span style = 'color:rgba(253,10,253,0.22762835025787354)'>_artist</span><span style = 'color:rgba(253,10,253,0.23257403373718263)'>_to</span><span style = 'color:rgba(253,10,253,0.22762835025787354)'>_the</span><span style = 'color:rgba(253,10,253,0.25509809851646426)'>_head</span><span style = 'color:rgba(253,10,253,0.2284598767757416)'>_prostitute,</span><span style = 'color:rgba(253,10,253,0.22762835025787354)'>_with</span><span style = 'color:rgba(253,10,253,0.22762835025787354)'>_very</span><span style = 'color:rgba(253,10,253,0.23483783900737765)'>_few</span>"
      ],
      "text/plain": [
       "<IPython.core.display.HTML object>"
      ]
     },
     "metadata": {},
     "output_type": "display_data"
    },
    {
     "data": {
      "text/html": [
       "<span style = 'color:rgba(253,10,10,0.22657289505004885)'>_A</span><span style = 'color:rgba(253,10,10,0.3333232760429382)'>_great</span><span style = 'color:rgba(253,10,10,0.22657289505004885)'>_film.</span><span style = 'color:rgba(253,10,10,0.22657289505004885)'>_The</span><span style = 'color:rgba(253,10,10,0.27336546778678894)'>_acting</span><span style = 'color:rgba(253,10,10,0.22657289505004885)'>_-</span><span style = 'color:rgba(253,10,10,0.22657289505004885)'>_from</span><span style = 'color:rgba(253,10,10,0.23239910304546357)'>_the</span><span style = 'color:rgba(253,10,10,0.22657289505004885)'>_doctor</span><span style = 'color:rgba(253,10,10,0.22657289505004885)'>_to</span><span style = 'color:rgba(253,10,10,0.23239910304546357)'>_the</span><span style = 'color:rgba(253,10,10,0.22657289505004885)'>_pavement</span><span style = 'color:rgba(253,10,10,0.27330089807510377)'>_artist</span><span style = 'color:rgba(253,10,10,0.22657289505004885)'>_to</span><span style = 'color:rgba(253,10,10,0.23239910304546357)'>_the</span><span style = 'color:rgba(253,10,10,0.22657289505004885)'>_head</span><span style = 'color:rgba(253,10,10,0.22657289505004885)'>_prostitute,</span><span style = 'color:rgba(253,10,10,0.23615815341472626)'>_with</span><span style = 'color:rgba(253,10,10,0.26778013706207277)'>_very</span><span style = 'color:rgba(253,10,10,0.22657289505004885)'>_few</span>"
      ],
      "text/plain": [
       "<IPython.core.display.HTML object>"
      ]
     },
     "metadata": {},
     "output_type": "display_data"
    },
    {
     "name": "stdout",
     "output_type": "stream",
     "text": [
      "label:1.0\t guess:1.0\n"
     ]
    },
    {
     "data": {
      "text/html": [
       "<span style = 'color:rgba(253,10,253,0.23464048802852633)'>_This</span><span style = 'color:rgba(253,10,253,0.23464048802852633)'>_is</span><span style = 'color:rgba(253,10,253,0.23464048802852633)'>_the</span><span style = 'color:rgba(253,10,253,0.23464048802852633)'>_second</span><span style = 'color:rgba(253,10,253,0.23568305969238282)'>_Animatrix</span><span style = 'color:rgba(253,10,253,0.23464048802852633)'>_short,</span><span style = 'color:rgba(253,10,253,0.23464048802852633)'>_and</span><span style = 'color:rgba(253,10,253,0.23464048802852633)'>_the</span><span style = 'color:rgba(253,10,253,0.23464048802852633)'>_first</span><span style = 'color:rgba(253,10,253,0.23464048802852633)'>_of</span><span style = 'color:rgba(253,10,253,0.23464048802852633)'>_them</span><span style = 'color:rgba(253,10,253,0.24084140062332154)'>_to</span><span style = 'color:rgba(253,10,253,0.24059866070747377)'>_be</span><span style = 'color:rgba(253,10,253,0.2504745483398438)'>_what</span><span style = 'color:rgba(253,10,253,0.23542349934577944)'>_one</span><span style = 'color:rgba(253,10,253,0.25259956121444704)'>_could</span><span style = 'color:rgba(253,10,253,0.29301036000251773)'>_call</span><span style = 'color:rgba(253,10,253,0.23568305969238282)'>_'artistic'.</span><span style = 'color:rgba(253,10,253,0.23464048802852633)'>_It</span><span style = 'color:rgba(253,10,253,0.23464048802852633)'>_contains</span>"
      ],
      "text/plain": [
       "<IPython.core.display.HTML object>"
      ]
     },
     "metadata": {},
     "output_type": "display_data"
    },
    {
     "data": {
      "text/html": [
       "<span style = 'color:rgba(253,10,10,0.23567776381969452)'>_This</span><span style = 'color:rgba(253,10,10,0.25592661499977115)'>_is</span><span style = 'color:rgba(253,10,10,0.2352495849132538)'>_the</span><span style = 'color:rgba(253,10,10,0.23178829550743105)'>_second</span><span style = 'color:rgba(253,10,10,0.22891078591346742)'>_Animatrix</span><span style = 'color:rgba(253,10,10,0.23745236098766329)'>_short,</span><span style = 'color:rgba(253,10,10,0.2648270070552826)'>_and</span><span style = 'color:rgba(253,10,10,0.2352495849132538)'>_the</span><span style = 'color:rgba(253,10,10,0.2704582989215851)'>_first</span><span style = 'color:rgba(253,10,10,0.3005295395851135)'>_of</span><span style = 'color:rgba(253,10,10,0.233302041888237)'>_them</span><span style = 'color:rgba(253,10,10,0.22891078591346742)'>_to</span><span style = 'color:rgba(253,10,10,0.22891078591346742)'>_be</span><span style = 'color:rgba(253,10,10,0.22891078591346742)'>_what</span><span style = 'color:rgba(253,10,10,0.22891078591346742)'>_one</span><span style = 'color:rgba(253,10,10,0.22891078591346742)'>_could</span><span style = 'color:rgba(253,10,10,0.22891078591346742)'>_call</span><span style = 'color:rgba(253,10,10,0.22891078591346742)'>_'artistic'.</span><span style = 'color:rgba(253,10,10,0.23866834938526155)'>_It</span><span style = 'color:rgba(253,10,10,0.22958425879478456)'>_contains</span>"
      ],
      "text/plain": [
       "<IPython.core.display.HTML object>"
      ]
     },
     "metadata": {},
     "output_type": "display_data"
    },
    {
     "name": "stdout",
     "output_type": "stream",
     "text": [
      "label:0.0\t guess:0.0\n"
     ]
    },
    {
     "data": {
      "text/html": [
       "<span style = 'color:rgba(253,10,253,0.23493333756923676)'>_This</span><span style = 'color:rgba(253,10,253,0.23493333756923676)'>_movie</span><span style = 'color:rgba(253,10,253,0.2700146794319153)'>_was</span><span style = 'color:rgba(253,10,253,0.23598472177982333)'>_astonishing.</span><span style = 'color:rgba(253,10,253,0.23493333756923676)'>_It</span><span style = 'color:rgba(253,10,253,0.23493333756923676)'>_is</span><span style = 'color:rgba(253,10,253,0.23493333756923676)'>_beyond</span><span style = 'color:rgba(253,10,253,0.23598472177982333)'>_atrocious.</span><span style = 'color:rgba(253,10,253,0.23493333756923676)'>_I</span><span style = 'color:rgba(253,10,253,0.23493333756923676)'>_often</span><span style = 'color:rgba(253,10,253,0.23493333756923676)'>_get</span><span style = 'color:rgba(253,10,253,0.23493333756923676)'>_together</span><span style = 'color:rgba(253,10,253,0.23493333756923676)'>_with</span><span style = 'color:rgba(253,10,253,0.24030074775218965)'>_a</span><span style = 'color:rgba(253,10,253,0.2741900265216828)'>_group</span><span style = 'color:rgba(253,10,253,0.23493333756923676)'>_of</span><span style = 'color:rgba(253,10,253,0.23493333756923676)'>_friends</span><span style = 'color:rgba(253,10,253,0.23493333756923676)'>_and</span><span style = 'color:rgba(253,10,253,0.24820507466793063)'>_go</span><span style = 'color:rgba(253,10,253,0.2411866694688797)'>_to</span>"
      ],
      "text/plain": [
       "<IPython.core.display.HTML object>"
      ]
     },
     "metadata": {},
     "output_type": "display_data"
    },
    {
     "data": {
      "text/html": [
       "<span style = 'color:rgba(253,10,10,0.23402313590049745)'>_This</span><span style = 'color:rgba(253,10,10,0.24536103308200838)'>_movie</span><span style = 'color:rgba(253,10,10,0.22756999135017397)'>_was</span><span style = 'color:rgba(253,10,10,0.22756999135017397)'>_astonishing.</span><span style = 'color:rgba(253,10,10,0.2368750274181366)'>_It</span><span style = 'color:rgba(253,10,10,0.25333290696144106)'>_is</span><span style = 'color:rgba(253,10,10,0.2309774845838547)'>_beyond</span><span style = 'color:rgba(253,10,10,0.22756999135017397)'>_atrocious.</span><span style = 'color:rgba(253,10,10,0.23672391176223756)'>_I</span><span style = 'color:rgba(253,10,10,0.24814631044864655)'>_often</span><span style = 'color:rgba(253,10,10,0.235735422372818)'>_get</span><span style = 'color:rgba(253,10,10,0.24687711000442505)'>_together</span><span style = 'color:rgba(253,10,10,0.23751492202281954)'>_with</span><span style = 'color:rgba(253,10,10,0.22756999135017397)'>_a</span><span style = 'color:rgba(253,10,10,0.22756999135017397)'>_group</span><span style = 'color:rgba(253,10,10,0.29586728215217595)'>_of</span><span style = 'color:rgba(253,10,10,0.24375497102737428)'>_friends</span><span style = 'color:rgba(253,10,10,0.261820524930954)'>_and</span><span style = 'color:rgba(253,10,10,0.22756999135017397)'>_go</span><span style = 'color:rgba(253,10,10,0.22756999135017397)'>_to</span>"
      ],
      "text/plain": [
       "<IPython.core.display.HTML object>"
      ]
     },
     "metadata": {},
     "output_type": "display_data"
    },
    {
     "name": "stdout",
     "output_type": "stream",
     "text": [
      "label:1.0\t guess:1.0\n"
     ]
    },
    {
     "data": {
      "text/html": [
       "<span style = 'color:rgba(253,10,253,0.23156999349594118)'>_I</span><span style = 'color:rgba(253,10,253,0.30552712678909305)'>_don't</span><span style = 'color:rgba(253,10,253,0.23156999349594118)'>_know</span><span style = 'color:rgba(253,10,253,0.24600054025650026)'>_what</span><span style = 'color:rgba(253,10,253,0.23156999349594118)'>_it</span><span style = 'color:rgba(253,10,253,0.23156999349594118)'>_is</span><span style = 'color:rgba(253,10,253,0.23156999349594118)'>_I</span><span style = 'color:rgba(253,10,253,0.23156999349594118)'>_find</span><span style = 'color:rgba(253,10,253,0.23156999349594118)'>_so</span><span style = 'color:rgba(253,10,253,0.23156999349594118)'>_endearing</span><span style = 'color:rgba(253,10,253,0.24477086663246156)'>_about</span><span style = 'color:rgba(253,10,253,0.24168876111507417)'>_this</span><span style = 'color:rgba(253,10,253,0.26872345209121706)'>_film,</span><span style = 'color:rgba(253,10,253,0.23156999349594118)'>_but</span><span style = 'color:rgba(253,10,253,0.23156999349594118)'>_the</span><span style = 'color:rgba(253,10,253,0.23156999349594118)'>_first</span><span style = 'color:rgba(253,10,253,0.23216805756092074)'>_time</span><span style = 'color:rgba(253,10,253,0.23156999349594118)'>_I</span><span style = 'color:rgba(253,10,253,0.2507113039493561)'>_saw</span><span style = 'color:rgba(253,10,253,0.23156999349594118)'>_it,</span>"
      ],
      "text/plain": [
       "<IPython.core.display.HTML object>"
      ]
     },
     "metadata": {},
     "output_type": "display_data"
    },
    {
     "data": {
      "text/html": [
       "<span style = 'color:rgba(253,10,10,0.2352141320705414)'>_I</span><span style = 'color:rgba(253,10,10,0.22643654346466066)'>_don't</span><span style = 'color:rgba(253,10,10,0.25986717939376835)'>_know</span><span style = 'color:rgba(253,10,10,0.22643654346466066)'>_what</span><span style = 'color:rgba(253,10,10,0.24005527794361115)'>_it</span><span style = 'color:rgba(253,10,10,0.2511403024196625)'>_is</span><span style = 'color:rgba(253,10,10,0.2352141320705414)'>_I</span><span style = 'color:rgba(253,10,10,0.245404452085495)'>_find</span><span style = 'color:rgba(253,10,10,0.23035452961921693)'>_so</span><span style = 'color:rgba(253,10,10,0.29800570011138916)'>_endearing</span><span style = 'color:rgba(253,10,10,0.22643654346466066)'>_about</span><span style = 'color:rgba(253,10,10,0.22643654346466066)'>_this</span><span style = 'color:rgba(253,10,10,0.22643654346466066)'>_film,</span><span style = 'color:rgba(253,10,10,0.2401178538799286)'>_but</span><span style = 'color:rgba(253,10,10,0.2322328567504883)'>_the</span><span style = 'color:rgba(253,10,10,0.26442833542823796)'>_first</span><span style = 'color:rgba(253,10,10,0.22643654346466066)'>_time</span><span style = 'color:rgba(253,10,10,0.2352141320705414)'>_I</span><span style = 'color:rgba(253,10,10,0.22643654346466066)'>_saw</span><span style = 'color:rgba(253,10,10,0.2476952910423279)'>_it,</span>"
      ],
      "text/plain": [
       "<IPython.core.display.HTML object>"
      ]
     },
     "metadata": {},
     "output_type": "display_data"
    },
    {
     "name": "stdout",
     "output_type": "stream",
     "text": [
      "label:0.0\t guess:0.0\n"
     ]
    },
    {
     "data": {
      "text/html": [
       "<span style = 'color:rgba(253,10,253,0.2290978342294693)'>_It</span><span style = 'color:rgba(253,10,253,0.2290978342294693)'>_was</span><span style = 'color:rgba(253,10,253,0.2290978342294693)'>_Jon</span><span style = 'color:rgba(253,10,253,0.2343065679073334)'>_Pertwee</span><span style = 'color:rgba(253,10,253,0.2341026693582535)'>_who</span><span style = 'color:rgba(253,10,253,0.3110211372375489)'>_said</span><span style = 'color:rgba(253,10,253,0.2512248456478119)'>_\"</span><span style = 'color:rgba(253,10,253,0.2295236647129059)'>_It`s</span><span style = 'color:rgba(253,10,253,0.2562743842601776)'>_very</span><span style = 'color:rgba(253,10,253,0.2290978342294693)'>_difficult</span><span style = 'color:rgba(253,10,253,0.2299735873937607)'>_to</span><span style = 'color:rgba(253,10,253,0.2290978342294693)'>_be</span><span style = 'color:rgba(253,10,253,0.2583935856819153)'>_funny</span><span style = 'color:rgba(253,10,253,0.2299735873937607)'>_but</span><span style = 'color:rgba(253,10,253,0.2299735873937607)'>_very</span><span style = 'color:rgba(253,10,253,0.2290978342294693)'>_easy</span><span style = 'color:rgba(253,10,253,0.2512248456478119)'>_to</span><span style = 'color:rgba(253,10,253,0.2290978342294693)'>_be</span><span style = 'color:rgba(253,10,253,0.2290978342294693)'>_silly</span><span style = 'color:rgba(253,10,253,0.2512248456478119)'>_\"</span>"
      ],
      "text/plain": [
       "<IPython.core.display.HTML object>"
      ]
     },
     "metadata": {},
     "output_type": "display_data"
    },
    {
     "data": {
      "text/html": [
       "<span style = 'color:rgba(253,10,10,0.23633174896240236)'>_It</span><span style = 'color:rgba(253,10,10,0.2610684514045716)'>_was</span><span style = 'color:rgba(253,10,10,0.3006357312202454)'>_Jon</span><span style = 'color:rgba(253,10,10,0.2239416092634201)'>_Pertwee</span><span style = 'color:rgba(253,10,10,0.2239416092634201)'>_who</span><span style = 'color:rgba(253,10,10,0.2239416092634201)'>_said</span><span style = 'color:rgba(253,10,10,0.2239416092634201)'>_\"</span><span style = 'color:rgba(253,10,10,0.2239416092634201)'>_It`s</span><span style = 'color:rgba(253,10,10,0.2239416092634201)'>_very</span><span style = 'color:rgba(253,10,10,0.23433582782745363)'>_difficult</span><span style = 'color:rgba(253,10,10,0.2239416092634201)'>_to</span><span style = 'color:rgba(253,10,10,0.22919089794158937)'>_be</span><span style = 'color:rgba(253,10,10,0.2239416092634201)'>_funny</span><span style = 'color:rgba(253,10,10,0.2239416092634201)'>_but</span><span style = 'color:rgba(253,10,10,0.2239416092634201)'>_very</span><span style = 'color:rgba(253,10,10,0.24631396234035494)'>_easy</span><span style = 'color:rgba(253,10,10,0.2239416092634201)'>_to</span><span style = 'color:rgba(253,10,10,0.3041882991790772)'>_be</span><span style = 'color:rgba(253,10,10,0.3006357312202454)'>_silly</span><span style = 'color:rgba(253,10,10,0.2239416092634201)'>_\"</span>"
      ],
      "text/plain": [
       "<IPython.core.display.HTML object>"
      ]
     },
     "metadata": {},
     "output_type": "display_data"
    },
    {
     "name": "stdout",
     "output_type": "stream",
     "text": [
      "label:1.0\t guess:1.0\n"
     ]
    },
    {
     "data": {
      "text/html": [
       "<span style = 'color:rgba(253,10,253,0.23106713593006134)'>_I</span><span style = 'color:rgba(253,10,253,0.23106713593006134)'>_think</span><span style = 'color:rgba(253,10,253,0.25354083776474)'>_it's</span><span style = 'color:rgba(253,10,253,0.23176937699317934)'>_one</span><span style = 'color:rgba(253,10,253,0.23106713593006134)'>_of</span><span style = 'color:rgba(253,10,253,0.23106713593006134)'>_the</span><span style = 'color:rgba(253,10,253,0.23106713593006134)'>_greatest</span><span style = 'color:rgba(253,10,253,0.23106713593006134)'>_movies</span><span style = 'color:rgba(253,10,253,0.2322765052318573)'>_which</span><span style = 'color:rgba(253,10,253,0.23394797444343568)'>_are</span><span style = 'color:rgba(253,10,253,0.2708159148693085)'>_ever</span><span style = 'color:rgba(253,10,253,0.3324806332588196)'>_made,</span><span style = 'color:rgba(253,10,253,0.23106713593006134)'>_and</span><span style = 'color:rgba(253,10,253,0.23106713593006134)'>_I've</span><span style = 'color:rgba(253,10,253,0.23106713593006134)'>_seen</span><span style = 'color:rgba(253,10,253,0.23200215995311738)'>_many...</span><span style = 'color:rgba(253,10,253,0.24036095142364503)'>_The</span><span style = 'color:rgba(253,10,253,0.23106713593006134)'>_book</span><span style = 'color:rgba(253,10,253,0.23106713593006134)'>_is</span><span style = 'color:rgba(253,10,253,0.23106713593006134)'>_better,</span>"
      ],
      "text/plain": [
       "<IPython.core.display.HTML object>"
      ]
     },
     "metadata": {},
     "output_type": "display_data"
    },
    {
     "data": {
      "text/html": [
       "<span style = 'color:rgba(253,10,10,0.22623628675937654)'>_I</span><span style = 'color:rgba(253,10,10,0.2613305032253266)'>_think</span><span style = 'color:rgba(253,10,10,0.21969654709100725)'>_it's</span><span style = 'color:rgba(253,10,10,0.21969654709100725)'>_one</span><span style = 'color:rgba(253,10,10,0.26848947405815127)'>_of</span><span style = 'color:rgba(253,10,10,0.22401508688926697)'>_the</span><span style = 'color:rgba(253,10,10,0.2793888568878174)'>_greatest</span><span style = 'color:rgba(253,10,10,0.23253908455371858)'>_movies</span><span style = 'color:rgba(253,10,10,0.21969654709100725)'>_which</span><span style = 'color:rgba(253,10,10,0.21969654709100725)'>_are</span><span style = 'color:rgba(253,10,10,0.21969654709100725)'>_ever</span><span style = 'color:rgba(253,10,10,0.21969654709100725)'>_made,</span><span style = 'color:rgba(253,10,10,0.24416580200195315)'>_and</span><span style = 'color:rgba(253,10,10,0.22649860382080078)'>_I've</span><span style = 'color:rgba(253,10,10,0.2480574756860733)'>_seen</span><span style = 'color:rgba(253,10,10,0.21969654709100725)'>_many...</span><span style = 'color:rgba(253,10,10,0.21969654709100725)'>_The</span><span style = 'color:rgba(253,10,10,0.3457746148109436)'>_book</span><span style = 'color:rgba(253,10,10,0.23810208141803743)'>_is</span><span style = 'color:rgba(253,10,10,0.2478297680616379)'>_better,</span>"
      ],
      "text/plain": [
       "<IPython.core.display.HTML object>"
      ]
     },
     "metadata": {},
     "output_type": "display_data"
    },
    {
     "name": "stdout",
     "output_type": "stream",
     "text": [
      "label:1.0\t guess:1.0\n"
     ]
    },
    {
     "data": {
      "text/html": [
       "<span style = 'color:rgba(253,10,253,0.23871655464172364)'>_Caution:</span><span style = 'color:rgba(253,10,253,0.2342790096998215)'>_May</span><span style = 'color:rgba(253,10,253,0.2342790096998215)'>_contain</span><span style = 'color:rgba(253,10,253,0.2342790096998215)'>_spoilers...<br</span><span style = 'color:rgba(253,10,253,0.2350538492202759)'>_/><br</span><span style = 'color:rgba(253,10,253,0.24595788717269898)'>_/>I've</span><span style = 'color:rgba(253,10,253,0.2342790096998215)'>_seen</span><span style = 'color:rgba(253,10,253,0.2404152125120163)'>_this</span><span style = 'color:rgba(253,10,253,0.23531070053577424)'>_movie</span><span style = 'color:rgba(253,10,253,0.2342790096998215)'>_3</span><span style = 'color:rgba(253,10,253,0.2342790096998215)'>_times</span><span style = 'color:rgba(253,10,253,0.31325075626373294)'>_&</span><span style = 'color:rgba(253,10,253,0.2342790096998215)'>_I've</span><span style = 'color:rgba(253,10,253,0.24403353929519656)'>_liked</span><span style = 'color:rgba(253,10,253,0.2342790096998215)'>_it</span><span style = 'color:rgba(253,10,253,0.23448913395404816)'>_every</span><span style = 'color:rgba(253,10,253,0.2342790096998215)'>_time.</span><span style = 'color:rgba(253,10,253,0.2350538492202759)'>_Upon</span><span style = 'color:rgba(253,10,253,0.23492839932441711)'>_seeing</span><span style = 'color:rgba(253,10,253,0.2342790096998215)'>_it</span>"
      ],
      "text/plain": [
       "<IPython.core.display.HTML object>"
      ]
     },
     "metadata": {},
     "output_type": "display_data"
    },
    {
     "data": {
      "text/html": [
       "<span style = 'color:rgba(253,10,10,0.23264723718166352)'>_Caution:</span><span style = 'color:rgba(253,10,10,0.23748567402362825)'>_May</span><span style = 'color:rgba(253,10,10,0.24410194456577303)'>_contain</span><span style = 'color:rgba(253,10,10,0.23567302823066713)'>_spoilers...<br</span><span style = 'color:rgba(253,10,10,0.23264723718166352)'>_/><br</span><span style = 'color:rgba(253,10,10,0.23264723718166352)'>_/>I've</span><span style = 'color:rgba(253,10,10,0.2599854648113251)'>_seen</span><span style = 'color:rgba(253,10,10,0.23264723718166352)'>_this</span><span style = 'color:rgba(253,10,10,0.23264723718166352)'>_movie</span><span style = 'color:rgba(253,10,10,0.25150604844093327)'>_3</span><span style = 'color:rgba(253,10,10,0.23616639375686646)'>_times</span><span style = 'color:rgba(253,10,10,0.23264723718166352)'>_&</span><span style = 'color:rgba(253,10,10,0.27802326083183293)'>_I've</span><span style = 'color:rgba(253,10,10,0.23264723718166352)'>_liked</span><span style = 'color:rgba(253,10,10,0.25607124567031864)'>_it</span><span style = 'color:rgba(253,10,10,0.23264723718166352)'>_every</span><span style = 'color:rgba(253,10,10,0.23567302823066713)'>_time.</span><span style = 'color:rgba(253,10,10,0.23264723718166352)'>_Upon</span><span style = 'color:rgba(253,10,10,0.23264723718166352)'>_seeing</span><span style = 'color:rgba(253,10,10,0.23884150385856628)'>_it</span>"
      ],
      "text/plain": [
       "<IPython.core.display.HTML object>"
      ]
     },
     "metadata": {},
     "output_type": "display_data"
    },
    {
     "name": "stdout",
     "output_type": "stream",
     "text": [
      "label:1.0\t guess:1.0\n"
     ]
    },
    {
     "data": {
      "text/html": [
       "<span style = 'color:rgba(253,10,253,0.22789261043071748)'>_This</span><span style = 'color:rgba(253,10,253,0.22789261043071748)'>_is</span><span style = 'color:rgba(253,10,253,0.23217823207378388)'>_a</span><span style = 'color:rgba(253,10,253,0.22789261043071748)'>_great</span><span style = 'color:rgba(253,10,253,0.22789261043071748)'>_show,</span><span style = 'color:rgba(253,10,253,0.22789261043071748)'>_and</span><span style = 'color:rgba(253,10,253,0.22789261043071748)'>_will</span><span style = 'color:rgba(253,10,253,0.24665497243404388)'>_make</span><span style = 'color:rgba(253,10,253,0.22789261043071748)'>_you</span><span style = 'color:rgba(253,10,253,0.2287320911884308)'>_cry,</span><span style = 'color:rgba(253,10,253,0.23683271408081055)'>_this</span><span style = 'color:rgba(253,10,253,0.25923721194267274)'>_group</span><span style = 'color:rgba(253,10,253,0.23142728209495544)'>_people</span><span style = 'color:rgba(253,10,253,0.22789261043071748)'>_really</span><span style = 'color:rgba(253,10,253,0.39368180036544803)'>_loved</span><span style = 'color:rgba(253,10,253,0.22789261043071748)'>_each</span><span style = 'color:rgba(253,10,253,0.22789261043071748)'>_other</span><span style = 'color:rgba(253,10,253,0.23654437363147737)'>_in</span><span style = 'color:rgba(253,10,253,0.22789261043071748)'>_real</span><span style = 'color:rgba(253,10,253,0.22789261043071748)'>_life</span>"
      ],
      "text/plain": [
       "<IPython.core.display.HTML object>"
      ]
     },
     "metadata": {},
     "output_type": "display_data"
    },
    {
     "data": {
      "text/html": [
       "<span style = 'color:rgba(253,10,10,0.22745755314826965)'>_This</span><span style = 'color:rgba(253,10,10,0.24304103553295137)'>_is</span><span style = 'color:rgba(253,10,10,0.2222496971487999)'>_a</span><span style = 'color:rgba(253,10,10,0.3116326451301575)'>_great</span><span style = 'color:rgba(253,10,10,0.2674221754074097)'>_show,</span><span style = 'color:rgba(253,10,10,0.24989076554775239)'>_and</span><span style = 'color:rgba(253,10,10,0.24405857026576996)'>_will</span><span style = 'color:rgba(253,10,10,0.2222496971487999)'>_make</span><span style = 'color:rgba(253,10,10,0.24232462942600252)'>_you</span><span style = 'color:rgba(253,10,10,0.2222496971487999)'>_cry,</span><span style = 'color:rgba(253,10,10,0.2222496971487999)'>_this</span><span style = 'color:rgba(253,10,10,0.2222496971487999)'>_group</span><span style = 'color:rgba(253,10,10,0.2222496971487999)'>_people</span><span style = 'color:rgba(253,10,10,0.24965921342372896)'>_really</span><span style = 'color:rgba(253,10,10,0.2222496971487999)'>_loved</span><span style = 'color:rgba(253,10,10,0.2470733255147934)'>_each</span><span style = 'color:rgba(253,10,10,0.2439445972442627)'>_other</span><span style = 'color:rgba(253,10,10,0.2222496971487999)'>_in</span><span style = 'color:rgba(253,10,10,0.24525315761566163)'>_real</span><span style = 'color:rgba(253,10,10,0.25024476647377014)'>_life</span>"
      ],
      "text/plain": [
       "<IPython.core.display.HTML object>"
      ]
     },
     "metadata": {},
     "output_type": "display_data"
    },
    {
     "name": "stdout",
     "output_type": "stream",
     "text": [
      "label:1.0\t guess:1.0\n"
     ]
    },
    {
     "data": {
      "text/html": [
       "<span style = 'color:rgba(253,10,253,0.22753480076789856)'>_I</span><span style = 'color:rgba(253,10,253,0.2436960726976395)'>_absolutely</span><span style = 'color:rgba(253,10,253,0.3911972284317017)'>_loved</span><span style = 'color:rgba(253,10,253,0.23636021912097932)'>_this</span><span style = 'color:rgba(253,10,253,0.22753480076789856)'>_movie.</span><span style = 'color:rgba(253,10,253,0.22753480076789856)'>_I</span><span style = 'color:rgba(253,10,253,0.22753480076789856)'>_bought</span><span style = 'color:rgba(253,10,253,0.22753480076789856)'>_it</span><span style = 'color:rgba(253,10,253,0.22753480076789856)'>_as</span><span style = 'color:rgba(253,10,253,0.23964455127716067)'>_soon</span><span style = 'color:rgba(253,10,253,0.22753480076789856)'>_as</span><span style = 'color:rgba(253,10,253,0.22753480076789856)'>_I</span><span style = 'color:rgba(253,10,253,0.2418099880218506)'>_could</span><span style = 'color:rgba(253,10,253,0.22753480076789856)'>_find</span><span style = 'color:rgba(253,10,253,0.2317654460668564)'>_a</span><span style = 'color:rgba(253,10,253,0.22753480076789856)'>_copy</span><span style = 'color:rgba(253,10,253,0.22753480076789856)'>_of</span><span style = 'color:rgba(253,10,253,0.257574075460434)'>_it.</span><span style = 'color:rgba(253,10,253,0.22753480076789856)'>_This</span><span style = 'color:rgba(253,10,253,0.22753480076789856)'>_movie</span>"
      ],
      "text/plain": [
       "<IPython.core.display.HTML object>"
      ]
     },
     "metadata": {},
     "output_type": "display_data"
    },
    {
     "data": {
      "text/html": [
       "<span style = 'color:rgba(253,10,10,0.23464109003543854)'>_I</span><span style = 'color:rgba(253,10,10,0.2260063409805298)'>_absolutely</span><span style = 'color:rgba(253,10,10,0.2260063409805298)'>_loved</span><span style = 'color:rgba(253,10,10,0.2260063409805298)'>_this</span><span style = 'color:rgba(253,10,10,0.28018010258674625)'>_movie.</span><span style = 'color:rgba(253,10,10,0.23464109003543854)'>_I</span><span style = 'color:rgba(253,10,10,0.23795648217201235)'>_bought</span><span style = 'color:rgba(253,10,10,0.23940345942974092)'>_it</span><span style = 'color:rgba(253,10,10,0.2522566080093384)'>_as</span><span style = 'color:rgba(253,10,10,0.2260063409805298)'>_soon</span><span style = 'color:rgba(253,10,10,0.2522566080093384)'>_as</span><span style = 'color:rgba(253,10,10,0.23464109003543854)'>_I</span><span style = 'color:rgba(253,10,10,0.2260063409805298)'>_could</span><span style = 'color:rgba(253,10,10,0.24466558098793031)'>_find</span><span style = 'color:rgba(253,10,10,0.2260063409805298)'>_a</span><span style = 'color:rgba(253,10,10,0.24200153052806855)'>_copy</span><span style = 'color:rgba(253,10,10,0.29043010473251346)'>_of</span><span style = 'color:rgba(253,10,10,0.2260063409805298)'>_it.</span><span style = 'color:rgba(253,10,10,0.23209349215030672)'>_This</span><span style = 'color:rgba(253,10,10,0.24278835356235506)'>_movie</span>"
      ],
      "text/plain": [
       "<IPython.core.display.HTML object>"
      ]
     },
     "metadata": {},
     "output_type": "display_data"
    },
    {
     "name": "stdout",
     "output_type": "stream",
     "text": [
      "label:1.0\t guess:1.0\n"
     ]
    },
    {
     "data": {
      "text/html": [
       "<span style = 'color:rgba(253,10,253,0.23248767256736758)'>_This</span><span style = 'color:rgba(253,10,253,0.23248767256736758)'>_is</span><span style = 'color:rgba(253,10,253,0.23248767256736758)'>_an</span><span style = 'color:rgba(253,10,253,0.24669640362262726)'>_early</span><span style = 'color:rgba(253,10,253,0.23965018689632417)'>_film</span><span style = 'color:rgba(253,10,253,0.233465451002121)'>_\"Pilot\"</span><span style = 'color:rgba(253,10,253,0.24134007990360262)'>_for</span><span style = 'color:rgba(253,10,253,0.23248767256736758)'>_the</span><span style = 'color:rgba(253,10,253,0.23248767256736758)'>_hit</span><span style = 'color:rgba(253,10,253,0.24315275847911835)'>_Canadian</span><span style = 'color:rgba(253,10,253,0.233465451002121)'>_tv</span><span style = 'color:rgba(253,10,253,0.26855077743530276)'>_show</span><span style = 'color:rgba(253,10,253,0.233465451002121)'>_Trailer</span><span style = 'color:rgba(253,10,253,0.23248767256736758)'>_Park</span><span style = 'color:rgba(253,10,253,0.233465451002121)'>_Boys.</span><span style = 'color:rgba(253,10,253,0.23248767256736758)'>_It</span><span style = 'color:rgba(253,10,253,0.26511299014091494)'>_was</span><span style = 'color:rgba(253,10,253,0.2624525845050812)'>_played</span><span style = 'color:rgba(253,10,253,0.23830321431159973)'>_to</span><span style = 'color:rgba(253,10,253,0.233465451002121)'>_executives</span>"
      ],
      "text/plain": [
       "<IPython.core.display.HTML object>"
      ]
     },
     "metadata": {},
     "output_type": "display_data"
    },
    {
     "data": {
      "text/html": [
       "<span style = 'color:rgba(253,10,10,0.23799380362033845)'>_This</span><span style = 'color:rgba(253,10,10,0.25955712199211123)'>_is</span><span style = 'color:rgba(253,10,10,0.24501998722553253)'>_an</span><span style = 'color:rgba(253,10,10,0.23078754842281343)'>_early</span><span style = 'color:rgba(253,10,10,0.23078754842281343)'>_film</span><span style = 'color:rgba(253,10,10,0.23078754842281343)'>_\"Pilot\"</span><span style = 'color:rgba(253,10,10,0.23078754842281343)'>_for</span><span style = 'color:rgba(253,10,10,0.23753783106803894)'>_the</span><span style = 'color:rgba(253,10,10,0.2424497753381729)'>_hit</span><span style = 'color:rgba(253,10,10,0.23078754842281343)'>_Canadian</span><span style = 'color:rgba(253,10,10,0.23078754842281343)'>_tv</span><span style = 'color:rgba(253,10,10,0.23078754842281343)'>_show</span><span style = 'color:rgba(253,10,10,0.23078754842281343)'>_Trailer</span><span style = 'color:rgba(253,10,10,0.33602482080459595)'>_Park</span><span style = 'color:rgba(253,10,10,0.23078754842281343)'>_Boys.</span><span style = 'color:rgba(253,10,10,0.24117852151393893)'>_It</span><span style = 'color:rgba(253,10,10,0.23078754842281343)'>_was</span><span style = 'color:rgba(253,10,10,0.23078754842281343)'>_played</span><span style = 'color:rgba(253,10,10,0.23078754842281343)'>_to</span><span style = 'color:rgba(253,10,10,0.23078754842281343)'>_executives</span>"
      ],
      "text/plain": [
       "<IPython.core.display.HTML object>"
      ]
     },
     "metadata": {},
     "output_type": "display_data"
    },
    {
     "name": "stdout",
     "output_type": "stream",
     "text": [
      "label:1.0\t guess:1.0\n"
     ]
    },
    {
     "data": {
      "text/html": [
       "<span style = 'color:rgba(253,10,253,0.23570603728294373)'>_I</span><span style = 'color:rgba(253,10,253,0.23762749433517458)'>_found</span><span style = 'color:rgba(253,10,253,0.24715048670768738)'>_this</span><span style = 'color:rgba(253,10,253,0.23570603728294373)'>_movie</span><span style = 'color:rgba(253,10,253,0.24209769070148468)'>_to</span><span style = 'color:rgba(253,10,253,0.24184747934341433)'>_be</span><span style = 'color:rgba(253,10,253,0.23570603728294373)'>_very</span><span style = 'color:rgba(253,10,253,0.23678067922592164)'>_well-paced.</span><span style = 'color:rgba(253,10,253,0.24638758897781374)'>_The</span><span style = 'color:rgba(253,10,253,0.23570603728294373)'>_premise</span><span style = 'color:rgba(253,10,253,0.23570603728294373)'>_is</span><span style = 'color:rgba(253,10,253,0.23570603728294373)'>_quite</span><span style = 'color:rgba(253,10,253,0.23678067922592164)'>_imaginative,</span><span style = 'color:rgba(253,10,253,0.23570603728294373)'>_and</span><span style = 'color:rgba(253,10,253,0.23570603728294373)'>_as</span><span style = 'color:rgba(253,10,253,0.2411921709775925)'>_a</span><span style = 'color:rgba(253,10,253,0.24151197969913485)'>_viewer</span><span style = 'color:rgba(253,10,253,0.23570603728294373)'>_I</span><span style = 'color:rgba(253,10,253,0.2715633511543274)'>_was</span><span style = 'color:rgba(253,10,253,0.23570603728294373)'>_pulled</span>"
      ],
      "text/plain": [
       "<IPython.core.display.HTML object>"
      ]
     },
     "metadata": {},
     "output_type": "display_data"
    },
    {
     "data": {
      "text/html": [
       "<span style = 'color:rgba(253,10,10,0.2340361535549164)'>_I</span><span style = 'color:rgba(253,10,10,0.22555219531059267)'>_found</span><span style = 'color:rgba(253,10,10,0.22555219531059267)'>_this</span><span style = 'color:rgba(253,10,10,0.24204114377498628)'>_movie</span><span style = 'color:rgba(253,10,10,0.22555219531059267)'>_to</span><span style = 'color:rgba(253,10,10,0.22555219531059267)'>_be</span><span style = 'color:rgba(253,10,10,0.2651766121387482)'>_very</span><span style = 'color:rgba(253,10,10,0.22555219531059267)'>_well-paced.</span><span style = 'color:rgba(253,10,10,0.22555219531059267)'>_The</span><span style = 'color:rgba(253,10,10,0.30842108726501466)'>_premise</span><span style = 'color:rgba(253,10,10,0.2494295656681061)'>_is</span><span style = 'color:rgba(253,10,10,0.2561548471450806)'>_quite</span><span style = 'color:rgba(253,10,10,0.22555219531059267)'>_imaginative,</span><span style = 'color:rgba(253,10,10,0.25729599595069885)'>_and</span><span style = 'color:rgba(253,10,10,0.25134405493736267)'>_as</span><span style = 'color:rgba(253,10,10,0.22555219531059267)'>_a</span><span style = 'color:rgba(253,10,10,0.22555219531059267)'>_viewer</span><span style = 'color:rgba(253,10,10,0.2340361535549164)'>_I</span><span style = 'color:rgba(253,10,10,0.22555219531059267)'>_was</span><span style = 'color:rgba(253,10,10,0.24654241502285004)'>_pulled</span>"
      ],
      "text/plain": [
       "<IPython.core.display.HTML object>"
      ]
     },
     "metadata": {},
     "output_type": "display_data"
    },
    {
     "name": "stdout",
     "output_type": "stream",
     "text": [
      "label:0.0\t guess:0.0\n"
     ]
    },
    {
     "data": {
      "text/html": [
       "<span style = 'color:rgba(253,10,253,0.23464147150516512)'>_I</span><span style = 'color:rgba(253,10,253,0.23464147150516512)'>_wonder</span><span style = 'color:rgba(253,10,253,0.23464147150516512)'>_who,</span><span style = 'color:rgba(253,10,253,0.23464147150516512)'>_how</span><span style = 'color:rgba(253,10,253,0.23464147150516512)'>_and</span><span style = 'color:rgba(253,10,253,0.23464147150516512)'>_more</span><span style = 'color:rgba(253,10,253,0.235684072971344)'>_importantly</span><span style = 'color:rgba(253,10,253,0.25492964982986455)'>_why</span><span style = 'color:rgba(253,10,253,0.23464147150516512)'>_the</span><span style = 'color:rgba(253,10,253,0.24536478817462923)'>_decision</span><span style = 'color:rgba(253,10,253,0.24084255993366244)'>_to</span><span style = 'color:rgba(253,10,253,0.29301300048828127)'>_call</span><span style = 'color:rgba(253,10,253,0.23464147150516512)'>_Richard</span><span style = 'color:rgba(253,10,253,0.235684072971344)'>_Attenborough</span><span style = 'color:rgba(253,10,253,0.24084255993366244)'>_to</span><span style = 'color:rgba(253,10,253,0.23585644960403443)'>_direct</span><span style = 'color:rgba(253,10,253,0.23464147150516512)'>_the</span><span style = 'color:rgba(253,10,253,0.23464147150516512)'>_most</span><span style = 'color:rgba(253,10,253,0.235684072971344)'>_singular</span><span style = 'color:rgba(253,10,253,0.235684072971344)'>_sensation</span>"
      ],
      "text/plain": [
       "<IPython.core.display.HTML object>"
      ]
     },
     "metadata": {},
     "output_type": "display_data"
    },
    {
     "data": {
      "text/html": [
       "<span style = 'color:rgba(253,10,10,0.23136796951293948)'>_I</span><span style = 'color:rgba(253,10,10,0.2696610987186432)'>_wonder</span><span style = 'color:rgba(253,10,10,0.2864761114120484)'>_who,</span><span style = 'color:rgba(253,10,10,0.2508146405220032)'>_how</span><span style = 'color:rgba(253,10,10,0.2528044104576111)'>_and</span><span style = 'color:rgba(253,10,10,0.25663793087005615)'>_more</span><span style = 'color:rgba(253,10,10,0.22354909032583237)'>_importantly</span><span style = 'color:rgba(253,10,10,0.22354909032583237)'>_why</span><span style = 'color:rgba(253,10,10,0.22871231734752656)'>_the</span><span style = 'color:rgba(253,10,10,0.22354909032583237)'>_decision</span><span style = 'color:rgba(253,10,10,0.22354909032583237)'>_to</span><span style = 'color:rgba(253,10,10,0.22354909032583237)'>_call</span><span style = 'color:rgba(253,10,10,0.3228925704956055)'>_Richard</span><span style = 'color:rgba(253,10,10,0.22354909032583237)'>_Attenborough</span><span style = 'color:rgba(253,10,10,0.22354909032583237)'>_to</span><span style = 'color:rgba(253,10,10,0.22354909032583237)'>_direct</span><span style = 'color:rgba(253,10,10,0.22871231734752656)'>_the</span><span style = 'color:rgba(253,10,10,0.23642972111701965)'>_most</span><span style = 'color:rgba(253,10,10,0.22354909032583237)'>_singular</span><span style = 'color:rgba(253,10,10,0.22354909032583237)'>_sensation</span>"
      ],
      "text/plain": [
       "<IPython.core.display.HTML object>"
      ]
     },
     "metadata": {},
     "output_type": "display_data"
    },
    {
     "name": "stdout",
     "output_type": "stream",
     "text": [
      "label:1.0\t guess:1.0\n"
     ]
    },
    {
     "data": {
      "text/html": [
       "<span style = 'color:rgba(253,10,253,0.23694007694721222)'>_Be</span><span style = 'color:rgba(253,10,253,0.2367126375436783)'>_careful</span><span style = 'color:rgba(253,10,253,0.23563998341560366)'>_with</span><span style = 'color:rgba(253,10,253,0.24706326127052308)'>_this</span><span style = 'color:rgba(253,10,253,0.2781336009502411)'>_one.</span><span style = 'color:rgba(253,10,253,0.2622600674629212)'>_Once</span><span style = 'color:rgba(253,10,253,0.23563998341560366)'>_you</span><span style = 'color:rgba(253,10,253,0.23563998341560366)'>_get</span><span style = 'color:rgba(253,10,253,0.2367126375436783)'>_yer</span><span style = 'color:rgba(253,10,253,0.2367126375436783)'>_mitts</span><span style = 'color:rgba(253,10,253,0.23563998341560366)'>_on</span><span style = 'color:rgba(253,10,253,0.23563998341560366)'>_it,</span><span style = 'color:rgba(253,10,253,0.2367126375436783)'>_it'll</span><span style = 'color:rgba(253,10,253,0.23563998341560366)'>_change</span><span style = 'color:rgba(253,10,253,0.23563998341560366)'>_the</span><span style = 'color:rgba(253,10,253,0.23563998341560366)'>_way</span><span style = 'color:rgba(253,10,253,0.23563998341560366)'>_you</span><span style = 'color:rgba(253,10,253,0.23563998341560366)'>_look</span><span style = 'color:rgba(253,10,253,0.23563998341560366)'>_at</span><span style = 'color:rgba(253,10,253,0.2367126375436783)'>_kung-fu</span>"
      ],
      "text/plain": [
       "<IPython.core.display.HTML object>"
      ]
     },
     "metadata": {},
     "output_type": "display_data"
    },
    {
     "data": {
      "text/html": [
       "<span style = 'color:rgba(253,10,10,0.23081639409065247)'>_Be</span><span style = 'color:rgba(253,10,10,0.23081639409065247)'>_careful</span><span style = 'color:rgba(253,10,10,0.24193235337734223)'>_with</span><span style = 'color:rgba(253,10,10,0.23081639409065247)'>_this</span><span style = 'color:rgba(253,10,10,0.23081639409065247)'>_one.</span><span style = 'color:rgba(253,10,10,0.23081639409065247)'>_Once</span><span style = 'color:rgba(253,10,10,0.25862068533897403)'>_you</span><span style = 'color:rgba(253,10,10,0.23994331657886506)'>_get</span><span style = 'color:rgba(253,10,10,0.23081639409065247)'>_yer</span><span style = 'color:rgba(253,10,10,0.23081639409065247)'>_mitts</span><span style = 'color:rgba(253,10,10,0.23090251684188845)'>_on</span><span style = 'color:rgba(253,10,10,0.25559716224670415)'>_it,</span><span style = 'color:rgba(253,10,10,0.23081639409065247)'>_it'll</span><span style = 'color:rgba(253,10,10,0.25072448253631596)'>_change</span><span style = 'color:rgba(253,10,10,0.23757300674915316)'>_the</span><span style = 'color:rgba(253,10,10,0.23490241169929504)'>_way</span><span style = 'color:rgba(253,10,10,0.25862068533897403)'>_you</span><span style = 'color:rgba(253,10,10,0.28016330003738404)'>_look</span><span style = 'color:rgba(253,10,10,0.23367250561714173)'>_at</span><span style = 'color:rgba(253,10,10,0.23081639409065247)'>_kung-fu</span>"
      ],
      "text/plain": [
       "<IPython.core.display.HTML object>"
      ]
     },
     "metadata": {},
     "output_type": "display_data"
    },
    {
     "name": "stdout",
     "output_type": "stream",
     "text": [
      "label:1.0\t guess:1.0\n"
     ]
    },
    {
     "data": {
      "text/html": [
       "<span style = 'color:rgba(253,10,253,0.2335936188697815)'>_Since</span><span style = 'color:rgba(253,10,253,0.2519820272922516)'>_it</span><span style = 'color:rgba(253,10,253,0.2335936188697815)'>_has</span><span style = 'color:rgba(253,10,253,0.2335936188697815)'>_been</span><span style = 'color:rgba(253,10,253,0.2335936188697815)'>_some</span><span style = 'color:rgba(253,10,253,0.2335936188697815)'>_years</span><span style = 'color:rgba(253,10,253,0.23460468351840974)'>_since</span><span style = 'color:rgba(253,10,253,0.24436100125312807)'>_I</span><span style = 'color:rgba(253,10,253,0.2335936188697815)'>_reviewed</span><span style = 'color:rgba(253,10,253,0.2335936188697815)'>_this</span><span style = 'color:rgba(253,10,253,0.24025287926197053)'>_classic</span><span style = 'color:rgba(253,10,253,0.2496082365512848)'>_I</span><span style = 'color:rgba(253,10,253,0.23960713446140292)'>_have</span><span style = 'color:rgba(253,10,253,0.24635637998580934)'>_decided</span><span style = 'color:rgba(253,10,253,0.2335936188697815)'>_to</span><span style = 'color:rgba(253,10,253,0.2335936188697815)'>_go</span><span style = 'color:rgba(253,10,253,0.2796841084957123)'>_back</span><span style = 'color:rgba(253,10,253,0.2335936188697815)'>_and</span><span style = 'color:rgba(253,10,253,0.2335936188697815)'>_review</span><span style = 'color:rgba(253,10,253,0.24401372969150545)'>_it</span>"
      ],
      "text/plain": [
       "<IPython.core.display.HTML object>"
      ]
     },
     "metadata": {},
     "output_type": "display_data"
    },
    {
     "data": {
      "text/html": [
       "<span style = 'color:rgba(253,10,10,0.23731921017169955)'>_Since</span><span style = 'color:rgba(253,10,10,0.22865087389945984)'>_it</span><span style = 'color:rgba(253,10,10,0.24102570712566376)'>_has</span><span style = 'color:rgba(253,10,10,0.25341629385948183)'>_been</span><span style = 'color:rgba(253,10,10,0.24641208946704865)'>_some</span><span style = 'color:rgba(253,10,10,0.2381636738777161)'>_years</span><span style = 'color:rgba(253,10,10,0.22865087389945984)'>_since</span><span style = 'color:rgba(253,10,10,0.22865087389945984)'>_I</span><span style = 'color:rgba(253,10,10,0.2655961394309998)'>_reviewed</span><span style = 'color:rgba(253,10,10,0.2381636738777161)'>_this</span><span style = 'color:rgba(253,10,10,0.22865087389945984)'>_classic</span><span style = 'color:rgba(253,10,10,0.22865087389945984)'>_I</span><span style = 'color:rgba(253,10,10,0.22865087389945984)'>_have</span><span style = 'color:rgba(253,10,10,0.22865087389945984)'>_decided</span><span style = 'color:rgba(253,10,10,0.24548259377479553)'>_to</span><span style = 'color:rgba(253,10,10,0.2642442047595978)'>_go</span><span style = 'color:rgba(253,10,10,0.22865087389945984)'>_back</span><span style = 'color:rgba(253,10,10,0.24341032207012178)'>_and</span><span style = 'color:rgba(253,10,10,0.26890823841094974)'>_review</span><span style = 'color:rgba(253,10,10,0.22865087389945984)'>_it</span>"
      ],
      "text/plain": [
       "<IPython.core.display.HTML object>"
      ]
     },
     "metadata": {},
     "output_type": "display_data"
    },
    {
     "name": "stdout",
     "output_type": "stream",
     "text": [
      "label:1.0\t guess:1.0\n"
     ]
    },
    {
     "data": {
      "text/html": [
       "<span style = 'color:rgba(253,10,253,0.22642298936843874)'>_This</span><span style = 'color:rgba(253,10,253,0.22642298936843874)'>_movie</span><span style = 'color:rgba(253,10,253,0.2529579341411591)'>_was</span><span style = 'color:rgba(253,10,253,0.22642298936843874)'>_well</span><span style = 'color:rgba(253,10,253,0.3754578948020935)'>_done</span><span style = 'color:rgba(253,10,253,0.23461890518665315)'>_in</span><span style = 'color:rgba(253,10,253,0.24964524507522584)'>_all</span><span style = 'color:rgba(253,10,253,0.22721824049949646)'>_respects.</span><span style = 'color:rgba(253,10,253,0.234327495098114)'>_The</span><span style = 'color:rgba(253,10,253,0.22642298936843874)'>_acting</span><span style = 'color:rgba(253,10,253,0.22642298936843874)'>_is</span><span style = 'color:rgba(253,10,253,0.22642298936843874)'>_superb</span><span style = 'color:rgba(253,10,253,0.26330313086509705)'>_along</span><span style = 'color:rgba(253,10,253,0.22642298936843874)'>_with</span><span style = 'color:rgba(253,10,253,0.22642298936843874)'>_the</span><span style = 'color:rgba(253,10,253,0.22642298936843874)'>_fine</span><span style = 'color:rgba(253,10,253,0.22721824049949646)'>_audio</span><span style = 'color:rgba(253,10,253,0.24357144832611086)'>_soundtrack</span><span style = 'color:rgba(253,10,253,0.2274515748023987)'>_which</span><span style = 'color:rgba(253,10,253,0.22642298936843874)'>_I</span>"
      ],
      "text/plain": [
       "<IPython.core.display.HTML object>"
      ]
     },
     "metadata": {},
     "output_type": "display_data"
    },
    {
     "data": {
      "text/html": [
       "<span style = 'color:rgba(253,10,10,0.22682058215141299)'>_This</span><span style = 'color:rgba(253,10,10,0.23575829565525055)'>_movie</span><span style = 'color:rgba(253,10,10,0.2217335417866707)'>_was</span><span style = 'color:rgba(253,10,10,0.36584819555282594)'>_well</span><span style = 'color:rgba(253,10,10,0.2217335417866707)'>_done</span><span style = 'color:rgba(253,10,10,0.2217335417866707)'>_in</span><span style = 'color:rgba(253,10,10,0.2217335417866707)'>_all</span><span style = 'color:rgba(253,10,10,0.2217335417866707)'>_respects.</span><span style = 'color:rgba(253,10,10,0.2217335417866707)'>_The</span><span style = 'color:rgba(253,10,10,0.2600044369697571)'>_acting</span><span style = 'color:rgba(253,10,10,0.2420425593852997)'>_is</span><span style = 'color:rgba(253,10,10,0.3134446144104004)'>_superb</span><span style = 'color:rgba(253,10,10,0.2217335417866707)'>_along</span><span style = 'color:rgba(253,10,10,0.22957317531108856)'>_with</span><span style = 'color:rgba(253,10,10,0.22649870216846468)'>_the</span><span style = 'color:rgba(253,10,10,0.2537244021892548)'>_fine</span><span style = 'color:rgba(253,10,10,0.2217335417866707)'>_audio</span><span style = 'color:rgba(253,10,10,0.2217335417866707)'>_soundtrack</span><span style = 'color:rgba(253,10,10,0.2217335417866707)'>_which</span><span style = 'color:rgba(253,10,10,0.22894961535930636)'>_I</span>"
      ],
      "text/plain": [
       "<IPython.core.display.HTML object>"
      ]
     },
     "metadata": {},
     "output_type": "display_data"
    },
    {
     "name": "stdout",
     "output_type": "stream",
     "text": [
      "label:1.0\t guess:1.0\n"
     ]
    },
    {
     "data": {
      "text/html": [
       "<span style = 'color:rgba(253,10,253,0.2436307340860367)'>_The</span><span style = 'color:rgba(253,10,253,0.2736178278923035)'>_Williams</span><span style = 'color:rgba(253,10,253,0.23358399569988253)'>_family</span><span style = 'color:rgba(253,10,253,0.23358399569988253)'>_live</span><span style = 'color:rgba(253,10,253,0.23358399569988253)'>_on</span><span style = 'color:rgba(253,10,253,0.2387440800666809)'>_a</span><span style = 'color:rgba(253,10,253,0.23459476828575135)'>_ranch</span><span style = 'color:rgba(253,10,253,0.23459476828575135)'>_located</span><span style = 'color:rgba(253,10,253,0.2440011203289032)'>_in</span><span style = 'color:rgba(253,10,253,0.23358399569988253)'>_the</span><span style = 'color:rgba(253,10,253,0.2668427109718323)'>_middle</span><span style = 'color:rgba(253,10,253,0.23358399569988253)'>_of</span><span style = 'color:rgba(253,10,253,0.23358399569988253)'>_the</span><span style = 'color:rgba(253,10,253,0.24953816235065462)'>_remote</span><span style = 'color:rgba(253,10,253,0.23459476828575135)'>_desert.</span><span style = 'color:rgba(253,10,253,0.23358399569988253)'>_They</span><span style = 'color:rgba(253,10,253,0.23358399569988253)'>_find</span><span style = 'color:rgba(253,10,253,0.23358399569988253)'>_themselves</span><span style = 'color:rgba(253,10,253,0.2440011203289032)'>_in</span><span style = 'color:rgba(253,10,253,0.23358399569988253)'>_considerable</span>"
      ],
      "text/plain": [
       "<IPython.core.display.HTML object>"
      ]
     },
     "metadata": {},
     "output_type": "display_data"
    },
    {
     "data": {
      "text/html": [
       "<span style = 'color:rgba(253,10,10,0.2269281417131424)'>_The</span><span style = 'color:rgba(253,10,10,0.2269281417131424)'>_Williams</span><span style = 'color:rgba(253,10,10,0.24071181118488313)'>_family</span><span style = 'color:rgba(253,10,10,0.30904173851013184)'>_live</span><span style = 'color:rgba(253,10,10,0.22700339257717134)'>_on</span><span style = 'color:rgba(253,10,10,0.2269281417131424)'>_a</span><span style = 'color:rgba(253,10,10,0.2269281417131424)'>_ranch</span><span style = 'color:rgba(253,10,10,0.2269281417131424)'>_located</span><span style = 'color:rgba(253,10,10,0.2269281417131424)'>_in</span><span style = 'color:rgba(253,10,10,0.23283223509788514)'>_the</span><span style = 'color:rgba(253,10,10,0.2269281417131424)'>_middle</span><span style = 'color:rgba(253,10,10,0.2936354100704193)'>_of</span><span style = 'color:rgba(253,10,10,0.23283223509788514)'>_the</span><span style = 'color:rgba(253,10,10,0.2269281417131424)'>_remote</span><span style = 'color:rgba(253,10,10,0.2269281417131424)'>_desert.</span><span style = 'color:rgba(253,10,10,0.2328556388616562)'>_They</span><span style = 'color:rgba(253,10,10,0.24624876081943514)'>_find</span><span style = 'color:rgba(253,10,10,0.28559856414794926)'>_themselves</span><span style = 'color:rgba(253,10,10,0.2269281417131424)'>_in</span><span style = 'color:rgba(253,10,10,0.22995875477790834)'>_considerable</span>"
      ],
      "text/plain": [
       "<IPython.core.display.HTML object>"
      ]
     },
     "metadata": {},
     "output_type": "display_data"
    },
    {
     "name": "stdout",
     "output_type": "stream",
     "text": [
      "label:0.0\t guess:0.0\n"
     ]
    },
    {
     "data": {
      "text/html": [
       "<span style = 'color:rgba(253,10,253,0.2247749224305153)'>_Gee,</span><span style = 'color:rgba(253,10,253,0.23504472672939303)'>_what</span><span style = 'color:rgba(253,10,253,0.22774643898010255)'>_a</span><span style = 'color:rgba(253,10,253,0.2519039273262024)'>_heck</span><span style = 'color:rgba(253,10,253,0.22405106276273729)'>_of</span><span style = 'color:rgba(253,10,253,0.22774643898010255)'>_a</span><span style = 'color:rgba(253,10,253,0.2247749224305153)'>_movie!...</span><span style = 'color:rgba(253,10,253,0.22405106276273729)'>_I</span><span style = 'color:rgba(253,10,253,0.23017327785491945)'>_said</span><span style = 'color:rgba(253,10,253,0.22405106276273729)'>_I</span><span style = 'color:rgba(253,10,253,0.22405106276273729)'>_wanted</span><span style = 'color:rgba(253,10,253,0.2283563852310181)'>_to</span><span style = 'color:rgba(253,10,253,0.22405106276273729)'>_become</span><span style = 'color:rgba(253,10,253,0.22774643898010255)'>_a</span><span style = 'color:rgba(253,10,253,0.2247749224305153)'>_specialist</span><span style = 'color:rgba(253,10,253,0.23151124715805055)'>_in</span><span style = 'color:rgba(253,10,253,0.4244736433029175)'>_bad</span><span style = 'color:rgba(253,10,253,0.22405106276273729)'>_movies</span><span style = 'color:rgba(253,10,253,0.25147759914398193)'>_from</span><span style = 'color:rgba(253,10,253,0.24518871009349824)'>_all</span>"
      ],
      "text/plain": [
       "<IPython.core.display.HTML object>"
      ]
     },
     "metadata": {},
     "output_type": "display_data"
    },
    {
     "data": {
      "text/html": [
       "<span style = 'color:rgba(253,10,10,0.23282710611820223)'>_Gee,</span><span style = 'color:rgba(253,10,10,0.23282710611820223)'>_what</span><span style = 'color:rgba(253,10,10,0.23282710611820223)'>_a</span><span style = 'color:rgba(253,10,10,0.23282710611820223)'>_heck</span><span style = 'color:rgba(253,10,10,0.31414749622344973)'>_of</span><span style = 'color:rgba(253,10,10,0.23282710611820223)'>_a</span><span style = 'color:rgba(253,10,10,0.23282710611820223)'>_movie!...</span><span style = 'color:rgba(253,10,10,0.24372651875019075)'>_I</span><span style = 'color:rgba(253,10,10,0.23282710611820223)'>_said</span><span style = 'color:rgba(253,10,10,0.24372651875019075)'>_I</span><span style = 'color:rgba(253,10,10,0.2397828459739685)'>_wanted</span><span style = 'color:rgba(253,10,10,0.23282710611820223)'>_to</span><span style = 'color:rgba(253,10,10,0.24480608701705933)'>_become</span><span style = 'color:rgba(253,10,10,0.23282710611820223)'>_a</span><span style = 'color:rgba(253,10,10,0.23282710611820223)'>_specialist</span><span style = 'color:rgba(253,10,10,0.23282710611820223)'>_in</span><span style = 'color:rgba(253,10,10,0.23282710611820223)'>_bad</span><span style = 'color:rgba(253,10,10,0.25423102974891665)'>_movies</span><span style = 'color:rgba(253,10,10,0.23282710611820223)'>_from</span><span style = 'color:rgba(253,10,10,0.23282710611820223)'>_all</span>"
      ],
      "text/plain": [
       "<IPython.core.display.HTML object>"
      ]
     },
     "metadata": {},
     "output_type": "display_data"
    },
    {
     "name": "stdout",
     "output_type": "stream",
     "text": [
      "label:1.0\t guess:1.0\n"
     ]
    },
    {
     "data": {
      "text/html": [
       "<span style = 'color:rgba(253,10,253,0.23189418315887453)'>_For</span><span style = 'color:rgba(253,10,253,0.23189418315887453)'>_anyone</span><span style = 'color:rgba(253,10,253,0.27812208533287053)'>_who's</span><span style = 'color:rgba(253,10,253,0.232854101061821)'>_judged</span><span style = 'color:rgba(253,10,253,0.23189418315887453)'>_others</span><span style = 'color:rgba(253,10,253,0.23189418315887453)'>_at</span><span style = 'color:rgba(253,10,253,0.23189418315887453)'>_first</span><span style = 'color:rgba(253,10,253,0.232854101061821)'>_meeting,</span><span style = 'color:rgba(253,10,253,0.23189418315887453)'>_here</span><span style = 'color:rgba(253,10,253,0.23189418315887453)'>_is</span><span style = 'color:rgba(253,10,253,0.23189418315887453)'>_the</span><span style = 'color:rgba(253,10,253,0.23189418315887453)'>_perfect</span><span style = 'color:rgba(253,10,253,0.232854101061821)'>_tutorial</span><span style = 'color:rgba(253,10,253,0.23189418315887453)'>_on</span><span style = 'color:rgba(253,10,253,0.33120495080947876)'>_depth</span><span style = 'color:rgba(253,10,253,0.23189418315887453)'>_of</span><span style = 'color:rgba(253,10,253,0.23189418315887453)'>_character.</span><span style = 'color:rgba(253,10,253,0.24143541157245638)'>_The</span><span style = 'color:rgba(253,10,253,0.232854101061821)'>_grumpy</span><span style = 'color:rgba(253,10,253,0.23509097993373873)'>_old</span>"
      ],
      "text/plain": [
       "<IPython.core.display.HTML object>"
      ]
     },
     "metadata": {},
     "output_type": "display_data"
    },
    {
     "data": {
      "text/html": [
       "<span style = 'color:rgba(253,10,10,0.23163795769214632)'>_For</span><span style = 'color:rgba(253,10,10,0.2354931026697159)'>_anyone</span><span style = 'color:rgba(253,10,10,0.22265910357236862)'>_who's</span><span style = 'color:rgba(253,10,10,0.22265910357236862)'>_judged</span><span style = 'color:rgba(253,10,10,0.260664039850235)'>_others</span><span style = 'color:rgba(253,10,10,0.22475918084383012)'>_at</span><span style = 'color:rgba(253,10,10,0.2552223563194275)'>_first</span><span style = 'color:rgba(253,10,10,0.22265910357236862)'>_meeting,</span><span style = 'color:rgba(253,10,10,0.22335704118013383)'>_here</span><span style = 'color:rgba(253,10,10,0.2438330113887787)'>_is</span><span style = 'color:rgba(253,10,10,0.2276271939277649)'>_the</span><span style = 'color:rgba(253,10,10,0.3782151579856873)'>_perfect</span><span style = 'color:rgba(253,10,10,0.22265910357236862)'>_tutorial</span><span style = 'color:rgba(253,10,10,0.22272242754697802)'>_on</span><span style = 'color:rgba(253,10,10,0.22265910357236862)'>_depth</span><span style = 'color:rgba(253,10,10,0.2787909746170044)'>_of</span><span style = 'color:rgba(253,10,10,0.23640474379062654)'>_character.</span><span style = 'color:rgba(253,10,10,0.22265910357236862)'>_The</span><span style = 'color:rgba(253,10,10,0.22265910357236862)'>_grumpy</span><span style = 'color:rgba(253,10,10,0.22265910357236862)'>_old</span>"
      ],
      "text/plain": [
       "<IPython.core.display.HTML object>"
      ]
     },
     "metadata": {},
     "output_type": "display_data"
    },
    {
     "name": "stdout",
     "output_type": "stream",
     "text": [
      "label:0.0\t guess:0.0\n"
     ]
    },
    {
     "data": {
      "text/html": [
       "<span style = 'color:rgba(253,10,253,0.24737870693206787)'>_I</span><span style = 'color:rgba(253,10,253,0.22265886664390566)'>_am</span><span style = 'color:rgba(253,10,253,0.22265886664390566)'>_normally</span><span style = 'color:rgba(253,10,253,0.2619483351707459)'>_a</span><span style = 'color:rgba(253,10,253,0.23381693959236147)'>_Spike</span><span style = 'color:rgba(253,10,253,0.2286979228258133)'>_Lee</span><span style = 'color:rgba(253,10,253,0.22265886664390566)'>_fan.</span><span style = 'color:rgba(253,10,253,0.2428064376115799)'>_It</span><span style = 'color:rgba(253,10,253,0.22327560484409334)'>_takes</span><span style = 'color:rgba(253,10,253,0.2267149776220322)'>_some</span><span style = 'color:rgba(253,10,253,0.27262344360351565)'>_time</span><span style = 'color:rgba(253,10,253,0.22265886664390566)'>_to</span><span style = 'color:rgba(253,10,253,0.39610999822616577)'>_really</span><span style = 'color:rgba(253,10,253,0.2286979228258133)'>_get</span><span style = 'color:rgba(253,10,253,0.22265886664390566)'>_into</span><span style = 'color:rgba(253,10,253,0.22265886664390566)'>_his</span><span style = 'color:rgba(253,10,253,0.22883307337760928)'>_\"mojo\",</span><span style = 'color:rgba(253,10,253,0.2233408272266388)'>_but</span><span style = 'color:rgba(253,10,253,0.22265886664390566)'>_once</span><span style = 'color:rgba(253,10,253,0.2271437168121338)'>_you</span>"
      ],
      "text/plain": [
       "<IPython.core.display.HTML object>"
      ]
     },
     "metadata": {},
     "output_type": "display_data"
    },
    {
     "data": {
      "text/html": [
       "<span style = 'color:rgba(253,10,10,0.23173131048679352)'>_I</span><span style = 'color:rgba(253,10,10,0.24244081377983095)'>_am</span><span style = 'color:rgba(253,10,10,0.2613827884197235)'>_normally</span><span style = 'color:rgba(253,10,10,0.23173131048679352)'>_a</span><span style = 'color:rgba(253,10,10,0.23173131048679352)'>_Spike</span><span style = 'color:rgba(253,10,10,0.23173131048679352)'>_Lee</span><span style = 'color:rgba(253,10,10,0.24226688742637636)'>_fan.</span><span style = 'color:rgba(253,10,10,0.23173131048679352)'>_It</span><span style = 'color:rgba(253,10,10,0.23173131048679352)'>_takes</span><span style = 'color:rgba(253,10,10,0.23173131048679352)'>_some</span><span style = 'color:rgba(253,10,10,0.23173131048679352)'>_time</span><span style = 'color:rgba(253,10,10,0.24815273880958558)'>_to</span><span style = 'color:rgba(253,10,10,0.23173131048679352)'>_really</span><span style = 'color:rgba(253,10,10,0.23173131048679352)'>_get</span><span style = 'color:rgba(253,10,10,0.2613827884197235)'>_into</span><span style = 'color:rgba(253,10,10,0.2897011697292328)'>_his</span><span style = 'color:rgba(253,10,10,0.23173131048679352)'>_\"mojo\",</span><span style = 'color:rgba(253,10,10,0.23173131048679352)'>_but</span><span style = 'color:rgba(253,10,10,0.24216577708721163)'>_once</span><span style = 'color:rgba(253,10,10,0.23173131048679352)'>_you</span>"
      ],
      "text/plain": [
       "<IPython.core.display.HTML object>"
      ]
     },
     "metadata": {},
     "output_type": "display_data"
    },
    {
     "name": "stdout",
     "output_type": "stream",
     "text": [
      "label:1.0\t guess:1.0\n"
     ]
    },
    {
     "data": {
      "text/html": [
       "<span style = 'color:rgba(253,10,253,0.23243496119976045)'>_First</span><span style = 'color:rgba(253,10,253,0.23341115415096284)'>_of</span><span style = 'color:rgba(253,10,253,0.23341115415096284)'>_all,</span><span style = 'color:rgba(253,10,253,0.23369757533073426)'>_I</span><span style = 'color:rgba(253,10,253,0.23243496119976045)'>_have</span><span style = 'color:rgba(253,10,253,0.23824106752872468)'>_to</span><span style = 'color:rgba(253,10,253,0.23801378309726717)'>_start</span><span style = 'color:rgba(253,10,253,0.23243496119976045)'>_this</span><span style = 'color:rgba(253,10,253,0.2590829491615296)'>_comment</span><span style = 'color:rgba(253,10,253,0.23341115415096284)'>_by</span><span style = 'color:rgba(253,10,253,0.23243496119976045)'>_saying</span><span style = 'color:rgba(253,10,253,0.23243496119976045)'>_I'm</span><span style = 'color:rgba(253,10,253,0.23243496119976045)'>_a</span><span style = 'color:rgba(253,10,253,0.2374185025691986)'>_huge</span><span style = 'color:rgba(253,10,253,0.23243496119976045)'>_Nightmare</span><span style = 'color:rgba(253,10,253,0.23243496119976045)'>_on</span><span style = 'color:rgba(253,10,253,0.23243496119976045)'>_Elm</span><span style = 'color:rgba(253,10,253,0.33009852170944215)'>_Street</span><span style = 'color:rgba(253,10,253,0.23886454403400423)'>_fan.</span><span style = 'color:rgba(253,10,253,0.23243496119976045)'>_I</span>"
      ],
      "text/plain": [
       "<IPython.core.display.HTML object>"
      ]
     },
     "metadata": {},
     "output_type": "display_data"
    },
    {
     "data": {
      "text/html": [
       "<span style = 'color:rgba(253,10,10,0.2634640812873841)'>_First</span><span style = 'color:rgba(253,10,10,0.22762697339057925)'>_of</span><span style = 'color:rgba(253,10,10,0.22762697339057925)'>_all,</span><span style = 'color:rgba(253,10,10,0.22762697339057925)'>_I</span><span style = 'color:rgba(253,10,10,0.24465063512325289)'>_have</span><span style = 'color:rgba(253,10,10,0.22762697339057925)'>_to</span><span style = 'color:rgba(253,10,10,0.22762697339057925)'>_start</span><span style = 'color:rgba(253,10,10,0.23368428945541384)'>_this</span><span style = 'color:rgba(253,10,10,0.22762697339057925)'>_comment</span><span style = 'color:rgba(253,10,10,0.22762697339057925)'>_by</span><span style = 'color:rgba(253,10,10,0.2438571721315384)'>_saying</span><span style = 'color:rgba(253,10,10,0.2516865372657776)'>_I'm</span><span style = 'color:rgba(253,10,10,0.2534431338310242)'>_a</span><span style = 'color:rgba(253,10,10,0.22762697339057925)'>_huge</span><span style = 'color:rgba(253,10,10,0.27713224887847904)'>_Nightmare</span><span style = 'color:rgba(253,10,10,0.28517666459083557)'>_on</span><span style = 'color:rgba(253,10,10,0.23695123791694642)'>_Elm</span><span style = 'color:rgba(253,10,10,0.22762697339057925)'>_Street</span><span style = 'color:rgba(253,10,10,0.22762697339057925)'>_fan.</span><span style = 'color:rgba(253,10,10,0.23368428945541384)'>_I</span>"
      ],
      "text/plain": [
       "<IPython.core.display.HTML object>"
      ]
     },
     "metadata": {},
     "output_type": "display_data"
    },
    {
     "name": "stdout",
     "output_type": "stream",
     "text": [
      "label:1.0\t guess:1.0\n"
     ]
    },
    {
     "data": {
      "text/html": [
       "<span style = 'color:rgba(253,10,253,0.23502786159515382)'>_\"Girlfight\"</span><span style = 'color:rgba(253,10,253,0.23400443196296694)'>_follows</span><span style = 'color:rgba(253,10,253,0.23922911882400513)'>_a</span><span style = 'color:rgba(253,10,253,0.23400443196296694)'>_project</span><span style = 'color:rgba(253,10,253,0.23502786159515382)'>_dwelling</span><span style = 'color:rgba(253,10,253,0.2370692551136017)'>_New</span><span style = 'color:rgba(253,10,253,0.23400443196296694)'>_York</span><span style = 'color:rgba(253,10,253,0.23400443196296694)'>_high</span><span style = 'color:rgba(253,10,253,0.23400443196296694)'>_school</span><span style = 'color:rgba(253,10,253,0.2594192802906037)'>_girl</span><span style = 'color:rgba(253,10,253,0.27278125882148746)'>_from</span><span style = 'color:rgba(253,10,253,0.23922911882400513)'>_a</span><span style = 'color:rgba(253,10,253,0.23632294833660128)'>_sense</span><span style = 'color:rgba(253,10,253,0.23400443196296694)'>_of</span><span style = 'color:rgba(253,10,253,0.23502786159515382)'>_futility</span><span style = 'color:rgba(253,10,253,0.2378611207008362)'>_into</span><span style = 'color:rgba(253,10,253,0.23400443196296694)'>_the</span><span style = 'color:rgba(253,10,253,0.23400443196296694)'>_world</span><span style = 'color:rgba(253,10,253,0.23400443196296694)'>_of</span><span style = 'color:rgba(253,10,253,0.26696441769599916)'>_amateur</span>"
      ],
      "text/plain": [
       "<IPython.core.display.HTML object>"
      ]
     },
     "metadata": {},
     "output_type": "display_data"
    },
    {
     "data": {
      "text/html": [
       "<span style = 'color:rgba(253,10,10,0.2246363401412964)'>_\"Girlfight\"</span><span style = 'color:rgba(253,10,10,0.2516752362251282)'>_follows</span><span style = 'color:rgba(253,10,10,0.2246363401412964)'>_a</span><span style = 'color:rgba(253,10,10,0.22678899466991426)'>_project</span><span style = 'color:rgba(253,10,10,0.2246363401412964)'>_dwelling</span><span style = 'color:rgba(253,10,10,0.2246363401412964)'>_New</span><span style = 'color:rgba(253,10,10,0.26023654937744145)'>_York</span><span style = 'color:rgba(253,10,10,0.3019651651382447)'>_high</span><span style = 'color:rgba(253,10,10,0.22941013872623445)'>_school</span><span style = 'color:rgba(253,10,10,0.2246363401412964)'>_girl</span><span style = 'color:rgba(253,10,10,0.2246363401412964)'>_from</span><span style = 'color:rgba(253,10,10,0.2246363401412964)'>_a</span><span style = 'color:rgba(253,10,10,0.2246363401412964)'>_sense</span><span style = 'color:rgba(253,10,10,0.28566629290580753)'>_of</span><span style = 'color:rgba(253,10,10,0.2246363401412964)'>_futility</span><span style = 'color:rgba(253,10,10,0.2246363401412964)'>_into</span><span style = 'color:rgba(253,10,10,0.2300379514694214)'>_the</span><span style = 'color:rgba(253,10,10,0.2575535953044892)'>_world</span><span style = 'color:rgba(253,10,10,0.28566629290580753)'>_of</span><span style = 'color:rgba(253,10,10,0.2246363401412964)'>_amateur</span>"
      ],
      "text/plain": [
       "<IPython.core.display.HTML object>"
      ]
     },
     "metadata": {},
     "output_type": "display_data"
    },
    {
     "name": "stdout",
     "output_type": "stream",
     "text": [
      "label:0.0\t guess:0.0\n"
     ]
    },
    {
     "data": {
      "text/html": [
       "<span style = 'color:rgba(253,10,253,0.2229986071586609)'>_I</span><span style = 'color:rgba(253,10,253,0.3212592482566834)'>_watched</span><span style = 'color:rgba(253,10,253,0.23037008941173553)'>_this</span><span style = 'color:rgba(253,10,253,0.2229986071586609)'>_movie</span><span style = 'color:rgba(253,10,253,0.22926538586616518)'>_for</span><span style = 'color:rgba(253,10,253,0.22653228044509888)'>_a</span><span style = 'color:rgba(253,10,253,0.2229986071586609)'>_project</span><span style = 'color:rgba(253,10,253,0.2229986071586609)'>_on</span><span style = 'color:rgba(253,10,253,0.2229986071586609)'>_love.</span><span style = 'color:rgba(253,10,253,0.31510267257690433)'>_please</span><span style = 'color:rgba(253,10,253,0.22580179870128633)'>_tell</span><span style = 'color:rgba(253,10,253,0.22369079142808915)'>_Nicolas</span><span style = 'color:rgba(253,10,253,0.22934651374816895)'>_Cage</span><span style = 'color:rgba(253,10,253,0.22711553275585175)'>_to</span><span style = 'color:rgba(253,10,253,0.3063846588134766)'>_learn</span><span style = 'color:rgba(253,10,253,0.23351120352745058)'>_what</span><span style = 'color:rgba(253,10,253,0.2229986071586609)'>_it</span><span style = 'color:rgba(253,10,253,0.24339725077152252)'>_would</span><span style = 'color:rgba(253,10,253,0.22605625987052919)'>_feel</span><span style = 'color:rgba(253,10,253,0.224174702167511)'>_like</span>"
      ],
      "text/plain": [
       "<IPython.core.display.HTML object>"
      ]
     },
     "metadata": {},
     "output_type": "display_data"
    },
    {
     "data": {
      "text/html": [
       "<span style = 'color:rgba(253,10,10,0.24663667976856232)'>_I</span><span style = 'color:rgba(253,10,10,0.23501187264919282)'>_watched</span><span style = 'color:rgba(253,10,10,0.23501187264919282)'>_this</span><span style = 'color:rgba(253,10,10,0.25760518908500674)'>_movie</span><span style = 'color:rgba(253,10,10,0.23501187264919282)'>_for</span><span style = 'color:rgba(253,10,10,0.23501187264919282)'>_a</span><span style = 'color:rgba(253,10,10,0.23807111084461213)'>_project</span><span style = 'color:rgba(253,10,10,0.23510971665382385)'>_on</span><span style = 'color:rgba(253,10,10,0.27936288714408875)'>_love.</span><span style = 'color:rgba(253,10,10,0.23501187264919282)'>_please</span><span style = 'color:rgba(253,10,10,0.23501187264919282)'>_tell</span><span style = 'color:rgba(253,10,10,0.23501187264919282)'>_Nicolas</span><span style = 'color:rgba(253,10,10,0.23501187264919282)'>_Cage</span><span style = 'color:rgba(253,10,10,0.23501187264919282)'>_to</span><span style = 'color:rgba(253,10,10,0.23501187264919282)'>_learn</span><span style = 'color:rgba(253,10,10,0.23501187264919282)'>_what</span><span style = 'color:rgba(253,10,10,0.253048175573349)'>_it</span><span style = 'color:rgba(253,10,10,0.23501187264919282)'>_would</span><span style = 'color:rgba(253,10,10,0.23501187264919282)'>_feel</span><span style = 'color:rgba(253,10,10,0.23501187264919282)'>_like</span>"
      ],
      "text/plain": [
       "<IPython.core.display.HTML object>"
      ]
     },
     "metadata": {},
     "output_type": "display_data"
    },
    {
     "name": "stdout",
     "output_type": "stream",
     "text": [
      "label:1.0\t guess:1.0\n"
     ]
    },
    {
     "data": {
      "text/html": [
       "<span style = 'color:rgba(253,10,253,0.23131898641586304)'>_There's</span><span style = 'color:rgba(253,10,253,0.23613106310367585)'>_a</span><span style = 'color:rgba(253,10,253,0.23131898641586304)'>_certain</span><span style = 'color:rgba(253,10,253,0.23226158916950226)'>_allure</span><span style = 'color:rgba(253,10,253,0.23131898641586304)'>_I've</span><span style = 'color:rgba(253,10,253,0.23131898641586304)'>_always</span><span style = 'color:rgba(253,10,253,0.2330043613910675)'>_found</span><span style = 'color:rgba(253,10,253,0.24103354811668398)'>_in</span><span style = 'color:rgba(253,10,253,0.23226158916950226)'>_discovering</span><span style = 'color:rgba(253,10,253,0.23131898641586304)'>_the</span><span style = 'color:rgba(253,10,253,0.23131898641586304)'>_great</span><span style = 'color:rgba(253,10,253,0.23226158916950226)'>_(semi-)</span><span style = 'color:rgba(253,10,253,0.23309285640716554)'>_unknown</span><span style = 'color:rgba(253,10,253,0.35983129739761355)'>_film.</span><span style = 'color:rgba(253,10,253,0.23131898641586304)'>_These</span><span style = 'color:rgba(253,10,253,0.23226158916950226)'>_discoveries</span><span style = 'color:rgba(253,10,253,0.2375273495912552)'>_have</span><span style = 'color:rgba(253,10,253,0.23131898641586304)'>_nearly</span><span style = 'color:rgba(253,10,253,0.23131898641586304)'>_always</span><span style = 'color:rgba(253,10,253,0.24846231341362002)'>_been</span>"
      ],
      "text/plain": [
       "<IPython.core.display.HTML object>"
      ]
     },
     "metadata": {},
     "output_type": "display_data"
    },
    {
     "data": {
      "text/html": [
       "<span style = 'color:rgba(253,10,10,0.22563184797763824)'>_There's</span><span style = 'color:rgba(253,10,10,0.22086188197135925)'>_a</span><span style = 'color:rgba(253,10,10,0.2949781954288483)'>_certain</span><span style = 'color:rgba(253,10,10,0.22086188197135925)'>_allure</span><span style = 'color:rgba(253,10,10,0.22806638181209565)'>_I've</span><span style = 'color:rgba(253,10,10,0.31452460289001466)'>_always</span><span style = 'color:rgba(253,10,10,0.22086188197135925)'>_found</span><span style = 'color:rgba(253,10,10,0.22086188197135925)'>_in</span><span style = 'color:rgba(253,10,10,0.22086188197135925)'>_discovering</span><span style = 'color:rgba(253,10,10,0.22543592751026154)'>_the</span><span style = 'color:rgba(253,10,10,0.3046696186065674)'>_great</span><span style = 'color:rgba(253,10,10,0.22086188197135925)'>_(semi-)</span><span style = 'color:rgba(253,10,10,0.22086188197135925)'>_unknown</span><span style = 'color:rgba(253,10,10,0.22086188197135925)'>_film.</span><span style = 'color:rgba(253,10,10,0.2225777328014374)'>_These</span><span style = 'color:rgba(253,10,10,0.22086188197135925)'>_discoveries</span><span style = 'color:rgba(253,10,10,0.22086188197135925)'>_have</span><span style = 'color:rgba(253,10,10,0.24011040031909944)'>_nearly</span><span style = 'color:rgba(253,10,10,0.31452460289001466)'>_always</span><span style = 'color:rgba(253,10,10,0.22086188197135925)'>_been</span>"
      ],
      "text/plain": [
       "<IPython.core.display.HTML object>"
      ]
     },
     "metadata": {},
     "output_type": "display_data"
    },
    {
     "name": "stdout",
     "output_type": "stream",
     "text": [
      "label:0.0\t guess:0.0\n"
     ]
    },
    {
     "data": {
      "text/html": [
       "<span style = 'color:rgba(253,10,253,0.23173036873340608)'>_This</span><span style = 'color:rgba(253,10,253,0.2724243223667145)'>_series</span><span style = 'color:rgba(253,10,253,0.23173036873340608)'>_gets</span><span style = 'color:rgba(253,10,253,0.2555500447750092)'>_2</span><span style = 'color:rgba(253,10,253,0.25529901385307313)'>_stars</span><span style = 'color:rgba(253,10,253,0.24429445564746857)'>_solely</span><span style = 'color:rgba(253,10,253,0.23173036873340608)'>_because</span><span style = 'color:rgba(253,10,253,0.23173036873340608)'>_it</span><span style = 'color:rgba(253,10,253,0.25871897339820865)'>_puts</span><span style = 'color:rgba(253,10,253,0.23173036873340608)'>_some</span><span style = 'color:rgba(253,10,253,0.23173036873340608)'>_of</span><span style = 'color:rgba(253,10,253,0.23268535733222961)'>_Dickens'</span><span style = 'color:rgba(253,10,253,0.23268535733222961)'>_Bleak</span><span style = 'color:rgba(253,10,253,0.23173036873340608)'>_House</span><span style = 'color:rgba(253,10,253,0.23173036873340608)'>_on</span><span style = 'color:rgba(253,10,253,0.2387259215116501)'>_film</span><span style = 'color:rgba(253,10,253,0.23173036873340608)'>_and</span><span style = 'color:rgba(253,10,253,0.26058246493339543)'>_perhaps</span><span style = 'color:rgba(253,10,253,0.23173036873340608)'>_someone</span><span style = 'color:rgba(253,10,253,0.23173036873340608)'>_will</span>"
      ],
      "text/plain": [
       "<IPython.core.display.HTML object>"
      ]
     },
     "metadata": {},
     "output_type": "display_data"
    },
    {
     "data": {
      "text/html": [
       "<span style = 'color:rgba(253,10,10,0.2344790428876877)'>_This</span><span style = 'color:rgba(253,10,10,0.2279394268989563)'>_series</span><span style = 'color:rgba(253,10,10,0.23405971229076386)'>_gets</span><span style = 'color:rgba(253,10,10,0.2279394268989563)'>_2</span><span style = 'color:rgba(253,10,10,0.2279394268989563)'>_stars</span><span style = 'color:rgba(253,10,10,0.2279394268989563)'>_solely</span><span style = 'color:rgba(253,10,10,0.23464572429656982)'>_because</span><span style = 'color:rgba(253,10,10,0.2423323690891266)'>_it</span><span style = 'color:rgba(253,10,10,0.2279394268989563)'>_puts</span><span style = 'color:rgba(253,10,10,0.24000697135925295)'>_some</span><span style = 'color:rgba(253,10,10,0.2971518933773041)'>_of</span><span style = 'color:rgba(253,10,10,0.2279394268989563)'>_Dickens'</span><span style = 'color:rgba(253,10,10,0.2279394268989563)'>_Bleak</span><span style = 'color:rgba(253,10,10,0.24557005763053896)'>_House</span><span style = 'color:rgba(253,10,10,0.22801750600337983)'>_on</span><span style = 'color:rgba(253,10,10,0.2279394268989563)'>_film</span><span style = 'color:rgba(253,10,10,0.26264891624450687)'>_and</span><span style = 'color:rgba(253,10,10,0.2279394268989563)'>_perhaps</span><span style = 'color:rgba(253,10,10,0.27430767416954044)'>_someone</span><span style = 'color:rgba(253,10,10,0.2553252995014191)'>_will</span>"
      ],
      "text/plain": [
       "<IPython.core.display.HTML object>"
      ]
     },
     "metadata": {},
     "output_type": "display_data"
    },
    {
     "name": "stdout",
     "output_type": "stream",
     "text": [
      "label:1.0\t guess:1.0\n"
     ]
    },
    {
     "data": {
      "text/html": [
       "<span style = 'color:rgba(253,10,253,0.23785380721092225)'>_\"GOOD</span><span style = 'color:rgba(253,10,253,0.23785380721092225)'>_TIMES,\"</span><span style = 'color:rgba(253,10,253,0.24814629554748535)'>_in</span><span style = 'color:rgba(253,10,253,0.2367478132247925)'>_my</span><span style = 'color:rgba(253,10,253,0.2367478132247925)'>_opinion,</span><span style = 'color:rgba(253,10,253,0.2367478132247925)'>_is</span><span style = 'color:rgba(253,10,253,0.2423940122127533)'>_a</span><span style = 'color:rgba(253,10,253,0.23785380721092225)'>_must-see</span><span style = 'color:rgba(253,10,253,0.23785380721092225)'>_CBS</span><span style = 'color:rgba(253,10,253,0.23785380721092225)'>_hit!</span><span style = 'color:rgba(253,10,253,0.2367478132247925)'>_Despite</span><span style = 'color:rgba(253,10,253,0.2367478132247925)'>_the</span><span style = 'color:rgba(253,10,253,0.2367478132247925)'>_fact</span><span style = 'color:rgba(253,10,253,0.24654186367988587)'>_that</span><span style = 'color:rgba(253,10,253,0.2367478132247925)'>_I've</span><span style = 'color:rgba(253,10,253,0.26942284703254704)'>_never</span><span style = 'color:rgba(253,10,253,0.2367478132247925)'>_seen</span><span style = 'color:rgba(253,10,253,0.2367478132247925)'>_every</span><span style = 'color:rgba(253,10,253,0.2367478132247925)'>_episode,</span><span style = 'color:rgba(253,10,253,0.2367478132247925)'>_I</span>"
      ],
      "text/plain": [
       "<IPython.core.display.HTML object>"
      ]
     },
     "metadata": {},
     "output_type": "display_data"
    },
    {
     "data": {
      "text/html": [
       "<span style = 'color:rgba(253,10,10,0.2282627135515213)'>_\"GOOD</span><span style = 'color:rgba(253,10,10,0.2282627135515213)'>_TIMES,\"</span><span style = 'color:rgba(253,10,10,0.2282627135515213)'>_in</span><span style = 'color:rgba(253,10,10,0.2529324352741242)'>_my</span><span style = 'color:rgba(253,10,10,0.29285745620727544)'>_opinion,</span><span style = 'color:rgba(253,10,10,0.2546729385852814)'>_is</span><span style = 'color:rgba(253,10,10,0.2282627135515213)'>_a</span><span style = 'color:rgba(253,10,10,0.2282627135515213)'>_must-see</span><span style = 'color:rgba(253,10,10,0.2282627135515213)'>_CBS</span><span style = 'color:rgba(253,10,10,0.2282627135515213)'>_hit!</span><span style = 'color:rgba(253,10,10,0.2413713037967682)'>_Despite</span><span style = 'color:rgba(253,10,10,0.2344594180583954)'>_the</span><span style = 'color:rgba(253,10,10,0.23448894023895264)'>_fact</span><span style = 'color:rgba(253,10,10,0.2282627135515213)'>_that</span><span style = 'color:rgba(253,10,10,0.23802303075790407)'>_I've</span><span style = 'color:rgba(253,10,10,0.2282627135515213)'>_never</span><span style = 'color:rgba(253,10,10,0.26895801424980165)'>_seen</span><span style = 'color:rgba(253,10,10,0.24087079763412478)'>_every</span><span style = 'color:rgba(253,10,10,0.2493546396493912)'>_episode,</span><span style = 'color:rgba(253,10,10,0.2376466304063797)'>_I</span>"
      ],
      "text/plain": [
       "<IPython.core.display.HTML object>"
      ]
     },
     "metadata": {},
     "output_type": "display_data"
    },
    {
     "name": "stdout",
     "output_type": "stream",
     "text": [
      "label:0.0\t guess:0.0\n"
     ]
    },
    {
     "data": {
      "text/html": [
       "<span style = 'color:rgba(253,10,253,0.22504598796367647)'>_I</span><span style = 'color:rgba(253,10,253,0.22504598796367647)'>_only</span><span style = 'color:rgba(253,10,253,0.2567994296550751)'>_rented</span><span style = 'color:rgba(253,10,253,0.23307369351387025)'>_this</span><span style = 'color:rgba(253,10,253,0.22504598796367647)'>_because</span><span style = 'color:rgba(253,10,253,0.22504598796367647)'>_i</span><span style = 'color:rgba(253,10,253,0.37391530275344853)'>_loved</span><span style = 'color:rgba(253,10,253,0.22504598796367647)'>_the</span><span style = 'color:rgba(253,10,253,0.22504598796367647)'>_first</span><span style = 'color:rgba(253,10,253,0.22504598796367647)'>_movie.</span><span style = 'color:rgba(253,10,253,0.22686499059200288)'>_However,</span><span style = 'color:rgba(253,10,253,0.2765408039093018)'>_calling</span><span style = 'color:rgba(253,10,253,0.22504598796367647)'>_it</span><span style = 'color:rgba(253,10,253,0.23647189140319824)'>_John</span><span style = 'color:rgba(253,10,253,0.22579979300498965)'>_Carpenters</span><span style = 'color:rgba(253,10,253,0.22579979300498965)'>_Vampires:</span><span style = 'color:rgba(253,10,253,0.22504598796367647)'>_Los</span><span style = 'color:rgba(253,10,253,0.22579979300498965)'>_Muertos</span><span style = 'color:rgba(253,10,253,0.22504598796367647)'>_is</span><span style = 'color:rgba(253,10,253,0.2684746146202088)'>_just</span>"
      ],
      "text/plain": [
       "<IPython.core.display.HTML object>"
      ]
     },
     "metadata": {},
     "output_type": "display_data"
    },
    {
     "data": {
      "text/html": [
       "<span style = 'color:rgba(253,10,10,0.23860131204128265)'>_I</span><span style = 'color:rgba(253,10,10,0.24491671919822694)'>_only</span><span style = 'color:rgba(253,10,10,0.22897942662239076)'>_rented</span><span style = 'color:rgba(253,10,10,0.22897942662239076)'>_this</span><span style = 'color:rgba(253,10,10,0.2359353542327881)'>_because</span><span style = 'color:rgba(253,10,10,0.26249113082885744)'>_i</span><span style = 'color:rgba(253,10,10,0.22897942662239076)'>_loved</span><span style = 'color:rgba(253,10,10,0.23533327579498292)'>_the</span><span style = 'color:rgba(253,10,10,0.27062557339668275)'>_first</span><span style = 'color:rgba(253,10,10,0.28934641480445866)'>_movie.</span><span style = 'color:rgba(253,10,10,0.22897942662239076)'>_However,</span><span style = 'color:rgba(253,10,10,0.22897942662239076)'>_calling</span><span style = 'color:rgba(253,10,10,0.2439081221818924)'>_it</span><span style = 'color:rgba(253,10,10,0.22897942662239076)'>_John</span><span style = 'color:rgba(253,10,10,0.22897942662239076)'>_Carpenters</span><span style = 'color:rgba(253,10,10,0.22897942662239076)'>_Vampires:</span><span style = 'color:rgba(253,10,10,0.23298842906951905)'>_Los</span><span style = 'color:rgba(253,10,10,0.22897942662239076)'>_Muertos</span><span style = 'color:rgba(253,10,10,0.2560593962669373)'>_is</span><span style = 'color:rgba(253,10,10,0.22897942662239076)'>_just</span>"
      ],
      "text/plain": [
       "<IPython.core.display.HTML object>"
      ]
     },
     "metadata": {},
     "output_type": "display_data"
    },
    {
     "name": "stdout",
     "output_type": "stream",
     "text": [
      "label:0.0\t guess:0.0\n"
     ]
    },
    {
     "data": {
      "text/html": [
       "<span style = 'color:rgba(253,10,253,0.23136254549026491)'>_I</span><span style = 'color:rgba(253,10,253,0.23860572874546052)'>_gave</span><span style = 'color:rgba(253,10,253,0.24141482412815096)'>_this</span><span style = 'color:rgba(253,10,253,0.23618131279945376)'>_a</span><span style = 'color:rgba(253,10,253,0.23136254549026491)'>_four</span><span style = 'color:rgba(253,10,253,0.27362919449806217)'>_purely</span><span style = 'color:rgba(253,10,253,0.23404571413993835)'>_out</span><span style = 'color:rgba(253,10,253,0.23136254549026491)'>_of</span><span style = 'color:rgba(253,10,253,0.24545609652996064)'>_its</span><span style = 'color:rgba(253,10,253,0.23136254549026491)'>_historical</span><span style = 'color:rgba(253,10,253,0.23230646252632142)'>_context.</span><span style = 'color:rgba(253,10,253,0.23136254549026491)'>_It</span><span style = 'color:rgba(253,10,253,0.2628579676151276)'>_was</span><span style = 'color:rgba(253,10,253,0.25073401927948)'>_considered</span><span style = 'color:rgba(253,10,253,0.2625974297523499)'>_lost</span><span style = 'color:rgba(253,10,253,0.23990837037563326)'>_for</span><span style = 'color:rgba(253,10,253,0.23136254549026491)'>_many</span><span style = 'color:rgba(253,10,253,0.23136254549026491)'>_years</span><span style = 'color:rgba(253,10,253,0.23136254549026491)'>_until</span><span style = 'color:rgba(253,10,253,0.23136254549026491)'>_it</span>"
      ],
      "text/plain": [
       "<IPython.core.display.HTML object>"
      ]
     },
     "metadata": {},
     "output_type": "display_data"
    },
    {
     "data": {
      "text/html": [
       "<span style = 'color:rgba(253,10,10,0.24222653806209565)'>_I</span><span style = 'color:rgba(253,10,10,0.23170101642608643)'>_gave</span><span style = 'color:rgba(253,10,10,0.23170101642608643)'>_this</span><span style = 'color:rgba(253,10,10,0.23170101642608643)'>_a</span><span style = 'color:rgba(253,10,10,0.23562103509902954)'>_four</span><span style = 'color:rgba(253,10,10,0.23170101642608643)'>_purely</span><span style = 'color:rgba(253,10,10,0.23170101642608643)'>_out</span><span style = 'color:rgba(253,10,10,0.31023181676864625)'>_of</span><span style = 'color:rgba(253,10,10,0.23170101642608643)'>_its</span><span style = 'color:rgba(253,10,10,0.23236959278583527)'>_historical</span><span style = 'color:rgba(253,10,10,0.23170101642608643)'>_context.</span><span style = 'color:rgba(253,10,10,0.24240029752254488)'>_It</span><span style = 'color:rgba(253,10,10,0.23170101642608643)'>_was</span><span style = 'color:rgba(253,10,10,0.23170101642608643)'>_considered</span><span style = 'color:rgba(253,10,10,0.23170101642608643)'>_lost</span><span style = 'color:rgba(253,10,10,0.23170101642608643)'>_for</span><span style = 'color:rgba(253,10,10,0.24746605157852175)'>_many</span><span style = 'color:rgba(253,10,10,0.25910293459892275)'>_years</span><span style = 'color:rgba(253,10,10,0.23383884429931642)'>_until</span><span style = 'color:rgba(253,10,10,0.24803173542022705)'>_it</span>"
      ],
      "text/plain": [
       "<IPython.core.display.HTML object>"
      ]
     },
     "metadata": {},
     "output_type": "display_data"
    },
    {
     "name": "stdout",
     "output_type": "stream",
     "text": [
      "label:1.0\t guess:1.0\n"
     ]
    },
    {
     "data": {
      "text/html": [
       "<span style = 'color:rgba(253,10,253,0.25681408643722536)'>_There</span><span style = 'color:rgba(253,10,253,0.23383083939552307)'>_should</span><span style = 'color:rgba(253,10,253,0.23964975178241732)'>_be</span><span style = 'color:rgba(253,10,253,0.23383083939552307)'>_more</span><span style = 'color:rgba(253,10,253,0.23383083939552307)'>_movies</span><span style = 'color:rgba(253,10,253,0.24797707796096802)'>_about</span><span style = 'color:rgba(253,10,253,0.2534626662731171)'>_our</span><span style = 'color:rgba(253,10,253,0.23484904468059542)'>_Native</span><span style = 'color:rgba(253,10,253,0.23484904468059542)'>_Americans.</span><span style = 'color:rgba(253,10,253,0.23383083939552307)'>_I</span><span style = 'color:rgba(253,10,253,0.23383083939552307)'>_especially</span><span style = 'color:rgba(253,10,253,0.23383083939552307)'>_think</span><span style = 'color:rgba(253,10,253,0.2428474545478821)'>_that</span><span style = 'color:rgba(253,10,253,0.23383083939552307)'>_using</span><span style = 'color:rgba(253,10,253,0.24571920335292818)'>_actual</span><span style = 'color:rgba(253,10,253,0.23383083939552307)'>_real</span><span style = 'color:rgba(253,10,253,0.23484904468059542)'>_Native</span><span style = 'color:rgba(253,10,253,0.23484904468059542)'>_Americans,</span><span style = 'color:rgba(253,10,253,0.26383714079856874)'>_would</span><span style = 'color:rgba(253,10,253,0.23964975178241732)'>_be</span>"
      ],
      "text/plain": [
       "<IPython.core.display.HTML object>"
      ]
     },
     "metadata": {},
     "output_type": "display_data"
    },
    {
     "data": {
      "text/html": [
       "<span style = 'color:rgba(253,10,10,0.22596453428268434)'>_There</span><span style = 'color:rgba(253,10,10,0.2970602810382843)'>_should</span><span style = 'color:rgba(253,10,10,0.22596453428268434)'>_be</span><span style = 'color:rgba(253,10,10,0.26244732141494753)'>_more</span><span style = 'color:rgba(253,10,10,0.24289392530918122)'>_movies</span><span style = 'color:rgba(253,10,10,0.22596453428268434)'>_about</span><span style = 'color:rgba(253,10,10,0.22596453428268434)'>_our</span><span style = 'color:rgba(253,10,10,0.22596453428268434)'>_Native</span><span style = 'color:rgba(253,10,10,0.22596453428268434)'>_Americans.</span><span style = 'color:rgba(253,10,10,0.23458540439605713)'>_I</span><span style = 'color:rgba(253,10,10,0.28413155674934387)'>_especially</span><span style = 'color:rgba(253,10,10,0.2808475732803345)'>_think</span><span style = 'color:rgba(253,10,10,0.22596453428268434)'>_that</span><span style = 'color:rgba(253,10,10,0.23365086317062378)'>_using</span><span style = 'color:rgba(253,10,10,0.22596453428268434)'>_actual</span><span style = 'color:rgba(253,10,10,0.25280867815017705)'>_real</span><span style = 'color:rgba(253,10,10,0.22596453428268434)'>_Native</span><span style = 'color:rgba(253,10,10,0.22596453428268434)'>_Americans,</span><span style = 'color:rgba(253,10,10,0.22596453428268434)'>_would</span><span style = 'color:rgba(253,10,10,0.22596453428268434)'>_be</span>"
      ],
      "text/plain": [
       "<IPython.core.display.HTML object>"
      ]
     },
     "metadata": {},
     "output_type": "display_data"
    },
    {
     "name": "stdout",
     "output_type": "stream",
     "text": [
      "label:1.0\t guess:1.0\n"
     ]
    },
    {
     "data": {
      "text/html": [
       "<span style = 'color:rgba(253,10,253,0.23016350865364077)'>_I</span><span style = 'color:rgba(253,10,253,0.25698398351669316)'>_never</span><span style = 'color:rgba(253,10,253,0.3590359091758728)'>_watched</span><span style = 'color:rgba(253,10,253,0.23016350865364077)'>_the</span><span style = 'color:rgba(253,10,253,0.23107133507728578)'>_'Next</span><span style = 'color:rgba(253,10,253,0.23107133507728578)'>_Action</span><span style = 'color:rgba(253,10,253,0.23107133507728578)'>_Hero'</span><span style = 'color:rgba(253,10,253,0.23016350865364077)'>_show,</span><span style = 'color:rgba(253,10,253,0.23016350865364077)'>_and</span><span style = 'color:rgba(253,10,253,0.23016350865364077)'>_until</span><span style = 'color:rgba(253,10,253,0.23016350865364077)'>_reading</span><span style = 'color:rgba(253,10,253,0.23016350865364077)'>_the</span><span style = 'color:rgba(253,10,253,0.23016350865364077)'>_other</span><span style = 'color:rgba(253,10,253,0.23016350865364077)'>_comments</span><span style = 'color:rgba(253,10,253,0.23016350865364077)'>_here,</span><span style = 'color:rgba(253,10,253,0.23463172912597657)'>_did</span><span style = 'color:rgba(253,10,253,0.24630163311958314)'>_not</span><span style = 'color:rgba(253,10,253,0.23016350865364077)'>_know</span><span style = 'color:rgba(253,10,253,0.238202702999115)'>_that</span><span style = 'color:rgba(253,10,253,0.23983147442340852)'>_this</span>"
      ],
      "text/plain": [
       "<IPython.core.display.HTML object>"
      ]
     },
     "metadata": {},
     "output_type": "display_data"
    },
    {
     "data": {
      "text/html": [
       "<span style = 'color:rgba(253,10,10,0.23589010536670685)'>_I</span><span style = 'color:rgba(253,10,10,0.22694402337074282)'>_never</span><span style = 'color:rgba(253,10,10,0.22694402337074282)'>_watched</span><span style = 'color:rgba(253,10,10,0.23285159766674043)'>_the</span><span style = 'color:rgba(253,10,10,0.22694402337074282)'>_'Next</span><span style = 'color:rgba(253,10,10,0.22694402337074282)'>_Action</span><span style = 'color:rgba(253,10,10,0.22694402337074282)'>_Hero'</span><span style = 'color:rgba(253,10,10,0.2816471576690674)'>_show,</span><span style = 'color:rgba(253,10,10,0.26041690707206727)'>_and</span><span style = 'color:rgba(253,10,10,0.22876105010509493)'>_until</span><span style = 'color:rgba(253,10,10,0.24904778599739075)'>_reading</span><span style = 'color:rgba(253,10,10,0.23285159766674043)'>_the</span><span style = 'color:rgba(253,10,10,0.2532161891460419)'>_other</span><span style = 'color:rgba(253,10,10,0.2671879827976227)'>_comments</span><span style = 'color:rgba(253,10,10,0.25461701154708866)'>_here,</span><span style = 'color:rgba(253,10,10,0.22694402337074282)'>_did</span><span style = 'color:rgba(253,10,10,0.22694402337074282)'>_not</span><span style = 'color:rgba(253,10,10,0.2610163867473603)'>_know</span><span style = 'color:rgba(253,10,10,0.22694402337074282)'>_that</span><span style = 'color:rgba(253,10,10,0.22694402337074282)'>_this</span>"
      ],
      "text/plain": [
       "<IPython.core.display.HTML object>"
      ]
     },
     "metadata": {},
     "output_type": "display_data"
    },
    {
     "name": "stdout",
     "output_type": "stream",
     "text": [
      "label:1.0\t guess:1.0\n"
     ]
    },
    {
     "data": {
      "text/html": [
       "<span style = 'color:rgba(253,10,253,0.25373824238777165)'>_I'm</span><span style = 'color:rgba(253,10,253,0.24137779474258425)'>_a</span><span style = 'color:rgba(253,10,253,0.24607333838939668)'>_rather</span><span style = 'color:rgba(253,10,253,0.23694642186164858)'>_pedestrian</span><span style = 'color:rgba(253,10,253,0.26041439175605774)'>_person,</span><span style = 'color:rgba(253,10,253,0.2358669400215149)'>_with</span><span style = 'color:rgba(253,10,253,0.2358669400215149)'>_somewhat</span><span style = 'color:rgba(253,10,253,0.23694642186164858)'>_lowbrow</span><span style = 'color:rgba(253,10,253,0.23694642186164858)'>_tastes.</span><span style = 'color:rgba(253,10,253,0.2384718269109726)'>_However,</span><span style = 'color:rgba(253,10,253,0.2358669400215149)'>_I</span><span style = 'color:rgba(253,10,253,0.2388169437646866)'>_occasionally</span><span style = 'color:rgba(253,10,253,0.2358669400215149)'>_try</span><span style = 'color:rgba(253,10,253,0.24228739440441133)'>_to</span><span style = 'color:rgba(253,10,253,0.2358669400215149)'>_raise</span><span style = 'color:rgba(253,10,253,0.2358669400215149)'>_the</span><span style = 'color:rgba(253,10,253,0.24517831802368165)'>_bar</span><span style = 'color:rgba(253,10,253,0.2358669400215149)'>_on</span><span style = 'color:rgba(253,10,253,0.2358669400215149)'>_my</span><span style = 'color:rgba(253,10,253,0.2358669400215149)'>_cultural</span>"
      ],
      "text/plain": [
       "<IPython.core.display.HTML object>"
      ]
     },
     "metadata": {},
     "output_type": "display_data"
    },
    {
     "data": {
      "text/html": [
       "<span style = 'color:rgba(253,10,10,0.22908872663974764)'>_I'm</span><span style = 'color:rgba(253,10,10,0.22908872663974764)'>_a</span><span style = 'color:rgba(253,10,10,0.22908872663974764)'>_rather</span><span style = 'color:rgba(253,10,10,0.22908872663974764)'>_pedestrian</span><span style = 'color:rgba(253,10,10,0.22908872663974764)'>_person,</span><span style = 'color:rgba(253,10,10,0.23958148658275605)'>_with</span><span style = 'color:rgba(253,10,10,0.2876738429069519)'>_somewhat</span><span style = 'color:rgba(253,10,10,0.22908872663974764)'>_lowbrow</span><span style = 'color:rgba(253,10,10,0.22908872663974764)'>_tastes.</span><span style = 'color:rgba(253,10,10,0.22908872663974764)'>_However,</span><span style = 'color:rgba(253,10,10,0.23874690234661103)'>_I</span><span style = 'color:rgba(253,10,10,0.22908872663974764)'>_occasionally</span><span style = 'color:rgba(253,10,10,0.23184889853000643)'>_try</span><span style = 'color:rgba(253,10,10,0.22908872663974764)'>_to</span><span style = 'color:rgba(253,10,10,0.2935480773448944)'>_raise</span><span style = 'color:rgba(253,10,10,0.2354665368795395)'>_the</span><span style = 'color:rgba(253,10,10,0.22908872663974764)'>_bar</span><span style = 'color:rgba(253,10,10,0.2291700154542923)'>_on</span><span style = 'color:rgba(253,10,10,0.254479455947876)'>_my</span><span style = 'color:rgba(253,10,10,0.2695087850093842)'>_cultural</span>"
      ],
      "text/plain": [
       "<IPython.core.display.HTML object>"
      ]
     },
     "metadata": {},
     "output_type": "display_data"
    },
    {
     "name": "stdout",
     "output_type": "stream",
     "text": [
      "label:0.0\t guess:0.0\n"
     ]
    },
    {
     "data": {
      "text/html": [
       "<span style = 'color:rgba(253,10,253,0.23066543638706208)'>_French</span><span style = 'color:rgba(253,10,253,0.22976947128772737)'>_director</span><span style = 'color:rgba(253,10,253,0.29950863122940063)'>_Jean</span><span style = 'color:rgba(253,10,253,0.22976947128772737)'>_Rollin</span><span style = 'color:rgba(253,10,253,0.23509843051433565)'>_isn't</span><span style = 'color:rgba(253,10,253,0.23540809750556946)'>_exactly</span><span style = 'color:rgba(253,10,253,0.2409480094909668)'>_known</span><span style = 'color:rgba(253,10,253,0.23867508471012117)'>_for</span><span style = 'color:rgba(253,10,253,0.236332705616951)'>_great</span><span style = 'color:rgba(253,10,253,0.26825371384620667)'>_films,</span><span style = 'color:rgba(253,10,253,0.22976947128772737)'>_and</span><span style = 'color:rgba(253,10,253,0.23066543638706208)'>_this</span><span style = 'color:rgba(253,10,253,0.22976947128772737)'>_confusing</span><span style = 'color:rgba(253,10,253,0.23434346914291382)'>_mess</span><span style = 'color:rgba(253,10,253,0.22976947128772737)'>_is</span><span style = 'color:rgba(253,10,253,0.23770364820957185)'>_one</span><span style = 'color:rgba(253,10,253,0.22976947128772737)'>_of</span><span style = 'color:rgba(253,10,253,0.23434346914291382)'>_the</span><span style = 'color:rgba(253,10,253,0.24741791784763337)'>_reasons</span><span style = 'color:rgba(253,10,253,0.2520191192626953)'>_why.</span>"
      ],
      "text/plain": [
       "<IPython.core.display.HTML object>"
      ]
     },
     "metadata": {},
     "output_type": "display_data"
    },
    {
     "data": {
      "text/html": [
       "<span style = 'color:rgba(253,10,10,0.22703415453433992)'>_French</span><span style = 'color:rgba(253,10,10,0.23362272083759308)'>_director</span><span style = 'color:rgba(253,10,10,0.22703415453433992)'>_Jean</span><span style = 'color:rgba(253,10,10,0.23504088222980501)'>_Rollin</span><span style = 'color:rgba(253,10,10,0.22703415453433992)'>_isn't</span><span style = 'color:rgba(253,10,10,0.22703415453433992)'>_exactly</span><span style = 'color:rgba(253,10,10,0.22703415453433992)'>_known</span><span style = 'color:rgba(253,10,10,0.22703415453433992)'>_for</span><span style = 'color:rgba(253,10,10,0.22703415453433992)'>_great</span><span style = 'color:rgba(253,10,10,0.22703415453433992)'>_films,</span><span style = 'color:rgba(253,10,10,0.25571754574775696)'>_and</span><span style = 'color:rgba(253,10,10,0.22703415453433992)'>_this</span><span style = 'color:rgba(253,10,10,0.2367857962846756)'>_confusing</span><span style = 'color:rgba(253,10,10,0.22703415453433992)'>_mess</span><span style = 'color:rgba(253,10,10,0.32696003913879396)'>_is</span><span style = 'color:rgba(253,10,10,0.22703415453433992)'>_one</span><span style = 'color:rgba(253,10,10,0.33339486122131345)'>_of</span><span style = 'color:rgba(253,10,10,0.22703415453433992)'>_the</span><span style = 'color:rgba(253,10,10,0.22703415453433992)'>_reasons</span><span style = 'color:rgba(253,10,10,0.22703415453433992)'>_why.</span>"
      ],
      "text/plain": [
       "<IPython.core.display.HTML object>"
      ]
     },
     "metadata": {},
     "output_type": "display_data"
    },
    {
     "name": "stdout",
     "output_type": "stream",
     "text": [
      "label:0.0\t guess:0.0\n"
     ]
    },
    {
     "data": {
      "text/html": [
       "<span style = 'color:rgba(253,10,253,0.23265824615955355)'>_So</span><span style = 'color:rgba(253,10,253,0.24931220710277557)'>_far</span><span style = 'color:rgba(253,10,253,0.23596753478050234)'>_after</span><span style = 'color:rgba(253,10,253,0.2318450748920441)'>_week</span><span style = 'color:rgba(253,10,253,0.2318450748920441)'>_two</span><span style = 'color:rgba(253,10,253,0.2318450748920441)'>_of</span><span style = 'color:rgba(253,10,253,0.243790403008461)'>_\"The</span><span style = 'color:rgba(253,10,253,0.2328035116195679)'>_lone</span><span style = 'color:rgba(253,10,253,0.2318450748920441)'>_of</span><span style = 'color:rgba(253,10,253,0.2328035116195679)'>_Beauty\"</span><span style = 'color:rgba(253,10,253,0.2318450748920441)'>_I</span><span style = 'color:rgba(253,10,253,0.2318450748920441)'>_am</span><span style = 'color:rgba(253,10,253,0.23673798143863678)'>_a</span><span style = 'color:rgba(253,10,253,0.3234824299812317)'>_little</span><span style = 'color:rgba(253,10,253,0.2328035116195679)'>_disappointed.<br</span><span style = 'color:rgba(253,10,253,0.26118994355201725)'>_/><br</span><span style = 'color:rgba(253,10,253,0.2318450748920441)'>_/>Some</span><span style = 'color:rgba(253,10,253,0.2318450748920441)'>_of</span><span style = 'color:rgba(253,10,253,0.2318450748920441)'>_the</span><span style = 'color:rgba(253,10,253,0.2318450748920441)'>_acting</span>"
      ],
      "text/plain": [
       "<IPython.core.display.HTML object>"
      ]
     },
     "metadata": {},
     "output_type": "display_data"
    },
    {
     "data": {
      "text/html": [
       "<span style = 'color:rgba(253,10,10,0.22391123175621033)'>_So</span><span style = 'color:rgba(253,10,10,0.22391123175621033)'>_far</span><span style = 'color:rgba(253,10,10,0.22391123175621033)'>_after</span><span style = 'color:rgba(253,10,10,0.2851670980453491)'>_week</span><span style = 'color:rgba(253,10,10,0.2265441119670868)'>_two</span><span style = 'color:rgba(253,10,10,0.2831449151039124)'>_of</span><span style = 'color:rgba(253,10,10,0.22391123175621033)'>_\"The</span><span style = 'color:rgba(253,10,10,0.22391123175621033)'>_lone</span><span style = 'color:rgba(253,10,10,0.2831449151039124)'>_of</span><span style = 'color:rgba(253,10,10,0.22391123175621033)'>_Beauty\"</span><span style = 'color:rgba(253,10,10,0.2318503499031067)'>_I</span><span style = 'color:rgba(253,10,10,0.23673191666603088)'>_am</span><span style = 'color:rgba(253,10,10,0.22391123175621033)'>_a</span><span style = 'color:rgba(253,10,10,0.22391123175621033)'>_little</span><span style = 'color:rgba(253,10,10,0.22391123175621033)'>_disappointed.<br</span><span style = 'color:rgba(253,10,10,0.22391123175621033)'>_/><br</span><span style = 'color:rgba(253,10,10,0.23598874509334566)'>_/>Some</span><span style = 'color:rgba(253,10,10,0.2831449151039124)'>_of</span><span style = 'color:rgba(253,10,10,0.2291538566350937)'>_the</span><span style = 'color:rgba(253,10,10,0.26601684689521793)'>_acting</span>"
      ],
      "text/plain": [
       "<IPython.core.display.HTML object>"
      ]
     },
     "metadata": {},
     "output_type": "display_data"
    },
    {
     "name": "stdout",
     "output_type": "stream",
     "text": [
      "label:1.0\t guess:1.0\n"
     ]
    },
    {
     "data": {
      "text/html": [
       "<span style = 'color:rgba(253,10,253,0.23454608023166656)'>_S.S.</span><span style = 'color:rgba(253,10,253,0.23353672921657564)'>_Van</span><span style = 'color:rgba(253,10,253,0.23454608023166656)'>_Dine</span><span style = 'color:rgba(253,10,253,0.24396919608116152)'>_must</span><span style = 'color:rgba(253,10,253,0.24018471240997316)'>_have</span><span style = 'color:rgba(253,10,253,0.2518939971923828)'>_been</span><span style = 'color:rgba(253,10,253,0.2386895537376404)'>_a</span><span style = 'color:rgba(253,10,253,0.23454608023166656)'>_shrewd</span><span style = 'color:rgba(253,10,253,0.23454608023166656)'>_businessman</span><span style = 'color:rgba(253,10,253,0.24393919110298157)'>_in</span><span style = 'color:rgba(253,10,253,0.23353672921657564)'>_dealing</span><span style = 'color:rgba(253,10,253,0.23353672921657564)'>_with</span><span style = 'color:rgba(253,10,253,0.251485675573349)'>_Hollywood.</span><span style = 'color:rgba(253,10,253,0.24317615926265718)'>_Most</span><span style = 'color:rgba(253,10,253,0.23353672921657564)'>_of</span><span style = 'color:rgba(253,10,253,0.23353672921657564)'>_the</span><span style = 'color:rgba(253,10,253,0.24093052744865417)'>_film</span><span style = 'color:rgba(253,10,253,0.23454608023166656)'>_series'</span><span style = 'color:rgba(253,10,253,0.27178021073341374)'>_from</span><span style = 'color:rgba(253,10,253,0.23353672921657564)'>_the</span>"
      ],
      "text/plain": [
       "<IPython.core.display.HTML object>"
      ]
     },
     "metadata": {},
     "output_type": "display_data"
    },
    {
     "data": {
      "text/html": [
       "<span style = 'color:rgba(253,10,10,0.23016143143177034)'>_S.S.</span><span style = 'color:rgba(253,10,10,0.30185143947601323)'>_Van</span><span style = 'color:rgba(253,10,10,0.23016143143177034)'>_Dine</span><span style = 'color:rgba(253,10,10,0.23016143143177034)'>_must</span><span style = 'color:rgba(253,10,10,0.23016143143177034)'>_have</span><span style = 'color:rgba(253,10,10,0.23016143143177034)'>_been</span><span style = 'color:rgba(253,10,10,0.23016143143177034)'>_a</span><span style = 'color:rgba(253,10,10,0.23016143143177034)'>_shrewd</span><span style = 'color:rgba(253,10,10,0.23016143143177034)'>_businessman</span><span style = 'color:rgba(253,10,10,0.23016143143177034)'>_in</span><span style = 'color:rgba(253,10,10,0.25642017722129823)'>_dealing</span><span style = 'color:rgba(253,10,10,0.24104113280773165)'>_with</span><span style = 'color:rgba(253,10,10,0.23016143143177034)'>_Hollywood.</span><span style = 'color:rgba(253,10,10,0.23016143143177034)'>_Most</span><span style = 'color:rgba(253,10,10,0.30487831830978396)'>_of</span><span style = 'color:rgba(253,10,10,0.23677443563938141)'>_the</span><span style = 'color:rgba(253,10,10,0.23016143143177034)'>_film</span><span style = 'color:rgba(253,10,10,0.23016143143177034)'>_series'</span><span style = 'color:rgba(253,10,10,0.23016143143177034)'>_from</span><span style = 'color:rgba(253,10,10,0.23677443563938141)'>_the</span>"
      ],
      "text/plain": [
       "<IPython.core.display.HTML object>"
      ]
     },
     "metadata": {},
     "output_type": "display_data"
    },
    {
     "name": "stdout",
     "output_type": "stream",
     "text": [
      "label:1.0\t guess:1.0\n"
     ]
    },
    {
     "data": {
      "text/html": [
       "<span style = 'color:rgba(253,10,253,0.2267677664756775)'>_Wealthy</span><span style = 'color:rgba(253,10,253,0.2259856790304184)'>_psychiatrist</span><span style = 'color:rgba(253,10,253,0.2267677664756775)'>_Lindsay</span><span style = 'color:rgba(253,10,253,0.2267677664756775)'>_Crouse</span><span style = 'color:rgba(253,10,253,0.2259856790304184)'>_has</span><span style = 'color:rgba(253,10,253,0.27104368805885315)'>_just</span><span style = 'color:rgba(253,10,253,0.2267677664756775)'>_published</span><span style = 'color:rgba(253,10,253,0.2259856790304184)'>_her</span><span style = 'color:rgba(253,10,253,0.2259856790304184)'>_first</span><span style = 'color:rgba(253,10,253,0.22675515711307526)'>_novel</span><span style = 'color:rgba(253,10,253,0.2259856790304184)'>_and</span><span style = 'color:rgba(253,10,253,0.2259856790304184)'>_is</span><span style = 'color:rgba(253,10,253,0.32296526432037354)'>_feeling</span><span style = 'color:rgba(253,10,253,0.2259856790304184)'>_down</span><span style = 'color:rgba(253,10,253,0.23685149550437928)'>_about</span><span style = 'color:rgba(253,10,253,0.2259856790304184)'>_her</span><span style = 'color:rgba(253,10,253,0.2267677664756775)'>_profession</span><span style = 'color:rgba(253,10,253,0.32296526432037354)'>_feeling</span><span style = 'color:rgba(253,10,253,0.23291140198707583)'>_that</span><span style = 'color:rgba(253,10,253,0.24478349685668946)'>_it's</span>"
      ],
      "text/plain": [
       "<IPython.core.display.HTML object>"
      ]
     },
     "metadata": {},
     "output_type": "display_data"
    },
    {
     "data": {
      "text/html": [
       "<span style = 'color:rgba(253,10,10,0.23039757609367373)'>_Wealthy</span><span style = 'color:rgba(253,10,10,0.2545664668083191)'>_psychiatrist</span><span style = 'color:rgba(253,10,10,0.23039757609367373)'>_Lindsay</span><span style = 'color:rgba(253,10,10,0.23039757609367373)'>_Crouse</span><span style = 'color:rgba(253,10,10,0.23959437906742098)'>_has</span><span style = 'color:rgba(253,10,10,0.23039757609367373)'>_just</span><span style = 'color:rgba(253,10,10,0.23039757609367373)'>_published</span><span style = 'color:rgba(253,10,10,0.23885241448879244)'>_her</span><span style = 'color:rgba(253,10,10,0.2740817427635193)'>_first</span><span style = 'color:rgba(253,10,10,0.23039757609367373)'>_novel</span><span style = 'color:rgba(253,10,10,0.2681608557701111)'>_and</span><span style = 'color:rgba(253,10,10,0.25880274176597595)'>_is</span><span style = 'color:rgba(253,10,10,0.23039757609367373)'>_feeling</span><span style = 'color:rgba(253,10,10,0.2623180866241455)'>_down</span><span style = 'color:rgba(253,10,10,0.23039757609367373)'>_about</span><span style = 'color:rgba(253,10,10,0.23885241448879244)'>_her</span><span style = 'color:rgba(253,10,10,0.23039757609367373)'>_profession</span><span style = 'color:rgba(253,10,10,0.23039757609367373)'>_feeling</span><span style = 'color:rgba(253,10,10,0.23039757609367373)'>_that</span><span style = 'color:rgba(253,10,10,0.23039757609367373)'>_it's</span>"
      ],
      "text/plain": [
       "<IPython.core.display.HTML object>"
      ]
     },
     "metadata": {},
     "output_type": "display_data"
    },
    {
     "name": "stdout",
     "output_type": "stream",
     "text": [
      "label:1.0\t guess:1.0\n"
     ]
    },
    {
     "data": {
      "text/html": [
       "<span style = 'color:rgba(253,10,253,0.23394269347190857)'>_I</span><span style = 'color:rgba(253,10,253,0.2445014476776123)'>_must</span><span style = 'color:rgba(253,10,253,0.23394269347190857)'>_say,</span><span style = 'color:rgba(253,10,253,0.23394269347190857)'>_I</span><span style = 'color:rgba(253,10,253,0.26802919507026673)'>_was</span><span style = 'color:rgba(253,10,253,0.23394269347190857)'>_surprised</span><span style = 'color:rgba(253,10,253,0.23394269347190857)'>_with</span><span style = 'color:rgba(253,10,253,0.23394269347190857)'>_the</span><span style = 'color:rgba(253,10,253,0.23394269347190857)'>_quality</span><span style = 'color:rgba(253,10,253,0.23394269347190857)'>_of</span><span style = 'color:rgba(253,10,253,0.23394269347190857)'>_the</span><span style = 'color:rgba(253,10,253,0.23394269347190857)'>_movie.</span><span style = 'color:rgba(253,10,253,0.23394269347190857)'>_It</span><span style = 'color:rgba(253,10,253,0.26802919507026673)'>_was</span><span style = 'color:rgba(253,10,253,0.2525603711605072)'>_far</span><span style = 'color:rgba(253,10,253,0.2556962013244629)'>_better</span><span style = 'color:rgba(253,10,253,0.23394269347190857)'>_than</span><span style = 'color:rgba(253,10,253,0.23394269347190857)'>_I</span><span style = 'color:rgba(253,10,253,0.2349642664194107)'>_expected.</span><span style = 'color:rgba(253,10,253,0.2349642664194107)'>_Scenario</span>"
      ],
      "text/plain": [
       "<IPython.core.display.HTML object>"
      ]
     },
     "metadata": {},
     "output_type": "display_data"
    },
    {
     "data": {
      "text/html": [
       "<span style = 'color:rgba(253,10,10,0.23546332716941834)'>_I</span><span style = 'color:rgba(253,10,10,0.22662362456321716)'>_must</span><span style = 'color:rgba(253,10,10,0.24070987105369568)'>_say,</span><span style = 'color:rgba(253,10,10,0.23546332716941834)'>_I</span><span style = 'color:rgba(253,10,10,0.22662362456321716)'>_was</span><span style = 'color:rgba(253,10,10,0.26141066551208497)'>_surprised</span><span style = 'color:rgba(253,10,10,0.23622718453407288)'>_with</span><span style = 'color:rgba(253,10,10,0.232460954785347)'>_the</span><span style = 'color:rgba(253,10,10,0.26203095316886904)'>_quality</span><span style = 'color:rgba(253,10,10,0.2925765454769135)'>_of</span><span style = 'color:rgba(253,10,10,0.232460954785347)'>_the</span><span style = 'color:rgba(253,10,10,0.2820832490921021)'>_movie.</span><span style = 'color:rgba(253,10,10,0.2356092542409897)'>_It</span><span style = 'color:rgba(253,10,10,0.22662362456321716)'>_was</span><span style = 'color:rgba(253,10,10,0.22662362456321716)'>_far</span><span style = 'color:rgba(253,10,10,0.22662362456321716)'>_better</span><span style = 'color:rgba(253,10,10,0.23167501688003542)'>_than</span><span style = 'color:rgba(253,10,10,0.23546332716941834)'>_I</span><span style = 'color:rgba(253,10,10,0.22662362456321716)'>_expected.</span><span style = 'color:rgba(253,10,10,0.22662362456321716)'>_Scenario</span>"
      ],
      "text/plain": [
       "<IPython.core.display.HTML object>"
      ]
     },
     "metadata": {},
     "output_type": "display_data"
    },
    {
     "name": "stdout",
     "output_type": "stream",
     "text": [
      "label:1.0\t guess:1.0\n"
     ]
    },
    {
     "data": {
      "text/html": [
       "<span style = 'color:rgba(253,10,253,0.2365191549062729)'>_After</span><span style = 'color:rgba(253,10,253,0.22792690992355347)'>_going</span><span style = 'color:rgba(253,10,253,0.2355365753173828)'>_for</span><span style = 'color:rgba(253,10,253,0.23221780061721803)'>_a</span><span style = 'color:rgba(253,10,253,0.2287674218416214)'>_bike</span><span style = 'color:rgba(253,10,253,0.24345601797103883)'>_ride</span><span style = 'color:rgba(253,10,253,0.23537000715732576)'>_that</span><span style = 'color:rgba(253,10,253,0.24493142664432527)'>_day,</span><span style = 'color:rgba(253,10,253,0.22855590581893923)'>_lying</span><span style = 'color:rgba(253,10,253,0.2287674218416214)'>_beside</span><span style = 'color:rgba(253,10,253,0.23221780061721803)'>_a</span><span style = 'color:rgba(253,10,253,0.2287674218416214)'>_lake</span><span style = 'color:rgba(253,10,253,0.23658931255340576)'>_in</span><span style = 'color:rgba(253,10,253,0.23221780061721803)'>_a</span><span style = 'color:rgba(253,10,253,0.2658823609352112)'>_nature</span><span style = 'color:rgba(253,10,253,0.2287674218416214)'>_reserve,</span><span style = 'color:rgba(253,10,253,0.2725862324237824)'>_spending</span><span style = 'color:rgba(253,10,253,0.2754060506820679)'>_half</span><span style = 'color:rgba(253,10,253,0.22792690992355347)'>_an</span><span style = 'color:rgba(253,10,253,0.25759002566337585)'>_hour</span>"
      ],
      "text/plain": [
       "<IPython.core.display.HTML object>"
      ]
     },
     "metadata": {},
     "output_type": "display_data"
    },
    {
     "data": {
      "text/html": [
       "<span style = 'color:rgba(253,10,10,0.23864831626415253)'>_After</span><span style = 'color:rgba(253,10,10,0.2478157103061676)'>_going</span><span style = 'color:rgba(253,10,10,0.23864831626415253)'>_for</span><span style = 'color:rgba(253,10,10,0.23864831626415253)'>_a</span><span style = 'color:rgba(253,10,10,0.23864831626415253)'>_bike</span><span style = 'color:rgba(253,10,10,0.23864831626415253)'>_ride</span><span style = 'color:rgba(253,10,10,0.23864831626415253)'>_that</span><span style = 'color:rgba(253,10,10,0.23864831626415253)'>_day,</span><span style = 'color:rgba(253,10,10,0.23864831626415253)'>_lying</span><span style = 'color:rgba(253,10,10,0.23864831626415253)'>_beside</span><span style = 'color:rgba(253,10,10,0.23864831626415253)'>_a</span><span style = 'color:rgba(253,10,10,0.23864831626415253)'>_lake</span><span style = 'color:rgba(253,10,10,0.23864831626415253)'>_in</span><span style = 'color:rgba(253,10,10,0.23864831626415253)'>_a</span><span style = 'color:rgba(253,10,10,0.23864831626415253)'>_nature</span><span style = 'color:rgba(253,10,10,0.23864831626415253)'>_reserve,</span><span style = 'color:rgba(253,10,10,0.23864831626415253)'>_spending</span><span style = 'color:rgba(253,10,10,0.23864831626415253)'>_half</span><span style = 'color:rgba(253,10,10,0.25651462674140935)'>_an</span><span style = 'color:rgba(253,10,10,0.23864831626415253)'>_hour</span>"
      ],
      "text/plain": [
       "<IPython.core.display.HTML object>"
      ]
     },
     "metadata": {},
     "output_type": "display_data"
    },
    {
     "name": "stdout",
     "output_type": "stream",
     "text": [
      "label:0.0\t guess:0.0\n"
     ]
    },
    {
     "data": {
      "text/html": [
       "<span style = 'color:rgba(253,10,253,0.2270914375782013)'>_This</span><span style = 'color:rgba(253,10,253,0.2348006546497345)'>_Italian</span><span style = 'color:rgba(253,10,253,0.37807435989379884)'>_semi-horror</span><span style = 'color:rgba(253,10,253,0.27406678795814515)'>_movie</span><span style = 'color:rgba(253,10,253,0.2270914375782013)'>_starts</span><span style = 'color:rgba(253,10,253,0.23577474951744082)'>_out</span><span style = 'color:rgba(253,10,253,0.23306425213813783)'>_very</span><span style = 'color:rgba(253,10,253,0.2348006546497345)'>_much</span><span style = 'color:rgba(253,10,253,0.22790680527687074)'>_like</span><span style = 'color:rgba(253,10,253,0.23447345197200775)'>_a</span><span style = 'color:rgba(253,10,253,0.2270914375782013)'>_soft</span><span style = 'color:rgba(253,10,253,0.22790680527687074)'>_core</span><span style = 'color:rgba(253,10,253,0.23519591093063355)'>_porn</span><span style = 'color:rgba(253,10,253,0.2270914375782013)'>_movie</span><span style = 'color:rgba(253,10,253,0.2270914375782013)'>_and</span><span style = 'color:rgba(253,10,253,0.2270914375782013)'>_turns</span><span style = 'color:rgba(253,10,253,0.2270914375782013)'>_into</span><span style = 'color:rgba(253,10,253,0.23760046958923342)'>_a</span><span style = 'color:rgba(253,10,253,0.22960361540317537)'>_mystery</span><span style = 'color:rgba(253,10,253,0.2270914375782013)'>_that</span>"
      ],
      "text/plain": [
       "<IPython.core.display.HTML object>"
      ]
     },
     "metadata": {},
     "output_type": "display_data"
    },
    {
     "data": {
      "text/html": [
       "<span style = 'color:rgba(253,10,10,0.25993463993072513)'>_This</span><span style = 'color:rgba(253,10,10,0.230982705950737)'>_Italian</span><span style = 'color:rgba(253,10,10,0.230982705950737)'>_semi-horror</span><span style = 'color:rgba(253,10,10,0.230982705950737)'>_movie</span><span style = 'color:rgba(253,10,10,0.27345834374427797)'>_starts</span><span style = 'color:rgba(253,10,10,0.230982705950737)'>_out</span><span style = 'color:rgba(253,10,10,0.230982705950737)'>_very</span><span style = 'color:rgba(253,10,10,0.230982705950737)'>_much</span><span style = 'color:rgba(253,10,10,0.230982705950737)'>_like</span><span style = 'color:rgba(253,10,10,0.230982705950737)'>_a</span><span style = 'color:rgba(253,10,10,0.2580266356468201)'>_soft</span><span style = 'color:rgba(253,10,10,0.230982705950737)'>_core</span><span style = 'color:rgba(253,10,10,0.230982705950737)'>_porn</span><span style = 'color:rgba(253,10,10,0.24802170097827914)'>_movie</span><span style = 'color:rgba(253,10,10,0.2315866619348526)'>_and</span><span style = 'color:rgba(253,10,10,0.26915045976638796)'>_turns</span><span style = 'color:rgba(253,10,10,0.25025329589843753)'>_into</span><span style = 'color:rgba(253,10,10,0.230982705950737)'>_a</span><span style = 'color:rgba(253,10,10,0.230982705950737)'>_mystery</span><span style = 'color:rgba(253,10,10,0.23777577579021456)'>_that</span>"
      ],
      "text/plain": [
       "<IPython.core.display.HTML object>"
      ]
     },
     "metadata": {},
     "output_type": "display_data"
    },
    {
     "name": "stdout",
     "output_type": "stream",
     "text": [
      "label:1.0\t guess:1.0\n"
     ]
    },
    {
     "data": {
      "text/html": [
       "<span style = 'color:rgba(253,10,253,0.23395021259784698)'>_In</span><span style = 'color:rgba(253,10,253,0.23395021259784698)'>_the</span><span style = 'color:rgba(253,10,253,0.23497200906276705)'>_immortal</span><span style = 'color:rgba(253,10,253,0.23395021259784698)'>_\"Shaun</span><span style = 'color:rgba(253,10,253,0.2397121638059616)'>_of</span><span style = 'color:rgba(253,10,253,0.23497200906276705)'>_the</span><span style = 'color:rgba(253,10,253,0.23497200906276705)'>_Dead\",</span><span style = 'color:rgba(253,10,253,0.23497200906276705)'>_we</span><span style = 'color:rgba(253,10,253,0.23497200906276705)'>_are</span><span style = 'color:rgba(253,10,253,0.23395021259784698)'>_introduced</span><span style = 'color:rgba(253,10,253,0.2347176194190979)'>_to</span><span style = 'color:rgba(253,10,253,0.2597225069999695)'>_a</span><span style = 'color:rgba(253,10,253,0.23497200906276705)'>_London</span><span style = 'color:rgba(253,10,253,0.23395021259784698)'>_where</span><span style = 'color:rgba(253,10,253,0.25637861490249636)'>_the</span><span style = 'color:rgba(253,10,253,0.23395021259784698)'>_slackers</span><span style = 'color:rgba(253,10,253,0.23497200906276705)'>_and</span><span style = 'color:rgba(253,10,253,0.23395021259784698)'>_the</span><span style = 'color:rgba(253,10,253,0.23916656672954562)'>_high-and-mighty</span><span style = 'color:rgba(253,10,253,0.2878469467163086)'>_alike</span>"
      ],
      "text/plain": [
       "<IPython.core.display.HTML object>"
      ]
     },
     "metadata": {},
     "output_type": "display_data"
    },
    {
     "data": {
      "text/html": [
       "<span style = 'color:rgba(253,10,10,0.23279853761196137)'>_In</span><span style = 'color:rgba(253,10,10,0.29980892539024356)'>_the</span><span style = 'color:rgba(253,10,10,0.2287035495042801)'>_immortal</span><span style = 'color:rgba(253,10,10,0.25552572011947633)'>_\"Shaun</span><span style = 'color:rgba(253,10,10,0.2287035495042801)'>_of</span><span style = 'color:rgba(253,10,10,0.2287035495042801)'>_the</span><span style = 'color:rgba(253,10,10,0.2287035495042801)'>_Dead\",</span><span style = 'color:rgba(253,10,10,0.2287035495042801)'>_we</span><span style = 'color:rgba(253,10,10,0.2287035495042801)'>_are</span><span style = 'color:rgba(253,10,10,0.2390573710203171)'>_introduced</span><span style = 'color:rgba(253,10,10,0.2287035495042801)'>_to</span><span style = 'color:rgba(253,10,10,0.2287035495042801)'>_a</span><span style = 'color:rgba(253,10,10,0.2287035495042801)'>_London</span><span style = 'color:rgba(253,10,10,0.3129802465438843)'>_where</span><span style = 'color:rgba(253,10,10,0.2287035495042801)'>_the</span><span style = 'color:rgba(253,10,10,0.25552572011947633)'>_slackers</span><span style = 'color:rgba(253,10,10,0.2287035495042801)'>_and</span><span style = 'color:rgba(253,10,10,0.23115732669830324)'>_the</span><span style = 'color:rgba(253,10,10,0.2287035495042801)'>_high-and-mighty</span><span style = 'color:rgba(253,10,10,0.2287035495042801)'>_alike</span>"
      ],
      "text/plain": [
       "<IPython.core.display.HTML object>"
      ]
     },
     "metadata": {},
     "output_type": "display_data"
    },
    {
     "name": "stdout",
     "output_type": "stream",
     "text": [
      "label:0.0\t guess:0.0\n"
     ]
    },
    {
     "data": {
      "text/html": [
       "<span style = 'color:rgba(253,10,253,0.2264502435922623)'>_Unwatchable.</span><span style = 'color:rgba(253,10,253,0.24322222471237184)'>_You</span><span style = 'color:rgba(253,10,253,0.2386914283037186)'>_can't</span><span style = 'color:rgba(253,10,253,0.2648652493953705)'>_even</span><span style = 'color:rgba(253,10,253,0.2429497241973877)'>_make</span><span style = 'color:rgba(253,10,253,0.22567743360996248)'>_it</span><span style = 'color:rgba(253,10,253,0.22567743360996248)'>_past</span><span style = 'color:rgba(253,10,253,0.22567743360996248)'>_the</span><span style = 'color:rgba(253,10,253,0.22567743360996248)'>_first</span><span style = 'color:rgba(253,10,253,0.23973065316677095)'>_three</span><span style = 'color:rgba(253,10,253,0.3230038285255432)'>_minutes.</span><span style = 'color:rgba(253,10,253,0.22567743360996248)'>_And</span><span style = 'color:rgba(253,10,253,0.23390752971172335)'>_this</span><span style = 'color:rgba(253,10,253,0.22567743360996248)'>_is</span><span style = 'color:rgba(253,10,253,0.2390988111495972)'>_coming</span><span style = 'color:rgba(253,10,253,0.2549585998058319)'>_from</span><span style = 'color:rgba(253,10,253,0.2296226978302002)'>_a</span><span style = 'color:rgba(253,10,253,0.25807955861091614)'>_huge</span><span style = 'color:rgba(253,10,253,0.22567743360996248)'>_Adam</span><span style = 'color:rgba(253,10,253,0.22567743360996248)'>_Sandler</span>"
      ],
      "text/plain": [
       "<IPython.core.display.HTML object>"
      ]
     },
     "metadata": {},
     "output_type": "display_data"
    },
    {
     "data": {
      "text/html": [
       "<span style = 'color:rgba(253,10,10,0.23189864158630372)'>_Unwatchable.</span><span style = 'color:rgba(253,10,10,0.23189864158630372)'>_You</span><span style = 'color:rgba(253,10,10,0.23189864158630372)'>_can't</span><span style = 'color:rgba(253,10,10,0.23189864158630372)'>_even</span><span style = 'color:rgba(253,10,10,0.23189864158630372)'>_make</span><span style = 'color:rgba(253,10,10,0.2483311653137207)'>_it</span><span style = 'color:rgba(253,10,10,0.2528698146343231)'>_past</span><span style = 'color:rgba(253,10,10,0.23889253735542298)'>_the</span><span style = 'color:rgba(253,10,10,0.2777399778366089)'>_first</span><span style = 'color:rgba(253,10,10,0.23189864158630372)'>_three</span><span style = 'color:rgba(253,10,10,0.23189864158630372)'>_minutes.</span><span style = 'color:rgba(253,10,10,0.26510375142097475)'>_And</span><span style = 'color:rgba(253,10,10,0.23189864158630372)'>_this</span><span style = 'color:rgba(253,10,10,0.26170648336410524)'>_is</span><span style = 'color:rgba(253,10,10,0.23189864158630372)'>_coming</span><span style = 'color:rgba(253,10,10,0.23189864158630372)'>_from</span><span style = 'color:rgba(253,10,10,0.23189864158630372)'>_a</span><span style = 'color:rgba(253,10,10,0.23189864158630372)'>_huge</span><span style = 'color:rgba(253,10,10,0.23487462997436526)'>_Adam</span><span style = 'color:rgba(253,10,10,0.23769793510437012)'>_Sandler</span>"
      ],
      "text/plain": [
       "<IPython.core.display.HTML object>"
      ]
     },
     "metadata": {},
     "output_type": "display_data"
    },
    {
     "name": "stdout",
     "output_type": "stream",
     "text": [
      "label:0.0\t guess:0.0\n"
     ]
    },
    {
     "data": {
      "text/html": [
       "<span style = 'color:rgba(253,10,253,0.21830509006977084)'>_This</span><span style = 'color:rgba(253,10,253,0.21830509006977084)'>_is</span><span style = 'color:rgba(253,10,253,0.21830509006977084)'>_without</span><span style = 'color:rgba(253,10,253,0.22111761569976807)'>_a</span><span style = 'color:rgba(253,10,253,0.21830509006977084)'>_doubt</span><span style = 'color:rgba(253,10,253,0.21871885657310486)'>_one</span><span style = 'color:rgba(253,10,253,0.21830509006977084)'>_of</span><span style = 'color:rgba(253,10,253,0.21830509006977084)'>_the</span><span style = 'color:rgba(253,10,253,0.5158877372741699)'>_worst</span><span style = 'color:rgba(253,10,253,0.21830509006977084)'>_movies</span><span style = 'color:rgba(253,10,253,0.21885601580142977)'>_EVER,</span><span style = 'color:rgba(253,10,253,0.21830509006977084)'>_I</span><span style = 'color:rgba(253,10,253,0.21885601580142977)'>_emphasize,</span><span style = 'color:rgba(253,10,253,0.23468233942985536)'>_EVER</span><span style = 'color:rgba(253,10,253,0.24851741194725038)'>_made.</span><span style = 'color:rgba(253,10,253,0.21885601580142977)'>_Whats</span><span style = 'color:rgba(253,10,253,0.29308346509933475)'>_worse,</span><span style = 'color:rgba(253,10,253,0.21830509006977084)'>_my</span><span style = 'color:rgba(253,10,253,0.22013983428478243)'>_old</span><span style = 'color:rgba(253,10,253,0.2265388607978821)'>_hero</span>"
      ],
      "text/plain": [
       "<IPython.core.display.HTML object>"
      ]
     },
     "metadata": {},
     "output_type": "display_data"
    },
    {
     "data": {
      "text/html": [
       "<span style = 'color:rgba(253,10,10,0.23668144941329958)'>_This</span><span style = 'color:rgba(253,10,10,0.25749993920326236)'>_is</span><span style = 'color:rgba(253,10,10,0.23804595172405243)'>_without</span><span style = 'color:rgba(253,10,10,0.22972410619258882)'>_a</span><span style = 'color:rgba(253,10,10,0.2568411469459534)'>_doubt</span><span style = 'color:rgba(253,10,10,0.22972410619258882)'>_one</span><span style = 'color:rgba(253,10,10,0.3033576369285584)'>_of</span><span style = 'color:rgba(253,10,10,0.23624122738838196)'>_the</span><span style = 'color:rgba(253,10,10,0.22972410619258882)'>_worst</span><span style = 'color:rgba(253,10,10,0.24910480678081515)'>_movies</span><span style = 'color:rgba(253,10,10,0.22972410619258882)'>_EVER,</span><span style = 'color:rgba(253,10,10,0.239593243598938)'>_I</span><span style = 'color:rgba(253,10,10,0.22972410619258882)'>_emphasize,</span><span style = 'color:rgba(253,10,10,0.22972410619258882)'>_EVER</span><span style = 'color:rgba(253,10,10,0.22972410619258882)'>_made.</span><span style = 'color:rgba(253,10,10,0.22972410619258882)'>_Whats</span><span style = 'color:rgba(253,10,10,0.22972410619258882)'>_worse,</span><span style = 'color:rgba(253,10,10,0.2556694447994232)'>_my</span><span style = 'color:rgba(253,10,10,0.22972410619258882)'>_old</span><span style = 'color:rgba(253,10,10,0.22972410619258882)'>_hero</span>"
      ],
      "text/plain": [
       "<IPython.core.display.HTML object>"
      ]
     },
     "metadata": {},
     "output_type": "display_data"
    },
    {
     "name": "stdout",
     "output_type": "stream",
     "text": [
      "label:0.0\t guess:0.0\n"
     ]
    },
    {
     "data": {
      "text/html": [
       "<span style = 'color:rgba(253,10,253,0.2315099447965622)'>_Zombie</span><span style = 'color:rgba(253,10,253,0.2315099447965622)'>_Nation</span><span style = 'color:rgba(253,10,253,0.23058930337429048)'>_2004</span><span style = 'color:rgba(253,10,253,0.2729658901691437)'>_R<br</span><span style = 'color:rgba(253,10,253,0.23058930337429048)'>_/><br</span><span style = 'color:rgba(253,10,253,0.23058930337429048)'>_/>Hey,</span><span style = 'color:rgba(253,10,253,0.2315099447965622)'>_I</span><span style = 'color:rgba(253,10,253,0.23058930337429048)'>_was</span><span style = 'color:rgba(253,10,253,0.23528926372528078)'>_bored.</span><span style = 'color:rgba(253,10,253,0.23430637419223788)'>_I</span><span style = 'color:rgba(253,10,253,0.2425304025411606)'>_looked</span><span style = 'color:rgba(253,10,253,0.2315099447965622)'>_in</span><span style = 'color:rgba(253,10,253,0.3036166071891785)'>_my</span><span style = 'color:rgba(253,10,253,0.23058930337429048)'>_Comcastic</span><span style = 'color:rgba(253,10,253,0.23058930337429048)'>_little</span><span style = 'color:rgba(253,10,253,0.24039374589920046)'>_box</span><span style = 'color:rgba(253,10,253,0.23733328580856325)'>_to</span><span style = 'color:rgba(253,10,253,0.25215819478034973)'>_find</span><span style = 'color:rgba(253,10,253,0.24007753133773804)'>_a</span><span style = 'color:rgba(253,10,253,0.23175309598445892)'>_movie</span>"
      ],
      "text/plain": [
       "<IPython.core.display.HTML object>"
      ]
     },
     "metadata": {},
     "output_type": "display_data"
    },
    {
     "data": {
      "text/html": [
       "<span style = 'color:rgba(253,10,10,0.23224602937698366)'>_Zombie</span><span style = 'color:rgba(253,10,10,0.23224602937698366)'>_Nation</span><span style = 'color:rgba(253,10,10,0.27230566143989565)'>_2004</span><span style = 'color:rgba(253,10,10,0.23224602937698366)'>_R<br</span><span style = 'color:rgba(253,10,10,0.26606900691986085)'>_/><br</span><span style = 'color:rgba(253,10,10,0.23695604503154755)'>_/>Hey,</span><span style = 'color:rgba(253,10,10,0.23224602937698366)'>_I</span><span style = 'color:rgba(253,10,10,0.26086658239364624)'>_was</span><span style = 'color:rgba(253,10,10,0.23224602937698366)'>_bored.</span><span style = 'color:rgba(253,10,10,0.23224602937698366)'>_I</span><span style = 'color:rgba(253,10,10,0.23224602937698366)'>_looked</span><span style = 'color:rgba(253,10,10,0.23224602937698366)'>_in</span><span style = 'color:rgba(253,10,10,0.23224602937698366)'>_my</span><span style = 'color:rgba(253,10,10,0.24997979402542114)'>_Comcastic</span><span style = 'color:rgba(253,10,10,0.2623784899711609)'>_little</span><span style = 'color:rgba(253,10,10,0.23224602937698366)'>_box</span><span style = 'color:rgba(253,10,10,0.23224602937698366)'>_to</span><span style = 'color:rgba(253,10,10,0.23224602937698366)'>_find</span><span style = 'color:rgba(253,10,10,0.23224602937698366)'>_a</span><span style = 'color:rgba(253,10,10,0.23224602937698366)'>_movie</span>"
      ],
      "text/plain": [
       "<IPython.core.display.HTML object>"
      ]
     },
     "metadata": {},
     "output_type": "display_data"
    },
    {
     "name": "stdout",
     "output_type": "stream",
     "text": [
      "label:1.0\t guess:1.0\n"
     ]
    },
    {
     "data": {
      "text/html": [
       "<span style = 'color:rgba(253,10,253,0.23564606606960298)'>_This</span><span style = 'color:rgba(253,10,253,0.23564606606960298)'>_is</span><span style = 'color:rgba(253,10,253,0.23655095994472505)'>_such</span><span style = 'color:rgba(253,10,253,0.24112298488616946)'>_a</span><span style = 'color:rgba(253,10,253,0.23564606606960298)'>_great</span><span style = 'color:rgba(253,10,253,0.23564606606960298)'>_movie</span><span style = 'color:rgba(253,10,253,0.23671890497207643)'>_\"Call</span><span style = 'color:rgba(253,10,253,0.23708551526069643)'>_Me</span><span style = 'color:rgba(253,10,253,0.23671890497207643)'>_Anna\"</span><span style = 'color:rgba(253,10,253,0.23564606606960298)'>_because</span><span style = 'color:rgba(253,10,253,0.23564606606960298)'>_it</span><span style = 'color:rgba(253,10,253,0.23564606606960298)'>_shows</span><span style = 'color:rgba(253,10,253,0.23564606606960298)'>_how</span><span style = 'color:rgba(253,10,253,0.24112298488616946)'>_a</span><span style = 'color:rgba(253,10,253,0.2634747624397278)'>_person</span><span style = 'color:rgba(253,10,253,0.23564606606960298)'>_has</span><span style = 'color:rgba(253,10,253,0.2516385018825531)'>_suffered</span><span style = 'color:rgba(253,10,253,0.2453590899705887)'>_for</span><span style = 'color:rgba(253,10,253,0.23564606606960298)'>_so</span><span style = 'color:rgba(253,10,253,0.2537467241287232)'>_long</span>"
      ],
      "text/plain": [
       "<IPython.core.display.HTML object>"
      ]
     },
     "metadata": {},
     "output_type": "display_data"
    },
    {
     "data": {
      "text/html": [
       "<span style = 'color:rgba(253,10,10,0.23229778707027438)'>_This</span><span style = 'color:rgba(253,10,10,0.25062834024429326)'>_is</span><span style = 'color:rgba(253,10,10,0.22617188990116122)'>_such</span><span style = 'color:rgba(253,10,10,0.22617188990116122)'>_a</span><span style = 'color:rgba(253,10,10,0.3313113212585449)'>_great</span><span style = 'color:rgba(253,10,10,0.24306072592735292)'>_movie</span><span style = 'color:rgba(253,10,10,0.22617188990116122)'>_\"Call</span><span style = 'color:rgba(253,10,10,0.22617188990116122)'>_Me</span><span style = 'color:rgba(253,10,10,0.22617188990116122)'>_Anna\"</span><span style = 'color:rgba(253,10,10,0.23245392441749574)'>_because</span><span style = 'color:rgba(253,10,10,0.2396542876958847)'>_it</span><span style = 'color:rgba(253,10,10,0.28825970292091374)'>_shows</span><span style = 'color:rgba(253,10,10,0.25647415518760686)'>_how</span><span style = 'color:rgba(253,10,10,0.22617188990116122)'>_a</span><span style = 'color:rgba(253,10,10,0.22617188990116122)'>_person</span><span style = 'color:rgba(253,10,10,0.23409020602703096)'>_has</span><span style = 'color:rgba(253,10,10,0.22617188990116122)'>_suffered</span><span style = 'color:rgba(253,10,10,0.22617188990116122)'>_for</span><span style = 'color:rgba(253,10,10,0.23005065321922302)'>_so</span><span style = 'color:rgba(253,10,10,0.22617188990116122)'>_long</span>"
      ],
      "text/plain": [
       "<IPython.core.display.HTML object>"
      ]
     },
     "metadata": {},
     "output_type": "display_data"
    },
    {
     "name": "stdout",
     "output_type": "stream",
     "text": [
      "label:1.0\t guess:1.0\n"
     ]
    },
    {
     "data": {
      "text/html": [
       "<span style = 'color:rgba(253,10,253,0.2367669939994812)'>_I</span><span style = 'color:rgba(253,10,253,0.24405531585216522)'>_have</span><span style = 'color:rgba(253,10,253,0.2367669939994812)'>_seen</span><span style = 'color:rgba(253,10,253,0.23787357211112978)'>_Dirty</span><span style = 'color:rgba(253,10,253,0.23787357211112978)'>_Work</span><span style = 'color:rgba(253,10,253,0.2367669939994812)'>_several</span><span style = 'color:rgba(253,10,253,0.2367669939994812)'>_times</span><span style = 'color:rgba(253,10,253,0.2367669939994812)'>_and</span><span style = 'color:rgba(253,10,253,0.2367669939994812)'>_is</span><span style = 'color:rgba(253,10,253,0.2367669939994812)'>_probably</span><span style = 'color:rgba(253,10,253,0.2367669939994812)'>_my</span><span style = 'color:rgba(253,10,253,0.2367669939994812)'>_favourite</span><span style = 'color:rgba(253,10,253,0.2367669939994812)'>_Stan</span><span style = 'color:rgba(253,10,253,0.2367669939994812)'>_and</span><span style = 'color:rgba(253,10,253,0.23787357211112978)'>_Ollie</span><span style = 'color:rgba(253,10,253,0.23787357211112978)'>_short.<br</span><span style = 'color:rgba(253,10,253,0.27064735889434816)'>_/><br</span><span style = 'color:rgba(253,10,253,0.2367669939994812)'>_/>In</span><span style = 'color:rgba(253,10,253,0.24855150282382965)'>_this</span><span style = 'color:rgba(253,10,253,0.24404762983322145)'>_one,</span>"
      ],
      "text/plain": [
       "<IPython.core.display.HTML object>"
      ]
     },
     "metadata": {},
     "output_type": "display_data"
    },
    {
     "data": {
      "text/html": [
       "<span style = 'color:rgba(253,10,10,0.23056717216968536)'>_I</span><span style = 'color:rgba(253,10,10,0.22294790148735047)'>_have</span><span style = 'color:rgba(253,10,10,0.25599043965339663)'>_seen</span><span style = 'color:rgba(253,10,10,0.22294790148735047)'>_Dirty</span><span style = 'color:rgba(253,10,10,0.22294790148735047)'>_Work</span><span style = 'color:rgba(253,10,10,0.23632158637046816)'>_several</span><span style = 'color:rgba(253,10,10,0.2932842612266541)'>_times</span><span style = 'color:rgba(253,10,10,0.251456356048584)'>_and</span><span style = 'color:rgba(253,10,10,0.24439167678356172)'>_is</span><span style = 'color:rgba(253,10,10,0.22878110110759736)'>_probably</span><span style = 'color:rgba(253,10,10,0.24297847747802737)'>_my</span><span style = 'color:rgba(253,10,10,0.2734670042991638)'>_favourite</span><span style = 'color:rgba(253,10,10,0.27672481536865234)'>_Stan</span><span style = 'color:rgba(253,10,10,0.251456356048584)'>_and</span><span style = 'color:rgba(253,10,10,0.22294790148735047)'>_Ollie</span><span style = 'color:rgba(253,10,10,0.22294790148735047)'>_short.<br</span><span style = 'color:rgba(253,10,10,0.22294790148735047)'>_/><br</span><span style = 'color:rgba(253,10,10,0.23099752068519594)'>_/>In</span><span style = 'color:rgba(253,10,10,0.22294790148735047)'>_this</span><span style = 'color:rgba(253,10,10,0.22294790148735047)'>_one,</span>"
      ],
      "text/plain": [
       "<IPython.core.display.HTML object>"
      ]
     },
     "metadata": {},
     "output_type": "display_data"
    },
    {
     "name": "stdout",
     "output_type": "stream",
     "text": [
      "label:1.0\t guess:1.0\n"
     ]
    },
    {
     "data": {
      "text/html": [
       "<span style = 'color:rgba(253,10,253,0.23219302594661714)'>_In</span><span style = 'color:rgba(253,10,253,0.23219302594661714)'>_France,</span><span style = 'color:rgba(253,10,253,0.2768125116825104)'>_it's</span><span style = 'color:rgba(253,10,253,0.24850929379463196)'>_considered</span><span style = 'color:rgba(253,10,253,0.23773023188114167)'>_polite</span><span style = 'color:rgba(253,10,253,0.2339254379272461)'>_from</span><span style = 'color:rgba(253,10,253,0.2942423462867737)'>_French</span><span style = 'color:rgba(253,10,253,0.23219302594661714)'>_critics</span><span style = 'color:rgba(253,10,253,0.23219302594661714)'>_to</span><span style = 'color:rgba(253,10,253,0.23795582354068756)'>_genuflect</span><span style = 'color:rgba(253,10,253,0.23773023188114167)'>_to</span><span style = 'color:rgba(253,10,253,0.2371393918991089)'>_the</span><span style = 'color:rgba(253,10,253,0.23316193222999573)'>_apparently</span><span style = 'color:rgba(253,10,253,0.23219302594661714)'>_cohesive</span><span style = 'color:rgba(253,10,253,0.23219302594661714)'>_chain</span><span style = 'color:rgba(253,10,253,0.23316193222999573)'>_of</span><span style = 'color:rgba(253,10,253,0.23219302594661714)'>_films</span><span style = 'color:rgba(253,10,253,0.23316193222999573)'>_Brian</span><span style = 'color:rgba(253,10,253,0.23316193222999573)'>_De</span><span style = 'color:rgba(253,10,253,0.23795582354068756)'>_Palma</span>"
      ],
      "text/plain": [
       "<IPython.core.display.HTML object>"
      ]
     },
     "metadata": {},
     "output_type": "display_data"
    },
    {
     "data": {
      "text/html": [
       "<span style = 'color:rgba(253,10,10,0.27663124799728395)'>_In</span><span style = 'color:rgba(253,10,10,0.22686991095542908)'>_France,</span><span style = 'color:rgba(253,10,10,0.22203799933195115)'>_it's</span><span style = 'color:rgba(253,10,10,0.22203799933195115)'>_considered</span><span style = 'color:rgba(253,10,10,0.22203799933195115)'>_polite</span><span style = 'color:rgba(253,10,10,0.22203799933195115)'>_from</span><span style = 'color:rgba(253,10,10,0.22203799933195115)'>_French</span><span style = 'color:rgba(253,10,10,0.24941607117652895)'>_critics</span><span style = 'color:rgba(253,10,10,0.31159300804138185)'>_to</span><span style = 'color:rgba(253,10,10,0.22203799933195115)'>_genuflect</span><span style = 'color:rgba(253,10,10,0.22203799933195115)'>_to</span><span style = 'color:rgba(253,10,10,0.22203799933195115)'>_the</span><span style = 'color:rgba(253,10,10,0.22203799933195115)'>_apparently</span><span style = 'color:rgba(253,10,10,0.27663124799728395)'>_cohesive</span><span style = 'color:rgba(253,10,10,0.23299757838249208)'>_chain</span><span style = 'color:rgba(253,10,10,0.22203799933195115)'>_of</span><span style = 'color:rgba(253,10,10,0.3393669486045837)'>_films</span><span style = 'color:rgba(253,10,10,0.22203799933195115)'>_Brian</span><span style = 'color:rgba(253,10,10,0.22203799933195115)'>_De</span><span style = 'color:rgba(253,10,10,0.22203799933195115)'>_Palma</span>"
      ],
      "text/plain": [
       "<IPython.core.display.HTML object>"
      ]
     },
     "metadata": {},
     "output_type": "display_data"
    },
    {
     "name": "stdout",
     "output_type": "stream",
     "text": [
      "label:1.0\t guess:1.0\n"
     ]
    },
    {
     "data": {
      "text/html": [
       "<span style = 'color:rgba(253,10,253,0.23556984961032867)'>_This</span><span style = 'color:rgba(253,10,253,0.24341189265251162)'>_film</span><span style = 'color:rgba(253,10,253,0.23556984961032867)'>_is</span><span style = 'color:rgba(253,10,253,0.23664039373397827)'>_stunningly</span><span style = 'color:rgba(253,10,253,0.23556984961032867)'>_beautiful.</span><span style = 'color:rgba(253,10,253,0.23664039373397827)'>_Goldsworthy's</span><span style = 'color:rgba(253,10,253,0.23556984961032867)'>_art</span><span style = 'color:rgba(253,10,253,0.23556984961032867)'>_really</span><span style = 'color:rgba(253,10,253,0.23664039373397827)'>_benefits</span><span style = 'color:rgba(253,10,253,0.23556984961032867)'>_with</span><span style = 'color:rgba(253,10,253,0.23556984961032867)'>_the</span><span style = 'color:rgba(253,10,253,0.23664039373397827)'>_medium</span><span style = 'color:rgba(253,10,253,0.23556984961032867)'>_of</span><span style = 'color:rgba(253,10,253,0.24341189265251162)'>_film</span><span style = 'color:rgba(253,10,253,0.23556984961032867)'>_because</span><span style = 'color:rgba(253,10,253,0.23556984961032867)'>_you</span><span style = 'color:rgba(253,10,253,0.23556984961032867)'>_can</span><span style = 'color:rgba(253,10,253,0.30420660972595215)'>_see</span><span style = 'color:rgba(253,10,253,0.23556984961032867)'>_the</span><span style = 'color:rgba(253,10,253,0.23556984961032867)'>_art</span>"
      ],
      "text/plain": [
       "<IPython.core.display.HTML object>"
      ]
     },
     "metadata": {},
     "output_type": "display_data"
    },
    {
     "data": {
      "text/html": [
       "<span style = 'color:rgba(253,10,10,0.23298587501049042)'>_This</span><span style = 'color:rgba(253,10,10,0.22672946751117706)'>_film</span><span style = 'color:rgba(253,10,10,0.2517069518566132)'>_is</span><span style = 'color:rgba(253,10,10,0.22672946751117706)'>_stunningly</span><span style = 'color:rgba(253,10,10,0.2587192177772522)'>_beautiful.</span><span style = 'color:rgba(253,10,10,0.22672946751117706)'>_Goldsworthy's</span><span style = 'color:rgba(253,10,10,0.24818410873413088)'>_art</span><span style = 'color:rgba(253,10,10,0.25965763926506047)'>_really</span><span style = 'color:rgba(253,10,10,0.22672946751117706)'>_benefits</span><span style = 'color:rgba(253,10,10,0.23637120723724367)'>_with</span><span style = 'color:rgba(253,10,10,0.23259000480175018)'>_the</span><span style = 'color:rgba(253,10,10,0.22672946751117706)'>_medium</span><span style = 'color:rgba(253,10,10,0.2929445862770081)'>_of</span><span style = 'color:rgba(253,10,10,0.22672946751117706)'>_film</span><span style = 'color:rgba(253,10,10,0.2331453412771225)'>_because</span><span style = 'color:rgba(253,10,10,0.2508463025093079)'>_you</span><span style = 'color:rgba(253,10,10,0.23496834933757782)'>_can</span><span style = 'color:rgba(253,10,10,0.22672946751117706)'>_see</span><span style = 'color:rgba(253,10,10,0.23259000480175018)'>_the</span><span style = 'color:rgba(253,10,10,0.24818410873413088)'>_art</span>"
      ],
      "text/plain": [
       "<IPython.core.display.HTML object>"
      ]
     },
     "metadata": {},
     "output_type": "display_data"
    },
    {
     "name": "stdout",
     "output_type": "stream",
     "text": [
      "label:1.0\t guess:1.0\n"
     ]
    },
    {
     "data": {
      "text/html": [
       "<span style = 'color:rgba(253,10,253,0.23223716020584106)'>_Have</span><span style = 'color:rgba(253,10,253,0.23674889802932741)'>_to</span><span style = 'color:rgba(253,10,253,0.23653048276901245)'>_be</span><span style = 'color:rgba(253,10,253,0.2311693459749222)'>_honest</span><span style = 'color:rgba(253,10,253,0.2311693459749222)'>_and</span><span style = 'color:rgba(253,10,253,0.2311693459749222)'>_say</span><span style = 'color:rgba(253,10,253,0.23947661817073823)'>_that</span><span style = 'color:rgba(253,10,253,0.2311693459749222)'>_I</span><span style = 'color:rgba(253,10,253,0.30045144557952885)'>_haven't</span><span style = 'color:rgba(253,10,253,0.2311693459749222)'>_seen</span><span style = 'color:rgba(253,10,253,0.2311693459749222)'>_many</span><span style = 'color:rgba(253,10,253,0.2311693459749222)'>_independent</span><span style = 'color:rgba(253,10,253,0.2311693459749222)'>_films,</span><span style = 'color:rgba(253,10,253,0.2311693459749222)'>_but</span><span style = 'color:rgba(253,10,253,0.2311693459749222)'>_I</span><span style = 'color:rgba(253,10,253,0.2761882245540619)'>_thought</span><span style = 'color:rgba(253,10,253,0.24115970432758332)'>_this</span><span style = 'color:rgba(253,10,253,0.23187389671802522)'>_one</span><span style = 'color:rgba(253,10,253,0.2624707520008087)'>_was</span><span style = 'color:rgba(253,10,253,0.2311693459749222)'>_very</span>"
      ],
      "text/plain": [
       "<IPython.core.display.HTML object>"
      ]
     },
     "metadata": {},
     "output_type": "display_data"
    },
    {
     "data": {
      "text/html": [
       "<span style = 'color:rgba(253,10,10,0.22927089333534242)'>_Have</span><span style = 'color:rgba(253,10,10,0.22927089333534242)'>_to</span><span style = 'color:rgba(253,10,10,0.22927089333534242)'>_be</span><span style = 'color:rgba(253,10,10,0.24781010746955873)'>_honest</span><span style = 'color:rgba(253,10,10,0.2656344771385193)'>_and</span><span style = 'color:rgba(253,10,10,0.23959668278694154)'>_say</span><span style = 'color:rgba(253,10,10,0.22927089333534242)'>_that</span><span style = 'color:rgba(253,10,10,0.23898955285549164)'>_I</span><span style = 'color:rgba(253,10,10,0.22927089333534242)'>_haven't</span><span style = 'color:rgba(253,10,10,0.27141786813735963)'>_seen</span><span style = 'color:rgba(253,10,10,0.24382742047309877)'>_many</span><span style = 'color:rgba(253,10,10,0.23781726062297823)'>_independent</span><span style = 'color:rgba(253,10,10,0.23339805305004122)'>_films,</span><span style = 'color:rgba(253,10,10,0.24441902041435243)'>_but</span><span style = 'color:rgba(253,10,10,0.23898955285549164)'>_I</span><span style = 'color:rgba(253,10,10,0.22927089333534242)'>_thought</span><span style = 'color:rgba(253,10,10,0.22927089333534242)'>_this</span><span style = 'color:rgba(253,10,10,0.22927089333534242)'>_one</span><span style = 'color:rgba(253,10,10,0.22927089333534242)'>_was</span><span style = 'color:rgba(253,10,10,0.2746619820594788)'>_very</span>"
      ],
      "text/plain": [
       "<IPython.core.display.HTML object>"
      ]
     },
     "metadata": {},
     "output_type": "display_data"
    },
    {
     "name": "stdout",
     "output_type": "stream",
     "text": [
      "label:1.0\t guess:1.0\n"
     ]
    },
    {
     "data": {
      "text/html": [
       "<span style = 'color:rgba(253,10,253,0.2339740961790085)'>_This</span><span style = 'color:rgba(253,10,253,0.2339740961790085)'>_is</span><span style = 'color:rgba(253,10,253,0.23919412195682527)'>_a</span><span style = 'color:rgba(253,10,253,0.2569733798503876)'>_plain</span><span style = 'color:rgba(253,10,253,0.2373793661594391)'>_old</span><span style = 'color:rgba(253,10,253,0.2339740961790085)'>_spooky</span><span style = 'color:rgba(253,10,253,0.28304565548896793)'>_ghost</span><span style = 'color:rgba(253,10,253,0.23691043853759766)'>_story.</span><span style = 'color:rgba(253,10,253,0.2339740961790085)'>_I</span><span style = 'color:rgba(253,10,253,0.23621196746826173)'>_showed</span><span style = 'color:rgba(253,10,253,0.2339740961790085)'>_it</span><span style = 'color:rgba(253,10,253,0.2400557190179825)'>_to</span><span style = 'color:rgba(253,10,253,0.2339740961790085)'>_some</span><span style = 'color:rgba(253,10,253,0.2339740961790085)'>_friends</span><span style = 'color:rgba(253,10,253,0.2339740961790085)'>_of</span><span style = 'color:rgba(253,10,253,0.25097955465316774)'>_mine</span><span style = 'color:rgba(253,10,253,0.24451222419738772)'>_in</span><span style = 'color:rgba(253,10,253,0.2339740961790085)'>_my</span><span style = 'color:rgba(253,10,253,0.2339740961790085)'>_movie</span><span style = 'color:rgba(253,10,253,0.23499661386013032)'>_club,</span>"
      ],
      "text/plain": [
       "<IPython.core.display.HTML object>"
      ]
     },
     "metadata": {},
     "output_type": "display_data"
    },
    {
     "data": {
      "text/html": [
       "<span style = 'color:rgba(253,10,10,0.23131991028785706)'>_This</span><span style = 'color:rgba(253,10,10,0.24909546971321106)'>_is</span><span style = 'color:rgba(253,10,10,0.2253794848918915)'>_a</span><span style = 'color:rgba(253,10,10,0.2253794848918915)'>_plain</span><span style = 'color:rgba(253,10,10,0.2253794848918915)'>_old</span><span style = 'color:rgba(253,10,10,0.3393702387809754)'>_spooky</span><span style = 'color:rgba(253,10,10,0.2253794848918915)'>_ghost</span><span style = 'color:rgba(253,10,10,0.2253794848918915)'>_story.</span><span style = 'color:rgba(253,10,10,0.23380610048770906)'>_I</span><span style = 'color:rgba(253,10,10,0.2253794848918915)'>_showed</span><span style = 'color:rgba(253,10,10,0.23845367431640627)'>_it</span><span style = 'color:rgba(253,10,10,0.2253794848918915)'>_to</span><span style = 'color:rgba(253,10,10,0.23634134232997894)'>_some</span><span style = 'color:rgba(253,10,10,0.24027852416038514)'>_friends</span><span style = 'color:rgba(253,10,10,0.2882503747940064)'>_of</span><span style = 'color:rgba(253,10,10,0.2253794848918915)'>_mine</span><span style = 'color:rgba(253,10,10,0.2253794848918915)'>_in</span><span style = 'color:rgba(253,10,10,0.24753252267837525)'>_my</span><span style = 'color:rgba(253,10,10,0.24175698161125184)'>_movie</span><span style = 'color:rgba(253,10,10,0.2253794848918915)'>_club,</span>"
      ],
      "text/plain": [
       "<IPython.core.display.HTML object>"
      ]
     },
     "metadata": {},
     "output_type": "display_data"
    },
    {
     "name": "stdout",
     "output_type": "stream",
     "text": [
      "label:0.0\t guess:0.0\n"
     ]
    },
    {
     "data": {
      "text/html": [
       "<span style = 'color:rgba(253,10,253,0.23568369746208193)'>_this</span><span style = 'color:rgba(253,10,253,0.22702248692512514)'>_movie</span><span style = 'color:rgba(253,10,253,0.25415946841239934)'>_was</span><span style = 'color:rgba(253,10,253,0.22783578038215638)'>_banned</span><span style = 'color:rgba(253,10,253,0.23540435433387757)'>_in</span><span style = 'color:rgba(253,10,253,0.22783578038215638)'>_england?</span><span style = 'color:rgba(253,10,253,0.22783578038215638)'>_why?</span><span style = 'color:rgba(253,10,253,0.22783578038215638)'>_tom</span><span style = 'color:rgba(253,10,253,0.22783578038215638)'>_savini,</span><span style = 'color:rgba(253,10,253,0.22783578038215638)'>_george</span><span style = 'color:rgba(253,10,253,0.22783578038215638)'>_romero,</span><span style = 'color:rgba(253,10,253,0.22783578038215638)'>_dario</span><span style = 'color:rgba(253,10,253,0.22783578038215638)'>_argento,</span><span style = 'color:rgba(253,10,253,0.22783578038215638)'>_lucio</span><span style = 'color:rgba(253,10,253,0.22783578038215638)'>_fulci</span><span style = 'color:rgba(253,10,253,0.22702248692512514)'>_and</span><span style = 'color:rgba(253,10,253,0.22702248692512514)'>_others</span><span style = 'color:rgba(253,10,253,0.26620824337005616)'>_had</span><span style = 'color:rgba(253,10,253,0.3794387698173523)'>_done</span><span style = 'color:rgba(253,10,253,0.24184441268444062)'>_far</span>"
      ],
      "text/plain": [
       "<IPython.core.display.HTML object>"
      ]
     },
     "metadata": {},
     "output_type": "display_data"
    },
    {
     "data": {
      "text/html": [
       "<span style = 'color:rgba(253,10,10,0.23394884765148163)'>_this</span><span style = 'color:rgba(253,10,10,0.255856192111969)'>_movie</span><span style = 'color:rgba(253,10,10,0.23394884765148163)'>_was</span><span style = 'color:rgba(253,10,10,0.23394884765148163)'>_banned</span><span style = 'color:rgba(253,10,10,0.23394884765148163)'>_in</span><span style = 'color:rgba(253,10,10,0.23394884765148163)'>_england?</span><span style = 'color:rgba(253,10,10,0.23394884765148163)'>_why?</span><span style = 'color:rgba(253,10,10,0.23394884765148163)'>_tom</span><span style = 'color:rgba(253,10,10,0.23394884765148163)'>_savini,</span><span style = 'color:rgba(253,10,10,0.23394884765148163)'>_george</span><span style = 'color:rgba(253,10,10,0.23394884765148163)'>_romero,</span><span style = 'color:rgba(253,10,10,0.23394884765148163)'>_dario</span><span style = 'color:rgba(253,10,10,0.23394884765148163)'>_argento,</span><span style = 'color:rgba(253,10,10,0.23394884765148163)'>_lucio</span><span style = 'color:rgba(253,10,10,0.23394884765148163)'>_fulci</span><span style = 'color:rgba(253,10,10,0.27612391114234924)'>_and</span><span style = 'color:rgba(253,10,10,0.29088948965072636)'>_others</span><span style = 'color:rgba(253,10,10,0.23394884765148163)'>_had</span><span style = 'color:rgba(253,10,10,0.23394884765148163)'>_done</span><span style = 'color:rgba(253,10,10,0.23394884765148163)'>_far</span>"
      ],
      "text/plain": [
       "<IPython.core.display.HTML object>"
      ]
     },
     "metadata": {},
     "output_type": "display_data"
    },
    {
     "name": "stdout",
     "output_type": "stream",
     "text": [
      "label:0.0\t guess:0.0\n"
     ]
    },
    {
     "data": {
      "text/html": [
       "<span style = 'color:rgba(253,10,253,0.24279379546642305)'>_A</span><span style = 'color:rgba(253,10,253,0.23421233892440796)'>_very</span><span style = 'color:rgba(253,10,253,0.25089861154556276)'>_tired</span><span style = 'color:rgba(253,10,253,0.23421233892440796)'>_looking</span><span style = 'color:rgba(253,10,253,0.23421233892440796)'>_Burt</span><span style = 'color:rgba(253,10,253,0.23524202406406403)'>_Reynolds</span><span style = 'color:rgba(253,10,253,0.23421233892440796)'>_plays</span><span style = 'color:rgba(253,10,253,0.2394689679145813)'>_a</span><span style = 'color:rgba(253,10,253,0.23524202406406403)'>_mercenary</span><span style = 'color:rgba(253,10,253,0.23524202406406403)'>_battling</span><span style = 'color:rgba(253,10,253,0.23421233892440796)'>_his</span><span style = 'color:rgba(253,10,253,0.2630108177661896)'>_former</span><span style = 'color:rgba(253,10,253,0.23524202406406403)'>_employers</span><span style = 'color:rgba(253,10,253,0.24353469014167786)'>_for</span><span style = 'color:rgba(253,10,253,0.23421233892440796)'>_some</span><span style = 'color:rgba(253,10,253,0.23524202406406403)'>_gizmo</span><span style = 'color:rgba(253,10,253,0.23421233892440796)'>_these</span><span style = 'color:rgba(253,10,253,0.23524202406406403)'>_non-heroes</span><span style = 'color:rgba(253,10,253,0.269018030166626)'>_plan</span><span style = 'color:rgba(253,10,253,0.24033660590648653)'>_to</span>"
      ],
      "text/plain": [
       "<IPython.core.display.HTML object>"
      ]
     },
     "metadata": {},
     "output_type": "display_data"
    },
    {
     "data": {
      "text/html": [
       "<span style = 'color:rgba(253,10,10,0.2284317195415497)'>_A</span><span style = 'color:rgba(253,10,10,0.2725214838981629)'>_very</span><span style = 'color:rgba(253,10,10,0.2284317195415497)'>_tired</span><span style = 'color:rgba(253,10,10,0.2690876364707947)'>_looking</span><span style = 'color:rgba(253,10,10,0.24283772706985474)'>_Burt</span><span style = 'color:rgba(253,10,10,0.2284317195415497)'>_Reynolds</span><span style = 'color:rgba(253,10,10,0.34277641773223877)'>_plays</span><span style = 'color:rgba(253,10,10,0.2284317195415497)'>_a</span><span style = 'color:rgba(253,10,10,0.2284317195415497)'>_mercenary</span><span style = 'color:rgba(253,10,10,0.2284317195415497)'>_battling</span><span style = 'color:rgba(253,10,10,0.23401837646961213)'>_his</span><span style = 'color:rgba(253,10,10,0.2284317195415497)'>_former</span><span style = 'color:rgba(253,10,10,0.2284317195415497)'>_employers</span><span style = 'color:rgba(253,10,10,0.2284317195415497)'>_for</span><span style = 'color:rgba(253,10,10,0.24071189463138581)'>_some</span><span style = 'color:rgba(253,10,10,0.2284317195415497)'>_gizmo</span><span style = 'color:rgba(253,10,10,0.22843410372734071)'>_these</span><span style = 'color:rgba(253,10,10,0.2284317195415497)'>_non-heroes</span><span style = 'color:rgba(253,10,10,0.2284317195415497)'>_plan</span><span style = 'color:rgba(253,10,10,0.2284317195415497)'>_to</span>"
      ],
      "text/plain": [
       "<IPython.core.display.HTML object>"
      ]
     },
     "metadata": {},
     "output_type": "display_data"
    },
    {
     "name": "stdout",
     "output_type": "stream",
     "text": [
      "label:0.0\t guess:0.0\n"
     ]
    },
    {
     "data": {
      "text/html": [
       "<span style = 'color:rgba(253,10,253,0.23234742283821108)'>_As</span><span style = 'color:rgba(253,10,253,0.23658117055892947)'>_much</span><span style = 'color:rgba(253,10,253,0.23234742283821108)'>_as</span><span style = 'color:rgba(253,10,253,0.23234742283821108)'>_I</span><span style = 'color:rgba(253,10,253,0.23234742283821108)'>_dislike</span><span style = 'color:rgba(253,10,253,0.2979164123535156)'>_saying</span><span style = 'color:rgba(253,10,253,0.23332097828388215)'>_'me</span><span style = 'color:rgba(253,10,253,0.23332097828388215)'>_too'</span><span style = 'color:rgba(253,10,253,0.24238098561763766)'>_in</span><span style = 'color:rgba(253,10,253,0.23234742283821108)'>_response</span><span style = 'color:rgba(253,10,253,0.23813785910606386)'>_to</span><span style = 'color:rgba(253,10,253,0.23234742283821108)'>_other</span><span style = 'color:rgba(253,10,253,0.23234742283821108)'>_comments</span><span style = 'color:rgba(253,10,253,0.24480918347835542)'>_-</span><span style = 'color:rgba(253,10,253,0.25574727654457097)'>_it's</span><span style = 'color:rgba(253,10,253,0.25334227681159976)'>_completely</span><span style = 'color:rgba(253,10,253,0.23234742283821108)'>_true</span><span style = 'color:rgba(253,10,253,0.24096867740154268)'>_that</span><span style = 'color:rgba(253,10,253,0.23234742283821108)'>_the</span><span style = 'color:rgba(253,10,253,0.23234742283821108)'>_first</span>"
      ],
      "text/plain": [
       "<IPython.core.display.HTML object>"
      ]
     },
     "metadata": {},
     "output_type": "display_data"
    },
    {
     "data": {
      "text/html": [
       "<span style = 'color:rgba(253,10,10,0.23196068704128267)'>_As</span><span style = 'color:rgba(253,10,10,0.22657210230827332)'>_much</span><span style = 'color:rgba(253,10,10,0.2533934414386749)'>_as</span><span style = 'color:rgba(253,10,10,0.23539469838142396)'>_I</span><span style = 'color:rgba(253,10,10,0.249099937081337)'>_dislike</span><span style = 'color:rgba(253,10,10,0.22657210230827332)'>_saying</span><span style = 'color:rgba(253,10,10,0.22657210230827332)'>_'me</span><span style = 'color:rgba(253,10,10,0.22657210230827332)'>_too'</span><span style = 'color:rgba(253,10,10,0.22657210230827332)'>_in</span><span style = 'color:rgba(253,10,10,0.27280323505401616)'>_response</span><span style = 'color:rgba(253,10,10,0.22657210230827332)'>_to</span><span style = 'color:rgba(253,10,10,0.2524816274642945)'>_other</span><span style = 'color:rgba(253,10,10,0.26626056432724)'>_comments</span><span style = 'color:rgba(253,10,10,0.22657210230827332)'>_-</span><span style = 'color:rgba(253,10,10,0.22657210230827332)'>_it's</span><span style = 'color:rgba(253,10,10,0.22657210230827332)'>_completely</span><span style = 'color:rgba(253,10,10,0.2757279455661774)'>_true</span><span style = 'color:rgba(253,10,10,0.22657210230827332)'>_that</span><span style = 'color:rgba(253,10,10,0.2323981374502182)'>_the</span><span style = 'color:rgba(253,10,10,0.2647587060928345)'>_first</span>"
      ],
      "text/plain": [
       "<IPython.core.display.HTML object>"
      ]
     },
     "metadata": {},
     "output_type": "display_data"
    },
    {
     "name": "stdout",
     "output_type": "stream",
     "text": [
      "label:1.0\t guess:1.0\n"
     ]
    },
    {
     "data": {
      "text/html": [
       "<span style = 'color:rgba(253,10,253,0.23476535975933077)'>_If</span><span style = 'color:rgba(253,10,253,0.23476535975933077)'>_you've</span><span style = 'color:rgba(253,10,253,0.23476535975933077)'>_seen</span><span style = 'color:rgba(253,10,253,0.24590830504894257)'>_this</span><span style = 'color:rgba(253,10,253,0.23476535975933077)'>_movie,</span><span style = 'color:rgba(253,10,253,0.23476535975933077)'>_you've</span><span style = 'color:rgba(253,10,253,0.2537951529026032)'>_been</span><span style = 'color:rgba(253,10,253,0.24098862409591676)'>_to</span><span style = 'color:rgba(253,10,253,0.23581168949604037)'>_Puerto</span><span style = 'color:rgba(253,10,253,0.23581168949604037)'>_Rico.</span><span style = 'color:rgba(253,10,253,0.23476535975933077)'>_I've</span><span style = 'color:rgba(253,10,253,0.23476535975933077)'>_lived</span><span style = 'color:rgba(253,10,253,0.2455489218235016)'>_in</span><span style = 'color:rgba(253,10,253,0.23581168949604037)'>_Puerto</span><span style = 'color:rgba(253,10,253,0.23581168949604037)'>_Rico</span><span style = 'color:rgba(253,10,253,0.26531943678855896)'>_all</span><span style = 'color:rgba(253,10,253,0.23476535975933077)'>_my</span><span style = 'color:rgba(253,10,253,0.2506476521492005)'>_life,</span><span style = 'color:rgba(253,10,253,0.23476535975933077)'>_and</span><span style = 'color:rgba(253,10,253,0.24165689647197724)'>_have</span>"
      ],
      "text/plain": [
       "<IPython.core.display.HTML object>"
      ]
     },
     "metadata": {},
     "output_type": "display_data"
    },
    {
     "data": {
      "text/html": [
       "<span style = 'color:rgba(253,10,10,0.24028437435626984)'>_If</span><span style = 'color:rgba(253,10,10,0.2449853152036667)'>_you've</span><span style = 'color:rgba(253,10,10,0.2732599079608917)'>_seen</span><span style = 'color:rgba(253,10,10,0.23002586066722872)'>_this</span><span style = 'color:rgba(253,10,10,0.2329044818878174)'>_movie,</span><span style = 'color:rgba(253,10,10,0.2449853152036667)'>_you've</span><span style = 'color:rgba(253,10,10,0.23002586066722872)'>_been</span><span style = 'color:rgba(253,10,10,0.23002586066722872)'>_to</span><span style = 'color:rgba(253,10,10,0.23002586066722872)'>_Puerto</span><span style = 'color:rgba(253,10,10,0.23002586066722872)'>_Rico.</span><span style = 'color:rgba(253,10,10,0.2403950721025467)'>_I've</span><span style = 'color:rgba(253,10,10,0.26933912038803104)'>_lived</span><span style = 'color:rgba(253,10,10,0.23002586066722872)'>_in</span><span style = 'color:rgba(253,10,10,0.23002586066722872)'>_Puerto</span><span style = 'color:rgba(253,10,10,0.23002586066722872)'>_Rico</span><span style = 'color:rgba(253,10,10,0.23002586066722872)'>_all</span><span style = 'color:rgba(253,10,10,0.2562345862388611)'>_my</span><span style = 'color:rgba(253,10,10,0.23002586066722872)'>_life,</span><span style = 'color:rgba(253,10,10,0.2673273503780365)'>_and</span><span style = 'color:rgba(253,10,10,0.23002586066722872)'>_have</span>"
      ],
      "text/plain": [
       "<IPython.core.display.HTML object>"
      ]
     },
     "metadata": {},
     "output_type": "display_data"
    },
    {
     "name": "stdout",
     "output_type": "stream",
     "text": [
      "label:0.0\t guess:0.0\n"
     ]
    },
    {
     "data": {
      "text/html": [
       "<span style = 'color:rgba(253,10,253,0.23320401310920716)'>_St.</span><span style = 'color:rgba(253,10,253,0.23320401310920716)'>_Elmo's</span><span style = 'color:rgba(253,10,253,0.23320401310920716)'>_Fire</span><span style = 'color:rgba(253,10,253,0.2322338730096817)'>_has</span><span style = 'color:rgba(253,10,253,0.34826340675354006)'>_no</span><span style = 'color:rgba(253,10,253,0.23320401310920716)'>_bearing</span><span style = 'color:rgba(253,10,253,0.2322338730096817)'>_on</span><span style = 'color:rgba(253,10,253,0.2322338730096817)'>_life</span><span style = 'color:rgba(253,10,253,0.23640666604042054)'>_after</span><span style = 'color:rgba(253,10,253,0.23320401310920716)'>_university</span><span style = 'color:rgba(253,10,253,0.2322338730096817)'>_at</span><span style = 'color:rgba(253,10,253,0.26056311130523685)'>_all</span><span style = 'color:rgba(253,10,253,0.2322338730096817)'>_(for</span><span style = 'color:rgba(253,10,253,0.2322338730096817)'>_the</span><span style = 'color:rgba(253,10,253,0.2322338730096817)'>_majority</span><span style = 'color:rgba(253,10,253,0.2322338730096817)'>_of</span><span style = 'color:rgba(253,10,253,0.2322338730096817)'>_us</span><span style = 'color:rgba(253,10,253,0.2322338730096817)'>_common</span><span style = 'color:rgba(253,10,253,0.23320401310920716)'>_folk</span><span style = 'color:rgba(253,10,253,0.23320401310920716)'>_anyway).</span>"
      ],
      "text/plain": [
       "<IPython.core.display.HTML object>"
      ]
     },
     "metadata": {},
     "output_type": "display_data"
    },
    {
     "data": {
      "text/html": [
       "<span style = 'color:rgba(253,10,10,0.22953671216964722)'>_St.</span><span style = 'color:rgba(253,10,10,0.22953671216964722)'>_Elmo's</span><span style = 'color:rgba(253,10,10,0.22953671216964722)'>_Fire</span><span style = 'color:rgba(253,10,10,0.2384730577468872)'>_has</span><span style = 'color:rgba(253,10,10,0.22953671216964722)'>_no</span><span style = 'color:rgba(253,10,10,0.22953671216964722)'>_bearing</span><span style = 'color:rgba(253,10,10,0.22961925566196442)'>_on</span><span style = 'color:rgba(253,10,10,0.2667004704475403)'>_life</span><span style = 'color:rgba(253,10,10,0.22953671216964722)'>_after</span><span style = 'color:rgba(253,10,10,0.22953671216964722)'>_university</span><span style = 'color:rgba(253,10,10,0.23227421641349794)'>_at</span><span style = 'color:rgba(253,10,10,0.22953671216964722)'>_all</span><span style = 'color:rgba(253,10,10,0.2545511364936829)'>_(for</span><span style = 'color:rgba(253,10,10,0.23601274490356447)'>_the</span><span style = 'color:rgba(253,10,10,0.2298631310462952)'>_majority</span><span style = 'color:rgba(253,10,10,0.30270602703094485)'>_of</span><span style = 'color:rgba(253,10,10,0.26782220005989077)'>_us</span><span style = 'color:rgba(253,10,10,0.24661066830158235)'>_common</span><span style = 'color:rgba(253,10,10,0.22953671216964722)'>_folk</span><span style = 'color:rgba(253,10,10,0.22953671216964722)'>_anyway).</span>"
      ],
      "text/plain": [
       "<IPython.core.display.HTML object>"
      ]
     },
     "metadata": {},
     "output_type": "display_data"
    },
    {
     "name": "stdout",
     "output_type": "stream",
     "text": [
      "label:0.0\t guess:0.0\n"
     ]
    },
    {
     "data": {
      "text/html": [
       "<span style = 'color:rgba(253,10,253,0.23385652601718904)'>_...was</span><span style = 'color:rgba(253,10,253,0.23286732137203217)'>_so</span><span style = 'color:rgba(253,10,253,0.24162714183330536)'>_that</span><span style = 'color:rgba(253,10,253,0.23286732137203217)'>_I</span><span style = 'color:rgba(253,10,253,0.23385652601718904)'>_could,</span><span style = 'color:rgba(253,10,253,0.24306215047836305)'>_in</span><span style = 'color:rgba(253,10,253,0.23286732137203217)'>_good</span><span style = 'color:rgba(253,10,253,0.23385652601718904)'>_conscience,</span><span style = 'color:rgba(253,10,253,0.23687336742877962)'>_tell</span><span style = 'color:rgba(253,10,253,0.2838875830173493)'>_everyone</span><span style = 'color:rgba(253,10,253,0.23286732137203217)'>_how</span><span style = 'color:rgba(253,10,253,0.23286732137203217)'>_horrible</span><span style = 'color:rgba(253,10,253,0.2434019148349762)'>_this</span><span style = 'color:rgba(253,10,253,0.23286732137203217)'>_movie</span><span style = 'color:rgba(253,10,253,0.2845639526844025)'>_is.</span><span style = 'color:rgba(253,10,253,0.23286732137203217)'>_I</span><span style = 'color:rgba(253,10,253,0.23286732137203217)'>_barely</span><span style = 'color:rgba(253,10,253,0.23634110987186432)'>_made</span><span style = 'color:rgba(253,10,253,0.23286732137203217)'>_it</span><span style = 'color:rgba(253,10,253,0.23286732137203217)'>_through</span>"
      ],
      "text/plain": [
       "<IPython.core.display.HTML object>"
      ]
     },
     "metadata": {},
     "output_type": "display_data"
    },
    {
     "data": {
      "text/html": [
       "<span style = 'color:rgba(253,10,10,0.2257892966270447)'>_...was</span><span style = 'color:rgba(253,10,10,0.22961136102676394)'>_so</span><span style = 'color:rgba(253,10,10,0.2257892966270447)'>_that</span><span style = 'color:rgba(253,10,10,0.23435198366642)'>_I</span><span style = 'color:rgba(253,10,10,0.2257892966270447)'>_could,</span><span style = 'color:rgba(253,10,10,0.2257892966270447)'>_in</span><span style = 'color:rgba(253,10,10,0.25846939086914067)'>_good</span><span style = 'color:rgba(253,10,10,0.2257892966270447)'>_conscience,</span><span style = 'color:rgba(253,10,10,0.2257892966270447)'>_tell</span><span style = 'color:rgba(253,10,10,0.2257892966270447)'>_everyone</span><span style = 'color:rgba(253,10,10,0.2556485950946808)'>_how</span><span style = 'color:rgba(253,10,10,0.3696710467338562)'>_horrible</span><span style = 'color:rgba(253,10,10,0.2257892966270447)'>_this</span><span style = 'color:rgba(253,10,10,0.2424312472343445)'>_movie</span><span style = 'color:rgba(253,10,10,0.2257892966270447)'>_is.</span><span style = 'color:rgba(253,10,10,0.23435198366642)'>_I</span><span style = 'color:rgba(253,10,10,0.2439610689878464)'>_barely</span><span style = 'color:rgba(253,10,10,0.2257892966270447)'>_made</span><span style = 'color:rgba(253,10,10,0.23907460272312164)'>_it</span><span style = 'color:rgba(253,10,10,0.23453571498394013)'>_through</span>"
      ],
      "text/plain": [
       "<IPython.core.display.HTML object>"
      ]
     },
     "metadata": {},
     "output_type": "display_data"
    },
    {
     "name": "stdout",
     "output_type": "stream",
     "text": [
      "label:1.0\t guess:1.0\n"
     ]
    },
    {
     "data": {
      "text/html": [
       "<span style = 'color:rgba(253,10,253,0.27087637782096863)'>_Two</span><span style = 'color:rgba(253,10,253,0.23530506491661074)'>_dysfunctional</span><span style = 'color:rgba(253,10,253,0.23530506491661074)'>_brothers</span><span style = 'color:rgba(253,10,253,0.23530506491661074)'>_(Philip</span><span style = 'color:rgba(253,10,253,0.23530506491661074)'>_Seymour</span><span style = 'color:rgba(253,10,253,0.23636763989925386)'>_Hoffman</span><span style = 'color:rgba(253,10,253,0.23636763989925386)'>_and</span><span style = 'color:rgba(253,10,253,0.23530506491661074)'>_Ethan</span><span style = 'color:rgba(253,10,253,0.23530506491661074)'>_Hawke)</span><span style = 'color:rgba(253,10,253,0.23636763989925386)'>_get</span><span style = 'color:rgba(253,10,253,0.23530506491661074)'>_tired</span><span style = 'color:rgba(253,10,253,0.23636763989925386)'>_of</span><span style = 'color:rgba(253,10,253,0.23530506491661074)'>_competing</span><span style = 'color:rgba(253,10,253,0.23636763989925386)'>_for</span><span style = 'color:rgba(253,10,253,0.23636763989925386)'>_who</span><span style = 'color:rgba(253,10,253,0.23636763989925386)'>_is</span><span style = 'color:rgba(253,10,253,0.24910578429698946)'>_the</span><span style = 'color:rgba(253,10,253,0.23711048066616058)'>_bigger</span><span style = 'color:rgba(253,10,253,0.2695257306098938)'>_f***-up</span><span style = 'color:rgba(253,10,253,0.23636763989925386)'>_and</span>"
      ],
      "text/plain": [
       "<IPython.core.display.HTML object>"
      ]
     },
     "metadata": {},
     "output_type": "display_data"
    },
    {
     "data": {
      "text/html": [
       "<span style = 'color:rgba(253,10,10,0.22858515977859498)'>_Two</span><span style = 'color:rgba(253,10,10,0.24509749412536622)'>_dysfunctional</span><span style = 'color:rgba(253,10,10,0.2424262523651123)'>_brothers</span><span style = 'color:rgba(253,10,10,0.2677738904953003)'>_(Philip</span><span style = 'color:rgba(253,10,10,0.2348525643348694)'>_Seymour</span><span style = 'color:rgba(253,10,10,0.22858515977859498)'>_Hoffman</span><span style = 'color:rgba(253,10,10,0.22858515977859498)'>_and</span><span style = 'color:rgba(253,10,10,0.23259222209453584)'>_Ethan</span><span style = 'color:rgba(253,10,10,0.2993972599506378)'>_Hawke)</span><span style = 'color:rgba(253,10,10,0.22858515977859498)'>_get</span><span style = 'color:rgba(253,10,10,0.2707415282726288)'>_tired</span><span style = 'color:rgba(253,10,10,0.22858515977859498)'>_of</span><span style = 'color:rgba(253,10,10,0.2640968501567841)'>_competing</span><span style = 'color:rgba(253,10,10,0.22858515977859498)'>_for</span><span style = 'color:rgba(253,10,10,0.22858515977859498)'>_who</span><span style = 'color:rgba(253,10,10,0.22858515977859498)'>_is</span><span style = 'color:rgba(253,10,10,0.22858515977859498)'>_the</span><span style = 'color:rgba(253,10,10,0.22858515977859498)'>_bigger</span><span style = 'color:rgba(253,10,10,0.22858515977859498)'>_f***-up</span><span style = 'color:rgba(253,10,10,0.22858515977859498)'>_and</span>"
      ],
      "text/plain": [
       "<IPython.core.display.HTML object>"
      ]
     },
     "metadata": {},
     "output_type": "display_data"
    },
    {
     "name": "stdout",
     "output_type": "stream",
     "text": [
      "label:0.0\t guess:0.0\n"
     ]
    },
    {
     "data": {
      "text/html": [
       "<span style = 'color:rgba(253,10,253,0.2332990199327469)'>_Sloppily</span><span style = 'color:rgba(253,10,253,0.2332990199327469)'>_directed,</span><span style = 'color:rgba(253,10,253,0.2332990199327469)'>_witless</span><span style = 'color:rgba(253,10,253,0.23232610523700714)'>_comedy</span><span style = 'color:rgba(253,10,253,0.2409416824579239)'>_that</span><span style = 'color:rgba(253,10,253,0.23232610523700714)'>_supposedly</span><span style = 'color:rgba(253,10,253,0.2332990199327469)'>_spoofs</span><span style = 'color:rgba(253,10,253,0.23232610523700714)'>_the</span><span style = 'color:rgba(253,10,253,0.2332990199327469)'>_\"classic\"</span><span style = 'color:rgba(253,10,253,0.2332990199327469)'>_50s</span><span style = 'color:rgba(253,10,253,0.2332990199327469)'>_\"alien</span><span style = 'color:rgba(253,10,253,0.2332990199327469)'>_invasion\"</span><span style = 'color:rgba(253,10,253,0.23232610523700714)'>_films,</span><span style = 'color:rgba(253,10,253,0.23232610523700714)'>_but</span><span style = 'color:rgba(253,10,253,0.23232610523700714)'>_really</span><span style = 'color:rgba(253,10,253,0.23232610523700714)'>_is</span><span style = 'color:rgba(253,10,253,0.34868763685226445)'>_no</span><span style = 'color:rgba(253,10,253,0.25304355621337893)'>_better</span><span style = 'color:rgba(253,10,253,0.23232610523700714)'>_than</span><span style = 'color:rgba(253,10,253,0.23232610523700714)'>_them,</span>"
      ],
      "text/plain": [
       "<IPython.core.display.HTML object>"
      ]
     },
     "metadata": {},
     "output_type": "display_data"
    },
    {
     "data": {
      "text/html": [
       "<span style = 'color:rgba(253,10,10,0.22903037071228027)'>_Sloppily</span><span style = 'color:rgba(253,10,10,0.22903037071228027)'>_directed,</span><span style = 'color:rgba(253,10,10,0.22903037071228027)'>_witless</span><span style = 'color:rgba(253,10,10,0.25792010426521306)'>_comedy</span><span style = 'color:rgba(253,10,10,0.22903037071228027)'>_that</span><span style = 'color:rgba(253,10,10,0.27110334634780886)'>_supposedly</span><span style = 'color:rgba(253,10,10,0.22903037071228027)'>_spoofs</span><span style = 'color:rgba(253,10,10,0.2353953868150711)'>_the</span><span style = 'color:rgba(253,10,10,0.22903037071228027)'>_\"classic\"</span><span style = 'color:rgba(253,10,10,0.22903037071228027)'>_50s</span><span style = 'color:rgba(253,10,10,0.22903037071228027)'>_\"alien</span><span style = 'color:rgba(253,10,10,0.22903037071228027)'>_invasion\"</span><span style = 'color:rgba(253,10,10,0.23312361836433412)'>_films,</span><span style = 'color:rgba(253,10,10,0.2440540224313736)'>_but</span><span style = 'color:rgba(253,10,10,0.26479303240776064)'>_really</span><span style = 'color:rgba(253,10,10,0.25615794062614444)'>_is</span><span style = 'color:rgba(253,10,10,0.22903037071228027)'>_no</span><span style = 'color:rgba(253,10,10,0.22903037071228027)'>_better</span><span style = 'color:rgba(253,10,10,0.23453839719295502)'>_than</span><span style = 'color:rgba(253,10,10,0.2835800707340241)'>_them,</span>"
      ],
      "text/plain": [
       "<IPython.core.display.HTML object>"
      ]
     },
     "metadata": {},
     "output_type": "display_data"
    },
    {
     "name": "stdout",
     "output_type": "stream",
     "text": [
      "label:0.0\t guess:0.0\n"
     ]
    },
    {
     "data": {
      "text/html": [
       "<span style = 'color:rgba(253,10,253,0.2276951998472214)'>_I</span><span style = 'color:rgba(253,10,253,0.2224197030067444)'>_had</span><span style = 'color:rgba(253,10,253,0.2224197030067444)'>_high</span><span style = 'color:rgba(253,10,253,0.22176465541124346)'>_hopes</span><span style = 'color:rgba(253,10,253,0.22441324740648272)'>_for</span><span style = 'color:rgba(253,10,253,0.2224197030067444)'>_it</span><span style = 'color:rgba(253,10,253,0.22176465541124346)'>_when</span><span style = 'color:rgba(253,10,253,0.22378288358449938)'>_I</span><span style = 'color:rgba(253,10,253,0.22176465541124346)'>_heard</span><span style = 'color:rgba(253,10,253,0.23415175080299377)'>_that</span><span style = 'color:rgba(253,10,253,0.22756538391113282)'>_it</span><span style = 'color:rgba(253,10,253,0.22176465541124346)'>_was</span><span style = 'color:rgba(253,10,253,0.2305883586406708)'>_being</span><span style = 'color:rgba(253,10,253,0.23891353309154512)'>_made</span><span style = 'color:rgba(253,10,253,0.2595035970211029)'>_back</span><span style = 'color:rgba(253,10,253,0.22498873025178912)'>_in</span><span style = 'color:rgba(253,10,253,0.22176465541124346)'>_2001</span><span style = 'color:rgba(253,10,253,0.3861932873725891)'>_because</span><span style = 'color:rgba(253,10,253,0.31760597229003906)'>_I</span><span style = 'color:rgba(253,10,253,0.22851564288139345)'>_read</span>"
      ],
      "text/plain": [
       "<IPython.core.display.HTML object>"
      ]
     },
     "metadata": {},
     "output_type": "display_data"
    },
    {
     "data": {
      "text/html": [
       "<span style = 'color:rgba(253,10,10,0.2359890639781952)'>_I</span><span style = 'color:rgba(253,10,10,0.2359890639781952)'>_had</span><span style = 'color:rgba(253,10,10,0.2359890639781952)'>_high</span><span style = 'color:rgba(253,10,10,0.2806987166404724)'>_hopes</span><span style = 'color:rgba(253,10,10,0.2359890639781952)'>_for</span><span style = 'color:rgba(253,10,10,0.2359890639781952)'>_it</span><span style = 'color:rgba(253,10,10,0.2389490991830826)'>_when</span><span style = 'color:rgba(253,10,10,0.2359890639781952)'>_I</span><span style = 'color:rgba(253,10,10,0.2399518430233002)'>_heard</span><span style = 'color:rgba(253,10,10,0.2359890639781952)'>_that</span><span style = 'color:rgba(253,10,10,0.2359890639781952)'>_it</span><span style = 'color:rgba(253,10,10,0.2479383260011673)'>_was</span><span style = 'color:rgba(253,10,10,0.2359890639781952)'>_being</span><span style = 'color:rgba(253,10,10,0.2359890639781952)'>_made</span><span style = 'color:rgba(253,10,10,0.2359890639781952)'>_back</span><span style = 'color:rgba(253,10,10,0.2359890639781952)'>_in</span><span style = 'color:rgba(253,10,10,0.25262606143951416)'>_2001</span><span style = 'color:rgba(253,10,10,0.2359890639781952)'>_because</span><span style = 'color:rgba(253,10,10,0.2359890639781952)'>_I</span><span style = 'color:rgba(253,10,10,0.2359890639781952)'>_read</span>"
      ],
      "text/plain": [
       "<IPython.core.display.HTML object>"
      ]
     },
     "metadata": {},
     "output_type": "display_data"
    },
    {
     "name": "stdout",
     "output_type": "stream",
     "text": [
      "label:0.0\t guess:0.0\n"
     ]
    },
    {
     "data": {
      "text/html": [
       "<span style = 'color:rgba(253,10,253,0.23254244327545168)'>_Someone</span><span style = 'color:rgba(253,10,253,0.23254244327545168)'>_actually</span><span style = 'color:rgba(253,10,253,0.24005811810493471)'>_gave</span><span style = 'color:rgba(253,10,253,0.24297290444374087)'>_this</span><span style = 'color:rgba(253,10,253,0.23254244327545168)'>_movie</span><span style = 'color:rgba(253,10,253,0.2569717347621918)'>_2</span><span style = 'color:rgba(253,10,253,0.23958902060985565)'>_stars.</span><span style = 'color:rgba(253,10,253,0.23254244327545168)'>_There's</span><span style = 'color:rgba(253,10,253,0.23754249811172487)'>_a</span><span style = 'color:rgba(253,10,253,0.23254244327545168)'>_very</span><span style = 'color:rgba(253,10,253,0.23254244327545168)'>_high</span><span style = 'color:rgba(253,10,253,0.3006511688232422)'>_chance</span><span style = 'color:rgba(253,10,253,0.25818338990211487)'>_they</span><span style = 'color:rgba(253,10,253,0.23254244327545168)'>_need</span><span style = 'color:rgba(253,10,253,0.2335218667984009)'>_immediate</span><span style = 'color:rgba(253,10,253,0.23254244327545168)'>_professional</span><span style = 'color:rgba(253,10,253,0.23254244327545168)'>_help</span><span style = 'color:rgba(253,10,253,0.23254244327545168)'>_as</span><span style = 'color:rgba(253,10,253,0.23254244327545168)'>_anyone</span><span style = 'color:rgba(253,10,253,0.23254244327545168)'>_who</span>"
      ],
      "text/plain": [
       "<IPython.core.display.HTML object>"
      ]
     },
     "metadata": {},
     "output_type": "display_data"
    },
    {
     "data": {
      "text/html": [
       "<span style = 'color:rgba(253,10,10,0.2540604948997498)'>_Someone</span><span style = 'color:rgba(253,10,10,0.22938634753227236)'>_actually</span><span style = 'color:rgba(253,10,10,0.22652692198753357)'>_gave</span><span style = 'color:rgba(253,10,10,0.22652692198753357)'>_this</span><span style = 'color:rgba(253,10,10,0.2436448633670807)'>_movie</span><span style = 'color:rgba(253,10,10,0.22652692198753357)'>_2</span><span style = 'color:rgba(253,10,10,0.22652692198753357)'>_stars.</span><span style = 'color:rgba(253,10,10,0.23259216845035555)'>_There's</span><span style = 'color:rgba(253,10,10,0.22652692198753357)'>_a</span><span style = 'color:rgba(253,10,10,0.2676628649234772)'>_very</span><span style = 'color:rgba(253,10,10,0.30978991985321047)'>_high</span><span style = 'color:rgba(253,10,10,0.22652692198753357)'>_chance</span><span style = 'color:rgba(253,10,10,0.22652692198753357)'>_they</span><span style = 'color:rgba(253,10,10,0.2452701359987259)'>_need</span><span style = 'color:rgba(253,10,10,0.22652692198753357)'>_immediate</span><span style = 'color:rgba(253,10,10,0.23978531062602998)'>_professional</span><span style = 'color:rgba(253,10,10,0.2377463608980179)'>_help</span><span style = 'color:rgba(253,10,10,0.2533026516437531)'>_as</span><span style = 'color:rgba(253,10,10,0.2415516346693039)'>_anyone</span><span style = 'color:rgba(253,10,10,0.2329918682575226)'>_who</span>"
      ],
      "text/plain": [
       "<IPython.core.display.HTML object>"
      ]
     },
     "metadata": {},
     "output_type": "display_data"
    },
    {
     "name": "stdout",
     "output_type": "stream",
     "text": [
      "label:0.0\t guess:0.0\n"
     ]
    },
    {
     "data": {
      "text/html": [
       "<span style = 'color:rgba(253,10,253,0.23591708540916445)'>_This</span><span style = 'color:rgba(253,10,253,0.2516256928443909)'>_early</span><span style = 'color:rgba(253,10,253,0.23591708540916445)'>_B</span><span style = 'color:rgba(253,10,253,0.25697313547134404)'>_entry</span><span style = 'color:rgba(253,10,253,0.239990696310997)'>_into</span><span style = 'color:rgba(253,10,253,0.23591708540916445)'>_the</span><span style = 'color:rgba(253,10,253,0.23699807822704316)'>_patriotic</span><span style = 'color:rgba(253,10,253,0.24452065527439118)'>_category</span><span style = 'color:rgba(253,10,253,0.23699807822704316)'>_slapped</span><span style = 'color:rgba(253,10,253,0.241435644030571)'>_a</span><span style = 'color:rgba(253,10,253,0.23591708540916445)'>_gorgeous</span><span style = 'color:rgba(253,10,253,0.2572100639343262)'>_young</span><span style = 'color:rgba(253,10,253,0.23591708540916445)'>_Gene</span><span style = 'color:rgba(253,10,253,0.23699807822704316)'>_Tierney</span><span style = 'color:rgba(253,10,253,0.23591708540916445)'>_on</span><span style = 'color:rgba(253,10,253,0.23591708540916445)'>_the</span><span style = 'color:rgba(253,10,253,0.23699807822704316)'>_ads</span><span style = 'color:rgba(253,10,253,0.23591708540916445)'>_and</span><span style = 'color:rgba(253,10,253,0.23699807822704316)'>_posters,</span><span style = 'color:rgba(253,10,253,0.23591708540916445)'>_but</span>"
      ],
      "text/plain": [
       "<IPython.core.display.HTML object>"
      ]
     },
     "metadata": {},
     "output_type": "display_data"
    },
    {
     "data": {
      "text/html": [
       "<span style = 'color:rgba(253,10,10,0.24006971716880798)'>_This</span><span style = 'color:rgba(253,10,10,0.23246971964836122)'>_early</span><span style = 'color:rgba(253,10,10,0.266433322429657)'>_B</span><span style = 'color:rgba(253,10,10,0.23246971964836122)'>_entry</span><span style = 'color:rgba(253,10,10,0.23246971964836122)'>_into</span><span style = 'color:rgba(253,10,10,0.23958882689476013)'>_the</span><span style = 'color:rgba(253,10,10,0.23246971964836122)'>_patriotic</span><span style = 'color:rgba(253,10,10,0.23246971964836122)'>_category</span><span style = 'color:rgba(253,10,10,0.23246971964836122)'>_slapped</span><span style = 'color:rgba(253,10,10,0.23246971964836122)'>_a</span><span style = 'color:rgba(253,10,10,0.2549791634082794)'>_gorgeous</span><span style = 'color:rgba(253,10,10,0.23246971964836122)'>_young</span><span style = 'color:rgba(253,10,10,0.24753223359584808)'>_Gene</span><span style = 'color:rgba(253,10,10,0.23246971964836122)'>_Tierney</span><span style = 'color:rgba(253,10,10,0.23256045877933504)'>_on</span><span style = 'color:rgba(253,10,10,0.23958882689476013)'>_the</span><span style = 'color:rgba(253,10,10,0.23246971964836122)'>_ads</span><span style = 'color:rgba(253,10,10,0.27280724644660953)'>_and</span><span style = 'color:rgba(253,10,10,0.23246971964836122)'>_posters,</span><span style = 'color:rgba(253,10,10,0.2492732882499695)'>_but</span>"
      ],
      "text/plain": [
       "<IPython.core.display.HTML object>"
      ]
     },
     "metadata": {},
     "output_type": "display_data"
    },
    {
     "name": "stdout",
     "output_type": "stream",
     "text": [
      "label:0.0\t guess:0.0\n"
     ]
    },
    {
     "data": {
      "text/html": [
       "<span style = 'color:rgba(253,10,253,0.22745296061038972)'>_I</span><span style = 'color:rgba(253,10,253,0.3212522149085999)'>_figured</span><span style = 'color:rgba(253,10,253,0.234769743680954)'>_that</span><span style = 'color:rgba(253,10,253,0.22745296061038972)'>_any</span><span style = 'color:rgba(253,10,253,0.2351349711418152)'>_horror</span><span style = 'color:rgba(253,10,253,0.2335054785013199)'>_film</span><span style = 'color:rgba(253,10,253,0.22745296061038972)'>_with</span><span style = 'color:rgba(253,10,253,0.26756725907325746)'>_Orson</span><span style = 'color:rgba(253,10,253,0.22745296061038972)'>_Welles</span><span style = 'color:rgba(253,10,253,0.23596835136413574)'>_in</span><span style = 'color:rgba(253,10,253,0.22745296061038972)'>_it</span><span style = 'color:rgba(253,10,253,0.251802396774292)'>_would</span><span style = 'color:rgba(253,10,253,0.23217487633228304)'>_be</span><span style = 'color:rgba(253,10,253,0.2282792091369629)'>_weird.</span><span style = 'color:rgba(253,10,253,0.2282792091369629)'>_Necromancy</span><span style = 'color:rgba(253,10,253,0.22905111610889436)'>_sure</span><span style = 'color:rgba(253,10,253,0.25502223372459415)'>_was</span><span style = 'color:rgba(253,10,253,0.22745296061038972)'>_but</span><span style = 'color:rgba(253,10,253,0.22745296061038972)'>_it</span><span style = 'color:rgba(253,10,253,0.25502223372459415)'>_was</span>"
      ],
      "text/plain": [
       "<IPython.core.display.HTML object>"
      ]
     },
     "metadata": {},
     "output_type": "display_data"
    },
    {
     "data": {
      "text/html": [
       "<span style = 'color:rgba(253,10,10,0.24433797001838686)'>_I</span><span style = 'color:rgba(253,10,10,0.23328614532947542)'>_figured</span><span style = 'color:rgba(253,10,10,0.23328614532947542)'>_that</span><span style = 'color:rgba(253,10,10,0.27464256286621097)'>_any</span><span style = 'color:rgba(253,10,10,0.23328614532947542)'>_horror</span><span style = 'color:rgba(253,10,10,0.23328614532947542)'>_film</span><span style = 'color:rgba(253,10,10,0.24529297947883608)'>_with</span><span style = 'color:rgba(253,10,10,0.23328614532947542)'>_Orson</span><span style = 'color:rgba(253,10,10,0.25162751078605655)'>_Welles</span><span style = 'color:rgba(253,10,10,0.23328614532947542)'>_in</span><span style = 'color:rgba(253,10,10,0.2504334390163422)'>_it</span><span style = 'color:rgba(253,10,10,0.23328614532947542)'>_would</span><span style = 'color:rgba(253,10,10,0.23328614532947542)'>_be</span><span style = 'color:rgba(253,10,10,0.23328614532947542)'>_weird.</span><span style = 'color:rgba(253,10,10,0.23328614532947542)'>_Necromancy</span><span style = 'color:rgba(253,10,10,0.23328614532947542)'>_sure</span><span style = 'color:rgba(253,10,10,0.23328614532947542)'>_was</span><span style = 'color:rgba(253,10,10,0.2505122303962708)'>_but</span><span style = 'color:rgba(253,10,10,0.2504334390163422)'>_it</span><span style = 'color:rgba(253,10,10,0.23328614532947542)'>_was</span>"
      ],
      "text/plain": [
       "<IPython.core.display.HTML object>"
      ]
     },
     "metadata": {},
     "output_type": "display_data"
    },
    {
     "name": "stdout",
     "output_type": "stream",
     "text": [
      "label:1.0\t guess:1.0\n"
     ]
    },
    {
     "data": {
      "text/html": [
       "<span style = 'color:rgba(253,10,253,0.23274159729480745)'>_This</span><span style = 'color:rgba(253,10,253,0.2891296148300171)'>_early</span><span style = 'color:rgba(253,10,253,0.2677168905735016)'>_film</span><span style = 'color:rgba(253,10,253,0.22838094532489778)'>_has</span><span style = 'color:rgba(253,10,253,0.22838094532489778)'>_its</span><span style = 'color:rgba(253,10,253,0.22923512160778048)'>_flaws--</span><span style = 'color:rgba(253,10,253,0.24444380402565002)'>_a</span><span style = 'color:rgba(253,10,253,0.22838094532489778)'>_predictable</span><span style = 'color:rgba(253,10,253,0.22923512160778048)'>_plot</span><span style = 'color:rgba(253,10,253,0.22923512160778048)'>_and</span><span style = 'color:rgba(253,10,253,0.22838094532489778)'>_some</span><span style = 'color:rgba(253,10,253,0.22838094532489778)'>_overlong</span><span style = 'color:rgba(253,10,253,0.22838094532489778)'>_scenes</span><span style = 'color:rgba(253,10,253,0.2460432380437851)'>_of</span><span style = 'color:rgba(253,10,253,0.22923512160778048)'>_dubious</span><span style = 'color:rgba(253,10,253,0.22923512160778048)'>_relevance--</span><span style = 'color:rgba(253,10,253,0.22923512160778048)'>_but</span><span style = 'color:rgba(253,10,253,0.22838094532489778)'>_it</span><span style = 'color:rgba(253,10,253,0.3174666047096253)'>_already</span><span style = 'color:rgba(253,10,253,0.22838094532489778)'>_clearly</span>"
      ],
      "text/plain": [
       "<IPython.core.display.HTML object>"
      ]
     },
     "metadata": {},
     "output_type": "display_data"
    },
    {
     "data": {
      "text/html": [
       "<span style = 'color:rgba(253,10,10,0.22753083407878877)'>_This</span><span style = 'color:rgba(253,10,10,0.22753083407878877)'>_early</span><span style = 'color:rgba(253,10,10,0.22753083407878877)'>_film</span><span style = 'color:rgba(253,10,10,0.2617327213287354)'>_has</span><span style = 'color:rgba(253,10,10,0.23942190110683442)'>_its</span><span style = 'color:rgba(253,10,10,0.22753083407878877)'>_flaws--</span><span style = 'color:rgba(253,10,10,0.22753083407878877)'>_a</span><span style = 'color:rgba(253,10,10,0.295731121301651)'>_predictable</span><span style = 'color:rgba(253,10,10,0.22753083407878877)'>_plot</span><span style = 'color:rgba(253,10,10,0.22753083407878877)'>_and</span><span style = 'color:rgba(253,10,10,0.24177845716476443)'>_some</span><span style = 'color:rgba(253,10,10,0.24171329140663148)'>_overlong</span><span style = 'color:rgba(253,10,10,0.23178864121437073)'>_scenes</span><span style = 'color:rgba(253,10,10,0.22753083407878877)'>_of</span><span style = 'color:rgba(253,10,10,0.22753083407878877)'>_dubious</span><span style = 'color:rgba(253,10,10,0.22753083407878877)'>_relevance--</span><span style = 'color:rgba(253,10,10,0.22753083407878877)'>_but</span><span style = 'color:rgba(253,10,10,0.295731121301651)'>_it</span><span style = 'color:rgba(253,10,10,0.22753083407878877)'>_already</span><span style = 'color:rgba(253,10,10,0.2617327213287354)'>_clearly</span>"
      ],
      "text/plain": [
       "<IPython.core.display.HTML object>"
      ]
     },
     "metadata": {},
     "output_type": "display_data"
    },
    {
     "name": "stdout",
     "output_type": "stream",
     "text": [
      "label:0.0\t guess:0.0\n"
     ]
    },
    {
     "data": {
      "text/html": [
       "<span style = 'color:rgba(253,10,253,0.22676229774951936)'>_\"Raw</span><span style = 'color:rgba(253,10,253,0.22676229774951936)'>_Force\"</span><span style = 'color:rgba(253,10,253,0.2353401154279709)'>_is</span><span style = 'color:rgba(253,10,253,0.22676229774951936)'>_like</span><span style = 'color:rgba(253,10,253,0.25363798737525944)'>_an</span><span style = 'color:rgba(253,10,253,0.2936948597431183)'>_ultra-sleazy</span><span style = 'color:rgba(253,10,253,0.23506346344947815)'>_and</span><span style = 'color:rgba(253,10,253,0.22676229774951936)'>_perverted</span><span style = 'color:rgba(253,10,253,0.2431991845369339)'>_version</span><span style = 'color:rgba(253,10,253,0.22676229774951936)'>_of</span><span style = 'color:rgba(253,10,253,0.22756776213645935)'>_Love</span><span style = 'color:rgba(253,10,253,0.22756776213645935)'>_Boat,</span><span style = 'color:rgba(253,10,253,0.22676229774951936)'>_with</span><span style = 'color:rgba(253,10,253,0.22676229774951936)'>_additional</span><span style = 'color:rgba(253,10,253,0.22756776213645935)'>_Kung</span><span style = 'color:rgba(253,10,253,0.260407829284668)'>_Fu</span><span style = 'color:rgba(253,10,253,0.24632124304771424)'>_fights,</span><span style = 'color:rgba(253,10,253,0.2545871794223786)'>_demented</span><span style = 'color:rgba(253,10,253,0.28014098405838017)'>_cannibalistic</span><span style = 'color:rgba(253,10,253,0.22756776213645935)'>_monks,</span>"
      ],
      "text/plain": [
       "<IPython.core.display.HTML object>"
      ]
     },
     "metadata": {},
     "output_type": "display_data"
    },
    {
     "data": {
      "text/html": [
       "<span style = 'color:rgba(253,10,10,0.27977412939071655)'>_\"Raw</span><span style = 'color:rgba(253,10,10,0.2922859311103821)'>_Force\"</span><span style = 'color:rgba(253,10,10,0.23119746744632722)'>_is</span><span style = 'color:rgba(253,10,10,0.25132933259010315)'>_like</span><span style = 'color:rgba(253,10,10,0.23119746744632722)'>_an</span><span style = 'color:rgba(253,10,10,0.23119746744632722)'>_ultra-sleazy</span><span style = 'color:rgba(253,10,10,0.23119746744632722)'>_and</span><span style = 'color:rgba(253,10,10,0.23803762793540956)'>_perverted</span><span style = 'color:rgba(253,10,10,0.23119746744632722)'>_version</span><span style = 'color:rgba(253,10,10,0.2393645077943802)'>_of</span><span style = 'color:rgba(253,10,10,0.23119746744632722)'>_Love</span><span style = 'color:rgba(253,10,10,0.23119746744632722)'>_Boat,</span><span style = 'color:rgba(253,10,10,0.24231207072734834)'>_with</span><span style = 'color:rgba(253,10,10,0.25132933259010315)'>_additional</span><span style = 'color:rgba(253,10,10,0.23119746744632722)'>_Kung</span><span style = 'color:rgba(253,10,10,0.23119746744632722)'>_Fu</span><span style = 'color:rgba(253,10,10,0.23119746744632722)'>_fights,</span><span style = 'color:rgba(253,10,10,0.23119746744632722)'>_demented</span><span style = 'color:rgba(253,10,10,0.23119746744632722)'>_cannibalistic</span><span style = 'color:rgba(253,10,10,0.23119746744632722)'>_monks,</span>"
      ],
      "text/plain": [
       "<IPython.core.display.HTML object>"
      ]
     },
     "metadata": {},
     "output_type": "display_data"
    },
    {
     "name": "stdout",
     "output_type": "stream",
     "text": [
      "label:1.0\t guess:1.0\n"
     ]
    },
    {
     "data": {
      "text/html": [
       "<span style = 'color:rgba(253,10,253,0.23257927894592287)'>_This</span><span style = 'color:rgba(253,10,253,0.23257927894592287)'>_is</span><span style = 'color:rgba(253,10,253,0.23758499622344972)'>_a</span><span style = 'color:rgba(253,10,253,0.23257927894592287)'>_movie</span><span style = 'color:rgba(253,10,253,0.24126232862472535)'>_that</span><span style = 'color:rgba(253,10,253,0.23257927894592287)'>_should</span><span style = 'color:rgba(253,10,253,0.23818292319774628)'>_be</span><span style = 'color:rgba(253,10,253,0.23257927894592287)'>_seen</span><span style = 'color:rgba(253,10,253,0.23257927894592287)'>_by</span><span style = 'color:rgba(253,10,253,0.28315240144729614)'>_everyone</span><span style = 'color:rgba(253,10,253,0.23257927894592287)'>_if</span><span style = 'color:rgba(253,10,253,0.23257927894592287)'>_you</span><span style = 'color:rgba(253,10,253,0.24144963622093202)'>_want</span><span style = 'color:rgba(253,10,253,0.23841121792793274)'>_to</span><span style = 'color:rgba(253,10,253,0.295445328950882)'>_see</span><span style = 'color:rgba(253,10,253,0.23257927894592287)'>_great</span><span style = 'color:rgba(253,10,253,0.23257927894592287)'>_acting.</span><span style = 'color:rgba(253,10,253,0.23257927894592287)'>_Mr.</span><span style = 'color:rgba(253,10,253,0.23355981409549714)'>_Torn</span><span style = 'color:rgba(253,10,253,0.23257927894592287)'>_and</span>"
      ],
      "text/plain": [
       "<IPython.core.display.HTML object>"
      ]
     },
     "metadata": {},
     "output_type": "display_data"
    },
    {
     "data": {
      "text/html": [
       "<span style = 'color:rgba(253,10,10,0.22955420911312105)'>_This</span><span style = 'color:rgba(253,10,10,0.24632764756679537)'>_is</span><span style = 'color:rgba(253,10,10,0.22394868284463884)'>_a</span><span style = 'color:rgba(253,10,10,0.2394028753042221)'>_movie</span><span style = 'color:rgba(253,10,10,0.22394868284463884)'>_that</span><span style = 'color:rgba(253,10,10,0.289524644613266)'>_should</span><span style = 'color:rgba(253,10,10,0.22394868284463884)'>_be</span><span style = 'color:rgba(253,10,10,0.25843224525451663)'>_seen</span><span style = 'color:rgba(253,10,10,0.22599598169326784)'>_by</span><span style = 'color:rgba(253,10,10,0.22394868284463884)'>_everyone</span><span style = 'color:rgba(253,10,10,0.23434596955776216)'>_if</span><span style = 'color:rgba(253,10,10,0.24555653631687166)'>_you</span><span style = 'color:rgba(253,10,10,0.22394868284463884)'>_want</span><span style = 'color:rgba(253,10,10,0.22394868284463884)'>_to</span><span style = 'color:rgba(253,10,10,0.22394868284463884)'>_see</span><span style = 'color:rgba(253,10,10,0.32015690803527835)'>_great</span><span style = 'color:rgba(253,10,10,0.2276015102863312)'>_acting.</span><span style = 'color:rgba(253,10,10,0.2378116011619568)'>_Mr.</span><span style = 'color:rgba(253,10,10,0.22394868284463884)'>_Torn</span><span style = 'color:rgba(253,10,10,0.25370042324066167)'>_and</span>"
      ],
      "text/plain": [
       "<IPython.core.display.HTML object>"
      ]
     },
     "metadata": {},
     "output_type": "display_data"
    },
    {
     "name": "stdout",
     "output_type": "stream",
     "text": [
      "label:1.0\t guess:1.0\n"
     ]
    },
    {
     "data": {
      "text/html": [
       "<span style = 'color:rgba(253,10,253,0.22954843938350677)'>_I</span><span style = 'color:rgba(253,10,253,0.22954843938350677)'>_am</span><span style = 'color:rgba(253,10,253,0.24535748660564424)'>_not</span><span style = 'color:rgba(253,10,253,0.22954843938350677)'>_going</span><span style = 'color:rgba(253,10,253,0.23483783304691316)'>_to</span><span style = 'color:rgba(253,10,253,0.22954843938350677)'>_spoil</span><span style = 'color:rgba(253,10,253,0.22954843938350677)'>_the</span><span style = 'color:rgba(253,10,253,0.23043775260448457)'>_contents</span><span style = 'color:rgba(253,10,253,0.23483783304691316)'>_to</span><span style = 'color:rgba(253,10,253,0.23043775260448457)'>_anyone,</span><span style = 'color:rgba(253,10,253,0.22954843938350677)'>_who</span><span style = 'color:rgba(253,10,253,0.22954843938350677)'>_has</span><span style = 'color:rgba(253,10,253,0.24535748660564424)'>_not</span><span style = 'color:rgba(253,10,253,0.2571101725101471)'>_yet</span><span style = 'color:rgba(253,10,253,0.35579297542572025)'>_watched</span><span style = 'color:rgba(253,10,253,0.23901926279067995)'>_this</span><span style = 'color:rgba(253,10,253,0.23043775260448457)'>_humble</span><span style = 'color:rgba(253,10,253,0.22954843938350677)'>_masterpiece</span><span style = 'color:rgba(253,10,253,0.22954843938350677)'>_by</span><span style = 'color:rgba(253,10,253,0.23043775260448457)'>_Kay</span>"
      ],
      "text/plain": [
       "<IPython.core.display.HTML object>"
      ]
     },
     "metadata": {},
     "output_type": "display_data"
    },
    {
     "data": {
      "text/html": [
       "<span style = 'color:rgba(253,10,10,0.24029007852077486)'>_I</span><span style = 'color:rgba(253,10,10,0.24646516144275665)'>_am</span><span style = 'color:rgba(253,10,10,0.23024724125862123)'>_not</span><span style = 'color:rgba(253,10,10,0.2374219000339508)'>_going</span><span style = 'color:rgba(253,10,10,0.23024724125862123)'>_to</span><span style = 'color:rgba(253,10,10,0.3182786703109741)'>_spoil</span><span style = 'color:rgba(253,10,10,0.23687906563282013)'>_the</span><span style = 'color:rgba(253,10,10,0.23024724125862123)'>_contents</span><span style = 'color:rgba(253,10,10,0.23024724125862123)'>_to</span><span style = 'color:rgba(253,10,10,0.23024724125862123)'>_anyone,</span><span style = 'color:rgba(253,10,10,0.23761887848377228)'>_who</span><span style = 'color:rgba(253,10,10,0.23939855992794037)'>_has</span><span style = 'color:rgba(253,10,10,0.23024724125862123)'>_not</span><span style = 'color:rgba(253,10,10,0.23024724125862123)'>_yet</span><span style = 'color:rgba(253,10,10,0.23024724125862123)'>_watched</span><span style = 'color:rgba(253,10,10,0.23024724125862123)'>_this</span><span style = 'color:rgba(253,10,10,0.23024724125862123)'>_humble</span><span style = 'color:rgba(253,10,10,0.27809506058692934)'>_masterpiece</span><span style = 'color:rgba(253,10,10,0.23283298611640932)'>_by</span><span style = 'color:rgba(253,10,10,0.23024724125862123)'>_Kay</span>"
      ],
      "text/plain": [
       "<IPython.core.display.HTML object>"
      ]
     },
     "metadata": {},
     "output_type": "display_data"
    },
    {
     "name": "stdout",
     "output_type": "stream",
     "text": [
      "label:1.0\t guess:1.0\n"
     ]
    },
    {
     "data": {
      "text/html": [
       "<span style = 'color:rgba(253,10,253,0.23669763505458832)'>_I</span><span style = 'color:rgba(253,10,253,0.2589479088783264)'>_saw</span><span style = 'color:rgba(253,10,253,0.2464783102273941)'>_that</span><span style = 'color:rgba(253,10,253,0.23669763505458832)'>_movie</span><span style = 'color:rgba(253,10,253,0.24627371430397035)'>_few</span><span style = 'color:rgba(253,10,253,0.23669763505458832)'>_days</span><span style = 'color:rgba(253,10,253,0.23669763505458832)'>_ago.</span><span style = 'color:rgba(253,10,253,0.23669763505458832)'>_This</span><span style = 'color:rgba(253,10,253,0.23669763505458832)'>_movie</span><span style = 'color:rgba(253,10,253,0.23669763505458832)'>_is</span><span style = 'color:rgba(253,10,253,0.23669763505458832)'>_so</span><span style = 'color:rgba(253,10,253,0.23669763505458832)'>_great</span><span style = 'color:rgba(253,10,253,0.2464783102273941)'>_that</span><span style = 'color:rgba(253,10,253,0.23669763505458832)'>_it</span><span style = 'color:rgba(253,10,253,0.23669763505458832)'>_makes</span><span style = 'color:rgba(253,10,253,0.23669763505458832)'>_me</span><span style = 'color:rgba(253,10,253,0.2415765702724457)'>_feel</span><span style = 'color:rgba(253,10,253,0.2464783102273941)'>_that</span><span style = 'color:rgba(253,10,253,0.23669763505458832)'>_if</span><span style = 'color:rgba(253,10,253,0.23669763505458832)'>_you</span>"
      ],
      "text/plain": [
       "<IPython.core.display.HTML object>"
      ]
     },
     "metadata": {},
     "output_type": "display_data"
    },
    {
     "data": {
      "text/html": [
       "<span style = 'color:rgba(253,10,10,0.23251679241657258)'>_I</span><span style = 'color:rgba(253,10,10,0.22441155314445496)'>_saw</span><span style = 'color:rgba(253,10,10,0.22441155314445496)'>_that</span><span style = 'color:rgba(253,10,10,0.24016443789005282)'>_movie</span><span style = 'color:rgba(253,10,10,0.22441155314445496)'>_few</span><span style = 'color:rgba(253,10,10,0.2447457879781723)'>_days</span><span style = 'color:rgba(253,10,10,0.260958594083786)'>_ago.</span><span style = 'color:rgba(253,10,10,0.2301254212856293)'>_This</span><span style = 'color:rgba(253,10,10,0.24016443789005282)'>_movie</span><span style = 'color:rgba(253,10,10,0.24722304940223694)'>_is</span><span style = 'color:rgba(253,10,10,0.22802942991256714)'>_so</span><span style = 'color:rgba(253,10,10,0.322479248046875)'>_great</span><span style = 'color:rgba(253,10,10,0.22441155314445496)'>_that</span><span style = 'color:rgba(253,10,10,0.23698711693286897)'>_it</span><span style = 'color:rgba(253,10,10,0.2578784942626953)'>_makes</span><span style = 'color:rgba(253,10,10,0.23081104457378387)'>_me</span><span style = 'color:rgba(253,10,10,0.22441155314445496)'>_feel</span><span style = 'color:rgba(253,10,10,0.22441155314445496)'>_that</span><span style = 'color:rgba(253,10,10,0.23500979244709017)'>_if</span><span style = 'color:rgba(253,10,10,0.24643703401088715)'>_you</span>"
      ],
      "text/plain": [
       "<IPython.core.display.HTML object>"
      ]
     },
     "metadata": {},
     "output_type": "display_data"
    },
    {
     "name": "stdout",
     "output_type": "stream",
     "text": [
      "label:1.0\t guess:1.0\n"
     ]
    },
    {
     "data": {
      "text/html": [
       "<span style = 'color:rgba(253,10,253,0.23121518790721896)'>_I</span><span style = 'color:rgba(253,10,253,0.2625626266002655)'>_was</span><span style = 'color:rgba(253,10,253,0.2341831088066101)'>_pretty</span><span style = 'color:rgba(253,10,253,0.23121518790721896)'>_surprised</span><span style = 'color:rgba(253,10,253,0.23121518790721896)'>_with</span><span style = 'color:rgba(253,10,253,0.24122023582458496)'>_this</span><span style = 'color:rgba(253,10,253,0.23121518790721896)'>_flick.</span><span style = 'color:rgba(253,10,253,0.27360454201698303)'>_Even</span><span style = 'color:rgba(253,10,253,0.23121518790721896)'>_though</span><span style = 'color:rgba(253,10,253,0.2440867751836777)'>_their</span><span style = 'color:rgba(253,10,253,0.23215467035770418)'>_budjet</span><span style = 'color:rgba(253,10,253,0.2625626266002655)'>_was</span><span style = 'color:rgba(253,10,253,0.23121518790721896)'>_obviously</span><span style = 'color:rgba(253,10,253,0.2578985929489136)'>_lacking</span><span style = 'color:rgba(253,10,253,0.23121518790721896)'>_still</span><span style = 'color:rgba(253,10,253,0.23121518790721896)'>_you</span><span style = 'color:rgba(253,10,253,0.2374029725790024)'>_have</span><span style = 'color:rgba(253,10,253,0.23680294156074524)'>_to</span><span style = 'color:rgba(253,10,253,0.23658420741558076)'>_be</span><span style = 'color:rgba(253,10,253,0.23121518790721896)'>_impressed</span>"
      ],
      "text/plain": [
       "<IPython.core.display.HTML object>"
      ]
     },
     "metadata": {},
     "output_type": "display_data"
    },
    {
     "data": {
      "text/html": [
       "<span style = 'color:rgba(253,10,10,0.23892688751220703)'>_I</span><span style = 'color:rgba(253,10,10,0.2292238473892212)'>_was</span><span style = 'color:rgba(253,10,10,0.2292238473892212)'>_pretty</span><span style = 'color:rgba(253,10,10,0.2674084007740021)'>_surprised</span><span style = 'color:rgba(253,10,10,0.23976534605026245)'>_with</span><span style = 'color:rgba(253,10,10,0.2292238473892212)'>_this</span><span style = 'color:rgba(253,10,10,0.23161583542823794)'>_flick.</span><span style = 'color:rgba(253,10,10,0.2292238473892212)'>_Even</span><span style = 'color:rgba(253,10,10,0.25161561965942386)'>_though</span><span style = 'color:rgba(253,10,10,0.2292238473892212)'>_their</span><span style = 'color:rgba(253,10,10,0.2292238473892212)'>_budjet</span><span style = 'color:rgba(253,10,10,0.2292238473892212)'>_was</span><span style = 'color:rgba(253,10,10,0.25835554003715516)'>_obviously</span><span style = 'color:rgba(253,10,10,0.2292238473892212)'>_lacking</span><span style = 'color:rgba(253,10,10,0.26736484169960023)'>_still</span><span style = 'color:rgba(253,10,10,0.25559125542640687)'>_you</span><span style = 'color:rgba(253,10,10,0.2292238473892212)'>_have</span><span style = 'color:rgba(253,10,10,0.2292238473892212)'>_to</span><span style = 'color:rgba(253,10,10,0.2292238473892212)'>_be</span><span style = 'color:rgba(253,10,10,0.2678939700126648)'>_impressed</span>"
      ],
      "text/plain": [
       "<IPython.core.display.HTML object>"
      ]
     },
     "metadata": {},
     "output_type": "display_data"
    },
    {
     "name": "stdout",
     "output_type": "stream",
     "text": [
      "label:0.0\t guess:0.0\n"
     ]
    },
    {
     "data": {
      "text/html": [
       "<span style = 'color:rgba(253,10,253,0.2715363323688507)'>_What</span><span style = 'color:rgba(253,10,253,0.25804828405380253)'>_was</span><span style = 'color:rgba(253,10,253,0.22896278798580172)'>_Steven</span><span style = 'color:rgba(253,10,253,0.31931897401809695)'>_Seagal</span><span style = 'color:rgba(253,10,253,0.22983447611331942)'>_thinking?</span><span style = 'color:rgba(253,10,253,0.22896278798580172)'>_I</span><span style = 'color:rgba(253,10,253,0.25153809785842896)'>_mean</span><span style = 'color:rgba(253,10,253,0.22983447611331942)'>_firstly</span><span style = 'color:rgba(253,10,253,0.22896278798580172)'>_I</span><span style = 'color:rgba(253,10,253,0.22896278798580172)'>_love</span><span style = 'color:rgba(253,10,253,0.22983447611331942)'>_Seagal.</span><span style = 'color:rgba(253,10,253,0.22896278798580172)'>_I</span><span style = 'color:rgba(253,10,253,0.22896278798580172)'>_love</span><span style = 'color:rgba(253,10,253,0.25441718101501465)'>_all</span><span style = 'color:rgba(253,10,253,0.22896278798580172)'>_his</span><span style = 'color:rgba(253,10,253,0.22896278798580172)'>_movies</span><span style = 'color:rgba(253,10,253,0.23186246156692505)'>_up</span><span style = 'color:rgba(253,10,253,0.23414734601974488)'>_to</span><span style = 'color:rgba(253,10,253,0.22896278798580172)'>_the</span><span style = 'color:rgba(253,10,253,0.22896278798580172)'>_mid</span>"
      ],
      "text/plain": [
       "<IPython.core.display.HTML object>"
      ]
     },
     "metadata": {},
     "output_type": "display_data"
    },
    {
     "data": {
      "text/html": [
       "<span style = 'color:rgba(253,10,10,0.2229552447795868)'>_What</span><span style = 'color:rgba(253,10,10,0.2229552447795868)'>_was</span><span style = 'color:rgba(253,10,10,0.23954797685146334)'>_Steven</span><span style = 'color:rgba(253,10,10,0.2229552447795868)'>_Seagal</span><span style = 'color:rgba(253,10,10,0.2229552447795868)'>_thinking?</span><span style = 'color:rgba(253,10,10,0.230576953291893)'>_I</span><span style = 'color:rgba(253,10,10,0.2229552447795868)'>_mean</span><span style = 'color:rgba(253,10,10,0.2229552447795868)'>_firstly</span><span style = 'color:rgba(253,10,10,0.230576953291893)'>_I</span><span style = 'color:rgba(253,10,10,0.3497398376464844)'>_love</span><span style = 'color:rgba(253,10,10,0.2229552447795868)'>_Seagal.</span><span style = 'color:rgba(253,10,10,0.230576953291893)'>_I</span><span style = 'color:rgba(253,10,10,0.3497398376464844)'>_love</span><span style = 'color:rgba(253,10,10,0.2229552447795868)'>_all</span><span style = 'color:rgba(253,10,10,0.22746580541133882)'>_his</span><span style = 'color:rgba(253,10,10,0.2379225105047226)'>_movies</span><span style = 'color:rgba(253,10,10,0.2229552447795868)'>_up</span><span style = 'color:rgba(253,10,10,0.2229552447795868)'>_to</span><span style = 'color:rgba(253,10,10,0.22798826694488528)'>_the</span><span style = 'color:rgba(253,10,10,0.2463124543428421)'>_mid</span>"
      ],
      "text/plain": [
       "<IPython.core.display.HTML object>"
      ]
     },
     "metadata": {},
     "output_type": "display_data"
    },
    {
     "name": "stdout",
     "output_type": "stream",
     "text": [
      "label:1.0\t guess:1.0\n"
     ]
    },
    {
     "data": {
      "text/html": [
       "<span style = 'color:rgba(253,10,253,0.2766373693943024)'>_Here's</span><span style = 'color:rgba(253,10,253,0.24100208282470703)'>_what</span><span style = 'color:rgba(253,10,253,0.2281395733356476)'>_I</span><span style = 'color:rgba(253,10,253,0.2281395733356476)'>_knew</span><span style = 'color:rgba(253,10,253,0.23990602791309357)'>_about</span><span style = 'color:rgba(253,10,253,0.22898648381233216)'>_\"Atlantis\"</span><span style = 'color:rgba(253,10,253,0.2281395733356476)'>_before</span><span style = 'color:rgba(253,10,253,0.23905518651008606)'>_watching</span><span style = 'color:rgba(253,10,253,0.22898648381233216)'>_it:<br</span><span style = 'color:rgba(253,10,253,0.25406986474990845)'>_/><br</span><span style = 'color:rgba(253,10,253,0.29174907803535466)'>_/>*</span><span style = 'color:rgba(253,10,253,0.23898026645183565)'>_-</span><span style = 'color:rgba(253,10,253,0.2635166049003601)'>_It's</span><span style = 'color:rgba(253,10,253,0.22898648381233216)'>_officially</span><span style = 'color:rgba(253,10,253,0.2281395733356476)'>_Disney's</span><span style = 'color:rgba(253,10,253,0.2281395733356476)'>_first</span><span style = 'color:rgba(253,10,253,0.2281395733356476)'>_animated</span><span style = 'color:rgba(253,10,253,0.2281395733356476)'>_sci-fi</span><span style = 'color:rgba(253,10,253,0.22898648381233216)'>_adventure.</span><span style = 'color:rgba(253,10,253,0.24216058552265168)'>_I'm</span>"
      ],
      "text/plain": [
       "<IPython.core.display.HTML object>"
      ]
     },
     "metadata": {},
     "output_type": "display_data"
    },
    {
     "data": {
      "text/html": [
       "<span style = 'color:rgba(253,10,10,0.23358117640018464)'>_Here's</span><span style = 'color:rgba(253,10,10,0.23358117640018464)'>_what</span><span style = 'color:rgba(253,10,10,0.2447309583425522)'>_I</span><span style = 'color:rgba(253,10,10,0.2537643134593964)'>_knew</span><span style = 'color:rgba(253,10,10,0.23358117640018464)'>_about</span><span style = 'color:rgba(253,10,10,0.23358117640018464)'>_\"Atlantis\"</span><span style = 'color:rgba(253,10,10,0.23528129160404207)'>_before</span><span style = 'color:rgba(253,10,10,0.23358117640018464)'>_watching</span><span style = 'color:rgba(253,10,10,0.23358117640018464)'>_it:<br</span><span style = 'color:rgba(253,10,10,0.23358117640018464)'>_/><br</span><span style = 'color:rgba(253,10,10,0.23358117640018464)'>_/>*</span><span style = 'color:rgba(253,10,10,0.23358117640018464)'>_-</span><span style = 'color:rgba(253,10,10,0.23358117640018464)'>_It's</span><span style = 'color:rgba(253,10,10,0.23358117640018464)'>_officially</span><span style = 'color:rgba(253,10,10,0.2375562846660614)'>_Disney's</span><span style = 'color:rgba(253,10,10,0.2818404734134674)'>_first</span><span style = 'color:rgba(253,10,10,0.274968034029007)'>_animated</span><span style = 'color:rgba(253,10,10,0.23530336320400239)'>_sci-fi</span><span style = 'color:rgba(253,10,10,0.23358117640018464)'>_adventure.</span><span style = 'color:rgba(253,10,10,0.23358117640018464)'>_I'm</span>"
      ],
      "text/plain": [
       "<IPython.core.display.HTML object>"
      ]
     },
     "metadata": {},
     "output_type": "display_data"
    },
    {
     "name": "stdout",
     "output_type": "stream",
     "text": [
      "label:1.0\t guess:1.0\n"
     ]
    },
    {
     "data": {
      "text/html": [
       "<span style = 'color:rgba(253,10,253,0.23044260144233705)'>_I</span><span style = 'color:rgba(253,10,253,0.23199936747550964)'>_like</span><span style = 'color:rgba(253,10,253,0.24020002186298373)'>_this</span><span style = 'color:rgba(253,10,253,0.26111478805541993)'>_presentation</span><span style = 'color:rgba(253,10,253,0.2421705335378647)'>_-</span><span style = 'color:rgba(253,10,253,0.23044260144233705)'>_I</span><span style = 'color:rgba(253,10,253,0.2364772379398346)'>_have</span><span style = 'color:rgba(253,10,253,0.2829118311405182)'>_read</span><span style = 'color:rgba(253,10,253,0.23135882914066316)'>_Bleak</span><span style = 'color:rgba(253,10,253,0.23044260144233705)'>_House</span><span style = 'color:rgba(253,10,253,0.23044260144233705)'>_and</span><span style = 'color:rgba(253,10,253,0.23044260144233705)'>_I</span><span style = 'color:rgba(253,10,253,0.23044260144233705)'>_know</span><span style = 'color:rgba(253,10,253,0.23044260144233705)'>_it</span><span style = 'color:rgba(253,10,253,0.23044260144233705)'>_is</span><span style = 'color:rgba(253,10,253,0.23044260144233705)'>_so</span><span style = 'color:rgba(253,10,253,0.2581387281417847)'>_difficult</span><span style = 'color:rgba(253,10,253,0.2358920603990555)'>_to</span><span style = 'color:rgba(253,10,253,0.27531056404113774)'>_present</span><span style = 'color:rgba(253,10,253,0.23044260144233705)'>_the</span>"
      ],
      "text/plain": [
       "<IPython.core.display.HTML object>"
      ]
     },
     "metadata": {},
     "output_type": "display_data"
    },
    {
     "data": {
      "text/html": [
       "<span style = 'color:rgba(253,10,10,0.24106270372867586)'>_I</span><span style = 'color:rgba(253,10,10,0.23082728385925294)'>_like</span><span style = 'color:rgba(253,10,10,0.23082728385925294)'>_this</span><span style = 'color:rgba(253,10,10,0.23082728385925294)'>_presentation</span><span style = 'color:rgba(253,10,10,0.23082728385925294)'>_-</span><span style = 'color:rgba(253,10,10,0.24106270372867586)'>_I</span><span style = 'color:rgba(253,10,10,0.23082728385925294)'>_have</span><span style = 'color:rgba(253,10,10,0.23082728385925294)'>_read</span><span style = 'color:rgba(253,10,10,0.23082728385925294)'>_Bleak</span><span style = 'color:rgba(253,10,10,0.25028024315834047)'>_House</span><span style = 'color:rgba(253,10,10,0.2691243886947632)'>_and</span><span style = 'color:rgba(253,10,10,0.24106270372867586)'>_I</span><span style = 'color:rgba(253,10,10,0.26981027126312257)'>_know</span><span style = 'color:rgba(253,10,10,0.24670790135860443)'>_it</span><span style = 'color:rgba(253,10,10,0.25963398814201355)'>_is</span><span style = 'color:rgba(253,10,10,0.23539599478244783)'>_so</span><span style = 'color:rgba(253,10,10,0.23082728385925294)'>_difficult</span><span style = 'color:rgba(253,10,10,0.23082728385925294)'>_to</span><span style = 'color:rgba(253,10,10,0.23082728385925294)'>_present</span><span style = 'color:rgba(253,10,10,0.2375862777233124)'>_the</span>"
      ],
      "text/plain": [
       "<IPython.core.display.HTML object>"
      ]
     },
     "metadata": {},
     "output_type": "display_data"
    },
    {
     "name": "stdout",
     "output_type": "stream",
     "text": [
      "label:0.0\t guess:0.0\n"
     ]
    },
    {
     "data": {
      "text/html": [
       "<span style = 'color:rgba(253,10,253,0.23333139419555665)'>_I</span><span style = 'color:rgba(253,10,253,0.23333139419555665)'>_think</span><span style = 'color:rgba(253,10,253,0.23333139419555665)'>_my</span><span style = 'color:rgba(253,10,253,0.26628003120422367)'>_summary</span><span style = 'color:rgba(253,10,253,0.23433456718921664)'>_sums</span><span style = 'color:rgba(253,10,253,0.23333139419555665)'>_it</span><span style = 'color:rgba(253,10,253,0.23333139419555665)'>_up.</span><span style = 'color:rgba(253,10,253,0.23333139419555665)'>_I</span><span style = 'color:rgba(253,10,253,0.23512506783008577)'>_found</span><span style = 'color:rgba(253,10,253,0.23333139419555665)'>_it</span><span style = 'color:rgba(253,10,253,0.23433456718921664)'>_inane</span><span style = 'color:rgba(253,10,253,0.23333139419555665)'>_and</span><span style = 'color:rgba(253,10,253,0.288254314661026)'>_stupid.</span><span style = 'color:rgba(253,10,253,0.23333139419555665)'>_I</span><span style = 'color:rgba(253,10,253,0.23333139419555665)'>_also</span><span style = 'color:rgba(253,10,253,0.25354067087173465)'>_saw</span><span style = 'color:rgba(253,10,253,0.23333139419555665)'>_the</span><span style = 'color:rgba(253,10,253,0.24869820177555085)'>_ending</span><span style = 'color:rgba(253,10,253,0.23845267295837402)'>_a</span><span style = 'color:rgba(253,10,253,0.23433456718921664)'>_mile</span>"
      ],
      "text/plain": [
       "<IPython.core.display.HTML object>"
      ]
     },
     "metadata": {},
     "output_type": "display_data"
    },
    {
     "data": {
      "text/html": [
       "<span style = 'color:rgba(253,10,10,0.23768497407436373)'>_I</span><span style = 'color:rgba(253,10,10,0.2880931913852692)'>_think</span><span style = 'color:rgba(253,10,10,0.2529863476753235)'>_my</span><span style = 'color:rgba(253,10,10,0.22829149663448334)'>_summary</span><span style = 'color:rgba(253,10,10,0.22829149663448334)'>_sums</span><span style = 'color:rgba(253,10,10,0.2428658038377762)'>_it</span><span style = 'color:rgba(253,10,10,0.23810424804687502)'>_up.</span><span style = 'color:rgba(253,10,10,0.23768497407436373)'>_I</span><span style = 'color:rgba(253,10,10,0.22829149663448334)'>_found</span><span style = 'color:rgba(253,10,10,0.2428658038377762)'>_it</span><span style = 'color:rgba(253,10,10,0.22829149663448334)'>_inane</span><span style = 'color:rgba(253,10,10,0.2634383618831635)'>_and</span><span style = 'color:rgba(253,10,10,0.22829149663448334)'>_stupid.</span><span style = 'color:rgba(253,10,10,0.23768497407436373)'>_I</span><span style = 'color:rgba(253,10,10,0.26947333812713625)'>_also</span><span style = 'color:rgba(253,10,10,0.22829149663448334)'>_saw</span><span style = 'color:rgba(253,10,10,0.23449451327323914)'>_the</span><span style = 'color:rgba(253,10,10,0.22829149663448334)'>_ending</span><span style = 'color:rgba(253,10,10,0.22829149663448334)'>_a</span><span style = 'color:rgba(253,10,10,0.22829149663448334)'>_mile</span>"
      ],
      "text/plain": [
       "<IPython.core.display.HTML object>"
      ]
     },
     "metadata": {},
     "output_type": "display_data"
    },
    {
     "name": "stdout",
     "output_type": "stream",
     "text": [
      "label:1.0\t guess:1.0\n"
     ]
    },
    {
     "data": {
      "text/html": [
       "<span style = 'color:rgba(253,10,253,0.23555025458335876)'>_Perhaps</span><span style = 'color:rgba(253,10,253,0.23555025458335876)'>_I</span><span style = 'color:rgba(253,10,253,0.23555025458335876)'>_would</span><span style = 'color:rgba(253,10,253,0.23555025458335876)'>_have</span><span style = 'color:rgba(253,10,253,0.24657727777957916)'>_liked</span><span style = 'color:rgba(253,10,253,0.26253717541694643)'>_this</span><span style = 'color:rgba(253,10,253,0.23662020564079286)'>_film</span><span style = 'color:rgba(253,10,253,0.23900874555110932)'>_more</span><span style = 'color:rgba(253,10,253,0.23555025458335876)'>_if</span><span style = 'color:rgba(253,10,253,0.23555025458335876)'>_I</span><span style = 'color:rgba(253,10,253,0.23662020564079286)'>_wasn't</span><span style = 'color:rgba(253,10,253,0.23555025458335876)'>_so</span><span style = 'color:rgba(253,10,253,0.23662020564079286)'>_attached</span><span style = 'color:rgba(253,10,253,0.24836957454681396)'>_to</span><span style = 'color:rgba(253,10,253,0.24657727777957916)'>_the</span><span style = 'color:rgba(253,10,253,0.23693414330482485)'>_characters</span><span style = 'color:rgba(253,10,253,0.23555025458335876)'>_in</span><span style = 'color:rgba(253,10,253,0.25356267690658574)'>_Henry</span><span style = 'color:rgba(253,10,253,0.23662020564079286)'>_Fool.</span><span style = 'color:rgba(253,10,253,0.23555025458335876)'>_To</span>"
      ],
      "text/plain": [
       "<IPython.core.display.HTML object>"
      ]
     },
     "metadata": {},
     "output_type": "display_data"
    },
    {
     "data": {
      "text/html": [
       "<span style = 'color:rgba(253,10,10,0.26296669244766235)'>_Perhaps</span><span style = 'color:rgba(253,10,10,0.2557218611240387)'>_I</span><span style = 'color:rgba(253,10,10,0.23894598782062532)'>_would</span><span style = 'color:rgba(253,10,10,0.2557616651058197)'>_have</span><span style = 'color:rgba(253,10,10,0.2325500935316086)'>_liked</span><span style = 'color:rgba(253,10,10,0.2325500935316086)'>_this</span><span style = 'color:rgba(253,10,10,0.2325500935316086)'>_film</span><span style = 'color:rgba(253,10,10,0.2325500935316086)'>_more</span><span style = 'color:rgba(253,10,10,0.23264105916023256)'>_if</span><span style = 'color:rgba(253,10,10,0.2396868258714676)'>_I</span><span style = 'color:rgba(253,10,10,0.2325500935316086)'>_wasn't</span><span style = 'color:rgba(253,10,10,0.2729874730110169)'>_so</span><span style = 'color:rgba(253,10,10,0.2325500935316086)'>_attached</span><span style = 'color:rgba(253,10,10,0.2325500935316086)'>_to</span><span style = 'color:rgba(253,10,10,0.2325500935316086)'>_the</span><span style = 'color:rgba(253,10,10,0.2325500935316086)'>_characters</span><span style = 'color:rgba(253,10,10,0.23894598782062532)'>_in</span><span style = 'color:rgba(253,10,10,0.2325500935316086)'>_Henry</span><span style = 'color:rgba(253,10,10,0.2325500935316086)'>_Fool.</span><span style = 'color:rgba(253,10,10,0.24429142475128174)'>_To</span>"
      ],
      "text/plain": [
       "<IPython.core.display.HTML object>"
      ]
     },
     "metadata": {},
     "output_type": "display_data"
    },
    {
     "name": "stdout",
     "output_type": "stream",
     "text": [
      "label:0.0\t guess:0.0\n"
     ]
    },
    {
     "data": {
      "text/html": [
       "<span style = 'color:rgba(253,10,253,0.23461492359638214)'>_Monster</span><span style = 'color:rgba(253,10,253,0.23362205326557162)'>_is</span><span style = 'color:rgba(253,10,253,0.23463397324085236)'>_a</span><span style = 'color:rgba(253,10,253,0.25646346211433413)'>_mind</span><span style = 'color:rgba(253,10,253,0.23362205326557162)'>_numbingly</span><span style = 'color:rgba(253,10,253,0.23362205326557162)'>_awful</span><span style = 'color:rgba(253,10,253,0.23878799080848695)'>_movie</span><span style = 'color:rgba(253,10,253,0.23463397324085236)'>_about</span><span style = 'color:rgba(253,10,253,0.23362205326557162)'>_an</span><span style = 'color:rgba(253,10,253,0.23463397324085236)'>_evil</span><span style = 'color:rgba(253,10,253,0.24258302450180055)'>_American</span><span style = 'color:rgba(253,10,253,0.3019681692123413)'>_concrete</span><span style = 'color:rgba(253,10,253,0.23964065909385682)'>_factory</span><span style = 'color:rgba(253,10,253,0.23463397324085236)'>_(are</span><span style = 'color:rgba(253,10,253,0.23362205326557162)'>_there</span><span style = 'color:rgba(253,10,253,0.23463397324085236)'>_any</span><span style = 'color:rgba(253,10,253,0.24278356432914736)'>_else</span><span style = 'color:rgba(253,10,253,0.23463397324085236)'>_in</span><span style = 'color:rgba(253,10,253,0.23362205326557162)'>_Hollywood?)</span><span style = 'color:rgba(253,10,253,0.23362205326557162)'>_polluting</span>"
      ],
      "text/plain": [
       "<IPython.core.display.HTML object>"
      ]
     },
     "metadata": {},
     "output_type": "display_data"
    },
    {
     "data": {
      "text/html": [
       "<span style = 'color:rgba(253,10,10,0.23113568723201752)'>_Monster</span><span style = 'color:rgba(253,10,10,0.2619535744190216)'>_is</span><span style = 'color:rgba(253,10,10,0.23113568723201752)'>_a</span><span style = 'color:rgba(253,10,10,0.23113568723201752)'>_mind</span><span style = 'color:rgba(253,10,10,0.2602305829524994)'>_numbingly</span><span style = 'color:rgba(253,10,10,0.2764576137065888)'>_awful</span><span style = 'color:rgba(253,10,10,0.23113568723201752)'>_movie</span><span style = 'color:rgba(253,10,10,0.23113568723201752)'>_about</span><span style = 'color:rgba(253,10,10,0.26695688962936404)'>_an</span><span style = 'color:rgba(253,10,10,0.23113568723201752)'>_evil</span><span style = 'color:rgba(253,10,10,0.23113568723201752)'>_American</span><span style = 'color:rgba(253,10,10,0.23113568723201752)'>_concrete</span><span style = 'color:rgba(253,10,10,0.23113568723201752)'>_factory</span><span style = 'color:rgba(253,10,10,0.23113568723201752)'>_(are</span><span style = 'color:rgba(253,10,10,0.23796230554580688)'>_there</span><span style = 'color:rgba(253,10,10,0.23113568723201752)'>_any</span><span style = 'color:rgba(253,10,10,0.23113568723201752)'>_else</span><span style = 'color:rgba(253,10,10,0.23113568723201752)'>_in</span><span style = 'color:rgba(253,10,10,0.23796230554580688)'>_Hollywood?)</span><span style = 'color:rgba(253,10,10,0.253712809085846)'>_polluting</span>"
      ],
      "text/plain": [
       "<IPython.core.display.HTML object>"
      ]
     },
     "metadata": {},
     "output_type": "display_data"
    },
    {
     "name": "stdout",
     "output_type": "stream",
     "text": [
      "label:1.0\t guess:1.0\n"
     ]
    },
    {
     "data": {
      "text/html": [
       "<span style = 'color:rgba(253,10,253,0.22823113799095154)'>_My</span><span style = 'color:rgba(253,10,253,0.22823113799095154)'>_wife</span><span style = 'color:rgba(253,10,253,0.22823113799095154)'>_and</span><span style = 'color:rgba(253,10,253,0.22823113799095154)'>_I</span><span style = 'color:rgba(253,10,253,0.23382740020751955)'>_have</span><span style = 'color:rgba(253,10,253,0.34884756803512573)'>_watched</span><span style = 'color:rgba(253,10,253,0.23727974593639375)'>_this</span><span style = 'color:rgba(253,10,253,0.24288972914218904)'>_whole</span><span style = 'color:rgba(253,10,253,0.26443735361099246)'>_series</span><span style = 'color:rgba(253,10,253,0.22823113799095154)'>_at</span><span style = 'color:rgba(253,10,253,0.22823113799095154)'>_least</span><span style = 'color:rgba(253,10,253,0.24368199706077576)'>_three</span><span style = 'color:rgba(253,10,253,0.22823113799095154)'>_times.</span><span style = 'color:rgba(253,10,253,0.22823113799095154)'>_I</span><span style = 'color:rgba(253,10,253,0.2425394207239151)'>_can't</span><span style = 'color:rgba(253,10,253,0.22823113799095154)'>_imagine</span><span style = 'color:rgba(253,10,253,0.22823113799095154)'>_how</span><span style = 'color:rgba(253,10,253,0.22823113799095154)'>_it</span><span style = 'color:rgba(253,10,253,0.2428673356771469)'>_could</span><span style = 'color:rgba(253,10,253,0.23308690190315248)'>_be</span>"
      ],
      "text/plain": [
       "<IPython.core.display.HTML object>"
      ]
     },
     "metadata": {},
     "output_type": "display_data"
    },
    {
     "data": {
      "text/html": [
       "<span style = 'color:rgba(253,10,10,0.24982703030109407)'>_My</span><span style = 'color:rgba(253,10,10,0.24024056792259219)'>_wife</span><span style = 'color:rgba(253,10,10,0.25221601724624637)'>_and</span><span style = 'color:rgba(253,10,10,0.23101843893527985)'>_I</span><span style = 'color:rgba(253,10,10,0.22328668534755708)'>_have</span><span style = 'color:rgba(253,10,10,0.22328668534755708)'>_watched</span><span style = 'color:rgba(253,10,10,0.22328668534755708)'>_this</span><span style = 'color:rgba(253,10,10,0.22328668534755708)'>_whole</span><span style = 'color:rgba(253,10,10,0.22328668534755708)'>_series</span><span style = 'color:rgba(253,10,10,0.22544492781162262)'>_at</span><span style = 'color:rgba(253,10,10,0.3336473345756531)'>_least</span><span style = 'color:rgba(253,10,10,0.22328668534755708)'>_three</span><span style = 'color:rgba(253,10,10,0.29323284626007085)'>_times.</span><span style = 'color:rgba(253,10,10,0.23101843893527985)'>_I</span><span style = 'color:rgba(253,10,10,0.22328668534755708)'>_can't</span><span style = 'color:rgba(253,10,10,0.24824306070804597)'>_imagine</span><span style = 'color:rgba(253,10,10,0.2502484142780304)'>_how</span><span style = 'color:rgba(253,10,10,0.23528277277946474)'>_it</span><span style = 'color:rgba(253,10,10,0.22328668534755708)'>_could</span><span style = 'color:rgba(253,10,10,0.22328668534755708)'>_be</span>"
      ],
      "text/plain": [
       "<IPython.core.display.HTML object>"
      ]
     },
     "metadata": {},
     "output_type": "display_data"
    },
    {
     "name": "stdout",
     "output_type": "stream",
     "text": [
      "label:0.0\t guess:0.0\n"
     ]
    },
    {
     "data": {
      "text/html": [
       "<span style = 'color:rgba(253,10,253,0.22411288917064667)'>_If</span><span style = 'color:rgba(253,10,253,0.22411288917064667)'>_you</span><span style = 'color:rgba(253,10,253,0.27771014571189884)'>_haven't</span><span style = 'color:rgba(253,10,253,0.22411288917064667)'>_seen</span><span style = 'color:rgba(253,10,253,0.2345486730337143)'>_this,</span><span style = 'color:rgba(253,10,253,0.2415559470653534)'>_it's</span><span style = 'color:rgba(253,10,253,0.3013885736465454)'>_terrible.</span><span style = 'color:rgba(253,10,253,0.22411288917064667)'>_It</span><span style = 'color:rgba(253,10,253,0.22411288917064667)'>_is</span><span style = 'color:rgba(253,10,253,0.2418648898601532)'>_pure</span><span style = 'color:rgba(253,10,253,0.2754501819610596)'>_trash.</span><span style = 'color:rgba(253,10,253,0.22411288917064667)'>_I</span><span style = 'color:rgba(253,10,253,0.2387328624725342)'>_saw</span><span style = 'color:rgba(253,10,253,0.23184152245521547)'>_this</span><span style = 'color:rgba(253,10,253,0.23419560492038727)'>_about</span><span style = 'color:rgba(253,10,253,0.22411288917064667)'>_17</span><span style = 'color:rgba(253,10,253,0.22411288917064667)'>_years</span><span style = 'color:rgba(253,10,253,0.26956806778907777)'>_ago,</span><span style = 'color:rgba(253,10,253,0.22411288917064667)'>_and</span><span style = 'color:rgba(253,10,253,0.23612754046916962)'>_I'm</span>"
      ],
      "text/plain": [
       "<IPython.core.display.HTML object>"
      ]
     },
     "metadata": {},
     "output_type": "display_data"
    },
    {
     "data": {
      "text/html": [
       "<span style = 'color:rgba(253,10,10,0.23804816603660583)'>_If</span><span style = 'color:rgba(253,10,10,0.2539462983608246)'>_you</span><span style = 'color:rgba(253,10,10,0.22835911214351656)'>_haven't</span><span style = 'color:rgba(253,10,10,0.26919321417808534)'>_seen</span><span style = 'color:rgba(253,10,10,0.22835911214351656)'>_this,</span><span style = 'color:rgba(253,10,10,0.22835911214351656)'>_it's</span><span style = 'color:rgba(253,10,10,0.22835911214351656)'>_terrible.</span><span style = 'color:rgba(253,10,10,0.23793047666549683)'>_It</span><span style = 'color:rgba(253,10,10,0.25485941767692566)'>_is</span><span style = 'color:rgba(253,10,10,0.22835911214351656)'>_pure</span><span style = 'color:rgba(253,10,10,0.22835911214351656)'>_trash.</span><span style = 'color:rgba(253,10,10,0.23777503967285157)'>_I</span><span style = 'color:rgba(253,10,10,0.22835911214351656)'>_saw</span><span style = 'color:rgba(253,10,10,0.22835911214351656)'>_this</span><span style = 'color:rgba(253,10,10,0.22835911214351656)'>_about</span><span style = 'color:rgba(253,10,10,0.2798348605632782)'>_17</span><span style = 'color:rgba(253,10,10,0.25287232995033265)'>_years</span><span style = 'color:rgba(253,10,10,0.22835911214351656)'>_ago,</span><span style = 'color:rgba(253,10,10,0.2635899782180786)'>_and</span><span style = 'color:rgba(253,10,10,0.22835911214351656)'>_I'm</span>"
      ],
      "text/plain": [
       "<IPython.core.display.HTML object>"
      ]
     },
     "metadata": {},
     "output_type": "display_data"
    },
    {
     "name": "stdout",
     "output_type": "stream",
     "text": [
      "label:0.0\t guess:0.0\n"
     ]
    },
    {
     "data": {
      "text/html": [
       "<span style = 'color:rgba(253,10,253,0.2286632925271988)'>_The</span><span style = 'color:rgba(253,10,253,0.2810909688472748)'>_clichd</span><span style = 'color:rgba(253,10,253,0.22272709459066392)'>_Polynesian</span><span style = 'color:rgba(253,10,253,0.22272709459066392)'>_males</span><span style = 'color:rgba(253,10,253,0.22272709459066392)'>_drink,</span><span style = 'color:rgba(253,10,253,0.22206306606531145)'>_fight</span><span style = 'color:rgba(253,10,253,0.22206306606531145)'>_and</span><span style = 'color:rgba(253,10,253,0.2369040995836258)'>_make</span><span style = 'color:rgba(253,10,253,0.22545299232006075)'>_a</span><span style = 'color:rgba(253,10,253,0.22272709459066392)'>_stream</span><span style = 'color:rgba(253,10,253,0.22206306606531145)'>_of</span><span style = 'color:rgba(253,10,253,0.22272709459066392)'>_sexist,</span><span style = 'color:rgba(253,10,253,0.29607455730438237)'>_stupid</span><span style = 'color:rgba(253,10,253,0.22206306606531145)'>_and</span><span style = 'color:rgba(253,10,253,0.4162370920181275)'>_unfunny</span><span style = 'color:rgba(253,10,253,0.22272709459066392)'>_remarks.</span><span style = 'color:rgba(253,10,253,0.22206306606531145)'>_Real</span><span style = 'color:rgba(253,10,253,0.22206306606531145)'>_life</span><span style = 'color:rgba(253,10,253,0.22272709459066392)'>_Polynesians</span><span style = 'color:rgba(253,10,253,0.22410896718502046)'>_are</span>"
      ],
      "text/plain": [
       "<IPython.core.display.HTML object>"
      ]
     },
     "metadata": {},
     "output_type": "display_data"
    },
    {
     "data": {
      "text/html": [
       "<span style = 'color:rgba(253,10,10,0.22849637866020203)'>_The</span><span style = 'color:rgba(253,10,10,0.22849637866020203)'>_clichd</span><span style = 'color:rgba(253,10,10,0.22849637866020203)'>_Polynesian</span><span style = 'color:rgba(253,10,10,0.22849637866020203)'>_males</span><span style = 'color:rgba(253,10,10,0.22849637866020203)'>_drink,</span><span style = 'color:rgba(253,10,10,0.2567379891872406)'>_fight</span><span style = 'color:rgba(253,10,10,0.26389777660369873)'>_and</span><span style = 'color:rgba(253,10,10,0.22849637866020203)'>_make</span><span style = 'color:rgba(253,10,10,0.22849637866020203)'>_a</span><span style = 'color:rgba(253,10,10,0.22849637866020203)'>_stream</span><span style = 'color:rgba(253,10,10,0.29908854961395265)'>_of</span><span style = 'color:rgba(253,10,10,0.22849637866020203)'>_sexist,</span><span style = 'color:rgba(253,10,10,0.22849637866020203)'>_stupid</span><span style = 'color:rgba(253,10,10,0.26389777660369873)'>_and</span><span style = 'color:rgba(253,10,10,0.22849637866020203)'>_unfunny</span><span style = 'color:rgba(253,10,10,0.22849637866020203)'>_remarks.</span><span style = 'color:rgba(253,10,10,0.25307742953300477)'>_Real</span><span style = 'color:rgba(253,10,10,0.2643511712551117)'>_life</span><span style = 'color:rgba(253,10,10,0.22849637866020203)'>_Polynesians</span><span style = 'color:rgba(253,10,10,0.22849637866020203)'>_are</span>"
      ],
      "text/plain": [
       "<IPython.core.display.HTML object>"
      ]
     },
     "metadata": {},
     "output_type": "display_data"
    },
    {
     "name": "stdout",
     "output_type": "stream",
     "text": [
      "label:1.0\t guess:1.0\n"
     ]
    },
    {
     "data": {
      "text/html": [
       "<span style = 'color:rgba(253,10,253,0.22693284451961518)'>_I</span><span style = 'color:rgba(253,10,253,0.22838218808174135)'>_found</span><span style = 'color:rgba(253,10,253,0.22693284451961518)'>_the</span><span style = 'color:rgba(253,10,253,0.2398502677679062)'>_storyline</span><span style = 'color:rgba(253,10,253,0.2352869063615799)'>_in</span><span style = 'color:rgba(253,10,253,0.23556531965732574)'>_this</span><span style = 'color:rgba(253,10,253,0.22693284451961518)'>_movie</span><span style = 'color:rgba(253,10,253,0.23175402879714968)'>_to</span><span style = 'color:rgba(253,10,253,0.23156529963016512)'>_be</span><span style = 'color:rgba(253,10,253,0.22693284451961518)'>_very</span><span style = 'color:rgba(253,10,253,0.22693284451961518)'>_interesting.</span><span style = 'color:rgba(253,10,253,0.38792771100997925)'>_Best</span><span style = 'color:rgba(253,10,253,0.22693284451961518)'>_of</span><span style = 'color:rgba(253,10,253,0.2506031930446625)'>_all</span><span style = 'color:rgba(253,10,253,0.22693284451961518)'>_it</span><span style = 'color:rgba(253,10,253,0.2604996085166931)'>_left</span><span style = 'color:rgba(253,10,253,0.22923703491687775)'>_out</span><span style = 'color:rgba(253,10,253,0.22693284451961518)'>_the</span><span style = 'color:rgba(253,10,253,0.22693284451961518)'>_usual</span><span style = 'color:rgba(253,10,253,0.22693284451961518)'>_sex</span>"
      ],
      "text/plain": [
       "<IPython.core.display.HTML object>"
      ]
     },
     "metadata": {},
     "output_type": "display_data"
    },
    {
     "data": {
      "text/html": [
       "<span style = 'color:rgba(253,10,10,0.23789895474910738)'>_I</span><span style = 'color:rgba(253,10,10,0.22845214009284975)'>_found</span><span style = 'color:rgba(253,10,10,0.23469037711620333)'>_the</span><span style = 'color:rgba(253,10,10,0.22845214009284975)'>_storyline</span><span style = 'color:rgba(253,10,10,0.22845214009284975)'>_in</span><span style = 'color:rgba(253,10,10,0.22845214009284975)'>_this</span><span style = 'color:rgba(253,10,10,0.24681243598461153)'>_movie</span><span style = 'color:rgba(253,10,10,0.22845214009284975)'>_to</span><span style = 'color:rgba(253,10,10,0.22845214009284975)'>_be</span><span style = 'color:rgba(253,10,10,0.2725735664367676)'>_very</span><span style = 'color:rgba(253,10,10,0.24750092327594758)'>_interesting.</span><span style = 'color:rgba(253,10,10,0.22845214009284975)'>_Best</span><span style = 'color:rgba(253,10,10,0.2989347159862519)'>_of</span><span style = 'color:rgba(253,10,10,0.22845214009284975)'>_all</span><span style = 'color:rgba(253,10,10,0.243109205365181)'>_it</span><span style = 'color:rgba(253,10,10,0.22845214009284975)'>_left</span><span style = 'color:rgba(253,10,10,0.22845214009284975)'>_out</span><span style = 'color:rgba(253,10,10,0.23469037711620333)'>_the</span><span style = 'color:rgba(253,10,10,0.2448548585176468)'>_usual</span><span style = 'color:rgba(253,10,10,0.2544131875038147)'>_sex</span>"
      ],
      "text/plain": [
       "<IPython.core.display.HTML object>"
      ]
     },
     "metadata": {},
     "output_type": "display_data"
    },
    {
     "name": "stdout",
     "output_type": "stream",
     "text": [
      "label:1.0\t guess:1.0\n"
     ]
    },
    {
     "data": {
      "text/html": [
       "<span style = 'color:rgba(253,10,253,0.24363884925842286)'>_A</span><span style = 'color:rgba(253,10,253,0.2348879337310791)'>_somewhat</span><span style = 'color:rgba(253,10,253,0.2359379529953003)'>_fictionalized</span><span style = 'color:rgba(253,10,253,0.2359379529953003)'>_biographical</span><span style = 'color:rgba(253,10,253,0.2348879337310791)'>_portrait</span><span style = 'color:rgba(253,10,253,0.2348879337310791)'>_of</span><span style = 'color:rgba(253,10,253,0.2359379529953003)'>_Abraham</span><span style = 'color:rgba(253,10,253,0.2359379529953003)'>_Lincoln's</span><span style = 'color:rgba(253,10,253,0.2501464307308197)'>_early</span><span style = 'color:rgba(253,10,253,0.2348879337310791)'>_years</span><span style = 'color:rgba(253,10,253,0.2746722579002381)'>_from</span><span style = 'color:rgba(253,10,253,0.2348879337310791)'>_Director</span><span style = 'color:rgba(253,10,253,0.25080370903015137)'>_John</span><span style = 'color:rgba(253,10,253,0.2359379529953003)'>_Ford,</span><span style = 'color:rgba(253,10,253,0.2359379529953003)'>_concentrating</span><span style = 'color:rgba(253,10,253,0.2349376231431961)'>_primarily</span><span style = 'color:rgba(253,10,253,0.2348879337310791)'>_on</span><span style = 'color:rgba(253,10,253,0.24024836719036102)'>_a</span><span style = 'color:rgba(253,10,253,0.2348879337310791)'>_trial</span><span style = 'color:rgba(253,10,253,0.24570951461791993)'>_in</span>"
      ],
      "text/plain": [
       "<IPython.core.display.HTML object>"
      ]
     },
     "metadata": {},
     "output_type": "display_data"
    },
    {
     "data": {
      "text/html": [
       "<span style = 'color:rgba(253,10,10,0.22681789100170135)'>_A</span><span style = 'color:rgba(253,10,10,0.28082951307296755)'>_somewhat</span><span style = 'color:rgba(253,10,10,0.22681789100170135)'>_fictionalized</span><span style = 'color:rgba(253,10,10,0.22681789100170135)'>_biographical</span><span style = 'color:rgba(253,10,10,0.2714152753353119)'>_portrait</span><span style = 'color:rgba(253,10,10,0.29325205087661743)'>_of</span><span style = 'color:rgba(253,10,10,0.22681789100170135)'>_Abraham</span><span style = 'color:rgba(253,10,10,0.22681789100170135)'>_Lincoln's</span><span style = 'color:rgba(253,10,10,0.22681789100170135)'>_early</span><span style = 'color:rgba(253,10,10,0.24999890327453614)'>_years</span><span style = 'color:rgba(253,10,10,0.22681789100170135)'>_from</span><span style = 'color:rgba(253,10,10,0.25709142684936526)'>_Director</span><span style = 'color:rgba(253,10,10,0.22681789100170135)'>_John</span><span style = 'color:rgba(253,10,10,0.22681789100170135)'>_Ford,</span><span style = 'color:rgba(253,10,10,0.22681789100170135)'>_concentrating</span><span style = 'color:rgba(253,10,10,0.22681789100170135)'>_primarily</span><span style = 'color:rgba(253,10,10,0.2268928349018097)'>_on</span><span style = 'color:rgba(253,10,10,0.22681789100170135)'>_a</span><span style = 'color:rgba(253,10,10,0.2718874275684357)'>_trial</span><span style = 'color:rgba(253,10,10,0.22681789100170135)'>_in</span>"
      ],
      "text/plain": [
       "<IPython.core.display.HTML object>"
      ]
     },
     "metadata": {},
     "output_type": "display_data"
    },
    {
     "name": "stdout",
     "output_type": "stream",
     "text": [
      "label:0.0\t guess:0.0\n"
     ]
    },
    {
     "data": {
      "text/html": [
       "<span style = 'color:rgba(253,10,253,0.2224062666296959)'>_Revolutions</span><span style = 'color:rgba(253,10,253,0.22175161093473436)'>_always</span><span style = 'color:rgba(253,10,253,0.253810316324234)'>_present</span><span style = 'color:rgba(253,10,253,0.2224062666296959)'>_opportunities</span><span style = 'color:rgba(253,10,253,0.22767860293388367)'>_for</span><span style = 'color:rgba(253,10,253,0.2805578410625458)'>_dramatic</span><span style = 'color:rgba(253,10,253,0.22175161093473436)'>_films</span><span style = 'color:rgba(253,10,253,0.2224062666296959)'>_since,</span><span style = 'color:rgba(253,10,253,0.22849855422973633)'>_in</span><span style = 'color:rgba(253,10,253,0.2997535049915314)'>_fact,</span><span style = 'color:rgba(253,10,253,0.22175161093473436)'>_most</span><span style = 'color:rgba(253,10,253,0.2224062666296959)'>_revolutions</span><span style = 'color:rgba(253,10,253,0.2237686276435852)'>_are</span><span style = 'color:rgba(253,10,253,0.22849855422973633)'>_in</span><span style = 'color:rgba(253,10,253,0.22175161093473436)'>_themselves</span><span style = 'color:rgba(253,10,253,0.2805578410625458)'>_dramatic</span><span style = 'color:rgba(253,10,253,0.2224062666296959)'>_events.</span><span style = 'color:rgba(253,10,253,0.31742072105407715)'>_Unfortunately,</span><span style = 'color:rgba(253,10,253,0.23169420659542084)'>_what</span><span style = 'color:rgba(253,10,253,0.228723406791687)'>_this</span>"
      ],
      "text/plain": [
       "<IPython.core.display.HTML object>"
      ]
     },
     "metadata": {},
     "output_type": "display_data"
    },
    {
     "data": {
      "text/html": [
       "<span style = 'color:rgba(253,10,10,0.22924448549747467)'>_Revolutions</span><span style = 'color:rgba(253,10,10,0.36054222583770756)'>_always</span><span style = 'color:rgba(253,10,10,0.22924448549747467)'>_present</span><span style = 'color:rgba(253,10,10,0.22924448549747467)'>_opportunities</span><span style = 'color:rgba(253,10,10,0.22924448549747467)'>_for</span><span style = 'color:rgba(253,10,10,0.22924448549747467)'>_dramatic</span><span style = 'color:rgba(253,10,10,0.23334397077560426)'>_films</span><span style = 'color:rgba(253,10,10,0.22924448549747467)'>_since,</span><span style = 'color:rgba(253,10,10,0.22924448549747467)'>_in</span><span style = 'color:rgba(253,10,10,0.22924448549747467)'>_fact,</span><span style = 'color:rgba(253,10,10,0.2452403247356415)'>_most</span><span style = 'color:rgba(253,10,10,0.22924448549747467)'>_revolutions</span><span style = 'color:rgba(253,10,10,0.22924448549747467)'>_are</span><span style = 'color:rgba(253,10,10,0.22924448549747467)'>_in</span><span style = 'color:rgba(253,10,10,0.29296171069145205)'>_themselves</span><span style = 'color:rgba(253,10,10,0.22924448549747467)'>_dramatic</span><span style = 'color:rgba(253,10,10,0.22924448549747467)'>_events.</span><span style = 'color:rgba(253,10,10,0.22924448549747467)'>_Unfortunately,</span><span style = 'color:rgba(253,10,10,0.22924448549747467)'>_what</span><span style = 'color:rgba(253,10,10,0.22924448549747467)'>_this</span>"
      ],
      "text/plain": [
       "<IPython.core.display.HTML object>"
      ]
     },
     "metadata": {},
     "output_type": "display_data"
    },
    {
     "name": "stdout",
     "output_type": "stream",
     "text": [
      "label:0.0\t guess:0.0\n"
     ]
    },
    {
     "data": {
      "text/html": [
       "<span style = 'color:rgba(253,10,253,0.2216015622019768)'>_This</span><span style = 'color:rgba(253,10,253,0.2216015622019768)'>_is</span><span style = 'color:rgba(253,10,253,0.26100110411643984)'>_meant</span><span style = 'color:rgba(253,10,253,0.22546840608119967)'>_to</span><span style = 'color:rgba(253,10,253,0.2253170371055603)'>_be</span><span style = 'color:rgba(253,10,253,0.22492058128118517)'>_a</span><span style = 'color:rgba(253,10,253,0.2216015622019768)'>_comedy</span><span style = 'color:rgba(253,10,253,0.2216015622019768)'>_but</span><span style = 'color:rgba(253,10,253,0.2216015622019768)'>_mainly</span><span style = 'color:rgba(253,10,253,0.4016119480133057)'>_bad</span><span style = 'color:rgba(253,10,253,0.22225170135498049)'>_taste,</span><span style = 'color:rgba(253,10,253,0.2216015622019768)'>_and</span><span style = 'color:rgba(253,10,253,0.2216015622019768)'>_nothing</span><span style = 'color:rgba(253,10,253,0.2599510788917542)'>_remotely</span><span style = 'color:rgba(253,10,253,0.2216015622019768)'>_causing</span><span style = 'color:rgba(253,10,253,0.22492058128118517)'>_a</span><span style = 'color:rgba(253,10,253,0.2216015622019768)'>_smile</span><span style = 'color:rgba(253,10,253,0.22830196022987367)'>_in</span><span style = 'color:rgba(253,10,253,0.2216015622019768)'>_the</span><span style = 'color:rgba(253,10,253,0.3102400183677674)'>_film.</span>"
      ],
      "text/plain": [
       "<IPython.core.display.HTML object>"
      ]
     },
     "metadata": {},
     "output_type": "display_data"
    },
    {
     "data": {
      "text/html": [
       "<span style = 'color:rgba(253,10,10,0.2331795632839203)'>_This</span><span style = 'color:rgba(253,10,10,0.2520105600357056)'>_is</span><span style = 'color:rgba(253,10,10,0.22688641846179963)'>_meant</span><span style = 'color:rgba(253,10,10,0.22688641846179963)'>_to</span><span style = 'color:rgba(253,10,10,0.22688641846179963)'>_be</span><span style = 'color:rgba(253,10,10,0.22688641846179963)'>_a</span><span style = 'color:rgba(253,10,10,0.25364258885383606)'>_comedy</span><span style = 'color:rgba(253,10,10,0.24080054461956024)'>_but</span><span style = 'color:rgba(253,10,10,0.23445005416870118)'>_mainly</span><span style = 'color:rgba(253,10,10,0.22688641846179963)'>_bad</span><span style = 'color:rgba(253,10,10,0.22688641846179963)'>_taste,</span><span style = 'color:rgba(253,10,10,0.26028773784637455)'>_and</span><span style = 'color:rgba(253,10,10,0.3180096983909607)'>_nothing</span><span style = 'color:rgba(253,10,10,0.22688641846179963)'>_remotely</span><span style = 'color:rgba(253,10,10,0.24240307807922365)'>_causing</span><span style = 'color:rgba(253,10,10,0.22688641846179963)'>_a</span><span style = 'color:rgba(253,10,10,0.2635706126689911)'>_smile</span><span style = 'color:rgba(253,10,10,0.22688641846179963)'>_in</span><span style = 'color:rgba(253,10,10,0.23278136551380157)'>_the</span><span style = 'color:rgba(253,10,10,0.22688641846179963)'>_film.</span>"
      ],
      "text/plain": [
       "<IPython.core.display.HTML object>"
      ]
     },
     "metadata": {},
     "output_type": "display_data"
    },
    {
     "name": "stdout",
     "output_type": "stream",
     "text": [
      "label:0.0\t guess:0.0\n"
     ]
    },
    {
     "data": {
      "text/html": [
       "<span style = 'color:rgba(253,10,253,0.26905987262725833)'>_My</span><span style = 'color:rgba(253,10,253,0.2184493362903595)'>_goodness</span><span style = 'color:rgba(253,10,253,0.23129641413688662)'>_is</span><span style = 'color:rgba(253,10,253,0.21791029423475267)'>_this</span><span style = 'color:rgba(253,10,253,0.2184493362903595)'>_movie</span><span style = 'color:rgba(253,10,253,0.23282090425491334)'>_bad.</span><span style = 'color:rgba(253,10,253,0.21791029423475267)'>_I</span><span style = 'color:rgba(253,10,253,0.21791029423475267)'>_was</span><span style = 'color:rgba(253,10,253,0.23311949074268343)'>_totally</span><span style = 'color:rgba(253,10,253,0.3272659182548523)'>_misled</span><span style = 'color:rgba(253,10,253,0.21791029423475267)'>_by</span><span style = 'color:rgba(253,10,253,0.2399277299642563)'>_my</span><span style = 'color:rgba(253,10,253,0.21791029423475267)'>_local</span><span style = 'color:rgba(253,10,253,0.23953565061092377)'>_movie</span><span style = 'color:rgba(253,10,253,0.21791029423475267)'>_review</span><span style = 'color:rgba(253,10,253,0.3671605587005615)'>_because</span><span style = 'color:rgba(253,10,253,0.2184493362903595)'>_this</span><span style = 'color:rgba(253,10,253,0.21791029423475267)'>_is</span><span style = 'color:rgba(253,10,253,0.21925992518663406)'>_certifiable</span><span style = 'color:rgba(253,10,253,0.25983347296714787)'>_garbage.</span>"
      ],
      "text/plain": [
       "<IPython.core.display.HTML object>"
      ]
     },
     "metadata": {},
     "output_type": "display_data"
    },
    {
     "data": {
      "text/html": [
       "<span style = 'color:rgba(253,10,10,0.23018517196178437)'>_My</span><span style = 'color:rgba(253,10,10,0.23018517196178437)'>_goodness</span><span style = 'color:rgba(253,10,10,0.23018517196178437)'>_is</span><span style = 'color:rgba(253,10,10,0.2962733626365662)'>_this</span><span style = 'color:rgba(253,10,10,0.23018517196178437)'>_movie</span><span style = 'color:rgba(253,10,10,0.23018517196178437)'>_bad.</span><span style = 'color:rgba(253,10,10,0.26835617423057556)'>_I</span><span style = 'color:rgba(253,10,10,0.26175016164779663)'>_was</span><span style = 'color:rgba(253,10,10,0.23018517196178437)'>_totally</span><span style = 'color:rgba(253,10,10,0.23018517196178437)'>_misled</span><span style = 'color:rgba(253,10,10,0.23680338561534883)'>_by</span><span style = 'color:rgba(253,10,10,0.23018517196178437)'>_my</span><span style = 'color:rgba(253,10,10,0.26768457889556885)'>_local</span><span style = 'color:rgba(253,10,10,0.23018517196178437)'>_movie</span><span style = 'color:rgba(253,10,10,0.23680338561534883)'>_review</span><span style = 'color:rgba(253,10,10,0.23018517196178437)'>_because</span><span style = 'color:rgba(253,10,10,0.23018517196178437)'>_this</span><span style = 'color:rgba(253,10,10,0.23992173075675965)'>_is</span><span style = 'color:rgba(253,10,10,0.23018517196178437)'>_certifiable</span><span style = 'color:rgba(253,10,10,0.23018517196178437)'>_garbage.</span>"
      ],
      "text/plain": [
       "<IPython.core.display.HTML object>"
      ]
     },
     "metadata": {},
     "output_type": "display_data"
    },
    {
     "name": "stdout",
     "output_type": "stream",
     "text": [
      "label:0.0\t guess:0.0\n"
     ]
    },
    {
     "data": {
      "text/html": [
       "<span style = 'color:rgba(253,10,253,0.23193317055702212)'>_This</span><span style = 'color:rgba(253,10,253,0.22191561162471773)'>_was</span><span style = 'color:rgba(253,10,253,0.22191561162471773)'>_disappointing.</span><span style = 'color:rgba(253,10,253,0.2608511507511139)'>_It</span><span style = 'color:rgba(253,10,253,0.2553622961044312)'>_started</span><span style = 'color:rgba(253,10,253,0.22191561162471773)'>_well</span><span style = 'color:rgba(253,10,253,0.23193317055702212)'>_enough</span><span style = 'color:rgba(253,10,253,0.22191561162471773)'>_but</span><span style = 'color:rgba(253,10,253,0.27240464687347415)'>_as</span><span style = 'color:rgba(253,10,253,0.22191561162471773)'>_it</span><span style = 'color:rgba(253,10,253,0.22191561162471773)'>_went</span><span style = 'color:rgba(253,10,253,0.27240464687347415)'>_on</span><span style = 'color:rgba(253,10,253,0.24582459330558779)'>_and</span><span style = 'color:rgba(253,10,253,0.22191561162471773)'>_lost</span><span style = 'color:rgba(253,10,253,0.22335919290781023)'>_every</span><span style = 'color:rgba(253,10,253,0.30080337524414064)'>_opportunity</span><span style = 'color:rgba(253,10,253,0.24004642963409425)'>_to</span><span style = 'color:rgba(253,10,253,0.22191561162471773)'>_soar,</span><span style = 'color:rgba(253,10,253,0.22191561162471773)'>_it</span><span style = 'color:rgba(253,10,253,0.26783685088157655)'>_fell</span>"
      ],
      "text/plain": [
       "<IPython.core.display.HTML object>"
      ]
     },
     "metadata": {},
     "output_type": "display_data"
    },
    {
     "data": {
      "text/html": [
       "<span style = 'color:rgba(253,10,10,0.23021372854709626)'>_This</span><span style = 'color:rgba(253,10,10,0.23117320835590363)'>_was</span><span style = 'color:rgba(253,10,10,0.24912695288658143)'>_disappointing.</span><span style = 'color:rgba(253,10,10,0.23021372854709626)'>_It</span><span style = 'color:rgba(253,10,10,0.23021372854709626)'>_started</span><span style = 'color:rgba(253,10,10,0.35474072694778447)'>_well</span><span style = 'color:rgba(253,10,10,0.23021372854709626)'>_enough</span><span style = 'color:rgba(253,10,10,0.23117320835590363)'>_but</span><span style = 'color:rgba(253,10,10,0.23021372854709626)'>_as</span><span style = 'color:rgba(253,10,10,0.23225125372409822)'>_it</span><span style = 'color:rgba(253,10,10,0.23117320835590363)'>_went</span><span style = 'color:rgba(253,10,10,0.23021372854709626)'>_on</span><span style = 'color:rgba(253,10,10,0.23021372854709626)'>_and</span><span style = 'color:rgba(253,10,10,0.24082609415054324)'>_lost</span><span style = 'color:rgba(253,10,10,0.23021372854709626)'>_every</span><span style = 'color:rgba(253,10,10,0.23021372854709626)'>_opportunity</span><span style = 'color:rgba(253,10,10,0.23021372854709626)'>_to</span><span style = 'color:rgba(253,10,10,0.2641703069210053)'>_soar,</span><span style = 'color:rgba(253,10,10,0.23301398158073428)'>_it</span><span style = 'color:rgba(253,10,10,0.23021372854709626)'>_fell</span>"
      ],
      "text/plain": [
       "<IPython.core.display.HTML object>"
      ]
     },
     "metadata": {},
     "output_type": "display_data"
    },
    {
     "name": "stdout",
     "output_type": "stream",
     "text": [
      "label:1.0\t guess:1.0\n"
     ]
    },
    {
     "data": {
      "text/html": [
       "<span style = 'color:rgba(253,10,253,0.236375230550766)'>_Trick</span><span style = 'color:rgba(253,10,253,0.2980489313602448)'>_or</span><span style = 'color:rgba(253,10,253,0.236375230550766)'>_Treat,</span><span style = 'color:rgba(253,10,253,0.236375230550766)'>_Quickie</span><span style = 'color:rgba(253,10,253,0.236375230550766)'>_Review</span><span style = 'color:rgba(253,10,253,0.2353124350309372)'>_This</span><span style = 'color:rgba(253,10,253,0.236375230550766)'>_zany</span><span style = 'color:rgba(253,10,253,0.236375230550766)'>_romp</span><span style = 'color:rgba(253,10,253,0.2353124350309372)'>_of</span><span style = 'color:rgba(253,10,253,0.2407380908727646)'>_a</span><span style = 'color:rgba(253,10,253,0.24309771955013276)'>_film</span><span style = 'color:rgba(253,10,253,0.2353124350309372)'>_revolves</span><span style = 'color:rgba(253,10,253,0.2353124350309372)'>_around</span><span style = 'color:rgba(253,10,253,0.2353124350309372)'>_the</span><span style = 'color:rgba(253,10,253,0.23840976655483248)'>_80's</span><span style = 'color:rgba(253,10,253,0.2415166050195694)'>_culture</span><span style = 'color:rgba(253,10,253,0.2353124350309372)'>_of</span><span style = 'color:rgba(253,10,253,0.236375230550766)'>_Heavy</span><span style = 'color:rgba(253,10,253,0.236375230550766)'>_Metal</span><span style = 'color:rgba(253,10,253,0.2353124350309372)'>_and</span>"
      ],
      "text/plain": [
       "<IPython.core.display.HTML object>"
      ]
     },
     "metadata": {},
     "output_type": "display_data"
    },
    {
     "data": {
      "text/html": [
       "<span style = 'color:rgba(253,10,10,0.22806021869182588)'>_Trick</span><span style = 'color:rgba(253,10,10,0.22806021869182588)'>_or</span><span style = 'color:rgba(253,10,10,0.22806021869182588)'>_Treat,</span><span style = 'color:rgba(253,10,10,0.22806021869182588)'>_Quickie</span><span style = 'color:rgba(253,10,10,0.22806021869182588)'>_Review</span><span style = 'color:rgba(253,10,10,0.23462810814380647)'>_This</span><span style = 'color:rgba(253,10,10,0.22806021869182588)'>_zany</span><span style = 'color:rgba(253,10,10,0.22806021869182588)'>_romp</span><span style = 'color:rgba(253,10,10,0.29757191538810734)'>_of</span><span style = 'color:rgba(253,10,10,0.22806021869182588)'>_a</span><span style = 'color:rgba(253,10,10,0.22806021869182588)'>_film</span><span style = 'color:rgba(253,10,10,0.23069770634174347)'>_revolves</span><span style = 'color:rgba(253,10,10,0.27761521339416506)'>_around</span><span style = 'color:rgba(253,10,10,0.23421252667903902)'>_the</span><span style = 'color:rgba(253,10,10,0.22806021869182588)'>_80's</span><span style = 'color:rgba(253,10,10,0.22806021869182588)'>_culture</span><span style = 'color:rgba(253,10,10,0.29757191538810734)'>_of</span><span style = 'color:rgba(253,10,10,0.22806021869182588)'>_Heavy</span><span style = 'color:rgba(253,10,10,0.22806021869182588)'>_Metal</span><span style = 'color:rgba(253,10,10,0.2629197716712952)'>_and</span>"
      ],
      "text/plain": [
       "<IPython.core.display.HTML object>"
      ]
     },
     "metadata": {},
     "output_type": "display_data"
    },
    {
     "name": "stdout",
     "output_type": "stream",
     "text": [
      "label:1.0\t guess:1.0\n"
     ]
    },
    {
     "data": {
      "text/html": [
       "<span style = 'color:rgba(253,10,253,0.22842265665531158)'>_I</span><span style = 'color:rgba(253,10,253,0.22842265665531158)'>_first</span><span style = 'color:rgba(253,10,253,0.24565569758415223)'>_saw</span><span style = 'color:rgba(253,10,253,0.23753264546394348)'>_this</span><span style = 'color:rgba(253,10,253,0.23472491204738619)'>_version</span><span style = 'color:rgba(253,10,253,0.22842265665531158)'>_of</span><span style = 'color:rgba(253,10,253,0.22842265665531158)'>_\"A</span><span style = 'color:rgba(253,10,253,0.27154606580734253)'>_Christmas</span><span style = 'color:rgba(253,10,253,0.2292780876159668)'>_Carol\"</span><span style = 'color:rgba(253,10,253,0.22842265665531158)'>_when</span><span style = 'color:rgba(253,10,253,0.22842265665531158)'>_it</span><span style = 'color:rgba(253,10,253,0.22842265665531158)'>_first</span><span style = 'color:rgba(253,10,253,0.30474559068679813)'>_appeared</span><span style = 'color:rgba(253,10,253,0.22842265665531158)'>_on</span><span style = 'color:rgba(253,10,253,0.29692422151565556)'>_television.</span><span style = 'color:rgba(253,10,253,0.22842265665531158)'>_I</span><span style = 'color:rgba(253,10,253,0.22842265665531158)'>_actually</span><span style = 'color:rgba(253,10,253,0.2292780876159668)'>_anticipated</span><span style = 'color:rgba(253,10,253,0.2376654773950577)'>_seeing</span><span style = 'color:rgba(253,10,253,0.22842265665531158)'>_the</span>"
      ],
      "text/plain": [
       "<IPython.core.display.HTML object>"
      ]
     },
     "metadata": {},
     "output_type": "display_data"
    },
    {
     "data": {
      "text/html": [
       "<span style = 'color:rgba(253,10,10,0.2358451306819916)'>_I</span><span style = 'color:rgba(253,10,10,0.2655828297138214)'>_first</span><span style = 'color:rgba(253,10,10,0.2269102603197098)'>_saw</span><span style = 'color:rgba(253,10,10,0.2269102603197098)'>_this</span><span style = 'color:rgba(253,10,10,0.2269102603197098)'>_version</span><span style = 'color:rgba(253,10,10,0.2935732424259186)'>_of</span><span style = 'color:rgba(253,10,10,0.2834289014339447)'>_\"A</span><span style = 'color:rgba(253,10,10,0.2269102603197098)'>_Christmas</span><span style = 'color:rgba(253,10,10,0.2269102603197098)'>_Carol\"</span><span style = 'color:rgba(253,10,10,0.24756965041160583)'>_when</span><span style = 'color:rgba(253,10,10,0.24077303111553194)'>_it</span><span style = 'color:rgba(253,10,10,0.2655828297138214)'>_first</span><span style = 'color:rgba(253,10,10,0.2269102603197098)'>_appeared</span><span style = 'color:rgba(253,10,10,0.2269854635000229)'>_on</span><span style = 'color:rgba(253,10,10,0.2269102603197098)'>_television.</span><span style = 'color:rgba(253,10,10,0.2358451306819916)'>_I</span><span style = 'color:rgba(253,10,10,0.2298110067844391)'>_actually</span><span style = 'color:rgba(253,10,10,0.2269102603197098)'>_anticipated</span><span style = 'color:rgba(253,10,10,0.2269102603197098)'>_seeing</span><span style = 'color:rgba(253,10,10,0.23281043469905854)'>_the</span>"
      ],
      "text/plain": [
       "<IPython.core.display.HTML object>"
      ]
     },
     "metadata": {},
     "output_type": "display_data"
    },
    {
     "name": "stdout",
     "output_type": "stream",
     "text": [
      "label:1.0\t guess:1.0\n"
     ]
    },
    {
     "data": {
      "text/html": [
       "<span style = 'color:rgba(253,10,253,0.24357933402061463)'>_The</span><span style = 'color:rgba(253,10,253,0.2573679864406586)'>_horse</span><span style = 'color:rgba(253,10,253,0.2335444301366806)'>_is</span><span style = 'color:rgba(253,10,253,0.2335444301366806)'>_indeed</span><span style = 'color:rgba(253,10,253,0.2386984407901764)'>_a</span><span style = 'color:rgba(253,10,253,0.2335444301366806)'>_fine</span><span style = 'color:rgba(253,10,253,0.23455401360988617)'>_animal.</span><span style = 'color:rgba(253,10,253,0.23455401360988617)'>_Picturesque</span><span style = 'color:rgba(253,10,253,0.23455401360988617)'>_depictions</span><span style = 'color:rgba(253,10,253,0.2335444301366806)'>_of</span><span style = 'color:rgba(253,10,253,0.2335444301366806)'>_wild</span><span style = 'color:rgba(253,10,253,0.23455401360988617)'>_horses</span><span style = 'color:rgba(253,10,253,0.2335444301366806)'>_and</span><span style = 'color:rgba(253,10,253,0.24737648069858553)'>_their</span><span style = 'color:rgba(253,10,253,0.2335444301366806)'>_grace</span><span style = 'color:rgba(253,10,253,0.25093526244163517)'>_could</span><span style = 'color:rgba(253,10,253,0.2633711159229279)'>_never</span><span style = 'color:rgba(253,10,253,0.24019394218921664)'>_have</span><span style = 'color:rgba(253,10,253,0.25190591216087344)'>_been</span><span style = 'color:rgba(253,10,253,0.2335444301366806)'>_more</span>"
      ],
      "text/plain": [
       "<IPython.core.display.HTML object>"
      ]
     },
     "metadata": {},
     "output_type": "display_data"
    },
    {
     "data": {
      "text/html": [
       "<span style = 'color:rgba(253,10,10,0.22793123722076417)'>_The</span><span style = 'color:rgba(253,10,10,0.22793123722076417)'>_horse</span><span style = 'color:rgba(253,10,10,0.2540317177772522)'>_is</span><span style = 'color:rgba(253,10,10,0.24175672829151154)'>_indeed</span><span style = 'color:rgba(253,10,10,0.22793123722076417)'>_a</span><span style = 'color:rgba(253,10,10,0.2690448462963104)'>_fine</span><span style = 'color:rgba(253,10,10,0.22793123722076417)'>_animal.</span><span style = 'color:rgba(253,10,10,0.22793123722076417)'>_Picturesque</span><span style = 'color:rgba(253,10,10,0.22793123722076417)'>_depictions</span><span style = 'color:rgba(253,10,10,0.2971234142780304)'>_of</span><span style = 'color:rgba(253,10,10,0.24309745132923127)'>_wild</span><span style = 'color:rgba(253,10,10,0.22793123722076417)'>_horses</span><span style = 'color:rgba(253,10,10,0.26263055205345154)'>_and</span><span style = 'color:rgba(253,10,10,0.22793123722076417)'>_their</span><span style = 'color:rgba(253,10,10,0.2299630254507065)'>_grace</span><span style = 'color:rgba(253,10,10,0.22793123722076417)'>_could</span><span style = 'color:rgba(253,10,10,0.22793123722076417)'>_never</span><span style = 'color:rgba(253,10,10,0.22793123722076417)'>_have</span><span style = 'color:rgba(253,10,10,0.22793123722076417)'>_been</span><span style = 'color:rgba(253,10,10,0.26717743277549744)'>_more</span>"
      ],
      "text/plain": [
       "<IPython.core.display.HTML object>"
      ]
     },
     "metadata": {},
     "output_type": "display_data"
    },
    {
     "name": "stdout",
     "output_type": "stream",
     "text": [
      "label:1.0\t guess:1.0\n"
     ]
    },
    {
     "data": {
      "text/html": [
       "<span style = 'color:rgba(253,10,253,0.22714942097663882)'>_Corean</span><span style = 'color:rgba(253,10,253,0.2552316248416901)'>_cinema</span><span style = 'color:rgba(253,10,253,0.23200937509536745)'>_can</span><span style = 'color:rgba(253,10,253,0.23934969604015352)'>_be</span><span style = 'color:rgba(253,10,253,0.22796653509140016)'>_quite</span><span style = 'color:rgba(253,10,253,0.2495329797267914)'>_surprising</span><span style = 'color:rgba(253,10,253,0.3088979125022888)'>_for</span><span style = 'color:rgba(253,10,253,0.24831128716468812)'>_an</span><span style = 'color:rgba(253,10,253,0.2343852996826172)'>_occidental</span><span style = 'color:rgba(253,10,253,0.22714942097663882)'>_audience,</span><span style = 'color:rgba(253,10,253,0.22714942097663882)'>_because</span><span style = 'color:rgba(253,10,253,0.22796653509140016)'>_of</span><span style = 'color:rgba(253,10,253,0.22714942097663882)'>_the</span><span style = 'color:rgba(253,10,253,0.22714942097663882)'>_multiplicity</span><span style = 'color:rgba(253,10,253,0.22714942097663882)'>_of</span><span style = 'color:rgba(253,10,253,0.22796653509140016)'>_the</span><span style = 'color:rgba(253,10,253,0.24678907990455629)'>_tones</span><span style = 'color:rgba(253,10,253,0.22714942097663882)'>_and</span><span style = 'color:rgba(253,10,253,0.23200937509536745)'>_genres</span><span style = 'color:rgba(253,10,253,0.2795378386974335)'>_you</span>"
      ],
      "text/plain": [
       "<IPython.core.display.HTML object>"
      ]
     },
     "metadata": {},
     "output_type": "display_data"
    },
    {
     "data": {
      "text/html": [
       "<span style = 'color:rgba(253,10,10,0.2443331003189087)'>_Corean</span><span style = 'color:rgba(253,10,10,0.22694522440433504)'>_cinema</span><span style = 'color:rgba(253,10,10,0.22694522440433504)'>_can</span><span style = 'color:rgba(253,10,10,0.22694522440433504)'>_be</span><span style = 'color:rgba(253,10,10,0.22694522440433504)'>_quite</span><span style = 'color:rgba(253,10,10,0.22694522440433504)'>_surprising</span><span style = 'color:rgba(253,10,10,0.22694522440433504)'>_for</span><span style = 'color:rgba(253,10,10,0.22694522440433504)'>_an</span><span style = 'color:rgba(253,10,10,0.22694522440433504)'>_occidental</span><span style = 'color:rgba(253,10,10,0.24082600176334382)'>_audience,</span><span style = 'color:rgba(253,10,10,0.3498340010643005)'>_because</span><span style = 'color:rgba(253,10,10,0.22694522440433504)'>_of</span><span style = 'color:rgba(253,10,10,0.2336691349744797)'>_the</span><span style = 'color:rgba(253,10,10,0.22702052593231203)'>_multiplicity</span><span style = 'color:rgba(253,10,10,0.23285306394100191)'>_of</span><span style = 'color:rgba(253,10,10,0.22694522440433504)'>_the</span><span style = 'color:rgba(253,10,10,0.22694522440433504)'>_tones</span><span style = 'color:rgba(253,10,10,0.32117627859115605)'>_and</span><span style = 'color:rgba(253,10,10,0.22694522440433504)'>_genres</span><span style = 'color:rgba(253,10,10,0.22694522440433504)'>_you</span>"
      ],
      "text/plain": [
       "<IPython.core.display.HTML object>"
      ]
     },
     "metadata": {},
     "output_type": "display_data"
    },
    {
     "name": "stdout",
     "output_type": "stream",
     "text": [
      "label:1.0\t guess:1.0\n"
     ]
    },
    {
     "data": {
      "text/html": [
       "<span style = 'color:rgba(253,10,253,0.25024764537811284)'>_I</span><span style = 'color:rgba(253,10,253,0.23729562759399414)'>_had</span><span style = 'color:rgba(253,10,253,0.23390150666236878)'>_the</span><span style = 'color:rgba(253,10,253,0.2630526959896088)'>_privilege</span><span style = 'color:rgba(253,10,253,0.24441711604595184)'>_of</span><span style = 'color:rgba(253,10,253,0.23911037743091584)'>_watching</span><span style = 'color:rgba(253,10,253,0.23404568433761597)'>_Scarface</span><span style = 'color:rgba(253,10,253,0.24293695390224457)'>_on</span><span style = 'color:rgba(253,10,253,0.23390150666236878)'>_the</span><span style = 'color:rgba(253,10,253,0.23390150666236878)'>_big</span><span style = 'color:rgba(253,10,253,0.23492183685302737)'>_screen</span><span style = 'color:rgba(253,10,253,0.2725609600543976)'>_with</span><span style = 'color:rgba(253,10,253,0.23390150666236878)'>_its</span><span style = 'color:rgba(253,10,253,0.24137572646141053)'>_beautifully</span><span style = 'color:rgba(253,10,253,0.23390150666236878)'>_restored</span><span style = 'color:rgba(253,10,253,0.23390150666236878)'>_35mm</span><span style = 'color:rgba(253,10,253,0.23390150666236878)'>_print</span><span style = 'color:rgba(253,10,253,0.23390150666236878)'>_in</span><span style = 'color:rgba(253,10,253,0.23492183685302737)'>_honor</span><span style = 'color:rgba(253,10,253,0.23390150666236878)'>_of</span>"
      ],
      "text/plain": [
       "<IPython.core.display.HTML object>"
      ]
     },
     "metadata": {},
     "output_type": "display_data"
    },
    {
     "data": {
      "text/html": [
       "<span style = 'color:rgba(253,10,10,0.2264719009399414)'>_I</span><span style = 'color:rgba(253,10,10,0.2264719009399414)'>_had</span><span style = 'color:rgba(253,10,10,0.23602073192596437)'>_the</span><span style = 'color:rgba(253,10,10,0.2264719009399414)'>_privilege</span><span style = 'color:rgba(253,10,10,0.2264719009399414)'>_of</span><span style = 'color:rgba(253,10,10,0.2264719009399414)'>_watching</span><span style = 'color:rgba(253,10,10,0.2264719009399414)'>_Scarface</span><span style = 'color:rgba(253,10,10,0.2264719009399414)'>_on</span><span style = 'color:rgba(253,10,10,0.2748116493225098)'>_the</span><span style = 'color:rgba(253,10,10,0.2322759658098221)'>_big</span><span style = 'color:rgba(253,10,10,0.2264719009399414)'>_screen</span><span style = 'color:rgba(253,10,10,0.2264719009399414)'>_with</span><span style = 'color:rgba(253,10,10,0.2322759658098221)'>_its</span><span style = 'color:rgba(253,10,10,0.2264719009399414)'>_beautifully</span><span style = 'color:rgba(253,10,10,0.29204896688461307)'>_restored</span><span style = 'color:rgba(253,10,10,0.28343572020530705)'>_35mm</span><span style = 'color:rgba(253,10,10,0.26317551732063293)'>_print</span><span style = 'color:rgba(253,10,10,0.25935826897621156)'>_in</span><span style = 'color:rgba(253,10,10,0.2264719009399414)'>_honor</span><span style = 'color:rgba(253,10,10,0.2354063242673874)'>_of</span>"
      ],
      "text/plain": [
       "<IPython.core.display.HTML object>"
      ]
     },
     "metadata": {},
     "output_type": "display_data"
    },
    {
     "name": "stdout",
     "output_type": "stream",
     "text": [
      "label:0.0\t guess:0.0\n"
     ]
    },
    {
     "data": {
      "text/html": [
       "<span style = 'color:rgba(253,10,253,0.22882835865020754)'>_Alright</span><span style = 'color:rgba(253,10,253,0.2279860615730286)'>_if</span><span style = 'color:rgba(253,10,253,0.2279860615730286)'>_you</span><span style = 'color:rgba(253,10,253,0.2356058269739151)'>_want</span><span style = 'color:rgba(253,10,253,0.23299578428268433)'>_to</span><span style = 'color:rgba(253,10,253,0.23861842155456545)'>_go</span><span style = 'color:rgba(253,10,253,0.28198889493942264)'>_see</span><span style = 'color:rgba(253,10,253,0.2369561165571213)'>_this</span><span style = 'color:rgba(253,10,253,0.2279860615730286)'>_movie</span><span style = 'color:rgba(253,10,253,0.27651265263557434)'>_just</span><span style = 'color:rgba(253,10,253,0.24326076209545136)'>_give</span><span style = 'color:rgba(253,10,253,0.2279860615730286)'>_me</span><span style = 'color:rgba(253,10,253,0.24422620534896852)'>_our</span><span style = 'color:rgba(253,10,253,0.2630949199199677)'>_money</span><span style = 'color:rgba(253,10,253,0.22882835865020754)'>_I'll<br</span><span style = 'color:rgba(253,10,253,0.2537748992443085)'>_/><br</span><span style = 'color:rgba(253,10,253,0.22882835865020754)'>_/>kick</span><span style = 'color:rgba(253,10,253,0.2279860615730286)'>_you</span><span style = 'color:rgba(253,10,253,0.2385640472173691)'>_were</span><span style = 'color:rgba(253,10,253,0.2279860615730286)'>_it</span>"
      ],
      "text/plain": [
       "<IPython.core.display.HTML object>"
      ]
     },
     "metadata": {},
     "output_type": "display_data"
    },
    {
     "data": {
      "text/html": [
       "<span style = 'color:rgba(253,10,10,0.2338105380535126)'>_Alright</span><span style = 'color:rgba(253,10,10,0.2484893321990967)'>_if</span><span style = 'color:rgba(253,10,10,0.2643163084983826)'>_you</span><span style = 'color:rgba(253,10,10,0.2338105380535126)'>_want</span><span style = 'color:rgba(253,10,10,0.2338105380535126)'>_to</span><span style = 'color:rgba(253,10,10,0.2338105380535126)'>_go</span><span style = 'color:rgba(253,10,10,0.2338105380535126)'>_see</span><span style = 'color:rgba(253,10,10,0.2338105380535126)'>_this</span><span style = 'color:rgba(253,10,10,0.25562862753868104)'>_movie</span><span style = 'color:rgba(253,10,10,0.2338105380535126)'>_just</span><span style = 'color:rgba(253,10,10,0.2338105380535126)'>_give</span><span style = 'color:rgba(253,10,10,0.2426739662885666)'>_me</span><span style = 'color:rgba(253,10,10,0.2338105380535126)'>_our</span><span style = 'color:rgba(253,10,10,0.2338105380535126)'>_money</span><span style = 'color:rgba(253,10,10,0.2338105380535126)'>_I'll<br</span><span style = 'color:rgba(253,10,10,0.2338105380535126)'>_/><br</span><span style = 'color:rgba(253,10,10,0.2338105380535126)'>_/>kick</span><span style = 'color:rgba(253,10,10,0.2643163084983826)'>_you</span><span style = 'color:rgba(253,10,10,0.2338105380535126)'>_were</span><span style = 'color:rgba(253,10,10,0.25122796893119814)'>_it</span>"
      ],
      "text/plain": [
       "<IPython.core.display.HTML object>"
      ]
     },
     "metadata": {},
     "output_type": "display_data"
    },
    {
     "name": "stdout",
     "output_type": "stream",
     "text": [
      "label:1.0\t guess:1.0\n"
     ]
    },
    {
     "data": {
      "text/html": [
       "<span style = 'color:rgba(253,10,253,0.2482744574546814)'>_Here,</span><span style = 'color:rgba(253,10,253,0.2327485501766205)'>_on</span><span style = 'color:rgba(253,10,253,0.23373418152332306)'>_IMDb.com</span><span style = 'color:rgba(253,10,253,0.2327485501766205)'>_I</span><span style = 'color:rgba(253,10,253,0.28919218778610234)'>_read</span><span style = 'color:rgba(253,10,253,0.2327485501766205)'>_an</span><span style = 'color:rgba(253,10,253,0.2327485501766205)'>_opinion,</span><span style = 'color:rgba(253,10,253,0.24147671461105347)'>_that</span><span style = 'color:rgba(253,10,253,0.23373418152332306)'>_Grey</span><span style = 'color:rgba(253,10,253,0.23373418152332306)'>_Owl</span><span style = 'color:rgba(253,10,253,0.2327485501766205)'>_is</span><span style = 'color:rgba(253,10,253,0.2327485501766205)'>_best</span><span style = 'color:rgba(253,10,253,0.24306311905384065)'>_character</span><span style = 'color:rgba(253,10,253,0.2327485501766205)'>_of</span><span style = 'color:rgba(253,10,253,0.23373418152332306)'>_Pierce</span><span style = 'color:rgba(253,10,253,0.23373418152332306)'>_Brosnan</span><span style = 'color:rgba(253,10,253,0.27464860677719116)'>_ever</span><span style = 'color:rgba(253,10,253,0.23373418152332306)'>_performed.</span><span style = 'color:rgba(253,10,253,0.2327485501766205)'>_I</span><span style = 'color:rgba(253,10,253,0.2389514446258545)'>_do</span>"
      ],
      "text/plain": [
       "<IPython.core.display.HTML object>"
      ]
     },
     "metadata": {},
     "output_type": "display_data"
    },
    {
     "data": {
      "text/html": [
       "<span style = 'color:rgba(253,10,10,0.22539121806621554)'>_Here,</span><span style = 'color:rgba(253,10,10,0.22546217739582064)'>_on</span><span style = 'color:rgba(253,10,10,0.22539121806621554)'>_IMDb.com</span><span style = 'color:rgba(253,10,10,0.23382172882556918)'>_I</span><span style = 'color:rgba(253,10,10,0.22539121806621554)'>_read</span><span style = 'color:rgba(253,10,10,0.23712904751300812)'>_an</span><span style = 'color:rgba(253,10,10,0.28342312574386597)'>_opinion,</span><span style = 'color:rgba(253,10,10,0.22539121806621554)'>_that</span><span style = 'color:rgba(253,10,10,0.22539121806621554)'>_Grey</span><span style = 'color:rgba(253,10,10,0.22539121806621554)'>_Owl</span><span style = 'color:rgba(253,10,10,0.2491181641817093)'>_is</span><span style = 'color:rgba(253,10,10,0.3442382097244263)'>_best</span><span style = 'color:rgba(253,10,10,0.22539121806621554)'>_character</span><span style = 'color:rgba(253,10,10,0.28829117417335515)'>_of</span><span style = 'color:rgba(253,10,10,0.22539121806621554)'>_Pierce</span><span style = 'color:rgba(253,10,10,0.22539121806621554)'>_Brosnan</span><span style = 'color:rgba(253,10,10,0.22539121806621554)'>_ever</span><span style = 'color:rgba(253,10,10,0.22539121806621554)'>_performed.</span><span style = 'color:rgba(253,10,10,0.23382172882556918)'>_I</span><span style = 'color:rgba(253,10,10,0.22539121806621554)'>_do</span>"
      ],
      "text/plain": [
       "<IPython.core.display.HTML object>"
      ]
     },
     "metadata": {},
     "output_type": "display_data"
    },
    {
     "name": "stdout",
     "output_type": "stream",
     "text": [
      "label:1.0\t guess:1.0\n"
     ]
    },
    {
     "data": {
      "text/html": [
       "<span style = 'color:rgba(253,10,253,0.2319152891635895)'>_As</span><span style = 'color:rgba(253,10,253,0.2319152891635895)'>_many</span><span style = 'color:rgba(253,10,253,0.2320150911808014)'>_reviewers</span><span style = 'color:rgba(253,10,253,0.2319152891635895)'>_here</span><span style = 'color:rgba(253,10,253,0.2382418602705002)'>_have</span><span style = 'color:rgba(253,10,253,0.23287584185600282)'>_noted,</span><span style = 'color:rgba(253,10,253,0.2319152891635895)'>_the</span><span style = 'color:rgba(253,10,253,0.23895161151885988)'>_film</span><span style = 'color:rgba(253,10,253,0.238991978764534)'>_version</span><span style = 'color:rgba(253,10,253,0.23287584185600282)'>_differs</span><span style = 'color:rgba(253,10,253,0.2319152891635895)'>_quite</span><span style = 'color:rgba(253,10,253,0.23681898415088654)'>_a</span><span style = 'color:rgba(253,10,253,0.3101041316986084)'>_bit</span><span style = 'color:rgba(253,10,253,0.2683097720146179)'>_from</span><span style = 'color:rgba(253,10,253,0.2319152891635895)'>_the</span><span style = 'color:rgba(253,10,253,0.24182689487934114)'>_stage</span><span style = 'color:rgba(253,10,253,0.238991978764534)'>_version</span><span style = 'color:rgba(253,10,253,0.2319152891635895)'>_of</span><span style = 'color:rgba(253,10,253,0.2319152891635895)'>_the</span><span style = 'color:rgba(253,10,253,0.23467369079589845)'>_story.</span>"
      ],
      "text/plain": [
       "<IPython.core.display.HTML object>"
      ]
     },
     "metadata": {},
     "output_type": "display_data"
    },
    {
     "data": {
      "text/html": [
       "<span style = 'color:rgba(253,10,10,0.23839173018932344)'>_As</span><span style = 'color:rgba(253,10,10,0.24779224395751953)'>_many</span><span style = 'color:rgba(253,10,10,0.23191886842250825)'>_reviewers</span><span style = 'color:rgba(253,10,10,0.23290202319622041)'>_here</span><span style = 'color:rgba(253,10,10,0.23191886842250825)'>_have</span><span style = 'color:rgba(253,10,10,0.23191886842250825)'>_noted,</span><span style = 'color:rgba(253,10,10,0.23891720175743103)'>_the</span><span style = 'color:rgba(253,10,10,0.23191886842250825)'>_film</span><span style = 'color:rgba(253,10,10,0.23191886842250825)'>_version</span><span style = 'color:rgba(253,10,10,0.23191886842250825)'>_differs</span><span style = 'color:rgba(253,10,10,0.27014658451080326)'>_quite</span><span style = 'color:rgba(253,10,10,0.23191886842250825)'>_a</span><span style = 'color:rgba(253,10,10,0.23191886842250825)'>_bit</span><span style = 'color:rgba(253,10,10,0.23191886842250825)'>_from</span><span style = 'color:rgba(253,10,10,0.23891720175743103)'>_the</span><span style = 'color:rgba(253,10,10,0.23191886842250825)'>_stage</span><span style = 'color:rgba(253,10,10,0.23191886842250825)'>_version</span><span style = 'color:rgba(253,10,10,0.31098934412002566)'>_of</span><span style = 'color:rgba(253,10,10,0.23891720175743103)'>_the</span><span style = 'color:rgba(253,10,10,0.23191886842250825)'>_story.</span>"
      ],
      "text/plain": [
       "<IPython.core.display.HTML object>"
      ]
     },
     "metadata": {},
     "output_type": "display_data"
    },
    {
     "name": "stdout",
     "output_type": "stream",
     "text": [
      "label:1.0\t guess:1.0\n"
     ]
    },
    {
     "data": {
      "text/html": [
       "<span style = 'color:rgba(253,10,253,0.23839953839778902)'>_The</span><span style = 'color:rgba(253,10,253,0.26828979253768925)'>_idea</span><span style = 'color:rgba(253,10,253,0.22955737411975863)'>_is</span><span style = 'color:rgba(253,10,253,0.2340987801551819)'>_a</span><span style = 'color:rgba(253,10,253,0.22955737411975863)'>_very</span><span style = 'color:rgba(253,10,253,0.240655916929245)'>_smart</span><span style = 'color:rgba(253,10,253,0.2302878499031067)'>_title</span><span style = 'color:rgba(253,10,253,0.22955737411975863)'>_the</span><span style = 'color:rgba(253,10,253,0.23607384860515596)'>_film</span><span style = 'color:rgba(253,10,253,0.22955737411975863)'>_has</span><span style = 'color:rgba(253,10,253,0.2340987801551819)'>_a</span><span style = 'color:rgba(253,10,253,0.22955737411975863)'>_serious</span><span style = 'color:rgba(253,10,253,0.23044695556163788)'>_tongue</span><span style = 'color:rgba(253,10,253,0.23872551321983337)'>_in</span><span style = 'color:rgba(253,10,253,0.23044695556163788)'>_cheek</span><span style = 'color:rgba(253,10,253,0.2334870159626007)'>_feel</span><span style = 'color:rgba(253,10,253,0.23484836816787721)'>_to</span><span style = 'color:rgba(253,10,253,0.26180317997932434)'>_it.</span><span style = 'color:rgba(253,10,253,0.310993242263794)'>_But</span><span style = 'color:rgba(253,10,253,0.22955737411975863)'>_it</span>"
      ],
      "text/plain": [
       "<IPython.core.display.HTML object>"
      ]
     },
     "metadata": {},
     "output_type": "display_data"
    },
    {
     "data": {
      "text/html": [
       "<span style = 'color:rgba(253,10,10,0.2305675894021988)'>_The</span><span style = 'color:rgba(253,10,10,0.2305675894021988)'>_idea</span><span style = 'color:rgba(253,10,10,0.25913162827491765)'>_is</span><span style = 'color:rgba(253,10,10,0.2305675894021988)'>_a</span><span style = 'color:rgba(253,10,10,0.27796950340271)'>_very</span><span style = 'color:rgba(253,10,10,0.2305675894021988)'>_smart</span><span style = 'color:rgba(253,10,10,0.2305675894021988)'>_title</span><span style = 'color:rgba(253,10,10,0.2372696489095688)'>_the</span><span style = 'color:rgba(253,10,10,0.2305675894021988)'>_film</span><span style = 'color:rgba(253,10,10,0.2398158311843872)'>_has</span><span style = 'color:rgba(253,10,10,0.2305675894021988)'>_a</span><span style = 'color:rgba(253,10,10,0.3115526556968689)'>_serious</span><span style = 'color:rgba(253,10,10,0.2305675894021988)'>_tongue</span><span style = 'color:rgba(253,10,10,0.2305675894021988)'>_in</span><span style = 'color:rgba(253,10,10,0.2305675894021988)'>_cheek</span><span style = 'color:rgba(253,10,10,0.2305675894021988)'>_feel</span><span style = 'color:rgba(253,10,10,0.2305675894021988)'>_to</span><span style = 'color:rgba(253,10,10,0.2305675894021988)'>_it.</span><span style = 'color:rgba(253,10,10,0.2305675894021988)'>_But</span><span style = 'color:rgba(253,10,10,0.24631442725658417)'>_it</span>"
      ],
      "text/plain": [
       "<IPython.core.display.HTML object>"
      ]
     },
     "metadata": {},
     "output_type": "display_data"
    },
    {
     "name": "stdout",
     "output_type": "stream",
     "text": [
      "label:1.0\t guess:1.0\n"
     ]
    },
    {
     "data": {
      "text/html": [
       "<span style = 'color:rgba(253,10,253,0.23815098702907564)'>_Malefique</span><span style = 'color:rgba(253,10,253,0.2370363086462021)'>_pretty</span><span style = 'color:rgba(253,10,253,0.24272683262825012)'>_much</span><span style = 'color:rgba(253,10,253,0.23815098702907564)'>_has</span><span style = 'color:rgba(253,10,253,0.2370363086462021)'>_the</span><span style = 'color:rgba(253,10,253,0.24272683262825012)'>_viewer</span><span style = 'color:rgba(253,10,253,0.24463604390621185)'>_from</span><span style = 'color:rgba(253,10,253,0.23815098702907564)'>_start</span><span style = 'color:rgba(253,10,253,0.2370363086462021)'>_to</span><span style = 'color:rgba(253,10,253,0.24272683262825012)'>_finish</span><span style = 'color:rgba(253,10,253,0.23815098702907564)'>_with</span><span style = 'color:rgba(253,10,253,0.2384780436754227)'>_its</span><span style = 'color:rgba(253,10,253,0.2370363086462021)'>_edgy</span><span style = 'color:rgba(253,10,253,0.2370363086462021)'>_atmosphere.</span><span style = 'color:rgba(253,10,253,0.2370363086462021)'>_Nearly</span><span style = 'color:rgba(253,10,253,0.2370363086462021)'>_the</span><span style = 'color:rgba(253,10,253,0.2370363086462021)'>_whole</span><span style = 'color:rgba(253,10,253,0.23815098702907564)'>_movie</span><span style = 'color:rgba(253,10,253,0.2370363086462021)'>_is</span><span style = 'color:rgba(253,10,253,0.26462369561195376)'>_set</span>"
      ],
      "text/plain": [
       "<IPython.core.display.HTML object>"
      ]
     },
     "metadata": {},
     "output_type": "display_data"
    },
    {
     "data": {
      "text/html": [
       "<span style = 'color:rgba(253,10,10,0.22623501121997835)'>_Malefique</span><span style = 'color:rgba(253,10,10,0.2450583189725876)'>_pretty</span><span style = 'color:rgba(253,10,10,0.22623501121997835)'>_much</span><span style = 'color:rgba(253,10,10,0.22623501121997835)'>_has</span><span style = 'color:rgba(253,10,10,0.29122524261474614)'>_the</span><span style = 'color:rgba(253,10,10,0.22623501121997835)'>_viewer</span><span style = 'color:rgba(253,10,10,0.22623501121997835)'>_from</span><span style = 'color:rgba(253,10,10,0.22623501121997835)'>_start</span><span style = 'color:rgba(253,10,10,0.2688287138938904)'>_to</span><span style = 'color:rgba(253,10,10,0.22623501121997835)'>_finish</span><span style = 'color:rgba(253,10,10,0.22623501121997835)'>_with</span><span style = 'color:rgba(253,10,10,0.22623501121997835)'>_its</span><span style = 'color:rgba(253,10,10,0.23748065531253815)'>_edgy</span><span style = 'color:rgba(253,10,10,0.2356983929872513)'>_atmosphere.</span><span style = 'color:rgba(253,10,10,0.23139002919197083)'>_Nearly</span><span style = 'color:rgba(253,10,10,0.2516811847686768)'>_the</span><span style = 'color:rgba(253,10,10,0.29122524261474614)'>_whole</span><span style = 'color:rgba(253,10,10,0.22623501121997835)'>_movie</span><span style = 'color:rgba(253,10,10,0.25882708430290224)'>_is</span><span style = 'color:rgba(253,10,10,0.22623501121997835)'>_set</span>"
      ],
      "text/plain": [
       "<IPython.core.display.HTML object>"
      ]
     },
     "metadata": {},
     "output_type": "display_data"
    },
    {
     "name": "stdout",
     "output_type": "stream",
     "text": [
      "label:1.0\t guess:1.0\n"
     ]
    },
    {
     "data": {
      "text/html": [
       "<span style = 'color:rgba(253,10,253,0.22672407031059266)'>_It</span><span style = 'color:rgba(253,10,253,0.2535613656044007)'>_was</span><span style = 'color:rgba(253,10,253,0.22672407031059266)'>_only</span><span style = 'color:rgba(253,10,253,0.22672407031059266)'>_when</span><span style = 'color:rgba(253,10,253,0.22672407031059266)'>_I</span><span style = 'color:rgba(253,10,253,0.24292723536491395)'>_saw</span><span style = 'color:rgba(253,10,253,0.227528378367424)'>_Napoleon</span><span style = 'color:rgba(253,10,253,0.227528378367424)'>_Dynamite</span><span style = 'color:rgba(253,10,253,0.23384658694267274)'>_that</span><span style = 'color:rgba(253,10,253,0.22672407031059266)'>_I</span><span style = 'color:rgba(253,10,253,0.26144946813583375)'>_remembered</span><span style = 'color:rgba(253,10,253,0.2354145258665085)'>_seeing</span><span style = 'color:rgba(253,10,253,0.227528378367424)'>_Cracker</span><span style = 'color:rgba(253,10,253,0.227528378367424)'>_Bag.</span><span style = 'color:rgba(253,10,253,0.22672407031059266)'>_Just</span><span style = 'color:rgba(253,10,253,0.3459527969360352)'>_beautiful</span><span style = 'color:rgba(253,10,253,0.227528378367424)'>_sentiment</span><span style = 'color:rgba(253,10,253,0.22672407031059266)'>_and</span><span style = 'color:rgba(253,10,253,0.2516513347625733)'>_yet</span><span style = 'color:rgba(253,10,253,0.250486296415329)'>_never</span>"
      ],
      "text/plain": [
       "<IPython.core.display.HTML object>"
      ]
     },
     "metadata": {},
     "output_type": "display_data"
    },
    {
     "data": {
      "text/html": [
       "<span style = 'color:rgba(253,10,10,0.2441657155752182)'>_It</span><span style = 'color:rgba(253,10,10,0.23302095234394074)'>_was</span><span style = 'color:rgba(253,10,10,0.25118088722229004)'>_only</span><span style = 'color:rgba(253,10,10,0.25837160348892213)'>_when</span><span style = 'color:rgba(253,10,10,0.24398472607135774)'>_I</span><span style = 'color:rgba(253,10,10,0.23302095234394074)'>_saw</span><span style = 'color:rgba(253,10,10,0.23302095234394074)'>_Napoleon</span><span style = 'color:rgba(253,10,10,0.23302095234394074)'>_Dynamite</span><span style = 'color:rgba(253,10,10,0.23302095234394074)'>_that</span><span style = 'color:rgba(253,10,10,0.24398472607135774)'>_I</span><span style = 'color:rgba(253,10,10,0.23302095234394074)'>_remembered</span><span style = 'color:rgba(253,10,10,0.23302095234394074)'>_seeing</span><span style = 'color:rgba(253,10,10,0.23302095234394074)'>_Cracker</span><span style = 'color:rgba(253,10,10,0.23302095234394074)'>_Bag.</span><span style = 'color:rgba(253,10,10,0.2549966633319855)'>_Just</span><span style = 'color:rgba(253,10,10,0.23302095234394074)'>_beautiful</span><span style = 'color:rgba(253,10,10,0.23302095234394074)'>_sentiment</span><span style = 'color:rgba(253,10,10,0.27404327988624577)'>_and</span><span style = 'color:rgba(253,10,10,0.23302095234394074)'>_yet</span><span style = 'color:rgba(253,10,10,0.23302095234394074)'>_never</span>"
      ],
      "text/plain": [
       "<IPython.core.display.HTML object>"
      ]
     },
     "metadata": {},
     "output_type": "display_data"
    },
    {
     "name": "stdout",
     "output_type": "stream",
     "text": [
      "label:1.0\t guess:1.0\n"
     ]
    },
    {
     "data": {
      "text/html": [
       "<span style = 'color:rgba(253,10,253,0.2323366165161133)'>_I</span><span style = 'color:rgba(253,10,253,0.3354198932647705)'>_liked</span><span style = 'color:rgba(253,10,253,0.23330984711647035)'>_SOLINO</span><span style = 'color:rgba(253,10,253,0.2323366165161133)'>_very</span><span style = 'color:rgba(253,10,253,0.2444791316986084)'>_much.</span><span style = 'color:rgba(253,10,253,0.2323366165161133)'>_It</span><span style = 'color:rgba(253,10,253,0.2323366165161133)'>_is</span><span style = 'color:rgba(253,10,253,0.2373050481081009)'>_a</span><span style = 'color:rgba(253,10,253,0.2323366165161133)'>_very</span><span style = 'color:rgba(253,10,253,0.23330984711647035)'>_heart-rending</span><span style = 'color:rgba(253,10,253,0.2323366165161133)'>_story</span><span style = 'color:rgba(253,10,253,0.2323366165161133)'>_of</span><span style = 'color:rgba(253,10,253,0.2323366165161133)'>_an</span><span style = 'color:rgba(253,10,253,0.23330984711647035)'>_italian</span><span style = 'color:rgba(253,10,253,0.2323366165161133)'>_family</span><span style = 'color:rgba(253,10,253,0.2323366165161133)'>_moving</span><span style = 'color:rgba(253,10,253,0.23812511563301086)'>_to</span><span style = 'color:rgba(253,10,253,0.23330984711647035)'>_Germany.</span><span style = 'color:rgba(253,10,253,0.2323366165161133)'>_And</span><span style = 'color:rgba(253,10,253,0.25572865009307866)'>_it's</span>"
      ],
      "text/plain": [
       "<IPython.core.display.HTML object>"
      ]
     },
     "metadata": {},
     "output_type": "display_data"
    },
    {
     "data": {
      "text/html": [
       "<span style = 'color:rgba(253,10,10,0.2340353846549988)'>_I</span><span style = 'color:rgba(253,10,10,0.22555161714553834)'>_liked</span><span style = 'color:rgba(253,10,10,0.22555161714553834)'>_SOLINO</span><span style = 'color:rgba(253,10,10,0.26517513394355774)'>_very</span><span style = 'color:rgba(253,10,10,0.22555161714553834)'>_much.</span><span style = 'color:rgba(253,10,10,0.23417543768882754)'>_It</span><span style = 'color:rgba(253,10,10,0.24942845106124878)'>_is</span><span style = 'color:rgba(253,10,10,0.22555161714553834)'>_a</span><span style = 'color:rgba(253,10,10,0.26517513394355774)'>_very</span><span style = 'color:rgba(253,10,10,0.22555161714553834)'>_heart-rending</span><span style = 'color:rgba(253,10,10,0.23979862928390505)'>_story</span><span style = 'color:rgba(253,10,10,0.28884892463684086)'>_of</span><span style = 'color:rgba(253,10,10,0.23736360073089602)'>_an</span><span style = 'color:rgba(253,10,10,0.22555161714553834)'>_italian</span><span style = 'color:rgba(253,10,10,0.23863069117069247)'>_family</span><span style = 'color:rgba(253,10,10,0.26525430679321294)'>_moving</span><span style = 'color:rgba(253,10,10,0.22555161714553834)'>_to</span><span style = 'color:rgba(253,10,10,0.22555161714553834)'>_Germany.</span><span style = 'color:rgba(253,10,10,0.2521497488021851)'>_And</span><span style = 'color:rgba(253,10,10,0.22555161714553834)'>_it's</span>"
      ],
      "text/plain": [
       "<IPython.core.display.HTML object>"
      ]
     },
     "metadata": {},
     "output_type": "display_data"
    },
    {
     "name": "stdout",
     "output_type": "stream",
     "text": [
      "label:0.0\t guess:0.0\n"
     ]
    },
    {
     "data": {
      "text/html": [
       "<span style = 'color:rgba(253,10,253,0.3508578658103943)'>_I'll</span><span style = 'color:rgba(253,10,253,0.22860409021377565)'>_bet</span><span style = 'color:rgba(253,10,253,0.27699335217475896)'>_none</span><span style = 'color:rgba(253,10,253,0.22860409021377565)'>_of</span><span style = 'color:rgba(253,10,253,0.22860409021377565)'>_you</span><span style = 'color:rgba(253,10,253,0.22860409021377565)'>_knew</span><span style = 'color:rgba(253,10,253,0.23622767329216005)'>_that</span><span style = 'color:rgba(253,10,253,0.22860409021377565)'>_the</span><span style = 'color:rgba(253,10,253,0.22860409021377565)'>_famous</span><span style = 'color:rgba(253,10,253,0.2294649809598923)'>_Conquistador</span><span style = 'color:rgba(253,10,253,0.2294649809598923)'>_Hernando</span><span style = 'color:rgba(253,10,253,0.2294649809598923)'>_Cortes</span><span style = 'color:rgba(253,10,253,0.23162729144096375)'>_made</span><span style = 'color:rgba(253,10,253,0.2329990267753601)'>_a</span><span style = 'color:rgba(253,10,253,0.2294649809598923)'>_preliminary</span><span style = 'color:rgba(253,10,253,0.2294649809598923)'>_scouting</span><span style = 'color:rgba(253,10,253,0.2294649809598923)'>_expedition</span><span style = 'color:rgba(253,10,253,0.23372444212436677)'>_to</span><span style = 'color:rgba(253,10,253,0.2605518460273743)'>_Mexico</span><span style = 'color:rgba(253,10,253,0.22860409021377565)'>_before</span>"
      ],
      "text/plain": [
       "<IPython.core.display.HTML object>"
      ]
     },
     "metadata": {},
     "output_type": "display_data"
    },
    {
     "data": {
      "text/html": [
       "<span style = 'color:rgba(253,10,10,0.2321976810693741)'>_I'll</span><span style = 'color:rgba(253,10,10,0.23322111070156099)'>_bet</span><span style = 'color:rgba(253,10,10,0.2321976810693741)'>_none</span><span style = 'color:rgba(253,10,10,0.3119588375091553)'>_of</span><span style = 'color:rgba(253,10,10,0.26124824881553654)'>_you</span><span style = 'color:rgba(253,10,10,0.25154930353164673)'>_knew</span><span style = 'color:rgba(253,10,10,0.2321976810693741)'>_that</span><span style = 'color:rgba(253,10,10,0.23925714194774628)'>_the</span><span style = 'color:rgba(253,10,10,0.25036776661872867)'>_famous</span><span style = 'color:rgba(253,10,10,0.2321976810693741)'>_Conquistador</span><span style = 'color:rgba(253,10,10,0.2321976810693741)'>_Hernando</span><span style = 'color:rgba(253,10,10,0.2321976810693741)'>_Cortes</span><span style = 'color:rgba(253,10,10,0.2321976810693741)'>_made</span><span style = 'color:rgba(253,10,10,0.2321976810693741)'>_a</span><span style = 'color:rgba(253,10,10,0.2321976810693741)'>_preliminary</span><span style = 'color:rgba(253,10,10,0.2321976810693741)'>_scouting</span><span style = 'color:rgba(253,10,10,0.2321976810693741)'>_expedition</span><span style = 'color:rgba(253,10,10,0.2321976810693741)'>_to</span><span style = 'color:rgba(253,10,10,0.2321976810693741)'>_Mexico</span><span style = 'color:rgba(253,10,10,0.23382775485515594)'>_before</span>"
      ],
      "text/plain": [
       "<IPython.core.display.HTML object>"
      ]
     },
     "metadata": {},
     "output_type": "display_data"
    },
    {
     "name": "stdout",
     "output_type": "stream",
     "text": [
      "label:0.0\t guess:0.0\n"
     ]
    },
    {
     "data": {
      "text/html": [
       "<span style = 'color:rgba(253,10,253,0.25330019593238834)'>_Liongate</span><span style = 'color:rgba(253,10,253,0.22857387065887452)'>_has</span><span style = 'color:rgba(253,10,253,0.22773901224136353)'>_yet</span><span style = 'color:rgba(253,10,253,0.23968689739704133)'>_to</span><span style = 'color:rgba(253,10,253,0.24345351457595826)'>_prove</span><span style = 'color:rgba(253,10,253,0.22773901224136353)'>_itself.</span><span style = 'color:rgba(253,10,253,0.23051616549491882)'>_Every</span><span style = 'color:rgba(253,10,253,0.25759661793708805)'>_single</span><span style = 'color:rgba(253,10,253,0.22773901224136353)'>_movie</span><span style = 'color:rgba(253,10,253,0.2352974832057953)'>_from</span><span style = 'color:rgba(253,10,253,0.22773901224136353)'>_lionsgate</span><span style = 'color:rgba(253,10,253,0.3136366009712219)'>_has</span><span style = 'color:rgba(253,10,253,0.22857387065887452)'>_been</span><span style = 'color:rgba(253,10,253,0.22857387065887452)'>_abysmal.</span><span style = 'color:rgba(253,10,253,0.22773901224136353)'>_i've</span><span style = 'color:rgba(253,10,253,0.28450459837913517)'>_tried</span><span style = 'color:rgba(253,10,253,0.22857387065887452)'>_and</span><span style = 'color:rgba(253,10,253,0.22857387065887452)'>_tried</span><span style = 'color:rgba(253,10,253,0.22773901224136353)'>_to</span><span style = 'color:rgba(253,10,253,0.2327045112848282)'>_give</span>"
      ],
      "text/plain": [
       "<IPython.core.display.HTML object>"
      ]
     },
     "metadata": {},
     "output_type": "display_data"
    },
    {
     "data": {
      "text/html": [
       "<span style = 'color:rgba(253,10,10,0.23670679926872254)'>_Liongate</span><span style = 'color:rgba(253,10,10,0.23670679926872254)'>_has</span><span style = 'color:rgba(253,10,10,0.24475489854812624)'>_yet</span><span style = 'color:rgba(253,10,10,0.23670679926872254)'>_to</span><span style = 'color:rgba(253,10,10,0.23670679926872254)'>_prove</span><span style = 'color:rgba(253,10,10,0.25183601975440983)'>_itself.</span><span style = 'color:rgba(253,10,10,0.23670679926872254)'>_Every</span><span style = 'color:rgba(253,10,10,0.23670679926872254)'>_single</span><span style = 'color:rgba(253,10,10,0.24149176478385925)'>_movie</span><span style = 'color:rgba(253,10,10,0.23670679926872254)'>_from</span><span style = 'color:rgba(253,10,10,0.25256113409996034)'>_lionsgate</span><span style = 'color:rgba(253,10,10,0.23670679926872254)'>_has</span><span style = 'color:rgba(253,10,10,0.23670679926872254)'>_been</span><span style = 'color:rgba(253,10,10,0.23670679926872254)'>_abysmal.</span><span style = 'color:rgba(253,10,10,0.23984474539756775)'>_i've</span><span style = 'color:rgba(253,10,10,0.23670679926872254)'>_tried</span><span style = 'color:rgba(253,10,10,0.23670679926872254)'>_and</span><span style = 'color:rgba(253,10,10,0.23670679926872254)'>_tried</span><span style = 'color:rgba(253,10,10,0.25561623573303227)'>_to</span><span style = 'color:rgba(253,10,10,0.23670679926872254)'>_give</span>"
      ],
      "text/plain": [
       "<IPython.core.display.HTML object>"
      ]
     },
     "metadata": {},
     "output_type": "display_data"
    },
    {
     "name": "stdout",
     "output_type": "stream",
     "text": [
      "label:0.0\t guess:0.0\n"
     ]
    },
    {
     "data": {
      "text/html": [
       "<span style = 'color:rgba(253,10,253,0.2285644292831421)'>_I</span><span style = 'color:rgba(253,10,253,0.2954806089401245)'>_don't</span><span style = 'color:rgba(253,10,253,0.2285644292831421)'>_know</span><span style = 'color:rgba(253,10,253,0.24162114262580872)'>_what</span><span style = 'color:rgba(253,10,253,0.2285644292831421)'>_it</span><span style = 'color:rgba(253,10,253,0.2572498798370362)'>_was</span><span style = 'color:rgba(253,10,253,0.24050853550434115)'>_about</span><span style = 'color:rgba(253,10,253,0.23771985769271853)'>_this</span><span style = 'color:rgba(253,10,253,0.23486199080944062)'>_film</span><span style = 'color:rgba(253,10,253,0.2361774355173111)'>_that</span><span style = 'color:rgba(253,10,253,0.23158343732357026)'>_made</span><span style = 'color:rgba(253,10,253,0.2285644292831421)'>_me</span><span style = 'color:rgba(253,10,253,0.23292339444160462)'>_react</span><span style = 'color:rgba(253,10,253,0.2285644292831421)'>_so</span><span style = 'color:rgba(253,10,253,0.22942412793636324)'>_viscerally</span><span style = 'color:rgba(253,10,253,0.24083313047885896)'>_against</span><span style = 'color:rgba(253,10,253,0.2597269833087921)'>_it.</span><span style = 'color:rgba(253,10,253,0.2332530349493027)'>_Perhaps</span><span style = 'color:rgba(253,10,253,0.2285644292831421)'>_it</span><span style = 'color:rgba(253,10,253,0.2572498798370362)'>_was</span>"
      ],
      "text/plain": [
       "<IPython.core.display.HTML object>"
      ]
     },
     "metadata": {},
     "output_type": "display_data"
    },
    {
     "data": {
      "text/html": [
       "<span style = 'color:rgba(253,10,10,0.2462564080953598)'>_I</span><span style = 'color:rgba(253,10,10,0.23472638726234438)'>_don't</span><span style = 'color:rgba(253,10,10,0.2786400318145752)'>_know</span><span style = 'color:rgba(253,10,10,0.23472638726234438)'>_what</span><span style = 'color:rgba(253,10,10,0.25261561870574956)'>_it</span><span style = 'color:rgba(253,10,10,0.23472638726234438)'>_was</span><span style = 'color:rgba(253,10,10,0.23472638726234438)'>_about</span><span style = 'color:rgba(253,10,10,0.23472638726234438)'>_this</span><span style = 'color:rgba(253,10,10,0.23472638726234438)'>_film</span><span style = 'color:rgba(253,10,10,0.23472638726234438)'>_that</span><span style = 'color:rgba(253,10,10,0.23472638726234438)'>_made</span><span style = 'color:rgba(253,10,10,0.24382991194725037)'>_me</span><span style = 'color:rgba(253,10,10,0.23472638726234438)'>_react</span><span style = 'color:rgba(253,10,10,0.2398729592561722)'>_so</span><span style = 'color:rgba(253,10,10,0.23472638726234438)'>_viscerally</span><span style = 'color:rgba(253,10,10,0.23472638726234438)'>_against</span><span style = 'color:rgba(253,10,10,0.23472638726234438)'>_it.</span><span style = 'color:rgba(253,10,10,0.23472638726234438)'>_Perhaps</span><span style = 'color:rgba(253,10,10,0.25261561870574956)'>_it</span><span style = 'color:rgba(253,10,10,0.23472638726234438)'>_was</span>"
      ],
      "text/plain": [
       "<IPython.core.display.HTML object>"
      ]
     },
     "metadata": {},
     "output_type": "display_data"
    },
    {
     "name": "stdout",
     "output_type": "stream",
     "text": [
      "label:1.0\t guess:1.0\n"
     ]
    },
    {
     "data": {
      "text/html": [
       "<span style = 'color:rgba(253,10,253,0.24664137363433838)'>_IN</span><span style = 'color:rgba(253,10,253,0.23653726875782013)'>_COLD</span><span style = 'color:rgba(253,10,253,0.23653726875782013)'>_BLOOD</span><span style = 'color:rgba(253,10,253,0.2354697346687317)'>_is</span><span style = 'color:rgba(253,10,253,0.23653726875782013)'>_masterfully</span><span style = 'color:rgba(253,10,253,0.24328304231166842)'>_directed</span><span style = 'color:rgba(253,10,253,0.2354697346687317)'>_and</span><span style = 'color:rgba(253,10,253,0.2354697346687317)'>_adapted</span><span style = 'color:rgba(253,10,253,0.2354697346687317)'>_by</span><span style = 'color:rgba(253,10,253,0.2354697346687317)'>_Richard</span><span style = 'color:rgba(253,10,253,0.23653726875782013)'>_Brooks.</span><span style = 'color:rgba(253,10,253,0.2380457788705826)'>_However,</span><span style = 'color:rgba(253,10,253,0.26112824082374575)'>_it's</span><span style = 'color:rgba(253,10,253,0.2354697346687317)'>_also</span><span style = 'color:rgba(253,10,253,0.2354697346687317)'>_so</span><span style = 'color:rgba(253,10,253,0.23653726875782013)'>_bent</span><span style = 'color:rgba(253,10,253,0.2354697346687317)'>_on</span><span style = 'color:rgba(253,10,253,0.24679181575775147)'>_being</span><span style = 'color:rgba(253,10,253,0.23653726875782013)'>_realistic,</span><span style = 'color:rgba(253,10,253,0.26112824082374575)'>_it's</span>"
      ],
      "text/plain": [
       "<IPython.core.display.HTML object>"
      ]
     },
     "metadata": {},
     "output_type": "display_data"
    },
    {
     "data": {
      "text/html": [
       "<span style = 'color:rgba(253,10,10,0.22825976610183718)'>_IN</span><span style = 'color:rgba(253,10,10,0.22825976610183718)'>_COLD</span><span style = 'color:rgba(253,10,10,0.22825976610183718)'>_BLOOD</span><span style = 'color:rgba(253,10,10,0.25466724634170534)'>_is</span><span style = 'color:rgba(253,10,10,0.22825976610183718)'>_masterfully</span><span style = 'color:rgba(253,10,10,0.22825976610183718)'>_directed</span><span style = 'color:rgba(253,10,10,0.26336721777915956)'>_and</span><span style = 'color:rgba(253,10,10,0.2345149964094162)'>_adapted</span><span style = 'color:rgba(253,10,10,0.23067560493946077)'>_by</span><span style = 'color:rgba(253,10,10,0.34747556447982786)'>_Richard</span><span style = 'color:rgba(253,10,10,0.22825976610183718)'>_Brooks.</span><span style = 'color:rgba(253,10,10,0.22825976610183718)'>_However,</span><span style = 'color:rgba(253,10,10,0.22825976610183718)'>_it's</span><span style = 'color:rgba(253,10,10,0.26939542889595036)'>_also</span><span style = 'color:rgba(253,10,10,0.23244796097278597)'>_so</span><span style = 'color:rgba(253,10,10,0.22825976610183718)'>_bent</span><span style = 'color:rgba(253,10,10,0.22833874225616457)'>_on</span><span style = 'color:rgba(253,10,10,0.22825976610183718)'>_being</span><span style = 'color:rgba(253,10,10,0.22825976610183718)'>_realistic,</span><span style = 'color:rgba(253,10,10,0.22825976610183718)'>_it's</span>"
      ],
      "text/plain": [
       "<IPython.core.display.HTML object>"
      ]
     },
     "metadata": {},
     "output_type": "display_data"
    },
    {
     "name": "stdout",
     "output_type": "stream",
     "text": [
      "label:1.0\t guess:1.0\n"
     ]
    },
    {
     "data": {
      "text/html": [
       "<span style = 'color:rgba(253,10,253,0.22801636755466462)'>_I've</span><span style = 'color:rgba(253,10,253,0.22801636755466462)'>_only</span><span style = 'color:rgba(253,10,253,0.34771518707275395)'>_watched</span><span style = 'color:rgba(253,10,253,0.22801636755466462)'>_the</span><span style = 'color:rgba(253,10,253,0.22801636755466462)'>_first</span><span style = 'color:rgba(253,10,253,0.2639471411705017)'>_series</span><span style = 'color:rgba(253,10,253,0.22801636755466462)'>_on</span><span style = 'color:rgba(253,10,253,0.22801636755466462)'>_DVD,</span><span style = 'color:rgba(253,10,253,0.22801636755466462)'>_but</span><span style = 'color:rgba(253,10,253,0.25286551713943484)'>_would</span><span style = 'color:rgba(253,10,253,0.22885957062244416)'>_summarise</span><span style = 'color:rgba(253,10,253,0.23639753460884094)'>_The</span><span style = 'color:rgba(253,10,253,0.22885957062244416)'>_Sopranos</span><span style = 'color:rgba(253,10,253,0.22801636755466462)'>_as</span><span style = 'color:rgba(253,10,253,0.2323210030794144)'>_a</span><span style = 'color:rgba(253,10,253,0.22885957062244416)'>_Shakespearean</span><span style = 'color:rgba(253,10,253,0.2668470084667206)'>_plot</span><span style = 'color:rgba(253,10,253,0.22801636755466462)'>_with</span><span style = 'color:rgba(253,10,253,0.2323210030794144)'>_a</span><span style = 'color:rgba(253,10,253,0.22885957062244416)'>_Tarantino-like</span>"
      ],
      "text/plain": [
       "<IPython.core.display.HTML object>"
      ]
     },
     "metadata": {},
     "output_type": "display_data"
    },
    {
     "data": {
      "text/html": [
       "<span style = 'color:rgba(253,10,10,0.2427891343832016)'>_I've</span><span style = 'color:rgba(253,10,10,0.24929681420326233)'>_only</span><span style = 'color:rgba(253,10,10,0.2318053811788559)'>_watched</span><span style = 'color:rgba(253,10,10,0.23877882957458496)'>_the</span><span style = 'color:rgba(253,10,10,0.2775126934051514)'>_first</span><span style = 'color:rgba(253,10,10,0.2318053811788559)'>_series</span><span style = 'color:rgba(253,10,10,0.2318942666053772)'>_on</span><span style = 'color:rgba(253,10,10,0.25441675782203677)'>_DVD,</span><span style = 'color:rgba(253,10,10,0.24826514124870303)'>_but</span><span style = 'color:rgba(253,10,10,0.2318053811788559)'>_would</span><span style = 'color:rgba(253,10,10,0.2318053811788559)'>_summarise</span><span style = 'color:rgba(253,10,10,0.2318053811788559)'>_The</span><span style = 'color:rgba(253,10,10,0.2318053811788559)'>_Sopranos</span><span style = 'color:rgba(253,10,10,0.26390908360481263)'>_as</span><span style = 'color:rgba(253,10,10,0.2318053811788559)'>_a</span><span style = 'color:rgba(253,10,10,0.2318053811788559)'>_Shakespearean</span><span style = 'color:rgba(253,10,10,0.2318053811788559)'>_plot</span><span style = 'color:rgba(253,10,10,0.2432780832052231)'>_with</span><span style = 'color:rgba(253,10,10,0.2318053811788559)'>_a</span><span style = 'color:rgba(253,10,10,0.2318053811788559)'>_Tarantino-like</span>"
      ],
      "text/plain": [
       "<IPython.core.display.HTML object>"
      ]
     },
     "metadata": {},
     "output_type": "display_data"
    },
    {
     "name": "stdout",
     "output_type": "stream",
     "text": [
      "label:0.0\t guess:0.0\n"
     ]
    },
    {
     "data": {
      "text/html": [
       "<span style = 'color:rgba(253,10,253,0.2327320784330368)'>_Apparently,</span><span style = 'color:rgba(253,10,253,0.24196044206619263)'>_this</span><span style = 'color:rgba(253,10,253,0.23177573084831238)'>_is</span><span style = 'color:rgba(253,10,253,0.2463003158569336)'>_what</span><span style = 'color:rgba(253,10,253,0.23177573084831238)'>_happens</span><span style = 'color:rgba(253,10,253,0.23177573084831238)'>_when</span><span style = 'color:rgba(253,10,253,0.23665798008441927)'>_a</span><span style = 'color:rgba(253,10,253,0.3539711952209473)'>_director</span><span style = 'color:rgba(253,10,253,0.23177573084831238)'>_allows</span><span style = 'color:rgba(253,10,253,0.23177573084831238)'>_his</span><span style = 'color:rgba(253,10,253,0.2327320784330368)'>_14-year</span><span style = 'color:rgba(253,10,253,0.23496064841747286)'>_old</span><span style = 'color:rgba(253,10,253,0.2327320784330368)'>_nephew</span><span style = 'color:rgba(253,10,253,0.23746382594108584)'>_to</span><span style = 'color:rgba(253,10,253,0.2327320784330368)'>_rewrite</span><span style = 'color:rgba(253,10,253,0.23177573084831238)'>_the</span><span style = 'color:rgba(253,10,253,0.23177573084831238)'>_dialogue</span><span style = 'color:rgba(253,10,253,0.23177573084831238)'>_on</span><span style = 'color:rgba(253,10,253,0.23177573084831238)'>_the</span><span style = 'color:rgba(253,10,253,0.23177573084831238)'>_set</span>"
      ],
      "text/plain": [
       "<IPython.core.display.HTML object>"
      ]
     },
     "metadata": {},
     "output_type": "display_data"
    },
    {
     "data": {
      "text/html": [
       "<span style = 'color:rgba(253,10,10,0.23028398454189303)'>_Apparently,</span><span style = 'color:rgba(253,10,10,0.23028398454189303)'>_this</span><span style = 'color:rgba(253,10,10,0.258583003282547)'>_is</span><span style = 'color:rgba(253,10,10,0.23028398454189303)'>_what</span><span style = 'color:rgba(253,10,10,0.26139207482337956)'>_happens</span><span style = 'color:rgba(253,10,10,0.25353342890739444)'>_when</span><span style = 'color:rgba(253,10,10,0.23028398454189303)'>_a</span><span style = 'color:rgba(253,10,10,0.23028398454189303)'>_director</span><span style = 'color:rgba(253,10,10,0.2486012727022171)'>_allows</span><span style = 'color:rgba(253,10,10,0.23623460233211518)'>_his</span><span style = 'color:rgba(253,10,10,0.23028398454189303)'>_14-year</span><span style = 'color:rgba(253,10,10,0.23028398454189303)'>_old</span><span style = 'color:rgba(253,10,10,0.23028398454189303)'>_nephew</span><span style = 'color:rgba(253,10,10,0.23028398454189303)'>_to</span><span style = 'color:rgba(253,10,10,0.23028398454189303)'>_rewrite</span><span style = 'color:rgba(253,10,10,0.23692386448383332)'>_the</span><span style = 'color:rgba(253,10,10,0.2775254011154175)'>_dialogue</span><span style = 'color:rgba(253,10,10,0.2303686171770096)'>_on</span><span style = 'color:rgba(253,10,10,0.23692386448383332)'>_the</span><span style = 'color:rgba(253,10,10,0.2570739984512329)'>_set</span>"
      ],
      "text/plain": [
       "<IPython.core.display.HTML object>"
      ]
     },
     "metadata": {},
     "output_type": "display_data"
    },
    {
     "name": "stdout",
     "output_type": "stream",
     "text": [
      "label:1.0\t guess:1.0\n"
     ]
    },
    {
     "data": {
      "text/html": [
       "<span style = 'color:rgba(253,10,253,0.23713918924331667)'>_I</span><span style = 'color:rgba(253,10,253,0.24378738403320313)'>_have</span><span style = 'color:rgba(253,10,253,0.23713918924331667)'>_to</span><span style = 'color:rgba(253,10,253,0.23713918924331667)'>_say</span><span style = 'color:rgba(253,10,253,0.24463187456130983)'>_that</span><span style = 'color:rgba(253,10,253,0.2486590713262558)'>_Grand</span><span style = 'color:rgba(253,10,253,0.23713918924331667)'>_Canyon</span><span style = 'color:rgba(253,10,253,0.23713918924331667)'>_is</span><span style = 'color:rgba(253,10,253,0.23713918924331667)'>_one</span><span style = 'color:rgba(253,10,253,0.23713918924331667)'>_of</span><span style = 'color:rgba(253,10,253,0.23713918924331667)'>_the</span><span style = 'color:rgba(253,10,253,0.23713918924331667)'>_most</span><span style = 'color:rgba(253,10,253,0.23713918924331667)'>_affecting</span><span style = 'color:rgba(253,10,253,0.23713918924331667)'>_films</span><span style = 'color:rgba(253,10,253,0.24378738403320313)'>_I've</span><span style = 'color:rgba(253,10,253,0.23713918924331667)'>_ever</span><span style = 'color:rgba(253,10,253,0.23825696110725403)'>_seen.</span><span style = 'color:rgba(253,10,253,0.23713918924331667)'>_I've</span><span style = 'color:rgba(253,10,253,0.23825696110725403)'>_watched</span><span style = 'color:rgba(253,10,253,0.2598108947277069)'>_it</span>"
      ],
      "text/plain": [
       "<IPython.core.display.HTML object>"
      ]
     },
     "metadata": {},
     "output_type": "display_data"
    },
    {
     "data": {
      "text/html": [
       "<span style = 'color:rgba(253,10,10,0.24267719089984896)'>_I</span><span style = 'color:rgba(253,10,10,0.22243503630161288)'>_have</span><span style = 'color:rgba(253,10,10,0.22735399901866915)'>_to</span><span style = 'color:rgba(253,10,10,0.32744522094726564)'>_say</span><span style = 'color:rgba(253,10,10,0.22243503630161288)'>_that</span><span style = 'color:rgba(253,10,10,0.22243503630161288)'>_Grand</span><span style = 'color:rgba(253,10,10,0.24938798546791077)'>_Canyon</span><span style = 'color:rgba(253,10,10,0.23365367352962496)'>_is</span><span style = 'color:rgba(253,10,10,0.2503063499927521)'>_one</span><span style = 'color:rgba(253,10,10,0.22735399901866915)'>_of</span><span style = 'color:rgba(253,10,10,0.27155486941337587)'>_the</span><span style = 'color:rgba(253,10,10,0.2280534952878952)'>_most</span><span style = 'color:rgba(253,10,10,0.237124902009964)'>_affecting</span><span style = 'color:rgba(253,10,10,0.24267719089984896)'>_films</span><span style = 'color:rgba(253,10,10,0.22243503630161288)'>_I've</span><span style = 'color:rgba(253,10,10,0.22735399901866915)'>_ever</span><span style = 'color:rgba(253,10,10,0.22243503630161288)'>_seen.</span><span style = 'color:rgba(253,10,10,0.27801184058189393)'>_I've</span><span style = 'color:rgba(253,10,10,0.22243503630161288)'>_watched</span><span style = 'color:rgba(253,10,10,0.22243503630161288)'>_it</span>"
      ],
      "text/plain": [
       "<IPython.core.display.HTML object>"
      ]
     },
     "metadata": {},
     "output_type": "display_data"
    },
    {
     "name": "stdout",
     "output_type": "stream",
     "text": [
      "label:0.0\t guess:0.0\n"
     ]
    },
    {
     "data": {
      "text/html": [
       "<span style = 'color:rgba(253,10,253,0.23129605650901797)'>_Filmfour</span><span style = 'color:rgba(253,10,253,0.23319893777370454)'>_are</span><span style = 'color:rgba(253,10,253,0.2303816616535187)'>_going</span><span style = 'color:rgba(253,10,253,0.23582021296024325)'>_to</span><span style = 'color:rgba(253,10,253,0.23640421926975252)'>_have</span><span style = 'color:rgba(253,10,253,0.23582021296024325)'>_to</span><span style = 'color:rgba(253,10,253,0.23613624274730682)'>_do</span><span style = 'color:rgba(253,10,253,0.23504971861839297)'>_a</span><span style = 'color:rgba(253,10,253,0.2303816616535187)'>_lot</span><span style = 'color:rgba(253,10,253,0.24985294044017792)'>_better</span><span style = 'color:rgba(253,10,253,0.2303816616535187)'>_than</span><span style = 'color:rgba(253,10,253,0.2401195526123047)'>_this</span><span style = 'color:rgba(253,10,253,0.3178079009056092)'>_little</span><span style = 'color:rgba(253,10,253,0.23129605650901797)'>_snot</span><span style = 'color:rgba(253,10,253,0.2303816616535187)'>_of</span><span style = 'color:rgba(253,10,253,0.23504971861839297)'>_a</span><span style = 'color:rgba(253,10,253,0.23707986772060397)'>_film</span><span style = 'color:rgba(253,10,253,0.2303816616535187)'>_if</span><span style = 'color:rgba(253,10,253,0.2627784371376038)'>_they're</span><span style = 'color:rgba(253,10,253,0.2303816616535187)'>_going</span>"
      ],
      "text/plain": [
       "<IPython.core.display.HTML object>"
      ]
     },
     "metadata": {},
     "output_type": "display_data"
    },
    {
     "data": {
      "text/html": [
       "<span style = 'color:rgba(253,10,10,0.233437317609787)'>_Filmfour</span><span style = 'color:rgba(253,10,10,0.233437317609787)'>_are</span><span style = 'color:rgba(253,10,10,0.24136866331100465)'>_going</span><span style = 'color:rgba(253,10,10,0.233437317609787)'>_to</span><span style = 'color:rgba(253,10,10,0.233437317609787)'>_have</span><span style = 'color:rgba(253,10,10,0.233437317609787)'>_to</span><span style = 'color:rgba(253,10,10,0.233437317609787)'>_do</span><span style = 'color:rgba(253,10,10,0.233437317609787)'>_a</span><span style = 'color:rgba(253,10,10,0.24513536989688875)'>_lot</span><span style = 'color:rgba(253,10,10,0.233437317609787)'>_better</span><span style = 'color:rgba(253,10,10,0.23978149294853213)'>_than</span><span style = 'color:rgba(253,10,10,0.233437317609787)'>_this</span><span style = 'color:rgba(253,10,10,0.233437317609787)'>_little</span><span style = 'color:rgba(253,10,10,0.233437317609787)'>_snot</span><span style = 'color:rgba(253,10,10,0.3162693381309509)'>_of</span><span style = 'color:rgba(253,10,10,0.233437317609787)'>_a</span><span style = 'color:rgba(253,10,10,0.233437317609787)'>_film</span><span style = 'color:rgba(253,10,10,0.2479540854692459)'>_if</span><span style = 'color:rgba(253,10,10,0.233437317609787)'>_they're</span><span style = 'color:rgba(253,10,10,0.24136866331100465)'>_going</span>"
      ],
      "text/plain": [
       "<IPython.core.display.HTML object>"
      ]
     },
     "metadata": {},
     "output_type": "display_data"
    },
    {
     "name": "stdout",
     "output_type": "stream",
     "text": [
      "label:1.0\t guess:1.0\n"
     ]
    },
    {
     "data": {
      "text/html": [
       "<span style = 'color:rgba(253,10,253,0.23633855879306795)'>_The</span><span style = 'color:rgba(253,10,253,0.22797096967697145)'>_premise</span><span style = 'color:rgba(253,10,253,0.22797096967697145)'>_of</span><span style = 'color:rgba(253,10,253,0.23693618774414063)'>_this</span><span style = 'color:rgba(253,10,253,0.3284696102142334)'>_anime</span><span style = 'color:rgba(253,10,253,0.2638435244560242)'>_series</span><span style = 'color:rgba(253,10,253,0.22797096967697145)'>_is</span><span style = 'color:rgba(253,10,253,0.23966692686080934)'>_about</span><span style = 'color:rgba(253,10,253,0.22881281077861787)'>_bread,</span><span style = 'color:rgba(253,10,253,0.22797096967697145)'>_of</span><span style = 'color:rgba(253,10,253,0.2525536954402924)'>_all</span><span style = 'color:rgba(253,10,253,0.22797096967697145)'>_things</span><span style = 'color:rgba(253,10,253,0.23297798931598665)'>_to</span><span style = 'color:rgba(253,10,253,0.22797096967697145)'>_base</span><span style = 'color:rgba(253,10,253,0.23226863145828247)'>_a</span><span style = 'color:rgba(253,10,253,0.26673870086669926)'>_plot</span><span style = 'color:rgba(253,10,253,0.22881281077861787)'>_on!</span><span style = 'color:rgba(253,10,253,0.22797096967697145)'>_I</span><span style = 'color:rgba(253,10,253,0.22797096967697145)'>_truly</span><span style = 'color:rgba(253,10,253,0.22881281077861787)'>_laughed.</span>"
      ],
      "text/plain": [
       "<IPython.core.display.HTML object>"
      ]
     },
     "metadata": {},
     "output_type": "display_data"
    },
    {
     "data": {
      "text/html": [
       "<span style = 'color:rgba(253,10,10,0.2219170704483986)'>_The</span><span style = 'color:rgba(253,10,10,0.2929968059062958)'>_premise</span><span style = 'color:rgba(253,10,10,0.27621074914932253)'>_of</span><span style = 'color:rgba(253,10,10,0.2219170704483986)'>_this</span><span style = 'color:rgba(253,10,10,0.2219170704483986)'>_anime</span><span style = 'color:rgba(253,10,10,0.2219170704483986)'>_series</span><span style = 'color:rgba(253,10,10,0.24239757955074312)'>_is</span><span style = 'color:rgba(253,10,10,0.2219170704483986)'>_about</span><span style = 'color:rgba(253,10,10,0.2219170704483986)'>_bread,</span><span style = 'color:rgba(253,10,10,0.27621074914932253)'>_of</span><span style = 'color:rgba(253,10,10,0.2219170704483986)'>_all</span><span style = 'color:rgba(253,10,10,0.2669844508171082)'>_things</span><span style = 'color:rgba(253,10,10,0.2219170704483986)'>_to</span><span style = 'color:rgba(253,10,10,0.27520008087158204)'>_base</span><span style = 'color:rgba(253,10,10,0.2219170704483986)'>_a</span><span style = 'color:rgba(253,10,10,0.2219170704483986)'>_plot</span><span style = 'color:rgba(253,10,10,0.2219170704483986)'>_on!</span><span style = 'color:rgba(253,10,10,0.22919407784938814)'>_I</span><span style = 'color:rgba(253,10,10,0.27780063152313234)'>_truly</span><span style = 'color:rgba(253,10,10,0.2219170704483986)'>_laughed.</span>"
      ],
      "text/plain": [
       "<IPython.core.display.HTML object>"
      ]
     },
     "metadata": {},
     "output_type": "display_data"
    },
    {
     "name": "stdout",
     "output_type": "stream",
     "text": [
      "label:0.0\t guess:0.0\n"
     ]
    },
    {
     "data": {
      "text/html": [
       "<span style = 'color:rgba(253,10,253,0.22021093666553498)'>_1st</span><span style = 'color:rgba(253,10,253,0.3065613627433777)'>_watched</span><span style = 'color:rgba(253,10,253,0.2208192214369774)'>_2/2/2003</span><span style = 'color:rgba(253,10,253,0.2279971480369568)'>_-</span><span style = 'color:rgba(253,10,253,0.27718425989151)'>_4</span><span style = 'color:rgba(253,10,253,0.22194004505872728)'>_out</span><span style = 'color:rgba(253,10,253,0.22021093666553498)'>_of</span><span style = 'color:rgba(253,10,253,0.2208192214369774)'>_10(Dir-Jim</span><span style = 'color:rgba(253,10,253,0.2208192214369774)'>_Kammerud</span><span style = 'color:rgba(253,10,253,0.22021093666553498)'>_&</span><span style = 'color:rgba(253,10,253,0.22021093666553498)'>_Brian</span><span style = 'color:rgba(253,10,253,0.2208192214369774)'>_Smith):</span><span style = 'color:rgba(253,10,253,0.2208192214369774)'>_Drab</span><span style = 'color:rgba(253,10,253,0.22021093666553498)'>_and</span><span style = 'color:rgba(253,10,253,0.2208192214369774)'>_un-spectacular</span><span style = 'color:rgba(253,10,253,0.3548662304878235)'>_supposed</span><span style = 'color:rgba(253,10,253,0.2876438796520233)'>_sequel</span><span style = 'color:rgba(253,10,253,0.22382884770631792)'>_to</span><span style = 'color:rgba(253,10,253,0.22021093666553498)'>_the</span><span style = 'color:rgba(253,10,253,0.2537972807884217)'>_original</span>"
      ],
      "text/plain": [
       "<IPython.core.display.HTML object>"
      ]
     },
     "metadata": {},
     "output_type": "display_data"
    },
    {
     "data": {
      "text/html": [
       "<span style = 'color:rgba(253,10,10,0.22901741564273836)'>_1st</span><span style = 'color:rgba(253,10,10,0.22894074916839602)'>_watched</span><span style = 'color:rgba(253,10,10,0.22894074916839602)'>_2/2/2003</span><span style = 'color:rgba(253,10,10,0.22894074916839602)'>_-</span><span style = 'color:rgba(253,10,10,0.22894074916839602)'>_4</span><span style = 'color:rgba(253,10,10,0.22894074916839602)'>_out</span><span style = 'color:rgba(253,10,10,0.3006337285041809)'>_of</span><span style = 'color:rgba(253,10,10,0.22894074916839602)'>_10(Dir-Jim</span><span style = 'color:rgba(253,10,10,0.22894074916839602)'>_Kammerud</span><span style = 'color:rgba(253,10,10,0.28141924142837527)'>_&</span><span style = 'color:rgba(253,10,10,0.2835788428783417)'>_Brian</span><span style = 'color:rgba(253,10,10,0.22894074916839602)'>_Smith):</span><span style = 'color:rgba(253,10,10,0.22894074916839602)'>_Drab</span><span style = 'color:rgba(253,10,10,0.26489419341087345)'>_and</span><span style = 'color:rgba(253,10,10,0.22894074916839602)'>_un-spectacular</span><span style = 'color:rgba(253,10,10,0.22894074916839602)'>_supposed</span><span style = 'color:rgba(253,10,10,0.22894074916839602)'>_sequel</span><span style = 'color:rgba(253,10,10,0.22894074916839602)'>_to</span><span style = 'color:rgba(253,10,10,0.23528611660003662)'>_the</span><span style = 'color:rgba(253,10,10,0.22894074916839602)'>_original</span>"
      ],
      "text/plain": [
       "<IPython.core.display.HTML object>"
      ]
     },
     "metadata": {},
     "output_type": "display_data"
    },
    {
     "name": "stdout",
     "output_type": "stream",
     "text": [
      "label:0.0\t guess:0.0\n"
     ]
    },
    {
     "data": {
      "text/html": [
       "<span style = 'color:rgba(253,10,253,0.2345885932445526)'>_The</span><span style = 'color:rgba(253,10,253,0.2266239643096924)'>_first</span><span style = 'color:rgba(253,10,253,0.2686499297618866)'>_point</span><span style = 'color:rgba(253,10,253,0.23371979892253877)'>_that</span><span style = 'color:rgba(253,10,253,0.26111283898353577)'>_calls</span><span style = 'color:rgba(253,10,253,0.2266239643096924)'>_the</span><span style = 'color:rgba(253,10,253,0.28327081203460697)'>_attention</span><span style = 'color:rgba(253,10,253,0.23488222062587738)'>_in</span><span style = 'color:rgba(253,10,253,0.22742526531219484)'>_\"For</span><span style = 'color:rgba(253,10,253,0.22742526531219484)'>_Ever</span><span style = 'color:rgba(253,10,253,0.22742526531219484)'>_Mozart\"</span><span style = 'color:rgba(253,10,253,0.2266239643096924)'>_is</span><span style = 'color:rgba(253,10,253,0.2266239643096924)'>_the</span><span style = 'color:rgba(253,10,253,0.25889110565185547)'>_absence</span><span style = 'color:rgba(253,10,253,0.2266239643096924)'>_of</span><span style = 'color:rgba(253,10,253,0.23071466386318207)'>_a</span><span style = 'color:rgba(253,10,253,0.26352474689483646)'>_plot</span><span style = 'color:rgba(253,10,253,0.2529421925544739)'>_summary</span><span style = 'color:rgba(253,10,253,0.23488222062587738)'>_in</span><span style = 'color:rgba(253,10,253,0.22742526531219484)'>_IMDb.</span>"
      ],
      "text/plain": [
       "<IPython.core.display.HTML object>"
      ]
     },
     "metadata": {},
     "output_type": "display_data"
    },
    {
     "data": {
      "text/html": [
       "<span style = 'color:rgba(253,10,10,0.23163644671440126)'>_The</span><span style = 'color:rgba(253,10,10,0.2771009922027588)'>_first</span><span style = 'color:rgba(253,10,10,0.23163644671440126)'>_point</span><span style = 'color:rgba(253,10,10,0.23163644671440126)'>_that</span><span style = 'color:rgba(253,10,10,0.23163644671440126)'>_calls</span><span style = 'color:rgba(253,10,10,0.2385728567838669)'>_the</span><span style = 'color:rgba(253,10,10,0.23163644671440126)'>_attention</span><span style = 'color:rgba(253,10,10,0.23163644671440126)'>_in</span><span style = 'color:rgba(253,10,10,0.23163644671440126)'>_\"For</span><span style = 'color:rgba(253,10,10,0.23163644671440126)'>_Ever</span><span style = 'color:rgba(253,10,10,0.23163644671440126)'>_Mozart\"</span><span style = 'color:rgba(253,10,10,0.26119928359985356)'>_is</span><span style = 'color:rgba(253,10,10,0.2385728567838669)'>_the</span><span style = 'color:rgba(253,10,10,0.23163644671440126)'>_absence</span><span style = 'color:rgba(253,10,10,0.3100072979927063)'>_of</span><span style = 'color:rgba(253,10,10,0.23163644671440126)'>_a</span><span style = 'color:rgba(253,10,10,0.23163644671440126)'>_plot</span><span style = 'color:rgba(253,10,10,0.23163644671440126)'>_summary</span><span style = 'color:rgba(253,10,10,0.23163644671440126)'>_in</span><span style = 'color:rgba(253,10,10,0.23163644671440126)'>_IMDb.</span>"
      ],
      "text/plain": [
       "<IPython.core.display.HTML object>"
      ]
     },
     "metadata": {},
     "output_type": "display_data"
    },
    {
     "name": "stdout",
     "output_type": "stream",
     "text": [
      "label:0.0\t guess:0.0\n"
     ]
    },
    {
     "data": {
      "text/html": [
       "<span style = 'color:rgba(253,10,253,0.3320182204246521)'>_When</span><span style = 'color:rgba(253,10,253,0.22798861861228945)'>_you</span><span style = 'color:rgba(253,10,253,0.22798861861228945)'>_look</span><span style = 'color:rgba(253,10,253,0.22798861861228945)'>_at</span><span style = 'color:rgba(253,10,253,0.23695949018001558)'>_this</span><span style = 'color:rgba(253,10,253,0.22798861861228945)'>_now</span><span style = 'color:rgba(253,10,253,0.22798861861228945)'>_and</span><span style = 'color:rgba(253,10,253,0.26376883983612065)'>_hear</span><span style = 'color:rgba(253,10,253,0.2525868535041809)'>_all</span><span style = 'color:rgba(253,10,253,0.22798861861228945)'>_the</span><span style = 'color:rgba(253,10,253,0.22798861861228945)'>_language</span><span style = 'color:rgba(253,10,253,0.23667016327381135)'>_in</span><span style = 'color:rgba(253,10,253,0.22798861861228945)'>_here,</span><span style = 'color:rgba(253,10,253,0.24823534786701204)'>_it's</span><span style = 'color:rgba(253,10,253,0.22798861861228945)'>_amazing</span><span style = 'color:rgba(253,10,253,0.23695949018001558)'>_this</span><span style = 'color:rgba(253,10,253,0.2560958206653595)'>_was</span><span style = 'color:rgba(253,10,253,0.22798861861228945)'>_rated</span><span style = 'color:rgba(253,10,253,0.22883099019527436)'>_\"PG,\"</span><span style = 'color:rgba(253,10,253,0.22798861861228945)'>_but</span>"
      ],
      "text/plain": [
       "<IPython.core.display.HTML object>"
      ]
     },
     "metadata": {},
     "output_type": "display_data"
    },
    {
     "data": {
      "text/html": [
       "<span style = 'color:rgba(253,10,10,0.22419634759426119)'>_When</span><span style = 'color:rgba(253,10,10,0.24602766036987306)'>_you</span><span style = 'color:rgba(253,10,10,0.2629424393177033)'>_look</span><span style = 'color:rgba(253,10,10,0.22643890082836152)'>_at</span><span style = 'color:rgba(253,10,10,0.22419634759426119)'>_this</span><span style = 'color:rgba(253,10,10,0.266487181186676)'>_now</span><span style = 'color:rgba(253,10,10,0.25425576567649844)'>_and</span><span style = 'color:rgba(253,10,10,0.22419634759426119)'>_hear</span><span style = 'color:rgba(253,10,10,0.22419634759426119)'>_all</span><span style = 'color:rgba(253,10,10,0.22950148880481722)'>_the</span><span style = 'color:rgba(253,10,10,0.2653903245925904)'>_language</span><span style = 'color:rgba(253,10,10,0.22419634759426119)'>_in</span><span style = 'color:rgba(253,10,10,0.24904733002185822)'>_here,</span><span style = 'color:rgba(253,10,10,0.22419634759426119)'>_it's</span><span style = 'color:rgba(253,10,10,0.29771075248718265)'>_amazing</span><span style = 'color:rgba(253,10,10,0.22419634759426119)'>_this</span><span style = 'color:rgba(253,10,10,0.22419634759426119)'>_was</span><span style = 'color:rgba(253,10,10,0.24771269261837006)'>_rated</span><span style = 'color:rgba(253,10,10,0.22419634759426119)'>_\"PG,\"</span><span style = 'color:rgba(253,10,10,0.23671832084655764)'>_but</span>"
      ],
      "text/plain": [
       "<IPython.core.display.HTML object>"
      ]
     },
     "metadata": {},
     "output_type": "display_data"
    },
    {
     "name": "stdout",
     "output_type": "stream",
     "text": [
      "label:0.0\t guess:0.0\n"
     ]
    },
    {
     "data": {
      "text/html": [
       "<span style = 'color:rgba(253,10,253,0.23164587914943696)'>_This</span><span style = 'color:rgba(253,10,253,0.2634258329868317)'>_was</span><span style = 'color:rgba(253,10,253,0.23650818169116974)'>_a</span><span style = 'color:rgba(253,10,253,0.23164587914943696)'>_movie</span><span style = 'color:rgba(253,10,253,0.24487848579883575)'>_about</span><span style = 'color:rgba(253,10,253,0.2325983226299286)'>_infidelity</span><span style = 'color:rgba(253,10,253,0.23164587914943696)'>_and</span><span style = 'color:rgba(253,10,253,0.2325983226299286)'>_revenge.</span><span style = 'color:rgba(253,10,253,0.23958359062671664)'>_A</span><span style = 'color:rgba(253,10,253,0.2325983226299286)'>_twin</span><span style = 'color:rgba(253,10,253,0.23164587914943696)'>_with</span><span style = 'color:rgba(253,10,253,0.23164587914943696)'>_the</span><span style = 'color:rgba(253,10,253,0.2325983226299286)'>_\"twin\"</span><span style = 'color:rgba(253,10,253,0.2852978587150574)'>_connection</span><span style = 'color:rgba(253,10,253,0.2325983226299286)'>_senses</span><span style = 'color:rgba(253,10,253,0.24008015692234042)'>_that</span><span style = 'color:rgba(253,10,253,0.24722949266433716)'>_something</span><span style = 'color:rgba(253,10,253,0.23164587914943696)'>_is</span><span style = 'color:rgba(253,10,253,0.258483624458313)'>_wrong</span><span style = 'color:rgba(253,10,253,0.23164587914943696)'>_with</span>"
      ],
      "text/plain": [
       "<IPython.core.display.HTML object>"
      ]
     },
     "metadata": {},
     "output_type": "display_data"
    },
    {
     "data": {
      "text/html": [
       "<span style = 'color:rgba(253,10,10,0.2411409229040146)'>_This</span><span style = 'color:rgba(253,10,10,0.23333775103092194)'>_was</span><span style = 'color:rgba(253,10,10,0.23333775103092194)'>_a</span><span style = 'color:rgba(253,10,10,0.2548507571220398)'>_movie</span><span style = 'color:rgba(253,10,10,0.23333775103092194)'>_about</span><span style = 'color:rgba(253,10,10,0.23333775103092194)'>_infidelity</span><span style = 'color:rgba(253,10,10,0.27475364208221437)'>_and</span><span style = 'color:rgba(253,10,10,0.23333775103092194)'>_revenge.</span><span style = 'color:rgba(253,10,10,0.23333775103092194)'>_A</span><span style = 'color:rgba(253,10,10,0.23333775103092194)'>_twin</span><span style = 'color:rgba(253,10,10,0.24536319971084597)'>_with</span><span style = 'color:rgba(253,10,10,0.2406471759080887)'>_the</span><span style = 'color:rgba(253,10,10,0.23333775103092194)'>_\"twin\"</span><span style = 'color:rgba(253,10,10,0.23333775103092194)'>_connection</span><span style = 'color:rgba(253,10,10,0.23333775103092194)'>_senses</span><span style = 'color:rgba(253,10,10,0.23333775103092194)'>_that</span><span style = 'color:rgba(253,10,10,0.23333775103092194)'>_something</span><span style = 'color:rgba(253,10,10,0.26449037790298463)'>_is</span><span style = 'color:rgba(253,10,10,0.23333775103092194)'>_wrong</span><span style = 'color:rgba(253,10,10,0.24536319971084597)'>_with</span>"
      ],
      "text/plain": [
       "<IPython.core.display.HTML object>"
      ]
     },
     "metadata": {},
     "output_type": "display_data"
    },
    {
     "name": "stdout",
     "output_type": "stream",
     "text": [
      "label:1.0\t guess:1.0\n"
     ]
    },
    {
     "data": {
      "text/html": [
       "<span style = 'color:rgba(253,10,253,0.22848893105983736)'>_So</span><span style = 'color:rgba(253,10,253,0.22777957320213318)'>_often</span><span style = 'color:rgba(253,10,253,0.2320478230714798)'>_a</span><span style = 'color:rgba(253,10,253,0.3305389761924744)'>_band</span><span style = 'color:rgba(253,10,253,0.22777957320213318)'>_will</span><span style = 'color:rgba(253,10,253,0.22777957320213318)'>_get</span><span style = 'color:rgba(253,10,253,0.22777957320213318)'>_together</span><span style = 'color:rgba(253,10,253,0.2353490948677063)'>_for</span><span style = 'color:rgba(253,10,253,0.2320478230714798)'>_a</span><span style = 'color:rgba(253,10,253,0.22861565053462984)'>_re-union</span><span style = 'color:rgba(253,10,253,0.25526456832885747)'>_concert</span><span style = 'color:rgba(253,10,253,0.22777957320213318)'>_only</span><span style = 'color:rgba(253,10,253,0.23275232613086702)'>_to</span><span style = 'color:rgba(253,10,253,0.22777957320213318)'>_find</span><span style = 'color:rgba(253,10,253,0.23518340289592743)'>_that</span><span style = 'color:rgba(253,10,253,0.24966774582862855)'>_they</span><span style = 'color:rgba(253,10,253,0.27594811320304874)'>_just</span><span style = 'color:rgba(253,10,253,0.2418589860200882)'>_can't</span><span style = 'color:rgba(253,10,253,0.22777957320213318)'>_get</span><span style = 'color:rgba(253,10,253,0.22777957320213318)'>_it</span>"
      ],
      "text/plain": [
       "<IPython.core.display.HTML object>"
      ]
     },
     "metadata": {},
     "output_type": "display_data"
    },
    {
     "data": {
      "text/html": [
       "<span style = 'color:rgba(253,10,10,0.23225579857826234)'>_So</span><span style = 'color:rgba(253,10,10,0.2563292741775513)'>_often</span><span style = 'color:rgba(253,10,10,0.23225579857826234)'>_a</span><span style = 'color:rgba(253,10,10,0.23225579857826234)'>_band</span><span style = 'color:rgba(253,10,10,0.26387252211570744)'>_will</span><span style = 'color:rgba(253,10,10,0.24180902838706972)'>_get</span><span style = 'color:rgba(253,10,10,0.25484435558319096)'>_together</span><span style = 'color:rgba(253,10,10,0.23225579857826234)'>_for</span><span style = 'color:rgba(253,10,10,0.23225579857826234)'>_a</span><span style = 'color:rgba(253,10,10,0.23225579857826234)'>_re-union</span><span style = 'color:rgba(253,10,10,0.23225579857826234)'>_concert</span><span style = 'color:rgba(253,10,10,0.2499949336051941)'>_only</span><span style = 'color:rgba(253,10,10,0.23225579857826234)'>_to</span><span style = 'color:rgba(253,10,10,0.2553989470005036)'>_find</span><span style = 'color:rgba(253,10,10,0.23225579857826234)'>_that</span><span style = 'color:rgba(253,10,10,0.23225579857826234)'>_they</span><span style = 'color:rgba(253,10,10,0.23225579857826234)'>_just</span><span style = 'color:rgba(253,10,10,0.23225579857826234)'>_can't</span><span style = 'color:rgba(253,10,10,0.24180902838706972)'>_get</span><span style = 'color:rgba(253,10,10,0.248872309923172)'>_it</span>"
      ],
      "text/plain": [
       "<IPython.core.display.HTML object>"
      ]
     },
     "metadata": {},
     "output_type": "display_data"
    },
    {
     "name": "stdout",
     "output_type": "stream",
     "text": [
      "label:0.0\t guess:0.0\n"
     ]
    },
    {
     "data": {
      "text/html": [
       "<span style = 'color:rgba(253,10,253,0.23240312337875368)'>_Plot</span><span style = 'color:rgba(253,10,253,0.23145638406276703)'>_is</span><span style = 'color:rgba(253,10,253,0.24828622937202455)'>_not</span><span style = 'color:rgba(253,10,253,0.23145638406276703)'>_worth</span><span style = 'color:rgba(253,10,253,0.24943499267101288)'>_discussion</span><span style = 'color:rgba(253,10,253,0.279463791847229)'>_even</span><span style = 'color:rgba(253,10,253,0.23145638406276703)'>_if</span><span style = 'color:rgba(253,10,253,0.23145638406276703)'>_it</span><span style = 'color:rgba(253,10,253,0.24272948503494263)'>_hints</span><span style = 'color:rgba(253,10,253,0.23145638406276703)'>_at</span><span style = 'color:rgba(253,10,253,0.23240312337875368)'>_corruption,</span><span style = 'color:rgba(253,10,253,0.23145638406276703)'>_murder,</span><span style = 'color:rgba(253,10,253,0.3050873160362244)'>_power</span><span style = 'color:rgba(253,10,253,0.23145638406276703)'>_and</span><span style = 'color:rgba(253,10,253,0.23145638406276703)'>_the</span><span style = 'color:rgba(253,10,253,0.23145638406276703)'>_rest</span><span style = 'color:rgba(253,10,253,0.23145638406276703)'>_of</span><span style = 'color:rgba(253,10,253,0.23145638406276703)'>_thriller</span><span style = 'color:rgba(253,10,253,0.23176857233047488)'>_related</span><span style = 'color:rgba(253,10,253,0.23240312337875368)'>_topics.</span>"
      ],
      "text/plain": [
       "<IPython.core.display.HTML object>"
      ]
     },
     "metadata": {},
     "output_type": "display_data"
    },
    {
     "data": {
      "text/html": [
       "<span style = 'color:rgba(253,10,10,0.22823643386363984)'>_Plot</span><span style = 'color:rgba(253,10,10,0.25462210774421695)'>_is</span><span style = 'color:rgba(253,10,10,0.22823643386363984)'>_not</span><span style = 'color:rgba(253,10,10,0.2457988977432251)'>_worth</span><span style = 'color:rgba(253,10,10,0.22823643386363984)'>_discussion</span><span style = 'color:rgba(253,10,10,0.22823643386363984)'>_even</span><span style = 'color:rgba(253,10,10,0.24049524366855624)'>_if</span><span style = 'color:rgba(253,10,10,0.24278237819671633)'>_it</span><span style = 'color:rgba(253,10,10,0.22823643386363984)'>_hints</span><span style = 'color:rgba(253,10,10,0.23085342645645143)'>_at</span><span style = 'color:rgba(253,10,10,0.22823643386363984)'>_corruption,</span><span style = 'color:rgba(253,10,10,0.25130317211151126)'>_murder,</span><span style = 'color:rgba(253,10,10,0.22823643386363984)'>_power</span><span style = 'color:rgba(253,10,10,0.26331489682197573)'>_and</span><span style = 'color:rgba(253,10,10,0.23442737758159637)'>_the</span><span style = 'color:rgba(253,10,10,0.22976152896881105)'>_rest</span><span style = 'color:rgba(253,10,10,0.2981846570968628)'>_of</span><span style = 'color:rgba(253,10,10,0.25432839393615725)'>_thriller</span><span style = 'color:rgba(253,10,10,0.22823643386363984)'>_related</span><span style = 'color:rgba(253,10,10,0.22823643386363984)'>_topics.</span>"
      ],
      "text/plain": [
       "<IPython.core.display.HTML object>"
      ]
     },
     "metadata": {},
     "output_type": "display_data"
    },
    {
     "name": "stdout",
     "output_type": "stream",
     "text": [
      "label:0.0\t guess:0.0\n"
     ]
    },
    {
     "data": {
      "text/html": [
       "<span style = 'color:rgba(253,10,253,0.22006162703037263)'>_If</span><span style = 'color:rgba(253,10,253,0.22649175226688387)'>_this</span><span style = 'color:rgba(253,10,253,0.23046241104602816)'>_could</span><span style = 'color:rgba(253,10,253,0.22351223230361938)'>_be</span><span style = 'color:rgba(253,10,253,0.22006162703037263)'>_rated</span><span style = 'color:rgba(253,10,253,0.2231440395116806)'>_a</span><span style = 'color:rgba(253,10,253,0.22066541761159897)'>_0,</span><span style = 'color:rgba(253,10,253,0.22006162703037263)'>_it</span><span style = 'color:rgba(253,10,253,0.23785530626773835)'>_would</span><span style = 'color:rgba(253,10,253,0.23210898637771607)'>_be.</span><span style = 'color:rgba(253,10,253,0.22006162703037263)'>_From</span><span style = 'color:rgba(253,10,253,0.22006162703037263)'>_the</span><span style = 'color:rgba(253,10,253,0.30907244682312013)'>_atrocious</span><span style = 'color:rgba(253,10,253,0.33557292222976687)'>_wooden</span><span style = 'color:rgba(253,10,253,0.22006162703037263)'>_acting</span><span style = 'color:rgba(253,10,253,0.2236528128385544)'>_to</span><span style = 'color:rgba(253,10,253,0.22006162703037263)'>_the</span><span style = 'color:rgba(253,10,253,0.35630322694778443)'>_dull,</span><span style = 'color:rgba(253,10,253,0.22066541761159897)'>_plodding</span><span style = 'color:rgba(253,10,253,0.22006162703037263)'>_pace,</span>"
      ],
      "text/plain": [
       "<IPython.core.display.HTML object>"
      ]
     },
     "metadata": {},
     "output_type": "display_data"
    },
    {
     "data": {
      "text/html": [
       "<span style = 'color:rgba(253,10,10,0.24109439849853517)'>_If</span><span style = 'color:rgba(253,10,10,0.23062961399555207)'>_this</span><span style = 'color:rgba(253,10,10,0.23062961399555207)'>_could</span><span style = 'color:rgba(253,10,10,0.23062961399555207)'>_be</span><span style = 'color:rgba(253,10,10,0.26039842367172245)'>_rated</span><span style = 'color:rgba(253,10,10,0.23062961399555207)'>_a</span><span style = 'color:rgba(253,10,10,0.23062961399555207)'>_0,</span><span style = 'color:rgba(253,10,10,0.24640839695930483)'>_it</span><span style = 'color:rgba(253,10,10,0.23062961399555207)'>_would</span><span style = 'color:rgba(253,10,10,0.23062961399555207)'>_be.</span><span style = 'color:rgba(253,10,10,0.2703399181365967)'>_From</span><span style = 'color:rgba(253,10,10,0.23734527230262759)'>_the</span><span style = 'color:rgba(253,10,10,0.23062961399555207)'>_atrocious</span><span style = 'color:rgba(253,10,10,0.23062961399555207)'>_wooden</span><span style = 'color:rgba(253,10,10,0.28456572294235233)'>_acting</span><span style = 'color:rgba(253,10,10,0.23062961399555207)'>_to</span><span style = 'color:rgba(253,10,10,0.23734527230262759)'>_the</span><span style = 'color:rgba(253,10,10,0.23062961399555207)'>_dull,</span><span style = 'color:rgba(253,10,10,0.23062961399555207)'>_plodding</span><span style = 'color:rgba(253,10,10,0.2549472332000733)'>_pace,</span>"
      ],
      "text/plain": [
       "<IPython.core.display.HTML object>"
      ]
     },
     "metadata": {},
     "output_type": "display_data"
    },
    {
     "name": "stdout",
     "output_type": "stream",
     "text": [
      "label:0.0\t guess:0.0\n"
     ]
    },
    {
     "data": {
      "text/html": [
       "<span style = 'color:rgba(253,10,253,0.24642559587955476)'>_A</span><span style = 'color:rgba(253,10,253,0.2465562403202057)'>_sexually</span><span style = 'color:rgba(253,10,253,0.2371158540248871)'>_obsessed</span><span style = 'color:rgba(253,10,253,0.23823292255401612)'>_chef</span><span style = 'color:rgba(253,10,253,0.2484793245792389)'>_leads</span><span style = 'color:rgba(253,10,253,0.24281859993934632)'>_a</span><span style = 'color:rgba(253,10,253,0.23823292255401612)'>_duplicitous</span><span style = 'color:rgba(253,10,253,0.23823292255401612)'>_life:</span><span style = 'color:rgba(253,10,253,0.23795481622219086)'>_one</span><span style = 'color:rgba(253,10,253,0.2371158540248871)'>_as</span><span style = 'color:rgba(253,10,253,0.24281859993934632)'>_a</span><span style = 'color:rgba(253,10,253,0.23823292255401612)'>_\"happily\"</span><span style = 'color:rgba(253,10,253,0.2371158540248871)'>_married</span><span style = 'color:rgba(253,10,253,0.24115264117717744)'>_man</span><span style = 'color:rgba(253,10,253,0.2371158540248871)'>_with</span><span style = 'color:rgba(253,10,253,0.24281859993934632)'>_a</span><span style = 'color:rgba(253,10,253,0.2371158540248871)'>_ten</span><span style = 'color:rgba(253,10,253,0.2371158540248871)'>_year</span><span style = 'color:rgba(253,10,253,0.23823292255401612)'>_oldish</span><span style = 'color:rgba(253,10,253,0.2371158540248871)'>_child,</span>"
      ],
      "text/plain": [
       "<IPython.core.display.HTML object>"
      ]
     },
     "metadata": {},
     "output_type": "display_data"
    },
    {
     "data": {
      "text/html": [
       "<span style = 'color:rgba(253,10,10,0.23413328230381014)'>_A</span><span style = 'color:rgba(253,10,10,0.23413328230381014)'>_sexually</span><span style = 'color:rgba(253,10,10,0.2727069556713104)'>_obsessed</span><span style = 'color:rgba(253,10,10,0.23413328230381014)'>_chef</span><span style = 'color:rgba(253,10,10,0.23413328230381014)'>_leads</span><span style = 'color:rgba(253,10,10,0.23413328230381014)'>_a</span><span style = 'color:rgba(253,10,10,0.23413328230381014)'>_duplicitous</span><span style = 'color:rgba(253,10,10,0.23413328230381014)'>_life:</span><span style = 'color:rgba(253,10,10,0.23413328230381014)'>_one</span><span style = 'color:rgba(253,10,10,0.2685867190361023)'>_as</span><span style = 'color:rgba(253,10,10,0.23413328230381014)'>_a</span><span style = 'color:rgba(253,10,10,0.23413328230381014)'>_\"happily\"</span><span style = 'color:rgba(253,10,10,0.24448788166046143)'>_married</span><span style = 'color:rgba(253,10,10,0.23413328230381014)'>_man</span><span style = 'color:rgba(253,10,10,0.24644569456577303)'>_with</span><span style = 'color:rgba(253,10,10,0.23413328230381014)'>_a</span><span style = 'color:rgba(253,10,10,0.2386180341243744)'>_ten</span><span style = 'color:rgba(253,10,10,0.2437038064002991)'>_year</span><span style = 'color:rgba(253,10,10,0.23413328230381014)'>_oldish</span><span style = 'color:rgba(253,10,10,0.2417182117700577)'>_child,</span>"
      ],
      "text/plain": [
       "<IPython.core.display.HTML object>"
      ]
     },
     "metadata": {},
     "output_type": "display_data"
    },
    {
     "name": "stdout",
     "output_type": "stream",
     "text": [
      "label:0.0\t guess:0.0\n"
     ]
    },
    {
     "data": {
      "text/html": [
       "<span style = 'color:rgba(253,10,253,0.22301630675792694)'>_I</span><span style = 'color:rgba(253,10,253,0.25219649672508243)'>_rented</span><span style = 'color:rgba(253,10,253,0.23039346039295197)'>_this</span><span style = 'color:rgba(253,10,253,0.22301630675792694)'>_movie,</span><span style = 'color:rgba(253,10,253,0.223891980946064)'>_thinking</span><span style = 'color:rgba(253,10,253,0.22301630675792694)'>_it</span><span style = 'color:rgba(253,10,253,0.26254743337631226)'>_looked</span><span style = 'color:rgba(253,10,253,0.22419330775737764)'>_like</span><span style = 'color:rgba(253,10,253,0.22655270099639893)'>_a</span><span style = 'color:rgba(253,10,253,0.365319561958313)'>_wonderfully</span><span style = 'color:rgba(253,10,253,0.22301630675792694)'>_delightful</span><span style = 'color:rgba(253,10,253,0.22301630675792694)'>_historical</span><span style = 'color:rgba(253,10,253,0.22370902448892593)'>_piece.</span><span style = 'color:rgba(253,10,253,0.2568488836288452)'>_What</span><span style = 'color:rgba(253,10,253,0.22301630675792694)'>_I</span><span style = 'color:rgba(253,10,253,0.2398375302553177)'>_got</span><span style = 'color:rgba(253,10,253,0.24613012075424195)'>_was</span><span style = 'color:rgba(253,10,253,0.22655270099639893)'>_a</span><span style = 'color:rgba(253,10,253,0.26071266531944276)'>_piece</span><span style = 'color:rgba(253,10,253,0.22301630675792694)'>_of</span>"
      ],
      "text/plain": [
       "<IPython.core.display.HTML object>"
      ]
     },
     "metadata": {},
     "output_type": "display_data"
    },
    {
     "data": {
      "text/html": [
       "<span style = 'color:rgba(253,10,10,0.23747966885566713)'>_I</span><span style = 'color:rgba(253,10,10,0.22813736796379092)'>_rented</span><span style = 'color:rgba(253,10,10,0.22813736796379092)'>_this</span><span style = 'color:rgba(253,10,10,0.23083493411540987)'>_movie,</span><span style = 'color:rgba(253,10,10,0.22813736796379092)'>_thinking</span><span style = 'color:rgba(253,10,10,0.24263227581977845)'>_it</span><span style = 'color:rgba(253,10,10,0.22813736796379092)'>_looked</span><span style = 'color:rgba(253,10,10,0.22813736796379092)'>_like</span><span style = 'color:rgba(253,10,10,0.22813736796379092)'>_a</span><span style = 'color:rgba(253,10,10,0.22813736796379092)'>_wonderfully</span><span style = 'color:rgba(253,10,10,0.35921672582626346)'>_delightful</span><span style = 'color:rgba(253,10,10,0.22873078286647797)'>_historical</span><span style = 'color:rgba(253,10,10,0.22813736796379092)'>_piece.</span><span style = 'color:rgba(253,10,10,0.22813736796379092)'>_What</span><span style = 'color:rgba(253,10,10,0.23747966885566713)'>_I</span><span style = 'color:rgba(253,10,10,0.22813736796379092)'>_got</span><span style = 'color:rgba(253,10,10,0.22813736796379092)'>_was</span><span style = 'color:rgba(253,10,10,0.22813736796379092)'>_a</span><span style = 'color:rgba(253,10,10,0.22813736796379092)'>_piece</span><span style = 'color:rgba(253,10,10,0.2978401780128479)'>_of</span>"
      ],
      "text/plain": [
       "<IPython.core.display.HTML object>"
      ]
     },
     "metadata": {},
     "output_type": "display_data"
    },
    {
     "name": "stdout",
     "output_type": "stream",
     "text": [
      "label:1.0\t guess:1.0\n"
     ]
    },
    {
     "data": {
      "text/html": [
       "<span style = 'color:rgba(253,10,253,0.2405164033174515)'>_Higher</span><span style = 'color:rgba(253,10,253,0.23092427253723147)'>_and</span><span style = 'color:rgba(253,10,253,0.23092427253723147)'>_Higher</span><span style = 'color:rgba(253,10,253,0.2318549990653992)'>_was</span><span style = 'color:rgba(253,10,253,0.23092427253723147)'>_one</span><span style = 'color:rgba(253,10,253,0.23092427253723147)'>_of</span><span style = 'color:rgba(253,10,253,0.2318549990653992)'>_Rodgers&Hart's</span><span style = 'color:rgba(253,10,253,0.28303792476654055)'>_lesser</span><span style = 'color:rgba(253,10,253,0.2318549990653992)'>_Broadway</span><span style = 'color:rgba(253,10,253,0.27090137600898745)'>_musicals</span><span style = 'color:rgba(253,10,253,0.23092427253723147)'>_it</span><span style = 'color:rgba(253,10,253,0.23092427253723147)'>_only</span><span style = 'color:rgba(253,10,253,0.2318549990653992)'>_had</span><span style = 'color:rgba(253,10,253,0.25942063331604004)'>_a</span><span style = 'color:rgba(253,10,253,0.23092427253723147)'>_run</span><span style = 'color:rgba(253,10,253,0.2356757014989853)'>_of</span><span style = 'color:rgba(253,10,253,0.23092427253723147)'>_84</span><span style = 'color:rgba(253,10,253,0.2737852692604065)'>_performances</span><span style = 'color:rgba(253,10,253,0.23092427253723147)'>_on</span><span style = 'color:rgba(253,10,253,0.23092427253723147)'>_Broadway</span>"
      ],
      "text/plain": [
       "<IPython.core.display.HTML object>"
      ]
     },
     "metadata": {},
     "output_type": "display_data"
    },
    {
     "data": {
      "text/html": [
       "<span style = 'color:rgba(253,10,10,0.22992621958255768)'>_Higher</span><span style = 'color:rgba(253,10,10,0.23648765683174133)'>_and</span><span style = 'color:rgba(253,10,10,0.25966079235076905)'>_Higher</span><span style = 'color:rgba(253,10,10,0.22992621958255768)'>_was</span><span style = 'color:rgba(253,10,10,0.23648765683174133)'>_one</span><span style = 'color:rgba(253,10,10,0.24524451792240143)'>_of</span><span style = 'color:rgba(253,10,10,0.22992621958255768)'>_Rodgers&Hart's</span><span style = 'color:rgba(253,10,10,0.22992621958255768)'>_lesser</span><span style = 'color:rgba(253,10,10,0.22992621958255768)'>_Broadway</span><span style = 'color:rgba(253,10,10,0.22992621958255768)'>_musicals</span><span style = 'color:rgba(253,10,10,0.27271919250488286)'>_it</span><span style = 'color:rgba(253,10,10,0.23269982635974884)'>_only</span><span style = 'color:rgba(253,10,10,0.22992621958255768)'>_had</span><span style = 'color:rgba(253,10,10,0.22992621958255768)'>_a</span><span style = 'color:rgba(253,10,10,0.2546243250370026)'>_run</span><span style = 'color:rgba(253,10,10,0.22992621958255768)'>_of</span><span style = 'color:rgba(253,10,10,0.2359940141439438)'>_84</span><span style = 'color:rgba(253,10,10,0.22992621958255768)'>_performances</span><span style = 'color:rgba(253,10,10,0.26710392832756047)'>_on</span><span style = 'color:rgba(253,10,10,0.2597159147262573)'>_Broadway</span>"
      ],
      "text/plain": [
       "<IPython.core.display.HTML object>"
      ]
     },
     "metadata": {},
     "output_type": "display_data"
    },
    {
     "name": "stdout",
     "output_type": "stream",
     "text": [
      "label:0.0\t guess:0.0\n"
     ]
    },
    {
     "data": {
      "text/html": [
       "<span style = 'color:rgba(253,10,253,0.23023891746997835)'>_Perhaps</span><span style = 'color:rgba(253,10,253,0.2389179199934006)'>_I'm</span><span style = 'color:rgba(253,10,253,0.22819755971431732)'>_out</span><span style = 'color:rgba(253,10,253,0.22597529590129853)'>_of</span><span style = 'color:rgba(253,10,253,0.2329086184501648)'>_date</span><span style = 'color:rgba(253,10,253,0.2721233129501343)'>_or</span><span style = 'color:rgba(253,10,253,0.27101529836654664)'>_just</span><span style = 'color:rgba(253,10,253,0.2868260681629181)'>_don't</span><span style = 'color:rgba(253,10,253,0.22597529590129853)'>_know</span><span style = 'color:rgba(253,10,253,0.23784852325916292)'>_what</span><span style = 'color:rgba(253,10,253,0.22675706744194032)'>_Electra</span><span style = 'color:rgba(253,10,253,0.22597529590129853)'>_is</span><span style = 'color:rgba(253,10,253,0.22730361223220827)'>_like</span><span style = 'color:rgba(253,10,253,0.23403234183788302)'>_in</span><span style = 'color:rgba(253,10,253,0.22597529590129853)'>_current</span><span style = 'color:rgba(253,10,253,0.22675706744194032)'>_publications...</span><span style = 'color:rgba(253,10,253,0.29754189252853397)'>_But</span><span style = 'color:rgba(253,10,253,0.22597529590129853)'>_the</span><span style = 'color:rgba(253,10,253,0.22675706744194032)'>_Electra</span><span style = 'color:rgba(253,10,253,0.2328982472419739)'>_that</span>"
      ],
      "text/plain": [
       "<IPython.core.display.HTML object>"
      ]
     },
     "metadata": {},
     "output_type": "display_data"
    },
    {
     "data": {
      "text/html": [
       "<span style = 'color:rgba(253,10,10,0.23074391782283785)'>_Perhaps</span><span style = 'color:rgba(253,10,10,0.23074391782283785)'>_I'm</span><span style = 'color:rgba(253,10,10,0.23074391782283785)'>_out</span><span style = 'color:rgba(253,10,10,0.30690376758575444)'>_of</span><span style = 'color:rgba(253,10,10,0.23074391782283785)'>_date</span><span style = 'color:rgba(253,10,10,0.23074391782283785)'>_or</span><span style = 'color:rgba(253,10,10,0.23074391782283785)'>_just</span><span style = 'color:rgba(253,10,10,0.23074391782283785)'>_don't</span><span style = 'color:rgba(253,10,10,0.2696214854717255)'>_know</span><span style = 'color:rgba(253,10,10,0.23074391782283785)'>_what</span><span style = 'color:rgba(253,10,10,0.23074391782283785)'>_Electra</span><span style = 'color:rgba(253,10,10,0.2594727218151093)'>_is</span><span style = 'color:rgba(253,10,10,0.23074391782283785)'>_like</span><span style = 'color:rgba(253,10,10,0.23074391782283785)'>_in</span><span style = 'color:rgba(253,10,10,0.2653585731983185)'>_current</span><span style = 'color:rgba(253,10,10,0.23074391782283785)'>_publications...</span><span style = 'color:rgba(253,10,10,0.23074391782283785)'>_But</span><span style = 'color:rgba(253,10,10,0.23748463690280916)'>_the</span><span style = 'color:rgba(253,10,10,0.23074391782283785)'>_Electra</span><span style = 'color:rgba(253,10,10,0.23074391782283785)'>_that</span>"
      ],
      "text/plain": [
       "<IPython.core.display.HTML object>"
      ]
     },
     "metadata": {},
     "output_type": "display_data"
    },
    {
     "name": "stdout",
     "output_type": "stream",
     "text": [
      "label:1.0\t guess:1.0\n"
     ]
    },
    {
     "data": {
      "text/html": [
       "<span style = 'color:rgba(253,10,253,0.28877313733100896)'>_And</span><span style = 'color:rgba(253,10,253,0.2341893941164017)'>_I'm</span><span style = 'color:rgba(253,10,253,0.23319046199321747)'>_serious!</span><span style = 'color:rgba(253,10,253,0.23319046199321747)'>_Truly</span><span style = 'color:rgba(253,10,253,0.2341893941164017)'>_one</span><span style = 'color:rgba(253,10,253,0.23319046199321747)'>_of</span><span style = 'color:rgba(253,10,253,0.2520804226398468)'>_the</span><span style = 'color:rgba(253,10,253,0.23319046199321747)'>_most</span><span style = 'color:rgba(253,10,253,0.23319046199321747)'>_fantastic</span><span style = 'color:rgba(253,10,253,0.23913180828094482)'>_films</span><span style = 'color:rgba(253,10,253,0.2394970238208771)'>_I</span><span style = 'color:rgba(253,10,253,0.23319046199321747)'>_have</span><span style = 'color:rgba(253,10,253,0.23319046199321747)'>_ever</span><span style = 'color:rgba(253,10,253,0.23913180828094482)'>_had</span><span style = 'color:rgba(253,10,253,0.23319046199321747)'>_the</span><span style = 'color:rgba(253,10,253,0.23319046199321747)'>_pleasure</span><span style = 'color:rgba(253,10,253,0.25915325284004215)'>_of</span><span style = 'color:rgba(253,10,253,0.24687655568122865)'>_watching.</span><span style = 'color:rgba(253,10,253,0.23507257699966433)'>_What's</span><span style = 'color:rgba(253,10,253,0.23319046199321747)'>_so</span>"
      ],
      "text/plain": [
       "<IPython.core.display.HTML object>"
      ]
     },
     "metadata": {},
     "output_type": "display_data"
    },
    {
     "data": {
      "text/html": [
       "<span style = 'color:rgba(253,10,10,0.22858253717422486)'>_And</span><span style = 'color:rgba(253,10,10,0.22858253717422486)'>_I'm</span><span style = 'color:rgba(253,10,10,0.26409096717834474)'>_serious!</span><span style = 'color:rgba(253,10,10,0.24819760024547577)'>_Truly</span><span style = 'color:rgba(253,10,10,0.22858253717422486)'>_one</span><span style = 'color:rgba(253,10,10,0.22858493328094484)'>_of</span><span style = 'color:rgba(253,10,10,0.22858253717422486)'>_the</span><span style = 'color:rgba(253,10,10,0.2647269070148468)'>_most</span><span style = 'color:rgba(253,10,10,0.261675900220871)'>_fantastic</span><span style = 'color:rgba(253,10,10,0.22858253717422486)'>_films</span><span style = 'color:rgba(253,10,10,0.22858253717422486)'>_I</span><span style = 'color:rgba(253,10,10,0.23484936356544495)'>_have</span><span style = 'color:rgba(253,10,10,0.24451951980590822)'>_ever</span><span style = 'color:rgba(253,10,10,0.22858253717422486)'>_had</span><span style = 'color:rgba(253,10,10,0.26454573273658755)'>_the</span><span style = 'color:rgba(253,10,10,0.26409096717834474)'>_pleasure</span><span style = 'color:rgba(253,10,10,0.22858253717422486)'>_of</span><span style = 'color:rgba(253,10,10,0.22858253717422486)'>_watching.</span><span style = 'color:rgba(253,10,10,0.22858253717422486)'>_What's</span><span style = 'color:rgba(253,10,10,0.2388927072286606)'>_so</span>"
      ],
      "text/plain": [
       "<IPython.core.display.HTML object>"
      ]
     },
     "metadata": {},
     "output_type": "display_data"
    },
    {
     "name": "stdout",
     "output_type": "stream",
     "text": [
      "label:1.0\t guess:1.0\n"
     ]
    },
    {
     "data": {
      "text/html": [
       "<span style = 'color:rgba(253,10,253,0.2535087764263153)'>_I'm</span><span style = 'color:rgba(253,10,253,0.2367886543273926)'>_biased</span><span style = 'color:rgba(253,10,253,0.260576343536377)'>_towards</span><span style = 'color:rgba(253,10,253,0.23571378588676453)'>_any</span><span style = 'color:rgba(253,10,253,0.23571378588676453)'>_movie</span><span style = 'color:rgba(253,10,253,0.24523224234580995)'>_that</span><span style = 'color:rgba(253,10,253,0.2367886543273926)'>_paints</span><span style = 'color:rgba(253,10,253,0.24120110571384432)'>_a</span><span style = 'color:rgba(253,10,253,0.2367886543273926)'>_luxuriant</span><span style = 'color:rgba(253,10,253,0.23571378588676453)'>_picture</span><span style = 'color:rgba(253,10,253,0.23571378588676453)'>_of</span><span style = 'color:rgba(253,10,253,0.23571378588676453)'>_Italy</span><span style = 'color:rgba(253,10,253,0.24947242438793182)'>_-</span><span style = 'color:rgba(253,10,253,0.24679152965545656)'>_in</span><span style = 'color:rgba(253,10,253,0.23571378588676453)'>_my</span><span style = 'color:rgba(253,10,253,0.23571378588676453)'>_opinion</span><span style = 'color:rgba(253,10,253,0.23571378588676453)'>_the</span><span style = 'color:rgba(253,10,253,0.23571378588676453)'>_most</span><span style = 'color:rgba(253,10,253,0.23571378588676453)'>_romantic</span><span style = 'color:rgba(253,10,253,0.23571378588676453)'>_country</span>"
      ],
      "text/plain": [
       "<IPython.core.display.HTML object>"
      ]
     },
     "metadata": {},
     "output_type": "display_data"
    },
    {
     "data": {
      "text/html": [
       "<span style = 'color:rgba(253,10,10,0.21897994577884675)'>_I'm</span><span style = 'color:rgba(253,10,10,0.21897994577884675)'>_biased</span><span style = 'color:rgba(253,10,10,0.21897994577884675)'>_towards</span><span style = 'color:rgba(253,10,10,0.24256159961223603)'>_any</span><span style = 'color:rgba(253,10,10,0.23122778832912447)'>_movie</span><span style = 'color:rgba(253,10,10,0.21897994577884675)'>_that</span><span style = 'color:rgba(253,10,10,0.21897994577884675)'>_paints</span><span style = 'color:rgba(253,10,10,0.21897994577884675)'>_a</span><span style = 'color:rgba(253,10,10,0.21897994577884675)'>_luxuriant</span><span style = 'color:rgba(253,10,10,0.4340678691864014)'>_picture</span><span style = 'color:rgba(253,10,10,0.2659976899623871)'>_of</span><span style = 'color:rgba(253,10,10,0.24553467333316803)'>_Italy</span><span style = 'color:rgba(253,10,10,0.21897994577884675)'>_-</span><span style = 'color:rgba(253,10,10,0.21897994577884675)'>_in</span><span style = 'color:rgba(253,10,10,0.23554700314998628)'>_my</span><span style = 'color:rgba(253,10,10,0.23357262909412385)'>_opinion</span><span style = 'color:rgba(253,10,10,0.22314136922359468)'>_the</span><span style = 'color:rgba(253,10,10,0.2293613910675049)'>_most</span><span style = 'color:rgba(253,10,10,0.24997562766075135)'>_romantic</span><span style = 'color:rgba(253,10,10,0.2381928712129593)'>_country</span>"
      ],
      "text/plain": [
       "<IPython.core.display.HTML object>"
      ]
     },
     "metadata": {},
     "output_type": "display_data"
    },
    {
     "name": "stdout",
     "output_type": "stream",
     "text": [
      "label:1.0\t guess:1.0\n"
     ]
    },
    {
     "data": {
      "text/html": [
       "<span style = 'color:rgba(253,10,253,0.24135875403881074)'>_A</span><span style = 'color:rgba(253,10,253,0.23306506276130678)'>_lot</span><span style = 'color:rgba(253,10,253,0.23306506276130678)'>_of</span><span style = 'color:rgba(253,10,253,0.23306506276130678)'>_the</span><span style = 'color:rgba(253,10,253,0.2796057522296906)'>_problem</span><span style = 'color:rgba(253,10,253,0.23306506276130678)'>_many</span><span style = 'color:rgba(253,10,253,0.23725520670413972)'>_people</span><span style = 'color:rgba(253,10,253,0.2396195471286774)'>_have</span><span style = 'color:rgba(253,10,253,0.23306506276130678)'>_with</span><span style = 'color:rgba(253,10,253,0.24366303384304047)'>_this</span><span style = 'color:rgba(253,10,253,0.23306506276130678)'>_movie</span><span style = 'color:rgba(253,10,253,0.23306506276130678)'>_is</span><span style = 'color:rgba(253,10,253,0.24187758564949036)'>_that</span><span style = 'color:rgba(253,10,253,0.25911779403686525)'>_they</span><span style = 'color:rgba(253,10,253,0.2459901660680771)'>_seem</span><span style = 'color:rgba(253,10,253,0.23898396193981172)'>_to</span><span style = 'color:rgba(253,10,253,0.23306506276130678)'>_think</span><span style = 'color:rgba(253,10,253,0.24187758564949036)'>_that</span><span style = 'color:rgba(253,10,253,0.23306506276130678)'>_the</span><span style = 'color:rgba(253,10,253,0.23306506276130678)'>_story</span>"
      ],
      "text/plain": [
       "<IPython.core.display.HTML object>"
      ]
     },
     "metadata": {},
     "output_type": "display_data"
    },
    {
     "data": {
      "text/html": [
       "<span style = 'color:rgba(253,10,10,0.22819411456584932)'>_A</span><span style = 'color:rgba(253,10,10,0.2380578309297562)'>_lot</span><span style = 'color:rgba(253,10,10,0.29803749918937683)'>_of</span><span style = 'color:rgba(253,10,10,0.23437577784061434)'>_the</span><span style = 'color:rgba(253,10,10,0.22819411456584932)'>_problem</span><span style = 'color:rgba(253,10,10,0.24221515357494355)'>_many</span><span style = 'color:rgba(253,10,10,0.22819411456584932)'>_people</span><span style = 'color:rgba(253,10,10,0.22819411456584932)'>_have</span><span style = 'color:rgba(253,10,10,0.23836417198181153)'>_with</span><span style = 'color:rgba(253,10,10,0.22819411456584932)'>_this</span><span style = 'color:rgba(253,10,10,0.24638790488243104)'>_movie</span><span style = 'color:rgba(253,10,10,0.25454024076461795)'>_is</span><span style = 'color:rgba(253,10,10,0.22819411456584932)'>_that</span><span style = 'color:rgba(253,10,10,0.22819411456584932)'>_they</span><span style = 'color:rgba(253,10,10,0.22819411456584932)'>_seem</span><span style = 'color:rgba(253,10,10,0.22819411456584932)'>_to</span><span style = 'color:rgba(253,10,10,0.2877899706363678)'>_think</span><span style = 'color:rgba(253,10,10,0.22819411456584932)'>_that</span><span style = 'color:rgba(253,10,10,0.23437577784061434)'>_the</span><span style = 'color:rgba(253,10,10,0.24391452074050904)'>_story</span>"
      ],
      "text/plain": [
       "<IPython.core.display.HTML object>"
      ]
     },
     "metadata": {},
     "output_type": "display_data"
    },
    {
     "name": "stdout",
     "output_type": "stream",
     "text": [
      "label:1.0\t guess:1.0\n"
     ]
    },
    {
     "data": {
      "text/html": [
       "<span style = 'color:rgba(253,10,253,0.23464109599590302)'>_This</span><span style = 'color:rgba(253,10,253,0.255414617061615)'>_interesting</span><span style = 'color:rgba(253,10,253,0.23464109599590302)'>_documentary</span><span style = 'color:rgba(253,10,253,0.23464109599590302)'>_tells</span><span style = 'color:rgba(253,10,253,0.23996360301971437)'>_a</span><span style = 'color:rgba(253,10,253,0.23464109599590302)'>_remarkable</span><span style = 'color:rgba(253,10,253,0.23464109599590302)'>_tale</span><span style = 'color:rgba(253,10,253,0.23464109599590302)'>_of</span><span style = 'color:rgba(253,10,253,0.23464109599590302)'>_an</span><span style = 'color:rgba(253,10,253,0.23568368554115296)'>_expedition</span><span style = 'color:rgba(253,10,253,0.24084211587905885)'>_to</span><span style = 'color:rgba(253,10,253,0.26247566342353823)'>_take</span><span style = 'color:rgba(253,10,253,0.2485850602388382)'>_blind</span><span style = 'color:rgba(253,10,253,0.23568368554115296)'>_Tibetan</span><span style = 'color:rgba(253,10,253,0.2528282284736634)'>_children</span><span style = 'color:rgba(253,10,253,0.23568368554115296)'>_trekking</span><span style = 'color:rgba(253,10,253,0.2453861176967621)'>_in</span><span style = 'color:rgba(253,10,253,0.23464109599590302)'>_the</span><span style = 'color:rgba(253,10,253,0.23568368554115296)'>_Himalayas;</span><span style = 'color:rgba(253,10,253,0.23464109599590302)'>_but</span>"
      ],
      "text/plain": [
       "<IPython.core.display.HTML object>"
      ]
     },
     "metadata": {},
     "output_type": "display_data"
    },
    {
     "data": {
      "text/html": [
       "<span style = 'color:rgba(253,10,10,0.23414382338523865)'>_This</span><span style = 'color:rgba(253,10,10,0.2276677876710892)'>_interesting</span><span style = 'color:rgba(253,10,10,0.25352239012718203)'>_documentary</span><span style = 'color:rgba(253,10,10,0.23300532400608065)'>_tells</span><span style = 'color:rgba(253,10,10,0.2276677876710892)'>_a</span><span style = 'color:rgba(253,10,10,0.3065840840339661)'>_remarkable</span><span style = 'color:rgba(253,10,10,0.25601304173469547)'>_tale</span><span style = 'color:rgba(253,10,10,0.296207332611084)'>_of</span><span style = 'color:rgba(253,10,10,0.24045802950859071)'>_an</span><span style = 'color:rgba(253,10,10,0.2276677876710892)'>_expedition</span><span style = 'color:rgba(253,10,10,0.2276677876710892)'>_to</span><span style = 'color:rgba(253,10,10,0.2276677876710892)'>_take</span><span style = 'color:rgba(253,10,10,0.2276677876710892)'>_blind</span><span style = 'color:rgba(253,10,10,0.2276677876710892)'>_Tibetan</span><span style = 'color:rgba(253,10,10,0.2276677876710892)'>_children</span><span style = 'color:rgba(253,10,10,0.2276677876710892)'>_trekking</span><span style = 'color:rgba(253,10,10,0.2276677876710892)'>_in</span><span style = 'color:rgba(253,10,10,0.2337340533733368)'>_the</span><span style = 'color:rgba(253,10,10,0.2276677876710892)'>_Himalayas;</span><span style = 'color:rgba(253,10,10,0.24198628365993502)'>_but</span>"
      ],
      "text/plain": [
       "<IPython.core.display.HTML object>"
      ]
     },
     "metadata": {},
     "output_type": "display_data"
    },
    {
     "name": "stdout",
     "output_type": "stream",
     "text": [
      "label:0.0\t guess:0.0\n"
     ]
    },
    {
     "data": {
      "text/html": [
       "<span style = 'color:rgba(253,10,253,0.22786979079246522)'>_For</span><span style = 'color:rgba(253,10,253,0.22786979079246522)'>_the</span><span style = 'color:rgba(253,10,253,0.22786979079246522)'>_life</span><span style = 'color:rgba(253,10,253,0.22786979079246522)'>_of</span><span style = 'color:rgba(253,10,253,0.22786979079246522)'>_me</span><span style = 'color:rgba(253,10,253,0.22786979079246522)'>_I</span><span style = 'color:rgba(253,10,253,0.2419949322938919)'>_can't</span><span style = 'color:rgba(253,10,253,0.22786979079246522)'>_understand</span><span style = 'color:rgba(253,10,253,0.22786979079246522)'>_the</span><span style = 'color:rgba(253,10,253,0.22786979079246522)'>_good</span><span style = 'color:rgba(253,10,253,0.2501583278179169)'>_reviews</span><span style = 'color:rgba(253,10,253,0.22786979079246522)'>_on</span><span style = 'color:rgba(253,10,253,0.23680258095264436)'>_this</span><span style = 'color:rgba(253,10,253,0.27351524829864504)'>_piece</span><span style = 'color:rgba(253,10,253,0.22786979079246522)'>_of</span><span style = 'color:rgba(253,10,253,0.35065541267395023)'>_crap.</span><span style = 'color:rgba(253,10,253,0.22786979079246522)'>_It</span><span style = 'color:rgba(253,10,253,0.2558576583862305)'>_was</span><span style = 'color:rgba(253,10,253,0.22870858609676362)'>_pointless.</span><span style = 'color:rgba(253,10,253,0.22786979079246522)'>_Matthew</span>"
      ],
      "text/plain": [
       "<IPython.core.display.HTML object>"
      ]
     },
     "metadata": {},
     "output_type": "display_data"
    },
    {
     "data": {
      "text/html": [
       "<span style = 'color:rgba(253,10,10,0.2328512579202652)'>_For</span><span style = 'color:rgba(253,10,10,0.22868668735027314)'>_the</span><span style = 'color:rgba(253,10,10,0.2531316161155701)'>_life</span><span style = 'color:rgba(253,10,10,0.2818125784397125)'>_of</span><span style = 'color:rgba(253,10,10,0.22969595789909364)'>_me</span><span style = 'color:rgba(253,10,10,0.23133997023105624)'>_I</span><span style = 'color:rgba(253,10,10,0.22352806925773622)'>_can't</span><span style = 'color:rgba(253,10,10,0.2663535654544831)'>_understand</span><span style = 'color:rgba(253,10,10,0.22868668735027314)'>_the</span><span style = 'color:rgba(253,10,10,0.253342741727829)'>_good</span><span style = 'color:rgba(253,10,10,0.22352806925773622)'>_reviews</span><span style = 'color:rgba(253,10,10,0.22359381914138796)'>_on</span><span style = 'color:rgba(253,10,10,0.22352806925773622)'>_this</span><span style = 'color:rgba(253,10,10,0.22352806925773622)'>_piece</span><span style = 'color:rgba(253,10,10,0.2818125784397125)'>_of</span><span style = 'color:rgba(253,10,10,0.22352806925773622)'>_crap.</span><span style = 'color:rgba(253,10,10,0.2314689338207245)'>_It</span><span style = 'color:rgba(253,10,10,0.22352806925773622)'>_was</span><span style = 'color:rgba(253,10,10,0.22352806925773622)'>_pointless.</span><span style = 'color:rgba(253,10,10,0.2925271213054657)'>_Matthew</span>"
      ],
      "text/plain": [
       "<IPython.core.display.HTML object>"
      ]
     },
     "metadata": {},
     "output_type": "display_data"
    },
    {
     "name": "stdout",
     "output_type": "stream",
     "text": [
      "label:0.0\t guess:0.0\n"
     ]
    },
    {
     "data": {
      "text/html": [
       "<span style = 'color:rgba(253,10,253,0.23150666654109955)'>_This</span><span style = 'color:rgba(253,10,253,0.23150666654109955)'>_movie</span><span style = 'color:rgba(253,10,253,0.23150666654109955)'>_will</span><span style = 'color:rgba(253,10,253,0.23245491683483124)'>_confuse</span><span style = 'color:rgba(253,10,253,0.23150666654109955)'>_you</span><span style = 'color:rgba(253,10,253,0.23714659810066224)'>_to</span><span style = 'color:rgba(253,10,253,0.2422678589820862)'>_death.</span><span style = 'color:rgba(253,10,253,0.23245491683483124)'>_Furthermore,</span><span style = 'color:rgba(253,10,253,0.23150666654109955)'>_if</span><span style = 'color:rgba(253,10,253,0.23685390055179598)'>_your</span><span style = 'color:rgba(253,10,253,0.2363475799560547)'>_a</span><span style = 'color:rgba(253,10,253,0.23245491683483124)'>_Denise</span><span style = 'color:rgba(253,10,253,0.23245491683483124)'>_Richards'</span><span style = 'color:rgba(253,10,253,0.23292801678180697)'>_fan,</span><span style = 'color:rgba(253,10,253,0.3053154468536377)'>_don't</span><span style = 'color:rgba(253,10,253,0.27959080338478093)'>_even</span><span style = 'color:rgba(253,10,253,0.23150666654109955)'>_think</span><span style = 'color:rgba(253,10,253,0.23150666654109955)'>_of</span><span style = 'color:rgba(253,10,253,0.23757837414741517)'>_renting</span><span style = 'color:rgba(253,10,253,0.2416051357984543)'>_this</span>"
      ],
      "text/plain": [
       "<IPython.core.display.HTML object>"
      ]
     },
     "metadata": {},
     "output_type": "display_data"
    },
    {
     "data": {
      "text/html": [
       "<span style = 'color:rgba(253,10,10,0.2355292946100235)'>_This</span><span style = 'color:rgba(253,10,10,0.2473691076040268)'>_movie</span><span style = 'color:rgba(253,10,10,0.25701054334640505)'>_will</span><span style = 'color:rgba(253,10,10,0.22879047691822052)'>_confuse</span><span style = 'color:rgba(253,10,10,0.2547668755054474)'>_you</span><span style = 'color:rgba(253,10,10,0.22879047691822052)'>_to</span><span style = 'color:rgba(253,10,10,0.22879047691822052)'>_death.</span><span style = 'color:rgba(253,10,10,0.22879047691822052)'>_Furthermore,</span><span style = 'color:rgba(253,10,10,0.24128982722759248)'>_if</span><span style = 'color:rgba(253,10,10,0.22879047691822052)'>_your</span><span style = 'color:rgba(253,10,10,0.22879047691822052)'>_a</span><span style = 'color:rgba(253,10,10,0.22879047691822052)'>_Denise</span><span style = 'color:rgba(253,10,10,0.22879047691822052)'>_Richards'</span><span style = 'color:rgba(253,10,10,0.22879047691822052)'>_fan,</span><span style = 'color:rgba(253,10,10,0.22879047691822052)'>_don't</span><span style = 'color:rgba(253,10,10,0.22879047691822052)'>_even</span><span style = 'color:rgba(253,10,10,0.2896469116210938)'>_think</span><span style = 'color:rgba(253,10,10,0.300111198425293)'>_of</span><span style = 'color:rgba(253,10,10,0.22879047691822052)'>_renting</span><span style = 'color:rgba(253,10,10,0.22879047691822052)'>_this</span>"
      ],
      "text/plain": [
       "<IPython.core.display.HTML object>"
      ]
     },
     "metadata": {},
     "output_type": "display_data"
    },
    {
     "name": "stdout",
     "output_type": "stream",
     "text": [
      "label:0.0\t guess:0.0\n"
     ]
    },
    {
     "data": {
      "text/html": [
       "<span style = 'color:rgba(253,10,253,0.23013422787189486)'>_Though</span><span style = 'color:rgba(253,10,253,0.23013422787189486)'>_Frank</span><span style = 'color:rgba(253,10,253,0.23104117512702943)'>_Loesser's</span><span style = 'color:rgba(253,10,253,0.23013422787189486)'>_songs</span><span style = 'color:rgba(253,10,253,0.23292856216430666)'>_are</span><span style = 'color:rgba(253,10,253,0.23013422787189486)'>_some</span><span style = 'color:rgba(253,10,253,0.23013422787189486)'>_of</span><span style = 'color:rgba(253,10,253,0.23013422787189486)'>_the</span><span style = 'color:rgba(253,10,253,0.31230739355087284)'>_finest</span><span style = 'color:rgba(253,10,253,0.23816562294960023)'>_that</span><span style = 'color:rgba(253,10,253,0.2738763093948364)'>_Broadway</span><span style = 'color:rgba(253,10,253,0.23013422787189486)'>_has</span><span style = 'color:rgba(253,10,253,0.2355284869670868)'>_to</span><span style = 'color:rgba(253,10,253,0.23104117512702943)'>_offer,</span><span style = 'color:rgba(253,10,253,0.26226716041564946)'>_they're</span><span style = 'color:rgba(253,10,253,0.23104117512702943)'>_bollixed</span><span style = 'color:rgba(253,10,253,0.23013422787189486)'>_by</span><span style = 'color:rgba(253,10,253,0.24864680469036105)'>_Joseph</span><span style = 'color:rgba(253,10,253,0.23104117512702943)'>_L.</span><span style = 'color:rgba(253,10,253,0.23104117512702943)'>_Mankiewicz'</span>"
      ],
      "text/plain": [
       "<IPython.core.display.HTML object>"
      ]
     },
     "metadata": {},
     "output_type": "display_data"
    },
    {
     "data": {
      "text/html": [
       "<span style = 'color:rgba(253,10,10,0.33197296857833863)'>_Though</span><span style = 'color:rgba(253,10,10,0.2623412966728211)'>_Frank</span><span style = 'color:rgba(253,10,10,0.22612234354019167)'>_Loesser's</span><span style = 'color:rgba(253,10,10,0.2697481334209442)'>_songs</span><span style = 'color:rgba(253,10,10,0.22612234354019167)'>_are</span><span style = 'color:rgba(253,10,10,0.23740506172180176)'>_some</span><span style = 'color:rgba(253,10,10,0.2908334732055664)'>_of</span><span style = 'color:rgba(253,10,10,0.2318497657775879)'>_the</span><span style = 'color:rgba(253,10,10,0.22612234354019167)'>_finest</span><span style = 'color:rgba(253,10,10,0.22612234354019167)'>_that</span><span style = 'color:rgba(253,10,10,0.22612234354019167)'>_Broadway</span><span style = 'color:rgba(253,10,10,0.2340256690979004)'>_has</span><span style = 'color:rgba(253,10,10,0.22612234354019167)'>_to</span><span style = 'color:rgba(253,10,10,0.22612234354019167)'>_offer,</span><span style = 'color:rgba(253,10,10,0.22612234354019167)'>_they're</span><span style = 'color:rgba(253,10,10,0.22612234354019167)'>_bollixed</span><span style = 'color:rgba(253,10,10,0.2283554643392563)'>_by</span><span style = 'color:rgba(253,10,10,0.22612234354019167)'>_Joseph</span><span style = 'color:rgba(253,10,10,0.22612234354019167)'>_L.</span><span style = 'color:rgba(253,10,10,0.22612234354019167)'>_Mankiewicz'</span>"
      ],
      "text/plain": [
       "<IPython.core.display.HTML object>"
      ]
     },
     "metadata": {},
     "output_type": "display_data"
    },
    {
     "name": "stdout",
     "output_type": "stream",
     "text": [
      "label:1.0\t guess:1.0\n"
     ]
    },
    {
     "data": {
      "text/html": [
       "<span style = 'color:rgba(253,10,253,0.23183701336383822)'>_This</span><span style = 'color:rgba(253,10,253,0.23183701336383822)'>_movie</span><span style = 'color:rgba(253,10,253,0.23183701336383822)'>_is</span><span style = 'color:rgba(253,10,253,0.23255665600299835)'>_one</span><span style = 'color:rgba(253,10,253,0.23183701336383822)'>_of</span><span style = 'color:rgba(253,10,253,0.23183701336383822)'>_my</span><span style = 'color:rgba(253,10,253,0.23183701336383822)'>_very</span><span style = 'color:rgba(253,10,253,0.23279520869255066)'>_favorites.</span><span style = 'color:rgba(253,10,253,0.2718624651432038)'>_It's</span><span style = 'color:rgba(253,10,253,0.23183701336383822)'>_hard</span><span style = 'color:rgba(253,10,253,0.23753608465194703)'>_to</span><span style = 'color:rgba(253,10,253,0.23183701336383822)'>_explain</span><span style = 'color:rgba(253,10,253,0.23522824048995972)'>_why.</span><span style = 'color:rgba(253,10,253,0.3193561673164368)'>_Maybe</span><span style = 'color:rgba(253,10,253,0.2548676371574402)'>_it's</span><span style = 'color:rgba(253,10,253,0.23183701336383822)'>_the</span><span style = 'color:rgba(253,10,253,0.23183701336383822)'>_innocence</span><span style = 'color:rgba(253,10,253,0.23183701336383822)'>_of</span><span style = 'color:rgba(253,10,253,0.23279520869255066)'>_Corin</span><span style = 'color:rgba(253,10,253,0.23279520869255066)'>_Nemec</span>"
      ],
      "text/plain": [
       "<IPython.core.display.HTML object>"
      ]
     },
     "metadata": {},
     "output_type": "display_data"
    },
    {
     "data": {
      "text/html": [
       "<span style = 'color:rgba(253,10,10,0.22982563078403473)'>_This</span><span style = 'color:rgba(253,10,10,0.2397647500038147)'>_movie</span><span style = 'color:rgba(253,10,10,0.24675311744213105)'>_is</span><span style = 'color:rgba(253,10,10,0.22416862696409226)'>_one</span><span style = 'color:rgba(253,10,10,0.28403993844985964)'>_of</span><span style = 'color:rgba(253,10,10,0.24526473581790925)'>_my</span><span style = 'color:rgba(253,10,10,0.26164749860763553)'>_very</span><span style = 'color:rgba(253,10,10,0.22416862696409226)'>_favorites.</span><span style = 'color:rgba(253,10,10,0.22416862696409226)'>_It's</span><span style = 'color:rgba(253,10,10,0.22782437205314637)'>_hard</span><span style = 'color:rgba(253,10,10,0.22416862696409226)'>_to</span><span style = 'color:rgba(253,10,10,0.29332511425018315)'>_explain</span><span style = 'color:rgba(253,10,10,0.22416862696409226)'>_why.</span><span style = 'color:rgba(253,10,10,0.22416862696409226)'>_Maybe</span><span style = 'color:rgba(253,10,10,0.22416862696409226)'>_it's</span><span style = 'color:rgba(253,10,10,0.2294676870107651)'>_the</span><span style = 'color:rgba(253,10,10,0.2405295640230179)'>_innocence</span><span style = 'color:rgba(253,10,10,0.28403993844985964)'>_of</span><span style = 'color:rgba(253,10,10,0.22416862696409226)'>_Corin</span><span style = 'color:rgba(253,10,10,0.22416862696409226)'>_Nemec</span>"
      ],
      "text/plain": [
       "<IPython.core.display.HTML object>"
      ]
     },
     "metadata": {},
     "output_type": "display_data"
    },
    {
     "name": "stdout",
     "output_type": "stream",
     "text": [
      "label:0.0\t guess:0.0\n"
     ]
    },
    {
     "data": {
      "text/html": [
       "<span style = 'color:rgba(253,10,253,0.32511131763458256)'>_I'll</span><span style = 'color:rgba(253,10,253,0.22372229844331742)'>_try</span><span style = 'color:rgba(253,10,253,0.22796877026557924)'>_to</span><span style = 'color:rgba(253,10,253,0.22372229844331742)'>_use</span><span style = 'color:rgba(253,10,253,0.22372229844331742)'>_words</span><span style = 'color:rgba(253,10,253,0.22796877026557924)'>_to</span><span style = 'color:rgba(253,10,253,0.22372229844331742)'>_describe</span><span style = 'color:rgba(253,10,253,0.23132573664188386)'>_this</span><span style = 'color:rgba(253,10,253,0.22443626672029496)'>_on....</span><span style = 'color:rgba(253,10,253,0.23820362985134125)'>_<br</span><span style = 'color:rgba(253,10,253,0.2455821216106415)'>_/><br</span><span style = 'color:rgba(253,10,253,0.22946826815605165)'>_/>I</span><span style = 'color:rgba(253,10,253,0.23810544610023499)'>_saw</span><span style = 'color:rgba(253,10,253,0.22372229844331742)'>_the</span><span style = 'color:rgba(253,10,253,0.33184202909469607)'>_original,</span><span style = 'color:rgba(253,10,253,0.22464575171470644)'>_which</span><span style = 'color:rgba(253,10,253,0.24754510819911957)'>_was</span><span style = 'color:rgba(253,10,253,0.22372229844331742)'>_good</span><span style = 'color:rgba(253,10,253,0.2310805082321167)'>_in</span><span style = 'color:rgba(253,10,253,0.23438250720500947)'>_its</span>"
      ],
      "text/plain": [
       "<IPython.core.display.HTML object>"
      ]
     },
     "metadata": {},
     "output_type": "display_data"
    },
    {
     "data": {
      "text/html": [
       "<span style = 'color:rgba(253,10,10,0.2354583442211151)'>_I'll</span><span style = 'color:rgba(253,10,10,0.23882291913032533)'>_try</span><span style = 'color:rgba(253,10,10,0.2354583442211151)'>_to</span><span style = 'color:rgba(253,10,10,0.24826131463050843)'>_use</span><span style = 'color:rgba(253,10,10,0.25029319524765015)'>_words</span><span style = 'color:rgba(253,10,10,0.2354583442211151)'>_to</span><span style = 'color:rgba(253,10,10,0.24258203208446505)'>_describe</span><span style = 'color:rgba(253,10,10,0.2354583442211151)'>_this</span><span style = 'color:rgba(253,10,10,0.2354583442211151)'>_on....</span><span style = 'color:rgba(253,10,10,0.2354583442211151)'>_<br</span><span style = 'color:rgba(253,10,10,0.2354583442211151)'>_/><br</span><span style = 'color:rgba(253,10,10,0.2354583442211151)'>_/>I</span><span style = 'color:rgba(253,10,10,0.2354583442211151)'>_saw</span><span style = 'color:rgba(253,10,10,0.24323271811008454)'>_the</span><span style = 'color:rgba(253,10,10,0.2354583442211151)'>_original,</span><span style = 'color:rgba(253,10,10,0.2354583442211151)'>_which</span><span style = 'color:rgba(253,10,10,0.2354583442211151)'>_was</span><span style = 'color:rgba(253,10,10,0.28039100766181946)'>_good</span><span style = 'color:rgba(253,10,10,0.2354583442211151)'>_in</span><span style = 'color:rgba(253,10,10,0.2354583442211151)'>_its</span>"
      ],
      "text/plain": [
       "<IPython.core.display.HTML object>"
      ]
     },
     "metadata": {},
     "output_type": "display_data"
    },
    {
     "name": "stdout",
     "output_type": "stream",
     "text": [
      "label:0.0\t guess:0.0\n"
     ]
    },
    {
     "data": {
      "text/html": [
       "<span style = 'color:rgba(253,10,253,0.23576893508434296)'>_No</span><span style = 'color:rgba(253,10,253,0.23684547245502474)'>_Fireworks</span><span style = 'color:rgba(253,10,253,0.23576893508434296)'>_Despite</span><span style = 'color:rgba(253,10,253,0.23684547245502474)'>_Violent</span><span style = 'color:rgba(253,10,253,0.23684547245502474)'>_Action.<br</span><span style = 'color:rgba(253,10,253,0.2687295973300934)'>_/><br</span><span style = 'color:rgba(253,10,253,0.23684547245502474)'>_/>Science</span><span style = 'color:rgba(253,10,253,0.23576893508434296)'>_fiction</span><span style = 'color:rgba(253,10,253,0.23576893508434296)'>_films</span><span style = 'color:rgba(253,10,253,0.24530209302902223)'>_that</span><span style = 'color:rgba(253,10,253,0.23576893508434296)'>_reflect</span><span style = 'color:rgba(253,10,253,0.23576893508434296)'>_quality</span><span style = 'color:rgba(253,10,253,0.23908577263355257)'>_are</span><span style = 'color:rgba(253,10,253,0.23684547245502474)'>_scarce</span><span style = 'color:rgba(253,10,253,0.23576893508434296)'>_indeed,</span><span style = 'color:rgba(253,10,253,0.2681203782558441)'>_largely</span><span style = 'color:rgba(253,10,253,0.23576893508434296)'>_because</span><span style = 'color:rgba(253,10,253,0.23684547245502474)'>_transposal</span><span style = 'color:rgba(253,10,253,0.23576893508434296)'>_of</span><span style = 'color:rgba(253,10,253,0.23576893508434296)'>_imaginative</span>"
      ],
      "text/plain": [
       "<IPython.core.display.HTML object>"
      ]
     },
     "metadata": {},
     "output_type": "display_data"
    },
    {
     "data": {
      "text/html": [
       "<span style = 'color:rgba(253,10,10,0.26718918681144715)'>_No</span><span style = 'color:rgba(253,10,10,0.2262758404016495)'>_Fireworks</span><span style = 'color:rgba(253,10,10,0.23846289813518526)'>_Despite</span><span style = 'color:rgba(253,10,10,0.2262758404016495)'>_Violent</span><span style = 'color:rgba(253,10,10,0.2262758404016495)'>_Action.<br</span><span style = 'color:rgba(253,10,10,0.2262758404016495)'>_/><br</span><span style = 'color:rgba(253,10,10,0.2262758404016495)'>_/>Science</span><span style = 'color:rgba(253,10,10,0.2534108281135559)'>_fiction</span><span style = 'color:rgba(253,10,10,0.22995918393135073)'>_films</span><span style = 'color:rgba(253,10,10,0.2262758404016495)'>_that</span><span style = 'color:rgba(253,10,10,0.26165564656257634)'>_reflect</span><span style = 'color:rgba(253,10,10,0.261220645904541)'>_quality</span><span style = 'color:rgba(253,10,10,0.2262758404016495)'>_are</span><span style = 'color:rgba(253,10,10,0.2262758404016495)'>_scarce</span><span style = 'color:rgba(253,10,10,0.27349932193756105)'>_indeed,</span><span style = 'color:rgba(253,10,10,0.2262758404016495)'>_largely</span><span style = 'color:rgba(253,10,10,0.23258282840251923)'>_because</span><span style = 'color:rgba(253,10,10,0.2262758404016495)'>_transposal</span><span style = 'color:rgba(253,10,10,0.2913672208786011)'>_of</span><span style = 'color:rgba(253,10,10,0.22789379954338074)'>_imaginative</span>"
      ],
      "text/plain": [
       "<IPython.core.display.HTML object>"
      ]
     },
     "metadata": {},
     "output_type": "display_data"
    },
    {
     "name": "stdout",
     "output_type": "stream",
     "text": [
      "label:1.0\t guess:1.0\n"
     ]
    },
    {
     "data": {
      "text/html": [
       "<span style = 'color:rgba(253,10,253,0.22677398622035982)'>_Alain</span><span style = 'color:rgba(253,10,253,0.2292567253112793)'>_Resnais</span><span style = 'color:rgba(253,10,253,0.22757979631423952)'>_films</span><span style = 'color:rgba(253,10,253,0.2350787699222565)'>_are</span><span style = 'color:rgba(253,10,253,0.22677398622035982)'>_uncanny</span><span style = 'color:rgba(253,10,253,0.22677398622035982)'>_in</span><span style = 'color:rgba(253,10,253,0.23390980660915375)'>_the</span><span style = 'color:rgba(253,10,253,0.24786982834339144)'>_way</span><span style = 'color:rgba(253,10,253,0.287222695350647)'>_that</span><span style = 'color:rgba(253,10,253,0.22677398622035982)'>_they</span><span style = 'color:rgba(253,10,253,0.23518253862857819)'>_aren't</span><span style = 'color:rgba(253,10,253,0.234069499373436)'>_really</span><span style = 'color:rgba(253,10,253,0.22757979631423952)'>_edited</span><span style = 'color:rgba(253,10,253,0.22677398622035982)'>_for</span><span style = 'color:rgba(253,10,253,0.3339385032653809)'>_continuity,</span><span style = 'color:rgba(253,10,253,0.22677398622035982)'>_but</span><span style = 'color:rgba(253,10,253,0.22865976989269257)'>_instead</span><span style = 'color:rgba(253,10,253,0.2600441873073578)'>_the</span><span style = 'color:rgba(253,10,253,0.23156673312187195)'>_shot</span><span style = 'color:rgba(253,10,253,0.22739741206169128)'>_seems</span>"
      ],
      "text/plain": [
       "<IPython.core.display.HTML object>"
      ]
     },
     "metadata": {},
     "output_type": "display_data"
    },
    {
     "data": {
      "text/html": [
       "<span style = 'color:rgba(253,10,10,0.24061065316200259)'>_Alain</span><span style = 'color:rgba(253,10,10,0.23561776876449586)'>_Resnais</span><span style = 'color:rgba(253,10,10,0.23561776876449586)'>_films</span><span style = 'color:rgba(253,10,10,0.23561776876449586)'>_are</span><span style = 'color:rgba(253,10,10,0.24342709481716157)'>_uncanny</span><span style = 'color:rgba(253,10,10,0.24034040570259096)'>_in</span><span style = 'color:rgba(253,10,10,0.23561776876449586)'>_the</span><span style = 'color:rgba(253,10,10,0.23561776876449586)'>_way</span><span style = 'color:rgba(253,10,10,0.23561776876449586)'>_that</span><span style = 'color:rgba(253,10,10,0.2794954776763916)'>_they</span><span style = 'color:rgba(253,10,10,0.23561776876449586)'>_aren't</span><span style = 'color:rgba(253,10,10,0.23561776876449586)'>_really</span><span style = 'color:rgba(253,10,10,0.23561776876449586)'>_edited</span><span style = 'color:rgba(253,10,10,0.25405049324035645)'>_for</span><span style = 'color:rgba(253,10,10,0.23561776876449586)'>_continuity,</span><span style = 'color:rgba(253,10,10,0.24342709481716157)'>_but</span><span style = 'color:rgba(253,10,10,0.23561776876449586)'>_instead</span><span style = 'color:rgba(253,10,10,0.23561776876449586)'>_the</span><span style = 'color:rgba(253,10,10,0.23561776876449586)'>_shot</span><span style = 'color:rgba(253,10,10,0.23561776876449586)'>_seems</span>"
      ],
      "text/plain": [
       "<IPython.core.display.HTML object>"
      ]
     },
     "metadata": {},
     "output_type": "display_data"
    },
    {
     "name": "stdout",
     "output_type": "stream",
     "text": [
      "label:1.0\t guess:1.0\n"
     ]
    },
    {
     "data": {
      "text/html": [
       "<span style = 'color:rgba(253,10,253,0.2243503347039223)'>_I</span><span style = 'color:rgba(253,10,253,0.2291773021221161)'>_have</span><span style = 'color:rgba(253,10,253,0.24860154986381533)'>_lost</span><span style = 'color:rgba(253,10,253,0.2243503347039223)'>_count</span><span style = 'color:rgba(253,10,253,0.2243503347039223)'>_of</span><span style = 'color:rgba(253,10,253,0.2243503347039223)'>_how</span><span style = 'color:rgba(253,10,253,0.2243503347039223)'>_many</span><span style = 'color:rgba(253,10,253,0.24382422864437103)'>_reviews</span><span style = 'color:rgba(253,10,253,0.2243503347039223)'>_I've</span><span style = 'color:rgba(253,10,253,0.22548172175884248)'>_written</span><span style = 'color:rgba(253,10,253,0.2243503347039223)'>_on</span><span style = 'color:rgba(253,10,253,0.22508320212364197)'>_Slaughter</span><span style = 'color:rgba(253,10,253,0.22508320212364197)'>_High.</span><span style = 'color:rgba(253,10,253,0.2243503347039223)'>_I've</span><span style = 'color:rgba(253,10,253,0.26631925702095033)'>_read</span><span style = 'color:rgba(253,10,253,0.22809169292449952)'>_a</span><span style = 'color:rgba(253,10,253,0.2243503347039223)'>_lot</span><span style = 'color:rgba(253,10,253,0.2243503347039223)'>_of</span><span style = 'color:rgba(253,10,253,0.42726681232452396)'>_bad</span><span style = 'color:rgba(253,10,253,0.23756770491600038)'>_ones</span>"
      ],
      "text/plain": [
       "<IPython.core.display.HTML object>"
      ]
     },
     "metadata": {},
     "output_type": "display_data"
    },
    {
     "data": {
      "text/html": [
       "<span style = 'color:rgba(253,10,10,0.23709613382816316)'>_I</span><span style = 'color:rgba(253,10,10,0.2278494328260422)'>_have</span><span style = 'color:rgba(253,10,10,0.2278494328260422)'>_lost</span><span style = 'color:rgba(253,10,10,0.24848463237285615)'>_count</span><span style = 'color:rgba(253,10,10,0.2968389689922333)'>_of</span><span style = 'color:rgba(253,10,10,0.2600939989089966)'>_how</span><span style = 'color:rgba(253,10,10,0.2416990637779236)'>_many</span><span style = 'color:rgba(253,10,10,0.2278494328260422)'>_reviews</span><span style = 'color:rgba(253,10,10,0.23746703267097474)'>_I've</span><span style = 'color:rgba(253,10,10,0.2278494328260422)'>_written</span><span style = 'color:rgba(253,10,10,0.22792726159095766)'>_on</span><span style = 'color:rgba(253,10,10,0.2278494328260422)'>_Slaughter</span><span style = 'color:rgba(253,10,10,0.2278494328260422)'>_High.</span><span style = 'color:rgba(253,10,10,0.23746703267097474)'>_I've</span><span style = 'color:rgba(253,10,10,0.2278494328260422)'>_read</span><span style = 'color:rgba(253,10,10,0.2278494328260422)'>_a</span><span style = 'color:rgba(253,10,10,0.2375925660133362)'>_lot</span><span style = 'color:rgba(253,10,10,0.2968389689922333)'>_of</span><span style = 'color:rgba(253,10,10,0.2278494328260422)'>_bad</span><span style = 'color:rgba(253,10,10,0.2278494328260422)'>_ones</span>"
      ],
      "text/plain": [
       "<IPython.core.display.HTML object>"
      ]
     },
     "metadata": {},
     "output_type": "display_data"
    },
    {
     "name": "stdout",
     "output_type": "stream",
     "text": [
      "label:0.0\t guess:0.0\n"
     ]
    },
    {
     "data": {
      "text/html": [
       "<span style = 'color:rgba(253,10,253,0.22563719153404238)'>_I</span><span style = 'color:rgba(253,10,253,0.26281410455703735)'>_had</span><span style = 'color:rgba(253,10,253,0.22563719153404238)'>_always</span><span style = 'color:rgba(253,10,253,0.2396704286336899)'>_been</span><span style = 'color:rgba(253,10,253,0.22957627475261688)'>_a</span><span style = 'color:rgba(253,10,253,0.22563719153404238)'>_big</span><span style = 'color:rgba(253,10,253,0.22640879154205323)'>_Lynda</span><span style = 'color:rgba(253,10,253,0.22640879154205323)'>_Carter-Wonder</span><span style = 'color:rgba(253,10,253,0.22640879154205323)'>_Woman</span><span style = 'color:rgba(253,10,253,0.2685546576976776)'>_fan</span><span style = 'color:rgba(253,10,253,0.22563719153404238)'>_so</span><span style = 'color:rgba(253,10,253,0.22563719153404238)'>_when</span><span style = 'color:rgba(253,10,253,0.22563719153404238)'>_the</span><span style = 'color:rgba(253,10,253,0.22563719153404238)'>_Sci-Fi</span><span style = 'color:rgba(253,10,253,0.23800667822360994)'>_Channel</span><span style = 'color:rgba(253,10,253,0.34938740730285645)'>_ran</span><span style = 'color:rgba(253,10,253,0.2338543921709061)'>_this</span><span style = 'color:rgba(253,10,253,0.22640879154205323)'>_movie,I</span><span style = 'color:rgba(253,10,253,0.26281410455703735)'>_had</span><span style = 'color:rgba(253,10,253,0.2302264451980591)'>_to</span>"
      ],
      "text/plain": [
       "<IPython.core.display.HTML object>"
      ]
     },
     "metadata": {},
     "output_type": "display_data"
    },
    {
     "data": {
      "text/html": [
       "<span style = 'color:rgba(253,10,10,0.23891895711421968)'>_I</span><span style = 'color:rgba(253,10,10,0.22921789288520814)'>_had</span><span style = 'color:rgba(253,10,10,0.36039624214172367)'>_always</span><span style = 'color:rgba(253,10,10,0.22921789288520814)'>_been</span><span style = 'color:rgba(253,10,10,0.22921789288520814)'>_a</span><span style = 'color:rgba(253,10,10,0.25183573365211487)'>_big</span><span style = 'color:rgba(253,10,10,0.22921789288520814)'>_Lynda</span><span style = 'color:rgba(253,10,10,0.22921789288520814)'>_Carter-Wonder</span><span style = 'color:rgba(253,10,10,0.22921789288520814)'>_Woman</span><span style = 'color:rgba(253,10,10,0.22921789288520814)'>_fan</span><span style = 'color:rgba(253,10,10,0.23354808688163758)'>_so</span><span style = 'color:rgba(253,10,10,0.25164887905120853)'>_when</span><span style = 'color:rgba(253,10,10,0.23562402427196505)'>_the</span><span style = 'color:rgba(253,10,10,0.2481954872608185)'>_Sci-Fi</span><span style = 'color:rgba(253,10,10,0.22921789288520814)'>_Channel</span><span style = 'color:rgba(253,10,10,0.22921789288520814)'>_ran</span><span style = 'color:rgba(253,10,10,0.22921789288520814)'>_this</span><span style = 'color:rgba(253,10,10,0.22921789288520814)'>_movie,I</span><span style = 'color:rgba(253,10,10,0.22921789288520814)'>_had</span><span style = 'color:rgba(253,10,10,0.22921789288520814)'>_to</span>"
      ],
      "text/plain": [
       "<IPython.core.display.HTML object>"
      ]
     },
     "metadata": {},
     "output_type": "display_data"
    },
    {
     "name": "stdout",
     "output_type": "stream",
     "text": [
      "label:0.0\t guess:0.0\n"
     ]
    },
    {
     "data": {
      "text/html": [
       "<span style = 'color:rgba(253,10,253,0.2522810101509094)'>_Let</span><span style = 'color:rgba(253,10,253,0.23089050352573395)'>_me</span><span style = 'color:rgba(253,10,253,0.40012099742889407)'>_just</span><span style = 'color:rgba(253,10,253,0.22409675121307374)'>_say</span><span style = 'color:rgba(253,10,253,0.2233927056193352)'>_I</span><span style = 'color:rgba(253,10,253,0.2340854346752167)'>_loved</span><span style = 'color:rgba(253,10,253,0.24688452184200288)'>_the</span><span style = 'color:rgba(253,10,253,0.2233927056193352)'>_original</span><span style = 'color:rgba(253,10,253,0.22409675121307374)'>_Boogeyman.</span><span style = 'color:rgba(253,10,253,0.22635330855846406)'>_Sure,</span><span style = 'color:rgba(253,10,253,0.22409675121307374)'>_it's</span><span style = 'color:rgba(253,10,253,0.26395460963249207)'>_a</span><span style = 'color:rgba(253,10,253,0.2233927056193352)'>_flawed</span><span style = 'color:rgba(253,10,253,0.24372784793376923)'>_clichd</span><span style = 'color:rgba(253,10,253,0.2233927056193352)'>_80s</span><span style = 'color:rgba(253,10,253,0.2340854346752167)'>_horror</span><span style = 'color:rgba(253,10,253,0.2243211477994919)'>_movie,</span><span style = 'color:rgba(253,10,253,0.2306486815214157)'>_but</span><span style = 'color:rgba(253,10,253,0.2233927056193352)'>_hey</span><span style = 'color:rgba(253,10,253,0.2233927056193352)'>_those</span>"
      ],
      "text/plain": [
       "<IPython.core.display.HTML object>"
      ]
     },
     "metadata": {},
     "output_type": "display_data"
    },
    {
     "data": {
      "text/html": [
       "<span style = 'color:rgba(253,10,10,0.23051186800003054)'>_Let</span><span style = 'color:rgba(253,10,10,0.23051186800003054)'>_me</span><span style = 'color:rgba(253,10,10,0.23051186800003054)'>_just</span><span style = 'color:rgba(253,10,10,0.23051186800003054)'>_say</span><span style = 'color:rgba(253,10,10,0.2622734069824219)'>_I</span><span style = 'color:rgba(253,10,10,0.23051186800003054)'>_loved</span><span style = 'color:rgba(253,10,10,0.23051186800003054)'>_the</span><span style = 'color:rgba(253,10,10,0.2372017115354538)'>_original</span><span style = 'color:rgba(253,10,10,0.23051186800003054)'>_Boogeyman.</span><span style = 'color:rgba(253,10,10,0.23051186800003054)'>_Sure,</span><span style = 'color:rgba(253,10,10,0.23051186800003054)'>_it's</span><span style = 'color:rgba(253,10,10,0.23051186800003054)'>_a</span><span style = 'color:rgba(253,10,10,0.25569984316825867)'>_flawed</span><span style = 'color:rgba(253,10,10,0.23051186800003054)'>_clichd</span><span style = 'color:rgba(253,10,10,0.30609687566757204)'>_80s</span><span style = 'color:rgba(253,10,10,0.23051186800003054)'>_horror</span><span style = 'color:rgba(253,10,10,0.23051186800003054)'>_movie,</span><span style = 'color:rgba(253,10,10,0.23051186800003054)'>_but</span><span style = 'color:rgba(253,10,10,0.2372017115354538)'>_hey</span><span style = 'color:rgba(253,10,10,0.2743602871894837)'>_those</span>"
      ],
      "text/plain": [
       "<IPython.core.display.HTML object>"
      ]
     },
     "metadata": {},
     "output_type": "display_data"
    },
    {
     "name": "stdout",
     "output_type": "stream",
     "text": [
      "label:1.0\t guess:1.0\n"
     ]
    },
    {
     "data": {
      "text/html": [
       "<span style = 'color:rgba(253,10,253,0.22928706109523775)'>_In</span><span style = 'color:rgba(253,10,253,0.22928706109523775)'>_the</span><span style = 'color:rgba(253,10,253,0.26372098326683047)'>_sea</span><span style = 'color:rgba(253,10,253,0.22928706109523775)'>_of</span><span style = 'color:rgba(253,10,253,0.2690853655338288)'>_crap</span><span style = 'color:rgba(253,10,253,0.2370926707983017)'>_that</span><span style = 'color:rgba(253,10,253,0.2369713068008423)'>_Hollywood</span><span style = 'color:rgba(253,10,253,0.22928706109523775)'>_(and</span><span style = 'color:rgba(253,10,253,0.23016851246356965)'>_others)</span><span style = 'color:rgba(253,10,253,0.32340966463088994)'>_continue</span><span style = 'color:rgba(253,10,253,0.2345296710729599)'>_to</span><span style = 'color:rgba(253,10,253,0.2335623234510422)'>_put</span><span style = 'color:rgba(253,10,253,0.22928706109523775)'>_out,</span><span style = 'color:rgba(253,10,253,0.23867411017417908)'>_this</span><span style = 'color:rgba(253,10,253,0.22928706109523775)'>_is</span><span style = 'color:rgba(253,10,253,0.2299490660429001)'>_one</span><span style = 'color:rgba(253,10,253,0.22928706109523775)'>_of</span><span style = 'color:rgba(253,10,253,0.22928706109523775)'>_those</span><span style = 'color:rgba(253,10,253,0.23016851246356965)'>_diamonds</span><span style = 'color:rgba(253,10,253,0.23837136030197145)'>_in</span>"
      ],
      "text/plain": [
       "<IPython.core.display.HTML object>"
      ]
     },
     "metadata": {},
     "output_type": "display_data"
    },
    {
     "data": {
      "text/html": [
       "<span style = 'color:rgba(253,10,10,0.2427609294652939)'>_In</span><span style = 'color:rgba(253,10,10,0.2351996123790741)'>_the</span><span style = 'color:rgba(253,10,10,0.22886980175971985)'>_sea</span><span style = 'color:rgba(253,10,10,0.30038702487945557)'>_of</span><span style = 'color:rgba(253,10,10,0.22886980175971985)'>_crap</span><span style = 'color:rgba(253,10,10,0.22886980175971985)'>_that</span><span style = 'color:rgba(253,10,10,0.22886980175971985)'>_Hollywood</span><span style = 'color:rgba(253,10,10,0.23631784915924073)'>_(and</span><span style = 'color:rgba(253,10,10,0.22886980175971985)'>_others)</span><span style = 'color:rgba(253,10,10,0.22886980175971985)'>_continue</span><span style = 'color:rgba(253,10,10,0.22886980175971985)'>_to</span><span style = 'color:rgba(253,10,10,0.22886980175971985)'>_put</span><span style = 'color:rgba(253,10,10,0.24902716875076295)'>_out,</span><span style = 'color:rgba(253,10,10,0.22886980175971985)'>_this</span><span style = 'color:rgba(253,10,10,0.2558473289012909)'>_is</span><span style = 'color:rgba(253,10,10,0.22886980175971985)'>_one</span><span style = 'color:rgba(253,10,10,0.30038702487945557)'>_of</span><span style = 'color:rgba(253,10,10,0.23363548815250398)'>_those</span><span style = 'color:rgba(253,10,10,0.22886980175971985)'>_diamonds</span><span style = 'color:rgba(253,10,10,0.22886980175971985)'>_in</span>"
      ],
      "text/plain": [
       "<IPython.core.display.HTML object>"
      ]
     },
     "metadata": {},
     "output_type": "display_data"
    },
    {
     "name": "stdout",
     "output_type": "stream",
     "text": [
      "label:1.0\t guess:1.0\n"
     ]
    },
    {
     "data": {
      "text/html": [
       "<span style = 'color:rgba(253,10,253,0.23876729607582092)'>_Although</span><span style = 'color:rgba(253,10,253,0.24201631844043733)'>_this</span><span style = 'color:rgba(253,10,253,0.23166994750499725)'>_show</span><span style = 'color:rgba(253,10,253,0.25907545089721684)'>_has</span><span style = 'color:rgba(253,10,253,0.23819153010845184)'>_been</span><span style = 'color:rgba(253,10,253,0.23074462711811067)'>_off</span><span style = 'color:rgba(253,10,253,0.27406899929046635)'>_the</span><span style = 'color:rgba(253,10,253,0.23074462711811067)'>_air</span><span style = 'color:rgba(253,10,253,0.24719366729259493)'>_since</span><span style = 'color:rgba(253,10,253,0.23074462711811067)'>_1973,</span><span style = 'color:rgba(253,10,253,0.23476859331130984)'>_after</span><span style = 'color:rgba(253,10,253,0.23912208378314972)'>_viewing</span><span style = 'color:rgba(253,10,253,0.23074462711811067)'>_a</span><span style = 'color:rgba(253,10,253,0.28582916855812074)'>_DVD</span><span style = 'color:rgba(253,10,253,0.23074462711811067)'>_set</span><span style = 'color:rgba(253,10,253,0.23166994750499725)'>_I</span><span style = 'color:rgba(253,10,253,0.23074462711811067)'>_borrowed</span><span style = 'color:rgba(253,10,253,0.23074462711811067)'>_at</span><span style = 'color:rgba(253,10,253,0.23074462711811067)'>_our</span><span style = 'color:rgba(253,10,253,0.23166994750499725)'>_library,</span>"
      ],
      "text/plain": [
       "<IPython.core.display.HTML object>"
      ]
     },
     "metadata": {},
     "output_type": "display_data"
    },
    {
     "data": {
      "text/html": [
       "<span style = 'color:rgba(253,10,10,0.23114306330680848)'>_Although</span><span style = 'color:rgba(253,10,10,0.23114306330680848)'>_this</span><span style = 'color:rgba(253,10,10,0.23114306330680848)'>_show</span><span style = 'color:rgba(253,10,10,0.23114306330680848)'>_has</span><span style = 'color:rgba(253,10,10,0.23114306330680848)'>_been</span><span style = 'color:rgba(253,10,10,0.26950836181640625)'>_off</span><span style = 'color:rgba(253,10,10,0.23114306330680848)'>_the</span><span style = 'color:rgba(253,10,10,0.2515650689601898)'>_air</span><span style = 'color:rgba(253,10,10,0.23114306330680848)'>_since</span><span style = 'color:rgba(253,10,10,0.235758575797081)'>_1973,</span><span style = 'color:rgba(253,10,10,0.23114306330680848)'>_after</span><span style = 'color:rgba(253,10,10,0.23114306330680848)'>_viewing</span><span style = 'color:rgba(253,10,10,0.23797129690647126)'>_a</span><span style = 'color:rgba(253,10,10,0.23114306330680848)'>_DVD</span><span style = 'color:rgba(253,10,10,0.26983246803283695)'>_set</span><span style = 'color:rgba(253,10,10,0.23114306330680848)'>_I</span><span style = 'color:rgba(253,10,10,0.2472600668668747)'>_borrowed</span><span style = 'color:rgba(253,10,10,0.26720104813575746)'>_at</span><span style = 'color:rgba(253,10,10,0.24718635380268097)'>_our</span><span style = 'color:rgba(253,10,10,0.23114306330680848)'>_library,</span>"
      ],
      "text/plain": [
       "<IPython.core.display.HTML object>"
      ]
     },
     "metadata": {},
     "output_type": "display_data"
    },
    {
     "name": "stdout",
     "output_type": "stream",
     "text": [
      "label:0.0\t guess:0.0\n"
     ]
    },
    {
     "data": {
      "text/html": [
       "<span style = 'color:rgba(253,10,253,0.23512268364429476)'>_I'm</span><span style = 'color:rgba(253,10,253,0.22610095739364625)'>_into</span><span style = 'color:rgba(253,10,253,0.4187910795211792)'>_bad</span><span style = 'color:rgba(253,10,253,0.22344220876693727)'>_movies</span><span style = 'color:rgba(253,10,253,0.22344220876693727)'>_but</span><span style = 'color:rgba(253,10,253,0.23095587193965914)'>_this</span><span style = 'color:rgba(253,10,253,0.22344220876693727)'>_has</span><span style = 'color:rgba(253,10,253,0.2788456439971924)'>_NOTHING</span><span style = 'color:rgba(253,10,253,0.22344220876693727)'>_going</span><span style = 'color:rgba(253,10,253,0.22982985973358155)'>_for</span><span style = 'color:rgba(253,10,253,0.24901663959026338)'>_it.</span><span style = 'color:rgba(253,10,253,0.22344220876693727)'>_Despite</span><span style = 'color:rgba(253,10,253,0.23415756523609163)'>_what</span><span style = 'color:rgba(253,10,253,0.22344220876693727)'>_the</span><span style = 'color:rgba(253,10,253,0.2241477444767952)'>_morons</span><span style = 'color:rgba(253,10,253,0.22344220876693727)'>_above</span><span style = 'color:rgba(253,10,253,0.22808915972709656)'>_have</span><span style = 'color:rgba(253,10,253,0.2339629501104355)'>_said,</span><span style = 'color:rgba(253,10,253,0.22344220876693727)'>_it</span><span style = 'color:rgba(253,10,253,0.22344220876693727)'>_is</span>"
      ],
      "text/plain": [
       "<IPython.core.display.HTML object>"
      ]
     },
     "metadata": {},
     "output_type": "display_data"
    },
    {
     "data": {
      "text/html": [
       "<span style = 'color:rgba(253,10,10,0.233078271150589)'>_I'm</span><span style = 'color:rgba(253,10,10,0.233078271150589)'>_into</span><span style = 'color:rgba(253,10,10,0.233078271150589)'>_bad</span><span style = 'color:rgba(253,10,10,0.25464595556259156)'>_movies</span><span style = 'color:rgba(253,10,10,0.25019677281379704)'>_but</span><span style = 'color:rgba(253,10,10,0.233078271150589)'>_this</span><span style = 'color:rgba(253,10,10,0.24308611452579498)'>_has</span><span style = 'color:rgba(253,10,10,0.233078271150589)'>_NOTHING</span><span style = 'color:rgba(253,10,10,0.24092445075511934)'>_going</span><span style = 'color:rgba(253,10,10,0.233078271150589)'>_for</span><span style = 'color:rgba(253,10,10,0.233078271150589)'>_it.</span><span style = 'color:rgba(253,10,10,0.24842037856578827)'>_Despite</span><span style = 'color:rgba(253,10,10,0.233078271150589)'>_what</span><span style = 'color:rgba(253,10,10,0.24033080339431764)'>_the</span><span style = 'color:rgba(253,10,10,0.233078271150589)'>_morons</span><span style = 'color:rgba(253,10,10,0.2444276124238968)'>_above</span><span style = 'color:rgba(253,10,10,0.233078271150589)'>_have</span><span style = 'color:rgba(253,10,10,0.233078271150589)'>_said,</span><span style = 'color:rgba(253,10,10,0.25011848211288457)'>_it</span><span style = 'color:rgba(253,10,10,0.2639884233474732)'>_is</span>"
      ],
      "text/plain": [
       "<IPython.core.display.HTML object>"
      ]
     },
     "metadata": {},
     "output_type": "display_data"
    },
    {
     "name": "stdout",
     "output_type": "stream",
     "text": [
      "label:1.0\t guess:1.0\n"
     ]
    },
    {
     "data": {
      "text/html": [
       "<span style = 'color:rgba(253,10,253,0.2287712335586548)'>_I</span><span style = 'color:rgba(253,10,253,0.29617188572883607)'>_don't</span><span style = 'color:rgba(253,10,253,0.2953113198280335)'>_remember</span><span style = 'color:rgba(253,10,253,0.2655825197696686)'>_ever</span><span style = 'color:rgba(253,10,253,0.23812741041183472)'>_seeing</span><span style = 'color:rgba(253,10,253,0.23799294829368592)'>_this</span><span style = 'color:rgba(253,10,253,0.22942157685756684)'>_one</span><span style = 'color:rgba(253,10,253,0.2287712335586548)'>_before</span><span style = 'color:rgba(253,10,253,0.22963715791702272)'>_tonight,</span><span style = 'color:rgba(253,10,253,0.2287712335586548)'>_probably</span><span style = 'color:rgba(253,10,253,0.2287712335586548)'>_the</span><span style = 'color:rgba(253,10,253,0.22948228418827057)'>_title</span><span style = 'color:rgba(253,10,253,0.24988250732421877)'>_sounded</span><span style = 'color:rgba(253,10,253,0.2287712335586548)'>_so</span><span style = 'color:rgba(253,10,253,0.2398121327161789)'>_ordinary</span><span style = 'color:rgba(253,10,253,0.2287712335586548)'>_it</span><span style = 'color:rgba(253,10,253,0.2287712335586548)'>_kept</span><span style = 'color:rgba(253,10,253,0.2287712335586548)'>_passing</span><span style = 'color:rgba(253,10,253,0.2287712335586548)'>_me</span><span style = 'color:rgba(253,10,253,0.22963715791702272)'>_by.</span>"
      ],
      "text/plain": [
       "<IPython.core.display.HTML object>"
      ]
     },
     "metadata": {},
     "output_type": "display_data"
    },
    {
     "data": {
      "text/html": [
       "<span style = 'color:rgba(253,10,10,0.24828107059001925)'>_I</span><span style = 'color:rgba(253,10,10,0.23624637722969055)'>_don't</span><span style = 'color:rgba(253,10,10,0.23624637722969055)'>_remember</span><span style = 'color:rgba(253,10,10,0.23624637722969055)'>_ever</span><span style = 'color:rgba(253,10,10,0.23624637722969055)'>_seeing</span><span style = 'color:rgba(253,10,10,0.23624637722969055)'>_this</span><span style = 'color:rgba(253,10,10,0.23624637722969055)'>_one</span><span style = 'color:rgba(253,10,10,0.23808142244815828)'>_before</span><span style = 'color:rgba(253,10,10,0.23624637722969055)'>_tonight,</span><span style = 'color:rgba(253,10,10,0.24545996189117433)'>_probably</span><span style = 'color:rgba(253,10,10,0.24419353008270264)'>_the</span><span style = 'color:rgba(253,10,10,0.23624637722969055)'>_title</span><span style = 'color:rgba(253,10,10,0.23624637722969055)'>_sounded</span><span style = 'color:rgba(253,10,10,0.24161821603775024)'>_so</span><span style = 'color:rgba(253,10,10,0.23624637722969055)'>_ordinary</span><span style = 'color:rgba(253,10,10,0.25491862893104555)'>_it</span><span style = 'color:rgba(253,10,10,0.24637884199619295)'>_kept</span><span style = 'color:rgba(253,10,10,0.2366097688674927)'>_passing</span><span style = 'color:rgba(253,10,10,0.24574836790561677)'>_me</span><span style = 'color:rgba(253,10,10,0.23624637722969055)'>_by.</span>"
      ],
      "text/plain": [
       "<IPython.core.display.HTML object>"
      ]
     },
     "metadata": {},
     "output_type": "display_data"
    },
    {
     "name": "stdout",
     "output_type": "stream",
     "text": [
      "label:0.0\t guess:0.0\n"
     ]
    },
    {
     "data": {
      "text/html": [
       "<span style = 'color:rgba(253,10,253,0.23036266267299654)'>_It</span><span style = 'color:rgba(253,10,253,0.26085396409034733)'>_was</span><span style = 'color:rgba(253,10,253,0.23036266267299654)'>_probably</span><span style = 'color:rgba(253,10,253,0.28301016688346864)'>_just</span><span style = 'color:rgba(253,10,253,0.23036266267299654)'>_my</span><span style = 'color:rgba(253,10,253,0.23127648532390596)'>_DVD---but</span><span style = 'color:rgba(253,10,253,0.23036266267299654)'>_I</span><span style = 'color:rgba(253,10,253,0.2572928607463837)'>_would</span><span style = 'color:rgba(253,10,253,0.24660733938217164)'>_not</span><span style = 'color:rgba(253,10,253,0.2670437514781952)'>_recommend</span><span style = 'color:rgba(253,10,253,0.2384549379348755)'>_that</span><span style = 'color:rgba(253,10,253,0.23036266267299654)'>_anyone</span><span style = 'color:rgba(253,10,253,0.23036266267299654)'>_try</span><span style = 'color:rgba(253,10,253,0.2357978105545044)'>_to</span><span style = 'color:rgba(253,10,253,0.23036266267299654)'>_watch</span><span style = 'color:rgba(253,10,253,0.2400944620370865)'>_this</span><span style = 'color:rgba(253,10,253,0.23036266267299654)'>_picture</span><span style = 'color:rgba(253,10,253,0.23036266267299654)'>_on</span><span style = 'color:rgba(253,10,253,0.23502780199050904)'>_a</span><span style = 'color:rgba(253,10,253,0.23127648532390596)'>_DVD.<br</span>"
      ],
      "text/plain": [
       "<IPython.core.display.HTML object>"
      ]
     },
     "metadata": {},
     "output_type": "display_data"
    },
    {
     "data": {
      "text/html": [
       "<span style = 'color:rgba(253,10,10,0.2306463122367859)'>_It</span><span style = 'color:rgba(253,10,10,0.22291303128004075)'>_was</span><span style = 'color:rgba(253,10,10,0.2287373721599579)'>_probably</span><span style = 'color:rgba(253,10,10,0.22291303128004075)'>_just</span><span style = 'color:rgba(253,10,10,0.24291316866874696)'>_my</span><span style = 'color:rgba(253,10,10,0.22291303128004075)'>_DVD---but</span><span style = 'color:rgba(253,10,10,0.23052071928977969)'>_I</span><span style = 'color:rgba(253,10,10,0.22291303128004075)'>_would</span><span style = 'color:rgba(253,10,10,0.22291303128004075)'>_not</span><span style = 'color:rgba(253,10,10,0.22291303128004075)'>_recommend</span><span style = 'color:rgba(253,10,10,0.22291303128004075)'>_that</span><span style = 'color:rgba(253,10,10,0.2358908534049988)'>_anyone</span><span style = 'color:rgba(253,10,10,0.22508720755577089)'>_try</span><span style = 'color:rgba(253,10,10,0.22291303128004075)'>_to</span><span style = 'color:rgba(253,10,10,0.2486118108034134)'>_watch</span><span style = 'color:rgba(253,10,10,0.22291303128004075)'>_this</span><span style = 'color:rgba(253,10,10,0.48257217407226566)'>_picture</span><span style = 'color:rgba(253,10,10,0.22297706305980683)'>_on</span><span style = 'color:rgba(253,10,10,0.22291303128004075)'>_a</span><span style = 'color:rgba(253,10,10,0.22291303128004075)'>_DVD.<br</span>"
      ],
      "text/plain": [
       "<IPython.core.display.HTML object>"
      ]
     },
     "metadata": {},
     "output_type": "display_data"
    },
    {
     "name": "stdout",
     "output_type": "stream",
     "text": [
      "label:1.0\t guess:1.0\n"
     ]
    },
    {
     "data": {
      "text/html": [
       "<span style = 'color:rgba(253,10,253,0.23781582415103913)'>_Lindy</span><span style = 'color:rgba(253,10,253,0.23691158890724184)'>_(Meryl</span><span style = 'color:rgba(253,10,253,0.23691158890724184)'>_Streep)</span><span style = 'color:rgba(253,10,253,0.2425829529762268)'>_and</span><span style = 'color:rgba(253,10,253,0.2380225121974945)'>_her</span><span style = 'color:rgba(253,10,253,0.23691158890724184)'>_husband</span><span style = 'color:rgba(253,10,253,0.23691158890724184)'>_Michael</span><span style = 'color:rgba(253,10,253,0.23691158890724184)'>_(Sam</span><span style = 'color:rgba(253,10,253,0.23691158890724184)'>_Neill)</span><span style = 'color:rgba(253,10,253,0.24351904690265658)'>_have</span><span style = 'color:rgba(253,10,253,0.27361128330230716)'>_just</span><span style = 'color:rgba(253,10,253,0.24351904690265658)'>_welcomed</span><span style = 'color:rgba(253,10,253,0.2380225121974945)'>_a</span><span style = 'color:rgba(253,10,253,0.2380225121974945)'>_baby</span><span style = 'color:rgba(253,10,253,0.23774593472480776)'>_girl,</span><span style = 'color:rgba(253,10,253,0.23691158890724184)'>_Azaria.</span><span style = 'color:rgba(253,10,253,0.23691158890724184)'>_As</span><span style = 'color:rgba(253,10,253,0.23691158890724184)'>_Seventh</span><span style = 'color:rgba(253,10,253,0.23691158890724184)'>_Day</span><span style = 'color:rgba(253,10,253,0.2380225121974945)'>_Adventists,</span>"
      ],
      "text/plain": [
       "<IPython.core.display.HTML object>"
      ]
     },
     "metadata": {},
     "output_type": "display_data"
    },
    {
     "data": {
      "text/html": [
       "<span style = 'color:rgba(253,10,10,0.22936217188835145)'>_Lindy</span><span style = 'color:rgba(253,10,10,0.2312522530555725)'>_(Meryl</span><span style = 'color:rgba(253,10,10,0.23579411506652834)'>_Streep)</span><span style = 'color:rgba(253,10,10,0.22936217188835145)'>_and</span><span style = 'color:rgba(253,10,10,0.22936217188835145)'>_her</span><span style = 'color:rgba(253,10,10,0.2658391535282135)'>_husband</span><span style = 'color:rgba(253,10,10,0.23579993844032288)'>_Michael</span><span style = 'color:rgba(253,10,10,0.24439174830913546)'>_(Sam</span><span style = 'color:rgba(253,10,10,0.24182827770709991)'>_Neill)</span><span style = 'color:rgba(253,10,10,0.22936217188835145)'>_have</span><span style = 'color:rgba(253,10,10,0.22936217188835145)'>_just</span><span style = 'color:rgba(253,10,10,0.22936217188835145)'>_welcomed</span><span style = 'color:rgba(253,10,10,0.22936217188835145)'>_a</span><span style = 'color:rgba(253,10,10,0.22936217188835145)'>_baby</span><span style = 'color:rgba(253,10,10,0.22936217188835145)'>_girl,</span><span style = 'color:rgba(253,10,10,0.3020991086959839)'>_Azaria.</span><span style = 'color:rgba(253,10,10,0.23579993844032288)'>_As</span><span style = 'color:rgba(253,10,10,0.24542238116264345)'>_Seventh</span><span style = 'color:rgba(253,10,10,0.2681514203548432)'>_Day</span><span style = 'color:rgba(253,10,10,0.22936217188835145)'>_Adventists,</span>"
      ],
      "text/plain": [
       "<IPython.core.display.HTML object>"
      ]
     },
     "metadata": {},
     "output_type": "display_data"
    },
    {
     "name": "stdout",
     "output_type": "stream",
     "text": [
      "label:0.0\t guess:0.0\n"
     ]
    },
    {
     "data": {
      "text/html": [
       "<span style = 'color:rgba(253,10,253,0.22433233112096787)'>_Who</span><span style = 'color:rgba(253,10,253,0.2554642736911774)'>_ever</span><span style = 'color:rgba(253,10,253,0.2555626690387726)'>_wrote</span><span style = 'color:rgba(253,10,253,0.22433233112096787)'>_the</span><span style = 'color:rgba(253,10,253,0.22433233112096787)'>_two</span><span style = 'color:rgba(253,10,253,0.26756144762039186)'>_or</span><span style = 'color:rgba(253,10,253,0.23764937520027163)'>_three</span><span style = 'color:rgba(253,10,253,0.2250646561384201)'>_glowing</span><span style = 'color:rgba(253,10,253,0.24379182159900667)'>_reviews</span><span style = 'color:rgba(253,10,253,0.23352929949760437)'>_were</span><span style = 'color:rgba(253,10,253,0.31535762548446655)'>_either</span><span style = 'color:rgba(253,10,253,0.22433233112096787)'>_involved</span><span style = 'color:rgba(253,10,253,0.2318797677755356)'>_in</span><span style = 'color:rgba(253,10,253,0.22433233112096787)'>_the</span><span style = 'color:rgba(253,10,253,0.2543810069561005)'>_making</span><span style = 'color:rgba(253,10,253,0.22433233112096787)'>_of</span><span style = 'color:rgba(253,10,253,0.23213129639625552)'>_this</span><span style = 'color:rgba(253,10,253,0.25296807885169986)'>_film,</span><span style = 'color:rgba(253,10,253,0.22433233112096787)'>_term</span><span style = 'color:rgba(253,10,253,0.22433233112096787)'>_used</span>"
      ],
      "text/plain": [
       "<IPython.core.display.HTML object>"
      ]
     },
     "metadata": {},
     "output_type": "display_data"
    },
    {
     "data": {
      "text/html": [
       "<span style = 'color:rgba(253,10,10,0.24577600955963136)'>_Who</span><span style = 'color:rgba(253,10,10,0.2314632296562195)'>_ever</span><span style = 'color:rgba(253,10,10,0.2314632296562195)'>_wrote</span><span style = 'color:rgba(253,10,10,0.23836166262626649)'>_the</span><span style = 'color:rgba(253,10,10,0.2349276661872864)'>_two</span><span style = 'color:rgba(253,10,10,0.2314632296562195)'>_or</span><span style = 'color:rgba(253,10,10,0.2314632296562195)'>_three</span><span style = 'color:rgba(253,10,10,0.2314632296562195)'>_glowing</span><span style = 'color:rgba(253,10,10,0.2314632296562195)'>_reviews</span><span style = 'color:rgba(253,10,10,0.2314632296562195)'>_were</span><span style = 'color:rgba(253,10,10,0.2314632296562195)'>_either</span><span style = 'color:rgba(253,10,10,0.2513379752635956)'>_involved</span><span style = 'color:rgba(253,10,10,0.2314632296562195)'>_in</span><span style = 'color:rgba(253,10,10,0.23836166262626649)'>_the</span><span style = 'color:rgba(253,10,10,0.2314632296562195)'>_making</span><span style = 'color:rgba(253,10,10,0.30940498113632203)'>_of</span><span style = 'color:rgba(253,10,10,0.2314632296562195)'>_this</span><span style = 'color:rgba(253,10,10,0.2314632296562195)'>_film,</span><span style = 'color:rgba(253,10,10,0.2697111964225769)'>_term</span><span style = 'color:rgba(253,10,10,0.23456004858016968)'>_used</span>"
      ],
      "text/plain": [
       "<IPython.core.display.HTML object>"
      ]
     },
     "metadata": {},
     "output_type": "display_data"
    },
    {
     "name": "stdout",
     "output_type": "stream",
     "text": [
      "label:0.0\t guess:0.0\n"
     ]
    },
    {
     "data": {
      "text/html": [
       "<span style = 'color:rgba(253,10,253,0.22708715498447418)'>_I</span><span style = 'color:rgba(253,10,253,0.23245664536952973)'>_have</span><span style = 'color:rgba(253,10,253,0.23193596601486208)'>_to</span><span style = 'color:rgba(253,10,253,0.23174615502357485)'>_be</span><span style = 'color:rgba(253,10,253,0.2446678727865219)'>_completely</span><span style = 'color:rgba(253,10,253,0.22708715498447418)'>_honest</span><span style = 'color:rgba(253,10,253,0.23548908829689028)'>_in</span><span style = 'color:rgba(253,10,253,0.2819934606552124)'>_saying</span><span style = 'color:rgba(253,10,253,0.22708715498447418)'>_first</span><span style = 'color:rgba(253,10,253,0.23430644273757936)'>_that</span><span style = 'color:rgba(253,10,253,0.22708715498447418)'>_I</span><span style = 'color:rgba(253,10,253,0.22708715498447418)'>_fell</span><span style = 'color:rgba(253,10,253,0.3016055583953858)'>_asleep</span><span style = 'color:rgba(253,10,253,0.263890153169632)'>_somewhere</span><span style = 'color:rgba(253,10,253,0.23548908829689028)'>_in</span><span style = 'color:rgba(253,10,253,0.22708715498447418)'>_the</span><span style = 'color:rgba(253,10,253,0.22790239453315736)'>_middle,</span><span style = 'color:rgba(253,10,253,0.22708715498447418)'>_so</span><span style = 'color:rgba(253,10,253,0.22708715498447418)'>_I</span><span style = 'color:rgba(253,10,253,0.2618198931217194)'>_cannot</span>"
      ],
      "text/plain": [
       "<IPython.core.display.HTML object>"
      ]
     },
     "metadata": {},
     "output_type": "display_data"
    },
    {
     "data": {
      "text/html": [
       "<span style = 'color:rgba(253,10,10,0.24507685005664825)'>_I</span><span style = 'color:rgba(253,10,10,0.23384085297584534)'>_have</span><span style = 'color:rgba(253,10,10,0.23384085297584534)'>_to</span><span style = 'color:rgba(253,10,10,0.23384085297584534)'>_be</span><span style = 'color:rgba(253,10,10,0.23384085297584534)'>_completely</span><span style = 'color:rgba(253,10,10,0.2552745282649994)'>_honest</span><span style = 'color:rgba(253,10,10,0.23384085297584534)'>_in</span><span style = 'color:rgba(253,10,10,0.23384085297584534)'>_saying</span><span style = 'color:rgba(253,10,10,0.2824733257293701)'>_first</span><span style = 'color:rgba(253,10,10,0.23384085297584534)'>_that</span><span style = 'color:rgba(253,10,10,0.24507685005664825)'>_I</span><span style = 'color:rgba(253,10,10,0.24081460237503052)'>_fell</span><span style = 'color:rgba(253,10,10,0.23384085297584534)'>_asleep</span><span style = 'color:rgba(253,10,10,0.23384085297584534)'>_somewhere</span><span style = 'color:rgba(253,10,10,0.23384085297584534)'>_in</span><span style = 'color:rgba(253,10,10,0.24126058220863345)'>_the</span><span style = 'color:rgba(253,10,10,0.23384085297584534)'>_middle,</span><span style = 'color:rgba(253,10,10,0.23885618448257448)'>_so</span><span style = 'color:rgba(253,10,10,0.24507685005664825)'>_I</span><span style = 'color:rgba(253,10,10,0.23384085297584534)'>_cannot</span>"
      ],
      "text/plain": [
       "<IPython.core.display.HTML object>"
      ]
     },
     "metadata": {},
     "output_type": "display_data"
    }
   ],
   "source": [
    "for i in range(256):\n",
    "    paint_comment(seq[i],mask[i],y[i],y_[i])"
   ]
  },
  {
   "cell_type": "code",
   "execution_count": null,
   "metadata": {},
   "outputs": [],
   "source": []
  }
 ],
 "metadata": {
  "kernelspec": {
   "display_name": "Python 3",
   "language": "python",
   "name": "python3"
  },
  "language_info": {
   "codemirror_mode": {
    "name": "ipython",
    "version": 3
   },
   "file_extension": ".py",
   "mimetype": "text/x-python",
   "name": "python",
   "nbconvert_exporter": "python",
   "pygments_lexer": "ipython3",
   "version": "3.6.4"
  }
 },
 "nbformat": 4,
 "nbformat_minor": 2
}
