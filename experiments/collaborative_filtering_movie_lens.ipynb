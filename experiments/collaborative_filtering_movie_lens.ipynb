{
 "cells": [
  {
   "cell_type": "markdown",
   "metadata": {},
   "source": [
    "# Collaborative Filtering model on MovieLens"
   ]
  },
  {
   "cell_type": "markdown",
   "metadata": {},
   "source": [
    "Download the 20m [movielens dataset](http://files.grouplens.org/datasets/movielens/ml-20m.zip)"
   ]
  },
  {
   "cell_type": "markdown",
   "metadata": {},
   "source": [
    "You can use the aria2c or wget to download"
   ]
  },
  {
   "cell_type": "code",
   "execution_count": 1,
   "metadata": {},
   "outputs": [],
   "source": [
    "# %cd /data\n",
    "# !!wget http://files.grouplens.org/datasets/movielens/ml-latest-small.zip\n",
    "# !!unzip ml-latest-small.zip"
   ]
  },
  {
   "cell_type": "code",
   "execution_count": 1,
   "metadata": {},
   "outputs": [],
   "source": [
    "import pandas as pd\n",
    "import numpy as np\n",
    "import os\n",
    "import torch\n",
    "from ray.matchbox import Trainer,Arr_Dataset\n",
    "from torch.utils.data import DataLoader,Dataset"
   ]
  },
  {
   "cell_type": "code",
   "execution_count": 2,
   "metadata": {},
   "outputs": [],
   "source": [
    "DATA = \"/data/ml-latest-small/\"\n",
    "DIM = 100\n",
    "CUDA = torch.cuda.is_available()"
   ]
  },
  {
   "cell_type": "code",
   "execution_count": 3,
   "metadata": {},
   "outputs": [
    {
     "data": {
      "text/plain": [
       "['links.csv', 'tags.csv', 'ratings.csv', 'README.txt', 'movies.csv']"
      ]
     },
     "execution_count": 3,
     "metadata": {},
     "output_type": "execute_result"
    }
   ],
   "source": [
    "files = os.listdir(DATA)\n",
    "files"
   ]
  },
  {
   "cell_type": "code",
   "execution_count": 4,
   "metadata": {},
   "outputs": [],
   "source": [
    "data = dict()\n",
    "for f in files:\n",
    "    if f[-3:]==\"csv\":\n",
    "        data[f.split(\".\")[0]] = pd.read_csv(DATA+f)"
   ]
  },
  {
   "cell_type": "markdown",
   "metadata": {},
   "source": [
    "### Check Data"
   ]
  },
  {
   "cell_type": "code",
   "execution_count": 5,
   "metadata": {},
   "outputs": [
    {
     "data": {
      "text/plain": [
       "'links'"
      ]
     },
     "metadata": {},
     "output_type": "display_data"
    },
    {
     "data": {
      "text/html": [
       "<div>\n",
       "<style scoped>\n",
       "    .dataframe tbody tr th:only-of-type {\n",
       "        vertical-align: middle;\n",
       "    }\n",
       "\n",
       "    .dataframe tbody tr th {\n",
       "        vertical-align: top;\n",
       "    }\n",
       "\n",
       "    .dataframe thead th {\n",
       "        text-align: right;\n",
       "    }\n",
       "</style>\n",
       "<table border=\"1\" class=\"dataframe\">\n",
       "  <thead>\n",
       "    <tr style=\"text-align: right;\">\n",
       "      <th></th>\n",
       "      <th>movieId</th>\n",
       "      <th>imdbId</th>\n",
       "      <th>tmdbId</th>\n",
       "    </tr>\n",
       "  </thead>\n",
       "  <tbody>\n",
       "    <tr>\n",
       "      <th>7369</th>\n",
       "      <td>72129</td>\n",
       "      <td>1233227</td>\n",
       "      <td>22804.0</td>\n",
       "    </tr>\n",
       "    <tr>\n",
       "      <th>6622</th>\n",
       "      <td>50798</td>\n",
       "      <td>799949</td>\n",
       "      <td>9760.0</td>\n",
       "    </tr>\n",
       "    <tr>\n",
       "      <th>4163</th>\n",
       "      <td>5489</td>\n",
       "      <td>79641</td>\n",
       "      <td>6404.0</td>\n",
       "    </tr>\n",
       "    <tr>\n",
       "      <th>7672</th>\n",
       "      <td>81847</td>\n",
       "      <td>398286</td>\n",
       "      <td>38757.0</td>\n",
       "    </tr>\n",
       "    <tr>\n",
       "      <th>1688</th>\n",
       "      <td>2130</td>\n",
       "      <td>80388</td>\n",
       "      <td>23954.0</td>\n",
       "    </tr>\n",
       "  </tbody>\n",
       "</table>\n",
       "</div>"
      ],
      "text/plain": [
       "      movieId   imdbId   tmdbId\n",
       "7369    72129  1233227  22804.0\n",
       "6622    50798   799949   9760.0\n",
       "4163     5489    79641   6404.0\n",
       "7672    81847   398286  38757.0\n",
       "1688     2130    80388  23954.0"
      ]
     },
     "metadata": {},
     "output_type": "display_data"
    },
    {
     "data": {
      "text/plain": [
       "'tags'"
      ]
     },
     "metadata": {},
     "output_type": "display_data"
    },
    {
     "data": {
      "text/html": [
       "<div>\n",
       "<style scoped>\n",
       "    .dataframe tbody tr th:only-of-type {\n",
       "        vertical-align: middle;\n",
       "    }\n",
       "\n",
       "    .dataframe tbody tr th {\n",
       "        vertical-align: top;\n",
       "    }\n",
       "\n",
       "    .dataframe thead th {\n",
       "        text-align: right;\n",
       "    }\n",
       "</style>\n",
       "<table border=\"1\" class=\"dataframe\">\n",
       "  <thead>\n",
       "    <tr style=\"text-align: right;\">\n",
       "      <th></th>\n",
       "      <th>userId</th>\n",
       "      <th>movieId</th>\n",
       "      <th>tag</th>\n",
       "      <th>timestamp</th>\n",
       "    </tr>\n",
       "  </thead>\n",
       "  <tbody>\n",
       "    <tr>\n",
       "      <th>300</th>\n",
       "      <td>346</td>\n",
       "      <td>3265</td>\n",
       "      <td>martial arts</td>\n",
       "      <td>1159734552</td>\n",
       "    </tr>\n",
       "    <tr>\n",
       "      <th>526</th>\n",
       "      <td>364</td>\n",
       "      <td>118997</td>\n",
       "      <td>funny</td>\n",
       "      <td>1444530106</td>\n",
       "    </tr>\n",
       "    <tr>\n",
       "      <th>656</th>\n",
       "      <td>431</td>\n",
       "      <td>4641</td>\n",
       "      <td>thora birch</td>\n",
       "      <td>1140455465</td>\n",
       "    </tr>\n",
       "    <tr>\n",
       "      <th>368</th>\n",
       "      <td>364</td>\n",
       "      <td>1176</td>\n",
       "      <td>lyrical</td>\n",
       "      <td>1444528947</td>\n",
       "    </tr>\n",
       "    <tr>\n",
       "      <th>1206</th>\n",
       "      <td>547</td>\n",
       "      <td>114662</td>\n",
       "      <td>toplist14</td>\n",
       "      <td>1423131235</td>\n",
       "    </tr>\n",
       "  </tbody>\n",
       "</table>\n",
       "</div>"
      ],
      "text/plain": [
       "      userId  movieId           tag   timestamp\n",
       "300      346     3265  martial arts  1159734552\n",
       "526      364   118997         funny  1444530106\n",
       "656      431     4641   thora birch  1140455465\n",
       "368      364     1176       lyrical  1444528947\n",
       "1206     547   114662     toplist14  1423131235"
      ]
     },
     "metadata": {},
     "output_type": "display_data"
    },
    {
     "data": {
      "text/plain": [
       "'ratings'"
      ]
     },
     "metadata": {},
     "output_type": "display_data"
    },
    {
     "data": {
      "text/html": [
       "<div>\n",
       "<style scoped>\n",
       "    .dataframe tbody tr th:only-of-type {\n",
       "        vertical-align: middle;\n",
       "    }\n",
       "\n",
       "    .dataframe tbody tr th {\n",
       "        vertical-align: top;\n",
       "    }\n",
       "\n",
       "    .dataframe thead th {\n",
       "        text-align: right;\n",
       "    }\n",
       "</style>\n",
       "<table border=\"1\" class=\"dataframe\">\n",
       "  <thead>\n",
       "    <tr style=\"text-align: right;\">\n",
       "      <th></th>\n",
       "      <th>userId</th>\n",
       "      <th>movieId</th>\n",
       "      <th>rating</th>\n",
       "      <th>timestamp</th>\n",
       "    </tr>\n",
       "  </thead>\n",
       "  <tbody>\n",
       "    <tr>\n",
       "      <th>98937</th>\n",
       "      <td>664</td>\n",
       "      <td>4887</td>\n",
       "      <td>3.5</td>\n",
       "      <td>1393891251</td>\n",
       "    </tr>\n",
       "    <tr>\n",
       "      <th>82566</th>\n",
       "      <td>562</td>\n",
       "      <td>2959</td>\n",
       "      <td>4.5</td>\n",
       "      <td>1167428248</td>\n",
       "    </tr>\n",
       "    <tr>\n",
       "      <th>32147</th>\n",
       "      <td>232</td>\n",
       "      <td>2688</td>\n",
       "      <td>4.0</td>\n",
       "      <td>955093825</td>\n",
       "    </tr>\n",
       "    <tr>\n",
       "      <th>56747</th>\n",
       "      <td>408</td>\n",
       "      <td>1059</td>\n",
       "      <td>5.0</td>\n",
       "      <td>933036132</td>\n",
       "    </tr>\n",
       "    <tr>\n",
       "      <th>21460</th>\n",
       "      <td>150</td>\n",
       "      <td>180</td>\n",
       "      <td>3.0</td>\n",
       "      <td>1114306408</td>\n",
       "    </tr>\n",
       "  </tbody>\n",
       "</table>\n",
       "</div>"
      ],
      "text/plain": [
       "       userId  movieId  rating   timestamp\n",
       "98937     664     4887     3.5  1393891251\n",
       "82566     562     2959     4.5  1167428248\n",
       "32147     232     2688     4.0   955093825\n",
       "56747     408     1059     5.0   933036132\n",
       "21460     150      180     3.0  1114306408"
      ]
     },
     "metadata": {},
     "output_type": "display_data"
    },
    {
     "data": {
      "text/plain": [
       "'movies'"
      ]
     },
     "metadata": {},
     "output_type": "display_data"
    },
    {
     "data": {
      "text/html": [
       "<div>\n",
       "<style scoped>\n",
       "    .dataframe tbody tr th:only-of-type {\n",
       "        vertical-align: middle;\n",
       "    }\n",
       "\n",
       "    .dataframe tbody tr th {\n",
       "        vertical-align: top;\n",
       "    }\n",
       "\n",
       "    .dataframe thead th {\n",
       "        text-align: right;\n",
       "    }\n",
       "</style>\n",
       "<table border=\"1\" class=\"dataframe\">\n",
       "  <thead>\n",
       "    <tr style=\"text-align: right;\">\n",
       "      <th></th>\n",
       "      <th>movieId</th>\n",
       "      <th>title</th>\n",
       "      <th>genres</th>\n",
       "    </tr>\n",
       "  </thead>\n",
       "  <tbody>\n",
       "    <tr>\n",
       "      <th>6409</th>\n",
       "      <td>44788</td>\n",
       "      <td>This Film Is Not Yet Rated (2006)</td>\n",
       "      <td>Documentary</td>\n",
       "    </tr>\n",
       "    <tr>\n",
       "      <th>3666</th>\n",
       "      <td>4676</td>\n",
       "      <td>Troop Beverly Hills (1989)</td>\n",
       "      <td>Comedy</td>\n",
       "    </tr>\n",
       "    <tr>\n",
       "      <th>6598</th>\n",
       "      <td>50005</td>\n",
       "      <td>Curse of the Golden Flower (Man cheng jin dai ...</td>\n",
       "      <td>Action|Drama</td>\n",
       "    </tr>\n",
       "    <tr>\n",
       "      <th>781</th>\n",
       "      <td>963</td>\n",
       "      <td>Inspector General, The (1949)</td>\n",
       "      <td>Musical</td>\n",
       "    </tr>\n",
       "    <tr>\n",
       "      <th>9122</th>\n",
       "      <td>163949</td>\n",
       "      <td>The Beatles: Eight Days a Week - The Touring Y...</td>\n",
       "      <td>Documentary</td>\n",
       "    </tr>\n",
       "  </tbody>\n",
       "</table>\n",
       "</div>"
      ],
      "text/plain": [
       "      movieId                                              title        genres\n",
       "6409    44788                  This Film Is Not Yet Rated (2006)   Documentary\n",
       "3666     4676                         Troop Beverly Hills (1989)        Comedy\n",
       "6598    50005  Curse of the Golden Flower (Man cheng jin dai ...  Action|Drama\n",
       "781       963                      Inspector General, The (1949)       Musical\n",
       "9122   163949  The Beatles: Eight Days a Week - The Touring Y...   Documentary"
      ]
     },
     "metadata": {},
     "output_type": "display_data"
    },
    {
     "data": {
      "text/plain": [
       "[None, None, None, None]"
      ]
     },
     "execution_count": 5,
     "metadata": {},
     "output_type": "execute_result"
    }
   ],
   "source": [
    "from IPython.display import display\n",
    "list(display(k,v.sample(5)) for k,v in data.items())"
   ]
  },
  {
   "cell_type": "markdown",
   "metadata": {},
   "source": [
    "## Model on rating"
   ]
  },
  {
   "cell_type": "code",
   "execution_count": 6,
   "metadata": {},
   "outputs": [
    {
     "data": {
      "text/html": [
       "<div>\n",
       "<style scoped>\n",
       "    .dataframe tbody tr th:only-of-type {\n",
       "        vertical-align: middle;\n",
       "    }\n",
       "\n",
       "    .dataframe tbody tr th {\n",
       "        vertical-align: top;\n",
       "    }\n",
       "\n",
       "    .dataframe thead th {\n",
       "        text-align: right;\n",
       "    }\n",
       "</style>\n",
       "<table border=\"1\" class=\"dataframe\">\n",
       "  <thead>\n",
       "    <tr style=\"text-align: right;\">\n",
       "      <th></th>\n",
       "      <th>userId</th>\n",
       "      <th>movieId</th>\n",
       "      <th>rating</th>\n",
       "      <th>timestamp</th>\n",
       "    </tr>\n",
       "  </thead>\n",
       "  <tbody>\n",
       "    <tr>\n",
       "      <th>13986</th>\n",
       "      <td>91</td>\n",
       "      <td>78041</td>\n",
       "      <td>3.5</td>\n",
       "      <td>1448798561</td>\n",
       "    </tr>\n",
       "    <tr>\n",
       "      <th>95981</th>\n",
       "      <td>636</td>\n",
       "      <td>85</td>\n",
       "      <td>5.0</td>\n",
       "      <td>855227416</td>\n",
       "    </tr>\n",
       "    <tr>\n",
       "      <th>26924</th>\n",
       "      <td>197</td>\n",
       "      <td>3701</td>\n",
       "      <td>4.0</td>\n",
       "      <td>975429504</td>\n",
       "    </tr>\n",
       "    <tr>\n",
       "      <th>80637</th>\n",
       "      <td>547</td>\n",
       "      <td>99089</td>\n",
       "      <td>4.0</td>\n",
       "      <td>1356000054</td>\n",
       "    </tr>\n",
       "    <tr>\n",
       "      <th>86360</th>\n",
       "      <td>577</td>\n",
       "      <td>3996</td>\n",
       "      <td>5.0</td>\n",
       "      <td>1111476682</td>\n",
       "    </tr>\n",
       "  </tbody>\n",
       "</table>\n",
       "</div>"
      ],
      "text/plain": [
       "       userId  movieId  rating   timestamp\n",
       "13986      91    78041     3.5  1448798561\n",
       "95981     636       85     5.0   855227416\n",
       "26924     197     3701     4.0   975429504\n",
       "80637     547    99089     4.0  1356000054\n",
       "86360     577     3996     5.0  1111476682"
      ]
     },
     "execution_count": 6,
     "metadata": {},
     "output_type": "execute_result"
    }
   ],
   "source": [
    "data[\"ratings\"].sample(5)"
   ]
  },
  {
   "cell_type": "code",
   "execution_count": 7,
   "metadata": {},
   "outputs": [
    {
     "data": {
      "text/plain": [
       "100004"
      ]
     },
     "execution_count": 7,
     "metadata": {},
     "output_type": "execute_result"
    }
   ],
   "source": [
    "len(data[\"ratings\"])"
   ]
  },
  {
   "cell_type": "code",
   "execution_count": 8,
   "metadata": {},
   "outputs": [
    {
     "name": "stdout",
     "output_type": "stream",
     "text": [
      "671 9066\n"
     ]
    }
   ],
   "source": [
    "userId = list(set(data[\"ratings\"][\"userId\"]))\n",
    "movieId = list(set(data[\"ratings\"][\"movieId\"]))\n",
    "print(len(userId),len(movieId))"
   ]
  },
  {
   "cell_type": "markdown",
   "metadata": {},
   "source": [
    "### Mapping\n",
    "user to index, movie to index, index to user, index to movie"
   ]
  },
  {
   "cell_type": "code",
   "execution_count": 22,
   "metadata": {},
   "outputs": [],
   "source": [
    "u2i = dict((v,k) for k,v in enumerate(userId))\n",
    "m2i = dict((v,k) for k,v in enumerate(movieId))\n",
    "i2u = dict((k,v) for k,v in enumerate(userId))\n",
    "i2m = dict((k,v) for k,v in enumerate(movieId))"
   ]
  },
  {
   "cell_type": "code",
   "execution_count": 10,
   "metadata": {},
   "outputs": [],
   "source": [
    "data[\"ratings\"][\"movie_idx\"] = data[\"ratings\"][\"movieId\"].apply(lambda x:m2i[x])\n",
    "data[\"ratings\"][\"user_idx\"] = data[\"ratings\"][\"userId\"].apply(lambda x:u2i[x])"
   ]
  },
  {
   "cell_type": "markdown",
   "metadata": {},
   "source": [
    "### Separate train/valid dataset"
   ]
  },
  {
   "cell_type": "code",
   "execution_count": 11,
   "metadata": {},
   "outputs": [],
   "source": [
    "train_pick = np.random.rand(len(data[\"ratings\"]))>.2\n",
    "valid_pick = ~train_pick"
   ]
  },
  {
   "cell_type": "code",
   "execution_count": 12,
   "metadata": {},
   "outputs": [
    {
     "data": {
      "text/plain": [
       "(array([False,  True,  True, ...,  True,  True,  True]),\n",
       " array([ True, False, False, ..., False, False, False]))"
      ]
     },
     "execution_count": 12,
     "metadata": {},
     "output_type": "execute_result"
    }
   ],
   "source": [
    "train_pick,valid_pick"
   ]
  },
  {
   "cell_type": "code",
   "execution_count": 13,
   "metadata": {},
   "outputs": [],
   "source": [
    "train_df = data[\"ratings\"][train_pick].reset_index()\n",
    "valid_df = data[\"ratings\"][valid_pick].reset_index()"
   ]
  },
  {
   "cell_type": "markdown",
   "metadata": {},
   "source": [
    "### Data generator"
   ]
  },
  {
   "cell_type": "code",
   "execution_count": 14,
   "metadata": {},
   "outputs": [],
   "source": [
    "train = Arr_Dataset(train_df[\"user_idx\"].values,\n",
    "                    train_df[\"movie_idx\"].values\n",
    "                    ,train_df[\"rating\"].values/5\n",
    "                    ,bs=512)\n",
    "valid = Arr_Dataset(valid_df[\"user_idx\"].values,\n",
    "                    valid_df[\"movie_idx\"].values\n",
    "                    ,valid_df[\"rating\"].values/5\n",
    "                    ,bs=512)"
   ]
  },
  {
   "cell_type": "markdown",
   "metadata": {},
   "source": [
    "## Basic Cross Filtering"
   ]
  },
  {
   "cell_type": "code",
   "execution_count": 15,
   "metadata": {},
   "outputs": [],
   "source": [
    "from torch import nn"
   ]
  },
  {
   "cell_type": "code",
   "execution_count": 16,
   "metadata": {},
   "outputs": [],
   "source": [
    "class cf(nn.Module):\n",
    "    def __init__(self):\n",
    "        \"\"\"\n",
    "        Cross Filtering Module\n",
    "        \"\"\"\n",
    "        super(cf,self).__init__()\n",
    "        self.emb_u = nn.Embedding(len(userId), DIM)\n",
    "        self.emb_m = nn.Embedding(len(movieId), DIM)\n",
    "    \n",
    "    def forward(self,u,m):\n",
    "        u_vec = self.emb_u(u)\n",
    "        m_vec = self.emb_m(m)\n",
    "        return u_vec * m_vec\n",
    "    \n",
    "class cfnn(nn.Module):\n",
    "    def __init__(self):\n",
    "        super(cfnn,self).__init__()\n",
    "        self.cf = cf()\n",
    "        self.fcb = nn.Sequential(*[\n",
    "                                    nn.Dropout(p=.3),\n",
    "                                    nn.Linear(DIM,512,bias=False),\n",
    "                                   nn.BatchNorm1d(512),\n",
    "                                   nn.LeakyReLU(inplace=True),\n",
    "                                   nn.Linear(512,1,bias=False),\n",
    "                                   nn.BatchNorm1d(1),\n",
    "#                                    nn.Sigmoid()\n",
    "                                  ],\n",
    "                                )\n",
    "    \n",
    "    def forward(self,u,m):\n",
    "        x = self.cf(u,m)\n",
    "        return self.fcb(x)"
   ]
  },
  {
   "cell_type": "code",
   "execution_count": 17,
   "metadata": {},
   "outputs": [],
   "source": [
    "cfmodel = cfnn()"
   ]
  },
  {
   "cell_type": "code",
   "execution_count": 18,
   "metadata": {},
   "outputs": [],
   "source": [
    "from torch.optim import Adam\n",
    "mse = nn.MSELoss()\n",
    "opt = Adam(cfmodel.parameters())\n",
    "if CUDA:\n",
    "    cfmodel.cuda()"
   ]
  },
  {
   "cell_type": "markdown",
   "metadata": {},
   "source": [
    "Step function for train and valid"
   ]
  },
  {
   "cell_type": "code",
   "execution_count": 19,
   "metadata": {},
   "outputs": [],
   "source": [
    "def action(*args,**kwargs):\n",
    "    u,m,y = args[0]\n",
    "    u,m,y = u.squeeze(),m.squeeze(),y.squeeze()\n",
    "    opt.zero_grad()\n",
    "    if CUDA:\n",
    "        u,m,y  = u.cuda(),m.cuda(),y.cuda()\n",
    "        \n",
    "    y_ = cfmodel(u,m) # prediction\n",
    "    \n",
    "    loss = mse(y_,y.unsqueeze(-1).float())\n",
    "    \n",
    "    loss.backward()\n",
    "    opt.step()\n",
    "    \n",
    "    return {\"mse\":loss.item()}\n",
    "\n",
    "def val_action(*args,**kwargs):\n",
    "    u,m,y = args[0]\n",
    "    u,m,y = u.squeeze(),m.squeeze(),y.squeeze()\n",
    "    y_ = cfmodel(u,m)\n",
    "    loss = mse(y_,y.unsqueeze(-1).float())\n",
    "    \n",
    "    return {\"mse\":loss.item()}"
   ]
  },
  {
   "cell_type": "code",
   "execution_count": 20,
   "metadata": {},
   "outputs": [],
   "source": [
    "trainer = Trainer(train, val_dataset=valid, batch_size=1, print_on = 5)\n",
    "\n",
    "trainer.action = action\n",
    "trainer.val_action = val_action"
   ]
  },
  {
   "cell_type": "code",
   "execution_count": 21,
   "metadata": {},
   "outputs": [
    {
     "name": "stderr",
     "output_type": "stream",
     "text": [
      "⭐[ep_0_i_154]\tmse\t0.325: 100%|██████████| 156/156 [00:06<00:00, 24.18it/s]\n",
      "😎[val_ep_0_i_39]\tmse\t0.362: 100%|██████████| 40/40 [00:00<00:00, 60.48it/s]\n",
      "⭐[ep_1_i_154]\tmse\t0.211: 100%|██████████| 156/156 [00:06<00:00, 23.77it/s]\n",
      "😎[val_ep_1_i_39]\tmse\t0.231: 100%|██████████| 40/40 [00:00<00:00, 59.66it/s]\n",
      "⭐[ep_2_i_154]\tmse\t0.134: 100%|██████████| 156/156 [00:06<00:00, 23.87it/s]\n",
      "😎[val_ep_2_i_39]\tmse\t0.147: 100%|██████████| 40/40 [00:00<00:00, 59.83it/s]\n",
      "⭐[ep_3_i_154]\tmse\t0.099: 100%|██████████| 156/156 [00:07<00:00, 21.23it/s]\n",
      "😎[val_ep_3_i_39]\tmse\t0.097: 100%|██████████| 40/40 [00:00<00:00, 63.21it/s]\n",
      "⭐[ep_4_i_154]\tmse\t0.081: 100%|██████████| 156/156 [00:06<00:00, 23.28it/s]\n",
      "😎[val_ep_4_i_39]\tmse\t0.069: 100%|██████████| 40/40 [00:00<00:00, 58.81it/s]\n",
      "⭐[ep_5_i_154]\tmse\t0.045: 100%|██████████| 156/156 [00:06<00:00, 23.21it/s]\n",
      "😎[val_ep_5_i_39]\tmse\t0.055: 100%|██████████| 40/40 [00:00<00:00, 61.73it/s]\n",
      "⭐[ep_6_i_154]\tmse\t0.044: 100%|██████████| 156/156 [00:06<00:00, 22.42it/s]\n",
      "😎[val_ep_6_i_39]\tmse\t0.048: 100%|██████████| 40/40 [00:00<00:00, 57.45it/s]\n",
      "⭐[ep_7_i_154]\tmse\t0.046: 100%|██████████| 156/156 [00:07<00:00, 21.96it/s]\n",
      "😎[val_ep_7_i_39]\tmse\t0.045: 100%|██████████| 40/40 [00:00<00:00, 61.03it/s]\n",
      "⭐[ep_8_i_154]\tmse\t0.049: 100%|██████████| 156/156 [00:07<00:00, 21.12it/s]\n",
      "😎[val_ep_8_i_39]\tmse\t0.044: 100%|██████████| 40/40 [00:00<00:00, 60.64it/s]\n",
      "⭐[ep_9_i_154]\tmse\t0.039: 100%|██████████| 156/156 [00:07<00:00, 22.18it/s]\n",
      "😎[val_ep_9_i_39]\tmse\t0.044: 100%|██████████| 40/40 [00:00<00:00, 50.23it/s]\n",
      "⭐[ep_10_i_154]\tmse\t0.037: 100%|██████████| 156/156 [00:07<00:00, 19.81it/s]\n",
      "😎[val_ep_10_i_39]\tmse\t0.044: 100%|██████████| 40/40 [00:00<00:00, 60.59it/s]\n",
      "⭐[ep_11_i_154]\tmse\t0.034: 100%|██████████| 156/156 [00:07<00:00, 21.75it/s]\n",
      "😎[val_ep_11_i_39]\tmse\t0.043: 100%|██████████| 40/40 [00:00<00:00, 59.95it/s]\n",
      "⭐[ep_12_i_154]\tmse\t0.032: 100%|██████████| 156/156 [00:06<00:00, 22.32it/s]\n",
      "😎[val_ep_12_i_39]\tmse\t0.043: 100%|██████████| 40/40 [00:00<00:00, 60.72it/s]\n",
      "⭐[ep_13_i_154]\tmse\t0.039: 100%|██████████| 156/156 [00:06<00:00, 22.65it/s]\n",
      "😎[val_ep_13_i_39]\tmse\t0.043: 100%|██████████| 40/40 [00:00<00:00, 60.58it/s]\n",
      "⭐[ep_14_i_154]\tmse\t0.036: 100%|██████████| 156/156 [00:06<00:00, 22.64it/s]\n",
      "😎[val_ep_14_i_39]\tmse\t0.043: 100%|██████████| 40/40 [00:00<00:00, 59.96it/s]\n",
      "⭐[ep_15_i_154]\tmse\t0.031: 100%|██████████| 156/156 [00:06<00:00, 22.54it/s]\n",
      "😎[val_ep_15_i_39]\tmse\t0.043: 100%|██████████| 40/40 [00:00<00:00, 62.49it/s]\n",
      "⭐[ep_16_i_154]\tmse\t0.036: 100%|██████████| 156/156 [00:06<00:00, 22.34it/s]\n",
      "😎[val_ep_16_i_39]\tmse\t0.044: 100%|██████████| 40/40 [00:00<00:00, 60.96it/s]\n",
      "⭐[ep_17_i_154]\tmse\t0.028: 100%|██████████| 156/156 [00:07<00:00, 21.19it/s]\n",
      "😎[val_ep_17_i_39]\tmse\t0.043: 100%|██████████| 40/40 [00:00<00:00, 57.65it/s]\n",
      "⭐[ep_18_i_154]\tmse\t0.032: 100%|██████████| 156/156 [00:07<00:00, 21.68it/s]\n",
      "😎[val_ep_18_i_39]\tmse\t0.043: 100%|██████████| 40/40 [00:00<00:00, 69.35it/s]\n",
      "⭐[ep_19_i_154]\tmse\t0.033: 100%|██████████| 156/156 [00:07<00:00, 20.86it/s]\n",
      "😎[val_ep_19_i_39]\tmse\t0.043: 100%|██████████| 40/40 [00:00<00:00, 47.70it/s]\n"
     ]
    }
   ],
   "source": [
    "trainer.train(20)"
   ]
  },
  {
   "cell_type": "code",
   "execution_count": null,
   "metadata": {},
   "outputs": [],
   "source": []
  }
 ],
 "metadata": {
  "kernelspec": {
   "display_name": "Python 3",
   "language": "python",
   "name": "python3"
  },
  "language_info": {
   "codemirror_mode": {
    "name": "ipython",
    "version": 3
   },
   "file_extension": ".py",
   "mimetype": "text/x-python",
   "name": "python",
   "nbconvert_exporter": "python",
   "pygments_lexer": "ipython3",
   "version": "3.6.5"
  }
 },
 "nbformat": 4,
 "nbformat_minor": 2
}
