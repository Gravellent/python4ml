{
 "cells": [
  {
   "cell_type": "markdown",
   "metadata": {},
   "source": [
    "# Recommender- Yeah Money Money Money"
   ]
  },
  {
   "cell_type": "markdown",
   "metadata": {},
   "source": [
    "### Requirements\n",
    "```\n",
    "python 3.6\n",
    "\n",
    "numpy == '1.14.3'\n",
    "pandas == '0.23.0'\n",
    "tensorflow == '1.8.0'\n",
    "keras == '2.2.0'\n",
    "```\n",
    "Other versions of above library will probably work"
   ]
  },
  {
   "cell_type": "markdown",
   "metadata": {},
   "source": [
    "Prepare the csv data, from [movielens](https://grouplens.org/datasets/movielens/)"
   ]
  },
  {
   "cell_type": "code",
   "execution_count": 1,
   "metadata": {},
   "outputs": [],
   "source": [
    "# %cd /data\n",
    "# !!wget http://files.grouplens.org/datasets/movielens/ml-latest-small.zip\n",
    "# !!unzip ml-latest-small.zip"
   ]
  },
  {
   "cell_type": "code",
   "execution_count": 4,
   "metadata": {},
   "outputs": [],
   "source": [
    "import pandas as pd\n",
    "import numpy as np\n",
    "import os"
   ]
  },
  {
   "cell_type": "code",
   "execution_count": 3,
   "metadata": {},
   "outputs": [],
   "source": [
    "DATA = \"/data/ml-latest-small/\"\n",
    "DIM = 100"
   ]
  },
  {
   "cell_type": "code",
   "execution_count": 5,
   "metadata": {},
   "outputs": [
    {
     "data": {
      "text/plain": [
       "['links.csv', 'tags.csv', 'ratings.csv', 'README.txt', 'movies.csv']"
      ]
     },
     "execution_count": 5,
     "metadata": {},
     "output_type": "execute_result"
    }
   ],
   "source": [
    "files = os.listdir(DATA)\n",
    "files"
   ]
  },
  {
   "cell_type": "code",
   "execution_count": 6,
   "metadata": {},
   "outputs": [],
   "source": [
    "data = dict()\n",
    "for f in files:\n",
    "    if f[-3:]==\"csv\":\n",
    "        data[f.split(\".\")[0]] = pd.read_csv(DATA+f)"
   ]
  },
  {
   "cell_type": "markdown",
   "metadata": {},
   "source": [
    "## Check Sample Data"
   ]
  },
  {
   "cell_type": "code",
   "execution_count": 7,
   "metadata": {},
   "outputs": [
    {
     "data": {
      "text/plain": [
       "'links'"
      ]
     },
     "metadata": {},
     "output_type": "display_data"
    },
    {
     "data": {
      "text/html": [
       "<div>\n",
       "<style scoped>\n",
       "    .dataframe tbody tr th:only-of-type {\n",
       "        vertical-align: middle;\n",
       "    }\n",
       "\n",
       "    .dataframe tbody tr th {\n",
       "        vertical-align: top;\n",
       "    }\n",
       "\n",
       "    .dataframe thead th {\n",
       "        text-align: right;\n",
       "    }\n",
       "</style>\n",
       "<table border=\"1\" class=\"dataframe\">\n",
       "  <thead>\n",
       "    <tr style=\"text-align: right;\">\n",
       "      <th></th>\n",
       "      <th>movieId</th>\n",
       "      <th>imdbId</th>\n",
       "      <th>tmdbId</th>\n",
       "    </tr>\n",
       "  </thead>\n",
       "  <tbody>\n",
       "    <tr>\n",
       "      <th>5528</th>\n",
       "      <td>8763</td>\n",
       "      <td>63389</td>\n",
       "      <td>64877.0</td>\n",
       "    </tr>\n",
       "    <tr>\n",
       "      <th>6604</th>\n",
       "      <td>50162</td>\n",
       "      <td>344854</td>\n",
       "      <td>9992.0</td>\n",
       "    </tr>\n",
       "    <tr>\n",
       "      <th>6895</th>\n",
       "      <td>58107</td>\n",
       "      <td>1023481</td>\n",
       "      <td>8328.0</td>\n",
       "    </tr>\n",
       "    <tr>\n",
       "      <th>4090</th>\n",
       "      <td>5357</td>\n",
       "      <td>110157</td>\n",
       "      <td>24767.0</td>\n",
       "    </tr>\n",
       "    <tr>\n",
       "      <th>7239</th>\n",
       "      <td>68967</td>\n",
       "      <td>836700</td>\n",
       "      <td>8282.0</td>\n",
       "    </tr>\n",
       "  </tbody>\n",
       "</table>\n",
       "</div>"
      ],
      "text/plain": [
       "      movieId   imdbId   tmdbId\n",
       "5528     8763    63389  64877.0\n",
       "6604    50162   344854   9992.0\n",
       "6895    58107  1023481   8328.0\n",
       "4090     5357   110157  24767.0\n",
       "7239    68967   836700   8282.0"
      ]
     },
     "metadata": {},
     "output_type": "display_data"
    },
    {
     "data": {
      "text/plain": [
       "'tags'"
      ]
     },
     "metadata": {},
     "output_type": "display_data"
    },
    {
     "data": {
      "text/html": [
       "<div>\n",
       "<style scoped>\n",
       "    .dataframe tbody tr th:only-of-type {\n",
       "        vertical-align: middle;\n",
       "    }\n",
       "\n",
       "    .dataframe tbody tr th {\n",
       "        vertical-align: top;\n",
       "    }\n",
       "\n",
       "    .dataframe thead th {\n",
       "        text-align: right;\n",
       "    }\n",
       "</style>\n",
       "<table border=\"1\" class=\"dataframe\">\n",
       "  <thead>\n",
       "    <tr style=\"text-align: right;\">\n",
       "      <th></th>\n",
       "      <th>userId</th>\n",
       "      <th>movieId</th>\n",
       "      <th>tag</th>\n",
       "      <th>timestamp</th>\n",
       "    </tr>\n",
       "  </thead>\n",
       "  <tbody>\n",
       "    <tr>\n",
       "      <th>572</th>\n",
       "      <td>423</td>\n",
       "      <td>6713</td>\n",
       "      <td>Satoshi Kon</td>\n",
       "      <td>1354033681</td>\n",
       "    </tr>\n",
       "    <tr>\n",
       "      <th>1043</th>\n",
       "      <td>547</td>\n",
       "      <td>55276</td>\n",
       "      <td>toplist07</td>\n",
       "      <td>1195959915</td>\n",
       "    </tr>\n",
       "    <tr>\n",
       "      <th>1153</th>\n",
       "      <td>547</td>\n",
       "      <td>96728</td>\n",
       "      <td>toplist12</td>\n",
       "      <td>1355599008</td>\n",
       "    </tr>\n",
       "    <tr>\n",
       "      <th>1013</th>\n",
       "      <td>547</td>\n",
       "      <td>48394</td>\n",
       "      <td>holes00s</td>\n",
       "      <td>1342850387</td>\n",
       "    </tr>\n",
       "    <tr>\n",
       "      <th>1262</th>\n",
       "      <td>547</td>\n",
       "      <td>160954</td>\n",
       "      <td>bkk</td>\n",
       "      <td>1472178574</td>\n",
       "    </tr>\n",
       "  </tbody>\n",
       "</table>\n",
       "</div>"
      ],
      "text/plain": [
       "      userId  movieId          tag   timestamp\n",
       "572      423     6713  Satoshi Kon  1354033681\n",
       "1043     547    55276    toplist07  1195959915\n",
       "1153     547    96728    toplist12  1355599008\n",
       "1013     547    48394     holes00s  1342850387\n",
       "1262     547   160954          bkk  1472178574"
      ]
     },
     "metadata": {},
     "output_type": "display_data"
    },
    {
     "data": {
      "text/plain": [
       "'ratings'"
      ]
     },
     "metadata": {},
     "output_type": "display_data"
    },
    {
     "data": {
      "text/html": [
       "<div>\n",
       "<style scoped>\n",
       "    .dataframe tbody tr th:only-of-type {\n",
       "        vertical-align: middle;\n",
       "    }\n",
       "\n",
       "    .dataframe tbody tr th {\n",
       "        vertical-align: top;\n",
       "    }\n",
       "\n",
       "    .dataframe thead th {\n",
       "        text-align: right;\n",
       "    }\n",
       "</style>\n",
       "<table border=\"1\" class=\"dataframe\">\n",
       "  <thead>\n",
       "    <tr style=\"text-align: right;\">\n",
       "      <th></th>\n",
       "      <th>userId</th>\n",
       "      <th>movieId</th>\n",
       "      <th>rating</th>\n",
       "      <th>timestamp</th>\n",
       "    </tr>\n",
       "  </thead>\n",
       "  <tbody>\n",
       "    <tr>\n",
       "      <th>42649</th>\n",
       "      <td>306</td>\n",
       "      <td>1216</td>\n",
       "      <td>3.0</td>\n",
       "      <td>956081725</td>\n",
       "    </tr>\n",
       "    <tr>\n",
       "      <th>7262</th>\n",
       "      <td>44</td>\n",
       "      <td>135</td>\n",
       "      <td>4.0</td>\n",
       "      <td>858707310</td>\n",
       "    </tr>\n",
       "    <tr>\n",
       "      <th>74797</th>\n",
       "      <td>519</td>\n",
       "      <td>1240</td>\n",
       "      <td>4.5</td>\n",
       "      <td>1468758883</td>\n",
       "    </tr>\n",
       "    <tr>\n",
       "      <th>37768</th>\n",
       "      <td>271</td>\n",
       "      <td>2028</td>\n",
       "      <td>4.0</td>\n",
       "      <td>1107785352</td>\n",
       "    </tr>\n",
       "    <tr>\n",
       "      <th>9399</th>\n",
       "      <td>62</td>\n",
       "      <td>111759</td>\n",
       "      <td>4.0</td>\n",
       "      <td>1451708157</td>\n",
       "    </tr>\n",
       "  </tbody>\n",
       "</table>\n",
       "</div>"
      ],
      "text/plain": [
       "       userId  movieId  rating   timestamp\n",
       "42649     306     1216     3.0   956081725\n",
       "7262       44      135     4.0   858707310\n",
       "74797     519     1240     4.5  1468758883\n",
       "37768     271     2028     4.0  1107785352\n",
       "9399       62   111759     4.0  1451708157"
      ]
     },
     "metadata": {},
     "output_type": "display_data"
    },
    {
     "data": {
      "text/plain": [
       "'movies'"
      ]
     },
     "metadata": {},
     "output_type": "display_data"
    },
    {
     "data": {
      "text/html": [
       "<div>\n",
       "<style scoped>\n",
       "    .dataframe tbody tr th:only-of-type {\n",
       "        vertical-align: middle;\n",
       "    }\n",
       "\n",
       "    .dataframe tbody tr th {\n",
       "        vertical-align: top;\n",
       "    }\n",
       "\n",
       "    .dataframe thead th {\n",
       "        text-align: right;\n",
       "    }\n",
       "</style>\n",
       "<table border=\"1\" class=\"dataframe\">\n",
       "  <thead>\n",
       "    <tr style=\"text-align: right;\">\n",
       "      <th></th>\n",
       "      <th>movieId</th>\n",
       "      <th>title</th>\n",
       "      <th>genres</th>\n",
       "    </tr>\n",
       "  </thead>\n",
       "  <tbody>\n",
       "    <tr>\n",
       "      <th>7789</th>\n",
       "      <td>86320</td>\n",
       "      <td>Melancholia (2011)</td>\n",
       "      <td>Drama|Sci-Fi</td>\n",
       "    </tr>\n",
       "    <tr>\n",
       "      <th>5742</th>\n",
       "      <td>26151</td>\n",
       "      <td>Au Hasard Balthazar (1966)</td>\n",
       "      <td>Crime|Drama</td>\n",
       "    </tr>\n",
       "    <tr>\n",
       "      <th>7721</th>\n",
       "      <td>83613</td>\n",
       "      <td>Cowboys &amp; Aliens (2011)</td>\n",
       "      <td>Action|Sci-Fi|Thriller|Western|IMAX</td>\n",
       "    </tr>\n",
       "    <tr>\n",
       "      <th>7027</th>\n",
       "      <td>61236</td>\n",
       "      <td>Waltz with Bashir (Vals im Bashir) (2008)</td>\n",
       "      <td>Animation|Documentary|Drama|War</td>\n",
       "    </tr>\n",
       "    <tr>\n",
       "      <th>7135</th>\n",
       "      <td>65193</td>\n",
       "      <td>Wild Child (2008)</td>\n",
       "      <td>Drama|Romance</td>\n",
       "    </tr>\n",
       "  </tbody>\n",
       "</table>\n",
       "</div>"
      ],
      "text/plain": [
       "      movieId                                      title  \\\n",
       "7789    86320                         Melancholia (2011)   \n",
       "5742    26151                 Au Hasard Balthazar (1966)   \n",
       "7721    83613                    Cowboys & Aliens (2011)   \n",
       "7027    61236  Waltz with Bashir (Vals im Bashir) (2008)   \n",
       "7135    65193                          Wild Child (2008)   \n",
       "\n",
       "                                   genres  \n",
       "7789                         Drama|Sci-Fi  \n",
       "5742                          Crime|Drama  \n",
       "7721  Action|Sci-Fi|Thriller|Western|IMAX  \n",
       "7027      Animation|Documentary|Drama|War  \n",
       "7135                        Drama|Romance  "
      ]
     },
     "metadata": {},
     "output_type": "display_data"
    },
    {
     "data": {
      "text/plain": [
       "[None, None, None, None]"
      ]
     },
     "execution_count": 7,
     "metadata": {},
     "output_type": "execute_result"
    }
   ],
   "source": [
    "from IPython.display import display\n",
    "list(display(k,v.sample(5)) for k,v in data.items())"
   ]
  },
  {
   "cell_type": "markdown",
   "metadata": {},
   "source": [
    "## Model On Rating"
   ]
  },
  {
   "cell_type": "code",
   "execution_count": 12,
   "metadata": {},
   "outputs": [
    {
     "data": {
      "text/plain": [
       "100004"
      ]
     },
     "execution_count": 12,
     "metadata": {},
     "output_type": "execute_result"
    }
   ],
   "source": [
    "len(data[\"ratings\"])"
   ]
  },
  {
   "cell_type": "code",
   "execution_count": 13,
   "metadata": {},
   "outputs": [
    {
     "name": "stdout",
     "output_type": "stream",
     "text": [
      "671 9066\n"
     ]
    }
   ],
   "source": [
    "userId = list(set(data[\"ratings\"][\"userId\"]))\n",
    "movieId = list(set(data[\"ratings\"][\"movieId\"]))\n",
    "print(len(userId),len(movieId))"
   ]
  },
  {
   "cell_type": "markdown",
   "metadata": {},
   "source": [
    "### Mapping\n",
    "user to index, movie to index, index to user, index to movie"
   ]
  },
  {
   "cell_type": "code",
   "execution_count": 20,
   "metadata": {},
   "outputs": [],
   "source": [
    "u2i = dict((v,k) for k,v in enumerate(userId))\n",
    "m2i = dict((v,k) for k,v in enumerate(movieId))\n",
    "i2u = dict((k,v) for k,v in enumerate(userId))\n",
    "i2m = dict((k,v) for k,v in enumerate(movieId))"
   ]
  },
  {
   "cell_type": "code",
   "execution_count": 21,
   "metadata": {},
   "outputs": [],
   "source": [
    "data[\"ratings\"][\"movie_idx\"] = data[\"ratings\"][\"movieId\"].apply(lambda x:m2i[x])\n",
    "data[\"ratings\"][\"user_idx\"] = data[\"ratings\"][\"userId\"].apply(lambda x:u2i[x])"
   ]
  },
  {
   "cell_type": "code",
   "execution_count": 48,
   "metadata": {},
   "outputs": [],
   "source": [
    "user_array = data[\"ratings\"][\"user_idx\"].values.reshape(-1,1)\n",
    "movie_array = data[\"ratings\"][\"movie_idx\"].values.reshape(-1,1)"
   ]
  },
  {
   "cell_type": "code",
   "execution_count": 49,
   "metadata": {},
   "outputs": [],
   "source": [
    "rating_array = data[\"ratings\"][\"rating\"].values.reshape(-1,1)/5"
   ]
  },
  {
   "cell_type": "code",
   "execution_count": 50,
   "metadata": {},
   "outputs": [
    {
     "data": {
      "text/plain": [
       "((100004, 1), (100004, 1), (100004, 1))"
      ]
     },
     "execution_count": 50,
     "metadata": {},
     "output_type": "execute_result"
    }
   ],
   "source": [
    "user_array.shape,movie_array.shape,rating_array.shape"
   ]
  },
  {
   "cell_type": "markdown",
   "metadata": {},
   "source": [
    "## Model"
   ]
  },
  {
   "cell_type": "code",
   "execution_count": null,
   "metadata": {},
   "outputs": [],
   "source": [
    "from keras.layers import *\n",
    "from keras.models import *"
   ]
  },
  {
   "cell_type": "code",
   "execution_count": 57,
   "metadata": {},
   "outputs": [],
   "source": [
    "def idx2vec(leng,name,dim = DIM):\n",
    "    ipt = Input((1,),name=name+\"_ipt\")\n",
    "    ebd = Embedding(leng,dim)(ipt)\n",
    "    ebd = SpatialDropout1D(.3)(ebd)\n",
    "    return ipt,ebd"
   ]
  },
  {
   "cell_type": "code",
   "execution_count": 58,
   "metadata": {},
   "outputs": [],
   "source": [
    "ipt_u, ebd_u = idx2vec(len(userId),\"user\")\n",
    "ipt_m, ebd_m = idx2vec(len(movieId),\"movie\")"
   ]
  },
  {
   "cell_type": "code",
   "execution_count": 59,
   "metadata": {},
   "outputs": [],
   "source": [
    "user2vec = Model(ipt_u,ebd_u)\n",
    "movie2vec = Model(ipt_m,ebd_m)"
   ]
  },
  {
   "cell_type": "markdown",
   "metadata": {},
   "source": [
    "### What is Embeding Layer"
   ]
  },
  {
   "cell_type": "code",
   "execution_count": 60,
   "metadata": {},
   "outputs": [
    {
     "data": {
      "text/plain": [
       "array([[[ 1.91395916e-02, -4.51731198e-02,  4.37530987e-02,\n",
       "         -1.63733847e-02,  6.41286373e-03,  4.66329344e-02,\n",
       "         -2.11565029e-02, -3.47738862e-02,  2.13194229e-02,\n",
       "          3.23534012e-03,  4.95511293e-03, -1.18402839e-02,\n",
       "         -2.76263598e-02,  1.77213289e-02, -1.52823552e-02,\n",
       "          2.01885365e-02,  3.57834809e-02, -1.48696899e-02,\n",
       "          1.56355761e-02,  1.01965554e-02, -8.46663862e-03,\n",
       "          3.66757549e-02,  3.48094441e-02, -2.57774722e-02,\n",
       "          3.20844986e-02, -4.09193523e-02, -1.54222474e-02,\n",
       "          2.47629397e-02,  4.87549193e-02, -4.60501797e-02,\n",
       "         -8.87737423e-03, -3.97561304e-02, -1.64012089e-02,\n",
       "         -4.16589901e-03,  4.20560725e-02, -4.36268337e-02,\n",
       "          3.48217748e-02,  3.49102505e-02,  2.14034356e-02,\n",
       "         -1.34521946e-02, -2.86731608e-02,  3.45314257e-02,\n",
       "          4.00956757e-02, -2.78212875e-03, -3.91735211e-02,\n",
       "         -2.87387371e-02, -3.99985909e-02,  3.78483795e-02,\n",
       "         -2.96304822e-02, -1.71114132e-03,  1.64932497e-02,\n",
       "          4.94588166e-04, -4.04869914e-02,  1.31681450e-02,\n",
       "          3.50769274e-02, -4.20941822e-02,  1.79209150e-02,\n",
       "          2.93698348e-02,  1.45762227e-02, -1.59826167e-02,\n",
       "         -8.51853937e-03,  1.71509646e-02, -2.33918782e-02,\n",
       "         -1.74289234e-02,  3.15263532e-02, -3.88495438e-02,\n",
       "          2.95404829e-02,  3.51599939e-02,  2.93313749e-02,\n",
       "         -2.21765880e-02,  2.02405937e-02,  1.27715357e-02,\n",
       "          1.90221705e-02, -3.25495824e-02, -2.06426270e-02,\n",
       "          2.80704610e-02,  1.37014128e-02, -3.90395150e-02,\n",
       "         -3.47557180e-02,  4.49121259e-02, -1.50060654e-02,\n",
       "         -4.68110815e-02,  7.11083412e-05,  6.86253235e-03,\n",
       "         -1.84546113e-02,  5.61134890e-03,  8.58099386e-03,\n",
       "          1.28755830e-02, -2.56486665e-02, -1.39174573e-02,\n",
       "         -1.64241306e-02, -3.45566049e-02, -2.39993464e-02,\n",
       "         -1.67931430e-02, -3.92848626e-02,  2.16376036e-04,\n",
       "          1.89089440e-02,  3.10479142e-02,  5.31371683e-03,\n",
       "          2.79432274e-02]],\n",
       "\n",
       "       [[-4.01592031e-02,  7.19799846e-03, -1.61382928e-02,\n",
       "         -3.51906903e-02,  4.31467928e-02,  3.87722142e-02,\n",
       "         -3.55933793e-02, -8.48384947e-03, -7.60717317e-03,\n",
       "         -2.05930956e-02, -4.82994318e-02,  2.31494755e-03,\n",
       "         -3.59424353e-02,  3.96265723e-02, -4.35406826e-02,\n",
       "         -3.85101065e-02, -2.91835312e-02,  6.42104074e-03,\n",
       "         -2.67193913e-02,  4.46879603e-02, -3.14077511e-02,\n",
       "         -1.25779025e-02,  1.68588795e-02, -4.96052019e-02,\n",
       "          2.95611657e-02,  8.69147852e-03,  3.26994397e-02,\n",
       "         -3.86213437e-02,  4.47939076e-02,  4.26611938e-02,\n",
       "         -4.30247188e-02,  3.59156393e-02,  1.98073722e-02,\n",
       "          1.29287317e-03, -8.95284116e-04, -3.20481658e-02,\n",
       "         -4.11180370e-02,  1.95744373e-02,  5.85652515e-03,\n",
       "         -3.86447906e-02, -2.22445726e-02,  3.30603011e-02,\n",
       "          3.31104435e-02,  1.24731176e-02, -1.33032426e-02,\n",
       "         -1.92590244e-02, -3.71699221e-02,  2.42489241e-02,\n",
       "         -3.42926271e-02, -4.62759286e-04,  3.86706106e-02,\n",
       "         -3.01934835e-02, -2.07043644e-02, -4.83273268e-02,\n",
       "          4.28113602e-02,  3.68113406e-02,  3.35190929e-02,\n",
       "         -2.30799671e-02,  4.01268043e-02,  2.83475257e-02,\n",
       "          2.98190229e-02, -2.13118922e-02, -3.73478420e-02,\n",
       "          7.42163509e-03,  3.58870886e-02,  2.52962820e-02,\n",
       "          3.07937898e-02, -8.64870474e-03, -1.20166689e-03,\n",
       "          5.70040941e-03,  3.85912508e-03, -9.84235853e-03,\n",
       "          4.94710542e-02, -8.37529823e-03,  3.47588547e-02,\n",
       "         -1.90983173e-02,  4.07173894e-02, -2.80787479e-02,\n",
       "         -3.17703262e-02, -2.38995310e-02, -6.68013096e-03,\n",
       "         -3.83483544e-02, -2.64083147e-02,  3.45529355e-02,\n",
       "          9.96895880e-03,  2.64387205e-03, -3.90430540e-03,\n",
       "          4.38318402e-03, -2.46665608e-02,  9.70549509e-03,\n",
       "          3.60846557e-02,  7.59595633e-03, -2.38547456e-02,\n",
       "          2.47311108e-02, -2.28717923e-02,  2.35010497e-02,\n",
       "         -2.45871674e-02,  3.35335992e-02, -5.09955734e-03,\n",
       "          1.84726715e-03]]], dtype=float32)"
      ]
     },
     "execution_count": 60,
     "metadata": {},
     "output_type": "execute_result"
    }
   ],
   "source": [
    "user2vec.predict(np.array([[0],[2]]))"
   ]
  },
  {
   "cell_type": "code",
   "execution_count": 61,
   "metadata": {},
   "outputs": [],
   "source": [
    "x = Multiply()([ebd_u,ebd_m])\n",
    "x = Flatten()(x)\n",
    "x = Dense(1,)(x)\n",
    "\n",
    "cf = Model([ipt_u,ipt_m],x)"
   ]
  },
  {
   "cell_type": "code",
   "execution_count": 62,
   "metadata": {},
   "outputs": [],
   "source": [
    "cf.compile(\"Adam\",loss=\"mse\",)"
   ]
  },
  {
   "cell_type": "code",
   "execution_count": 63,
   "metadata": {},
   "outputs": [
    {
     "name": "stdout",
     "output_type": "stream",
     "text": [
      "__________________________________________________________________________________________________\n",
      "Layer (type)                    Output Shape         Param #     Connected to                     \n",
      "==================================================================================================\n",
      "user_ipt (InputLayer)           (None, 1)            0                                            \n",
      "__________________________________________________________________________________________________\n",
      "movie_ipt (InputLayer)          (None, 1)            0                                            \n",
      "__________________________________________________________________________________________________\n",
      "embedding_5 (Embedding)         (None, 1, 100)       67100       user_ipt[0][0]                   \n",
      "__________________________________________________________________________________________________\n",
      "embedding_6 (Embedding)         (None, 1, 100)       906600      movie_ipt[0][0]                  \n",
      "__________________________________________________________________________________________________\n",
      "spatial_dropout1d_1 (SpatialDro (None, 1, 100)       0           embedding_5[0][0]                \n",
      "__________________________________________________________________________________________________\n",
      "spatial_dropout1d_2 (SpatialDro (None, 1, 100)       0           embedding_6[0][0]                \n",
      "__________________________________________________________________________________________________\n",
      "multiply_4 (Multiply)           (None, 1, 100)       0           spatial_dropout1d_1[0][0]        \n",
      "                                                                 spatial_dropout1d_2[0][0]        \n",
      "__________________________________________________________________________________________________\n",
      "flatten_2 (Flatten)             (None, 100)          0           multiply_4[0][0]                 \n",
      "__________________________________________________________________________________________________\n",
      "dense_4 (Dense)                 (None, 1)            101         flatten_2[0][0]                  \n",
      "==================================================================================================\n",
      "Total params: 973,801\n",
      "Trainable params: 973,801\n",
      "Non-trainable params: 0\n",
      "__________________________________________________________________________________________________\n"
     ]
    }
   ],
   "source": [
    "cf.summary()"
   ]
  },
  {
   "cell_type": "code",
   "execution_count": 64,
   "metadata": {},
   "outputs": [
    {
     "name": "stdout",
     "output_type": "stream",
     "text": [
      "Train on 70002 samples, validate on 30002 samples\n",
      "Epoch 1/5\n",
      "70002/70002 [==============================] - 3s 40us/step - loss: 0.4550 - val_loss: 0.3848\n",
      "Epoch 2/5\n",
      "70002/70002 [==============================] - 2s 35us/step - loss: 0.2829 - val_loss: 0.2658\n",
      "Epoch 3/5\n",
      "70002/70002 [==============================] - 2s 35us/step - loss: 0.0808 - val_loss: 0.2275\n",
      "Epoch 4/5\n",
      "70002/70002 [==============================] - 2s 35us/step - loss: 0.0431 - val_loss: 0.2150\n",
      "Epoch 5/5\n",
      "70002/70002 [==============================] - 3s 37us/step - loss: 0.0334 - val_loss: 0.2082\n"
     ]
    },
    {
     "data": {
      "text/plain": [
       "<keras.callbacks.History at 0xb1fee14e0>"
      ]
     },
     "execution_count": 64,
     "metadata": {},
     "output_type": "execute_result"
    }
   ],
   "source": [
    "cf.fit([user_array,movie_array],rating_array,epochs=5,shuffle=True,validation_split=.3,batch_size=512)"
   ]
  },
  {
   "cell_type": "markdown",
   "metadata": {},
   "source": [
    "### Deep Collaborative Filtering"
   ]
  },
  {
   "cell_type": "code",
   "execution_count": 70,
   "metadata": {},
   "outputs": [],
   "source": [
    "ipt_u, ebd_u = idx2vec(len(userId),\"user\")\n",
    "ipt_m, ebd_m = idx2vec(len(movieId),\"movie\")\n",
    "\n",
    "x = Multiply()([ebd_u,ebd_m])\n",
    "x = Flatten()(x)\n",
    "\n",
    "# The rest is multi-layer perceptron\n",
    "x = Dense(512,)(x)\n",
    "x = BatchNormalization()(x)\n",
    "x = Activation(\"relu\")(x)\n",
    "x = Dense(256,)(x)\n",
    "x = BatchNormalization()(x)\n",
    "x = Activation(\"relu\")(x)\n",
    "x = Dense(1,)(x)"
   ]
  },
  {
   "cell_type": "code",
   "execution_count": 71,
   "metadata": {},
   "outputs": [],
   "source": [
    "cf_dnn = Model([ipt_u,ipt_m],x)"
   ]
  },
  {
   "cell_type": "code",
   "execution_count": 72,
   "metadata": {},
   "outputs": [],
   "source": [
    "cf_dnn.compile(\"Adam\",loss=\"mse\",)"
   ]
  },
  {
   "cell_type": "code",
   "execution_count": 73,
   "metadata": {},
   "outputs": [
    {
     "name": "stdout",
     "output_type": "stream",
     "text": [
      "Train on 70002 samples, validate on 30002 samples\n",
      "Epoch 1/5\n",
      "70002/70002 [==============================] - 9s 132us/step - loss: 0.0703 - val_loss: 0.1544\n",
      "Epoch 2/5\n",
      "70002/70002 [==============================] - 8s 114us/step - loss: 0.0450 - val_loss: 0.1652\n",
      "Epoch 3/5\n",
      "70002/70002 [==============================] - 8s 114us/step - loss: 0.0386 - val_loss: 0.7633\n",
      "Epoch 4/5\n",
      "70002/70002 [==============================] - 8s 115us/step - loss: 0.0347 - val_loss: 0.0562\n",
      "Epoch 5/5\n",
      "70002/70002 [==============================] - 8s 116us/step - loss: 0.0321 - val_loss: 0.0553\n"
     ]
    },
    {
     "data": {
      "text/plain": [
       "<keras.callbacks.History at 0xb21f2b8d0>"
      ]
     },
     "execution_count": 73,
     "metadata": {},
     "output_type": "execute_result"
    }
   ],
   "source": [
    "cf_dnn.fit([user_array,movie_array],rating_array,epochs=5,shuffle=True,validation_split=.3,batch_size=512)"
   ]
  },
  {
   "cell_type": "code",
   "execution_count": null,
   "metadata": {},
   "outputs": [],
   "source": []
  }
 ],
 "metadata": {
  "kernelspec": {
   "display_name": "Python 3",
   "language": "python",
   "name": "python3"
  },
  "language_info": {
   "codemirror_mode": {
    "name": "ipython",
    "version": 3
   },
   "file_extension": ".py",
   "mimetype": "text/x-python",
   "name": "python",
   "nbconvert_exporter": "python",
   "pygments_lexer": "ipython3",
   "version": "3.6.5"
  }
 },
 "nbformat": 4,
 "nbformat_minor": 2
}
