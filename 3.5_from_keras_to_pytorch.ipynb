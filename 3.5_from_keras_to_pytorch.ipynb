{
 "cells": [
  {
   "cell_type": "markdown",
   "metadata": {},
   "source": [
    "# From Keras to Pytorch"
   ]
  },
  {
   "cell_type": "markdown",
   "metadata": {},
   "source": [
    "## Keras\n",
    "\n",
    "Yes yes, keras is friendlier for beginners.\n",
    "\n",
    "#### Work well with google's tensorflow\n",
    "Even the official [\"get started\" tutorial page of tensorflow](https://www.tensorflow.org/tutorials/) starts with keras api now (2019-07-12).\n",
    "\n",
    "#### Simplicity\n",
    "Keras doesn't complicate the DL when it's not necessary, like a dense layer should cost you a line of code, no more.\n",
    "\n",
    "And choosing optimizer, loss function, extra metrics, all in one line of code.\n",
    "\n",
    "#### Keras codes:\n",
    "For using keras. See the previous notebooks\n",
    "\n",
    "## Pytorch\n",
    "Pytorch is another level of awesomeness, if tensorflow isn't from google and bear its reputation, pytorch should have taken the industry by now.\n",
    "\n",
    "If you try reading paper, that has some interesting structure, method about DL, like different strategy between train/inference, several optimizer, a wierd shape of model and wierder strategy of updating them partially, or some time just a very unique loss function work with a very tailor made data generator.\n",
    "\n",
    "I used to do those edgy models with keras. It's hard, it's just hard. Like modify a luxury hotel for a school or a hospital or a jail or all kinds of other buildings. The overhaul on engineering alone is nightmare \n",
    "\n",
    "![search trends on deep learning lib](docs/dl_lib_trends.png)\n",
    "\n",
    "Among other convenient features, pytorch is trending, becoming the world's most used deep learning framework in AI labs.(Not yet for business)"
   ]
  },
  {
   "cell_type": "markdown",
   "metadata": {},
   "source": [
    "Requirements\n",
    "\n",
    "```\n",
    "python 3.6\n",
    "\n",
    "numpy == '1.14.3'\n",
    "pandas == '0.23.0'\n",
    "tensorflow == '1.8.0'\n",
    "keras == '2.2.0'\n",
    "```\n",
    "Other versions of above library will probably work"
   ]
  },
  {
   "cell_type": "code",
   "execution_count": 1,
   "metadata": {},
   "outputs": [],
   "source": [
    "from torchvision.datasets import FashionMNIST\n",
    "from torchvision import transforms"
   ]
  },
  {
   "cell_type": "code",
   "execution_count": 2,
   "metadata": {},
   "outputs": [],
   "source": [
    "transform = transforms.Compose([transforms.Resize((28,28)),\n",
    "                                transforms.Grayscale(),\n",
    "                                transforms.ToTensor(),\n",
    "                                transforms.Normalize([.5,.5,.5],\n",
    "                                                     [.5,.5,.5])])"
   ]
  },
  {
   "cell_type": "code",
   "execution_count": 3,
   "metadata": {},
   "outputs": [
    {
     "name": "stdout",
     "output_type": "stream",
     "text": [
      "Downloading http://fashion-mnist.s3-website.eu-central-1.amazonaws.com/train-images-idx3-ubyte.gz\n",
      "Downloading http://fashion-mnist.s3-website.eu-central-1.amazonaws.com/train-labels-idx1-ubyte.gz\n",
      "Downloading http://fashion-mnist.s3-website.eu-central-1.amazonaws.com/t10k-images-idx3-ubyte.gz\n",
      "Downloading http://fashion-mnist.s3-website.eu-central-1.amazonaws.com/t10k-labels-idx1-ubyte.gz\n",
      "Processing...\n",
      "Done!\n"
     ]
    }
   ],
   "source": [
    "ds = FashionMNIST(\"/data/fm\",train = True, \n",
    "              transform=transform,\n",
    "              download=True, # Set this to False second time you ran it\n",
    "             )"
   ]
  },
  {
   "cell_type": "code",
   "execution_count": 5,
   "metadata": {},
   "outputs": [],
   "source": [
    "from torch.utils.data import DataLoader"
   ]
  },
  {
   "cell_type": "code",
   "execution_count": null,
   "metadata": {},
   "outputs": [],
   "source": [
    "dl = DataLoader(ds,batch_size=)"
   ]
  }
 ],
 "metadata": {
  "kernelspec": {
   "display_name": "Python 3",
   "language": "python",
   "name": "python3"
  },
  "language_info": {
   "codemirror_mode": {
    "name": "ipython",
    "version": 3
   },
   "file_extension": ".py",
   "mimetype": "text/x-python",
   "name": "python",
   "nbconvert_exporter": "python",
   "pygments_lexer": "ipython3",
   "version": "3.6.5"
  }
 },
 "nbformat": 4,
 "nbformat_minor": 2
}
